{
 "cells": [
  {
   "cell_type": "markdown",
   "metadata": {},
   "source": [
    "#  <font color=maroon> Male Family Planning Analysis </font> #"
   ]
  },
  {
   "cell_type": "markdown",
   "metadata": {},
   "source": [
    "#### <font color=indigo>Sophia Atik, Applied Data Science, Spring 2019</font> ####"
   ]
  },
  {
   "cell_type": "markdown",
   "metadata": {},
   "source": [
    "The dataset I will be using is from the 2015 to 2017 National Survey of Family Growth from the CDC, specifically their Male Questionnaire data. [__[1](https://www.cdc.gov/nchs/data/nsfg/NSFG_2015_2017_UserGuide_MainText.pdf)__ __[2](https://www.cdc.gov/nchs/data/nsfg/NSFG_2015-2017_MaleCAPIlite_forPUF.pdf)__ __[3](ftp://ftp.cdc.gov/pub/Health_Statistics/NCHS/Datasets/NSFG/)__] The data contains demographic information about the men participating, along with when and where they learned about birth control, if they got a vasectomy and where they had the procedure, how many sexual partners do they have, what is their relationship with said partners, what form of birth control do they use, what form of birth control do their partners use, etc. This dataset also contains information about the family and children living in these men’s lives.  [__[1](https://www.cdc.gov/nchs/data/nsfg/NSFG_2015_2017_UserGuide_MainText.pdf)__ __[2](https://www.cdc.gov/nchs/data/nsfg/NSFG_2015-2017_MaleCAPIlite_forPUF.pdf)__ __[3](ftp://ftp.cdc.gov/pub/Health_Statistics/NCHS/Datasets/NSFG/)__] However, I am most interested in the use of birth control by men with their partners. \n",
    "\n",
    "Men only have two options when it comes to birth control: condoms and vasectomies. I am looking at this dataset to get a better understanding of what men in relationships chose to use as a form of birth control. What is great about this survey is that it also asks about the birth control that their partner is using, suggesting that men might just rely on their female partners for contraceptive methods.[__[2](https://www.cdc.gov/nchs/data/nsfg/NSFG_2015-2017_MaleCAPIlite_forPUF.pdf)__] I am also hoping this dataset will inform me on the situations when men are most likely to get a vasectomy (ie. what is the family dynamic at that time, what is the relationship status, how many children does he have, etc.). \n",
    "\n",
    "In order to best complete my analysis, I will be using the answers from the 2015 to 2017 National Survey of Family Growth Male Questionnaire that best paint the best picture of where this man is in life and see if there are any trends to indicate why he chose to get a vasectomy. \n",
    "\n"
   ]
  },
  {
   "cell_type": "markdown",
   "metadata": {},
   "source": [
    "-------------"
   ]
  },
  {
   "cell_type": "markdown",
   "metadata": {},
   "source": [
    "## <font color=Magenta>Importing My Dataset</font> ###"
   ]
  },
  {
   "cell_type": "markdown",
   "metadata": {},
   "source": [
    "I was finally able to upload my data by first downloading it into Strata. However, the school’s computer lab version of Stata can only load datasets with number of variables less than 2,040. The original dataset has 2,945 variables. I had to manually chop down the data by deleting columns that I knew I would not need to do my analysis. Below is the uploaded clipped raw data from the 2015-2017 Male Data file."
   ]
  },
  {
   "cell_type": "code",
   "execution_count": 101,
   "metadata": {},
   "outputs": [],
   "source": [
    "import pandas as pd    \n",
    "import numpy as np\n",
    "import seaborn as sns\n",
    "import statsmodels.formula.api as smf\n",
    "from sklearn.linear_model import Lasso\n",
    "from sklearn.model_selection import train_test_split\n",
    "from sklearn.ensemble import RandomForestRegressor\n",
    "import matplotlib.pyplot as plt\n"
   ]
  },
  {
   "cell_type": "code",
   "execution_count": 102,
   "metadata": {},
   "outputs": [
    {
     "data": {
      "text/html": [
       "<div>\n",
       "<style scoped>\n",
       "    .dataframe tbody tr th:only-of-type {\n",
       "        vertical-align: middle;\n",
       "    }\n",
       "\n",
       "    .dataframe tbody tr th {\n",
       "        vertical-align: top;\n",
       "    }\n",
       "\n",
       "    .dataframe thead th {\n",
       "        text-align: right;\n",
       "    }\n",
       "</style>\n",
       "<table border=\"1\" class=\"dataframe\">\n",
       "  <thead>\n",
       "    <tr style=\"text-align: right;\">\n",
       "      <th></th>\n",
       "      <th>CASEID</th>\n",
       "      <th>RSCRAGE</th>\n",
       "      <th>RSCRHISP</th>\n",
       "      <th>RSCRRACE</th>\n",
       "      <th>AGE_A</th>\n",
       "      <th>AGE_R</th>\n",
       "      <th>AGESCRN</th>\n",
       "      <th>HISP</th>\n",
       "      <th>HISPGRP</th>\n",
       "      <th>ROSCNT</th>\n",
       "      <th>...</th>\n",
       "      <th>PUBASSIS_I</th>\n",
       "      <th>WGT2015_2017</th>\n",
       "      <th>SECU</th>\n",
       "      <th>SEST</th>\n",
       "      <th>CMINTVW</th>\n",
       "      <th>CMLSTYR</th>\n",
       "      <th>CMFIVYR</th>\n",
       "      <th>QUARTER</th>\n",
       "      <th>PHASE</th>\n",
       "      <th>INTVWYEAR</th>\n",
       "    </tr>\n",
       "  </thead>\n",
       "  <tbody>\n",
       "    <tr>\n",
       "      <th>0</th>\n",
       "      <td>70622</td>\n",
       "      <td>29 years</td>\n",
       "      <td>No</td>\n",
       "      <td>3</td>\n",
       "      <td>29 years</td>\n",
       "      <td>29 years</td>\n",
       "      <td>29 years</td>\n",
       "      <td>No</td>\n",
       "      <td>NaN</td>\n",
       "      <td>3 HOUSEHOLD MEMBERS</td>\n",
       "      <td>...</td>\n",
       "      <td>QUESTIONNAIRE DATA (NOT IMPUTED)</td>\n",
       "      <td>11801.703471</td>\n",
       "      <td>1</td>\n",
       "      <td>366</td>\n",
       "      <td>1399</td>\n",
       "      <td>1387</td>\n",
       "      <td>1333</td>\n",
       "      <td>20</td>\n",
       "      <td>1</td>\n",
       "      <td>2016</td>\n",
       "    </tr>\n",
       "    <tr>\n",
       "      <th>1</th>\n",
       "      <td>70626</td>\n",
       "      <td>18 years</td>\n",
       "      <td>Yes</td>\n",
       "      <td>Black or African American</td>\n",
       "      <td>18 years</td>\n",
       "      <td>18 years</td>\n",
       "      <td>18 years</td>\n",
       "      <td>Yes</td>\n",
       "      <td>Mexican, Mexican American, or Chicano, only</td>\n",
       "      <td>6 HOUSEHOLD MEMBERS</td>\n",
       "      <td>...</td>\n",
       "      <td>QUESTIONNAIRE DATA (NOT IMPUTED)</td>\n",
       "      <td>5153.910962</td>\n",
       "      <td>1</td>\n",
       "      <td>309</td>\n",
       "      <td>1391</td>\n",
       "      <td>1379</td>\n",
       "      <td>1321</td>\n",
       "      <td>17</td>\n",
       "      <td>1</td>\n",
       "      <td>2015</td>\n",
       "    </tr>\n",
       "    <tr>\n",
       "      <th>2</th>\n",
       "      <td>70629</td>\n",
       "      <td>23 years</td>\n",
       "      <td>No</td>\n",
       "      <td>3</td>\n",
       "      <td>23 years</td>\n",
       "      <td>23 years</td>\n",
       "      <td>23 years</td>\n",
       "      <td>No</td>\n",
       "      <td>NaN</td>\n",
       "      <td>3 HOUSEHOLD MEMBERS</td>\n",
       "      <td>...</td>\n",
       "      <td>QUESTIONNAIRE DATA (NOT IMPUTED)</td>\n",
       "      <td>10293.100099</td>\n",
       "      <td>4</td>\n",
       "      <td>351</td>\n",
       "      <td>1405</td>\n",
       "      <td>1393</td>\n",
       "      <td>1345</td>\n",
       "      <td>22</td>\n",
       "      <td>1</td>\n",
       "      <td>2017</td>\n",
       "    </tr>\n",
       "    <tr>\n",
       "      <th>3</th>\n",
       "      <td>70631</td>\n",
       "      <td>17 years</td>\n",
       "      <td>No</td>\n",
       "      <td>3</td>\n",
       "      <td>17 years</td>\n",
       "      <td>17 years</td>\n",
       "      <td>17 years</td>\n",
       "      <td>No</td>\n",
       "      <td>NaN</td>\n",
       "      <td>4 HOUSEHOLD MEMBERS</td>\n",
       "      <td>...</td>\n",
       "      <td>QUESTIONNAIRE DATA (NOT IMPUTED)</td>\n",
       "      <td>14236.029179</td>\n",
       "      <td>1</td>\n",
       "      <td>364</td>\n",
       "      <td>1403</td>\n",
       "      <td>1391</td>\n",
       "      <td>1333</td>\n",
       "      <td>21</td>\n",
       "      <td>1</td>\n",
       "      <td>2016</td>\n",
       "    </tr>\n",
       "    <tr>\n",
       "      <th>4</th>\n",
       "      <td>70636</td>\n",
       "      <td>37 years</td>\n",
       "      <td>No</td>\n",
       "      <td>3</td>\n",
       "      <td>37 years</td>\n",
       "      <td>37 years</td>\n",
       "      <td>37 years</td>\n",
       "      <td>No</td>\n",
       "      <td>NaN</td>\n",
       "      <td>2 HOUSEHOLD MEMBERS</td>\n",
       "      <td>...</td>\n",
       "      <td>QUESTIONNAIRE DATA (NOT IMPUTED)</td>\n",
       "      <td>11320.650257</td>\n",
       "      <td>4</td>\n",
       "      <td>343</td>\n",
       "      <td>1393</td>\n",
       "      <td>1381</td>\n",
       "      <td>1333</td>\n",
       "      <td>18</td>\n",
       "      <td>1</td>\n",
       "      <td>2016</td>\n",
       "    </tr>\n",
       "  </tbody>\n",
       "</table>\n",
       "<p>5 rows × 1951 columns</p>\n",
       "</div>"
      ],
      "text/plain": [
       "   CASEID   RSCRAGE RSCRHISP                   RSCRRACE     AGE_A     AGE_R  \\\n",
       "0   70622  29 years       No                          3  29 years  29 years   \n",
       "1   70626  18 years      Yes  Black or African American  18 years  18 years   \n",
       "2   70629  23 years       No                          3  23 years  23 years   \n",
       "3   70631  17 years       No                          3  17 years  17 years   \n",
       "4   70636  37 years       No                          3  37 years  37 years   \n",
       "\n",
       "    AGESCRN HISP                                      HISPGRP  \\\n",
       "0  29 years   No                                          NaN   \n",
       "1  18 years  Yes  Mexican, Mexican American, or Chicano, only   \n",
       "2  23 years   No                                          NaN   \n",
       "3  17 years   No                                          NaN   \n",
       "4  37 years   No                                          NaN   \n",
       "\n",
       "                ROSCNT  ...                        PUBASSIS_I  WGT2015_2017  \\\n",
       "0  3 HOUSEHOLD MEMBERS  ...  QUESTIONNAIRE DATA (NOT IMPUTED)  11801.703471   \n",
       "1  6 HOUSEHOLD MEMBERS  ...  QUESTIONNAIRE DATA (NOT IMPUTED)   5153.910962   \n",
       "2  3 HOUSEHOLD MEMBERS  ...  QUESTIONNAIRE DATA (NOT IMPUTED)  10293.100099   \n",
       "3  4 HOUSEHOLD MEMBERS  ...  QUESTIONNAIRE DATA (NOT IMPUTED)  14236.029179   \n",
       "4  2 HOUSEHOLD MEMBERS  ...  QUESTIONNAIRE DATA (NOT IMPUTED)  11320.650257   \n",
       "\n",
       "  SECU SEST CMINTVW CMLSTYR CMFIVYR QUARTER PHASE INTVWYEAR  \n",
       "0    1  366    1399    1387    1333      20     1      2016  \n",
       "1    1  309    1391    1379    1321      17     1      2015  \n",
       "2    4  351    1405    1393    1345      22     1      2017  \n",
       "3    1  364    1403    1391    1333      21     1      2016  \n",
       "4    4  343    1393    1381    1333      18     1      2016  \n",
       "\n",
       "[5 rows x 1951 columns]"
      ]
     },
     "execution_count": 102,
     "metadata": {},
     "output_type": "execute_result"
    }
   ],
   "source": [
    "df = pd.read_stata('Raw_Data_Clipped.dta')\n",
    "df.head()"
   ]
  },
  {
   "cell_type": "markdown",
   "metadata": {},
   "source": [
    "-------------"
   ]
  },
  {
   "cell_type": "markdown",
   "metadata": {},
   "source": [
    "## <font color=Magenta>Cleaning My Data</font> ###"
   ]
  },
  {
   "cell_type": "markdown",
   "metadata": {},
   "source": [
    "The first thing I do is look through the list of variables collected __[from this document](https://www.cdc.gov/nchs/data/nsfg/NSFG_2015-2017_UG_App1c_FileIndex_Male.pdf)__ and select those specific columns that I would need for my analysis. "
   ]
  },
  {
   "cell_type": "markdown",
   "metadata": {},
   "source": [
    "Next, I cleaned my data. In order to be able to some analysis, I had to make sure some important variables were recorded as numbers. Below is the code I used to eliminate words in the variables or trim down the variables to an appropriate length of words. You may also find some basic analysis in this section. I did this to check my work as I went along."
   ]
  },
  {
   "cell_type": "code",
   "execution_count": 103,
   "metadata": {},
   "outputs": [],
   "source": [
    "#KMM the Data Assistant helped me figure this out. \n",
    "df[\"RSCRAGE\"].head()\n",
    "#Main issue - running the above reported strings with years\n",
    "\n",
    "df2 = df \n",
    "#Solution - re-run code\n",
    "df2['RSCRAGE'] = df2['RSCRAGE'].str.replace('years','')\n",
    "\n",
    "#import pandas as pd \n",
    "df2[\"RSCRAGE\"] = pd.to_numeric(df2[\"RSCRAGE\"])"
   ]
  },
  {
   "cell_type": "code",
   "execution_count": 119,
   "metadata": {},
   "outputs": [
    {
     "data": {
      "text/plain": [
       "count    4536.000000\n",
       "mean       30.404762\n",
       "std        10.135084\n",
       "min        15.000000\n",
       "25%        21.000000\n",
       "50%        30.000000\n",
       "75%        39.000000\n",
       "max        49.000000\n",
       "Name: RSCRAGE, dtype: float64"
      ]
     },
     "execution_count": 119,
     "metadata": {},
     "output_type": "execute_result"
    }
   ],
   "source": [
    "# Here I run basic stats on the age of the men in the interviews.\n",
    "df_everoper.RSCRAGE.describe()"
   ]
  },
  {
   "cell_type": "code",
   "execution_count": 120,
   "metadata": {},
   "outputs": [
    {
     "data": {
      "text/plain": [
       "<matplotlib.axes._subplots.AxesSubplot at 0x117678f28>"
      ]
     },
     "execution_count": 120,
     "metadata": {},
     "output_type": "execute_result"
    },
    {
     "data": {
      "image/png": "[encoded data removed]",
      "text/plain": [
       "<Figure size 1080x360 with 1 Axes>"
      ]
     },
     "metadata": {
      "needs_background": "light"
     },
     "output_type": "display_data"
    }
   ],
   "source": [
    "# Showing a basic distribution of the age of men interviews using a histogram.\n",
    "df_everoper.groupby('RSCRAGE')['RSCRAGE'].count().plot.bar(rot=0, figsize=(15,5))"
   ]
  },
  {
   "cell_type": "code",
   "execution_count": 104,
   "metadata": {},
   "outputs": [],
   "source": [
    "# I do not care about what the 'yearly salaries' equal in 'weekly' and 'monthly'. I want the variable to only be recorded as 'yearly'.\n",
    "def extract(slry):\n",
    "    if(slry == \"Don't know\" or slry == \"Refused\" or slry == \"Not ascertained\"):\n",
    "        res = slry\n",
    "    else:\n",
    "        res = slry.split('/')[2]\n",
    "    return res                       "
   ]
  },
  {
   "cell_type": "code",
   "execution_count": 105,
   "metadata": {},
   "outputs": [],
   "source": [
    "df2['Salary_Range']= df2['TOTINC'].apply(extract)"
   ]
  },
  {
   "cell_type": "code",
   "execution_count": 106,
   "metadata": {},
   "outputs": [
    {
     "data": {
      "text/plain": [
       "0    $50,000-59,999 (yearly)\n",
       "1    $20,000-24,999 (yearly)\n",
       "2                 Don't know\n",
       "3    $75,000-99,999 (yearly)\n",
       "4    $60,000-74,999 (yearly)\n",
       "Name: Salary_Range, dtype: category\n",
       "Categories (18, object): [Under $5,000 (yearly) < $5,000-7,499 (yearly) < $7,500-9,999 (yearly) < $10,000-12,499 (yearly) ... $100,000 or more (yearly) < Not ascertained < Refused < Don't know]"
      ]
     },
     "execution_count": 106,
     "metadata": {},
     "output_type": "execute_result"
    }
   ],
   "source": [
    "df2['Salary_Range'].head()"
   ]
  },
  {
   "cell_type": "code",
   "execution_count": 107,
   "metadata": {},
   "outputs": [
    {
     "data": {
      "text/plain": [
       "NO CHILDREN           3229\n",
       "2 CHILDREN             516\n",
       "1 CHILD                516\n",
       "3 CHILDREN             198\n",
       "4 CHILDREN OR MORE      81\n",
       "Name: NUMKDHH, dtype: int64"
      ]
     },
     "execution_count": 107,
     "metadata": {},
     "output_type": "execute_result"
    }
   ],
   "source": [
    "# I need the number of children to be recorded as scalar numbers in order to complete my analysis.\n",
    "df2['NUMKDHH'].value_counts()"
   ]
  },
  {
   "cell_type": "code",
   "execution_count": 170,
   "metadata": {},
   "outputs": [],
   "source": [
    "def extract2(numkids):\n",
    "    if(numkids == \"NO CHILDREN\"):\n",
    "        res = 0\n",
    "    else:\n",
    "        res = numkids.split(' ')[0]\n",
    "    return res"
   ]
  },
  {
   "cell_type": "code",
   "execution_count": 171,
   "metadata": {},
   "outputs": [],
   "source": [
    "df2['Number_Kids']= df2['NUMKDHH'].apply(extract2)"
   ]
  },
  {
   "cell_type": "code",
   "execution_count": 172,
   "metadata": {},
   "outputs": [
    {
     "data": {
      "text/plain": [
       "0    3229\n",
       "2     516\n",
       "1     516\n",
       "3     198\n",
       "4      81\n",
       "Name: Number_Kids, dtype: int64"
      ]
     },
     "execution_count": 172,
     "metadata": {},
     "output_type": "execute_result"
    }
   ],
   "source": [
    "df2['Number_Kids'].value_counts()"
   ]
  },
  {
   "cell_type": "code",
   "execution_count": 173,
   "metadata": {},
   "outputs": [],
   "source": [
    "df2[\"Number_Kids\"] = pd.to_numeric(df2[\"Number_Kids\"])"
   ]
  },
  {
   "cell_type": "code",
   "execution_count": 174,
   "metadata": {},
   "outputs": [
    {
     "data": {
      "text/plain": [
       "count    4540.000000\n",
       "mean        0.543172\n",
       "std         0.975412\n",
       "min         0.000000\n",
       "25%         0.000000\n",
       "50%         0.000000\n",
       "75%         1.000000\n",
       "max         4.000000\n",
       "Name: Number_Kids, dtype: float64"
      ]
     },
     "execution_count": 174,
     "metadata": {},
     "output_type": "execute_result"
    }
   ],
   "source": [
    "#Basic stats on the number of kids.\n",
    "df2['Number_Kids'].describe()"
   ]
  },
  {
   "cell_type": "markdown",
   "metadata": {},
   "source": [
    "_____"
   ]
  },
  {
   "cell_type": "markdown",
   "metadata": {},
   "source": [
    "Because I am most curious about men who have gotten a vasectomy, I needed to seperate those who have and those who have not had the operation. Below I remove people who refused to answer the question or did not know the answer to the question. I then turned the variable from an object to a boolean variable for an easier analysis."
   ]
  },
  {
   "cell_type": "markdown",
   "metadata": {},
   "source": [
    "_____"
   ]
  },
  {
   "cell_type": "code",
   "execution_count": 113,
   "metadata": {},
   "outputs": [],
   "source": [
    "mask_refused = df2['EVEROPER'] == 'Refused'\n",
    "mask_dont = df2['EVEROPER'] == 'Don\\'t know'\n",
    "# mask_remainder2 = (df2['EVEROPER'] != 'Don\\'t know') & (df2['EVEROPER'] != 'Refused')\n",
    "mask_remainder = ~mask_refused & ~mask_dont"
   ]
  },
  {
   "cell_type": "code",
   "execution_count": 114,
   "metadata": {},
   "outputs": [
    {
     "data": {
      "text/plain": [
       "(4540, 1, 3, 4536)"
      ]
     },
     "execution_count": 114,
     "metadata": {},
     "output_type": "execute_result"
    }
   ],
   "source": [
    "len(df2), len(df2[mask_dont]), len(df2[mask_refused]), len(df2[mask_remainder])"
   ]
  },
  {
   "cell_type": "code",
   "execution_count": 115,
   "metadata": {},
   "outputs": [
    {
     "data": {
      "text/html": [
       "<div>\n",
       "<style scoped>\n",
       "    .dataframe tbody tr th:only-of-type {\n",
       "        vertical-align: middle;\n",
       "    }\n",
       "\n",
       "    .dataframe tbody tr th {\n",
       "        vertical-align: top;\n",
       "    }\n",
       "\n",
       "    .dataframe thead th {\n",
       "        text-align: right;\n",
       "    }\n",
       "</style>\n",
       "<table border=\"1\" class=\"dataframe\">\n",
       "  <thead>\n",
       "    <tr style=\"text-align: right;\">\n",
       "      <th></th>\n",
       "      <th>CASEID</th>\n",
       "      <th>RSCRAGE</th>\n",
       "      <th>RSCRHISP</th>\n",
       "      <th>RSCRRACE</th>\n",
       "      <th>AGE_A</th>\n",
       "      <th>AGE_R</th>\n",
       "      <th>AGESCRN</th>\n",
       "      <th>HISP</th>\n",
       "      <th>HISPGRP</th>\n",
       "      <th>ROSCNT</th>\n",
       "      <th>...</th>\n",
       "      <th>SECU</th>\n",
       "      <th>SEST</th>\n",
       "      <th>CMINTVW</th>\n",
       "      <th>CMLSTYR</th>\n",
       "      <th>CMFIVYR</th>\n",
       "      <th>QUARTER</th>\n",
       "      <th>PHASE</th>\n",
       "      <th>INTVWYEAR</th>\n",
       "      <th>Salary_Range</th>\n",
       "      <th>Number_Kids</th>\n",
       "    </tr>\n",
       "  </thead>\n",
       "  <tbody>\n",
       "    <tr>\n",
       "      <th>0</th>\n",
       "      <td>70622</td>\n",
       "      <td>29</td>\n",
       "      <td>No</td>\n",
       "      <td>3</td>\n",
       "      <td>29 years</td>\n",
       "      <td>29 years</td>\n",
       "      <td>29 years</td>\n",
       "      <td>No</td>\n",
       "      <td>NaN</td>\n",
       "      <td>3 HOUSEHOLD MEMBERS</td>\n",
       "      <td>...</td>\n",
       "      <td>1</td>\n",
       "      <td>366</td>\n",
       "      <td>1399</td>\n",
       "      <td>1387</td>\n",
       "      <td>1333</td>\n",
       "      <td>20</td>\n",
       "      <td>1</td>\n",
       "      <td>2016</td>\n",
       "      <td>$50,000-59,999 (yearly)</td>\n",
       "      <td>1</td>\n",
       "    </tr>\n",
       "    <tr>\n",
       "      <th>1</th>\n",
       "      <td>70626</td>\n",
       "      <td>18</td>\n",
       "      <td>Yes</td>\n",
       "      <td>Black or African American</td>\n",
       "      <td>18 years</td>\n",
       "      <td>18 years</td>\n",
       "      <td>18 years</td>\n",
       "      <td>Yes</td>\n",
       "      <td>Mexican, Mexican American, or Chicano, only</td>\n",
       "      <td>6 HOUSEHOLD MEMBERS</td>\n",
       "      <td>...</td>\n",
       "      <td>1</td>\n",
       "      <td>309</td>\n",
       "      <td>1391</td>\n",
       "      <td>1379</td>\n",
       "      <td>1321</td>\n",
       "      <td>17</td>\n",
       "      <td>1</td>\n",
       "      <td>2015</td>\n",
       "      <td>$20,000-24,999 (yearly)</td>\n",
       "      <td>0</td>\n",
       "    </tr>\n",
       "    <tr>\n",
       "      <th>2</th>\n",
       "      <td>70629</td>\n",
       "      <td>23</td>\n",
       "      <td>No</td>\n",
       "      <td>3</td>\n",
       "      <td>23 years</td>\n",
       "      <td>23 years</td>\n",
       "      <td>23 years</td>\n",
       "      <td>No</td>\n",
       "      <td>NaN</td>\n",
       "      <td>3 HOUSEHOLD MEMBERS</td>\n",
       "      <td>...</td>\n",
       "      <td>4</td>\n",
       "      <td>351</td>\n",
       "      <td>1405</td>\n",
       "      <td>1393</td>\n",
       "      <td>1345</td>\n",
       "      <td>22</td>\n",
       "      <td>1</td>\n",
       "      <td>2017</td>\n",
       "      <td>Don't know</td>\n",
       "      <td>0</td>\n",
       "    </tr>\n",
       "    <tr>\n",
       "      <th>3</th>\n",
       "      <td>70631</td>\n",
       "      <td>17</td>\n",
       "      <td>No</td>\n",
       "      <td>3</td>\n",
       "      <td>17 years</td>\n",
       "      <td>17 years</td>\n",
       "      <td>17 years</td>\n",
       "      <td>No</td>\n",
       "      <td>NaN</td>\n",
       "      <td>4 HOUSEHOLD MEMBERS</td>\n",
       "      <td>...</td>\n",
       "      <td>1</td>\n",
       "      <td>364</td>\n",
       "      <td>1403</td>\n",
       "      <td>1391</td>\n",
       "      <td>1333</td>\n",
       "      <td>21</td>\n",
       "      <td>1</td>\n",
       "      <td>2016</td>\n",
       "      <td>$75,000-99,999 (yearly)</td>\n",
       "      <td>0</td>\n",
       "    </tr>\n",
       "    <tr>\n",
       "      <th>4</th>\n",
       "      <td>70636</td>\n",
       "      <td>37</td>\n",
       "      <td>No</td>\n",
       "      <td>3</td>\n",
       "      <td>37 years</td>\n",
       "      <td>37 years</td>\n",
       "      <td>37 years</td>\n",
       "      <td>No</td>\n",
       "      <td>NaN</td>\n",
       "      <td>2 HOUSEHOLD MEMBERS</td>\n",
       "      <td>...</td>\n",
       "      <td>4</td>\n",
       "      <td>343</td>\n",
       "      <td>1393</td>\n",
       "      <td>1381</td>\n",
       "      <td>1333</td>\n",
       "      <td>18</td>\n",
       "      <td>1</td>\n",
       "      <td>2016</td>\n",
       "      <td>$60,000-74,999 (yearly)</td>\n",
       "      <td>0</td>\n",
       "    </tr>\n",
       "  </tbody>\n",
       "</table>\n",
       "<p>5 rows × 1953 columns</p>\n",
       "</div>"
      ],
      "text/plain": [
       "   CASEID  RSCRAGE RSCRHISP                   RSCRRACE     AGE_A     AGE_R  \\\n",
       "0   70622       29       No                          3  29 years  29 years   \n",
       "1   70626       18      Yes  Black or African American  18 years  18 years   \n",
       "2   70629       23       No                          3  23 years  23 years   \n",
       "3   70631       17       No                          3  17 years  17 years   \n",
       "4   70636       37       No                          3  37 years  37 years   \n",
       "\n",
       "    AGESCRN HISP                                      HISPGRP  \\\n",
       "0  29 years   No                                          NaN   \n",
       "1  18 years  Yes  Mexican, Mexican American, or Chicano, only   \n",
       "2  23 years   No                                          NaN   \n",
       "3  17 years   No                                          NaN   \n",
       "4  37 years   No                                          NaN   \n",
       "\n",
       "                ROSCNT  ... SECU SEST CMINTVW CMLSTYR CMFIVYR QUARTER PHASE  \\\n",
       "0  3 HOUSEHOLD MEMBERS  ...    1  366    1399    1387    1333      20     1   \n",
       "1  6 HOUSEHOLD MEMBERS  ...    1  309    1391    1379    1321      17     1   \n",
       "2  3 HOUSEHOLD MEMBERS  ...    4  351    1405    1393    1345      22     1   \n",
       "3  4 HOUSEHOLD MEMBERS  ...    1  364    1403    1391    1333      21     1   \n",
       "4  2 HOUSEHOLD MEMBERS  ...    4  343    1393    1381    1333      18     1   \n",
       "\n",
       "  INTVWYEAR             Salary_Range Number_Kids  \n",
       "0      2016  $50,000-59,999 (yearly)           1  \n",
       "1      2015  $20,000-24,999 (yearly)           0  \n",
       "2      2017               Don't know           0  \n",
       "3      2016  $75,000-99,999 (yearly)           0  \n",
       "4      2016  $60,000-74,999 (yearly)           0  \n",
       "\n",
       "[5 rows x 1953 columns]"
      ]
     },
     "execution_count": 115,
     "metadata": {},
     "output_type": "execute_result"
    }
   ],
   "source": [
    "df_everoper=df2[mask_remainder]\n",
    "df_everoper.head()"
   ]
  },
  {
   "cell_type": "code",
   "execution_count": 116,
   "metadata": {},
   "outputs": [],
   "source": [
    "df_everoper.EVEROPER.replace(('Yes', 'No'), (1, 0), inplace=True)"
   ]
  },
  {
   "cell_type": "code",
   "execution_count": 117,
   "metadata": {},
   "outputs": [
    {
     "data": {
      "text/plain": [
       "0    4331\n",
       "1     205\n",
       "Name: EVEROPER, dtype: int64"
      ]
     },
     "execution_count": 117,
     "metadata": {},
     "output_type": "execute_result"
    }
   ],
   "source": [
    "#The final count of men who either got or did not get a vasectomy.\n",
    "df_everoper.EVEROPER.value_counts()"
   ]
  },
  {
   "cell_type": "code",
   "execution_count": 118,
   "metadata": {},
   "outputs": [
    {
     "data": {
      "text/plain": [
       "No    200\n",
       "Name: RVRSVAS, dtype: int64"
      ]
     },
     "execution_count": 118,
     "metadata": {},
     "output_type": "execute_result"
    }
   ],
   "source": [
    "#This is the count of men who recorded getting a vasectomy reversal.\n",
    "df_everoper.RVRSVAS.value_counts()"
   ]
  },
  {
   "cell_type": "code",
   "execution_count": null,
   "metadata": {},
   "outputs": [],
   "source": [
    "# I know that 205 men got a vasectomy adn that 200 did NOT get a reversal. \n",
    "# I can not assume that 5 men did get a reversal. If they did get a reversal, they would have answered 'Yes'."
   ]
  },
  {
   "cell_type": "markdown",
   "metadata": {},
   "source": [
    "_____"
   ]
  },
  {
   "cell_type": "markdown",
   "metadata": {},
   "source": [
    "I am most interested in doing my analysis on men that have previously had a vasectomy procedure. These men are already involved in family planning, are already taking contraceptive control, and would be the men most likely to use a male birth control option in the future. Therefore, I isolate the men who said \"yes\" to have previously had a sterilization operation from the rest of the dataset."
   ]
  },
  {
   "cell_type": "markdown",
   "metadata": {},
   "source": [
    "_____"
   ]
  },
  {
   "cell_type": "code",
   "execution_count": 121,
   "metadata": {},
   "outputs": [],
   "source": [
    "# Creating a data frame for only the men that had a vasectomy.\n",
    "df_vasoper = df_everoper[df_everoper['EVEROPER'] == 1]"
   ]
  },
  {
   "cell_type": "code",
   "execution_count": 122,
   "metadata": {},
   "outputs": [
    {
     "data": {
      "text/plain": [
       "205"
      ]
     },
     "execution_count": 122,
     "metadata": {},
     "output_type": "execute_result"
    }
   ],
   "source": [
    "len(df_vasoper)"
   ]
  },
  {
   "cell_type": "code",
   "execution_count": 123,
   "metadata": {},
   "outputs": [
    {
     "data": {
      "text/html": [
       "<div>\n",
       "<style scoped>\n",
       "    .dataframe tbody tr th:only-of-type {\n",
       "        vertical-align: middle;\n",
       "    }\n",
       "\n",
       "    .dataframe tbody tr th {\n",
       "        vertical-align: top;\n",
       "    }\n",
       "\n",
       "    .dataframe thead th {\n",
       "        text-align: right;\n",
       "    }\n",
       "</style>\n",
       "<table border=\"1\" class=\"dataframe\">\n",
       "  <thead>\n",
       "    <tr style=\"text-align: right;\">\n",
       "      <th></th>\n",
       "      <th>CASEID</th>\n",
       "      <th>RSCRAGE</th>\n",
       "      <th>RSCRHISP</th>\n",
       "      <th>RSCRRACE</th>\n",
       "      <th>AGE_A</th>\n",
       "      <th>AGE_R</th>\n",
       "      <th>AGESCRN</th>\n",
       "      <th>HISP</th>\n",
       "      <th>HISPGRP</th>\n",
       "      <th>ROSCNT</th>\n",
       "      <th>...</th>\n",
       "      <th>SECU</th>\n",
       "      <th>SEST</th>\n",
       "      <th>CMINTVW</th>\n",
       "      <th>CMLSTYR</th>\n",
       "      <th>CMFIVYR</th>\n",
       "      <th>QUARTER</th>\n",
       "      <th>PHASE</th>\n",
       "      <th>INTVWYEAR</th>\n",
       "      <th>Salary_Range</th>\n",
       "      <th>Number_Kids</th>\n",
       "    </tr>\n",
       "  </thead>\n",
       "  <tbody>\n",
       "    <tr>\n",
       "      <th>81</th>\n",
       "      <td>70799</td>\n",
       "      <td>33</td>\n",
       "      <td>No</td>\n",
       "      <td>3</td>\n",
       "      <td>33 years</td>\n",
       "      <td>33 years</td>\n",
       "      <td>33 years</td>\n",
       "      <td>No</td>\n",
       "      <td>NaN</td>\n",
       "      <td>2 HOUSEHOLD MEMBERS</td>\n",
       "      <td>...</td>\n",
       "      <td>3</td>\n",
       "      <td>329</td>\n",
       "      <td>1398</td>\n",
       "      <td>1386</td>\n",
       "      <td>1333</td>\n",
       "      <td>19</td>\n",
       "      <td>2</td>\n",
       "      <td>2016</td>\n",
       "      <td>$50,000-59,999 (yearly)</td>\n",
       "      <td>1</td>\n",
       "    </tr>\n",
       "    <tr>\n",
       "      <th>108</th>\n",
       "      <td>70858</td>\n",
       "      <td>46</td>\n",
       "      <td>No</td>\n",
       "      <td>3</td>\n",
       "      <td>46 years</td>\n",
       "      <td>46 years</td>\n",
       "      <td>46 years</td>\n",
       "      <td>No</td>\n",
       "      <td>NaN</td>\n",
       "      <td>2 HOUSEHOLD MEMBERS</td>\n",
       "      <td>...</td>\n",
       "      <td>3</td>\n",
       "      <td>309</td>\n",
       "      <td>1396</td>\n",
       "      <td>1384</td>\n",
       "      <td>1333</td>\n",
       "      <td>19</td>\n",
       "      <td>1</td>\n",
       "      <td>2016</td>\n",
       "      <td>$100,000 or more (yearly)</td>\n",
       "      <td>0</td>\n",
       "    </tr>\n",
       "    <tr>\n",
       "      <th>116</th>\n",
       "      <td>70878</td>\n",
       "      <td>41</td>\n",
       "      <td>No</td>\n",
       "      <td>3</td>\n",
       "      <td>41 years</td>\n",
       "      <td>41 years</td>\n",
       "      <td>41 years</td>\n",
       "      <td>No</td>\n",
       "      <td>NaN</td>\n",
       "      <td>1 HOUSEHOLD MEMBER</td>\n",
       "      <td>...</td>\n",
       "      <td>2</td>\n",
       "      <td>367</td>\n",
       "      <td>1408</td>\n",
       "      <td>1396</td>\n",
       "      <td>1345</td>\n",
       "      <td>23</td>\n",
       "      <td>1</td>\n",
       "      <td>2017</td>\n",
       "      <td>$100,000 or more (yearly)</td>\n",
       "      <td>0</td>\n",
       "    </tr>\n",
       "    <tr>\n",
       "      <th>124</th>\n",
       "      <td>70908</td>\n",
       "      <td>48</td>\n",
       "      <td>No</td>\n",
       "      <td>3</td>\n",
       "      <td>48 years</td>\n",
       "      <td>48 years</td>\n",
       "      <td>48 years</td>\n",
       "      <td>No</td>\n",
       "      <td>NaN</td>\n",
       "      <td>3 HOUSEHOLD MEMBERS</td>\n",
       "      <td>...</td>\n",
       "      <td>4</td>\n",
       "      <td>312</td>\n",
       "      <td>1389</td>\n",
       "      <td>1377</td>\n",
       "      <td>1321</td>\n",
       "      <td>17</td>\n",
       "      <td>1</td>\n",
       "      <td>2015</td>\n",
       "      <td>$60,000-74,999 (yearly)</td>\n",
       "      <td>2</td>\n",
       "    </tr>\n",
       "    <tr>\n",
       "      <th>166</th>\n",
       "      <td>71006</td>\n",
       "      <td>48</td>\n",
       "      <td>No</td>\n",
       "      <td>3</td>\n",
       "      <td>48 years</td>\n",
       "      <td>48 years</td>\n",
       "      <td>48 years</td>\n",
       "      <td>No</td>\n",
       "      <td>NaN</td>\n",
       "      <td>5 HOUSEHOLD MEMBERS</td>\n",
       "      <td>...</td>\n",
       "      <td>1</td>\n",
       "      <td>351</td>\n",
       "      <td>1392</td>\n",
       "      <td>1380</td>\n",
       "      <td>1321</td>\n",
       "      <td>17</td>\n",
       "      <td>2</td>\n",
       "      <td>2015</td>\n",
       "      <td>$100,000 or more (yearly)</td>\n",
       "      <td>2</td>\n",
       "    </tr>\n",
       "  </tbody>\n",
       "</table>\n",
       "<p>5 rows × 1953 columns</p>\n",
       "</div>"
      ],
      "text/plain": [
       "     CASEID  RSCRAGE RSCRHISP RSCRRACE     AGE_A     AGE_R   AGESCRN HISP  \\\n",
       "81    70799       33       No        3  33 years  33 years  33 years   No   \n",
       "108   70858       46       No        3  46 years  46 years  46 years   No   \n",
       "116   70878       41       No        3  41 years  41 years  41 years   No   \n",
       "124   70908       48       No        3  48 years  48 years  48 years   No   \n",
       "166   71006       48       No        3  48 years  48 years  48 years   No   \n",
       "\n",
       "    HISPGRP               ROSCNT  ... SECU SEST CMINTVW CMLSTYR CMFIVYR  \\\n",
       "81      NaN  2 HOUSEHOLD MEMBERS  ...    3  329    1398    1386    1333   \n",
       "108     NaN  2 HOUSEHOLD MEMBERS  ...    3  309    1396    1384    1333   \n",
       "116     NaN   1 HOUSEHOLD MEMBER  ...    2  367    1408    1396    1345   \n",
       "124     NaN  3 HOUSEHOLD MEMBERS  ...    4  312    1389    1377    1321   \n",
       "166     NaN  5 HOUSEHOLD MEMBERS  ...    1  351    1392    1380    1321   \n",
       "\n",
       "    QUARTER PHASE INTVWYEAR               Salary_Range Number_Kids  \n",
       "81       19     2      2016    $50,000-59,999 (yearly)           1  \n",
       "108      19     1      2016  $100,000 or more (yearly)           0  \n",
       "116      23     1      2017  $100,000 or more (yearly)           0  \n",
       "124      17     1      2015    $60,000-74,999 (yearly)           2  \n",
       "166      17     2      2015  $100,000 or more (yearly)           2  \n",
       "\n",
       "[5 rows x 1953 columns]"
      ]
     },
     "execution_count": 123,
     "metadata": {},
     "output_type": "execute_result"
    }
   ],
   "source": [
    "df_vasoper.head()"
   ]
  },
  {
   "cell_type": "code",
   "execution_count": 131,
   "metadata": {},
   "outputs": [
    {
     "data": {
      "text/plain": [
       "2012.0        23\n",
       "2015.0        22\n",
       "2014.0        17\n",
       "2013.0        13\n",
       "2007.0        11\n",
       "2005.0        11\n",
       "2011.0        11\n",
       "2010.0        11\n",
       "2009.0        10\n",
       "2008.0        10\n",
       "2006.0         9\n",
       "2003.0         8\n",
       "2016.0         8\n",
       "2004.0         6\n",
       "1996.0         6\n",
       "2000.0         5\n",
       "2002.0         4\n",
       "2001.0         3\n",
       "1992.0         2\n",
       "2017.0         2\n",
       "1998.0         2\n",
       "1997.0         2\n",
       "1988.0         1\n",
       "1990.0         1\n",
       "1991.0         1\n",
       "Don't know     1\n",
       "1993.0         1\n",
       "1994.0         1\n",
       "1999.0         1\n",
       "1985.0         1\n",
       "Name: VASEC_Y, dtype: int64"
      ]
     },
     "execution_count": 131,
     "metadata": {},
     "output_type": "execute_result"
    }
   ],
   "source": [
    "# Here is my attempt to get rid of the one man who said he did not know what year he had a vasectomy. If this had worked, it would have really helped my analysis.\n",
    "df_vasoper[df_vasoper['VASEC_Y'] != 'Don\\'t know']\n",
    "df_vasoper['VASEC_Y'].value_counts()"
   ]
  },
  {
   "cell_type": "markdown",
   "metadata": {},
   "source": [
    "-------------"
   ]
  },
  {
   "cell_type": "markdown",
   "metadata": {},
   "source": [
    "## <font color=Magenta>Main Analysis<font> ###"
   ]
  },
  {
   "cell_type": "markdown",
   "metadata": {},
   "source": [
    "Below is my main analysis portion of my project. There are few data visualtions that paint the picture of the men who elect to get a vasectomy. Because this is my first time coding and doing such analysis, I do realize that there is the potential to do much more witht this. What I have done are beginner steps towards unlocking knowledge that could be extremely useful for someone trying to find men interested in a new form of male birth control."
   ]
  },
  {
   "cell_type": "markdown",
   "metadata": {},
   "source": [
    "### <font color=Blue>Age<font> ###"
   ]
  },
  {
   "cell_type": "markdown",
   "metadata": {},
   "source": [
    "The first figure plots the age of men interviewed who had a vasectomy against the age they were when they had their first child. The two factors appear positively correlated. The older a man is when he has his first child, the more likely he is to get a vasectomy."
   ]
  },
  {
   "cell_type": "code",
   "execution_count": 178,
   "metadata": {},
   "outputs": [
    {
     "data": {
      "text/plain": [
       "<seaborn.axisgrid.FacetGrid at 0x11996d1d0>"
      ]
     },
     "execution_count": 178,
     "metadata": {},
     "output_type": "execute_result"
    },
    {
     "data": {
      "image/png": "[encoded data removed]",
      "text/plain": [
       "<Figure size 360x360 with 1 Axes>"
      ]
     },
     "metadata": {
      "needs_background": "light"
     },
     "output_type": "display_data"
    }
   ],
   "source": [
    "# of just men who have had a vasectomy\n",
    "import seaborn as sns\n",
    "sns.lmplot(x='RSCRAGE',y='AGEBABY1',data=df_vasoper,fit_reg=True)"
   ]
  },
  {
   "cell_type": "code",
   "execution_count": 179,
   "metadata": {},
   "outputs": [
    {
     "data": {
      "text/plain": [
       "<seaborn.axisgrid.FacetGrid at 0x119ba5cc0>"
      ]
     },
     "execution_count": 179,
     "metadata": {},
     "output_type": "execute_result"
    },
    {
     "data": {
      "image/png": "[encoded data removed]",
      "text/plain": [
       "<Figure size 360x360 with 1 Axes>"
      ]
     },
     "metadata": {
      "needs_background": "light"
     },
     "output_type": "display_data"
    }
   ],
   "source": [
    "# of all the men\n",
    "import seaborn as sns\n",
    "sns.lmplot(x='RSCRAGE',y='AGEBABY1',data=df_everoper,fit_reg=True)"
   ]
  },
  {
   "cell_type": "markdown",
   "metadata": {},
   "source": [
    "Men are most likely to get a vasectomy between the ages of 40 and 50."
   ]
  },
  {
   "cell_type": "code",
   "execution_count": 183,
   "metadata": {},
   "outputs": [
    {
     "data": {
      "text/plain": [
       "count    205.000000\n",
       "mean      40.736585\n",
       "std        6.128436\n",
       "min       17.000000\n",
       "25%       37.000000\n",
       "50%       41.000000\n",
       "75%       46.000000\n",
       "max       49.000000\n",
       "Name: RSCRAGE, dtype: float64"
      ]
     },
     "execution_count": 183,
     "metadata": {},
     "output_type": "execute_result"
    }
   ],
   "source": [
    "df_vasoper['RSCRAGE'].describe()"
   ]
  },
  {
   "cell_type": "code",
   "execution_count": 219,
   "metadata": {},
   "outputs": [
    {
     "data": {
      "image/png": "[encoded data removed]",
      "text/plain": [
       "<Figure size 432x288 with 1 Axes>"
      ]
     },
     "metadata": {
      "needs_background": "light"
     },
     "output_type": "display_data"
    }
   ],
   "source": [
    "boxplot = df_vasoper.boxplot(column=['RSCRAGE'])"
   ]
  },
  {
   "cell_type": "code",
   "execution_count": 213,
   "metadata": {},
   "outputs": [
    {
     "data": {
      "text/plain": [
       "<matplotlib.axes._subplots.AxesSubplot at 0x1227be780>"
      ]
     },
     "execution_count": 213,
     "metadata": {},
     "output_type": "execute_result"
    },
    {
     "data": {
      "image/png": "[encoded data removed]",
      "text/plain": [
       "<Figure size 1080x360 with 1 Axes>"
      ]
     },
     "metadata": {
      "needs_background": "light"
     },
     "output_type": "display_data"
    }
   ],
   "source": [
    "df_vasoper.groupby('RSCRAGE')['RSCRAGE'].count().plot.bar(rot=0, figsize=(15,5))"
   ]
  },
  {
   "cell_type": "code",
   "execution_count": 182,
   "metadata": {},
   "outputs": [
    {
     "data": {
      "text/plain": [
       "<matplotlib.axes._subplots.AxesSubplot at 0x119b6ca90>"
      ]
     },
     "execution_count": 182,
     "metadata": {},
     "output_type": "execute_result"
    },
    {
     "data": {
      "image/png": "[encoded data removed]",
      "text/plain": [
       "<Figure size 468x468 with 1 Axes>"
      ]
     },
     "metadata": {
      "needs_background": "light"
     },
     "output_type": "display_data"
    }
   ],
   "source": [
    "f, ax = plt.subplots(figsize=(6.5, 6.5))\n",
    "df_vasoper.plot.scatter('EVEROPER', 'RSCRAGE', alpha=0.15,ax=ax)"
   ]
  },
  {
   "cell_type": "markdown",
   "metadata": {},
   "source": [
    "### <font color=Blue>Number of Children<font> ###"
   ]
  },
  {
   "cell_type": "markdown",
   "metadata": {},
   "source": [
    "Most men who had a vasectomy had it after about two children."
   ]
  },
  {
   "cell_type": "code",
   "execution_count": 181,
   "metadata": {},
   "outputs": [
    {
     "data": {
      "text/plain": [
       "count    205.000000\n",
       "mean       1.439024\n",
       "std        1.221715\n",
       "min        0.000000\n",
       "25%        0.000000\n",
       "50%        2.000000\n",
       "75%        2.000000\n",
       "max        4.000000\n",
       "Name: Number_Kids, dtype: float64"
      ]
     },
     "execution_count": 181,
     "metadata": {},
     "output_type": "execute_result"
    }
   ],
   "source": [
    "df_vasoper['Number_Kids'].describe()"
   ]
  },
  {
   "cell_type": "code",
   "execution_count": 220,
   "metadata": {},
   "outputs": [
    {
     "data": {
      "image/png": "[encoded data removed]",
      "text/plain": [
       "<Figure size 432x288 with 1 Axes>"
      ]
     },
     "metadata": {
      "needs_background": "light"
     },
     "output_type": "display_data"
    }
   ],
   "source": [
    "boxplot = df_vasoper.boxplot(column=['Number_Kids'])"
   ]
  },
  {
   "cell_type": "code",
   "execution_count": 180,
   "metadata": {},
   "outputs": [
    {
     "data": {
      "text/plain": [
       "<matplotlib.axes._subplots.AxesSubplot at 0x119ac15f8>"
      ]
     },
     "execution_count": 180,
     "metadata": {},
     "output_type": "execute_result"
    },
    {
     "data": {
      "image/png": "[encoded data removed]",
      "text/plain": [
       "<Figure size 468x468 with 1 Axes>"
      ]
     },
     "metadata": {
      "needs_background": "light"
     },
     "output_type": "display_data"
    }
   ],
   "source": [
    "f, ax = plt.subplots(figsize=(6.5, 6.5))\n",
    "df_vasoper.plot.scatter('Number_Kids', 'RSCRAGE', alpha=0.35,ax=ax)"
   ]
  },
  {
   "cell_type": "markdown",
   "metadata": {},
   "source": [
    "### <font color=Blue>Salaries<font> ###"
   ]
  },
  {
   "cell_type": "markdown",
   "metadata": {},
   "source": [
    "Men who elect to get a vasectomy are more likely to make more money. According to this survey, most men who had a vasectomy made over $100,000 per year. This makes sense because vasectomies are not covered by government based insurance and are covered by very few privately based insurances."
   ]
  },
  {
   "cell_type": "code",
   "execution_count": 184,
   "metadata": {},
   "outputs": [
    {
     "data": {
      "text/plain": [
       "$100,000 or more (yearly)    87\n",
       "$75,000-99,999 (yearly)      33\n",
       "$60,000-74,999 (yearly)      20\n",
       "$40,000-49,999 (yearly)      14\n",
       "$50,000-59,999 (yearly)      13\n",
       "$30,000-34,999 (yearly)       6\n",
       "$15,000-19,999 (yearly)       6\n",
       "$25,000-29,999 (yearly)       4\n",
       "$10,000-12,499 (yearly)       4\n",
       "Don't know                    4\n",
       "Refused                       4\n",
       "$35,000-39,999 (yearly)       4\n",
       "$20,000-24,999 (yearly)       3\n",
       "$7,500-9,999 (yearly)         2\n",
       "Under $5,000 (yearly)         1\n",
       "$12,500-14,999 (yearly)       0\n",
       "Not ascertained               0\n",
       "$5,000-7,499 (yearly)         0\n",
       "Name: Salary_Range, dtype: int64"
      ]
     },
     "execution_count": 184,
     "metadata": {},
     "output_type": "execute_result"
    }
   ],
   "source": [
    "df_vasoper['Salary_Range'].value_counts()"
   ]
  },
  {
   "cell_type": "code",
   "execution_count": 217,
   "metadata": {},
   "outputs": [
    {
     "data": {
      "text/plain": [
       "<matplotlib.axes._subplots.AxesSubplot at 0x1229a7710>"
      ]
     },
     "execution_count": 217,
     "metadata": {},
     "output_type": "execute_result"
    },
    {
     "data": {
      "image/png": "[encoded data removed]",
      "text/plain": [
       "<Figure size 3240x360 with 1 Axes>"
      ]
     },
     "metadata": {
      "needs_background": "light"
     },
     "output_type": "display_data"
    }
   ],
   "source": [
    "df_vasoper.groupby('Salary_Range')['Salary_Range'].count().plot.bar(rot=0, figsize=(45,5), title= ('Distribution of Income for Men w/ Vasectomies') )"
   ]
  },
  {
   "cell_type": "markdown",
   "metadata": {},
   "source": [
    "### <font color=Blue>Religion<font> ###"
   ]
  },
  {
   "cell_type": "markdown",
   "metadata": {},
   "source": [
    "Majority of men who get vasectomies are not religious. "
   ]
  },
  {
   "cell_type": "code",
   "execution_count": 185,
   "metadata": {},
   "outputs": [
    {
     "data": {
      "text/plain": [
       "None                                            70\n",
       "Baptist/Southern Baptist                        34\n",
       "Protestant - No specific denomination           29\n",
       "Methodist, Lutheran, Presbyterian, Episcopal    24\n",
       "Catholic                                        23\n",
       "Other religion                                  12\n",
       "Other Protestant denomination                    7\n",
       "Fundamentalist Protestant                        6\n",
       "Don't know                                       0\n",
       "Refused                                          0\n",
       "Name: RELCURR, dtype: int64"
      ]
     },
     "execution_count": 185,
     "metadata": {},
     "output_type": "execute_result"
    }
   ],
   "source": [
    "df_vasoper['RELCURR'].value_counts()"
   ]
  },
  {
   "cell_type": "code",
   "execution_count": 218,
   "metadata": {},
   "outputs": [
    {
     "data": {
      "text/plain": [
       "<matplotlib.axes._subplots.AxesSubplot at 0x11fb93198>"
      ]
     },
     "execution_count": 218,
     "metadata": {},
     "output_type": "execute_result"
    },
    {
     "data": {
      "image/png": "[encoded data removed]",
      "text/plain": [
       "<Figure size 2520x360 with 1 Axes>"
      ]
     },
     "metadata": {
      "needs_background": "light"
     },
     "output_type": "display_data"
    }
   ],
   "source": [
    "df_vasoper.groupby('RELCURR')['RELCURR'].count().plot.bar(rot=0, figsize=(35,5), title= ('Distribution of Religious Beliefs') )"
   ]
  },
  {
   "cell_type": "markdown",
   "metadata": {},
   "source": [
    "### <font color=Blue>Yearly Trends<font> ###"
   ]
  },
  {
   "cell_type": "markdown",
   "metadata": {},
   "source": [
    "The majority of the men who were interviewed had their operation semi-recently. Most the vasectomies occured between 2005 and 2015. This could be because more of the men interviewed were of the right age. Or, it could be because vaectomies have become a more accepted and popular procedure."
   ]
  },
  {
   "cell_type": "code",
   "execution_count": 135,
   "metadata": {},
   "outputs": [
    {
     "data": {
      "text/plain": [
       "<matplotlib.axes._subplots.AxesSubplot at 0x118dfda58>"
      ]
     },
     "execution_count": 135,
     "metadata": {},
     "output_type": "execute_result"
    },
    {
     "data": {
      "image/png": "[encoded data removed]",
      "text/plain": [
       "<Figure size 1800x360 with 1 Axes>"
      ]
     },
     "metadata": {
      "needs_background": "light"
     },
     "output_type": "display_data"
    }
   ],
   "source": [
    "df_vasoper.groupby('VASEC_Y')['VASEC_Y'].count().plot.bar(rot=0, figsize=(25,5))"
   ]
  },
  {
   "cell_type": "markdown",
   "metadata": {},
   "source": [
    "-------------"
   ]
  },
  {
   "cell_type": "markdown",
   "metadata": {},
   "source": [
    "## <font color=Magenta>Merging Datasets<font> ###"
   ]
  },
  {
   "cell_type": "markdown",
   "metadata": {},
   "source": [
    "I decided to merge the 2015-2017 Male Data with Census data __[from this website](https://factfinder.census.gov/faces/tableservices/jsf/pages/productview.xhtml?src=bkmk)__. This Census data has the number of men, ages 15-49, located in each state of the United States. My hope was to make a geographical representation to determine whether vasectomies are more prevalent in certain locations in the US."
   ]
  },
  {
   "cell_type": "code",
   "execution_count": 136,
   "metadata": {},
   "outputs": [],
   "source": [
    "import pandas as pd    \n",
    "import numpy as np\n",
    "import seaborn as sns\n",
    "import statsmodels.formula.api as smf\n",
    "from sklearn.linear_model import Lasso\n",
    "from sklearn.model_selection import train_test_split\n",
    "from sklearn.ensemble import RandomForestRegressor\n",
    "import matplotlib.pyplot as plt\n",
    "from csv import reader, writer"
   ]
  },
  {
   "cell_type": "code",
   "execution_count": 146,
   "metadata": {},
   "outputs": [
    {
     "data": {
      "text/html": [
       "<div>\n",
       "<style scoped>\n",
       "    .dataframe tbody tr th:only-of-type {\n",
       "        vertical-align: middle;\n",
       "    }\n",
       "\n",
       "    .dataframe tbody tr th {\n",
       "        vertical-align: top;\n",
       "    }\n",
       "\n",
       "    .dataframe thead th {\n",
       "        text-align: right;\n",
       "    }\n",
       "</style>\n",
       "<table border=\"1\" class=\"dataframe\">\n",
       "  <thead>\n",
       "    <tr style=\"text-align: right;\">\n",
       "      <th></th>\n",
       "      <th>GEO.id</th>\n",
       "      <th>GEO.id2</th>\n",
       "      <th>GEO.display-label</th>\n",
       "      <th>est72015sex1_TotalMales</th>\n",
       "      <th>est72015sex1_age15</th>\n",
       "      <th>est72015sex1_age16</th>\n",
       "      <th>est72015sex1_age17</th>\n",
       "      <th>est72015sex1_age18</th>\n",
       "      <th>est72015sex1_age19</th>\n",
       "      <th>est72015sex1_age20</th>\n",
       "      <th>...</th>\n",
       "      <th>est72015sex1_age40</th>\n",
       "      <th>est72015sex1_age41</th>\n",
       "      <th>est72015sex1_age42</th>\n",
       "      <th>est72015sex1_age43</th>\n",
       "      <th>est72015sex1_age44</th>\n",
       "      <th>est72015sex1_age45</th>\n",
       "      <th>est72015sex1_age46</th>\n",
       "      <th>est72015sex1_age47</th>\n",
       "      <th>est72015sex1_age48</th>\n",
       "      <th>est72015sex1_age49</th>\n",
       "    </tr>\n",
       "  </thead>\n",
       "  <tbody>\n",
       "    <tr>\n",
       "      <th>0</th>\n",
       "      <td>Id</td>\n",
       "      <td>Id2</td>\n",
       "      <td>Geography</td>\n",
       "      <td>Population Estimate (as of July 1) - 2015 - Ma...</td>\n",
       "      <td>Population Estimate (as of July 1) - 2015 - Ma...</td>\n",
       "      <td>Population Estimate (as of July 1) - 2015 - Ma...</td>\n",
       "      <td>Population Estimate (as of July 1) - 2015 - Ma...</td>\n",
       "      <td>Population Estimate (as of July 1) - 2015 - Ma...</td>\n",
       "      <td>Population Estimate (as of July 1) - 2015 - Ma...</td>\n",
       "      <td>Population Estimate (as of July 1) - 2015 - Ma...</td>\n",
       "      <td>...</td>\n",
       "      <td>Population Estimate (as of July 1) - 2015 - Ma...</td>\n",
       "      <td>Population Estimate (as of July 1) - 2015 - Ma...</td>\n",
       "      <td>Population Estimate (as of July 1) - 2015 - Ma...</td>\n",
       "      <td>Population Estimate (as of July 1) - 2015 - Ma...</td>\n",
       "      <td>Population Estimate (as of July 1) - 2015 - Ma...</td>\n",
       "      <td>Population Estimate (as of July 1) - 2015 - Ma...</td>\n",
       "      <td>Population Estimate (as of July 1) - 2015 - Ma...</td>\n",
       "      <td>Population Estimate (as of July 1) - 2015 - Ma...</td>\n",
       "      <td>Population Estimate (as of July 1) - 2015 - Ma...</td>\n",
       "      <td>Population Estimate (as of July 1) - 2015 - Ma...</td>\n",
       "    </tr>\n",
       "    <tr>\n",
       "      <th>1</th>\n",
       "      <td>NaN</td>\n",
       "      <td>NaN</td>\n",
       "      <td>NaN</td>\n",
       "      <td>NaN</td>\n",
       "      <td>15</td>\n",
       "      <td>16</td>\n",
       "      <td>17</td>\n",
       "      <td>18</td>\n",
       "      <td>19</td>\n",
       "      <td>20</td>\n",
       "      <td>...</td>\n",
       "      <td>40</td>\n",
       "      <td>41</td>\n",
       "      <td>42</td>\n",
       "      <td>43</td>\n",
       "      <td>44</td>\n",
       "      <td>45</td>\n",
       "      <td>46</td>\n",
       "      <td>47</td>\n",
       "      <td>48</td>\n",
       "      <td>49</td>\n",
       "    </tr>\n",
       "    <tr>\n",
       "      <th>2</th>\n",
       "      <td>0400000US01</td>\n",
       "      <td>1</td>\n",
       "      <td>Alabama</td>\n",
       "      <td>2353184</td>\n",
       "      <td>33614</td>\n",
       "      <td>32465</td>\n",
       "      <td>32786</td>\n",
       "      <td>31939</td>\n",
       "      <td>31410</td>\n",
       "      <td>32541</td>\n",
       "      <td>...</td>\n",
       "      <td>28710</td>\n",
       "      <td>28448</td>\n",
       "      <td>28560</td>\n",
       "      <td>30501</td>\n",
       "      <td>32343</td>\n",
       "      <td>31811</td>\n",
       "      <td>30009</td>\n",
       "      <td>29305</td>\n",
       "      <td>29256</td>\n",
       "      <td>30361</td>\n",
       "    </tr>\n",
       "    <tr>\n",
       "      <th>3</th>\n",
       "      <td>0400000US02</td>\n",
       "      <td>2</td>\n",
       "      <td>Alaska</td>\n",
       "      <td>389025</td>\n",
       "      <td>5364</td>\n",
       "      <td>5117</td>\n",
       "      <td>4960</td>\n",
       "      <td>4856</td>\n",
       "      <td>5299</td>\n",
       "      <td>6415</td>\n",
       "      <td>...</td>\n",
       "      <td>4668</td>\n",
       "      <td>4352</td>\n",
       "      <td>4357</td>\n",
       "      <td>4490</td>\n",
       "      <td>4655</td>\n",
       "      <td>4912</td>\n",
       "      <td>4603</td>\n",
       "      <td>4441</td>\n",
       "      <td>4511</td>\n",
       "      <td>4554</td>\n",
       "    </tr>\n",
       "    <tr>\n",
       "      <th>4</th>\n",
       "      <td>0400000US04</td>\n",
       "      <td>4</td>\n",
       "      <td>Arizona</td>\n",
       "      <td>3391490</td>\n",
       "      <td>47484</td>\n",
       "      <td>46374</td>\n",
       "      <td>46599</td>\n",
       "      <td>47761</td>\n",
       "      <td>47973</td>\n",
       "      <td>48502</td>\n",
       "      <td>...</td>\n",
       "      <td>42700</td>\n",
       "      <td>40707</td>\n",
       "      <td>40687</td>\n",
       "      <td>41820</td>\n",
       "      <td>43886</td>\n",
       "      <td>44638</td>\n",
       "      <td>41875</td>\n",
       "      <td>40564</td>\n",
       "      <td>39514</td>\n",
       "      <td>39802</td>\n",
       "    </tr>\n",
       "  </tbody>\n",
       "</table>\n",
       "<p>5 rows × 39 columns</p>\n",
       "</div>"
      ],
      "text/plain": [
       "        GEO.id GEO.id2 GEO.display-label  \\\n",
       "0           Id     Id2         Geography   \n",
       "1          NaN     NaN               NaN   \n",
       "2  0400000US01       1           Alabama   \n",
       "3  0400000US02       2            Alaska   \n",
       "4  0400000US04       4           Arizona   \n",
       "\n",
       "                             est72015sex1_TotalMales  \\\n",
       "0  Population Estimate (as of July 1) - 2015 - Ma...   \n",
       "1                                                NaN   \n",
       "2                                            2353184   \n",
       "3                                             389025   \n",
       "4                                            3391490   \n",
       "\n",
       "                                  est72015sex1_age15  \\\n",
       "0  Population Estimate (as of July 1) - 2015 - Ma...   \n",
       "1                                                 15   \n",
       "2                                              33614   \n",
       "3                                               5364   \n",
       "4                                              47484   \n",
       "\n",
       "                                  est72015sex1_age16  \\\n",
       "0  Population Estimate (as of July 1) - 2015 - Ma...   \n",
       "1                                                 16   \n",
       "2                                              32465   \n",
       "3                                               5117   \n",
       "4                                              46374   \n",
       "\n",
       "                                  est72015sex1_age17  \\\n",
       "0  Population Estimate (as of July 1) - 2015 - Ma...   \n",
       "1                                                 17   \n",
       "2                                              32786   \n",
       "3                                               4960   \n",
       "4                                              46599   \n",
       "\n",
       "                                  est72015sex1_age18  \\\n",
       "0  Population Estimate (as of July 1) - 2015 - Ma...   \n",
       "1                                                 18   \n",
       "2                                              31939   \n",
       "3                                               4856   \n",
       "4                                              47761   \n",
       "\n",
       "                                  est72015sex1_age19  \\\n",
       "0  Population Estimate (as of July 1) - 2015 - Ma...   \n",
       "1                                                 19   \n",
       "2                                              31410   \n",
       "3                                               5299   \n",
       "4                                              47973   \n",
       "\n",
       "                                  est72015sex1_age20  ...  \\\n",
       "0  Population Estimate (as of July 1) - 2015 - Ma...  ...   \n",
       "1                                                 20  ...   \n",
       "2                                              32541  ...   \n",
       "3                                               6415  ...   \n",
       "4                                              48502  ...   \n",
       "\n",
       "                                  est72015sex1_age40  \\\n",
       "0  Population Estimate (as of July 1) - 2015 - Ma...   \n",
       "1                                                 40   \n",
       "2                                              28710   \n",
       "3                                               4668   \n",
       "4                                              42700   \n",
       "\n",
       "                                  est72015sex1_age41  \\\n",
       "0  Population Estimate (as of July 1) - 2015 - Ma...   \n",
       "1                                                 41   \n",
       "2                                              28448   \n",
       "3                                               4352   \n",
       "4                                              40707   \n",
       "\n",
       "                                  est72015sex1_age42  \\\n",
       "0  Population Estimate (as of July 1) - 2015 - Ma...   \n",
       "1                                                 42   \n",
       "2                                              28560   \n",
       "3                                               4357   \n",
       "4                                              40687   \n",
       "\n",
       "                                  est72015sex1_age43  \\\n",
       "0  Population Estimate (as of July 1) - 2015 - Ma...   \n",
       "1                                                 43   \n",
       "2                                              30501   \n",
       "3                                               4490   \n",
       "4                                              41820   \n",
       "\n",
       "                                  est72015sex1_age44  \\\n",
       "0  Population Estimate (as of July 1) - 2015 - Ma...   \n",
       "1                                                 44   \n",
       "2                                              32343   \n",
       "3                                               4655   \n",
       "4                                              43886   \n",
       "\n",
       "                                  est72015sex1_age45  \\\n",
       "0  Population Estimate (as of July 1) - 2015 - Ma...   \n",
       "1                                                 45   \n",
       "2                                              31811   \n",
       "3                                               4912   \n",
       "4                                              44638   \n",
       "\n",
       "                                  est72015sex1_age46  \\\n",
       "0  Population Estimate (as of July 1) - 2015 - Ma...   \n",
       "1                                                 46   \n",
       "2                                              30009   \n",
       "3                                               4603   \n",
       "4                                              41875   \n",
       "\n",
       "                                  est72015sex1_age47  \\\n",
       "0  Population Estimate (as of July 1) - 2015 - Ma...   \n",
       "1                                                 47   \n",
       "2                                              29305   \n",
       "3                                               4441   \n",
       "4                                              40564   \n",
       "\n",
       "                                  est72015sex1_age48  \\\n",
       "0  Population Estimate (as of July 1) - 2015 - Ma...   \n",
       "1                                                 48   \n",
       "2                                              29256   \n",
       "3                                               4511   \n",
       "4                                              39514   \n",
       "\n",
       "                                  est72015sex1_age49  \n",
       "0  Population Estimate (as of July 1) - 2015 - Ma...  \n",
       "1                                                 49  \n",
       "2                                              30361  \n",
       "3                                               4554  \n",
       "4                                              39802  \n",
       "\n",
       "[5 rows x 39 columns]"
      ]
     },
     "execution_count": 146,
     "metadata": {},
     "output_type": "execute_result"
    }
   ],
   "source": [
    "# Age is located in a row of this dataset.\n",
    "df_states = pd.read_csv('US_2015_SEX.csv')\n",
    "df_states = df_states\n",
    "df_states.head()"
   ]
  },
  {
   "cell_type": "code",
   "execution_count": 152,
   "metadata": {},
   "outputs": [
    {
     "data": {
      "text/html": [
       "<div>\n",
       "<style scoped>\n",
       "    .dataframe tbody tr th:only-of-type {\n",
       "        vertical-align: middle;\n",
       "    }\n",
       "\n",
       "    .dataframe tbody tr th {\n",
       "        vertical-align: top;\n",
       "    }\n",
       "\n",
       "    .dataframe thead th {\n",
       "        text-align: right;\n",
       "    }\n",
       "</style>\n",
       "<table border=\"1\" class=\"dataframe\">\n",
       "  <thead>\n",
       "    <tr style=\"text-align: right;\">\n",
       "      <th></th>\n",
       "      <th>AGE</th>\n",
       "      <th>Alabama</th>\n",
       "      <th>Alaska</th>\n",
       "      <th>Arizona</th>\n",
       "      <th>Arkansas</th>\n",
       "      <th>California</th>\n",
       "      <th>Colorado</th>\n",
       "      <th>Connecticut</th>\n",
       "      <th>Delaware</th>\n",
       "      <th>District of Columbia</th>\n",
       "      <th>...</th>\n",
       "      <th>South Dakota</th>\n",
       "      <th>Tennessee</th>\n",
       "      <th>Texas</th>\n",
       "      <th>Utah</th>\n",
       "      <th>Vermont</th>\n",
       "      <th>Virginia</th>\n",
       "      <th>Washington</th>\n",
       "      <th>West Virginia</th>\n",
       "      <th>Wisconsin</th>\n",
       "      <th>Wyoming</th>\n",
       "    </tr>\n",
       "  </thead>\n",
       "  <tbody>\n",
       "    <tr>\n",
       "      <th>Geography</th>\n",
       "      <td>0</td>\n",
       "      <td>Alabama</td>\n",
       "      <td>Alaska</td>\n",
       "      <td>Arizona</td>\n",
       "      <td>Arkansas</td>\n",
       "      <td>California</td>\n",
       "      <td>Colorado</td>\n",
       "      <td>Connecticut</td>\n",
       "      <td>Delaware</td>\n",
       "      <td>District of Columbia</td>\n",
       "      <td>...</td>\n",
       "      <td>South Dakota</td>\n",
       "      <td>Tennessee</td>\n",
       "      <td>Texas</td>\n",
       "      <td>Utah</td>\n",
       "      <td>Vermont</td>\n",
       "      <td>Virginia</td>\n",
       "      <td>Washington</td>\n",
       "      <td>West Virginia</td>\n",
       "      <td>Wisconsin</td>\n",
       "      <td>Wyoming</td>\n",
       "    </tr>\n",
       "    <tr>\n",
       "      <th>Population Estimate (as of July 1) - 2015 - Male; Total - 15</th>\n",
       "      <td>15</td>\n",
       "      <td>33614</td>\n",
       "      <td>5364</td>\n",
       "      <td>47484</td>\n",
       "      <td>20725</td>\n",
       "      <td>265378</td>\n",
       "      <td>36134</td>\n",
       "      <td>24592</td>\n",
       "      <td>6005</td>\n",
       "      <td>2616</td>\n",
       "      <td>...</td>\n",
       "      <td>5811</td>\n",
       "      <td>44395</td>\n",
       "      <td>206049</td>\n",
       "      <td>25549</td>\n",
       "      <td>3856</td>\n",
       "      <td>54560</td>\n",
       "      <td>46211</td>\n",
       "      <td>11361</td>\n",
       "      <td>39131</td>\n",
       "      <td>3874</td>\n",
       "    </tr>\n",
       "    <tr>\n",
       "      <th>Population Estimate (as of July 1) - 2015 - Male; Total - 16</th>\n",
       "      <td>16</td>\n",
       "      <td>32465</td>\n",
       "      <td>5117</td>\n",
       "      <td>46374</td>\n",
       "      <td>20296</td>\n",
       "      <td>262187</td>\n",
       "      <td>35139</td>\n",
       "      <td>24768</td>\n",
       "      <td>5859</td>\n",
       "      <td>2510</td>\n",
       "      <td>...</td>\n",
       "      <td>5862</td>\n",
       "      <td>44048</td>\n",
       "      <td>200617</td>\n",
       "      <td>24552</td>\n",
       "      <td>3845</td>\n",
       "      <td>53641</td>\n",
       "      <td>45972</td>\n",
       "      <td>11072</td>\n",
       "      <td>38483</td>\n",
       "      <td>3789</td>\n",
       "    </tr>\n",
       "    <tr>\n",
       "      <th>Population Estimate (as of July 1) - 2015 - Male; Total - 17</th>\n",
       "      <td>17</td>\n",
       "      <td>32786</td>\n",
       "      <td>4960</td>\n",
       "      <td>46599</td>\n",
       "      <td>20479</td>\n",
       "      <td>265186</td>\n",
       "      <td>34702</td>\n",
       "      <td>24937</td>\n",
       "      <td>5945</td>\n",
       "      <td>2603</td>\n",
       "      <td>...</td>\n",
       "      <td>5560</td>\n",
       "      <td>43419</td>\n",
       "      <td>198995</td>\n",
       "      <td>24396</td>\n",
       "      <td>3970</td>\n",
       "      <td>53252</td>\n",
       "      <td>46215</td>\n",
       "      <td>11312</td>\n",
       "      <td>38256</td>\n",
       "      <td>3738</td>\n",
       "    </tr>\n",
       "    <tr>\n",
       "      <th>Population Estimate (as of July 1) - 2015 - Male; Total - 18</th>\n",
       "      <td>18</td>\n",
       "      <td>31939</td>\n",
       "      <td>4856</td>\n",
       "      <td>47761</td>\n",
       "      <td>19718</td>\n",
       "      <td>271217</td>\n",
       "      <td>36191</td>\n",
       "      <td>26592</td>\n",
       "      <td>6164</td>\n",
       "      <td>4061</td>\n",
       "      <td>...</td>\n",
       "      <td>5553</td>\n",
       "      <td>41739</td>\n",
       "      <td>194683</td>\n",
       "      <td>23429</td>\n",
       "      <td>4785</td>\n",
       "      <td>55485</td>\n",
       "      <td>44422</td>\n",
       "      <td>11317</td>\n",
       "      <td>38429</td>\n",
       "      <td>3585</td>\n",
       "    </tr>\n",
       "  </tbody>\n",
       "</table>\n",
       "<p>5 rows × 52 columns</p>\n",
       "</div>"
      ],
      "text/plain": [
       "                                                   AGE  Alabama  Alaska  \\\n",
       "Geography                                            0  Alabama  Alaska   \n",
       "Population Estimate (as of July 1) - 2015 - Mal...  15    33614    5364   \n",
       "Population Estimate (as of July 1) - 2015 - Mal...  16    32465    5117   \n",
       "Population Estimate (as of July 1) - 2015 - Mal...  17    32786    4960   \n",
       "Population Estimate (as of July 1) - 2015 - Mal...  18    31939    4856   \n",
       "\n",
       "                                                    Arizona  Arkansas  \\\n",
       "Geography                                           Arizona  Arkansas   \n",
       "Population Estimate (as of July 1) - 2015 - Mal...    47484     20725   \n",
       "Population Estimate (as of July 1) - 2015 - Mal...    46374     20296   \n",
       "Population Estimate (as of July 1) - 2015 - Mal...    46599     20479   \n",
       "Population Estimate (as of July 1) - 2015 - Mal...    47761     19718   \n",
       "\n",
       "                                                    California  Colorado  \\\n",
       "Geography                                           California  Colorado   \n",
       "Population Estimate (as of July 1) - 2015 - Mal...      265378     36134   \n",
       "Population Estimate (as of July 1) - 2015 - Mal...      262187     35139   \n",
       "Population Estimate (as of July 1) - 2015 - Mal...      265186     34702   \n",
       "Population Estimate (as of July 1) - 2015 - Mal...      271217     36191   \n",
       "\n",
       "                                                    Connecticut  Delaware  \\\n",
       "Geography                                           Connecticut  Delaware   \n",
       "Population Estimate (as of July 1) - 2015 - Mal...        24592      6005   \n",
       "Population Estimate (as of July 1) - 2015 - Mal...        24768      5859   \n",
       "Population Estimate (as of July 1) - 2015 - Mal...        24937      5945   \n",
       "Population Estimate (as of July 1) - 2015 - Mal...        26592      6164   \n",
       "\n",
       "                                                    District of Columbia  ...  \\\n",
       "Geography                                           District of Columbia  ...   \n",
       "Population Estimate (as of July 1) - 2015 - Mal...                  2616  ...   \n",
       "Population Estimate (as of July 1) - 2015 - Mal...                  2510  ...   \n",
       "Population Estimate (as of July 1) - 2015 - Mal...                  2603  ...   \n",
       "Population Estimate (as of July 1) - 2015 - Mal...                  4061  ...   \n",
       "\n",
       "                                                    South Dakota  Tennessee  \\\n",
       "Geography                                           South Dakota  Tennessee   \n",
       "Population Estimate (as of July 1) - 2015 - Mal...          5811      44395   \n",
       "Population Estimate (as of July 1) - 2015 - Mal...          5862      44048   \n",
       "Population Estimate (as of July 1) - 2015 - Mal...          5560      43419   \n",
       "Population Estimate (as of July 1) - 2015 - Mal...          5553      41739   \n",
       "\n",
       "                                                     Texas   Utah  Vermont  \\\n",
       "Geography                                            Texas   Utah  Vermont   \n",
       "Population Estimate (as of July 1) - 2015 - Mal...  206049  25549     3856   \n",
       "Population Estimate (as of July 1) - 2015 - Mal...  200617  24552     3845   \n",
       "Population Estimate (as of July 1) - 2015 - Mal...  198995  24396     3970   \n",
       "Population Estimate (as of July 1) - 2015 - Mal...  194683  23429     4785   \n",
       "\n",
       "                                                    Virginia  Washington  \\\n",
       "Geography                                           Virginia  Washington   \n",
       "Population Estimate (as of July 1) - 2015 - Mal...     54560       46211   \n",
       "Population Estimate (as of July 1) - 2015 - Mal...     53641       45972   \n",
       "Population Estimate (as of July 1) - 2015 - Mal...     53252       46215   \n",
       "Population Estimate (as of July 1) - 2015 - Mal...     55485       44422   \n",
       "\n",
       "                                                    West Virginia  Wisconsin  \\\n",
       "Geography                                           West Virginia  Wisconsin   \n",
       "Population Estimate (as of July 1) - 2015 - Mal...          11361      39131   \n",
       "Population Estimate (as of July 1) - 2015 - Mal...          11072      38483   \n",
       "Population Estimate (as of July 1) - 2015 - Mal...          11312      38256   \n",
       "Population Estimate (as of July 1) - 2015 - Mal...          11317      38429   \n",
       "\n",
       "                                                    Wyoming  \n",
       "Geography                                           Wyoming  \n",
       "Population Estimate (as of July 1) - 2015 - Mal...     3874  \n",
       "Population Estimate (as of July 1) - 2015 - Mal...     3789  \n",
       "Population Estimate (as of July 1) - 2015 - Mal...     3738  \n",
       "Population Estimate (as of July 1) - 2015 - Mal...     3585  \n",
       "\n",
       "[5 rows x 52 columns]"
      ]
     },
     "execution_count": 152,
     "metadata": {},
     "output_type": "execute_result"
    }
   ],
   "source": [
    "# I had to transpose the Census data in order to have age in a column.\n",
    "df_states = pd.read_csv('US_2015_St.csv', skiprows=1)\n",
    "df_states = df_states.T\n",
    "# I also had to label all of the columns by hand.\n",
    "df_states.columns= ['AGE', 'Alabama','Alaska', 'Arizona',\n",
    "'Arkansas',\n",
    "'California',\n",
    "'Colorado',\n",
    "'Connecticut',\n",
    "'Delaware',\n",
    "'District of Columbia',\n",
    "'Florida',\n",
    "'Georgia',\n",
    "'Hawaii',\n",
    "'Idaho',\n",
    "'Illinois',\n",
    "'Indiana',\n",
    "'Iowa',\n",
    "'Kansas',\n",
    "'Kentucky',\n",
    "'Louisiana',\n",
    "'Maine',\n",
    "'Maryland',\n",
    "'Massachusetts',\n",
    "'Michigan',\n",
    "'Minnesota',\n",
    "'Mississippi',\n",
    "'Missouri',\n",
    "'Montana',\n",
    "'Nebraska',\n",
    "'Nevada',\n",
    "'New Hampshire',\n",
    "'New Jersey',\n",
    "'New Mexico',\n",
    "'New York',\n",
    "'North Carolina',\n",
    "'North Dakota',\n",
    "'Ohio',\n",
    "'Oklahoma',\n",
    "'Oregon',\n",
    "'Pennsylvania',\n",
    "'Rhode Island',\n",
    "'South Carolina',\n",
    "'South Dakota',\n",
    "'Tennessee',\n",
    "'Texas',\n",
    "'Utah',\n",
    "'Vermont',\n",
    "'Virginia',\n",
    "'Washington',\n",
    "'West Virginia',\n",
    "'Wisconsin',\n",
    "'Wyoming']\n",
    "df_states.head()"
   ]
  },
  {
   "cell_type": "code",
   "execution_count": 155,
   "metadata": {},
   "outputs": [
    {
     "data": {
      "text/html": [
       "<div>\n",
       "<style scoped>\n",
       "    .dataframe tbody tr th:only-of-type {\n",
       "        vertical-align: middle;\n",
       "    }\n",
       "\n",
       "    .dataframe tbody tr th {\n",
       "        vertical-align: top;\n",
       "    }\n",
       "\n",
       "    .dataframe thead th {\n",
       "        text-align: right;\n",
       "    }\n",
       "</style>\n",
       "<table border=\"1\" class=\"dataframe\">\n",
       "  <thead>\n",
       "    <tr style=\"text-align: right;\">\n",
       "      <th></th>\n",
       "      <th>AGE</th>\n",
       "      <th>Alabama</th>\n",
       "      <th>Alaska</th>\n",
       "      <th>Arizona</th>\n",
       "      <th>Arkansas</th>\n",
       "      <th>California</th>\n",
       "      <th>Colorado</th>\n",
       "      <th>Connecticut</th>\n",
       "      <th>Delaware</th>\n",
       "      <th>District of Columbia</th>\n",
       "      <th>...</th>\n",
       "      <th>SECU</th>\n",
       "      <th>SEST</th>\n",
       "      <th>CMINTVW</th>\n",
       "      <th>CMLSTYR</th>\n",
       "      <th>CMFIVYR</th>\n",
       "      <th>QUARTER</th>\n",
       "      <th>PHASE</th>\n",
       "      <th>INTVWYEAR</th>\n",
       "      <th>Salary_Range</th>\n",
       "      <th>Number_Kids</th>\n",
       "    </tr>\n",
       "  </thead>\n",
       "  <tbody>\n",
       "    <tr>\n",
       "      <th>0</th>\n",
       "      <td>15</td>\n",
       "      <td>33614</td>\n",
       "      <td>5364</td>\n",
       "      <td>47484</td>\n",
       "      <td>20725</td>\n",
       "      <td>265378</td>\n",
       "      <td>36134</td>\n",
       "      <td>24592</td>\n",
       "      <td>6005</td>\n",
       "      <td>2616</td>\n",
       "      <td>...</td>\n",
       "      <td>1</td>\n",
       "      <td>330</td>\n",
       "      <td>1406</td>\n",
       "      <td>1394</td>\n",
       "      <td>1345</td>\n",
       "      <td>22</td>\n",
       "      <td>1</td>\n",
       "      <td>2017</td>\n",
       "      <td>$5,000-7,499 (yearly)</td>\n",
       "      <td>0</td>\n",
       "    </tr>\n",
       "    <tr>\n",
       "      <th>1</th>\n",
       "      <td>15</td>\n",
       "      <td>33614</td>\n",
       "      <td>5364</td>\n",
       "      <td>47484</td>\n",
       "      <td>20725</td>\n",
       "      <td>265378</td>\n",
       "      <td>36134</td>\n",
       "      <td>24592</td>\n",
       "      <td>6005</td>\n",
       "      <td>2616</td>\n",
       "      <td>...</td>\n",
       "      <td>2</td>\n",
       "      <td>366</td>\n",
       "      <td>1412</td>\n",
       "      <td>1400</td>\n",
       "      <td>1345</td>\n",
       "      <td>24</td>\n",
       "      <td>1</td>\n",
       "      <td>2017</td>\n",
       "      <td>$20,000-24,999 (yearly)</td>\n",
       "      <td>0</td>\n",
       "    </tr>\n",
       "    <tr>\n",
       "      <th>2</th>\n",
       "      <td>15</td>\n",
       "      <td>33614</td>\n",
       "      <td>5364</td>\n",
       "      <td>47484</td>\n",
       "      <td>20725</td>\n",
       "      <td>265378</td>\n",
       "      <td>36134</td>\n",
       "      <td>24592</td>\n",
       "      <td>6005</td>\n",
       "      <td>2616</td>\n",
       "      <td>...</td>\n",
       "      <td>3</td>\n",
       "      <td>329</td>\n",
       "      <td>1397</td>\n",
       "      <td>1385</td>\n",
       "      <td>1333</td>\n",
       "      <td>19</td>\n",
       "      <td>1</td>\n",
       "      <td>2016</td>\n",
       "      <td>$75,000-99,999 (yearly)</td>\n",
       "      <td>0</td>\n",
       "    </tr>\n",
       "    <tr>\n",
       "      <th>3</th>\n",
       "      <td>15</td>\n",
       "      <td>33614</td>\n",
       "      <td>5364</td>\n",
       "      <td>47484</td>\n",
       "      <td>20725</td>\n",
       "      <td>265378</td>\n",
       "      <td>36134</td>\n",
       "      <td>24592</td>\n",
       "      <td>6005</td>\n",
       "      <td>2616</td>\n",
       "      <td>...</td>\n",
       "      <td>3</td>\n",
       "      <td>364</td>\n",
       "      <td>1397</td>\n",
       "      <td>1385</td>\n",
       "      <td>1333</td>\n",
       "      <td>19</td>\n",
       "      <td>1</td>\n",
       "      <td>2016</td>\n",
       "      <td>$100,000 or more (yearly)</td>\n",
       "      <td>0</td>\n",
       "    </tr>\n",
       "    <tr>\n",
       "      <th>4</th>\n",
       "      <td>15</td>\n",
       "      <td>33614</td>\n",
       "      <td>5364</td>\n",
       "      <td>47484</td>\n",
       "      <td>20725</td>\n",
       "      <td>265378</td>\n",
       "      <td>36134</td>\n",
       "      <td>24592</td>\n",
       "      <td>6005</td>\n",
       "      <td>2616</td>\n",
       "      <td>...</td>\n",
       "      <td>2</td>\n",
       "      <td>337</td>\n",
       "      <td>1391</td>\n",
       "      <td>1379</td>\n",
       "      <td>1321</td>\n",
       "      <td>17</td>\n",
       "      <td>1</td>\n",
       "      <td>2015</td>\n",
       "      <td>$7,500-9,999 (yearly)</td>\n",
       "      <td>0</td>\n",
       "    </tr>\n",
       "  </tbody>\n",
       "</table>\n",
       "<p>5 rows × 2005 columns</p>\n",
       "</div>"
      ],
      "text/plain": [
       "  AGE Alabama Alaska Arizona Arkansas California Colorado Connecticut  \\\n",
       "0  15   33614   5364   47484    20725     265378    36134       24592   \n",
       "1  15   33614   5364   47484    20725     265378    36134       24592   \n",
       "2  15   33614   5364   47484    20725     265378    36134       24592   \n",
       "3  15   33614   5364   47484    20725     265378    36134       24592   \n",
       "4  15   33614   5364   47484    20725     265378    36134       24592   \n",
       "\n",
       "  Delaware District of Columbia  ... SECU SEST CMINTVW CMLSTYR CMFIVYR  \\\n",
       "0     6005                 2616  ...    1  330    1406    1394    1345   \n",
       "1     6005                 2616  ...    2  366    1412    1400    1345   \n",
       "2     6005                 2616  ...    3  329    1397    1385    1333   \n",
       "3     6005                 2616  ...    3  364    1397    1385    1333   \n",
       "4     6005                 2616  ...    2  337    1391    1379    1321   \n",
       "\n",
       "  QUARTER PHASE INTVWYEAR               Salary_Range Number_Kids  \n",
       "0      22     1      2017      $5,000-7,499 (yearly)           0  \n",
       "1      24     1      2017    $20,000-24,999 (yearly)           0  \n",
       "2      19     1      2016    $75,000-99,999 (yearly)           0  \n",
       "3      19     1      2016  $100,000 or more (yearly)           0  \n",
       "4      17     1      2015      $7,500-9,999 (yearly)           0  \n",
       "\n",
       "[5 rows x 2005 columns]"
      ]
     },
     "execution_count": 155,
     "metadata": {},
     "output_type": "execute_result"
    }
   ],
   "source": [
    "# Merging of the 2015-2017 Male Data (all men) to the Census data.\n",
    "df_merge = df_states.merge(df_everoper, left_on='AGE', right_on='RSCRAGE')\n",
    "df_merge.head()"
   ]
  },
  {
   "cell_type": "markdown",
   "metadata": {},
   "source": [
    "Here I have encountered a problem. While I have successfully merged the two datasets, I am not quite sure what to do next. Esentially what I created where a lot more men who either had or had not had a vasecomty, based on their age. But, because the states are column headers too, those numbers do not change like they should. Therefore, I can not see the distribution by states."
   ]
  },
  {
   "cell_type": "code",
   "execution_count": 188,
   "metadata": {},
   "outputs": [
    {
     "data": {
      "text/plain": [
       "<matplotlib.axes._subplots.AxesSubplot at 0x11a1c5898>"
      ]
     },
     "execution_count": 188,
     "metadata": {},
     "output_type": "execute_result"
    },
    {
     "data": {
      "image/png": "[encoded data removed]",
      "text/plain": [
       "<Figure size 1080x360 with 1 Axes>"
      ]
     },
     "metadata": {
      "needs_background": "light"
     },
     "output_type": "display_data"
    }
   ],
   "source": [
    "df_merge.groupby('EVEROPER')['EVEROPER'].count().plot.bar(rot=0, figsize=(15,5))"
   ]
  },
  {
   "cell_type": "code",
   "execution_count": 160,
   "metadata": {},
   "outputs": [
    {
     "data": {
      "text/plain": [
       "<matplotlib.axes._subplots.AxesSubplot at 0x118b22a58>"
      ]
     },
     "execution_count": 160,
     "metadata": {},
     "output_type": "execute_result"
    },
    {
     "data": {
      "image/png": "[encoded data removed]",
      "text/plain": [
       "<Figure size 1080x360 with 1 Axes>"
      ]
     },
     "metadata": {
      "needs_background": "light"
     },
     "output_type": "display_data"
    }
   ],
   "source": [
    "df_merge.groupby('RSCRAGE')['RSCRAGE'].count().plot.bar(rot=0, figsize=(15,5))"
   ]
  },
  {
   "cell_type": "code",
   "execution_count": 187,
   "metadata": {},
   "outputs": [
    {
     "data": {
      "text/plain": [
       "<matplotlib.axes._subplots.AxesSubplot at 0x119ac1828>"
      ]
     },
     "execution_count": 187,
     "metadata": {},
     "output_type": "execute_result"
    },
    {
     "data": {
      "image/png": "[encoded data removed]",
      "text/plain": [
       "<Figure size 2520x360 with 1 Axes>"
      ]
     },
     "metadata": {
      "needs_background": "light"
     },
     "output_type": "display_data"
    }
   ],
   "source": [
    "df_merge.groupby('Alabama')['Alabama'].count().plot.bar(rot=0, figsize=(35,5))"
   ]
  },
  {
   "cell_type": "code",
   "execution_count": 193,
   "metadata": {},
   "outputs": [
    {
     "data": {
      "text/plain": [
       "<matplotlib.axes._subplots.AxesSubplot at 0x11abfabe0>"
      ]
     },
     "execution_count": 193,
     "metadata": {},
     "output_type": "execute_result"
    },
    {
     "data": {
      "image/png": "[encoded data removed]",
      "text/plain": [
       "<Figure size 1080x360 with 1 Axes>"
      ]
     },
     "metadata": {
      "needs_background": "light"
     },
     "output_type": "display_data"
    }
   ],
   "source": [
    "df_merge.groupby('New York')['New York'].count().plot.bar(rot=0, figsize=(15,5))"
   ]
  },
  {
   "cell_type": "markdown",
   "metadata": {},
   "source": [
    "So I am going to try again with merging the Census data with only the men who had a vasectomy."
   ]
  },
  {
   "cell_type": "code",
   "execution_count": 190,
   "metadata": {},
   "outputs": [
    {
     "data": {
      "text/html": [
       "<div>\n",
       "<style scoped>\n",
       "    .dataframe tbody tr th:only-of-type {\n",
       "        vertical-align: middle;\n",
       "    }\n",
       "\n",
       "    .dataframe tbody tr th {\n",
       "        vertical-align: top;\n",
       "    }\n",
       "\n",
       "    .dataframe thead th {\n",
       "        text-align: right;\n",
       "    }\n",
       "</style>\n",
       "<table border=\"1\" class=\"dataframe\">\n",
       "  <thead>\n",
       "    <tr style=\"text-align: right;\">\n",
       "      <th></th>\n",
       "      <th>AGE</th>\n",
       "      <th>Alabama</th>\n",
       "      <th>Alaska</th>\n",
       "      <th>Arizona</th>\n",
       "      <th>Arkansas</th>\n",
       "      <th>California</th>\n",
       "      <th>Colorado</th>\n",
       "      <th>Connecticut</th>\n",
       "      <th>Delaware</th>\n",
       "      <th>District of Columbia</th>\n",
       "      <th>...</th>\n",
       "      <th>SECU</th>\n",
       "      <th>SEST</th>\n",
       "      <th>CMINTVW</th>\n",
       "      <th>CMLSTYR</th>\n",
       "      <th>CMFIVYR</th>\n",
       "      <th>QUARTER</th>\n",
       "      <th>PHASE</th>\n",
       "      <th>INTVWYEAR</th>\n",
       "      <th>Salary_Range</th>\n",
       "      <th>Number_Kids</th>\n",
       "    </tr>\n",
       "  </thead>\n",
       "  <tbody>\n",
       "    <tr>\n",
       "      <th>0</th>\n",
       "      <td>17</td>\n",
       "      <td>32786</td>\n",
       "      <td>4960</td>\n",
       "      <td>46599</td>\n",
       "      <td>20479</td>\n",
       "      <td>265186</td>\n",
       "      <td>34702</td>\n",
       "      <td>24937</td>\n",
       "      <td>5945</td>\n",
       "      <td>2603</td>\n",
       "      <td>...</td>\n",
       "      <td>3</td>\n",
       "      <td>330</td>\n",
       "      <td>1401</td>\n",
       "      <td>1389</td>\n",
       "      <td>1333</td>\n",
       "      <td>21</td>\n",
       "      <td>1</td>\n",
       "      <td>2016</td>\n",
       "      <td>$20,000-24,999 (yearly)</td>\n",
       "      <td>0</td>\n",
       "    </tr>\n",
       "    <tr>\n",
       "      <th>1</th>\n",
       "      <td>24</td>\n",
       "      <td>35919</td>\n",
       "      <td>8125</td>\n",
       "      <td>52725</td>\n",
       "      <td>21946</td>\n",
       "      <td>323861</td>\n",
       "      <td>43542</td>\n",
       "      <td>23000</td>\n",
       "      <td>6850</td>\n",
       "      <td>6561</td>\n",
       "      <td>...</td>\n",
       "      <td>3</td>\n",
       "      <td>311</td>\n",
       "      <td>1412</td>\n",
       "      <td>1400</td>\n",
       "      <td>1345</td>\n",
       "      <td>24</td>\n",
       "      <td>1</td>\n",
       "      <td>2017</td>\n",
       "      <td>$15,000-19,999 (yearly)</td>\n",
       "      <td>0</td>\n",
       "    </tr>\n",
       "    <tr>\n",
       "      <th>2</th>\n",
       "      <td>26</td>\n",
       "      <td>33072</td>\n",
       "      <td>7152</td>\n",
       "      <td>49883</td>\n",
       "      <td>20064</td>\n",
       "      <td>315190</td>\n",
       "      <td>42875</td>\n",
       "      <td>22076</td>\n",
       "      <td>7001</td>\n",
       "      <td>6904</td>\n",
       "      <td>...</td>\n",
       "      <td>1</td>\n",
       "      <td>347</td>\n",
       "      <td>1410</td>\n",
       "      <td>1398</td>\n",
       "      <td>1345</td>\n",
       "      <td>24</td>\n",
       "      <td>1</td>\n",
       "      <td>2017</td>\n",
       "      <td>$25,000-29,999 (yearly)</td>\n",
       "      <td>4</td>\n",
       "    </tr>\n",
       "    <tr>\n",
       "      <th>3</th>\n",
       "      <td>26</td>\n",
       "      <td>33072</td>\n",
       "      <td>7152</td>\n",
       "      <td>49883</td>\n",
       "      <td>20064</td>\n",
       "      <td>315190</td>\n",
       "      <td>42875</td>\n",
       "      <td>22076</td>\n",
       "      <td>7001</td>\n",
       "      <td>6904</td>\n",
       "      <td>...</td>\n",
       "      <td>2</td>\n",
       "      <td>322</td>\n",
       "      <td>1407</td>\n",
       "      <td>1395</td>\n",
       "      <td>1345</td>\n",
       "      <td>22</td>\n",
       "      <td>1</td>\n",
       "      <td>2017</td>\n",
       "      <td>$75,000-99,999 (yearly)</td>\n",
       "      <td>2</td>\n",
       "    </tr>\n",
       "    <tr>\n",
       "      <th>4</th>\n",
       "      <td>27</td>\n",
       "      <td>31518</td>\n",
       "      <td>7021</td>\n",
       "      <td>47625</td>\n",
       "      <td>19310</td>\n",
       "      <td>307712</td>\n",
       "      <td>42881</td>\n",
       "      <td>22477</td>\n",
       "      <td>6686</td>\n",
       "      <td>7255</td>\n",
       "      <td>...</td>\n",
       "      <td>2</td>\n",
       "      <td>311</td>\n",
       "      <td>1395</td>\n",
       "      <td>1383</td>\n",
       "      <td>1333</td>\n",
       "      <td>18</td>\n",
       "      <td>2</td>\n",
       "      <td>2016</td>\n",
       "      <td>$75,000-99,999 (yearly)</td>\n",
       "      <td>2</td>\n",
       "    </tr>\n",
       "  </tbody>\n",
       "</table>\n",
       "<p>5 rows × 2005 columns</p>\n",
       "</div>"
      ],
      "text/plain": [
       "  AGE Alabama Alaska Arizona Arkansas California Colorado Connecticut  \\\n",
       "0  17   32786   4960   46599    20479     265186    34702       24937   \n",
       "1  24   35919   8125   52725    21946     323861    43542       23000   \n",
       "2  26   33072   7152   49883    20064     315190    42875       22076   \n",
       "3  26   33072   7152   49883    20064     315190    42875       22076   \n",
       "4  27   31518   7021   47625    19310     307712    42881       22477   \n",
       "\n",
       "  Delaware District of Columbia  ... SECU SEST CMINTVW CMLSTYR CMFIVYR  \\\n",
       "0     5945                 2603  ...    3  330    1401    1389    1333   \n",
       "1     6850                 6561  ...    3  311    1412    1400    1345   \n",
       "2     7001                 6904  ...    1  347    1410    1398    1345   \n",
       "3     7001                 6904  ...    2  322    1407    1395    1345   \n",
       "4     6686                 7255  ...    2  311    1395    1383    1333   \n",
       "\n",
       "  QUARTER PHASE INTVWYEAR             Salary_Range Number_Kids  \n",
       "0      21     1      2016  $20,000-24,999 (yearly)           0  \n",
       "1      24     1      2017  $15,000-19,999 (yearly)           0  \n",
       "2      24     1      2017  $25,000-29,999 (yearly)           4  \n",
       "3      22     1      2017  $75,000-99,999 (yearly)           2  \n",
       "4      18     2      2016  $75,000-99,999 (yearly)           2  \n",
       "\n",
       "[5 rows x 2005 columns]"
      ]
     },
     "execution_count": 190,
     "metadata": {},
     "output_type": "execute_result"
    }
   ],
   "source": [
    "# Merging of the 2015-2017 Male Data (men with vasectomies) to the Census data.\n",
    "df_mergevas = df_states.merge(df_vasoper, left_on='AGE', right_on='RSCRAGE')\n",
    "df_mergevas.head()"
   ]
  },
  {
   "cell_type": "code",
   "execution_count": 191,
   "metadata": {},
   "outputs": [
    {
     "data": {
      "text/plain": [
       "<matplotlib.axes._subplots.AxesSubplot at 0x11aade550>"
      ]
     },
     "execution_count": 191,
     "metadata": {},
     "output_type": "execute_result"
    },
    {
     "data": {
      "image/png": "[encoded data removed]",
      "text/plain": [
       "<Figure size 1080x360 with 1 Axes>"
      ]
     },
     "metadata": {
      "needs_background": "light"
     },
     "output_type": "display_data"
    }
   ],
   "source": [
    "df_mergevas.groupby('RSCRAGE')['RSCRAGE'].count().plot.bar(rot=0, figsize=(15,5))"
   ]
  },
  {
   "cell_type": "code",
   "execution_count": 192,
   "metadata": {},
   "outputs": [
    {
     "data": {
      "text/plain": [
       "<matplotlib.axes._subplots.AxesSubplot at 0x11a47b940>"
      ]
     },
     "execution_count": 192,
     "metadata": {},
     "output_type": "execute_result"
    },
    {
     "data": {
      "image/png": "[encoded data removed]",
      "text/plain": [
       "<Figure size 2520x360 with 1 Axes>"
      ]
     },
     "metadata": {
      "needs_background": "light"
     },
     "output_type": "display_data"
    }
   ],
   "source": [
    "df_mergevas.groupby('Alabama')['Alabama'].count().plot.bar(rot=0, figsize=(35,5))"
   ]
  },
  {
   "cell_type": "code",
   "execution_count": 194,
   "metadata": {},
   "outputs": [
    {
     "data": {
      "text/plain": [
       "<matplotlib.axes._subplots.AxesSubplot at 0x11abfaa58>"
      ]
     },
     "execution_count": 194,
     "metadata": {},
     "output_type": "execute_result"
    },
    {
     "data": {
      "image/png": "[encoded data removed]",
      "text/plain": [
       "<Figure size 2520x360 with 1 Axes>"
      ]
     },
     "metadata": {
      "needs_background": "light"
     },
     "output_type": "display_data"
    }
   ],
   "source": [
    "df_mergevas.groupby('New York')['New York'].count().plot.bar(rot=0, figsize=(35,5))"
   ]
  },
  {
   "cell_type": "markdown",
   "metadata": {},
   "source": [
    "The data visuals definitely look different. With more time, I would go into greater detail about what these mean and learn how to interpret data in a more informed way. I would also love to re-merge my datasets and create geographical US heat map showing where men who get vasectomies are most likely to live."
   ]
  },
  {
   "cell_type": "markdown",
   "metadata": {},
   "source": [
    "-------------"
   ]
  },
  {
   "cell_type": "markdown",
   "metadata": {},
   "source": [
    "## <font color=Magenta>Machine Learning<font> ###"
   ]
  },
  {
   "cell_type": "markdown",
   "metadata": {},
   "source": [
    "Below I am trying to delop machine learning to predict whether or not a man will get a vasectomy. Based on what we learned in class and with help from __[this website](https://towardsdatascience.com/random-forest-in-python-24d0893d51c0)__, I was able to create the following basic machine learning code. \n",
    "\n",
    "However, I encountered a problem. The majority of the answers from the 2015-2017 Male Data were recorded as not scalar numbers. Therefore, I could not run the entire dataset (all 1951 variables) through the machine learning code. I could only run the code on the variables that recorded scalar values. That left me with 6 variables to run. In the future, I want to clean more column so that I can have more variables to run through the machine learning. The more variables, the more chance for the code to check and the more accurate the results will be. \n",
    "\n",
    "I am aware that the following code is extremely inaccurate. However, I have learned how to run machine learning and what next steps would be nesecary to create a more realistic model. There also might be a different typer a machine learning that I could have used for variables with non-scalar values, but I was not aware."
   ]
  },
  {
   "cell_type": "code",
   "execution_count": 275,
   "metadata": {},
   "outputs": [],
   "source": [
    "import numpy as np\n",
    "import pandas as pd\n",
    "from sklearn.model_selection import train_test_split\n",
    "from sklearn.ensemble import RandomForestRegressor"
   ]
  },
  {
   "cell_type": "code",
   "execution_count": 276,
   "metadata": {},
   "outputs": [
    {
     "data": {
      "text/html": [
       "<div>\n",
       "<style scoped>\n",
       "    .dataframe tbody tr th:only-of-type {\n",
       "        vertical-align: middle;\n",
       "    }\n",
       "\n",
       "    .dataframe tbody tr th {\n",
       "        vertical-align: top;\n",
       "    }\n",
       "\n",
       "    .dataframe thead th {\n",
       "        text-align: right;\n",
       "    }\n",
       "</style>\n",
       "<table border=\"1\" class=\"dataframe\">\n",
       "  <thead>\n",
       "    <tr style=\"text-align: right;\">\n",
       "      <th></th>\n",
       "      <th>RSCRAGE</th>\n",
       "      <th>EVEROPER</th>\n",
       "      <th>Number_Kids</th>\n",
       "      <th>VRY1STAG</th>\n",
       "      <th>LSEXRAGE</th>\n",
       "      <th>AGEBABY1</th>\n",
       "    </tr>\n",
       "  </thead>\n",
       "  <tbody>\n",
       "    <tr>\n",
       "      <th>0</th>\n",
       "      <td>29</td>\n",
       "      <td>0</td>\n",
       "      <td>1</td>\n",
       "      <td>18.0</td>\n",
       "      <td>29.0</td>\n",
       "      <td>23.0</td>\n",
       "    </tr>\n",
       "    <tr>\n",
       "      <th>1</th>\n",
       "      <td>18</td>\n",
       "      <td>0</td>\n",
       "      <td>0</td>\n",
       "      <td>NaN</td>\n",
       "      <td>NaN</td>\n",
       "      <td>NaN</td>\n",
       "    </tr>\n",
       "    <tr>\n",
       "      <th>2</th>\n",
       "      <td>23</td>\n",
       "      <td>0</td>\n",
       "      <td>0</td>\n",
       "      <td>NaN</td>\n",
       "      <td>NaN</td>\n",
       "      <td>NaN</td>\n",
       "    </tr>\n",
       "    <tr>\n",
       "      <th>3</th>\n",
       "      <td>17</td>\n",
       "      <td>0</td>\n",
       "      <td>0</td>\n",
       "      <td>NaN</td>\n",
       "      <td>NaN</td>\n",
       "      <td>NaN</td>\n",
       "    </tr>\n",
       "    <tr>\n",
       "      <th>4</th>\n",
       "      <td>37</td>\n",
       "      <td>0</td>\n",
       "      <td>0</td>\n",
       "      <td>12.0</td>\n",
       "      <td>20.0</td>\n",
       "      <td>NaN</td>\n",
       "    </tr>\n",
       "  </tbody>\n",
       "</table>\n",
       "</div>"
      ],
      "text/plain": [
       "   RSCRAGE  EVEROPER  Number_Kids  VRY1STAG  LSEXRAGE  AGEBABY1\n",
       "0       29         0            1      18.0      29.0      23.0\n",
       "1       18         0            0       NaN       NaN       NaN\n",
       "2       23         0            0       NaN       NaN       NaN\n",
       "3       17         0            0       NaN       NaN       NaN\n",
       "4       37         0            0      12.0      20.0       NaN"
      ]
     },
     "execution_count": 276,
     "metadata": {},
     "output_type": "execute_result"
    }
   ],
   "source": [
    "# Creating a subset of the varibles that have scalar values to be run.\n",
    "df_subset=df_everoper[['RSCRAGE', 'EVEROPER', 'Number_Kids', 'VRY1STAG', 'LSEXRAGE', 'AGEBABY1']]\n",
    "df_subset.head()"
   ]
  },
  {
   "cell_type": "code",
   "execution_count": 277,
   "metadata": {},
   "outputs": [
    {
     "data": {
      "text/html": [
       "<div>\n",
       "<style scoped>\n",
       "    .dataframe tbody tr th:only-of-type {\n",
       "        vertical-align: middle;\n",
       "    }\n",
       "\n",
       "    .dataframe tbody tr th {\n",
       "        vertical-align: top;\n",
       "    }\n",
       "\n",
       "    .dataframe thead th {\n",
       "        text-align: right;\n",
       "    }\n",
       "</style>\n",
       "<table border=\"1\" class=\"dataframe\">\n",
       "  <thead>\n",
       "    <tr style=\"text-align: right;\">\n",
       "      <th></th>\n",
       "      <th>RSCRAGE</th>\n",
       "      <th>EVEROPER</th>\n",
       "      <th>Number_Kids</th>\n",
       "      <th>VRY1STAG</th>\n",
       "      <th>LSEXRAGE</th>\n",
       "      <th>AGEBABY1</th>\n",
       "    </tr>\n",
       "  </thead>\n",
       "  <tbody>\n",
       "    <tr>\n",
       "      <th>0</th>\n",
       "      <td>29</td>\n",
       "      <td>0</td>\n",
       "      <td>1</td>\n",
       "      <td>18.0</td>\n",
       "      <td>29.0</td>\n",
       "      <td>23.0</td>\n",
       "    </tr>\n",
       "    <tr>\n",
       "      <th>5</th>\n",
       "      <td>49</td>\n",
       "      <td>0</td>\n",
       "      <td>2</td>\n",
       "      <td>17.0</td>\n",
       "      <td>49.0</td>\n",
       "      <td>19.0</td>\n",
       "    </tr>\n",
       "    <tr>\n",
       "      <th>9</th>\n",
       "      <td>31</td>\n",
       "      <td>0</td>\n",
       "      <td>4</td>\n",
       "      <td>19.0</td>\n",
       "      <td>31.0</td>\n",
       "      <td>21.0</td>\n",
       "    </tr>\n",
       "    <tr>\n",
       "      <th>11</th>\n",
       "      <td>30</td>\n",
       "      <td>0</td>\n",
       "      <td>0</td>\n",
       "      <td>19.0</td>\n",
       "      <td>30.0</td>\n",
       "      <td>29.0</td>\n",
       "    </tr>\n",
       "    <tr>\n",
       "      <th>13</th>\n",
       "      <td>31</td>\n",
       "      <td>0</td>\n",
       "      <td>1</td>\n",
       "      <td>29.0</td>\n",
       "      <td>31.0</td>\n",
       "      <td>30.0</td>\n",
       "    </tr>\n",
       "  </tbody>\n",
       "</table>\n",
       "</div>"
      ],
      "text/plain": [
       "    RSCRAGE  EVEROPER  Number_Kids  VRY1STAG  LSEXRAGE  AGEBABY1\n",
       "0        29         0            1      18.0      29.0      23.0\n",
       "5        49         0            2      17.0      49.0      19.0\n",
       "9        31         0            4      19.0      31.0      21.0\n",
       "11       30         0            0      19.0      30.0      29.0\n",
       "13       31         0            1      29.0      31.0      30.0"
      ]
     },
     "execution_count": 277,
     "metadata": {},
     "output_type": "execute_result"
    }
   ],
   "source": [
    "# Got rid of all NaN values so that there were only numbers present in the dataset I am working with.\n",
    "df_features=df_subset.dropna()\n",
    "df_features.head()"
   ]
  },
  {
   "cell_type": "code",
   "execution_count": 278,
   "metadata": {},
   "outputs": [
    {
     "name": "stdout",
     "output_type": "stream",
     "text": [
      "The shape of our features is: (1780, 6)\n"
     ]
    },
    {
     "data": {
      "text/html": [
       "<div>\n",
       "<style scoped>\n",
       "    .dataframe tbody tr th:only-of-type {\n",
       "        vertical-align: middle;\n",
       "    }\n",
       "\n",
       "    .dataframe tbody tr th {\n",
       "        vertical-align: top;\n",
       "    }\n",
       "\n",
       "    .dataframe thead th {\n",
       "        text-align: right;\n",
       "    }\n",
       "</style>\n",
       "<table border=\"1\" class=\"dataframe\">\n",
       "  <thead>\n",
       "    <tr style=\"text-align: right;\">\n",
       "      <th></th>\n",
       "      <th>RSCRAGE</th>\n",
       "      <th>EVEROPER</th>\n",
       "      <th>Number_Kids</th>\n",
       "      <th>VRY1STAG</th>\n",
       "      <th>LSEXRAGE</th>\n",
       "      <th>AGEBABY1</th>\n",
       "    </tr>\n",
       "  </thead>\n",
       "  <tbody>\n",
       "    <tr>\n",
       "      <th>0</th>\n",
       "      <td>29</td>\n",
       "      <td>0</td>\n",
       "      <td>1</td>\n",
       "      <td>18.0</td>\n",
       "      <td>29.0</td>\n",
       "      <td>23.0</td>\n",
       "    </tr>\n",
       "    <tr>\n",
       "      <th>5</th>\n",
       "      <td>49</td>\n",
       "      <td>0</td>\n",
       "      <td>2</td>\n",
       "      <td>17.0</td>\n",
       "      <td>49.0</td>\n",
       "      <td>19.0</td>\n",
       "    </tr>\n",
       "    <tr>\n",
       "      <th>9</th>\n",
       "      <td>31</td>\n",
       "      <td>0</td>\n",
       "      <td>4</td>\n",
       "      <td>19.0</td>\n",
       "      <td>31.0</td>\n",
       "      <td>21.0</td>\n",
       "    </tr>\n",
       "    <tr>\n",
       "      <th>11</th>\n",
       "      <td>30</td>\n",
       "      <td>0</td>\n",
       "      <td>0</td>\n",
       "      <td>19.0</td>\n",
       "      <td>30.0</td>\n",
       "      <td>29.0</td>\n",
       "    </tr>\n",
       "    <tr>\n",
       "      <th>13</th>\n",
       "      <td>31</td>\n",
       "      <td>0</td>\n",
       "      <td>1</td>\n",
       "      <td>29.0</td>\n",
       "      <td>31.0</td>\n",
       "      <td>30.0</td>\n",
       "    </tr>\n",
       "  </tbody>\n",
       "</table>\n",
       "</div>"
      ],
      "text/plain": [
       "    RSCRAGE  EVEROPER  Number_Kids  VRY1STAG  LSEXRAGE  AGEBABY1\n",
       "0        29         0            1      18.0      29.0      23.0\n",
       "5        49         0            2      17.0      49.0      19.0\n",
       "9        31         0            4      19.0      31.0      21.0\n",
       "11       30         0            0      19.0      30.0      29.0\n",
       "13       31         0            1      29.0      31.0      30.0"
      ]
     },
     "execution_count": 278,
     "metadata": {},
     "output_type": "execute_result"
    }
   ],
   "source": [
    "features = df_features\n",
    "print('The shape of our features is:', features.shape)\n",
    "features.head()"
   ]
  },
  {
   "cell_type": "code",
   "execution_count": 279,
   "metadata": {},
   "outputs": [
    {
     "data": {
      "text/html": [
       "<div>\n",
       "<style scoped>\n",
       "    .dataframe tbody tr th:only-of-type {\n",
       "        vertical-align: middle;\n",
       "    }\n",
       "\n",
       "    .dataframe tbody tr th {\n",
       "        vertical-align: top;\n",
       "    }\n",
       "\n",
       "    .dataframe thead th {\n",
       "        text-align: right;\n",
       "    }\n",
       "</style>\n",
       "<table border=\"1\" class=\"dataframe\">\n",
       "  <thead>\n",
       "    <tr style=\"text-align: right;\">\n",
       "      <th></th>\n",
       "      <th>RSCRAGE</th>\n",
       "      <th>EVEROPER</th>\n",
       "      <th>Number_Kids</th>\n",
       "      <th>VRY1STAG</th>\n",
       "      <th>LSEXRAGE</th>\n",
       "      <th>AGEBABY1</th>\n",
       "    </tr>\n",
       "  </thead>\n",
       "  <tbody>\n",
       "    <tr>\n",
       "      <th>count</th>\n",
       "      <td>1780.000000</td>\n",
       "      <td>1780.000000</td>\n",
       "      <td>1780.000000</td>\n",
       "      <td>1780.000000</td>\n",
       "      <td>1780.000000</td>\n",
       "      <td>1780.000000</td>\n",
       "    </tr>\n",
       "    <tr>\n",
       "      <th>mean</th>\n",
       "      <td>37.169663</td>\n",
       "      <td>0.101124</td>\n",
       "      <td>1.294944</td>\n",
       "      <td>16.906180</td>\n",
       "      <td>37.074157</td>\n",
       "      <td>25.938202</td>\n",
       "    </tr>\n",
       "    <tr>\n",
       "      <th>std</th>\n",
       "      <td>7.519163</td>\n",
       "      <td>0.301577</td>\n",
       "      <td>1.151326</td>\n",
       "      <td>3.993765</td>\n",
       "      <td>7.427605</td>\n",
       "      <td>5.859763</td>\n",
       "    </tr>\n",
       "    <tr>\n",
       "      <th>min</th>\n",
       "      <td>18.000000</td>\n",
       "      <td>0.000000</td>\n",
       "      <td>0.000000</td>\n",
       "      <td>4.000000</td>\n",
       "      <td>18.000000</td>\n",
       "      <td>8.000000</td>\n",
       "    </tr>\n",
       "    <tr>\n",
       "      <th>25%</th>\n",
       "      <td>31.000000</td>\n",
       "      <td>0.000000</td>\n",
       "      <td>0.000000</td>\n",
       "      <td>15.000000</td>\n",
       "      <td>31.000000</td>\n",
       "      <td>21.000000</td>\n",
       "    </tr>\n",
       "    <tr>\n",
       "      <th>50%</th>\n",
       "      <td>38.000000</td>\n",
       "      <td>0.000000</td>\n",
       "      <td>1.000000</td>\n",
       "      <td>16.000000</td>\n",
       "      <td>38.000000</td>\n",
       "      <td>25.000000</td>\n",
       "    </tr>\n",
       "    <tr>\n",
       "      <th>75%</th>\n",
       "      <td>43.000000</td>\n",
       "      <td>0.000000</td>\n",
       "      <td>2.000000</td>\n",
       "      <td>18.000000</td>\n",
       "      <td>43.000000</td>\n",
       "      <td>30.000000</td>\n",
       "    </tr>\n",
       "    <tr>\n",
       "      <th>max</th>\n",
       "      <td>49.000000</td>\n",
       "      <td>1.000000</td>\n",
       "      <td>4.000000</td>\n",
       "      <td>44.000000</td>\n",
       "      <td>50.000000</td>\n",
       "      <td>47.000000</td>\n",
       "    </tr>\n",
       "  </tbody>\n",
       "</table>\n",
       "</div>"
      ],
      "text/plain": [
       "           RSCRAGE     EVEROPER  Number_Kids     VRY1STAG     LSEXRAGE  \\\n",
       "count  1780.000000  1780.000000  1780.000000  1780.000000  1780.000000   \n",
       "mean     37.169663     0.101124     1.294944    16.906180    37.074157   \n",
       "std       7.519163     0.301577     1.151326     3.993765     7.427605   \n",
       "min      18.000000     0.000000     0.000000     4.000000    18.000000   \n",
       "25%      31.000000     0.000000     0.000000    15.000000    31.000000   \n",
       "50%      38.000000     0.000000     1.000000    16.000000    38.000000   \n",
       "75%      43.000000     0.000000     2.000000    18.000000    43.000000   \n",
       "max      49.000000     1.000000     4.000000    44.000000    50.000000   \n",
       "\n",
       "          AGEBABY1  \n",
       "count  1780.000000  \n",
       "mean     25.938202  \n",
       "std       5.859763  \n",
       "min       8.000000  \n",
       "25%      21.000000  \n",
       "50%      25.000000  \n",
       "75%      30.000000  \n",
       "max      47.000000  "
      ]
     },
     "execution_count": 279,
     "metadata": {},
     "output_type": "execute_result"
    }
   ],
   "source": [
    "features.describe()"
   ]
  },
  {
   "cell_type": "code",
   "execution_count": 280,
   "metadata": {},
   "outputs": [],
   "source": [
    "# I want the machine learning to predict whether or not a man will get a vasectomy. Therefore, EVEROPER (the variable for that), can not be used.\n",
    "features = pd.get_dummies(features)"
   ]
  },
  {
   "cell_type": "code",
   "execution_count": 282,
   "metadata": {},
   "outputs": [],
   "source": [
    "labels = np.array(features['EVEROPER'])"
   ]
  },
  {
   "cell_type": "code",
   "execution_count": 283,
   "metadata": {},
   "outputs": [],
   "source": [
    "features= features.drop('EVEROPER', axis = 1)"
   ]
  },
  {
   "cell_type": "code",
   "execution_count": 284,
   "metadata": {},
   "outputs": [],
   "source": [
    "feature_list = list(features.columns)"
   ]
  },
  {
   "cell_type": "code",
   "execution_count": 287,
   "metadata": {},
   "outputs": [
    {
     "data": {
      "text/plain": [
       "['RSCRAGE', 'Number_Kids', 'VRY1STAG', 'LSEXRAGE', 'AGEBABY1']"
      ]
     },
     "execution_count": 287,
     "metadata": {},
     "output_type": "execute_result"
    }
   ],
   "source": [
    "# The list of variables that will be used to predict\n",
    "feature_list"
   ]
  },
  {
   "cell_type": "code",
   "execution_count": 288,
   "metadata": {},
   "outputs": [],
   "source": [
    "features = np.array(features)"
   ]
  },
  {
   "cell_type": "code",
   "execution_count": 289,
   "metadata": {},
   "outputs": [],
   "source": [
    "#Creating training and testing sets for running the Random Forrest. Test set = 25% and Training set =75% of data.\n",
    "train_features, test_features, train_labels, test_labels= train_test_split(features,labels, test_size = 0.25, random_state = 2)"
   ]
  },
  {
   "cell_type": "code",
   "execution_count": 290,
   "metadata": {},
   "outputs": [
    {
     "data": {
      "text/plain": [
       "(3402, 1134)"
      ]
     },
     "execution_count": 290,
     "metadata": {},
     "output_type": "execute_result"
    }
   ],
   "source": [
    "len(X_train), len(X_test)"
   ]
  },
  {
   "cell_type": "code",
   "execution_count": 291,
   "metadata": {},
   "outputs": [
    {
     "name": "stdout",
     "output_type": "stream",
     "text": [
      "Training Features Shape: (1335, 5)\n",
      "Training Labels Shape: (1335,)\n",
      "Testing Features Shape: (445, 5)\n",
      "Testing Labels Shape: (445,)\n"
     ]
    }
   ],
   "source": [
    "print('Training Features Shape:', train_features.shape)\n",
    "print('Training Labels Shape:', train_labels.shape)\n",
    "print('Testing Features Shape:', test_features.shape)\n",
    "print('Testing Labels Shape:', test_labels.shape)"
   ]
  },
  {
   "cell_type": "code",
   "execution_count": 295,
   "metadata": {},
   "outputs": [
    {
     "name": "stdout",
     "output_type": "stream",
     "text": [
      "Average baseline error:  36.95\n"
     ]
    }
   ],
   "source": [
    "baseline_preds = test_features[:, feature_list.index('RSCRAGE')]\n",
    "\n",
    "baseline_errors = abs(baseline_preds - test_labels)\n",
    "\n",
    "print('Average baseline error: ', round(np.mean(baseline_errors), 2))"
   ]
  },
  {
   "cell_type": "code",
   "execution_count": 296,
   "metadata": {},
   "outputs": [],
   "source": [
    "rf = RandomForestRegressor(n_estimators = 1000, random_state = 42)\n",
    "\n",
    "rf.fit(train_features, train_labels);"
   ]
  },
  {
   "cell_type": "code",
   "execution_count": 297,
   "metadata": {},
   "outputs": [
    {
     "name": "stdout",
     "output_type": "stream",
     "text": [
      "Mean Absolute Error: 0.19 Received Vasectomy Opperation.\n"
     ]
    }
   ],
   "source": [
    "predictions = rf.predict(test_features)\n",
    "\n",
    "errors = abs(predictions - test_labels)\n",
    "\n",
    "print('Mean Absolute Error:', round(np.mean(errors), 2), 'Received Vasectomy Opperation.')"
   ]
  },
  {
   "cell_type": "code",
   "execution_count": 298,
   "metadata": {},
   "outputs": [
    {
     "name": "stdout",
     "output_type": "stream",
     "text": [
      "Accuracy: nan %.\n"
     ]
    },
    {
     "name": "stderr",
     "output_type": "stream",
     "text": [
      "/Users/SophiaSGA/miniconda3/envs/em212/lib/python3.7/site-packages/ipykernel_launcher.py:1: RuntimeWarning: divide by zero encountered in true_divide\n",
      "  \"\"\"Entry point for launching an IPython kernel.\n",
      "/Users/SophiaSGA/miniconda3/envs/em212/lib/python3.7/site-packages/ipykernel_launcher.py:1: RuntimeWarning: invalid value encountered in true_divide\n",
      "  \"\"\"Entry point for launching an IPython kernel.\n"
     ]
    }
   ],
   "source": [
    "mape = 100 * (errors / test_labels)\n",
    "\n",
    "accuracy = 100 - np.mean(mape)\n",
    "print('Accuracy:', round(accuracy, 2), '%.')"
   ]
  },
  {
   "cell_type": "markdown",
   "metadata": {},
   "source": [
    "The average baseline error is 36.95%. That is pretty high. The accuracy is non-existant. While I have successfully got a machine learning code to run on my data, I know that additional work has to be done in order to create a more accurate model to predict whether or not a man will elect to get a vasectomy."
   ]
  },
  {
   "cell_type": "markdown",
   "metadata": {},
   "source": [
    "-------------"
   ]
  },
  {
   "cell_type": "markdown",
   "metadata": {},
   "source": [
    "## <font color=Magenta>Overall Conclusions<font> ###"
   ]
  },
  {
   "cell_type": "markdown",
   "metadata": {},
   "source": [
    "This information could be very valuable to someone who needs to know men’s attitudes toward birth control. This information would be important for someone marketing a new form of birth control to men and knowing which demographic and psychographic group of men to target. With the current contraceptive market being dominated by contraceptive methods for women, companies developing a contraceptive for men will need as much insight as possible to obtain significant market share. \n",
    "\n",
    "This dataset did not explore the dependancy that men have on female contraceptives as much as I would have liked them to. In the future, not only will I make adjustments to the above analysis to make it more robust, but I will also find an additional dataset that talks more about the contraceptive choices being made in the relationship.\n",
    "\n",
    "I have learned a lot about python, coding, and GitHub. Being new to these skill sets, it took some time to adjust. Considering that I was only able figure out how to upload my data last week, I have made great progress! I am excited to know what I could do with this data, given more time and more chances to enhance my coding capabilities. I acknowledge the next steps that I could take to continue working on this project. Thank you for pushing my class and I to go beyond our comfort zone and learn something valuable. This project definitely taught me a skill set that I can use in the future."
   ]
  },
  {
   "cell_type": "code",
   "execution_count": null,
   "metadata": {},
   "outputs": [],
   "source": []
  }
 ],
 "metadata": {
  "kernelspec": {
   "display_name": "Python 3",
   "language": "python",
   "name": "python3"
  },
  "language_info": {
   "codemirror_mode": {
    "name": "ipython",
    "version": 3
   },
   "file_extension": ".py",
   "mimetype": "text/x-python",
   "name": "python",
   "nbconvert_exporter": "python",
   "pygments_lexer": "ipython3",
   "version": "3.7.1"
  }
 },
 "nbformat": 4,
 "nbformat_minor": 2
}
