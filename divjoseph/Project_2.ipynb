{
 "cells": [
  {
   "cell_type": "markdown",
   "metadata": {},
   "source": [
    "# Mental Health Attitudes and their impacts on Tech Organizations \n",
    "***By: Divya Joseph***\n",
    "\n",
    "**Table of Contents**  \n",
    "   1. Import Data\n",
    "   2. Background\n",
    "   3. Cleaning Data\n",
    "   4. Exploratory Data Analysis \n",
    "   5. Results\n",
    "\n",
    "### 1. Background"
   ]
  },
  {
   "cell_type": "markdown",
   "metadata": {},
   "source": [
    "For this data science project, I wanted to interpret and work on a data set that I was very curious about. As background, I’m very interested in health care, but have an engineering background and am planning on working in biotech, or a related field in the future. As such, when I came across a data set about attitudes on mental health in tech workplaces, I was intrigued.  From what I have experienced so far as a young professional, my knowledge about mental health in tech workplaces is that currently it is a fairly stigmatized topic. From what I know, mental health is not often talked about and is not something employers encourage employees to discuss, though it is important, in my opinion. \n",
    "\n",
    "I thought it would be interesting to analyze and interpret data about this topic and to see if I could answer some of the already present questions I have in my mind about working in tech and to understand what individuals in the current working sector have experienced. Moreover, this information and interpretation would be vital to most tech organizations that are looking out for the best for their employees, as healthy discussion of health is important in employee satisfaction and retention. For context, I would define workplace attitudes as the company culture surrounding certain topics, in this case, mental health, and underlying policies and procedures put into place around these topics. \n",
    "\n",
    "As such, some of the questions I would like to address for this data science project would be the following:\n",
    "\n",
    "-\tTo understand how the willingness of the employee to discuss mental health with their employers may be related to the programs that the workplace offers and if this varies by gender in the various countries analyzed. \n",
    "-\tTo see if there is an underlying stigma in the workplace against mental health – in the attitudes of the culture of attitudes & if this impacts the presence of mental illness and the relative inability of employees to speak up to employers. \n",
    "\n",
    "\n",
    "**Data**\n",
    "\n",
    "The data itself comes from an organization called the OSMI, or Open Sourcing Mental Illness, who focus on bringing awareness to mental health in the areas of tech and work. The information for the data set was acquired through surveys which individuals from all over the globe were able to take regarding different characteristics of their working environment, and general attitudes about mental wellness. Anyone with access to the link is able to take the survey.\n",
    "\n",
    "The way that I found this data set was through Kaggle, although the data is available in its raw form on the OSMI website. OSMI releases the survey every 1-2 years where the raw data is available to the public on the website. \n",
    "\n",
    "On Kaggle and what I observed on the OSMI website, the data has been used in various ways. On the Kaggle website, the data has been used to come up with some higher-level suggestions for companies and individuals on the topic of mental wellness in tech companies [1]. On Kaggle, there have been multiple projects using this data set where most of the discussion surrounded the topic of the geographical differences in attitudes on mental health, as well as the analysis of some of the strongest predictors of mental illness or certain attitudes [2,3]. Another interesting analysis involved the prediction of whether an individual should seek treatment for their mental illness based on the survey results [4].  From the extent of the analyses I have seen, I have not seen a similar analysis to what I would like to perform, but I believe it would be useful so that as a future employee, and as a future leader, I will be informed of the issues and of any stigma surrounding this topic. \n",
    "\n",
    "**Merged Data**\n",
    "\n",
    "I also wanted to see if there was any correlation in the country that the data was extracted, the attitudes about mental health, and the happiness index of that specific country. For this purpose, I obtained a data set from 2015 describing the happiness index of each country and merged this information into the survey data [5]. This data set was obtained though Kaggle but the origin is from the Gallup World Poll that calculates a countries happiness score through six factors: economic production, social support, life expectancy, freedom, absence of corruption, and generosity. "
   ]
  },
  {
   "cell_type": "markdown",
   "metadata": {},
   "source": [
    "### 2. Importing Datasets"
   ]
  },
  {
   "cell_type": "code",
   "execution_count": 56,
   "metadata": {},
   "outputs": [],
   "source": [
    "import pandas as pd\n",
    "import seaborn as sns\n",
    "import matplotlib.pyplot as plt\n",
    "import matplotlib.mlab as mlab\n",
    "from scipy import stats\n",
    "from datetime import datetime\n",
    "from dateutil.parser import parse\n",
    "from sklearn.model_selection import train_test_split\n",
    "from sklearn.model_selection import RandomizedSearchCV\n",
    "from sklearn.model_selection import ParameterGrid\n",
    "from sklearn.ensemble import RandomForestClassifier\n",
    "from sklearn.linear_model import LogisticRegression\n",
    "from sklearn.svm import l1_min_c\n",
    "from sklearn.metrics import roc_curve, auc\n",
    "sns.set_context('talk')\n",
    "sns.set_style('darkgrid')\n",
    "sns.set_palette('colorblind')"
   ]
  },
  {
   "cell_type": "markdown",
   "metadata": {},
   "source": [
    "#### Survey Data"
   ]
  },
  {
   "cell_type": "markdown",
   "metadata": {},
   "source": [
    "First, we will import the survey data and rename the columns to make the later analysis less complicated. "
   ]
  },
  {
   "cell_type": "code",
   "execution_count": 57,
   "metadata": {},
   "outputs": [],
   "source": [
    "data = pd.read_csv('https://docs.google.com/spreadsheets/d/1cr65P3ciL2tD4W4KOCTz4Ik67iD52S_DKHXypqgta2o/export?format=csv')"
   ]
  },
  {
   "cell_type": "markdown",
   "metadata": {},
   "source": [
    "reassign the names of the columns to change lengthy survey question titles to short variable names to simplify later analysis"
   ]
  },
  {
   "cell_type": "code",
   "execution_count": 58,
   "metadata": {},
   "outputs": [
    {
     "data": {
      "text/html": [
       "<div>\n",
       "<style scoped>\n",
       "    .dataframe tbody tr th:only-of-type {\n",
       "        vertical-align: middle;\n",
       "    }\n",
       "\n",
       "    .dataframe tbody tr th {\n",
       "        vertical-align: top;\n",
       "    }\n",
       "\n",
       "    .dataframe thead th {\n",
       "        text-align: right;\n",
       "    }\n",
       "</style>\n",
       "<table border=\"1\" class=\"dataframe\">\n",
       "  <thead>\n",
       "    <tr style=\"text-align: right;\">\n",
       "      <th></th>\n",
       "      <th>Timestamp</th>\n",
       "      <th>Age</th>\n",
       "      <th>Gender</th>\n",
       "      <th>Country</th>\n",
       "      <th>state</th>\n",
       "      <th>self_employed</th>\n",
       "      <th>family_history</th>\n",
       "      <th>treatment</th>\n",
       "      <th>work_interfere</th>\n",
       "      <th>no_employees</th>\n",
       "      <th>...</th>\n",
       "      <th>leave</th>\n",
       "      <th>mental_health_consequence</th>\n",
       "      <th>phys_health_consequence</th>\n",
       "      <th>coworkers</th>\n",
       "      <th>supervisor</th>\n",
       "      <th>mental_health_interview</th>\n",
       "      <th>phys_health_interview</th>\n",
       "      <th>mental_vs_physical</th>\n",
       "      <th>obs_consequence</th>\n",
       "      <th>comments</th>\n",
       "    </tr>\n",
       "  </thead>\n",
       "  <tbody>\n",
       "    <tr>\n",
       "      <th>0</th>\n",
       "      <td>8/27/2014 11:29:31</td>\n",
       "      <td>37</td>\n",
       "      <td>Female</td>\n",
       "      <td>United States</td>\n",
       "      <td>IL</td>\n",
       "      <td>NaN</td>\n",
       "      <td>No</td>\n",
       "      <td>Yes</td>\n",
       "      <td>Often</td>\n",
       "      <td>6-25</td>\n",
       "      <td>...</td>\n",
       "      <td>Somewhat easy</td>\n",
       "      <td>No</td>\n",
       "      <td>No</td>\n",
       "      <td>Some of them</td>\n",
       "      <td>Yes</td>\n",
       "      <td>No</td>\n",
       "      <td>Maybe</td>\n",
       "      <td>Yes</td>\n",
       "      <td>No</td>\n",
       "      <td>NaN</td>\n",
       "    </tr>\n",
       "  </tbody>\n",
       "</table>\n",
       "<p>1 rows × 27 columns</p>\n",
       "</div>"
      ],
      "text/plain": [
       "            Timestamp  Age  Gender        Country state self_employed  \\\n",
       "0  8/27/2014 11:29:31   37  Female  United States    IL           NaN   \n",
       "\n",
       "  family_history treatment work_interfere no_employees  ...          leave  \\\n",
       "0             No       Yes          Often         6-25  ...  Somewhat easy   \n",
       "\n",
       "  mental_health_consequence phys_health_consequence     coworkers supervisor  \\\n",
       "0                        No                      No  Some of them        Yes   \n",
       "\n",
       "  mental_health_interview phys_health_interview mental_vs_physical  \\\n",
       "0                      No                 Maybe                Yes   \n",
       "\n",
       "  obs_consequence comments  \n",
       "0              No      NaN  \n",
       "\n",
       "[1 rows x 27 columns]"
      ]
     },
     "execution_count": 58,
     "metadata": {},
     "output_type": "execute_result"
    }
   ],
   "source": [
    "data.columns = ['Timestamp', 'Age', 'Gender', 'Country', 'state', 'self_employed', 'family_history', 'treatment', 'work_interfere', 'no_employees', 'remote_work', 'tech_company', 'benefits', 'care_options', 'wellness_program', 'seek_help', 'anonymity', 'leave', 'mental_health_consequence', 'phys_health_consequence', 'coworkers', 'supervisor', 'mental_health_interview', 'phys_health_interview', 'mental_vs_physical', 'obs_consequence', 'comments' ]\n",
    "data.head(1)"
   ]
  },
  {
   "cell_type": "code",
   "execution_count": 59,
   "metadata": {},
   "outputs": [],
   "source": [
    "data = data.reset_index(drop=True); "
   ]
  },
  {
   "cell_type": "markdown",
   "metadata": {},
   "source": [
    "### Variables: \n",
    "\n",
    "+ **Timestamp**\n",
    "+ **Age**\n",
    "+ **Gender**\n",
    "+ **Country**\n",
    "+ **state**: If you live in the United States, which state or territory do you live in?\n",
    "+ **self_employed**: Are you self-employed?\n",
    "+ **family_history**: Do you have a family history of mental illness?\n",
    "+ **treatment**: Have you sought treatment for a mental health condition?\n",
    "+ **work_interfere**: If you have a mental health condition, do you feel that it interferes with your work?\n",
    "+ **no_employees**: How many employees does your company or organization have?\n",
    "+ **remote_work**: Do you work remotely (outside of an office) at least 50% of the time?\n",
    "+ **tech_company**: Is your employer primarily a tech company/organization?\n",
    "+ **benefits**: Does your employer provide mental health benefits?\n",
    "+ **care_options**: Do you know the options for mental health care your employer provides?\n",
    "+ **wellness_program**: Has your employer ever discussed mental health as part of an employee wellness program?\n",
    "+ **seek_help**: Does your employer provide resources to learn more about mental health issues and how to seek help?\n",
    "+ **anonymity**: Is your anonymity protected if you choose to take advantage of mental health or substance abuse treatment resources?\n",
    "+ **leave**: How easy is it for you to take medical leave for a mental health condition?\n",
    "+ **mental_health_consequence**: Do you think that discussing a mental health issue with your employer would have negative consequences?\n",
    "+ **phys_health_consequence**: Do you think that discussing a physical health issue with your employer would have negative consequences?\n",
    "+ **coworkers:** Would you be willing to discuss a mental health issue with your coworkers?\n",
    "+ **supervisor:** Would you be willing to discuss a mental health issue with your direct supervisor(s)?\n",
    "+ **mental_health_interview:** Would you bring up a mental health issue with a potential employer in an interview?\n",
    "+ **phys_health_interview:** Would you bring up a physical health issue with a potential employer in an interview?\n",
    "+ **mental_vs_physical:** Do you feel that your employer takes mental health as seriously as physical health?\n",
    "+ **obs_consequence:** Have you heard of or observed negative consequences for coworkers with mental health conditions in your workplace?\n",
    "+ **comments:** Any additional notes or comments"
   ]
  },
  {
   "cell_type": "markdown",
   "metadata": {},
   "source": [
    "#### Happiness Data\n",
    "\n",
    "I will now import the happiness score data and will focus on the happiness score and the health (life expectancy) because they will be the columns that are the most releveant to my analysis since I am not focusing on how the happiness score was calculated. "
   ]
  },
  {
   "cell_type": "code",
   "execution_count": 60,
   "metadata": {},
   "outputs": [
    {
     "data": {
      "text/html": [
       "<div>\n",
       "<style scoped>\n",
       "    .dataframe tbody tr th:only-of-type {\n",
       "        vertical-align: middle;\n",
       "    }\n",
       "\n",
       "    .dataframe tbody tr th {\n",
       "        vertical-align: top;\n",
       "    }\n",
       "\n",
       "    .dataframe thead th {\n",
       "        text-align: right;\n",
       "    }\n",
       "</style>\n",
       "<table border=\"1\" class=\"dataframe\">\n",
       "  <thead>\n",
       "    <tr style=\"text-align: right;\">\n",
       "      <th></th>\n",
       "      <th>Country</th>\n",
       "      <th>Happiness Score</th>\n",
       "      <th>Health (Life Expectancy)</th>\n",
       "    </tr>\n",
       "  </thead>\n",
       "  <tbody>\n",
       "    <tr>\n",
       "      <th>0</th>\n",
       "      <td>Switzerland</td>\n",
       "      <td>7.587</td>\n",
       "      <td>0.94143</td>\n",
       "    </tr>\n",
       "    <tr>\n",
       "      <th>1</th>\n",
       "      <td>Iceland</td>\n",
       "      <td>7.561</td>\n",
       "      <td>0.94784</td>\n",
       "    </tr>\n",
       "    <tr>\n",
       "      <th>2</th>\n",
       "      <td>Denmark</td>\n",
       "      <td>7.527</td>\n",
       "      <td>0.87464</td>\n",
       "    </tr>\n",
       "    <tr>\n",
       "      <th>3</th>\n",
       "      <td>Norway</td>\n",
       "      <td>7.522</td>\n",
       "      <td>0.88521</td>\n",
       "    </tr>\n",
       "    <tr>\n",
       "      <th>4</th>\n",
       "      <td>Canada</td>\n",
       "      <td>7.427</td>\n",
       "      <td>0.90563</td>\n",
       "    </tr>\n",
       "  </tbody>\n",
       "</table>\n",
       "</div>"
      ],
      "text/plain": [
       "       Country  Happiness Score  Health (Life Expectancy)\n",
       "0  Switzerland            7.587                   0.94143\n",
       "1      Iceland            7.561                   0.94784\n",
       "2      Denmark            7.527                   0.87464\n",
       "3       Norway            7.522                   0.88521\n",
       "4       Canada            7.427                   0.90563"
      ]
     },
     "execution_count": 60,
     "metadata": {},
     "output_type": "execute_result"
    }
   ],
   "source": [
    "data_happiness = pd.read_csv('https://storage.googleapis.com/kaggle-datasets/894/2508/2015.csv?GoogleAccessId=web-data@kaggle-161607.iam.gserviceaccount.com&Expires=1556748432&Signature=XHnqplpZvKgh1z1O%2BCVhhbMQVZmll5hpyUKWWQ1jSN7zQ3zwdpMnUvDIQWLevHHSDPqzcqW37ToxTBv92GFg6xhPIYQqjuSe1WFaYhVyxnpdDqJ6KAKVX1JuKqZCDsNdHFT2VXfjRqIdHvS%2F7e7edX6bFj%2BsqBgPEZKvdq4RQKPsAtYNOIr6qqo7Y5iuFieSTBAcC%2Bcmv5hCtdoUzmlmnMLmHeDqzrkdPgde8Dm87op%2FwBMgdxnbjjGFtj126QVaKqWnm9E3PWJ3fE5r%2Buh5aDkiI%2FTPhZjQIDIFpdIPkj99ralqYxJwhL0i62Vym%2FSqGZoSBCja6rwwDn0jKmHkOg%3D%3D')\n",
    "dhcolumns = [\"Country\",\"Happiness Score\",\"Health (Life Expectancy)\"]\n",
    "data_happiness = data_happiness[dhcolumns]\n",
    "data_happiness.head()"
   ]
  },
  {
   "cell_type": "markdown",
   "metadata": {},
   "source": [
    "#### Merging the Datasets\n",
    "\n",
    "Now, to merge the datasets. I will merge the happiness data to the survey data based on the country column on the survey dataset."
   ]
  },
  {
   "cell_type": "code",
   "execution_count": 61,
   "metadata": {},
   "outputs": [
    {
     "data": {
      "text/html": [
       "<div>\n",
       "<style scoped>\n",
       "    .dataframe tbody tr th:only-of-type {\n",
       "        vertical-align: middle;\n",
       "    }\n",
       "\n",
       "    .dataframe tbody tr th {\n",
       "        vertical-align: top;\n",
       "    }\n",
       "\n",
       "    .dataframe thead th {\n",
       "        text-align: right;\n",
       "    }\n",
       "</style>\n",
       "<table border=\"1\" class=\"dataframe\">\n",
       "  <thead>\n",
       "    <tr style=\"text-align: right;\">\n",
       "      <th></th>\n",
       "      <th>Timestamp</th>\n",
       "      <th>Age</th>\n",
       "      <th>Gender</th>\n",
       "      <th>Country</th>\n",
       "      <th>state</th>\n",
       "      <th>self_employed</th>\n",
       "      <th>family_history</th>\n",
       "      <th>treatment</th>\n",
       "      <th>work_interfere</th>\n",
       "      <th>no_employees</th>\n",
       "      <th>...</th>\n",
       "      <th>phys_health_consequence</th>\n",
       "      <th>coworkers</th>\n",
       "      <th>supervisor</th>\n",
       "      <th>mental_health_interview</th>\n",
       "      <th>phys_health_interview</th>\n",
       "      <th>mental_vs_physical</th>\n",
       "      <th>obs_consequence</th>\n",
       "      <th>comments</th>\n",
       "      <th>Happiness Score</th>\n",
       "      <th>Health (Life Expectancy)</th>\n",
       "    </tr>\n",
       "  </thead>\n",
       "  <tbody>\n",
       "    <tr>\n",
       "      <th>0</th>\n",
       "      <td>8/27/2014 11:29:31</td>\n",
       "      <td>37</td>\n",
       "      <td>Female</td>\n",
       "      <td>United States</td>\n",
       "      <td>IL</td>\n",
       "      <td>NaN</td>\n",
       "      <td>No</td>\n",
       "      <td>Yes</td>\n",
       "      <td>Often</td>\n",
       "      <td>6-25</td>\n",
       "      <td>...</td>\n",
       "      <td>No</td>\n",
       "      <td>Some of them</td>\n",
       "      <td>Yes</td>\n",
       "      <td>No</td>\n",
       "      <td>Maybe</td>\n",
       "      <td>Yes</td>\n",
       "      <td>No</td>\n",
       "      <td>NaN</td>\n",
       "      <td>7.119</td>\n",
       "      <td>0.86179</td>\n",
       "    </tr>\n",
       "    <tr>\n",
       "      <th>1</th>\n",
       "      <td>8/27/2014 11:29:37</td>\n",
       "      <td>44</td>\n",
       "      <td>M</td>\n",
       "      <td>United States</td>\n",
       "      <td>IN</td>\n",
       "      <td>NaN</td>\n",
       "      <td>No</td>\n",
       "      <td>No</td>\n",
       "      <td>Rarely</td>\n",
       "      <td>More than 1000</td>\n",
       "      <td>...</td>\n",
       "      <td>No</td>\n",
       "      <td>No</td>\n",
       "      <td>No</td>\n",
       "      <td>No</td>\n",
       "      <td>No</td>\n",
       "      <td>Don't know</td>\n",
       "      <td>No</td>\n",
       "      <td>NaN</td>\n",
       "      <td>7.119</td>\n",
       "      <td>0.86179</td>\n",
       "    </tr>\n",
       "    <tr>\n",
       "      <th>2</th>\n",
       "      <td>8/27/2014 11:30:22</td>\n",
       "      <td>31</td>\n",
       "      <td>Male</td>\n",
       "      <td>United States</td>\n",
       "      <td>TX</td>\n",
       "      <td>NaN</td>\n",
       "      <td>No</td>\n",
       "      <td>No</td>\n",
       "      <td>Never</td>\n",
       "      <td>100-500</td>\n",
       "      <td>...</td>\n",
       "      <td>No</td>\n",
       "      <td>Some of them</td>\n",
       "      <td>Yes</td>\n",
       "      <td>Yes</td>\n",
       "      <td>Yes</td>\n",
       "      <td>Don't know</td>\n",
       "      <td>No</td>\n",
       "      <td>NaN</td>\n",
       "      <td>7.119</td>\n",
       "      <td>0.86179</td>\n",
       "    </tr>\n",
       "    <tr>\n",
       "      <th>3</th>\n",
       "      <td>8/27/2014 11:31:22</td>\n",
       "      <td>33</td>\n",
       "      <td>Male</td>\n",
       "      <td>United States</td>\n",
       "      <td>TN</td>\n",
       "      <td>NaN</td>\n",
       "      <td>Yes</td>\n",
       "      <td>No</td>\n",
       "      <td>Sometimes</td>\n",
       "      <td>6-25</td>\n",
       "      <td>...</td>\n",
       "      <td>No</td>\n",
       "      <td>Yes</td>\n",
       "      <td>Yes</td>\n",
       "      <td>No</td>\n",
       "      <td>Maybe</td>\n",
       "      <td>Don't know</td>\n",
       "      <td>No</td>\n",
       "      <td>NaN</td>\n",
       "      <td>7.119</td>\n",
       "      <td>0.86179</td>\n",
       "    </tr>\n",
       "    <tr>\n",
       "      <th>4</th>\n",
       "      <td>8/27/2014 11:31:50</td>\n",
       "      <td>35</td>\n",
       "      <td>Female</td>\n",
       "      <td>United States</td>\n",
       "      <td>MI</td>\n",
       "      <td>NaN</td>\n",
       "      <td>Yes</td>\n",
       "      <td>Yes</td>\n",
       "      <td>Sometimes</td>\n",
       "      <td>1-5</td>\n",
       "      <td>...</td>\n",
       "      <td>Maybe</td>\n",
       "      <td>Some of them</td>\n",
       "      <td>No</td>\n",
       "      <td>No</td>\n",
       "      <td>No</td>\n",
       "      <td>Don't know</td>\n",
       "      <td>No</td>\n",
       "      <td>NaN</td>\n",
       "      <td>7.119</td>\n",
       "      <td>0.86179</td>\n",
       "    </tr>\n",
       "  </tbody>\n",
       "</table>\n",
       "<p>5 rows × 29 columns</p>\n",
       "</div>"
      ],
      "text/plain": [
       "            Timestamp  Age  Gender        Country state self_employed  \\\n",
       "0  8/27/2014 11:29:31   37  Female  United States    IL           NaN   \n",
       "1  8/27/2014 11:29:37   44       M  United States    IN           NaN   \n",
       "2  8/27/2014 11:30:22   31    Male  United States    TX           NaN   \n",
       "3  8/27/2014 11:31:22   33    Male  United States    TN           NaN   \n",
       "4  8/27/2014 11:31:50   35  Female  United States    MI           NaN   \n",
       "\n",
       "  family_history treatment work_interfere    no_employees  ...  \\\n",
       "0             No       Yes          Often            6-25  ...   \n",
       "1             No        No         Rarely  More than 1000  ...   \n",
       "2             No        No          Never         100-500  ...   \n",
       "3            Yes        No      Sometimes            6-25  ...   \n",
       "4            Yes       Yes      Sometimes             1-5  ...   \n",
       "\n",
       "  phys_health_consequence     coworkers supervisor mental_health_interview  \\\n",
       "0                      No  Some of them        Yes                      No   \n",
       "1                      No            No         No                      No   \n",
       "2                      No  Some of them        Yes                     Yes   \n",
       "3                      No           Yes        Yes                      No   \n",
       "4                   Maybe  Some of them         No                      No   \n",
       "\n",
       "  phys_health_interview mental_vs_physical obs_consequence comments  \\\n",
       "0                 Maybe                Yes              No      NaN   \n",
       "1                    No         Don't know              No      NaN   \n",
       "2                   Yes         Don't know              No      NaN   \n",
       "3                 Maybe         Don't know              No      NaN   \n",
       "4                    No         Don't know              No      NaN   \n",
       "\n",
       "  Happiness Score Health (Life Expectancy)  \n",
       "0           7.119                  0.86179  \n",
       "1           7.119                  0.86179  \n",
       "2           7.119                  0.86179  \n",
       "3           7.119                  0.86179  \n",
       "4           7.119                  0.86179  \n",
       "\n",
       "[5 rows x 29 columns]"
      ]
     },
     "execution_count": 61,
     "metadata": {},
     "output_type": "execute_result"
    }
   ],
   "source": [
    "mergedata = data.merge(data_happiness, left_on=[\"Country\"], right_on=[\"Country\"], suffixes=(False, False))\n",
    "mergedata.head()"
   ]
  },
  {
   "cell_type": "markdown",
   "metadata": {},
   "source": [
    "### Summarizing the data to understand what needs to be cleaned "
   ]
  },
  {
   "cell_type": "code",
   "execution_count": 62,
   "metadata": {},
   "outputs": [
    {
     "data": {
      "text/html": [
       "<div>\n",
       "<style scoped>\n",
       "    .dataframe tbody tr th:only-of-type {\n",
       "        vertical-align: middle;\n",
       "    }\n",
       "\n",
       "    .dataframe tbody tr th {\n",
       "        vertical-align: top;\n",
       "    }\n",
       "\n",
       "    .dataframe thead th {\n",
       "        text-align: right;\n",
       "    }\n",
       "</style>\n",
       "<table border=\"1\" class=\"dataframe\">\n",
       "  <thead>\n",
       "    <tr style=\"text-align: right;\">\n",
       "      <th></th>\n",
       "      <th>Timestamp</th>\n",
       "      <th>Gender</th>\n",
       "      <th>Country</th>\n",
       "      <th>state</th>\n",
       "      <th>self_employed</th>\n",
       "      <th>family_history</th>\n",
       "      <th>treatment</th>\n",
       "      <th>work_interfere</th>\n",
       "      <th>no_employees</th>\n",
       "      <th>remote_work</th>\n",
       "      <th>...</th>\n",
       "      <th>leave</th>\n",
       "      <th>mental_health_consequence</th>\n",
       "      <th>phys_health_consequence</th>\n",
       "      <th>coworkers</th>\n",
       "      <th>supervisor</th>\n",
       "      <th>mental_health_interview</th>\n",
       "      <th>phys_health_interview</th>\n",
       "      <th>mental_vs_physical</th>\n",
       "      <th>obs_consequence</th>\n",
       "      <th>comments</th>\n",
       "    </tr>\n",
       "  </thead>\n",
       "  <tbody>\n",
       "    <tr>\n",
       "      <th>count</th>\n",
       "      <td>1260</td>\n",
       "      <td>1260</td>\n",
       "      <td>1260</td>\n",
       "      <td>744</td>\n",
       "      <td>1242</td>\n",
       "      <td>1260</td>\n",
       "      <td>1260</td>\n",
       "      <td>996</td>\n",
       "      <td>1260</td>\n",
       "      <td>1260</td>\n",
       "      <td>...</td>\n",
       "      <td>1260</td>\n",
       "      <td>1260</td>\n",
       "      <td>1260</td>\n",
       "      <td>1260</td>\n",
       "      <td>1260</td>\n",
       "      <td>1260</td>\n",
       "      <td>1260</td>\n",
       "      <td>1260</td>\n",
       "      <td>1260</td>\n",
       "      <td>164</td>\n",
       "    </tr>\n",
       "    <tr>\n",
       "      <th>unique</th>\n",
       "      <td>1249</td>\n",
       "      <td>49</td>\n",
       "      <td>48</td>\n",
       "      <td>45</td>\n",
       "      <td>2</td>\n",
       "      <td>2</td>\n",
       "      <td>2</td>\n",
       "      <td>4</td>\n",
       "      <td>6</td>\n",
       "      <td>2</td>\n",
       "      <td>...</td>\n",
       "      <td>5</td>\n",
       "      <td>3</td>\n",
       "      <td>3</td>\n",
       "      <td>3</td>\n",
       "      <td>3</td>\n",
       "      <td>3</td>\n",
       "      <td>3</td>\n",
       "      <td>3</td>\n",
       "      <td>2</td>\n",
       "      <td>160</td>\n",
       "    </tr>\n",
       "    <tr>\n",
       "      <th>top</th>\n",
       "      <td>8/27/2014 17:33:53</td>\n",
       "      <td>Male</td>\n",
       "      <td>United States</td>\n",
       "      <td>CA</td>\n",
       "      <td>No</td>\n",
       "      <td>No</td>\n",
       "      <td>Yes</td>\n",
       "      <td>Sometimes</td>\n",
       "      <td>6-25</td>\n",
       "      <td>No</td>\n",
       "      <td>...</td>\n",
       "      <td>Don't know</td>\n",
       "      <td>No</td>\n",
       "      <td>No</td>\n",
       "      <td>Some of them</td>\n",
       "      <td>Yes</td>\n",
       "      <td>No</td>\n",
       "      <td>Maybe</td>\n",
       "      <td>Don't know</td>\n",
       "      <td>No</td>\n",
       "      <td>* Small family business - YMMV.</td>\n",
       "    </tr>\n",
       "    <tr>\n",
       "      <th>freq</th>\n",
       "      <td>2</td>\n",
       "      <td>616</td>\n",
       "      <td>751</td>\n",
       "      <td>138</td>\n",
       "      <td>1096</td>\n",
       "      <td>768</td>\n",
       "      <td>637</td>\n",
       "      <td>466</td>\n",
       "      <td>290</td>\n",
       "      <td>884</td>\n",
       "      <td>...</td>\n",
       "      <td>564</td>\n",
       "      <td>490</td>\n",
       "      <td>926</td>\n",
       "      <td>775</td>\n",
       "      <td>516</td>\n",
       "      <td>1009</td>\n",
       "      <td>558</td>\n",
       "      <td>576</td>\n",
       "      <td>1075</td>\n",
       "      <td>5</td>\n",
       "    </tr>\n",
       "  </tbody>\n",
       "</table>\n",
       "<p>4 rows × 26 columns</p>\n",
       "</div>"
      ],
      "text/plain": [
       "                 Timestamp Gender        Country state self_employed  \\\n",
       "count                 1260   1260           1260   744          1242   \n",
       "unique                1249     49             48    45             2   \n",
       "top     8/27/2014 17:33:53   Male  United States    CA            No   \n",
       "freq                     2    616            751   138          1096   \n",
       "\n",
       "       family_history treatment work_interfere no_employees remote_work  ...  \\\n",
       "count            1260      1260            996         1260        1260  ...   \n",
       "unique              2         2              4            6           2  ...   \n",
       "top                No       Yes      Sometimes         6-25          No  ...   \n",
       "freq              768       637            466          290         884  ...   \n",
       "\n",
       "             leave mental_health_consequence phys_health_consequence  \\\n",
       "count         1260                      1260                    1260   \n",
       "unique           5                         3                       3   \n",
       "top     Don't know                        No                      No   \n",
       "freq           564                       490                     926   \n",
       "\n",
       "           coworkers supervisor mental_health_interview phys_health_interview  \\\n",
       "count           1260       1260                    1260                  1260   \n",
       "unique             3          3                       3                     3   \n",
       "top     Some of them        Yes                      No                 Maybe   \n",
       "freq             775        516                    1009                   558   \n",
       "\n",
       "       mental_vs_physical obs_consequence                         comments  \n",
       "count                1260            1260                              164  \n",
       "unique                  3               2                              160  \n",
       "top            Don't know              No  * Small family business - YMMV.  \n",
       "freq                  576            1075                                5  \n",
       "\n",
       "[4 rows x 26 columns]"
      ]
     },
     "execution_count": 62,
     "metadata": {},
     "output_type": "execute_result"
    }
   ],
   "source": [
    "data.describe(include=['O'])"
   ]
  },
  {
   "cell_type": "code",
   "execution_count": 63,
   "metadata": {},
   "outputs": [],
   "source": [
    "#date_string = data.Timestamp;\n",
    "#date_object = datetime.strptime(date_string, '%d/%m/%Y %I:%M:%p')\n",
    "#print(date_object)\n",
    "\n",
    "#df['col'] = pd.to_datetime(df['Timestamp'])"
   ]
  },
  {
   "cell_type": "code",
   "execution_count": 64,
   "metadata": {},
   "outputs": [
    {
     "name": "stdout",
     "output_type": "stream",
     "text": [
      "Number of rows of rows in the table:  1260\n"
     ]
    }
   ],
   "source": [
    "rows = len(data.index)\n",
    "print ('Number of rows of rows in the table: ', rows)"
   ]
  },
  {
   "cell_type": "markdown",
   "metadata": {},
   "source": [
    "### 3. Cleaning the Data"
   ]
  },
  {
   "cell_type": "markdown",
   "metadata": {},
   "source": [
    "First, we will see what types of variables are available with the data set. "
   ]
  },
  {
   "cell_type": "code",
   "execution_count": 92,
   "metadata": {},
   "outputs": [
    {
     "data": {
      "text/plain": [
       "Timestamp                    object\n",
       "Age                           int64\n",
       "Gender                       object\n",
       "Country                        int8\n",
       "state                          int8\n",
       "self_employed                object\n",
       "family_history                 int8\n",
       "treatment                      int8\n",
       "work_interfere               object\n",
       "no_employees                 object\n",
       "remote_work                  object\n",
       "tech_company                 object\n",
       "benefits                     object\n",
       "care_options                   int8\n",
       "wellness_program               int8\n",
       "seek_help                      int8\n",
       "anonymity                    object\n",
       "leave                        object\n",
       "mental_health_consequence      int8\n",
       "phys_health_consequence        int8\n",
       "coworkers                      int8\n",
       "supervisor                     int8\n",
       "mental_health_interview      object\n",
       "phys_health_interview        object\n",
       "mental_vs_physical             int8\n",
       "obs_consequence                int8\n",
       "female                         int8\n",
       "male                           int8\n",
       "dtype: object"
      ]
     },
     "execution_count": 92,
     "metadata": {},
     "output_type": "execute_result"
    }
   ],
   "source": [
    "data.dtypes"
   ]
  },
  {
   "cell_type": "markdown",
   "metadata": {},
   "source": [
    "Variables to convert to be used in modeling: Gender, Country, State, ..."
   ]
  },
  {
   "cell_type": "markdown",
   "metadata": {},
   "source": [
    "Now, to see what if any variables are missing."
   ]
  },
  {
   "cell_type": "code",
   "execution_count": 93,
   "metadata": {},
   "outputs": [
    {
     "name": "stdout",
     "output_type": "stream",
     "text": [
      "Timestamp                       0\n",
      "Age                             0\n",
      "Gender                          0\n",
      "Country                         0\n",
      "state                         516\n",
      "self_employed                  18\n",
      "family_history                  0\n",
      "treatment                       0\n",
      "work_interfere                264\n",
      "no_employees                    0\n",
      "remote_work                     0\n",
      "tech_company                    0\n",
      "benefits                        0\n",
      "care_options                    0\n",
      "wellness_program                0\n",
      "seek_help                       0\n",
      "anonymity                       0\n",
      "leave                           0\n",
      "mental_health_consequence       0\n",
      "phys_health_consequence         0\n",
      "coworkers                       0\n",
      "supervisor                      0\n",
      "mental_health_interview         0\n",
      "phys_health_interview           0\n",
      "mental_vs_physical              0\n",
      "obs_consequence                 0\n",
      "comments                     1096\n",
      "Happiness Score                 0\n",
      "Health (Life Expectancy)        0\n",
      "dtype: int64\n"
     ]
    },
    {
     "data": {
      "image/png": "[encoded data removed]",
      "text/plain": [
       "<Figure size 720x288 with 1 Axes>"
      ]
     },
     "metadata": {},
     "output_type": "display_data"
    }
   ],
   "source": [
    "f, ax = plt.subplots(figsize=(10,4))\n",
    "((mergedata.isnull().sum()/len(mergedata)) * 100).plot(kind='bar')\n",
    "plt.xticks(rotation=45, horizontalalignment='right')\n",
    "plt.title('Percent Missing by Variable')\n",
    "print((mergedata.isnull().sum()));"
   ]
  },
  {
   "cell_type": "markdown",
   "metadata": {},
   "source": [
    "It can be noted that the variables with missing variables are: state, self employed, work interfere, and comments. There is missing state data because not all of the individuals who took the survey live in the U.S. I will leave this variable in the dataset for now, so I can later analyze whether there are differences based on state in the U.S. \n",
    "\n",
    "Moreover, the reason why there since there is so much data missing in comments, and that information is not necessary for my data analysis, we can get rid of that variable. \n",
    "\n",
    "We will also look at the self employed and work interference columns to see what is happening there. \n",
    "\n",
    "First we will get rid of the comments column:"
   ]
  },
  {
   "cell_type": "code",
   "execution_count": 67,
   "metadata": {},
   "outputs": [],
   "source": [
    "data.drop('comments', axis=1, inplace = True)"
   ]
  },
  {
   "cell_type": "code",
   "execution_count": 68,
   "metadata": {},
   "outputs": [
    {
     "data": {
      "text/html": [
       "<div>\n",
       "<style scoped>\n",
       "    .dataframe tbody tr th:only-of-type {\n",
       "        vertical-align: middle;\n",
       "    }\n",
       "\n",
       "    .dataframe tbody tr th {\n",
       "        vertical-align: top;\n",
       "    }\n",
       "\n",
       "    .dataframe thead th {\n",
       "        text-align: right;\n",
       "    }\n",
       "</style>\n",
       "<table border=\"1\" class=\"dataframe\">\n",
       "  <thead>\n",
       "    <tr style=\"text-align: right;\">\n",
       "      <th></th>\n",
       "      <th>Timestamp</th>\n",
       "      <th>Age</th>\n",
       "      <th>Gender</th>\n",
       "      <th>Country</th>\n",
       "      <th>state</th>\n",
       "      <th>self_employed</th>\n",
       "      <th>family_history</th>\n",
       "      <th>treatment</th>\n",
       "      <th>work_interfere</th>\n",
       "      <th>no_employees</th>\n",
       "      <th>...</th>\n",
       "      <th>anonymity</th>\n",
       "      <th>leave</th>\n",
       "      <th>mental_health_consequence</th>\n",
       "      <th>phys_health_consequence</th>\n",
       "      <th>coworkers</th>\n",
       "      <th>supervisor</th>\n",
       "      <th>mental_health_interview</th>\n",
       "      <th>phys_health_interview</th>\n",
       "      <th>mental_vs_physical</th>\n",
       "      <th>obs_consequence</th>\n",
       "    </tr>\n",
       "  </thead>\n",
       "  <tbody>\n",
       "    <tr>\n",
       "      <th>0</th>\n",
       "      <td>8/27/2014 11:29:31</td>\n",
       "      <td>37</td>\n",
       "      <td>Female</td>\n",
       "      <td>United States</td>\n",
       "      <td>IL</td>\n",
       "      <td>NaN</td>\n",
       "      <td>No</td>\n",
       "      <td>Yes</td>\n",
       "      <td>Often</td>\n",
       "      <td>6-25</td>\n",
       "      <td>...</td>\n",
       "      <td>Yes</td>\n",
       "      <td>Somewhat easy</td>\n",
       "      <td>No</td>\n",
       "      <td>No</td>\n",
       "      <td>Some of them</td>\n",
       "      <td>Yes</td>\n",
       "      <td>No</td>\n",
       "      <td>Maybe</td>\n",
       "      <td>Yes</td>\n",
       "      <td>No</td>\n",
       "    </tr>\n",
       "  </tbody>\n",
       "</table>\n",
       "<p>1 rows × 26 columns</p>\n",
       "</div>"
      ],
      "text/plain": [
       "            Timestamp  Age  Gender        Country state self_employed  \\\n",
       "0  8/27/2014 11:29:31   37  Female  United States    IL           NaN   \n",
       "\n",
       "  family_history treatment work_interfere no_employees  ... anonymity  \\\n",
       "0             No       Yes          Often         6-25  ...       Yes   \n",
       "\n",
       "           leave mental_health_consequence phys_health_consequence  \\\n",
       "0  Somewhat easy                        No                      No   \n",
       "\n",
       "      coworkers supervisor mental_health_interview phys_health_interview  \\\n",
       "0  Some of them        Yes                      No                 Maybe   \n",
       "\n",
       "  mental_vs_physical obs_consequence  \n",
       "0                Yes              No  \n",
       "\n",
       "[1 rows x 26 columns]"
      ]
     },
     "execution_count": 68,
     "metadata": {},
     "output_type": "execute_result"
    }
   ],
   "source": [
    "data.head(1)"
   ]
  },
  {
   "cell_type": "markdown",
   "metadata": {},
   "source": [
    "### 3a.  Cleaning the gender data\n",
    "\n",
    "When taking a look at the dataset, ,it can be observed that there are multiple versions of each gender. So, when cleaning, I will first clean the gender dataset and see what needs to be done. First, I will see how many unique versions of the Gender variable there are and then clean this data. "
   ]
  },
  {
   "cell_type": "code",
   "execution_count": 69,
   "metadata": {},
   "outputs": [],
   "source": [
    "data['Gender'] = data['Gender'].str.lower()"
   ]
  },
  {
   "cell_type": "code",
   "execution_count": 70,
   "metadata": {},
   "outputs": [
    {
     "data": {
      "text/plain": [
       "43"
      ]
     },
     "execution_count": 70,
     "metadata": {},
     "output_type": "execute_result"
    }
   ],
   "source": [
    "data.Gender.value_counts()\n",
    "data.Gender.nunique()"
   ]
  },
  {
   "cell_type": "markdown",
   "metadata": {},
   "source": [
    "Needs to be cleaned -- there are various different versions of each gender and other versions that make the data set complicated. \n",
    "Male,male,M,m,Make,Man,Mail,msle,maile,Male-ish,Mal,Cis Male, Female (trans), Malr, cis male, Male (CIS), Cis Man\n",
    "Female,female,F,f,Woman, Female (cis), cis-female/femme\n",
    "Nah, A little about you, Genderqueer, non-binary, p, queer"
   ]
  },
  {
   "cell_type": "code",
   "execution_count": 71,
   "metadata": {},
   "outputs": [
    {
     "name": "stderr",
     "output_type": "stream",
     "text": [
      "/miniconda3/envs/em212/lib/python3.7/site-packages/ipykernel_launcher.py:16: SettingWithCopyWarning: \n",
      "A value is trying to be set on a copy of a slice from a DataFrame\n",
      "\n",
      "See the caveats in the documentation: http://pandas.pydata.org/pandas-docs/stable/indexing.html#indexing-view-versus-copy\n",
      "  app.launch_new_instance()\n"
     ]
    }
   ],
   "source": [
    "gender_df = data[\"Gender\"]\n",
    "type(gender_df)\n",
    "terms_to_remove = [\"trans\", \"cis\", \"queer\", \"-\", \"^\", \"_\", \",\", \"(\", \")\", \"/\", \"?\"]\n",
    "for i, gender_str in enumerate(gender_df):\n",
    "    # convert to lowercase\n",
    "    gender_lowercase_str = gender_str.lower()\n",
    "    for term in terms_to_remove:\n",
    "      gender_lowercase_str = gender_lowercase_str.replace(term, \"\")\n",
    "    if gender_lowercase_str.startswith(\"f\") or gender_lowercase_str.startswith(\"she\") or \"woman\" in gender_lowercase_str:\n",
    "      gender_lowercase_str = \"female\"\n",
    "    elif gender_lowercase_str.startswith(\"m\") or \"male\" in gender_lowercase_str:\n",
    "      gender_lowercase_str = \"male\"\n",
    "    else:\n",
    "      gender_lowercase_str = \"non-binary\"\n",
    "\n",
    "    gender_df[i] = gender_lowercase_str"
   ]
  },
  {
   "cell_type": "code",
   "execution_count": 72,
   "metadata": {},
   "outputs": [
    {
     "data": {
      "text/plain": [
       "male          995\n",
       "female        252\n",
       "non-binary     13\n",
       "Name: Gender, dtype: int64"
      ]
     },
     "execution_count": 72,
     "metadata": {},
     "output_type": "execute_result"
    }
   ],
   "source": [
    "data.Gender.value_counts()"
   ]
  },
  {
   "cell_type": "markdown",
   "metadata": {},
   "source": [
    "Since there are not enough non-binary individuals to analyze any significant correlations and since it is not the focus of this project, we will drop this variable. "
   ]
  },
  {
   "cell_type": "code",
   "execution_count": 73,
   "metadata": {},
   "outputs": [],
   "source": [
    "data = data[data.Gender != 'non-binary'];"
   ]
  },
  {
   "cell_type": "markdown",
   "metadata": {},
   "source": [
    "#### Make the gender variable boolean"
   ]
  },
  {
   "cell_type": "code",
   "execution_count": 74,
   "metadata": {},
   "outputs": [],
   "source": [
    "data = pd.concat([data, pd.get_dummies(data.Gender, drop_first=False)], axis=1)"
   ]
  },
  {
   "cell_type": "code",
   "execution_count": 75,
   "metadata": {},
   "outputs": [
    {
     "data": {
      "text/html": [
       "<div>\n",
       "<style scoped>\n",
       "    .dataframe tbody tr th:only-of-type {\n",
       "        vertical-align: middle;\n",
       "    }\n",
       "\n",
       "    .dataframe tbody tr th {\n",
       "        vertical-align: top;\n",
       "    }\n",
       "\n",
       "    .dataframe thead th {\n",
       "        text-align: right;\n",
       "    }\n",
       "</style>\n",
       "<table border=\"1\" class=\"dataframe\">\n",
       "  <thead>\n",
       "    <tr style=\"text-align: right;\">\n",
       "      <th></th>\n",
       "      <th>Timestamp</th>\n",
       "      <th>Age</th>\n",
       "      <th>Gender</th>\n",
       "      <th>Country</th>\n",
       "      <th>state</th>\n",
       "      <th>self_employed</th>\n",
       "      <th>family_history</th>\n",
       "      <th>treatment</th>\n",
       "      <th>work_interfere</th>\n",
       "      <th>no_employees</th>\n",
       "      <th>...</th>\n",
       "      <th>mental_health_consequence</th>\n",
       "      <th>phys_health_consequence</th>\n",
       "      <th>coworkers</th>\n",
       "      <th>supervisor</th>\n",
       "      <th>mental_health_interview</th>\n",
       "      <th>phys_health_interview</th>\n",
       "      <th>mental_vs_physical</th>\n",
       "      <th>obs_consequence</th>\n",
       "      <th>female</th>\n",
       "      <th>male</th>\n",
       "    </tr>\n",
       "  </thead>\n",
       "  <tbody>\n",
       "    <tr>\n",
       "      <th>0</th>\n",
       "      <td>8/27/2014 11:29:31</td>\n",
       "      <td>37</td>\n",
       "      <td>female</td>\n",
       "      <td>United States</td>\n",
       "      <td>IL</td>\n",
       "      <td>NaN</td>\n",
       "      <td>No</td>\n",
       "      <td>Yes</td>\n",
       "      <td>Often</td>\n",
       "      <td>6-25</td>\n",
       "      <td>...</td>\n",
       "      <td>No</td>\n",
       "      <td>No</td>\n",
       "      <td>Some of them</td>\n",
       "      <td>Yes</td>\n",
       "      <td>No</td>\n",
       "      <td>Maybe</td>\n",
       "      <td>Yes</td>\n",
       "      <td>No</td>\n",
       "      <td>1</td>\n",
       "      <td>0</td>\n",
       "    </tr>\n",
       "    <tr>\n",
       "      <th>1</th>\n",
       "      <td>8/27/2014 11:29:37</td>\n",
       "      <td>44</td>\n",
       "      <td>male</td>\n",
       "      <td>United States</td>\n",
       "      <td>IN</td>\n",
       "      <td>NaN</td>\n",
       "      <td>No</td>\n",
       "      <td>No</td>\n",
       "      <td>Rarely</td>\n",
       "      <td>More than 1000</td>\n",
       "      <td>...</td>\n",
       "      <td>Maybe</td>\n",
       "      <td>No</td>\n",
       "      <td>No</td>\n",
       "      <td>No</td>\n",
       "      <td>No</td>\n",
       "      <td>No</td>\n",
       "      <td>Don't know</td>\n",
       "      <td>No</td>\n",
       "      <td>0</td>\n",
       "      <td>1</td>\n",
       "    </tr>\n",
       "    <tr>\n",
       "      <th>2</th>\n",
       "      <td>8/27/2014 11:29:44</td>\n",
       "      <td>32</td>\n",
       "      <td>male</td>\n",
       "      <td>Canada</td>\n",
       "      <td>NaN</td>\n",
       "      <td>NaN</td>\n",
       "      <td>No</td>\n",
       "      <td>No</td>\n",
       "      <td>Rarely</td>\n",
       "      <td>6-25</td>\n",
       "      <td>...</td>\n",
       "      <td>No</td>\n",
       "      <td>No</td>\n",
       "      <td>Yes</td>\n",
       "      <td>Yes</td>\n",
       "      <td>Yes</td>\n",
       "      <td>Yes</td>\n",
       "      <td>No</td>\n",
       "      <td>No</td>\n",
       "      <td>0</td>\n",
       "      <td>1</td>\n",
       "    </tr>\n",
       "  </tbody>\n",
       "</table>\n",
       "<p>3 rows × 28 columns</p>\n",
       "</div>"
      ],
      "text/plain": [
       "            Timestamp  Age  Gender        Country state self_employed  \\\n",
       "0  8/27/2014 11:29:31   37  female  United States    IL           NaN   \n",
       "1  8/27/2014 11:29:37   44    male  United States    IN           NaN   \n",
       "2  8/27/2014 11:29:44   32    male         Canada   NaN           NaN   \n",
       "\n",
       "  family_history treatment work_interfere    no_employees  ...  \\\n",
       "0             No       Yes          Often            6-25  ...   \n",
       "1             No        No         Rarely  More than 1000  ...   \n",
       "2             No        No         Rarely            6-25  ...   \n",
       "\n",
       "  mental_health_consequence phys_health_consequence     coworkers supervisor  \\\n",
       "0                        No                      No  Some of them        Yes   \n",
       "1                     Maybe                      No            No         No   \n",
       "2                        No                      No           Yes        Yes   \n",
       "\n",
       "  mental_health_interview phys_health_interview mental_vs_physical  \\\n",
       "0                      No                 Maybe                Yes   \n",
       "1                      No                    No         Don't know   \n",
       "2                     Yes                   Yes                 No   \n",
       "\n",
       "  obs_consequence female male  \n",
       "0              No      1    0  \n",
       "1              No      0    1  \n",
       "2              No      0    1  \n",
       "\n",
       "[3 rows x 28 columns]"
      ]
     },
     "execution_count": 75,
     "metadata": {},
     "output_type": "execute_result"
    }
   ],
   "source": [
    "data.head(3)"
   ]
  },
  {
   "cell_type": "code",
   "execution_count": 76,
   "metadata": {},
   "outputs": [
    {
     "data": {
      "text/plain": [
       "male      995\n",
       "female    252\n",
       "Name: Gender, dtype: int64"
      ]
     },
     "execution_count": 76,
     "metadata": {},
     "output_type": "execute_result"
    }
   ],
   "source": [
    "data.Gender.value_counts()"
   ]
  },
  {
   "cell_type": "markdown",
   "metadata": {},
   "source": [
    "### 3b. Cleaning the country data"
   ]
  },
  {
   "cell_type": "markdown",
   "metadata": {},
   "source": [
    "In terms of how many different countries are represented in the survey, the counts can be seen below: "
   ]
  },
  {
   "cell_type": "code",
   "execution_count": 77,
   "metadata": {},
   "outputs": [
    {
     "data": {
      "text/plain": [
       "United States             747\n",
       "United Kingdom            180\n",
       "Canada                     71\n",
       "Germany                    44\n",
       "Netherlands                27\n",
       "Ireland                    27\n",
       "Australia                  22\n",
       "France                     13\n",
       "India                      10\n",
       "New Zealand                 8\n",
       "Italy                       7\n",
       "Switzerland                 7\n",
       "Sweden                      7\n",
       "Poland                      7\n",
       "Belgium                     6\n",
       "Brazil                      6\n",
       "South Africa                6\n",
       "Israel                      5\n",
       "Singapore                   4\n",
       "Bulgaria                    4\n",
       "Austria                     3\n",
       "Mexico                      3\n",
       "Russia                      3\n",
       "Finland                     3\n",
       "Portugal                    2\n",
       "Greece                      2\n",
       "Colombia                    2\n",
       "Denmark                     2\n",
       "Croatia                     2\n",
       "Moldova                     1\n",
       "Japan                       1\n",
       "Spain                       1\n",
       "Czech Republic              1\n",
       "Romania                     1\n",
       "China                       1\n",
       "Hungary                     1\n",
       "Costa Rica                  1\n",
       "Thailand                    1\n",
       "Philippines                 1\n",
       "Nigeria                     1\n",
       "Georgia                     1\n",
       "Norway                      1\n",
       "Slovenia                    1\n",
       "Bosnia and Herzegovina      1\n",
       "Latvia                      1\n",
       "Uruguay                     1\n",
       "Name: Country, dtype: int64"
      ]
     },
     "execution_count": 77,
     "metadata": {},
     "output_type": "execute_result"
    }
   ],
   "source": [
    "data.Country.value_counts()"
   ]
  },
  {
   "cell_type": "markdown",
   "metadata": {},
   "source": [
    "The continents that are represented are -  \n",
    "**North America ; Europe ; Australia ; Asia ; South America**  \n",
    "However, the majority of the resposes are concentrated in North America and Europe, and the other countries would not provide a thorough and well-informed interpretation. Thus, we can eliminate the data from the survey responses from the other countires."
   ]
  },
  {
   "cell_type": "markdown",
   "metadata": {},
   "source": [
    "### 3c. Cleaning the Age Data"
   ]
  },
  {
   "cell_type": "code",
   "execution_count": 90,
   "metadata": {},
   "outputs": [
    {
     "data": {
      "text/html": [
       "<div>\n",
       "<style scoped>\n",
       "    .dataframe tbody tr th:only-of-type {\n",
       "        vertical-align: middle;\n",
       "    }\n",
       "\n",
       "    .dataframe tbody tr th {\n",
       "        vertical-align: top;\n",
       "    }\n",
       "\n",
       "    .dataframe thead th {\n",
       "        text-align: right;\n",
       "    }\n",
       "</style>\n",
       "<table border=\"1\" class=\"dataframe\">\n",
       "  <thead>\n",
       "    <tr style=\"text-align: right;\">\n",
       "      <th></th>\n",
       "      <th>Age</th>\n",
       "      <th>Country</th>\n",
       "      <th>state</th>\n",
       "      <th>family_history</th>\n",
       "      <th>treatment</th>\n",
       "      <th>care_options</th>\n",
       "      <th>wellness_program</th>\n",
       "      <th>seek_help</th>\n",
       "      <th>mental_health_consequence</th>\n",
       "      <th>phys_health_consequence</th>\n",
       "      <th>coworkers</th>\n",
       "      <th>supervisor</th>\n",
       "      <th>mental_vs_physical</th>\n",
       "      <th>obs_consequence</th>\n",
       "      <th>female</th>\n",
       "      <th>male</th>\n",
       "    </tr>\n",
       "  </thead>\n",
       "  <tbody>\n",
       "    <tr>\n",
       "      <th>count</th>\n",
       "      <td>1247.000000</td>\n",
       "      <td>1247.000000</td>\n",
       "      <td>1247.000000</td>\n",
       "      <td>1247.000000</td>\n",
       "      <td>1247.000000</td>\n",
       "      <td>1247.000000</td>\n",
       "      <td>1247.000000</td>\n",
       "      <td>1247.000000</td>\n",
       "      <td>1247.000000</td>\n",
       "      <td>1247.000000</td>\n",
       "      <td>1247.000000</td>\n",
       "      <td>1247.000000</td>\n",
       "      <td>1247.000000</td>\n",
       "      <td>1247.000000</td>\n",
       "      <td>1247.000000</td>\n",
       "      <td>1247.000000</td>\n",
       "    </tr>\n",
       "    <tr>\n",
       "      <th>mean</th>\n",
       "      <td>32.105854</td>\n",
       "      <td>36.797113</td>\n",
       "      <td>12.453889</td>\n",
       "      <td>0.387330</td>\n",
       "      <td>0.501203</td>\n",
       "      <td>0.949479</td>\n",
       "      <td>1.028869</td>\n",
       "      <td>0.907779</td>\n",
       "      <td>0.848436</td>\n",
       "      <td>0.829992</td>\n",
       "      <td>0.971933</td>\n",
       "      <td>1.098637</td>\n",
       "      <td>0.807538</td>\n",
       "      <td>0.143545</td>\n",
       "      <td>0.202085</td>\n",
       "      <td>0.797915</td>\n",
       "    </tr>\n",
       "    <tr>\n",
       "      <th>std</th>\n",
       "      <td>7.282867</td>\n",
       "      <td>13.276528</td>\n",
       "      <td>15.710490</td>\n",
       "      <td>0.487335</td>\n",
       "      <td>0.500199</td>\n",
       "      <td>0.864781</td>\n",
       "      <td>0.572904</td>\n",
       "      <td>0.691843</td>\n",
       "      <td>0.765610</td>\n",
       "      <td>0.482402</td>\n",
       "      <td>0.619388</td>\n",
       "      <td>0.846515</td>\n",
       "      <td>0.832626</td>\n",
       "      <td>0.350768</td>\n",
       "      <td>0.401716</td>\n",
       "      <td>0.401716</td>\n",
       "    </tr>\n",
       "    <tr>\n",
       "      <th>min</th>\n",
       "      <td>18.000000</td>\n",
       "      <td>0.000000</td>\n",
       "      <td>-1.000000</td>\n",
       "      <td>0.000000</td>\n",
       "      <td>0.000000</td>\n",
       "      <td>0.000000</td>\n",
       "      <td>0.000000</td>\n",
       "      <td>0.000000</td>\n",
       "      <td>0.000000</td>\n",
       "      <td>0.000000</td>\n",
       "      <td>0.000000</td>\n",
       "      <td>0.000000</td>\n",
       "      <td>0.000000</td>\n",
       "      <td>0.000000</td>\n",
       "      <td>0.000000</td>\n",
       "      <td>0.000000</td>\n",
       "    </tr>\n",
       "    <tr>\n",
       "      <th>25%</th>\n",
       "      <td>27.000000</td>\n",
       "      <td>41.000000</td>\n",
       "      <td>-1.000000</td>\n",
       "      <td>0.000000</td>\n",
       "      <td>0.000000</td>\n",
       "      <td>0.000000</td>\n",
       "      <td>1.000000</td>\n",
       "      <td>0.000000</td>\n",
       "      <td>0.000000</td>\n",
       "      <td>1.000000</td>\n",
       "      <td>1.000000</td>\n",
       "      <td>0.000000</td>\n",
       "      <td>0.000000</td>\n",
       "      <td>0.000000</td>\n",
       "      <td>0.000000</td>\n",
       "      <td>1.000000</td>\n",
       "    </tr>\n",
       "    <tr>\n",
       "      <th>50%</th>\n",
       "      <td>31.000000</td>\n",
       "      <td>44.000000</td>\n",
       "      <td>2.000000</td>\n",
       "      <td>0.000000</td>\n",
       "      <td>1.000000</td>\n",
       "      <td>1.000000</td>\n",
       "      <td>1.000000</td>\n",
       "      <td>1.000000</td>\n",
       "      <td>1.000000</td>\n",
       "      <td>1.000000</td>\n",
       "      <td>1.000000</td>\n",
       "      <td>1.000000</td>\n",
       "      <td>1.000000</td>\n",
       "      <td>0.000000</td>\n",
       "      <td>0.000000</td>\n",
       "      <td>1.000000</td>\n",
       "    </tr>\n",
       "    <tr>\n",
       "      <th>75%</th>\n",
       "      <td>36.000000</td>\n",
       "      <td>44.000000</td>\n",
       "      <td>28.000000</td>\n",
       "      <td>1.000000</td>\n",
       "      <td>1.000000</td>\n",
       "      <td>2.000000</td>\n",
       "      <td>1.000000</td>\n",
       "      <td>1.000000</td>\n",
       "      <td>1.000000</td>\n",
       "      <td>1.000000</td>\n",
       "      <td>1.000000</td>\n",
       "      <td>2.000000</td>\n",
       "      <td>2.000000</td>\n",
       "      <td>0.000000</td>\n",
       "      <td>0.000000</td>\n",
       "      <td>1.000000</td>\n",
       "    </tr>\n",
       "    <tr>\n",
       "      <th>max</th>\n",
       "      <td>72.000000</td>\n",
       "      <td>45.000000</td>\n",
       "      <td>44.000000</td>\n",
       "      <td>1.000000</td>\n",
       "      <td>1.000000</td>\n",
       "      <td>2.000000</td>\n",
       "      <td>2.000000</td>\n",
       "      <td>2.000000</td>\n",
       "      <td>2.000000</td>\n",
       "      <td>2.000000</td>\n",
       "      <td>2.000000</td>\n",
       "      <td>2.000000</td>\n",
       "      <td>2.000000</td>\n",
       "      <td>1.000000</td>\n",
       "      <td>1.000000</td>\n",
       "      <td>1.000000</td>\n",
       "    </tr>\n",
       "  </tbody>\n",
       "</table>\n",
       "</div>"
      ],
      "text/plain": [
       "               Age      Country        state  family_history    treatment  \\\n",
       "count  1247.000000  1247.000000  1247.000000     1247.000000  1247.000000   \n",
       "mean     32.105854    36.797113    12.453889        0.387330     0.501203   \n",
       "std       7.282867    13.276528    15.710490        0.487335     0.500199   \n",
       "min      18.000000     0.000000    -1.000000        0.000000     0.000000   \n",
       "25%      27.000000    41.000000    -1.000000        0.000000     0.000000   \n",
       "50%      31.000000    44.000000     2.000000        0.000000     1.000000   \n",
       "75%      36.000000    44.000000    28.000000        1.000000     1.000000   \n",
       "max      72.000000    45.000000    44.000000        1.000000     1.000000   \n",
       "\n",
       "       care_options  wellness_program    seek_help  mental_health_consequence  \\\n",
       "count   1247.000000       1247.000000  1247.000000                1247.000000   \n",
       "mean       0.949479          1.028869     0.907779                   0.848436   \n",
       "std        0.864781          0.572904     0.691843                   0.765610   \n",
       "min        0.000000          0.000000     0.000000                   0.000000   \n",
       "25%        0.000000          1.000000     0.000000                   0.000000   \n",
       "50%        1.000000          1.000000     1.000000                   1.000000   \n",
       "75%        2.000000          1.000000     1.000000                   1.000000   \n",
       "max        2.000000          2.000000     2.000000                   2.000000   \n",
       "\n",
       "       phys_health_consequence    coworkers   supervisor  mental_vs_physical  \\\n",
       "count              1247.000000  1247.000000  1247.000000         1247.000000   \n",
       "mean                  0.829992     0.971933     1.098637            0.807538   \n",
       "std                   0.482402     0.619388     0.846515            0.832626   \n",
       "min                   0.000000     0.000000     0.000000            0.000000   \n",
       "25%                   1.000000     1.000000     0.000000            0.000000   \n",
       "50%                   1.000000     1.000000     1.000000            1.000000   \n",
       "75%                   1.000000     1.000000     2.000000            2.000000   \n",
       "max                   2.000000     2.000000     2.000000            2.000000   \n",
       "\n",
       "       obs_consequence       female         male  \n",
       "count      1247.000000  1247.000000  1247.000000  \n",
       "mean          0.143545     0.202085     0.797915  \n",
       "std           0.350768     0.401716     0.401716  \n",
       "min           0.000000     0.000000     0.000000  \n",
       "25%           0.000000     0.000000     1.000000  \n",
       "50%           0.000000     0.000000     1.000000  \n",
       "75%           0.000000     0.000000     1.000000  \n",
       "max           1.000000     1.000000     1.000000  "
      ]
     },
     "execution_count": 90,
     "metadata": {},
     "output_type": "execute_result"
    }
   ],
   "source": [
    "data.describe()"
   ]
  },
  {
   "cell_type": "markdown",
   "metadata": {},
   "source": [
    "Seeing that the distribtion is skewed do to the minimum and maximum ages, we can normalize these by eliminating ages that are not realistic for the working population. Since it can be assumed that individuals over 110 likely do not work as well as those under the age of 12, we can eliminate data that skews the averages. So we insert the average of the data (with the outliers taken out) to be the ages of those outliers: "
   ]
  },
  {
   "cell_type": "code",
   "execution_count": 79,
   "metadata": {},
   "outputs": [],
   "source": [
    "data.loc[(data['Age'] > 110), 'Age'] = 32\n",
    "data.loc[(data['Age'] < 12), 'Age'] = 32"
   ]
  },
  {
   "cell_type": "code",
   "execution_count": 80,
   "metadata": {},
   "outputs": [
    {
     "data": {
      "text/html": [
       "<div>\n",
       "<style scoped>\n",
       "    .dataframe tbody tr th:only-of-type {\n",
       "        vertical-align: middle;\n",
       "    }\n",
       "\n",
       "    .dataframe tbody tr th {\n",
       "        vertical-align: top;\n",
       "    }\n",
       "\n",
       "    .dataframe thead th {\n",
       "        text-align: right;\n",
       "    }\n",
       "</style>\n",
       "<table border=\"1\" class=\"dataframe\">\n",
       "  <thead>\n",
       "    <tr style=\"text-align: right;\">\n",
       "      <th></th>\n",
       "      <th>Age</th>\n",
       "      <th>female</th>\n",
       "      <th>male</th>\n",
       "    </tr>\n",
       "  </thead>\n",
       "  <tbody>\n",
       "    <tr>\n",
       "      <th>count</th>\n",
       "      <td>1247.000000</td>\n",
       "      <td>1247.000000</td>\n",
       "      <td>1247.000000</td>\n",
       "    </tr>\n",
       "    <tr>\n",
       "      <th>mean</th>\n",
       "      <td>32.105854</td>\n",
       "      <td>0.202085</td>\n",
       "      <td>0.797915</td>\n",
       "    </tr>\n",
       "    <tr>\n",
       "      <th>std</th>\n",
       "      <td>7.282867</td>\n",
       "      <td>0.401716</td>\n",
       "      <td>0.401716</td>\n",
       "    </tr>\n",
       "    <tr>\n",
       "      <th>min</th>\n",
       "      <td>18.000000</td>\n",
       "      <td>0.000000</td>\n",
       "      <td>0.000000</td>\n",
       "    </tr>\n",
       "    <tr>\n",
       "      <th>25%</th>\n",
       "      <td>27.000000</td>\n",
       "      <td>0.000000</td>\n",
       "      <td>1.000000</td>\n",
       "    </tr>\n",
       "    <tr>\n",
       "      <th>50%</th>\n",
       "      <td>31.000000</td>\n",
       "      <td>0.000000</td>\n",
       "      <td>1.000000</td>\n",
       "    </tr>\n",
       "    <tr>\n",
       "      <th>75%</th>\n",
       "      <td>36.000000</td>\n",
       "      <td>0.000000</td>\n",
       "      <td>1.000000</td>\n",
       "    </tr>\n",
       "    <tr>\n",
       "      <th>max</th>\n",
       "      <td>72.000000</td>\n",
       "      <td>1.000000</td>\n",
       "      <td>1.000000</td>\n",
       "    </tr>\n",
       "  </tbody>\n",
       "</table>\n",
       "</div>"
      ],
      "text/plain": [
       "               Age       female         male\n",
       "count  1247.000000  1247.000000  1247.000000\n",
       "mean     32.105854     0.202085     0.797915\n",
       "std       7.282867     0.401716     0.401716\n",
       "min      18.000000     0.000000     0.000000\n",
       "25%      27.000000     0.000000     1.000000\n",
       "50%      31.000000     0.000000     1.000000\n",
       "75%      36.000000     0.000000     1.000000\n",
       "max      72.000000     1.000000     1.000000"
      ]
     },
     "execution_count": 80,
     "metadata": {},
     "output_type": "execute_result"
    }
   ],
   "source": [
    "data.describe()"
   ]
  },
  {
   "cell_type": "markdown",
   "metadata": {},
   "source": [
    "### 4. Data Interpretation\n",
    "\n",
    "First, I will do some basic visualizations to see the results from the data. First, I will write the question that was asked with a pie chart describing the results:"
   ]
  },
  {
   "cell_type": "markdown",
   "metadata": {},
   "source": [
    "Do you have a family history of mental illness?"
   ]
  },
  {
   "cell_type": "code",
   "execution_count": 98,
   "metadata": {},
   "outputs": [
    {
     "data": {
      "text/plain": [
       "<matplotlib.axes._subplots.AxesSubplot at 0x119d81fd0>"
      ]
     },
     "execution_count": 98,
     "metadata": {},
     "output_type": "execute_result"
    },
    {
     "data": {
      "image/png": "[encoded data removed]",
      "text/plain": [
       "<Figure size 432x288 with 1 Axes>"
      ]
     },
     "metadata": {},
     "output_type": "display_data"
    }
   ],
   "source": [
    "dfh= data.family_history.value_counts();\n",
    "dfh.plot(kind='pie')"
   ]
  },
  {
   "cell_type": "markdown",
   "metadata": {},
   "source": [
    "Have you sought treatment for a mental health condition?"
   ]
  },
  {
   "cell_type": "code",
   "execution_count": 99,
   "metadata": {},
   "outputs": [
    {
     "data": {
      "text/plain": [
       "<matplotlib.axes._subplots.AxesSubplot at 0x11a2a5c18>"
      ]
     },
     "execution_count": 99,
     "metadata": {},
     "output_type": "execute_result"
    },
    {
     "data": {
      "image/png": "[encoded data removed]",
      "text/plain": [
       "<Figure size 432x288 with 1 Axes>"
      ]
     },
     "metadata": {},
     "output_type": "display_data"
    }
   ],
   "source": [
    "dt= data.treatment.value_counts();\n",
    "dt.plot(kind='pie')"
   ]
  },
  {
   "cell_type": "markdown",
   "metadata": {},
   "source": [
    "Next I will see what the average age is: "
   ]
  },
  {
   "cell_type": "code",
   "execution_count": 83,
   "metadata": {
    "scrolled": true
   },
   "outputs": [
    {
     "data": {
      "text/plain": [
       "Text(0.5, -0.05, 'Age')"
      ]
     },
     "execution_count": 83,
     "metadata": {},
     "output_type": "execute_result"
    },
    {
     "data": {
      "image/png": "[encoded data removed]",
      "text/plain": [
       "<Figure size 720x288 with 1 Axes>"
      ]
     },
     "metadata": {},
     "output_type": "display_data"
    }
   ],
   "source": [
    "f, ax = plt.subplots(figsize=(10,4))\n",
    "data.Age.plot(kind='hist')\n",
    "plt.xticks(rotation=0, horizontalalignment='center')\n",
    "f.text(0.5, -0.05, 'Age', ha='center')"
   ]
  },
  {
   "cell_type": "code",
   "execution_count": 84,
   "metadata": {},
   "outputs": [
    {
     "data": {
      "text/plain": [
       "<matplotlib.axes._subplots.AxesSubplot at 0x1196e0048>"
      ]
     },
     "execution_count": 84,
     "metadata": {},
     "output_type": "execute_result"
    },
    {
     "data": {
      "image/png": "[encoded data removed]",
      "text/plain": [
       "<Figure size 432x288 with 1 Axes>"
      ]
     },
     "metadata": {},
     "output_type": "display_data"
    }
   ],
   "source": [
    "sns.distplot(data['Age'],hist=True, kde=True, \n",
    "             #bins=int(180/5), color = 'darkblue', \n",
    "             #hist_kws={'edgecolor':'black'},\n",
    "             kde_kws={'linewidth': 4})"
   ]
  },
  {
   "cell_type": "markdown",
   "metadata": {},
   "source": [
    "Now, I will see if there are any correlations between the variables in the dataset. First, with a range of the variables with the original survey data and then with the happiness data included. "
   ]
  },
  {
   "cell_type": "code",
   "execution_count": 101,
   "metadata": {},
   "outputs": [],
   "source": [
    "cor = data.corr()\n",
    "cor;"
   ]
  },
  {
   "cell_type": "code",
   "execution_count": 102,
   "metadata": {},
   "outputs": [],
   "source": [
    "df1=pd.DataFrame(data)\n",
    "#demograhics \n",
    "df1['male'] = data['male'].astype('category').cat.codes\n",
    "df1['female'] = data['female'].astype('category').cat.codes\n",
    "df1['Country'] = data['Country'].astype('category').cat.codes\n",
    "df1['state'] = data['state'].astype('category').cat.codes\n",
    "#personal\n",
    "df1['family_history'] = data['family_history'].astype('category').cat.codes\n",
    "df1['treatment'] = data['treatment'].astype('category').cat.codes\n",
    "#about the company\n",
    "df1['care_options'] = data['care_options'].astype('category').cat.codes\n",
    "df1['wellness_program'] = data['wellness_program'].astype('category').cat.codes\n",
    "df1['seek_help'] = data['seek_help'].astype('category').cat.codes\n",
    "df1['mental_health_consequence'] = data['mental_health_consequence'].astype('category').cat.codes\n",
    "df1['phys_health_consequence'] = data['phys_health_consequence'].astype('category').cat.codes\n",
    "df1['coworkers'] = data['coworkers'].astype('category').cat.codes\n",
    "df1['supervisor'] = data['supervisor'].astype('category').cat.codes\n",
    "df1['mental_vs_physical'] = data['mental_vs_physical'].astype('category').cat.codes\n",
    "df1['obs_consequence'] = data['obs_consequence'].astype('category').cat.codes"
   ]
  },
  {
   "cell_type": "code",
   "execution_count": 103,
   "metadata": {},
   "outputs": [
    {
     "data": {
      "text/plain": [
       "<matplotlib.axes._subplots.AxesSubplot at 0x119fd5780>"
      ]
     },
     "execution_count": 103,
     "metadata": {},
     "output_type": "execute_result"
    },
    {
     "data": {
      "image/png": "[encoded data removed]",
      "text/plain": [
       "<Figure size 432x288 with 2 Axes>"
      ]
     },
     "metadata": {},
     "output_type": "display_data"
    }
   ],
   "source": [
    "corr=df1.corr()\n",
    "sns.heatmap(corr, \n",
    "        xticklabels=corr.columns,\n",
    "        yticklabels=corr.columns, cmap = 'RdBu_r')\n",
    "#corr.style.background_gradient(cmap='RdBu_r', axis=1).set_precision(2)"
   ]
  },
  {
   "cell_type": "code",
   "execution_count": 104,
   "metadata": {},
   "outputs": [
    {
     "data": {
      "text/plain": [
       "<matplotlib.axes._subplots.AxesSubplot at 0x11a527208>"
      ]
     },
     "execution_count": 104,
     "metadata": {},
     "output_type": "execute_result"
    },
    {
     "data": {
      "image/png": "[encoded data removed]",
      "text/plain": [
       "<Figure size 432x288 with 2 Axes>"
      ]
     },
     "metadata": {},
     "output_type": "display_data"
    }
   ],
   "source": [
    "df2=pd.DataFrame(mergedata)\n",
    "df2['Country'] = mergedata['Country'].astype('category').cat.codes\n",
    "df2['Happiness Score'] = mergedata['Happiness Score'].astype('category').cat.codes\n",
    "df2['care_options'] = mergedata['care_options'].astype('category').cat.codes\n",
    "df2['wellness_program'] = mergedata['wellness_program'].astype('category').cat.codes\n",
    "df2['treatment'] = mergedata['treatment'].astype('category').cat.codes\n",
    "\n",
    "corr2=df2.corr()\n",
    "sns.heatmap(corr2, \n",
    "        xticklabels=corr2.columns,\n",
    "        yticklabels=corr2.columns, cmap = 'RdBu_r')"
   ]
  },
  {
   "cell_type": "markdown",
   "metadata": {},
   "source": [
    "### 5. Results\n",
    "\n",
    "From the preliminary data analysis that I have run, and so far it does not seem like there are many correlations with the different variables. However, for the next project iteration I will continue the analysis to see if I can find any relationships I can find. "
   ]
  },
  {
   "cell_type": "markdown",
   "metadata": {},
   "source": [
    "**Sources**\n",
    "\n",
    "[1] https://osmihelp.org/research  \n",
    "[2] https://www.kaggle.com/lizpund/analysis-of-mental-health-in-tech-survey-2014  \n",
    "[3] https://www.kaggle.com/diegocalvo/frequency-of-mental-health-illness-by-location  \n",
    "[4] https://www.kaggle.com/kairosart/machine-learning-for-mental-health-1   \n",
    "[5] https://www.kaggle.com/unsdsn/world-happiness\n"
   ]
  }
 ],
 "metadata": {
  "kernelspec": {
   "display_name": "Python 3",
   "language": "python",
   "name": "python3"
  },
  "language_info": {
   "codemirror_mode": {
    "name": "ipython",
    "version": 3
   },
   "file_extension": ".py",
   "mimetype": "text/x-python",
   "name": "python",
   "nbconvert_exporter": "python",
   "pygments_lexer": "ipython3",
   "version": "3.7.3"
  }
 },
 "nbformat": 4,
 "nbformat_minor": 2
}
