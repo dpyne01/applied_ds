{
 "cells": [
  {
   "cell_type": "markdown",
   "metadata": {},
   "source": [
    "# Project 2 \n",
    "\n",
    "### 1. Background"
   ]
  },
  {
   "cell_type": "markdown",
   "metadata": {},
   "source": [
    "The purpose of this project is to understand the correlation and links between different variables and attitudes towards mental health. The nature of the data set that I am interepreting is that it comes from an open source data set that was obtained through a survey taken by individuals working at tech organizations around the world. This survey was conducted by OSMI, Open Sourcing Mental Illness, an organization dedicated to understanding and educating individuals about these attitudes and the effects they have. \n"
   ]
  },
  {
   "cell_type": "code",
   "execution_count": 246,
   "metadata": {},
   "outputs": [],
   "source": [
    "import pandas as pd\n",
    "import seaborn as sns\n",
    "import matplotlib.pyplot as plt\n",
    "import matplotlib.mlab as mlab\n",
    "from scipy import stats\n",
    "import numpy as np\n",
    "from datetime import datetime\n",
    "from dateutil.parser import parse\n",
    "from sklearn.model_selection import train_test_split\n",
    "from sklearn.model_selection import RandomizedSearchCV\n",
    "from sklearn.model_selection import ParameterGrid\n",
    "from sklearn.ensemble import RandomForestClassifier\n",
    "from sklearn.linear_model import LogisticRegression\n",
    "from sklearn.svm import l1_min_c\n",
    "from sklearn.metrics import roc_curve, auc\n",
    "sns.set_context('talk')\n",
    "sns.set_style('darkgrid')\n",
    "sns.set_palette('colorblind')"
   ]
  },
  {
   "cell_type": "code",
   "execution_count": 247,
   "metadata": {},
   "outputs": [],
   "source": [
    "data = pd.read_csv('https://docs.google.com/spreadsheets/d/1cr65P3ciL2tD4W4KOCTz4Ik67iD52S_DKHXypqgta2o/export?format=csv')"
   ]
  },
  {
   "cell_type": "markdown",
   "metadata": {},
   "source": [
    "reassign the names of the columns to change lengthy survey question titles to short variable names to simplify later analysis"
   ]
  },
  {
   "cell_type": "code",
   "execution_count": 248,
   "metadata": {},
   "outputs": [
    {
     "data": {
      "text/html": [
       "<div>\n",
       "<style scoped>\n",
       "    .dataframe tbody tr th:only-of-type {\n",
       "        vertical-align: middle;\n",
       "    }\n",
       "\n",
       "    .dataframe tbody tr th {\n",
       "        vertical-align: top;\n",
       "    }\n",
       "\n",
       "    .dataframe thead th {\n",
       "        text-align: right;\n",
       "    }\n",
       "</style>\n",
       "<table border=\"1\" class=\"dataframe\">\n",
       "  <thead>\n",
       "    <tr style=\"text-align: right;\">\n",
       "      <th></th>\n",
       "      <th>Timestamp</th>\n",
       "      <th>Age</th>\n",
       "      <th>Gender</th>\n",
       "      <th>Country</th>\n",
       "      <th>state</th>\n",
       "      <th>self_employed</th>\n",
       "      <th>family_history</th>\n",
       "      <th>treatment</th>\n",
       "      <th>work_interfere</th>\n",
       "      <th>no_employees</th>\n",
       "      <th>...</th>\n",
       "      <th>leave</th>\n",
       "      <th>mental_health_consequence</th>\n",
       "      <th>phys_health_consequence</th>\n",
       "      <th>coworkers</th>\n",
       "      <th>supervisor</th>\n",
       "      <th>mental_health_interview</th>\n",
       "      <th>phys_health_interview</th>\n",
       "      <th>mental_vs_physical</th>\n",
       "      <th>obs_consequence</th>\n",
       "      <th>comments</th>\n",
       "    </tr>\n",
       "  </thead>\n",
       "  <tbody>\n",
       "    <tr>\n",
       "      <th>0</th>\n",
       "      <td>8/27/2014 11:29:31</td>\n",
       "      <td>37</td>\n",
       "      <td>Female</td>\n",
       "      <td>United States</td>\n",
       "      <td>IL</td>\n",
       "      <td>NaN</td>\n",
       "      <td>No</td>\n",
       "      <td>Yes</td>\n",
       "      <td>Often</td>\n",
       "      <td>6-25</td>\n",
       "      <td>...</td>\n",
       "      <td>Somewhat easy</td>\n",
       "      <td>No</td>\n",
       "      <td>No</td>\n",
       "      <td>Some of them</td>\n",
       "      <td>Yes</td>\n",
       "      <td>No</td>\n",
       "      <td>Maybe</td>\n",
       "      <td>Yes</td>\n",
       "      <td>No</td>\n",
       "      <td>NaN</td>\n",
       "    </tr>\n",
       "  </tbody>\n",
       "</table>\n",
       "<p>1 rows × 27 columns</p>\n",
       "</div>"
      ],
      "text/plain": [
       "            Timestamp  Age  Gender        Country state self_employed  \\\n",
       "0  8/27/2014 11:29:31   37  Female  United States    IL           NaN   \n",
       "\n",
       "  family_history treatment work_interfere no_employees  ...          leave  \\\n",
       "0             No       Yes          Often         6-25  ...  Somewhat easy   \n",
       "\n",
       "  mental_health_consequence phys_health_consequence     coworkers supervisor  \\\n",
       "0                        No                      No  Some of them        Yes   \n",
       "\n",
       "  mental_health_interview phys_health_interview mental_vs_physical  \\\n",
       "0                      No                 Maybe                Yes   \n",
       "\n",
       "  obs_consequence comments  \n",
       "0              No      NaN  \n",
       "\n",
       "[1 rows x 27 columns]"
      ]
     },
     "execution_count": 248,
     "metadata": {},
     "output_type": "execute_result"
    }
   ],
   "source": [
    "data.columns = ['Timestamp', 'Age', 'Gender', 'Country', 'state', 'self_employed', 'family_history', 'treatment', 'work_interfere', 'no_employees', 'remote_work', 'tech_company', 'benefits', 'care_options', 'wellness_program', 'seek_help', 'anonymity', 'leave', 'mental_health_consequence', 'phys_health_consequence', 'coworkers', 'supervisor', 'mental_health_interview', 'phys_health_interview', 'mental_vs_physical', 'obs_consequence', 'comments' ]\n",
    "data.head(1)"
   ]
  },
  {
   "cell_type": "code",
   "execution_count": 295,
   "metadata": {},
   "outputs": [
    {
     "data": {
      "text/html": [
       "<div>\n",
       "<style scoped>\n",
       "    .dataframe tbody tr th:only-of-type {\n",
       "        vertical-align: middle;\n",
       "    }\n",
       "\n",
       "    .dataframe tbody tr th {\n",
       "        vertical-align: top;\n",
       "    }\n",
       "\n",
       "    .dataframe thead th {\n",
       "        text-align: right;\n",
       "    }\n",
       "</style>\n",
       "<table border=\"1\" class=\"dataframe\">\n",
       "  <thead>\n",
       "    <tr style=\"text-align: right;\">\n",
       "      <th></th>\n",
       "      <th>Continent</th>\n",
       "      <th>Country</th>\n",
       "    </tr>\n",
       "  </thead>\n",
       "  <tbody>\n",
       "    <tr>\n",
       "      <th>0</th>\n",
       "      <td>Africa</td>\n",
       "      <td>Algeria</td>\n",
       "    </tr>\n",
       "  </tbody>\n",
       "</table>\n",
       "</div>"
      ],
      "text/plain": [
       "  Continent  Country\n",
       "0    Africa  Algeria"
      ]
     },
     "execution_count": 295,
     "metadata": {},
     "output_type": "execute_result"
    }
   ],
   "source": [
    "data_country = pd.read_csv('https://raw.githubusercontent.com/dbouquin/IS_608/master/NanosatDB_munging/Countries-Continents.csv')\n",
    "data_country.head(1)"
   ]
  },
  {
   "cell_type": "markdown",
   "metadata": {},
   "source": [
    "*Need to find a way to add country data & merge a valuable data set -- not really sure what data set to merge.*"
   ]
  },
  {
   "cell_type": "code",
   "execution_count": 249,
   "metadata": {},
   "outputs": [
    {
     "data": {
      "text/html": [
       "<div>\n",
       "<style scoped>\n",
       "    .dataframe tbody tr th:only-of-type {\n",
       "        vertical-align: middle;\n",
       "    }\n",
       "\n",
       "    .dataframe tbody tr th {\n",
       "        vertical-align: top;\n",
       "    }\n",
       "\n",
       "    .dataframe thead th {\n",
       "        text-align: right;\n",
       "    }\n",
       "</style>\n",
       "<table border=\"1\" class=\"dataframe\">\n",
       "  <thead>\n",
       "    <tr style=\"text-align: right;\">\n",
       "      <th></th>\n",
       "      <th>Timestamp</th>\n",
       "      <th>Gender</th>\n",
       "      <th>Country</th>\n",
       "      <th>state</th>\n",
       "      <th>self_employed</th>\n",
       "      <th>family_history</th>\n",
       "      <th>treatment</th>\n",
       "      <th>work_interfere</th>\n",
       "      <th>no_employees</th>\n",
       "      <th>remote_work</th>\n",
       "      <th>...</th>\n",
       "      <th>leave</th>\n",
       "      <th>mental_health_consequence</th>\n",
       "      <th>phys_health_consequence</th>\n",
       "      <th>coworkers</th>\n",
       "      <th>supervisor</th>\n",
       "      <th>mental_health_interview</th>\n",
       "      <th>phys_health_interview</th>\n",
       "      <th>mental_vs_physical</th>\n",
       "      <th>obs_consequence</th>\n",
       "      <th>comments</th>\n",
       "    </tr>\n",
       "  </thead>\n",
       "  <tbody>\n",
       "    <tr>\n",
       "      <th>count</th>\n",
       "      <td>1260</td>\n",
       "      <td>1260</td>\n",
       "      <td>1260</td>\n",
       "      <td>744</td>\n",
       "      <td>1242</td>\n",
       "      <td>1260</td>\n",
       "      <td>1260</td>\n",
       "      <td>996</td>\n",
       "      <td>1260</td>\n",
       "      <td>1260</td>\n",
       "      <td>...</td>\n",
       "      <td>1260</td>\n",
       "      <td>1260</td>\n",
       "      <td>1260</td>\n",
       "      <td>1260</td>\n",
       "      <td>1260</td>\n",
       "      <td>1260</td>\n",
       "      <td>1260</td>\n",
       "      <td>1260</td>\n",
       "      <td>1260</td>\n",
       "      <td>164</td>\n",
       "    </tr>\n",
       "    <tr>\n",
       "      <th>unique</th>\n",
       "      <td>1249</td>\n",
       "      <td>49</td>\n",
       "      <td>48</td>\n",
       "      <td>45</td>\n",
       "      <td>2</td>\n",
       "      <td>2</td>\n",
       "      <td>2</td>\n",
       "      <td>4</td>\n",
       "      <td>6</td>\n",
       "      <td>2</td>\n",
       "      <td>...</td>\n",
       "      <td>5</td>\n",
       "      <td>3</td>\n",
       "      <td>3</td>\n",
       "      <td>3</td>\n",
       "      <td>3</td>\n",
       "      <td>3</td>\n",
       "      <td>3</td>\n",
       "      <td>3</td>\n",
       "      <td>2</td>\n",
       "      <td>160</td>\n",
       "    </tr>\n",
       "    <tr>\n",
       "      <th>top</th>\n",
       "      <td>8/28/2014 9:59:39</td>\n",
       "      <td>Male</td>\n",
       "      <td>United States</td>\n",
       "      <td>CA</td>\n",
       "      <td>No</td>\n",
       "      <td>No</td>\n",
       "      <td>Yes</td>\n",
       "      <td>Sometimes</td>\n",
       "      <td>6-25</td>\n",
       "      <td>No</td>\n",
       "      <td>...</td>\n",
       "      <td>Don't know</td>\n",
       "      <td>No</td>\n",
       "      <td>No</td>\n",
       "      <td>Some of them</td>\n",
       "      <td>Yes</td>\n",
       "      <td>No</td>\n",
       "      <td>Maybe</td>\n",
       "      <td>Don't know</td>\n",
       "      <td>No</td>\n",
       "      <td>* Small family business - YMMV.</td>\n",
       "    </tr>\n",
       "    <tr>\n",
       "      <th>freq</th>\n",
       "      <td>2</td>\n",
       "      <td>616</td>\n",
       "      <td>751</td>\n",
       "      <td>138</td>\n",
       "      <td>1096</td>\n",
       "      <td>768</td>\n",
       "      <td>637</td>\n",
       "      <td>466</td>\n",
       "      <td>290</td>\n",
       "      <td>884</td>\n",
       "      <td>...</td>\n",
       "      <td>564</td>\n",
       "      <td>490</td>\n",
       "      <td>926</td>\n",
       "      <td>775</td>\n",
       "      <td>516</td>\n",
       "      <td>1009</td>\n",
       "      <td>558</td>\n",
       "      <td>576</td>\n",
       "      <td>1075</td>\n",
       "      <td>5</td>\n",
       "    </tr>\n",
       "  </tbody>\n",
       "</table>\n",
       "<p>4 rows × 26 columns</p>\n",
       "</div>"
      ],
      "text/plain": [
       "                Timestamp Gender        Country state self_employed  \\\n",
       "count                1260   1260           1260   744          1242   \n",
       "unique               1249     49             48    45             2   \n",
       "top     8/28/2014 9:59:39   Male  United States    CA            No   \n",
       "freq                    2    616            751   138          1096   \n",
       "\n",
       "       family_history treatment work_interfere no_employees remote_work  ...  \\\n",
       "count            1260      1260            996         1260        1260  ...   \n",
       "unique              2         2              4            6           2  ...   \n",
       "top                No       Yes      Sometimes         6-25          No  ...   \n",
       "freq              768       637            466          290         884  ...   \n",
       "\n",
       "             leave mental_health_consequence phys_health_consequence  \\\n",
       "count         1260                      1260                    1260   \n",
       "unique           5                         3                       3   \n",
       "top     Don't know                        No                      No   \n",
       "freq           564                       490                     926   \n",
       "\n",
       "           coworkers supervisor mental_health_interview phys_health_interview  \\\n",
       "count           1260       1260                    1260                  1260   \n",
       "unique             3          3                       3                     3   \n",
       "top     Some of them        Yes                      No                 Maybe   \n",
       "freq             775        516                    1009                   558   \n",
       "\n",
       "       mental_vs_physical obs_consequence                         comments  \n",
       "count                1260            1260                              164  \n",
       "unique                  3               2                              160  \n",
       "top            Don't know              No  * Small family business - YMMV.  \n",
       "freq                  576            1075                                5  \n",
       "\n",
       "[4 rows x 26 columns]"
      ]
     },
     "execution_count": 249,
     "metadata": {},
     "output_type": "execute_result"
    }
   ],
   "source": [
    "data.describe(include=['O'])"
   ]
  },
  {
   "cell_type": "code",
   "execution_count": 250,
   "metadata": {},
   "outputs": [],
   "source": [
    "#date_string = data.Timestamp;\n",
    "#date_object = datetime.strptime(date_string, '%d/%m/%Y %I:%M:%p')\n",
    "#print(date_object)\n",
    "\n",
    "#df['col'] = pd.to_datetime(df['Timestamp'])"
   ]
  },
  {
   "cell_type": "code",
   "execution_count": 251,
   "metadata": {},
   "outputs": [
    {
     "name": "stdout",
     "output_type": "stream",
     "text": [
      "Number of rows of rows in the table:  1260\n"
     ]
    }
   ],
   "source": [
    "rows = len(data.index)\n",
    "print ('Number of rows of rows in the table: ', rows)"
   ]
  },
  {
   "cell_type": "markdown",
   "metadata": {},
   "source": [
    "Variables: \n",
    "\n",
    "+ **Timestamp**\n",
    "+ **Age**\n",
    "+ **Gender**\n",
    "+ **Country**\n",
    "+ **state**: If you live in the United States, which state or territory do you live in?\n",
    "+ **self_employed**: Are you self-employed?\n",
    "+ **family_history**: Do you have a family history of mental illness?\n",
    "+ **treatment**: Have you sought treatment for a mental health condition?\n",
    "+ **work_interfere**: If you have a mental health condition, do you feel that it interferes with your work?\n",
    "+ **no_employees**: How many employees does your company or organization have?\n",
    "+ **remote_work**: Do you work remotely (outside of an office) at least 50% of the time?\n",
    "+ **tech_company**: Is your employer primarily a tech company/organization?\n",
    "+ **benefits**: Does your employer provide mental health benefits?\n",
    "+ **care_options**: Do you know the options for mental health care your employer provides?\n",
    "+ **wellness_program**: Has your employer ever discussed mental health as part of an employee wellness program?\n",
    "+ **seek_help**: Does your employer provide resources to learn more about mental health issues and how to seek help?\n",
    "+ **anonymity**: Is your anonymity protected if you choose to take advantage of mental health or substance abuse treatment resources?\n",
    "+ **leave**: How easy is it for you to take medical leave for a mental health condition?\n",
    "+ **mental_health_consequence**: Do you think that discussing a mental health issue with your employer would have negative consequences?\n",
    "+ **phys_health_consequence**: Do you think that discussing a physical health issue with your employer would have negative consequences?\n",
    "+ **coworkers:** Would you be willing to discuss a mental health issue with your coworkers?\n",
    "+ **supervisor:** Would you be willing to discuss a mental health issue with your direct supervisor(s)?\n",
    "+ **mental_health_interview:** Would you bring up a mental health issue with a potential employer in an interview?\n",
    "+ **phys_health_interview:** Would you bring up a physical health issue with a potential employer in an interview?\n",
    "+ **mental_vs_physical:** Do you feel that your employer takes mental health as seriously as physical health?\n",
    "+ **obs_consequence:** Have you heard of or observed negative consequences for coworkers with mental health conditions in your workplace?\n",
    "+ **comments:** Any additional notes or comments"
   ]
  },
  {
   "cell_type": "markdown",
   "metadata": {},
   "source": [
    "## 2. Cleaning the Data"
   ]
  },
  {
   "cell_type": "markdown",
   "metadata": {},
   "source": [
    "First, we will see what types of variables are available with the data set. "
   ]
  },
  {
   "cell_type": "markdown",
   "metadata": {},
   "source": [
    "k"
   ]
  },
  {
   "cell_type": "code",
   "execution_count": 252,
   "metadata": {},
   "outputs": [
    {
     "data": {
      "text/plain": [
       "Timestamp                    object\n",
       "Age                           int64\n",
       "Gender                       object\n",
       "Country                      object\n",
       "state                        object\n",
       "self_employed                object\n",
       "family_history               object\n",
       "treatment                    object\n",
       "work_interfere               object\n",
       "no_employees                 object\n",
       "remote_work                  object\n",
       "tech_company                 object\n",
       "benefits                     object\n",
       "care_options                 object\n",
       "wellness_program             object\n",
       "seek_help                    object\n",
       "anonymity                    object\n",
       "leave                        object\n",
       "mental_health_consequence    object\n",
       "phys_health_consequence      object\n",
       "coworkers                    object\n",
       "supervisor                   object\n",
       "mental_health_interview      object\n",
       "phys_health_interview        object\n",
       "mental_vs_physical           object\n",
       "obs_consequence              object\n",
       "comments                     object\n",
       "dtype: object"
      ]
     },
     "execution_count": 252,
     "metadata": {},
     "output_type": "execute_result"
    }
   ],
   "source": [
    "data.dtypes"
   ]
  },
  {
   "cell_type": "markdown",
   "metadata": {},
   "source": [
    "Now, to see what if any variables are missing."
   ]
  },
  {
   "cell_type": "code",
   "execution_count": 253,
   "metadata": {},
   "outputs": [
    {
     "name": "stdout",
     "output_type": "stream",
     "text": [
      "Timestamp                       0\n",
      "Age                             0\n",
      "Gender                          0\n",
      "Country                         0\n",
      "state                         516\n",
      "self_employed                  18\n",
      "family_history                  0\n",
      "treatment                       0\n",
      "work_interfere                264\n",
      "no_employees                    0\n",
      "remote_work                     0\n",
      "tech_company                    0\n",
      "benefits                        0\n",
      "care_options                    0\n",
      "wellness_program                0\n",
      "seek_help                       0\n",
      "anonymity                       0\n",
      "leave                           0\n",
      "mental_health_consequence       0\n",
      "phys_health_consequence         0\n",
      "coworkers                       0\n",
      "supervisor                      0\n",
      "mental_health_interview         0\n",
      "phys_health_interview           0\n",
      "mental_vs_physical              0\n",
      "obs_consequence                 0\n",
      "comments                     1096\n",
      "dtype: int64\n"
     ]
    },
    {
     "data": {
      "image/png": "[encoded data removed]",
      "text/plain": [
       "<Figure size 720x288 with 1 Axes>"
      ]
     },
     "metadata": {},
     "output_type": "display_data"
    }
   ],
   "source": [
    "f, ax = plt.subplots(figsize=(10,4))\n",
    "((data.isnull().sum()/len(data)) * 100).plot(kind='bar')\n",
    "plt.xticks(rotation=45, horizontalalignment='right')\n",
    "plt.title('Percent Missing by Variable')\n",
    "print((data.isnull().sum()));"
   ]
  },
  {
   "cell_type": "markdown",
   "metadata": {},
   "source": [
    "It can be noted that the variables with missing variables are: state, self employed, work interfere, and comments. There is missing state data because not all of the individuals who took the survey live in the U.S. \n",
    "\n",
    "Moreover, the reason why there since there is so much data missing in comments, and that information is not necessary for my data analysis, we can get rid of that variable. \n",
    "\n",
    "We will also look at the self employed and work interference columns to see what is happening there. \n",
    "\n",
    "First we will get rid of the comments column:"
   ]
  },
  {
   "cell_type": "code",
   "execution_count": 254,
   "metadata": {},
   "outputs": [],
   "source": [
    "data.drop('comments', axis=1, inplace = True)"
   ]
  },
  {
   "cell_type": "code",
   "execution_count": 255,
   "metadata": {},
   "outputs": [
    {
     "data": {
      "text/html": [
       "<div>\n",
       "<style scoped>\n",
       "    .dataframe tbody tr th:only-of-type {\n",
       "        vertical-align: middle;\n",
       "    }\n",
       "\n",
       "    .dataframe tbody tr th {\n",
       "        vertical-align: top;\n",
       "    }\n",
       "\n",
       "    .dataframe thead th {\n",
       "        text-align: right;\n",
       "    }\n",
       "</style>\n",
       "<table border=\"1\" class=\"dataframe\">\n",
       "  <thead>\n",
       "    <tr style=\"text-align: right;\">\n",
       "      <th></th>\n",
       "      <th>Timestamp</th>\n",
       "      <th>Age</th>\n",
       "      <th>Gender</th>\n",
       "      <th>Country</th>\n",
       "      <th>state</th>\n",
       "      <th>self_employed</th>\n",
       "      <th>family_history</th>\n",
       "      <th>treatment</th>\n",
       "      <th>work_interfere</th>\n",
       "      <th>no_employees</th>\n",
       "      <th>...</th>\n",
       "      <th>anonymity</th>\n",
       "      <th>leave</th>\n",
       "      <th>mental_health_consequence</th>\n",
       "      <th>phys_health_consequence</th>\n",
       "      <th>coworkers</th>\n",
       "      <th>supervisor</th>\n",
       "      <th>mental_health_interview</th>\n",
       "      <th>phys_health_interview</th>\n",
       "      <th>mental_vs_physical</th>\n",
       "      <th>obs_consequence</th>\n",
       "    </tr>\n",
       "  </thead>\n",
       "  <tbody>\n",
       "    <tr>\n",
       "      <th>0</th>\n",
       "      <td>8/27/2014 11:29:31</td>\n",
       "      <td>37</td>\n",
       "      <td>Female</td>\n",
       "      <td>United States</td>\n",
       "      <td>IL</td>\n",
       "      <td>NaN</td>\n",
       "      <td>No</td>\n",
       "      <td>Yes</td>\n",
       "      <td>Often</td>\n",
       "      <td>6-25</td>\n",
       "      <td>...</td>\n",
       "      <td>Yes</td>\n",
       "      <td>Somewhat easy</td>\n",
       "      <td>No</td>\n",
       "      <td>No</td>\n",
       "      <td>Some of them</td>\n",
       "      <td>Yes</td>\n",
       "      <td>No</td>\n",
       "      <td>Maybe</td>\n",
       "      <td>Yes</td>\n",
       "      <td>No</td>\n",
       "    </tr>\n",
       "  </tbody>\n",
       "</table>\n",
       "<p>1 rows × 26 columns</p>\n",
       "</div>"
      ],
      "text/plain": [
       "            Timestamp  Age  Gender        Country state self_employed  \\\n",
       "0  8/27/2014 11:29:31   37  Female  United States    IL           NaN   \n",
       "\n",
       "  family_history treatment work_interfere no_employees  ... anonymity  \\\n",
       "0             No       Yes          Often         6-25  ...       Yes   \n",
       "\n",
       "           leave mental_health_consequence phys_health_consequence  \\\n",
       "0  Somewhat easy                        No                      No   \n",
       "\n",
       "      coworkers supervisor mental_health_interview phys_health_interview  \\\n",
       "0  Some of them        Yes                      No                 Maybe   \n",
       "\n",
       "  mental_vs_physical obs_consequence  \n",
       "0                Yes              No  \n",
       "\n",
       "[1 rows x 26 columns]"
      ]
     },
     "execution_count": 255,
     "metadata": {},
     "output_type": "execute_result"
    }
   ],
   "source": [
    "data.head(1)"
   ]
  },
  {
   "cell_type": "markdown",
   "metadata": {},
   "source": [
    "### 2a.  Cleaning the gender data"
   ]
  },
  {
   "cell_type": "code",
   "execution_count": 256,
   "metadata": {},
   "outputs": [],
   "source": [
    "data['Gender'] = data['Gender'].str.lower()"
   ]
  },
  {
   "cell_type": "code",
   "execution_count": 257,
   "metadata": {},
   "outputs": [
    {
     "data": {
      "text/plain": [
       "male                                              822\n",
       "female                                            183\n",
       "m                                                 150\n",
       "f                                                  53\n",
       "woman                                               4\n",
       "make                                                4\n",
       "male                                                3\n",
       "cis male                                            3\n",
       "female (trans)                                      2\n",
       "female                                              2\n",
       "man                                                 2\n",
       "mal                                                 1\n",
       "agender                                             1\n",
       "all                                                 1\n",
       "enby                                                1\n",
       "genderqueer                                         1\n",
       "something kinda male?                               1\n",
       "non-binary                                          1\n",
       "p                                                   1\n",
       "androgyne                                           1\n",
       "queer                                               1\n",
       "neuter                                              1\n",
       "female (cis)                                        1\n",
       "ostensibly male, unsure what that really means      1\n",
       "femail                                              1\n",
       "maile                                               1\n",
       "queer/she/they                                      1\n",
       "femake                                              1\n",
       "male leaning androgynous                            1\n",
       "cis-female/femme                                    1\n",
       "nah                                                 1\n",
       "a little about you                                  1\n",
       "trans woman                                         1\n",
       "male-ish                                            1\n",
       "male (cis)                                          1\n",
       "guy (-ish) ^_^                                      1\n",
       "malr                                                1\n",
       "mail                                                1\n",
       "fluid                                               1\n",
       "msle                                                1\n",
       "cis female                                          1\n",
       "cis man                                             1\n",
       "trans-female                                        1\n",
       "Name: Gender, dtype: int64"
      ]
     },
     "execution_count": 257,
     "metadata": {},
     "output_type": "execute_result"
    }
   ],
   "source": [
    "data.Gender.value_counts()#.plot(kind='bar')\n",
    "#plt.xticks(rotation=0, horizontalalignment='center')"
   ]
  },
  {
   "cell_type": "markdown",
   "metadata": {},
   "source": [
    "Needs to be cleaned -- there are various different versions of each gender and other versions that make the data set complicated. \n",
    "Male,male,M,m,Make,Man,Mail,msle,maile,Male-ish,Mal,Cis Male, Female (trans), Malr, cis male, Male (CIS), Cis Man\n",
    "Female,female,F,f,Woman, Female (cis), cis-female/femme\n",
    "Nah, A little about you, Genderqueer, non-binary, p, queer"
   ]
  },
  {
   "cell_type": "code",
   "execution_count": null,
   "metadata": {},
   "outputs": [],
   "source": [
    "gender_df = data[\"Gender\"]\n",
    "type(gender_df)\n",
    "terms_to_remove = [\"trans\", \"cis\", \"queer\", \"-\", \"^\", \"_\", \",\", \"(\", \")\", \"/\", \"?\"]\n",
    "for i, gender_str in enumerate(gender_df):\n",
    "    # convert to lowercase\n",
    "    gender_lowercase_str = gender_str.lower()\n",
    "    for term in terms_to_remove:\n",
    "      gender_lowercase_str = gender_lowercase_str.replace(term, \"\")\n",
    "    if gender_lowercase_str.startswith(\"f\") or gender_lowercase_str.startswith(\"she\") or \"woman\" in gender_lowercase_str:\n",
    "      gender_lowercase_str = \"female\"\n",
    "    elif gender_lowercase_str.startswith(\"m\") or \"male\" in gender_lowercase_str:\n",
    "      gender_lowercase_str = \"male\"\n",
    "    else:\n",
    "      gender_lowercase_str = \"other\"\n",
    "\n",
    "    gender_df[i] = gender_lowercase_str"
   ]
  },
  {
   "cell_type": "code",
   "execution_count": 259,
   "metadata": {},
   "outputs": [
    {
     "data": {
      "text/plain": [
       "male      995\n",
       "female    252\n",
       "other      13\n",
       "Name: Gender, dtype: int64"
      ]
     },
     "execution_count": 259,
     "metadata": {},
     "output_type": "execute_result"
    }
   ],
   "source": [
    "data.Gender.value_counts()"
   ]
  },
  {
   "cell_type": "markdown",
   "metadata": {},
   "source": [
    "### 2b. Cleaning the country data"
   ]
  },
  {
   "cell_type": "markdown",
   "metadata": {},
   "source": [
    "In terms of how many different countries are represented in the survey, the counts can be seen below: "
   ]
  },
  {
   "cell_type": "code",
   "execution_count": 260,
   "metadata": {},
   "outputs": [
    {
     "data": {
      "text/plain": [
       "United States             751\n",
       "United Kingdom            185\n",
       "Canada                     72\n",
       "Germany                    45\n",
       "Ireland                    27\n",
       "Netherlands                27\n",
       "Australia                  22\n",
       "France                     13\n",
       "India                      10\n",
       "New Zealand                 8\n",
       "Sweden                      7\n",
       "Switzerland                 7\n",
       "Italy                       7\n",
       "Poland                      7\n",
       "South Africa                6\n",
       "Brazil                      6\n",
       "Belgium                     6\n",
       "Israel                      5\n",
       "Singapore                   4\n",
       "Bulgaria                    4\n",
       "Austria                     3\n",
       "Russia                      3\n",
       "Mexico                      3\n",
       "Finland                     3\n",
       "Colombia                    2\n",
       "Greece                      2\n",
       "Denmark                     2\n",
       "Croatia                     2\n",
       "Portugal                    2\n",
       "Slovenia                    1\n",
       "Czech Republic              1\n",
       "Uruguay                     1\n",
       "Bahamas, The                1\n",
       "Zimbabwe                    1\n",
       "Latvia                      1\n",
       "Bosnia and Herzegovina      1\n",
       "Georgia                     1\n",
       "Moldova                     1\n",
       "Romania                     1\n",
       "Norway                      1\n",
       "Hungary                     1\n",
       "Philippines                 1\n",
       "Spain                       1\n",
       "Japan                       1\n",
       "Nigeria                     1\n",
       "China                       1\n",
       "Costa Rica                  1\n",
       "Thailand                    1\n",
       "Name: Country, dtype: int64"
      ]
     },
     "execution_count": 260,
     "metadata": {},
     "output_type": "execute_result"
    }
   ],
   "source": [
    "data.Country.value_counts()"
   ]
  },
  {
   "cell_type": "markdown",
   "metadata": {},
   "source": [
    "The continents that are represented are -  \n",
    "**North America ; Europe ; Australia ; Asia ; South America**  \n",
    "However, the majority of the resposes are concentrated in North America and Europe, and the other countries would not provide a thorough and well-informed interpretation. Thus, we can eliminate the data from the survey responses from the other countires."
   ]
  },
  {
   "cell_type": "markdown",
   "metadata": {},
   "source": [
    "### 2c. Cleaning the Age Data"
   ]
  },
  {
   "cell_type": "code",
   "execution_count": 296,
   "metadata": {},
   "outputs": [
    {
     "data": {
      "text/html": [
       "<div>\n",
       "<style scoped>\n",
       "    .dataframe tbody tr th:only-of-type {\n",
       "        vertical-align: middle;\n",
       "    }\n",
       "\n",
       "    .dataframe tbody tr th {\n",
       "        vertical-align: top;\n",
       "    }\n",
       "\n",
       "    .dataframe thead th {\n",
       "        text-align: right;\n",
       "    }\n",
       "</style>\n",
       "<table border=\"1\" class=\"dataframe\">\n",
       "  <thead>\n",
       "    <tr style=\"text-align: right;\">\n",
       "      <th></th>\n",
       "      <th>Age</th>\n",
       "    </tr>\n",
       "  </thead>\n",
       "  <tbody>\n",
       "    <tr>\n",
       "      <th>count</th>\n",
       "      <td>1260.000000</td>\n",
       "    </tr>\n",
       "    <tr>\n",
       "      <th>mean</th>\n",
       "      <td>32.083333</td>\n",
       "    </tr>\n",
       "    <tr>\n",
       "      <th>std</th>\n",
       "      <td>7.266528</td>\n",
       "    </tr>\n",
       "    <tr>\n",
       "      <th>min</th>\n",
       "      <td>18.000000</td>\n",
       "    </tr>\n",
       "    <tr>\n",
       "      <th>25%</th>\n",
       "      <td>27.000000</td>\n",
       "    </tr>\n",
       "    <tr>\n",
       "      <th>50%</th>\n",
       "      <td>31.000000</td>\n",
       "    </tr>\n",
       "    <tr>\n",
       "      <th>75%</th>\n",
       "      <td>36.000000</td>\n",
       "    </tr>\n",
       "    <tr>\n",
       "      <th>max</th>\n",
       "      <td>72.000000</td>\n",
       "    </tr>\n",
       "  </tbody>\n",
       "</table>\n",
       "</div>"
      ],
      "text/plain": [
       "               Age\n",
       "count  1260.000000\n",
       "mean     32.083333\n",
       "std       7.266528\n",
       "min      18.000000\n",
       "25%      27.000000\n",
       "50%      31.000000\n",
       "75%      36.000000\n",
       "max      72.000000"
      ]
     },
     "execution_count": 296,
     "metadata": {},
     "output_type": "execute_result"
    }
   ],
   "source": [
    "data.describe()"
   ]
  },
  {
   "cell_type": "markdown",
   "metadata": {},
   "source": [
    "Seeing that the distribtion is skewed do to the minimum and maximum ages, we can normalize these by eliminating ages that are not realistic for the working population. Since it can be assumed that individuals over 110 likely do not work as well as those under the age of 12, we can eliminate data that skews the averages. So we insert the average of the data (with the outliers taken out) to be the ages of those outliers: "
   ]
  },
  {
   "cell_type": "code",
   "execution_count": 297,
   "metadata": {},
   "outputs": [],
   "source": [
    "data.loc[(data['Age'] > 110), 'Age'] = 32\n",
    "data.loc[(data['Age'] < 12), 'Age'] = 32"
   ]
  },
  {
   "cell_type": "code",
   "execution_count": 298,
   "metadata": {},
   "outputs": [
    {
     "data": {
      "text/html": [
       "<div>\n",
       "<style scoped>\n",
       "    .dataframe tbody tr th:only-of-type {\n",
       "        vertical-align: middle;\n",
       "    }\n",
       "\n",
       "    .dataframe tbody tr th {\n",
       "        vertical-align: top;\n",
       "    }\n",
       "\n",
       "    .dataframe thead th {\n",
       "        text-align: right;\n",
       "    }\n",
       "</style>\n",
       "<table border=\"1\" class=\"dataframe\">\n",
       "  <thead>\n",
       "    <tr style=\"text-align: right;\">\n",
       "      <th></th>\n",
       "      <th>Age</th>\n",
       "    </tr>\n",
       "  </thead>\n",
       "  <tbody>\n",
       "    <tr>\n",
       "      <th>count</th>\n",
       "      <td>1260.000000</td>\n",
       "    </tr>\n",
       "    <tr>\n",
       "      <th>mean</th>\n",
       "      <td>32.083333</td>\n",
       "    </tr>\n",
       "    <tr>\n",
       "      <th>std</th>\n",
       "      <td>7.266528</td>\n",
       "    </tr>\n",
       "    <tr>\n",
       "      <th>min</th>\n",
       "      <td>18.000000</td>\n",
       "    </tr>\n",
       "    <tr>\n",
       "      <th>25%</th>\n",
       "      <td>27.000000</td>\n",
       "    </tr>\n",
       "    <tr>\n",
       "      <th>50%</th>\n",
       "      <td>31.000000</td>\n",
       "    </tr>\n",
       "    <tr>\n",
       "      <th>75%</th>\n",
       "      <td>36.000000</td>\n",
       "    </tr>\n",
       "    <tr>\n",
       "      <th>max</th>\n",
       "      <td>72.000000</td>\n",
       "    </tr>\n",
       "  </tbody>\n",
       "</table>\n",
       "</div>"
      ],
      "text/plain": [
       "               Age\n",
       "count  1260.000000\n",
       "mean     32.083333\n",
       "std       7.266528\n",
       "min      18.000000\n",
       "25%      27.000000\n",
       "50%      31.000000\n",
       "75%      36.000000\n",
       "max      72.000000"
      ]
     },
     "execution_count": 298,
     "metadata": {},
     "output_type": "execute_result"
    }
   ],
   "source": [
    "data.describe()"
   ]
  },
  {
   "cell_type": "markdown",
   "metadata": {},
   "source": [
    "## 2. Data Interpretation"
   ]
  },
  {
   "cell_type": "markdown",
   "metadata": {},
   "source": [
    "Do you have a family history of mental illness?"
   ]
  },
  {
   "cell_type": "code",
   "execution_count": 264,
   "metadata": {},
   "outputs": [
    {
     "data": {
      "text/plain": [
       "<matplotlib.axes._subplots.AxesSubplot at 0x119abe860>"
      ]
     },
     "execution_count": 264,
     "metadata": {},
     "output_type": "execute_result"
    },
    {
     "data": {
      "image/png": "[encoded data removed]",
      "text/plain": [
       "<Figure size 432x288 with 1 Axes>"
      ]
     },
     "metadata": {},
     "output_type": "display_data"
    }
   ],
   "source": [
    "dfh= data.family_history.value_counts();\n",
    "dfh.plot(kind='pie')"
   ]
  },
  {
   "cell_type": "markdown",
   "metadata": {},
   "source": [
    "Have you sought treatment for a mental health condition?"
   ]
  },
  {
   "cell_type": "code",
   "execution_count": 285,
   "metadata": {},
   "outputs": [
    {
     "data": {
      "text/plain": [
       "<matplotlib.axes._subplots.AxesSubplot at 0x11aa1b470>"
      ]
     },
     "execution_count": 285,
     "metadata": {},
     "output_type": "execute_result"
    },
    {
     "data": {
      "image/png": "[encoded data removed]",
      "text/plain": [
       "<Figure size 432x288 with 1 Axes>"
      ]
     },
     "metadata": {},
     "output_type": "display_data"
    }
   ],
   "source": [
    "dt= data.treatment.value_counts();\n",
    "dt.plot(kind='pie')"
   ]
  },
  {
   "cell_type": "code",
   "execution_count": 281,
   "metadata": {},
   "outputs": [
    {
     "data": {
      "text/plain": [
       "Text(0.5, -0.05, 'Age')"
      ]
     },
     "execution_count": 281,
     "metadata": {},
     "output_type": "execute_result"
    },
    {
     "data": {
      "image/png": "[encoded data removed]",
      "text/plain": [
       "<Figure size 720x288 with 1 Axes>"
      ]
     },
     "metadata": {},
     "output_type": "display_data"
    }
   ],
   "source": [
    "f, ax = plt.subplots(figsize=(10,4))\n",
    "data.Age.plot(kind='hist')\n",
    "plt.xticks(rotation=0, horizontalalignment='center')\n",
    "f.text(0.5, -0.05, 'Age', ha='center')"
   ]
  },
  {
   "cell_type": "code",
   "execution_count": 289,
   "metadata": {},
   "outputs": [
    {
     "data": {
      "text/plain": [
       "<matplotlib.axes._subplots.AxesSubplot at 0x11aaf9ac8>"
      ]
     },
     "execution_count": 289,
     "metadata": {},
     "output_type": "execute_result"
    },
    {
     "data": {
      "image/png": "[encoded data removed]",
      "text/plain": [
       "<Figure size 432x288 with 1 Axes>"
      ]
     },
     "metadata": {},
     "output_type": "display_data"
    }
   ],
   "source": [
    "sns.distplot(data['Age'],hist=True, kde=True, \n",
    "             #bins=int(180/5), color = 'darkblue', \n",
    "             #hist_kws={'edgecolor':'black'},\n",
    "             kde_kws={'linewidth': 4})"
   ]
  },
  {
   "cell_type": "code",
   "execution_count": 299,
   "metadata": {},
   "outputs": [
    {
     "data": {
      "text/plain": [
       "<matplotlib.axes._subplots.AxesSubplot at 0x11af96748>"
      ]
     },
     "execution_count": 299,
     "metadata": {},
     "output_type": "execute_result"
    },
    {
     "data": {
      "image/png": "[encoded data removed]",
      "text/plain": [
       "<Figure size 432x288 with 1 Axes>"
      ]
     },
     "metadata": {},
     "output_type": "display_data"
    }
   ],
   "source": [
    "dc= data.Country.value_counts()\n",
    "dc.plot(kind='pie')"
   ]
  },
  {
   "cell_type": "markdown",
   "metadata": {},
   "source": [
    "Need to continue analysis and interpretation..."
   ]
  },
  {
   "cell_type": "code",
   "execution_count": null,
   "metadata": {},
   "outputs": [],
   "source": []
  }
 ],
 "metadata": {
  "kernelspec": {
   "display_name": "Python 3",
   "language": "python",
   "name": "python3"
  },
  "language_info": {
   "codemirror_mode": {
    "name": "ipython",
    "version": 3
   },
   "file_extension": ".py",
   "mimetype": "text/x-python",
   "name": "python",
   "nbconvert_exporter": "python",
   "pygments_lexer": "ipython3",
   "version": "3.7.3"
  }
 },
 "nbformat": 4,
 "nbformat_minor": 2
}
