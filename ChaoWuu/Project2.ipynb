{
 "cells": [
  {
   "cell_type": "markdown",
   "metadata": {
    "slideshow": {
     "slide_type": "subslide"
    }
   },
   "source": [
    "# Relations Between restaurants scores and boroughs, cuisine types in NYC\n",
    "\n",
    "### 1. Introduction\n",
    "My dataset is from enigma, which is acquired from the unannounced inspections of restaurants conducted by New York City Health Department at least once a year. The inspectors check for compliance in food handling, food temperature, personal hygiene and vermin control. Each violation of a regulation gets a certain number of points. At the end of the inspection, the inspector totals the points, and this number is the restaurant's inspection score. The lower the score, the better the grade.\n",
    "\n",
    "In the dataset, the first few columns shows some basic information such as its camis ID(New York City-Wide Agency Management Information System (CAMIS) ID Number. This is a unique identifier for the entity (restaurant)), name, area located and so on. The rest columns contains information about the inspection date, violation of that restaurant, score and grade.\n",
    "\n",
    "\n",
    "The project is created to try to identify restaurants with good scores and try to find the relations between scores and borough or cuisine type. By merging data related to population, income and land area, it would be more meaningful to make some conclusions based the merged data frame. My machine learning model is designed to be able to predict a restaurant's score by giving its location(county) and cuisine type, which is a attempt I come up based on my dataset. \n",
    " "
   ]
  },
  {
   "cell_type": "code",
   "execution_count": 1,
   "metadata": {},
   "outputs": [],
   "source": [
    "import pandas as pd\n",
    "import seaborn as sns\n",
    "import numpy as np\n",
    "import matplotlib.pyplot as plt\n",
    "from matplotlib.pyplot import hist\n",
    "from sklearn.model_selection import train_test_split\n",
    "from sklearn.ensemble import RandomForestClassifier"
   ]
  },
  {
   "cell_type": "code",
   "execution_count": 2,
   "metadata": {},
   "outputs": [],
   "source": [
    "df = pd.read_csv('https://tufts.box.com/shared/static/bumca8ezkpf7epqr956wyeuiog5eejb2.csv')"
   ]
  },
  {
   "cell_type": "code",
   "execution_count": 10,
   "metadata": {},
   "outputs": [
    {
     "data": {
      "text/html": [
       "<div>\n",
       "<style scoped>\n",
       "    .dataframe tbody tr th:only-of-type {\n",
       "        vertical-align: middle;\n",
       "    }\n",
       "\n",
       "    .dataframe tbody tr th {\n",
       "        vertical-align: top;\n",
       "    }\n",
       "\n",
       "    .dataframe thead th {\n",
       "        text-align: right;\n",
       "    }\n",
       "</style>\n",
       "<table border=\"1\" class=\"dataframe\">\n",
       "  <thead>\n",
       "    <tr style=\"text-align: right;\">\n",
       "      <th></th>\n",
       "      <th>camis</th>\n",
       "      <th>dba</th>\n",
       "      <th>boro</th>\n",
       "      <th>building</th>\n",
       "      <th>street</th>\n",
       "      <th>zipcode</th>\n",
       "      <th>phone</th>\n",
       "      <th>cuisine_description</th>\n",
       "      <th>inspection_date</th>\n",
       "      <th>action</th>\n",
       "      <th>violation_code</th>\n",
       "      <th>violation_description</th>\n",
       "      <th>critical_flag</th>\n",
       "      <th>score</th>\n",
       "      <th>grade</th>\n",
       "      <th>grade_date</th>\n",
       "      <th>record_date</th>\n",
       "      <th>inspection_type</th>\n",
       "    </tr>\n",
       "  </thead>\n",
       "  <tbody>\n",
       "    <tr>\n",
       "      <th>0</th>\n",
       "      <td>41451985</td>\n",
       "      <td>BRANCACCIO'S FOOD SHOP</td>\n",
       "      <td>BROOKLYN</td>\n",
       "      <td>3011</td>\n",
       "      <td>FORT HAMILTON PARKWAY</td>\n",
       "      <td>11218.0</td>\n",
       "      <td>7184351997</td>\n",
       "      <td>Sandwiches</td>\n",
       "      <td>2017-03-02T00:00:00+00:00</td>\n",
       "      <td>Violations were cited in the following area(s).</td>\n",
       "      <td>08A</td>\n",
       "      <td>Facility not vermin proof. Harborage or condit...</td>\n",
       "      <td>Not Critical</td>\n",
       "      <td>26.0</td>\n",
       "      <td>NaN</td>\n",
       "      <td>NaN</td>\n",
       "      <td>2018-10-09T06:00:44+00:00</td>\n",
       "      <td>Cycle Inspection / Initial Inspection</td>\n",
       "    </tr>\n",
       "    <tr>\n",
       "      <th>1</th>\n",
       "      <td>50017896</td>\n",
       "      <td>SANGRIA</td>\n",
       "      <td>QUEENS</td>\n",
       "      <td>2902</td>\n",
       "      <td>FRANCIS LEWIS BLVD</td>\n",
       "      <td>11358.0</td>\n",
       "      <td>7183582727</td>\n",
       "      <td>Spanish</td>\n",
       "      <td>2016-12-23T00:00:00+00:00</td>\n",
       "      <td>Violations were cited in the following area(s).</td>\n",
       "      <td>02H</td>\n",
       "      <td>Food not cooled by an approved method whereby ...</td>\n",
       "      <td>Critical</td>\n",
       "      <td>12.0</td>\n",
       "      <td>A</td>\n",
       "      <td>2016-12-23T00:00:00+00:00</td>\n",
       "      <td>2018-10-09T06:00:44+00:00</td>\n",
       "      <td>Cycle Inspection / Initial Inspection</td>\n",
       "    </tr>\n",
       "    <tr>\n",
       "      <th>2</th>\n",
       "      <td>50002037</td>\n",
       "      <td>CHABBA BBQ/FAMILY GRILL &amp; CUISINE</td>\n",
       "      <td>BROOKLYN</td>\n",
       "      <td>786</td>\n",
       "      <td>CONEY ISLAND AVENUE</td>\n",
       "      <td>11218.0</td>\n",
       "      <td>9178938844</td>\n",
       "      <td>Indian</td>\n",
       "      <td>2016-01-04T00:00:00+00:00</td>\n",
       "      <td>Violations were cited in the following area(s).</td>\n",
       "      <td>04L</td>\n",
       "      <td>Evidence of mice or live mice present in facil...</td>\n",
       "      <td>Critical</td>\n",
       "      <td>33.0</td>\n",
       "      <td>NaN</td>\n",
       "      <td>NaN</td>\n",
       "      <td>2018-10-09T06:00:44+00:00</td>\n",
       "      <td>Cycle Inspection / Initial Inspection</td>\n",
       "    </tr>\n",
       "    <tr>\n",
       "      <th>3</th>\n",
       "      <td>41172677</td>\n",
       "      <td>GREENLEAF'S/BANANAS</td>\n",
       "      <td>STATEN ISLAND</td>\n",
       "      <td>2655</td>\n",
       "      <td>RICHMOND AVENUE</td>\n",
       "      <td>10314.0</td>\n",
       "      <td>7183707345</td>\n",
       "      <td>Sandwiches/Salads/Mixed Buffet</td>\n",
       "      <td>2015-06-22T00:00:00+00:00</td>\n",
       "      <td>Violations were cited in the following area(s).</td>\n",
       "      <td>08A</td>\n",
       "      <td>Facility not vermin proof. Harborage or condit...</td>\n",
       "      <td>Not Critical</td>\n",
       "      <td>18.0</td>\n",
       "      <td>NaN</td>\n",
       "      <td>NaN</td>\n",
       "      <td>2018-10-09T06:00:44+00:00</td>\n",
       "      <td>Cycle Inspection / Initial Inspection</td>\n",
       "    </tr>\n",
       "    <tr>\n",
       "      <th>4</th>\n",
       "      <td>41583191</td>\n",
       "      <td>QUEZADA RESTAURANT</td>\n",
       "      <td>BROOKLYN</td>\n",
       "      <td>1212</td>\n",
       "      <td>FLATBUSH AVENUE</td>\n",
       "      <td>11226.0</td>\n",
       "      <td>7182820622</td>\n",
       "      <td>Latin (Cuban, Dominican, Puerto Rican, South &amp;...</td>\n",
       "      <td>2018-01-23T00:00:00+00:00</td>\n",
       "      <td>Establishment Closed by DOHMH.  Violations wer...</td>\n",
       "      <td>02G</td>\n",
       "      <td>Cold food item held above 41Âº F (smoked fish ...</td>\n",
       "      <td>Critical</td>\n",
       "      <td>30.0</td>\n",
       "      <td>NaN</td>\n",
       "      <td>NaN</td>\n",
       "      <td>2018-10-09T06:00:44+00:00</td>\n",
       "      <td>Cycle Inspection / Re-inspection</td>\n",
       "    </tr>\n",
       "  </tbody>\n",
       "</table>\n",
       "</div>"
      ],
      "text/plain": [
       "      camis                                dba           boro building  \\\n",
       "0  41451985             BRANCACCIO'S FOOD SHOP       BROOKLYN     3011   \n",
       "1  50017896                            SANGRIA         QUEENS     2902   \n",
       "2  50002037  CHABBA BBQ/FAMILY GRILL & CUISINE       BROOKLYN      786   \n",
       "3  41172677                GREENLEAF'S/BANANAS  STATEN ISLAND     2655   \n",
       "4  41583191                 QUEZADA RESTAURANT       BROOKLYN     1212   \n",
       "\n",
       "                  street  zipcode       phone  \\\n",
       "0  FORT HAMILTON PARKWAY  11218.0  7184351997   \n",
       "1     FRANCIS LEWIS BLVD  11358.0  7183582727   \n",
       "2    CONEY ISLAND AVENUE  11218.0  9178938844   \n",
       "3        RICHMOND AVENUE  10314.0  7183707345   \n",
       "4        FLATBUSH AVENUE  11226.0  7182820622   \n",
       "\n",
       "                                 cuisine_description  \\\n",
       "0                                         Sandwiches   \n",
       "1                                            Spanish   \n",
       "2                                             Indian   \n",
       "3                     Sandwiches/Salads/Mixed Buffet   \n",
       "4  Latin (Cuban, Dominican, Puerto Rican, South &...   \n",
       "\n",
       "             inspection_date  \\\n",
       "0  2017-03-02T00:00:00+00:00   \n",
       "1  2016-12-23T00:00:00+00:00   \n",
       "2  2016-01-04T00:00:00+00:00   \n",
       "3  2015-06-22T00:00:00+00:00   \n",
       "4  2018-01-23T00:00:00+00:00   \n",
       "\n",
       "                                              action violation_code  \\\n",
       "0    Violations were cited in the following area(s).            08A   \n",
       "1    Violations were cited in the following area(s).            02H   \n",
       "2    Violations were cited in the following area(s).            04L   \n",
       "3    Violations were cited in the following area(s).            08A   \n",
       "4  Establishment Closed by DOHMH.  Violations wer...            02G   \n",
       "\n",
       "                               violation_description critical_flag  score  \\\n",
       "0  Facility not vermin proof. Harborage or condit...  Not Critical   26.0   \n",
       "1  Food not cooled by an approved method whereby ...      Critical   12.0   \n",
       "2  Evidence of mice or live mice present in facil...      Critical   33.0   \n",
       "3  Facility not vermin proof. Harborage or condit...  Not Critical   18.0   \n",
       "4  Cold food item held above 41Âº F (smoked fish ...      Critical   30.0   \n",
       "\n",
       "  grade                 grade_date                record_date  \\\n",
       "0   NaN                        NaN  2018-10-09T06:00:44+00:00   \n",
       "1     A  2016-12-23T00:00:00+00:00  2018-10-09T06:00:44+00:00   \n",
       "2   NaN                        NaN  2018-10-09T06:00:44+00:00   \n",
       "3   NaN                        NaN  2018-10-09T06:00:44+00:00   \n",
       "4   NaN                        NaN  2018-10-09T06:00:44+00:00   \n",
       "\n",
       "                         inspection_type  \n",
       "0  Cycle Inspection / Initial Inspection  \n",
       "1  Cycle Inspection / Initial Inspection  \n",
       "2  Cycle Inspection / Initial Inspection  \n",
       "3  Cycle Inspection / Initial Inspection  \n",
       "4       Cycle Inspection / Re-inspection  "
      ]
     },
     "execution_count": 10,
     "metadata": {},
     "output_type": "execute_result"
    }
   ],
   "source": [
    "df.head()"
   ]
  },
  {
   "cell_type": "markdown",
   "metadata": {},
   "source": [
    "### 2. Data cleaning\n",
    "Clean the data, drop columns that will not be used, remove rows of scores that don't have values. In my project, I will not use the total grade to evaluate the restaurant because in this dataset, most restauratns only have scores, instead of grades.\n",
    "\n",
    "Cleaning data would be helpful to avoid mistakes when picking the data.\n",
    "\n",
    "To deal with the 'NAN' values in 'score' column, I choose to drop these values."
   ]
  },
  {
   "cell_type": "code",
   "execution_count": 11,
   "metadata": {},
   "outputs": [
    {
     "data": {
      "text/html": [
       "<div>\n",
       "<style scoped>\n",
       "    .dataframe tbody tr th:only-of-type {\n",
       "        vertical-align: middle;\n",
       "    }\n",
       "\n",
       "    .dataframe tbody tr th {\n",
       "        vertical-align: top;\n",
       "    }\n",
       "\n",
       "    .dataframe thead th {\n",
       "        text-align: right;\n",
       "    }\n",
       "</style>\n",
       "<table border=\"1\" class=\"dataframe\">\n",
       "  <thead>\n",
       "    <tr style=\"text-align: right;\">\n",
       "      <th></th>\n",
       "      <th>dba</th>\n",
       "      <th>boro</th>\n",
       "      <th>cuisine_description</th>\n",
       "      <th>score</th>\n",
       "    </tr>\n",
       "  </thead>\n",
       "  <tbody>\n",
       "    <tr>\n",
       "      <th>0</th>\n",
       "      <td>BRANCACCIO'S FOOD SHOP</td>\n",
       "      <td>BROOKLYN</td>\n",
       "      <td>Sandwiches</td>\n",
       "      <td>26.0</td>\n",
       "    </tr>\n",
       "    <tr>\n",
       "      <th>1</th>\n",
       "      <td>SANGRIA</td>\n",
       "      <td>QUEENS</td>\n",
       "      <td>Spanish</td>\n",
       "      <td>12.0</td>\n",
       "    </tr>\n",
       "    <tr>\n",
       "      <th>2</th>\n",
       "      <td>CHABBA BBQ/FAMILY GRILL &amp; CUISINE</td>\n",
       "      <td>BROOKLYN</td>\n",
       "      <td>Indian</td>\n",
       "      <td>33.0</td>\n",
       "    </tr>\n",
       "    <tr>\n",
       "      <th>3</th>\n",
       "      <td>GREENLEAF'S/BANANAS</td>\n",
       "      <td>STATEN ISLAND</td>\n",
       "      <td>Sandwiches/Salads/Mixed Buffet</td>\n",
       "      <td>18.0</td>\n",
       "    </tr>\n",
       "    <tr>\n",
       "      <th>4</th>\n",
       "      <td>QUEZADA RESTAURANT</td>\n",
       "      <td>BROOKLYN</td>\n",
       "      <td>Latin (Cuban, Dominican, Puerto Rican, South &amp;...</td>\n",
       "      <td>30.0</td>\n",
       "    </tr>\n",
       "  </tbody>\n",
       "</table>\n",
       "</div>"
      ],
      "text/plain": [
       "                                 dba           boro  \\\n",
       "0             BRANCACCIO'S FOOD SHOP       BROOKLYN   \n",
       "1                            SANGRIA         QUEENS   \n",
       "2  CHABBA BBQ/FAMILY GRILL & CUISINE       BROOKLYN   \n",
       "3                GREENLEAF'S/BANANAS  STATEN ISLAND   \n",
       "4                 QUEZADA RESTAURANT       BROOKLYN   \n",
       "\n",
       "                                 cuisine_description  score  \n",
       "0                                         Sandwiches   26.0  \n",
       "1                                            Spanish   12.0  \n",
       "2                                             Indian   33.0  \n",
       "3                     Sandwiches/Salads/Mixed Buffet   18.0  \n",
       "4  Latin (Cuban, Dominican, Puerto Rican, South &...   30.0  "
      ]
     },
     "execution_count": 11,
     "metadata": {},
     "output_type": "execute_result"
    }
   ],
   "source": [
    "df_clean = df.drop(['camis', 'building', 'street', 'zipcode', 'phone', 'inspection_date', 'action', 'violation_code', 'critical_flag', 'grade', 'grade_date', 'record_date', 'inspection_type', 'violation_description'], axis = 1)\n",
    "df_val = df_clean.loc[df_clean['score'].dropna().index]\n",
    "df_val.head()"
   ]
  },
  {
   "cell_type": "markdown",
   "metadata": {},
   "source": [
    "### 3. Find the score range and prepare for plot\n",
    "It is necessary to know the score range in the dataset in order to make a well-shaped plot.\n",
    "\n",
    "Since the maximum score is 156 and the minimun score is -1, I set three standards for the score, which are less than 50, between 50 and 100, more than 100. As the smaller the score is, the better the restaurants are, I plot the number of restaurants in each cuisine type to compare."
   ]
  },
  {
   "cell_type": "code",
   "execution_count": 12,
   "metadata": {},
   "outputs": [
    {
     "name": "stdout",
     "output_type": "stream",
     "text": [
      "biggest score = 156.0 , smallest score = -1.0\n"
     ]
    }
   ],
   "source": [
    "print('biggest score =', df_val['score'].max(), ', smallest score =', df_val['score'].min())"
   ]
  },
  {
   "cell_type": "code",
   "execution_count": 13,
   "metadata": {},
   "outputs": [
    {
     "data": {
      "text/plain": [
       "array(['BROOKLYN', 'QUEENS', 'STATEN ISLAND', 'MANHATTAN', 'BRONX',\n",
       "       'Missing'], dtype=object)"
      ]
     },
     "execution_count": 13,
     "metadata": {},
     "output_type": "execute_result"
    }
   ],
   "source": [
    "#List all boroughs and pass them to array \"boro_array\"\n",
    "boro_array = df_val['boro'].unique()\n",
    "boro_array"
   ]
  },
  {
   "cell_type": "code",
   "execution_count": 14,
   "metadata": {},
   "outputs": [
    {
     "name": "stdout",
     "output_type": "stream",
     "text": [
      "Number of restaurants in every borough:\n",
      "Brooklyn: 91166 \n",
      "Queens: 81072 \n",
      "Staten 12598 \n",
      "Manhattan 142536 \n",
      "Bronx 32489\n"
     ]
    }
   ],
   "source": [
    "#get the dataframe of each borough individually\n",
    "df_brooklyn = df_val[df_val['boro'] == 'BROOKLYN']\n",
    "df_queens = df_val[df_val['boro'] == 'QUEENS']\n",
    "df_sta_island = df_val[df_val['boro'] == 'STATEN ISLAND']\n",
    "df_manhattan = df_val[df_val['boro'] == 'MANHATTAN']\n",
    "df_bronx = df_val[df_val['boro'] == 'BRONX']\n",
    "print('Number of restaurants in every borough:\\nBrooklyn:', len(df_brooklyn),\n",
    "     '\\nQueens:', len(df_queens),\n",
    "     '\\nStaten', len(df_sta_island),\n",
    "     '\\nManhattan', len(df_manhattan),\n",
    "     '\\nBronx', len(df_bronx))"
   ]
  },
  {
   "cell_type": "markdown",
   "metadata": {},
   "source": [
    "### 4. Plot the scores related to boroughs"
   ]
  },
  {
   "cell_type": "code",
   "execution_count": 15,
   "metadata": {},
   "outputs": [
    {
     "data": {
      "image/png": "[encoded data removed]",
      "text/plain": [
       "<matplotlib.figure.Figure at 0x1a220d2320>"
      ]
     },
     "metadata": {},
     "output_type": "display_data"
    },
    {
     "name": "stdout",
     "output_type": "stream",
     "text": [
      "None\n",
      "AxesSubplot(0.125,0.125;0.775x0.755)\n"
     ]
    },
    {
     "data": {
      "image/png": "[encoded data removed]",
      "text/plain": [
       "<matplotlib.figure.Figure at 0x10f3774e0>"
      ]
     },
     "metadata": {},
     "output_type": "display_data"
    }
   ],
   "source": [
    "#barchart\n",
    "number_restaurants = [len(df_brooklyn), len(df_queens), len(df_sta_island), len(df_manhattan), len(df_bronx)]\n",
    "y_pos = [0,1,2,3,4]\n",
    "plt.bar(y_pos, number_restaurants, align='center')\n",
    "plt.xticks(y_pos, boro_array)\n",
    "plt.title('Number of restaurants in NYC')\n",
    "plt.rcParams['figure.figsize'] = (8, 5)\n",
    "print(plt.show())\n",
    "\n",
    "#piechart\n",
    "df_pie = pd.DataFrame({'number of restaurants': [len(df_brooklyn), len(df_queens), len(df_sta_island), len(df_manhattan), len(df_bronx)]},\n",
    "                 index=['Brooklyn', 'Queens', 'Staten Island', 'Manhattan', 'Bronx'])\n",
    "pie_chart = df_pie.plot.pie(y = 'number of restaurants', figsize = (7,7), legend = False, autopct='%1.0f%%', fontsize = 15)\n",
    "print(pie_chart)"
   ]
  },
  {
   "cell_type": "markdown",
   "metadata": {},
   "source": [
    "From this two figures, we can have an overall understanding of the percentage or numbers of restaurants in each borough. As showing in the bar chart, most restaurants are located in Manhattan, it's about 40 percent. Followed by Queens(23%) and Brooklyn(25%), which are quite close."
   ]
  },
  {
   "cell_type": "code",
   "execution_count": 16,
   "metadata": {},
   "outputs": [
    {
     "name": "stdout",
     "output_type": "stream",
     "text": [
      "Scores in Brooklyn, Queens, Staten Island, Manhattan, Bronx:\n",
      "Scores <= 50:      [87114, 78125, 12212, 137324, 31422]\n",
      "50 < Scores < 100: [3854, 2813, 379, 5044, 1028]\n",
      "Scores >= 100:     [198, 134, 7, 168, 39]\n"
     ]
    }
   ],
   "source": [
    "#get the array of score under 50\n",
    "score_under50 = [len(df_brooklyn[df_brooklyn['score'] <= 50]), len(df_queens[df_queens['score'] <= 50]),\n",
    "                len(df_sta_island[df_sta_island['score'] <= 50]), len(df_manhattan[df_manhattan['score'] <= 50]),\n",
    "                len(df_bronx[df_bronx['score'] <= 50])]\n",
    "print('Scores in Brooklyn, Queens, Staten Island, Manhattan, Bronx:\\nScores <= 50:     ', score_under50)\n",
    "\n",
    "#get the array of score between 50 and 100\n",
    "score_50_to_100 = [len(df_brooklyn[(df_brooklyn['score'] > 50) & (df_brooklyn['score'] < 100)]),\n",
    "                   len(df_queens[(df_queens['score'] > 50) & (df_queens['score'] < 100)]),\n",
    "                   len(df_sta_island[(df_sta_island['score'] > 50) & (df_sta_island['score'] < 100)]),\n",
    "                   len(df_manhattan[(df_manhattan['score'] > 50) & (df_manhattan['score'] < 100)]),\n",
    "                   len(df_bronx[(df_bronx['score'] > 50) & (df_bronx['score'] < 100)])]\n",
    "print('50 < Scores < 100:', score_50_to_100)\n",
    "\n",
    "#get the array of score over 100\n",
    "score_over100 = [len(df_brooklyn[df_brooklyn['score'] >= 100]), len(df_queens[df_queens['score'] >= 100]),\n",
    "                 len(df_sta_island[df_sta_island['score'] >= 100]), len(df_manhattan[df_manhattan['score'] >= 100]),\n",
    "                 len(df_bronx[df_bronx['score'] >= 100])]\n",
    "print('Scores >= 100:    ', score_over100)"
   ]
  },
  {
   "cell_type": "code",
   "execution_count": 17,
   "metadata": {},
   "outputs": [
    {
     "data": {
      "image/png": "[encoded data removed]",
      "text/plain": [
       "<matplotlib.figure.Figure at 0x10f3cc748>"
      ]
     },
     "metadata": {},
     "output_type": "display_data"
    }
   ],
   "source": [
    "df_sco = pd.DataFrame({'scores <= 50': score_under50, '50 < scores < 100': score_50_to_100, 'scores >= 100' : score_over100})\n",
    "df_sco['Boroughs'] = boro_array[0:5]\n",
    "ax = df_sco.plot(x = 'Boroughs', y = 'scores <= 50', kind = 'bar', color = 'C1')\n",
    "df_sco.plot(x = 'Boroughs', y = '50 < scores < 100', kind=\"bar\", ax=ax, color=\"C2\")\n",
    "df_sco.plot(x = 'Boroughs', y= 'scores >= 100', kind=\"bar\", ax=ax, color=\"C3\")\n",
    "plt.show()"
   ]
  },
  {
   "cell_type": "markdown",
   "metadata": {},
   "source": [
    "From this barchart, we can see that Manhattan have the most number of restaurants with scores less than 50, followed by Brooklyn, Queens, Bronx and Staten Island. But when it comes to the proportion, we can see that in Staten Island, nearly all of its restaurants are under 50, which means it has the largest proportion of restaurants with scores less than 50."
   ]
  },
  {
   "cell_type": "code",
   "execution_count": 18,
   "metadata": {},
   "outputs": [
    {
     "data": {
      "text/plain": [
       "<matplotlib.axes._subplots.AxesSubplot at 0x108754dd8>"
      ]
     },
     "execution_count": 18,
     "metadata": {},
     "output_type": "execute_result"
    },
    {
     "data": {
      "image/png": "[encoded data removed]",
      "text/plain": [
       "<matplotlib.figure.Figure at 0x1a220d29b0>"
      ]
     },
     "metadata": {},
     "output_type": "display_data"
    }
   ],
   "source": [
    "df_under25 = pd.DataFrame({'Scores': score_under50},\n",
    "                          index = boro_array[0:5])\n",
    "df_under25.plot.pie(y='Scores', figsize=(7, 7), legend = False,autopct='%1.0f%%', title = 'Percentage of scores under 50'  )"
   ]
  },
  {
   "cell_type": "markdown",
   "metadata": {},
   "source": [
    "### 5. Statistics related to cuisine types"
   ]
  },
  {
   "cell_type": "code",
   "execution_count": 19,
   "metadata": {},
   "outputs": [
    {
     "data": {
      "text/plain": [
       "85"
      ]
     },
     "execution_count": 19,
     "metadata": {},
     "output_type": "execute_result"
    }
   ],
   "source": [
    "#numebr of different cuisine types in the dataset\n",
    "len(df_val['cuisine_description'].value_counts())"
   ]
  },
  {
   "cell_type": "code",
   "execution_count": 20,
   "metadata": {},
   "outputs": [
    {
     "data": {
      "text/plain": [
       "American                                                            78594\n",
       "Chinese                                                             38202\n",
       "CafÃ©/Coffee/Tea                                                    16218\n",
       "Latin (Cuban, Dominican, Puerto Rican, South & Central American)    16101\n",
       "Pizza                                                               15985\n",
       "Italian                                                             14945\n",
       "Mexican                                                             14447\n",
       "Japanese                                                            12875\n",
       "Caribbean                                                           12570\n",
       "Bakery                                                              11084\n",
       "Name: cuisine_description, dtype: int64"
      ]
     },
     "execution_count": 20,
     "metadata": {},
     "output_type": "execute_result"
    }
   ],
   "source": [
    "#ranked by restaurants counts\n",
    "df_val['cuisine_description'].value_counts().head(10)"
   ]
  },
  {
   "cell_type": "code",
   "execution_count": 21,
   "metadata": {},
   "outputs": [],
   "source": [
    "cuisine_list = df_val['cuisine_description'].value_counts().head(10).index.tolist()\n",
    "cuisine_mean_score = [] #creat a list to save mean score for each cuisine\n",
    "cuisine_median_score = [] #save median score for each cuisine\n",
    "for i in range(10):\n",
    "    cuisine_mean_score.append(df_val[df_val['cuisine_description'] == cuisine_list[i]].score.mean())\n",
    "    cuisine_median_score.append(df_val[df_val['cuisine_description'] == cuisine_list[i]].score.median())"
   ]
  },
  {
   "cell_type": "code",
   "execution_count": 22,
   "metadata": {},
   "outputs": [
    {
     "name": "stdout",
     "output_type": "stream",
     "text": [
      "mean score:\n",
      " [18.24477695498384, 20.88613161614575, 17.025280552472562, 20.99428606918825, 18.823459493274946, 19.132619605219137, 20.242264830068525, 19.833398058252428, 21.79244232299125, 19.731865752435944] \n",
      "median score:\n",
      " [13.0, 17.0, 12.0, 18.0, 13.0, 14.0, 17.0, 16.0, 18.0, 15.0]\n"
     ]
    }
   ],
   "source": [
    "print('mean score:\\n', cuisine_mean_score, '\\nmedian score:\\n', cuisine_median_score)"
   ]
  },
  {
   "cell_type": "code",
   "execution_count": 23,
   "metadata": {},
   "outputs": [
    {
     "data": {
      "image/png": "[encoded data removed]",
      "text/plain": [
       "<matplotlib.figure.Figure at 0x10f209630>"
      ]
     },
     "metadata": {},
     "output_type": "display_data"
    },
    {
     "name": "stdout",
     "output_type": "stream",
     "text": [
      "None\n"
     ]
    }
   ],
   "source": [
    "y_pos = range(10)\n",
    "cuisine_list[3] = 'Latin'\n",
    "plt.bar(y_pos, cuisine_mean_score, align='center')\n",
    "plt.xticks(y_pos, cuisine_list, fontsize = 10, rotation = 30)\n",
    "plt.title('Mean score of different cuisine')\n",
    "plt.rcParams['figure.figsize'] = (10, 10)\n",
    "print(plt.show())"
   ]
  },
  {
   "cell_type": "code",
   "execution_count": 24,
   "metadata": {},
   "outputs": [
    {
     "data": {
      "image/png": "[encoded data removed]",
      "text/plain": [
       "<matplotlib.figure.Figure at 0x10f209438>"
      ]
     },
     "metadata": {},
     "output_type": "display_data"
    },
    {
     "name": "stdout",
     "output_type": "stream",
     "text": [
      "None\n"
     ]
    }
   ],
   "source": [
    "y_pos = range(10)\n",
    "plt.bar(y_pos, cuisine_median_score, align='center')\n",
    "plt.xticks(y_pos, cuisine_list, fontsize = 10, rotation = 30)\n",
    "plt.title('Median score of different cuisine')\n",
    "plt.rcParams['figure.figsize'] = (10, 10)\n",
    "print(plt.show())"
   ]
  },
  {
   "cell_type": "markdown",
   "metadata": {},
   "source": [
    "From this two bar charts, we can conclude that the highest scores are in cuisine type Carribean, Latin and Chinese. According to this, we can make an recommendation that more inspections should be conducted to these cuisine types or the inspection cycle time for these cuisine types need to be shortened."
   ]
  },
  {
   "cell_type": "markdown",
   "metadata": {},
   "source": [
    "### 5. Merge data\n",
    "\n",
    "After I did some research on the Internet, I found the the median household income in each New York City county on 2017.\n",
    "\n",
    "I think it is meaningful to find if there is any connection between the household income, land area, population and the score of restaurants in each county."
   ]
  },
  {
   "cell_type": "code",
   "execution_count": 25,
   "metadata": {},
   "outputs": [
    {
     "data": {
      "text/html": [
       "<div>\n",
       "<style scoped>\n",
       "    .dataframe tbody tr th:only-of-type {\n",
       "        vertical-align: middle;\n",
       "    }\n",
       "\n",
       "    .dataframe tbody tr th {\n",
       "        vertical-align: top;\n",
       "    }\n",
       "\n",
       "    .dataframe thead th {\n",
       "        text-align: right;\n",
       "    }\n",
       "</style>\n",
       "<table border=\"1\" class=\"dataframe\">\n",
       "  <thead>\n",
       "    <tr style=\"text-align: right;\">\n",
       "      <th></th>\n",
       "      <th>boro</th>\n",
       "      <th>household_income</th>\n",
       "      <th>land_area(mi^2)</th>\n",
       "      <th>population(million)</th>\n",
       "    </tr>\n",
       "  </thead>\n",
       "  <tbody>\n",
       "    <tr>\n",
       "      <th>0</th>\n",
       "      <td>MANHATTAN</td>\n",
       "      <td>79781</td>\n",
       "      <td>22.82</td>\n",
       "      <td>1.6650</td>\n",
       "    </tr>\n",
       "    <tr>\n",
       "      <th>1</th>\n",
       "      <td>STATEN ISLAND</td>\n",
       "      <td>76244</td>\n",
       "      <td>58.69</td>\n",
       "      <td>0.0479</td>\n",
       "    </tr>\n",
       "    <tr>\n",
       "      <th>2</th>\n",
       "      <td>QUEENS</td>\n",
       "      <td>62008</td>\n",
       "      <td>108.10</td>\n",
       "      <td>2.3590</td>\n",
       "    </tr>\n",
       "    <tr>\n",
       "      <th>3</th>\n",
       "      <td>BROOKLYN</td>\n",
       "      <td>52782</td>\n",
       "      <td>69.50</td>\n",
       "      <td>2.6490</td>\n",
       "    </tr>\n",
       "    <tr>\n",
       "      <th>4</th>\n",
       "      <td>BRONX</td>\n",
       "      <td>36593</td>\n",
       "      <td>42.47</td>\n",
       "      <td>1.4710</td>\n",
       "    </tr>\n",
       "  </tbody>\n",
       "</table>\n",
       "</div>"
      ],
      "text/plain": [
       "            boro  household_income  land_area(mi^2)  population(million)\n",
       "0      MANHATTAN             79781            22.82               1.6650\n",
       "1  STATEN ISLAND             76244            58.69               0.0479\n",
       "2         QUEENS             62008           108.10               2.3590\n",
       "3       BROOKLYN             52782            69.50               2.6490\n",
       "4          BRONX             36593            42.47               1.4710"
      ]
     },
     "execution_count": 25,
     "metadata": {},
     "output_type": "execute_result"
    }
   ],
   "source": [
    "d = {'boro':['MANHATTAN', 'STATEN ISLAND', 'QUEENS', 'BROOKLYN', 'BRONX'],\n",
    "     'household_income': [79781,76244,62008, 52782,36593],\n",
    "    'land_area(mi^2)': [22.82,58.69,108.1,69.5,42.47],\n",
    "    'population(million)': [1.665,0.0479,2.359,2.649,1.471]}\n",
    "df_data = pd.DataFrame(data = d)\n",
    "df_data                  "
   ]
  },
  {
   "cell_type": "code",
   "execution_count": 26,
   "metadata": {},
   "outputs": [
    {
     "data": {
      "text/html": [
       "<div>\n",
       "<style scoped>\n",
       "    .dataframe tbody tr th:only-of-type {\n",
       "        vertical-align: middle;\n",
       "    }\n",
       "\n",
       "    .dataframe tbody tr th {\n",
       "        vertical-align: top;\n",
       "    }\n",
       "\n",
       "    .dataframe thead th {\n",
       "        text-align: right;\n",
       "    }\n",
       "</style>\n",
       "<table border=\"1\" class=\"dataframe\">\n",
       "  <thead>\n",
       "    <tr style=\"text-align: right;\">\n",
       "      <th></th>\n",
       "      <th>boro</th>\n",
       "      <th>household_income</th>\n",
       "      <th>land_area(mi^2)</th>\n",
       "      <th>population(million)</th>\n",
       "      <th>income/area</th>\n",
       "      <th>income/population</th>\n",
       "      <th>population_density</th>\n",
       "    </tr>\n",
       "  </thead>\n",
       "  <tbody>\n",
       "    <tr>\n",
       "      <th>0</th>\n",
       "      <td>MANHATTAN</td>\n",
       "      <td>79781</td>\n",
       "      <td>22.82</td>\n",
       "      <td>1.6650</td>\n",
       "      <td>3496.099912</td>\n",
       "      <td>0.047917</td>\n",
       "      <td>0.072962</td>\n",
       "    </tr>\n",
       "    <tr>\n",
       "      <th>1</th>\n",
       "      <td>STATEN ISLAND</td>\n",
       "      <td>76244</td>\n",
       "      <td>58.69</td>\n",
       "      <td>0.0479</td>\n",
       "      <td>1299.096950</td>\n",
       "      <td>1.591733</td>\n",
       "      <td>0.000816</td>\n",
       "    </tr>\n",
       "    <tr>\n",
       "      <th>2</th>\n",
       "      <td>QUEENS</td>\n",
       "      <td>62008</td>\n",
       "      <td>108.10</td>\n",
       "      <td>2.3590</td>\n",
       "      <td>573.617021</td>\n",
       "      <td>0.026286</td>\n",
       "      <td>0.021822</td>\n",
       "    </tr>\n",
       "    <tr>\n",
       "      <th>3</th>\n",
       "      <td>BROOKLYN</td>\n",
       "      <td>52782</td>\n",
       "      <td>69.50</td>\n",
       "      <td>2.6490</td>\n",
       "      <td>759.453237</td>\n",
       "      <td>0.019925</td>\n",
       "      <td>0.038115</td>\n",
       "    </tr>\n",
       "    <tr>\n",
       "      <th>4</th>\n",
       "      <td>BRONX</td>\n",
       "      <td>36593</td>\n",
       "      <td>42.47</td>\n",
       "      <td>1.4710</td>\n",
       "      <td>861.619967</td>\n",
       "      <td>0.024876</td>\n",
       "      <td>0.034636</td>\n",
       "    </tr>\n",
       "  </tbody>\n",
       "</table>\n",
       "</div>"
      ],
      "text/plain": [
       "            boro  household_income  land_area(mi^2)  population(million)  \\\n",
       "0      MANHATTAN             79781            22.82               1.6650   \n",
       "1  STATEN ISLAND             76244            58.69               0.0479   \n",
       "2         QUEENS             62008           108.10               2.3590   \n",
       "3       BROOKLYN             52782            69.50               2.6490   \n",
       "4          BRONX             36593            42.47               1.4710   \n",
       "\n",
       "   income/area  income/population  population_density  \n",
       "0  3496.099912           0.047917            0.072962  \n",
       "1  1299.096950           1.591733            0.000816  \n",
       "2   573.617021           0.026286            0.021822  \n",
       "3   759.453237           0.019925            0.038115  \n",
       "4   861.619967           0.024876            0.034636  "
      ]
     },
     "execution_count": 26,
     "metadata": {},
     "output_type": "execute_result"
    }
   ],
   "source": [
    "df_data['income/area']= df_data['household_income']/df_data['land_area(mi^2)']\n",
    "df_data['income/population'] = df_data['household_income']/(df_data['population(million)']*1000000)\n",
    "df_data['population_density'] = df_data['population(million)']/df_data['land_area(mi^2)']\n",
    "df_data"
   ]
  },
  {
   "cell_type": "code",
   "execution_count": 28,
   "metadata": {},
   "outputs": [
    {
     "data": {
      "text/html": [
       "<div>\n",
       "<style scoped>\n",
       "    .dataframe tbody tr th:only-of-type {\n",
       "        vertical-align: middle;\n",
       "    }\n",
       "\n",
       "    .dataframe tbody tr th {\n",
       "        vertical-align: top;\n",
       "    }\n",
       "\n",
       "    .dataframe thead th {\n",
       "        text-align: right;\n",
       "    }\n",
       "</style>\n",
       "<table border=\"1\" class=\"dataframe\">\n",
       "  <thead>\n",
       "    <tr style=\"text-align: right;\">\n",
       "      <th></th>\n",
       "      <th>boro</th>\n",
       "      <th>score</th>\n",
       "    </tr>\n",
       "  </thead>\n",
       "  <tbody>\n",
       "    <tr>\n",
       "      <th>0</th>\n",
       "      <td>BRONX</td>\n",
       "      <td>14.0</td>\n",
       "    </tr>\n",
       "    <tr>\n",
       "      <th>1</th>\n",
       "      <td>BROOKLYN</td>\n",
       "      <td>15.0</td>\n",
       "    </tr>\n",
       "    <tr>\n",
       "      <th>2</th>\n",
       "      <td>MANHATTAN</td>\n",
       "      <td>15.0</td>\n",
       "    </tr>\n",
       "    <tr>\n",
       "      <th>3</th>\n",
       "      <td>QUEENS</td>\n",
       "      <td>13.0</td>\n",
       "    </tr>\n",
       "    <tr>\n",
       "      <th>4</th>\n",
       "      <td>STATEN ISLAND</td>\n",
       "      <td>17.0</td>\n",
       "    </tr>\n",
       "  </tbody>\n",
       "</table>\n",
       "</div>"
      ],
      "text/plain": [
       "            boro  score\n",
       "0          BRONX   14.0\n",
       "1       BROOKLYN   15.0\n",
       "2      MANHATTAN   15.0\n",
       "3         QUEENS   13.0\n",
       "4  STATEN ISLAND   17.0"
      ]
     },
     "execution_count": 28,
     "metadata": {},
     "output_type": "execute_result"
    }
   ],
   "source": [
    "#restaurants median score in each borough\n",
    "df_filt = df_val[df_val['boro'] != 'Missing']\n",
    "df_median = df_filt.groupby('boro').score.median().to_frame().reset_index()\n",
    "df_median"
   ]
  },
  {
   "cell_type": "code",
   "execution_count": 29,
   "metadata": {},
   "outputs": [
    {
     "data": {
      "text/html": [
       "<div>\n",
       "<style scoped>\n",
       "    .dataframe tbody tr th:only-of-type {\n",
       "        vertical-align: middle;\n",
       "    }\n",
       "\n",
       "    .dataframe tbody tr th {\n",
       "        vertical-align: top;\n",
       "    }\n",
       "\n",
       "    .dataframe thead th {\n",
       "        text-align: right;\n",
       "    }\n",
       "</style>\n",
       "<table border=\"1\" class=\"dataframe\">\n",
       "  <thead>\n",
       "    <tr style=\"text-align: right;\">\n",
       "      <th></th>\n",
       "      <th>boro</th>\n",
       "      <th>income/area</th>\n",
       "      <th>income/population</th>\n",
       "      <th>population_density</th>\n",
       "    </tr>\n",
       "  </thead>\n",
       "  <tbody>\n",
       "    <tr>\n",
       "      <th>0</th>\n",
       "      <td>MANHATTAN</td>\n",
       "      <td>3496.099912</td>\n",
       "      <td>0.047917</td>\n",
       "      <td>0.072962</td>\n",
       "    </tr>\n",
       "    <tr>\n",
       "      <th>1</th>\n",
       "      <td>STATEN ISLAND</td>\n",
       "      <td>1299.096950</td>\n",
       "      <td>1.591733</td>\n",
       "      <td>0.000816</td>\n",
       "    </tr>\n",
       "    <tr>\n",
       "      <th>2</th>\n",
       "      <td>QUEENS</td>\n",
       "      <td>573.617021</td>\n",
       "      <td>0.026286</td>\n",
       "      <td>0.021822</td>\n",
       "    </tr>\n",
       "    <tr>\n",
       "      <th>3</th>\n",
       "      <td>BROOKLYN</td>\n",
       "      <td>759.453237</td>\n",
       "      <td>0.019925</td>\n",
       "      <td>0.038115</td>\n",
       "    </tr>\n",
       "    <tr>\n",
       "      <th>4</th>\n",
       "      <td>BRONX</td>\n",
       "      <td>861.619967</td>\n",
       "      <td>0.024876</td>\n",
       "      <td>0.034636</td>\n",
       "    </tr>\n",
       "  </tbody>\n",
       "</table>\n",
       "</div>"
      ],
      "text/plain": [
       "            boro  income/area  income/population  population_density\n",
       "0      MANHATTAN  3496.099912           0.047917            0.072962\n",
       "1  STATEN ISLAND  1299.096950           1.591733            0.000816\n",
       "2         QUEENS   573.617021           0.026286            0.021822\n",
       "3       BROOKLYN   759.453237           0.019925            0.038115\n",
       "4          BRONX   861.619967           0.024876            0.034636"
      ]
     },
     "execution_count": 29,
     "metadata": {},
     "output_type": "execute_result"
    }
   ],
   "source": [
    "df_chosen = df_data[['boro', 'income/area', 'income/population', 'population_density']]\n",
    "df_chosen"
   ]
  },
  {
   "cell_type": "code",
   "execution_count": 30,
   "metadata": {},
   "outputs": [
    {
     "data": {
      "text/html": [
       "<div>\n",
       "<style scoped>\n",
       "    .dataframe tbody tr th:only-of-type {\n",
       "        vertical-align: middle;\n",
       "    }\n",
       "\n",
       "    .dataframe tbody tr th {\n",
       "        vertical-align: top;\n",
       "    }\n",
       "\n",
       "    .dataframe thead th {\n",
       "        text-align: right;\n",
       "    }\n",
       "</style>\n",
       "<table border=\"1\" class=\"dataframe\">\n",
       "  <thead>\n",
       "    <tr style=\"text-align: right;\">\n",
       "      <th></th>\n",
       "      <th>boro</th>\n",
       "      <th>income/area</th>\n",
       "      <th>income/population</th>\n",
       "      <th>population_density</th>\n",
       "      <th>score</th>\n",
       "    </tr>\n",
       "  </thead>\n",
       "  <tbody>\n",
       "    <tr>\n",
       "      <th>0</th>\n",
       "      <td>MANHATTAN</td>\n",
       "      <td>3496.099912</td>\n",
       "      <td>0.047917</td>\n",
       "      <td>0.072962</td>\n",
       "      <td>15.0</td>\n",
       "    </tr>\n",
       "    <tr>\n",
       "      <th>1</th>\n",
       "      <td>STATEN ISLAND</td>\n",
       "      <td>1299.096950</td>\n",
       "      <td>1.591733</td>\n",
       "      <td>0.000816</td>\n",
       "      <td>17.0</td>\n",
       "    </tr>\n",
       "    <tr>\n",
       "      <th>2</th>\n",
       "      <td>QUEENS</td>\n",
       "      <td>573.617021</td>\n",
       "      <td>0.026286</td>\n",
       "      <td>0.021822</td>\n",
       "      <td>13.0</td>\n",
       "    </tr>\n",
       "    <tr>\n",
       "      <th>3</th>\n",
       "      <td>BROOKLYN</td>\n",
       "      <td>759.453237</td>\n",
       "      <td>0.019925</td>\n",
       "      <td>0.038115</td>\n",
       "      <td>15.0</td>\n",
       "    </tr>\n",
       "    <tr>\n",
       "      <th>4</th>\n",
       "      <td>BRONX</td>\n",
       "      <td>861.619967</td>\n",
       "      <td>0.024876</td>\n",
       "      <td>0.034636</td>\n",
       "      <td>14.0</td>\n",
       "    </tr>\n",
       "  </tbody>\n",
       "</table>\n",
       "</div>"
      ],
      "text/plain": [
       "            boro  income/area  income/population  population_density  score\n",
       "0      MANHATTAN  3496.099912           0.047917            0.072962   15.0\n",
       "1  STATEN ISLAND  1299.096950           1.591733            0.000816   17.0\n",
       "2         QUEENS   573.617021           0.026286            0.021822   13.0\n",
       "3       BROOKLYN   759.453237           0.019925            0.038115   15.0\n",
       "4          BRONX   861.619967           0.024876            0.034636   14.0"
      ]
     },
     "execution_count": 30,
     "metadata": {},
     "output_type": "execute_result"
    }
   ],
   "source": [
    "df_merged = df_chosen.merge(df_median, on = 'boro')\n",
    "df_merged"
   ]
  },
  {
   "cell_type": "code",
   "execution_count": 387,
   "metadata": {},
   "outputs": [
    {
     "data": {
      "text/plain": [
       "<matplotlib.axes._subplots.AxesSubplot at 0x1a174946d8>"
      ]
     },
     "execution_count": 387,
     "metadata": {},
     "output_type": "execute_result"
    },
    {
     "data": {
      "image/png": "[encoded data removed]",
      "text/plain": [
       "<matplotlib.figure.Figure at 0x1a55700d30>"
      ]
     },
     "metadata": {},
     "output_type": "display_data"
    }
   ],
   "source": [
    "df_merged[['income/population','score']].plot.line()"
   ]
  },
  {
   "cell_type": "code",
   "execution_count": 388,
   "metadata": {},
   "outputs": [
    {
     "data": {
      "text/plain": [
       "<matplotlib.axes._subplots.AxesSubplot at 0x1a1e89aa90>"
      ]
     },
     "execution_count": 388,
     "metadata": {},
     "output_type": "execute_result"
    },
    {
     "data": {
      "image/png": "[encoded data removed]",
      "text/plain": [
       "<matplotlib.figure.Figure at 0x1a1ce5b080>"
      ]
     },
     "metadata": {},
     "output_type": "display_data"
    }
   ],
   "source": [
    "df_merged[['population_density']].plot.line()"
   ]
  },
  {
   "cell_type": "code",
   "execution_count": 389,
   "metadata": {
    "scrolled": false
   },
   "outputs": [
    {
     "data": {
      "text/plain": [
       "<matplotlib.axes._subplots.AxesSubplot at 0x1a1e8d6c18>"
      ]
     },
     "execution_count": 389,
     "metadata": {},
     "output_type": "execute_result"
    },
    {
     "data": {
      "image/png": "[encoded data removed]",
      "text/plain": [
       "<matplotlib.figure.Figure at 0x1a1e8e4860>"
      ]
     },
     "metadata": {},
     "output_type": "display_data"
    }
   ],
   "source": [
    "df_merged[['income/area']].plot.line()"
   ]
  },
  {
   "cell_type": "markdown",
   "metadata": {},
   "source": [
    "Based on these line plot, the conclusion I made is that:\n",
    "\n",
    "1.The county with higher personal average income tend to have restaurants with higher score\n",
    "\n",
    "2.County with lower population density tend to have restaurants with higher score"
   ]
  },
  {
   "cell_type": "markdown",
   "metadata": {},
   "source": [
    "### 6. Machine Learning Model\n",
    "Based on my dataset, \n",
    "\n",
    "I would like to try to predict the score of a restaurant in New York city based on its cuisine type and borough it locates. Since my model is more likely to give a decision based on its county and cuisine type, so I guess random forest maybe a good option for me to achieve my model."
   ]
  },
  {
   "cell_type": "code",
   "execution_count": 390,
   "metadata": {},
   "outputs": [
    {
     "data": {
      "text/html": [
       "<div>\n",
       "<style scoped>\n",
       "    .dataframe tbody tr th:only-of-type {\n",
       "        vertical-align: middle;\n",
       "    }\n",
       "\n",
       "    .dataframe tbody tr th {\n",
       "        vertical-align: top;\n",
       "    }\n",
       "\n",
       "    .dataframe thead th {\n",
       "        text-align: right;\n",
       "    }\n",
       "</style>\n",
       "<table border=\"1\" class=\"dataframe\">\n",
       "  <thead>\n",
       "    <tr style=\"text-align: right;\">\n",
       "      <th></th>\n",
       "      <th>dba</th>\n",
       "      <th>boro</th>\n",
       "      <th>cuisine_description</th>\n",
       "      <th>score</th>\n",
       "    </tr>\n",
       "  </thead>\n",
       "  <tbody>\n",
       "    <tr>\n",
       "      <th>0</th>\n",
       "      <td>BRANCACCIO'S FOOD SHOP</td>\n",
       "      <td>BROOKLYN</td>\n",
       "      <td>Sandwiches</td>\n",
       "      <td>26.0</td>\n",
       "    </tr>\n",
       "    <tr>\n",
       "      <th>1</th>\n",
       "      <td>SANGRIA</td>\n",
       "      <td>QUEENS</td>\n",
       "      <td>Spanish</td>\n",
       "      <td>12.0</td>\n",
       "    </tr>\n",
       "    <tr>\n",
       "      <th>2</th>\n",
       "      <td>CHABBA BBQ/FAMILY GRILL &amp; CUISINE</td>\n",
       "      <td>BROOKLYN</td>\n",
       "      <td>Indian</td>\n",
       "      <td>33.0</td>\n",
       "    </tr>\n",
       "    <tr>\n",
       "      <th>3</th>\n",
       "      <td>GREENLEAF'S/BANANAS</td>\n",
       "      <td>STATEN ISLAND</td>\n",
       "      <td>Sandwiches/Salads/Mixed Buffet</td>\n",
       "      <td>18.0</td>\n",
       "    </tr>\n",
       "    <tr>\n",
       "      <th>4</th>\n",
       "      <td>QUEZADA RESTAURANT</td>\n",
       "      <td>BROOKLYN</td>\n",
       "      <td>Latin (Cuban, Dominican, Puerto Rican, South &amp;...</td>\n",
       "      <td>30.0</td>\n",
       "    </tr>\n",
       "  </tbody>\n",
       "</table>\n",
       "</div>"
      ],
      "text/plain": [
       "                                 dba           boro  \\\n",
       "0             BRANCACCIO'S FOOD SHOP       BROOKLYN   \n",
       "1                            SANGRIA         QUEENS   \n",
       "2  CHABBA BBQ/FAMILY GRILL & CUISINE       BROOKLYN   \n",
       "3                GREENLEAF'S/BANANAS  STATEN ISLAND   \n",
       "4                 QUEZADA RESTAURANT       BROOKLYN   \n",
       "\n",
       "                                 cuisine_description  score  \n",
       "0                                         Sandwiches   26.0  \n",
       "1                                            Spanish   12.0  \n",
       "2                                             Indian   33.0  \n",
       "3                     Sandwiches/Salads/Mixed Buffet   18.0  \n",
       "4  Latin (Cuban, Dominican, Puerto Rican, South &...   30.0  "
      ]
     },
     "execution_count": 390,
     "metadata": {},
     "output_type": "execute_result"
    }
   ],
   "source": [
    "df_val.head()"
   ]
  },
  {
   "cell_type": "code",
   "execution_count": 391,
   "metadata": {},
   "outputs": [
    {
     "data": {
      "text/plain": [
       "array(['BROOKLYN', 'QUEENS', 'STATEN ISLAND', 'MANHATTAN', 'BRONX',\n",
       "       'Missing'], dtype=object)"
      ]
     },
     "execution_count": 391,
     "metadata": {},
     "output_type": "execute_result"
    }
   ],
   "source": [
    "df_val.boro.unique()"
   ]
  },
  {
   "cell_type": "code",
   "execution_count": 392,
   "metadata": {},
   "outputs": [],
   "source": [
    "df_filt = df_val[df_val['boro'] != 'Missing'] #choose data with borough info"
   ]
  },
  {
   "cell_type": "markdown",
   "metadata": {},
   "source": [
    "Select top 10(counts) cuisine type restaurants and delete these restaurants sharing similar cuisine type name"
   ]
  },
  {
   "cell_type": "code",
   "execution_count": 393,
   "metadata": {},
   "outputs": [
    {
     "data": {
      "text/plain": [
       "array(['Latin (Cuban, Dominican, Puerto Rican, South & Central American)',\n",
       "       'Caribbean', 'Chinese', 'American', 'Pizza/Italian',\n",
       "       'CafÃ©/Coffee/Tea', 'Japanese', 'Pizza', 'Italian', 'Mexican',\n",
       "       'Bakery', 'Chinese/Japanese', 'Chinese/Cuban'], dtype=object)"
      ]
     },
     "execution_count": 393,
     "metadata": {},
     "output_type": "execute_result"
    }
   ],
   "source": [
    "df_top10_raw = df_filt[df_filt['cuisine_description'].str.contains('American|Chinese|CafÃ©/Coffee/Tea|Latin|Pizza|Italian|Mexican|Japanese|Caribbean|Bakery')]\n",
    "df_top10_raw['cuisine_description'].unique()"
   ]
  },
  {
   "cell_type": "code",
   "execution_count": 394,
   "metadata": {},
   "outputs": [],
   "source": [
    "df_1 = df_top10_raw[df_top10_raw['cuisine_description'] != 'Pizza/Italian']\n",
    "df_2 = df_1[df_1['cuisine_description'] != 'Chinese/Japanese']\n",
    "df_top10 = df_2[df_2['cuisine_description'] != 'Chinese/Cuban']"
   ]
  },
  {
   "cell_type": "code",
   "execution_count": 395,
   "metadata": {},
   "outputs": [
    {
     "data": {
      "text/plain": [
       "array(['Latin (Cuban, Dominican, Puerto Rican, South & Central American)',\n",
       "       'Caribbean', 'Chinese', 'American', 'CafÃ©/Coffee/Tea', 'Japanese',\n",
       "       'Pizza', 'Italian', 'Mexican', 'Bakery'], dtype=object)"
      ]
     },
     "execution_count": 395,
     "metadata": {},
     "output_type": "execute_result"
    }
   ],
   "source": [
    "df_top10['cuisine_description'].unique()"
   ]
  },
  {
   "cell_type": "markdown",
   "metadata": {},
   "source": [
    "Replace the cuisine description with number from 1 to 10 to make it work in the machine learning model\n",
    "\n",
    "Basically, I replaced the value of cuisine description following the order of array \"cuisine_list\" and replace each of them from 1 to 10"
   ]
  },
  {
   "cell_type": "code",
   "execution_count": 396,
   "metadata": {},
   "outputs": [],
   "source": [
    "df_cuisine_number = df_top10['cuisine_description'].replace(cuisine_list[0], 1).replace(cuisine_list[1], 2).replace(cuisine_list[2], 3).replace('Latin (Cuban, Dominican, Puerto Rican, South & Central American)', 4).replace(cuisine_list[4], 5).replace(cuisine_list[5], 6).replace(cuisine_list[6], 7).replace(cuisine_list[7], 8).replace(cuisine_list[8], 9).replace(cuisine_list[9], 10)\n"
   ]
  },
  {
   "cell_type": "markdown",
   "metadata": {},
   "source": [
    "Create a new column 'cuisine_number' to receive the cuisine number from the previous data frame"
   ]
  },
  {
   "cell_type": "code",
   "execution_count": 397,
   "metadata": {},
   "outputs": [
    {
     "name": "stderr",
     "output_type": "stream",
     "text": [
      "/Applications/anaconda3/lib/python3.6/site-packages/ipykernel_launcher.py:1: SettingWithCopyWarning: \n",
      "A value is trying to be set on a copy of a slice from a DataFrame.\n",
      "Try using .loc[row_indexer,col_indexer] = value instead\n",
      "\n",
      "See the caveats in the documentation: http://pandas.pydata.org/pandas-docs/stable/indexing.html#indexing-view-versus-copy\n",
      "  \"\"\"Entry point for launching an IPython kernel.\n"
     ]
    }
   ],
   "source": [
    "df_top10['cuisine_number'] = df_cuisine_number.to_frame()['cuisine_description']"
   ]
  },
  {
   "cell_type": "markdown",
   "metadata": {},
   "source": [
    "Create a new column containing the grade for each restaurant\n",
    "\n",
    "I personally set the standards as:\n",
    "\n",
    "score <= 25: A;\n",
    "25< score <= 50: B;\n",
    "50< score <= 80: C;\n",
    "score > 80: D"
   ]
  },
  {
   "cell_type": "code",
   "execution_count": 398,
   "metadata": {},
   "outputs": [
    {
     "name": "stderr",
     "output_type": "stream",
     "text": [
      "/Applications/anaconda3/lib/python3.6/site-packages/pandas/core/indexing.py:357: SettingWithCopyWarning: \n",
      "A value is trying to be set on a copy of a slice from a DataFrame.\n",
      "Try using .loc[row_indexer,col_indexer] = value instead\n",
      "\n",
      "See the caveats in the documentation: http://pandas.pydata.org/pandas-docs/stable/indexing.html#indexing-view-versus-copy\n",
      "  self.obj[key] = _infer_fill_value(value)\n",
      "/Applications/anaconda3/lib/python3.6/site-packages/pandas/core/indexing.py:537: SettingWithCopyWarning: \n",
      "A value is trying to be set on a copy of a slice from a DataFrame.\n",
      "Try using .loc[row_indexer,col_indexer] = value instead\n",
      "\n",
      "See the caveats in the documentation: http://pandas.pydata.org/pandas-docs/stable/indexing.html#indexing-view-versus-copy\n",
      "  self.obj[item] = s\n"
     ]
    }
   ],
   "source": [
    "df_top10.loc[df_top10.score <200, 'score_grade'] = 'D'\n",
    "df_top10.loc[df_top10.score <80, 'score_grade'] = 'C'\n",
    "df_top10.loc[df_top10.score <50, 'score_grade'] = 'B'\n",
    "df_top10.loc[df_top10.score <25, 'score_grade'] = 'A'"
   ]
  },
  {
   "cell_type": "markdown",
   "metadata": {},
   "source": [
    "The same for labeling the boroughs with numbers:\n",
    "\n",
    "Brooklyn: 1\n",
    "Queens: 2\n",
    "Staten Island: 3\n",
    "Manhattan: 4\n",
    "Bronx: 5"
   ]
  },
  {
   "cell_type": "code",
   "execution_count": 399,
   "metadata": {},
   "outputs": [
    {
     "name": "stderr",
     "output_type": "stream",
     "text": [
      "/Applications/anaconda3/lib/python3.6/site-packages/pandas/core/indexing.py:357: SettingWithCopyWarning: \n",
      "A value is trying to be set on a copy of a slice from a DataFrame.\n",
      "Try using .loc[row_indexer,col_indexer] = value instead\n",
      "\n",
      "See the caveats in the documentation: http://pandas.pydata.org/pandas-docs/stable/indexing.html#indexing-view-versus-copy\n",
      "  self.obj[key] = _infer_fill_value(value)\n",
      "/Applications/anaconda3/lib/python3.6/site-packages/pandas/core/indexing.py:537: SettingWithCopyWarning: \n",
      "A value is trying to be set on a copy of a slice from a DataFrame.\n",
      "Try using .loc[row_indexer,col_indexer] = value instead\n",
      "\n",
      "See the caveats in the documentation: http://pandas.pydata.org/pandas-docs/stable/indexing.html#indexing-view-versus-copy\n",
      "  self.obj[item] = s\n"
     ]
    }
   ],
   "source": [
    "df_top10.loc[df_top10.boro == 'BROOKLYN', 'borough_code'] = 1\n",
    "df_top10.loc[df_top10.boro == 'QUEENS', 'borough_code'] = 2\n",
    "df_top10.loc[df_top10.boro == 'STATEN ISLAND', 'borough_code'] = 3\n",
    "df_top10.loc[df_top10.boro == 'MANHATTAN', 'borough_code'] = 4\n",
    "df_top10.loc[df_top10.boro == 'BRONX', 'borough_code'] = 5"
   ]
  },
  {
   "cell_type": "code",
   "execution_count": 400,
   "metadata": {},
   "outputs": [
    {
     "data": {
      "text/html": [
       "<div>\n",
       "<style scoped>\n",
       "    .dataframe tbody tr th:only-of-type {\n",
       "        vertical-align: middle;\n",
       "    }\n",
       "\n",
       "    .dataframe tbody tr th {\n",
       "        vertical-align: top;\n",
       "    }\n",
       "\n",
       "    .dataframe thead th {\n",
       "        text-align: right;\n",
       "    }\n",
       "</style>\n",
       "<table border=\"1\" class=\"dataframe\">\n",
       "  <thead>\n",
       "    <tr style=\"text-align: right;\">\n",
       "      <th></th>\n",
       "      <th>dba</th>\n",
       "      <th>boro</th>\n",
       "      <th>cuisine_description</th>\n",
       "      <th>score</th>\n",
       "      <th>cuisine_number</th>\n",
       "      <th>score_grade</th>\n",
       "      <th>borough_code</th>\n",
       "    </tr>\n",
       "  </thead>\n",
       "  <tbody>\n",
       "    <tr>\n",
       "      <th>4</th>\n",
       "      <td>QUEZADA RESTAURANT</td>\n",
       "      <td>BROOKLYN</td>\n",
       "      <td>Latin (Cuban, Dominican, Puerto Rican, South &amp;...</td>\n",
       "      <td>30.0</td>\n",
       "      <td>4</td>\n",
       "      <td>B</td>\n",
       "      <td>1.0</td>\n",
       "    </tr>\n",
       "    <tr>\n",
       "      <th>8</th>\n",
       "      <td>CARIBBEAN FIESTA</td>\n",
       "      <td>MANHATTAN</td>\n",
       "      <td>Caribbean</td>\n",
       "      <td>12.0</td>\n",
       "      <td>9</td>\n",
       "      <td>A</td>\n",
       "      <td>4.0</td>\n",
       "    </tr>\n",
       "    <tr>\n",
       "      <th>10</th>\n",
       "      <td>NORTHERN TIGER</td>\n",
       "      <td>MANHATTAN</td>\n",
       "      <td>Chinese</td>\n",
       "      <td>24.0</td>\n",
       "      <td>2</td>\n",
       "      <td>A</td>\n",
       "      <td>4.0</td>\n",
       "    </tr>\n",
       "    <tr>\n",
       "      <th>11</th>\n",
       "      <td>HAPPY GARDEN</td>\n",
       "      <td>BROOKLYN</td>\n",
       "      <td>Chinese</td>\n",
       "      <td>12.0</td>\n",
       "      <td>2</td>\n",
       "      <td>A</td>\n",
       "      <td>1.0</td>\n",
       "    </tr>\n",
       "    <tr>\n",
       "      <th>12</th>\n",
       "      <td>LITE BITES &amp; GRILL</td>\n",
       "      <td>BROOKLYN</td>\n",
       "      <td>American</td>\n",
       "      <td>26.0</td>\n",
       "      <td>1</td>\n",
       "      <td>B</td>\n",
       "      <td>1.0</td>\n",
       "    </tr>\n",
       "  </tbody>\n",
       "</table>\n",
       "</div>"
      ],
      "text/plain": [
       "                   dba       boro  \\\n",
       "4   QUEZADA RESTAURANT   BROOKLYN   \n",
       "8     CARIBBEAN FIESTA  MANHATTAN   \n",
       "10      NORTHERN TIGER  MANHATTAN   \n",
       "11        HAPPY GARDEN   BROOKLYN   \n",
       "12  LITE BITES & GRILL   BROOKLYN   \n",
       "\n",
       "                                  cuisine_description  score  cuisine_number  \\\n",
       "4   Latin (Cuban, Dominican, Puerto Rican, South &...   30.0               4   \n",
       "8                                           Caribbean   12.0               9   \n",
       "10                                            Chinese   24.0               2   \n",
       "11                                            Chinese   12.0               2   \n",
       "12                                           American   26.0               1   \n",
       "\n",
       "   score_grade  borough_code  \n",
       "4            B           1.0  \n",
       "8            A           4.0  \n",
       "10           A           4.0  \n",
       "11           A           1.0  \n",
       "12           B           1.0  "
      ]
     },
     "execution_count": 400,
     "metadata": {},
     "output_type": "execute_result"
    }
   ],
   "source": [
    "df_top10.head()"
   ]
  },
  {
   "cell_type": "code",
   "execution_count": 401,
   "metadata": {},
   "outputs": [
    {
     "name": "stdout",
     "output_type": "stream",
     "text": [
      "RandomForestClassifier(bootstrap=True, class_weight=None, criterion='gini',\n",
      "            max_depth=5, max_features='auto', max_leaf_nodes=None,\n",
      "            min_impurity_decrease=0.0, min_impurity_split=None,\n",
      "            min_samples_leaf=1, min_samples_split=2,\n",
      "            min_weight_fraction_leaf=0.0, n_estimators=30, n_jobs=1,\n",
      "            oob_score=False, random_state=None, verbose=0,\n",
      "            warm_start=False)\n",
      "['A' 'A' 'A' ... 'A' 'A' 'A']\n"
     ]
    }
   ],
   "source": [
    "if __name__ == \"__main__\":\n",
    "    x = df_top10[['cuisine_number', 'borough_code']]\n",
    "    y = df_top10['score_grade']\n",
    "\n",
    "    x_train, x_test, y_train, y_test = train_test_split(x, y, random_state=1)\n",
    "    clf = RandomForestClassifier(max_depth = 5, n_estimators = 30)\n",
    "    rf_clf = clf.fit(x_train, y_train)\n",
    "    print(rf_clf)\n",
    "\n",
    "    y_hat = clf.predict(np.array(x_test))\n",
    "    print(y_hat)\n",
    "    "
   ]
  },
  {
   "cell_type": "code",
   "execution_count": 402,
   "metadata": {},
   "outputs": [
    {
     "name": "stdout",
     "output_type": "stream",
     "text": [
      "Test accuracy: 0.7490823464228825\n"
     ]
    }
   ],
   "source": [
    "count = 0\n",
    "test_array = np.array(y_test)\n",
    "for i in range(len(y_hat)):\n",
    "    if test_array[i] == y_hat[i]:\n",
    "        count += 1\n",
    "print('Test accuracy:', count/len(y_test))"
   ]
  }
 ],
 "metadata": {
  "kernelspec": {
   "display_name": "Python 3",
   "language": "python",
   "name": "python3"
  },
  "language_info": {
   "codemirror_mode": {
    "name": "ipython",
    "version": 3
   },
   "file_extension": ".py",
   "mimetype": "text/x-python",
   "name": "python",
   "nbconvert_exporter": "python",
   "pygments_lexer": "ipython3",
   "version": "3.6.4"
  }
 },
 "nbformat": 4,
 "nbformat_minor": 2
}
