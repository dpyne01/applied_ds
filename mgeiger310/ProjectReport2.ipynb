{
 "cells": [
  {
   "cell_type": "markdown",
   "metadata": {},
   "source": [
    "# Project Report\n",
    "By Michael Geiger"
   ]
  },
  {
   "cell_type": "markdown",
   "metadata": {},
   "source": [
    "### Project Overview\n",
    "For my data science project this semester, I would like to investigate how accurately you can predict whether or not the outcome of an NFL game will fall within the projected outcome (right winner predicted), the points that the winning team will win by (spread), and the combined points (over/under) for a specific game. These predictions will be based on historical betting data, NFL game matchups and outcomes, and various environmental conditions such as stadium location and weather conditions. I will also be merging in external population data to see how additional information affects the accuracy of this model. With the rise of sports gambling in all professional sports in the United States, a predictive model that can accurate prove/disprove projected betting odds for any game is an incredibly valuable tool. With the NFL being one of the most popular sports in the US, a predictive tool for personal-gambling purposes would be incredibly valuable for use in states where sports gambling is currently legal. "
   ]
  },
  {
   "cell_type": "code",
   "execution_count": 678,
   "metadata": {},
   "outputs": [],
   "source": [
    "import pandas as pd\n",
    "import numpy as np\n",
    "import seaborn as sns\n",
    "import warnings\n",
    "import codecs\n",
    "import statsmodels.formula.api as smf\n",
    "from sklearn.linear_model import Lasso\n",
    "import matplotlib.pyplot as plt\n",
    "warnings.filterwarnings('ignore')\n",
    "sns.set_context('talk')\n",
    "sns.set_style('darkgrid')\n",
    "sns.set_palette('colorblind')"
   ]
  },
  {
   "cell_type": "markdown",
   "metadata": {},
   "source": [
    "#### Let's start by importing our datasets."
   ]
  },
  {
   "cell_type": "code",
   "execution_count": 679,
   "metadata": {},
   "outputs": [],
   "source": [
    "nfl_teams = pd.read_csv(\"nfl_teams.csv\")\n",
    "nfl_stadiums = pd.read_csv(\"nfl_stadiums.csv\", encoding='cp437')\n",
    "nfl_scores = pd.read_csv(\"spreadspoke_scores.csv\")"
   ]
  },
  {
   "cell_type": "markdown",
   "metadata": {},
   "source": [
    "## Cleaning the Datasets"
   ]
  },
  {
   "cell_type": "markdown",
   "metadata": {},
   "source": [
    "#### NFL Teams Dataset"
   ]
  },
  {
   "cell_type": "markdown",
   "metadata": {},
   "source": [
    "This dataset has teams that were in the league before my desired \"cutoff date\" of 2010, so their information will not be relevant in this analysis."
   ]
  },
  {
   "cell_type": "code",
   "execution_count": 680,
   "metadata": {},
   "outputs": [],
   "source": [
    "cleaned_teams = nfl_teams.drop(labels=[1,2,15,20,22,26,30,37,38])\\\n",
    "                         .drop(labels=['team_name_short','team_id_pfr','team_conference_pre2002',\n",
    "                                       'team_division_pre2002'],axis=1)\\\n",
    "                         .reset_index(drop=True)"
   ]
  },
  {
   "cell_type": "code",
   "execution_count": 681,
   "metadata": {},
   "outputs": [
    {
     "data": {
      "text/html": [
       "<div>\n",
       "<style scoped>\n",
       "    .dataframe tbody tr th:only-of-type {\n",
       "        vertical-align: middle;\n",
       "    }\n",
       "\n",
       "    .dataframe tbody tr th {\n",
       "        vertical-align: top;\n",
       "    }\n",
       "\n",
       "    .dataframe thead th {\n",
       "        text-align: right;\n",
       "    }\n",
       "</style>\n",
       "<table border=\"1\" class=\"dataframe\">\n",
       "  <thead>\n",
       "    <tr style=\"text-align: right;\">\n",
       "      <th></th>\n",
       "      <th>Team</th>\n",
       "      <th>Team ID</th>\n",
       "      <th>Conference</th>\n",
       "      <th>Division</th>\n",
       "    </tr>\n",
       "  </thead>\n",
       "  <tbody>\n",
       "    <tr>\n",
       "      <th>0</th>\n",
       "      <td>Arizona Cardinals</td>\n",
       "      <td>ARI</td>\n",
       "      <td>NFC</td>\n",
       "      <td>NFC West</td>\n",
       "    </tr>\n",
       "    <tr>\n",
       "      <th>1</th>\n",
       "      <td>Atlanta Falcons</td>\n",
       "      <td>ATL</td>\n",
       "      <td>NFC</td>\n",
       "      <td>NFC South</td>\n",
       "    </tr>\n",
       "    <tr>\n",
       "      <th>2</th>\n",
       "      <td>Baltimore Ravens</td>\n",
       "      <td>BAL</td>\n",
       "      <td>AFC</td>\n",
       "      <td>AFC North</td>\n",
       "    </tr>\n",
       "    <tr>\n",
       "      <th>3</th>\n",
       "      <td>Buffalo Bills</td>\n",
       "      <td>BUF</td>\n",
       "      <td>AFC</td>\n",
       "      <td>AFC East</td>\n",
       "    </tr>\n",
       "    <tr>\n",
       "      <th>4</th>\n",
       "      <td>Carolina Panthers</td>\n",
       "      <td>CAR</td>\n",
       "      <td>NFC</td>\n",
       "      <td>NFC South</td>\n",
       "    </tr>\n",
       "    <tr>\n",
       "      <th>5</th>\n",
       "      <td>Chicago Bears</td>\n",
       "      <td>CHI</td>\n",
       "      <td>NFC</td>\n",
       "      <td>NFC North</td>\n",
       "    </tr>\n",
       "    <tr>\n",
       "      <th>6</th>\n",
       "      <td>Cincinnati Bengals</td>\n",
       "      <td>CIN</td>\n",
       "      <td>AFC</td>\n",
       "      <td>AFC North</td>\n",
       "    </tr>\n",
       "    <tr>\n",
       "      <th>7</th>\n",
       "      <td>Cleveland Browns</td>\n",
       "      <td>CLE</td>\n",
       "      <td>AFC</td>\n",
       "      <td>AFC North</td>\n",
       "    </tr>\n",
       "    <tr>\n",
       "      <th>8</th>\n",
       "      <td>Dallas Cowboys</td>\n",
       "      <td>DAL</td>\n",
       "      <td>NFC</td>\n",
       "      <td>NFC East</td>\n",
       "    </tr>\n",
       "    <tr>\n",
       "      <th>9</th>\n",
       "      <td>Denver Broncos</td>\n",
       "      <td>DEN</td>\n",
       "      <td>AFC</td>\n",
       "      <td>AFC West</td>\n",
       "    </tr>\n",
       "    <tr>\n",
       "      <th>10</th>\n",
       "      <td>Detroit Lions</td>\n",
       "      <td>DET</td>\n",
       "      <td>NFC</td>\n",
       "      <td>NFC North</td>\n",
       "    </tr>\n",
       "    <tr>\n",
       "      <th>11</th>\n",
       "      <td>Green Bay Packers</td>\n",
       "      <td>GB</td>\n",
       "      <td>NFC</td>\n",
       "      <td>NFC North</td>\n",
       "    </tr>\n",
       "    <tr>\n",
       "      <th>12</th>\n",
       "      <td>Houston Texans</td>\n",
       "      <td>HOU</td>\n",
       "      <td>AFC</td>\n",
       "      <td>AFC South</td>\n",
       "    </tr>\n",
       "    <tr>\n",
       "      <th>13</th>\n",
       "      <td>Indianapolis Colts</td>\n",
       "      <td>IND</td>\n",
       "      <td>AFC</td>\n",
       "      <td>AFC South</td>\n",
       "    </tr>\n",
       "    <tr>\n",
       "      <th>14</th>\n",
       "      <td>Jacksonville Jaguars</td>\n",
       "      <td>JAX</td>\n",
       "      <td>AFC</td>\n",
       "      <td>AFC South</td>\n",
       "    </tr>\n",
       "    <tr>\n",
       "      <th>15</th>\n",
       "      <td>Kansas City Chiefs</td>\n",
       "      <td>KC</td>\n",
       "      <td>AFC</td>\n",
       "      <td>AFC West</td>\n",
       "    </tr>\n",
       "    <tr>\n",
       "      <th>16</th>\n",
       "      <td>Los Angeles Chargers</td>\n",
       "      <td>LAC</td>\n",
       "      <td>AFC</td>\n",
       "      <td>AFC West</td>\n",
       "    </tr>\n",
       "    <tr>\n",
       "      <th>17</th>\n",
       "      <td>Los Angeles Rams</td>\n",
       "      <td>LAR</td>\n",
       "      <td>NFC</td>\n",
       "      <td>NFC West</td>\n",
       "    </tr>\n",
       "    <tr>\n",
       "      <th>18</th>\n",
       "      <td>Miami Dolphins</td>\n",
       "      <td>MIA</td>\n",
       "      <td>AFC</td>\n",
       "      <td>AFC East</td>\n",
       "    </tr>\n",
       "    <tr>\n",
       "      <th>19</th>\n",
       "      <td>Minnesota Vikings</td>\n",
       "      <td>MIN</td>\n",
       "      <td>NFC</td>\n",
       "      <td>NFC North</td>\n",
       "    </tr>\n",
       "    <tr>\n",
       "      <th>20</th>\n",
       "      <td>New England Patriots</td>\n",
       "      <td>NE</td>\n",
       "      <td>AFC</td>\n",
       "      <td>AFC East</td>\n",
       "    </tr>\n",
       "    <tr>\n",
       "      <th>21</th>\n",
       "      <td>New Orleans Saints</td>\n",
       "      <td>NO</td>\n",
       "      <td>NFC</td>\n",
       "      <td>NFC South</td>\n",
       "    </tr>\n",
       "    <tr>\n",
       "      <th>22</th>\n",
       "      <td>New York Giants</td>\n",
       "      <td>NYG</td>\n",
       "      <td>NFC</td>\n",
       "      <td>NFC East</td>\n",
       "    </tr>\n",
       "    <tr>\n",
       "      <th>23</th>\n",
       "      <td>New York Jets</td>\n",
       "      <td>NYJ</td>\n",
       "      <td>NFC</td>\n",
       "      <td>AFC East</td>\n",
       "    </tr>\n",
       "    <tr>\n",
       "      <th>24</th>\n",
       "      <td>Oakland Raiders</td>\n",
       "      <td>OAK</td>\n",
       "      <td>AFC</td>\n",
       "      <td>AFC West</td>\n",
       "    </tr>\n",
       "    <tr>\n",
       "      <th>25</th>\n",
       "      <td>Philadelphia Eagles</td>\n",
       "      <td>PHI</td>\n",
       "      <td>NFC</td>\n",
       "      <td>NFC East</td>\n",
       "    </tr>\n",
       "    <tr>\n",
       "      <th>26</th>\n",
       "      <td>Pittsburgh Steelers</td>\n",
       "      <td>PIT</td>\n",
       "      <td>AFC</td>\n",
       "      <td>AFC North</td>\n",
       "    </tr>\n",
       "    <tr>\n",
       "      <th>27</th>\n",
       "      <td>Seattle Seahawks</td>\n",
       "      <td>SEA</td>\n",
       "      <td>NFC</td>\n",
       "      <td>NFC West</td>\n",
       "    </tr>\n",
       "    <tr>\n",
       "      <th>28</th>\n",
       "      <td>San Francisco 49ers</td>\n",
       "      <td>SF</td>\n",
       "      <td>NFC</td>\n",
       "      <td>NFC West</td>\n",
       "    </tr>\n",
       "    <tr>\n",
       "      <th>29</th>\n",
       "      <td>Tampa Bay Buccaneers</td>\n",
       "      <td>TB</td>\n",
       "      <td>NFC</td>\n",
       "      <td>NFC South</td>\n",
       "    </tr>\n",
       "    <tr>\n",
       "      <th>30</th>\n",
       "      <td>Tennessee Titans</td>\n",
       "      <td>TEN</td>\n",
       "      <td>AFC</td>\n",
       "      <td>AFC South</td>\n",
       "    </tr>\n",
       "    <tr>\n",
       "      <th>31</th>\n",
       "      <td>Washington Redskins</td>\n",
       "      <td>WAS</td>\n",
       "      <td>NFC</td>\n",
       "      <td>NFC East</td>\n",
       "    </tr>\n",
       "  </tbody>\n",
       "</table>\n",
       "</div>"
      ],
      "text/plain": [
       "                    Team Team ID Conference   Division\n",
       "0      Arizona Cardinals     ARI        NFC   NFC West\n",
       "1        Atlanta Falcons     ATL        NFC  NFC South\n",
       "2       Baltimore Ravens     BAL        AFC  AFC North\n",
       "3          Buffalo Bills     BUF        AFC   AFC East\n",
       "4      Carolina Panthers     CAR        NFC  NFC South\n",
       "5          Chicago Bears     CHI        NFC  NFC North\n",
       "6     Cincinnati Bengals     CIN        AFC  AFC North\n",
       "7       Cleveland Browns     CLE        AFC  AFC North\n",
       "8         Dallas Cowboys     DAL        NFC   NFC East\n",
       "9         Denver Broncos     DEN        AFC   AFC West\n",
       "10         Detroit Lions     DET        NFC  NFC North\n",
       "11     Green Bay Packers      GB        NFC  NFC North\n",
       "12        Houston Texans     HOU        AFC  AFC South\n",
       "13    Indianapolis Colts     IND        AFC  AFC South\n",
       "14  Jacksonville Jaguars     JAX        AFC  AFC South\n",
       "15    Kansas City Chiefs      KC        AFC   AFC West\n",
       "16  Los Angeles Chargers     LAC        AFC   AFC West\n",
       "17      Los Angeles Rams     LAR        NFC   NFC West\n",
       "18        Miami Dolphins     MIA        AFC   AFC East\n",
       "19     Minnesota Vikings     MIN        NFC  NFC North\n",
       "20  New England Patriots      NE        AFC   AFC East\n",
       "21    New Orleans Saints      NO        NFC  NFC South\n",
       "22       New York Giants     NYG        NFC   NFC East\n",
       "23         New York Jets     NYJ        NFC   AFC East\n",
       "24       Oakland Raiders     OAK        AFC   AFC West\n",
       "25   Philadelphia Eagles     PHI        NFC   NFC East\n",
       "26   Pittsburgh Steelers     PIT        AFC  AFC North\n",
       "27      Seattle Seahawks     SEA        NFC   NFC West\n",
       "28   San Francisco 49ers      SF        NFC   NFC West\n",
       "29  Tampa Bay Buccaneers      TB        NFC  NFC South\n",
       "30      Tennessee Titans     TEN        AFC  AFC South\n",
       "31   Washington Redskins     WAS        NFC   NFC East"
      ]
     },
     "execution_count": 681,
     "metadata": {},
     "output_type": "execute_result"
    }
   ],
   "source": [
    "cleaned_teams.columns=['Team', 'Team ID', 'Conference', 'Division']\n",
    "cleaned_teams"
   ]
  },
  {
   "cell_type": "markdown",
   "metadata": {},
   "source": [
    "#### NFL Stadiums Dataset"
   ]
  },
  {
   "cell_type": "markdown",
   "metadata": {},
   "source": [
    "First, we'll drop columns that are either redundant to other columns or not relevant to this analysis. The address of the stadium is essentially the same as the stadium location, which is a column in the NFL Scores Dataset. The weather station and radio station information are deemed not relevant due to their extremely loose indirect impact on the outcome of the game. Lat/Long is removed because it is also redundant."
   ]
  },
  {
   "cell_type": "code",
   "execution_count": 682,
   "metadata": {},
   "outputs": [
    {
     "data": {
      "text/html": [
       "<div>\n",
       "<style scoped>\n",
       "    .dataframe tbody tr th:only-of-type {\n",
       "        vertical-align: middle;\n",
       "    }\n",
       "\n",
       "    .dataframe tbody tr th {\n",
       "        vertical-align: top;\n",
       "    }\n",
       "\n",
       "    .dataframe thead th {\n",
       "        text-align: right;\n",
       "    }\n",
       "</style>\n",
       "<table border=\"1\" class=\"dataframe\">\n",
       "  <thead>\n",
       "    <tr style=\"text-align: right;\">\n",
       "      <th></th>\n",
       "      <th>stadium_name</th>\n",
       "      <th>stadium_location</th>\n",
       "      <th>stadium_type</th>\n",
       "      <th>stadium_weather_type</th>\n",
       "      <th>stadium_capacity</th>\n",
       "      <th>stadium_surface</th>\n",
       "      <th>ELEVATION</th>\n",
       "    </tr>\n",
       "  </thead>\n",
       "  <tbody>\n",
       "    <tr>\n",
       "      <th>0</th>\n",
       "      <td>Alamo Dome</td>\n",
       "      <td>San Antonio, TX</td>\n",
       "      <td>indoor</td>\n",
       "      <td>dome</td>\n",
       "      <td>72000</td>\n",
       "      <td>FieldTurf</td>\n",
       "      <td>NaN</td>\n",
       "    </tr>\n",
       "    <tr>\n",
       "      <th>1</th>\n",
       "      <td>Alltel Stadium</td>\n",
       "      <td>Jacksonville, FL</td>\n",
       "      <td>NaN</td>\n",
       "      <td>NaN</td>\n",
       "      <td>NaN</td>\n",
       "      <td>NaN</td>\n",
       "      <td>NaN</td>\n",
       "    </tr>\n",
       "    <tr>\n",
       "      <th>2</th>\n",
       "      <td>Alumni Stadium</td>\n",
       "      <td>Chestnut Hill, MA</td>\n",
       "      <td>outdoor</td>\n",
       "      <td>cold</td>\n",
       "      <td>NaN</td>\n",
       "      <td>Grass</td>\n",
       "      <td>NaN</td>\n",
       "    </tr>\n",
       "    <tr>\n",
       "      <th>3</th>\n",
       "      <td>Anaheim Stadium</td>\n",
       "      <td>Anaheim, CA</td>\n",
       "      <td>outdoor</td>\n",
       "      <td>warm</td>\n",
       "      <td>NaN</td>\n",
       "      <td>NaN</td>\n",
       "      <td>NaN</td>\n",
       "    </tr>\n",
       "    <tr>\n",
       "      <th>4</th>\n",
       "      <td>Arrowhead Stadium</td>\n",
       "      <td>Kansas City, MO</td>\n",
       "      <td>outdoor</td>\n",
       "      <td>cold</td>\n",
       "      <td>76,416</td>\n",
       "      <td>Grass</td>\n",
       "      <td>264.9</td>\n",
       "    </tr>\n",
       "  </tbody>\n",
       "</table>\n",
       "</div>"
      ],
      "text/plain": [
       "        stadium_name   stadium_location stadium_type stadium_weather_type  \\\n",
       "0         Alamo Dome    San Antonio, TX       indoor                 dome   \n",
       "1     Alltel Stadium   Jacksonville, FL          NaN                  NaN   \n",
       "2     Alumni Stadium  Chestnut Hill, MA      outdoor                 cold   \n",
       "3    Anaheim Stadium        Anaheim, CA      outdoor                 warm   \n",
       "4  Arrowhead Stadium    Kansas City, MO      outdoor                 cold   \n",
       "\n",
       "  stadium_capacity stadium_surface  ELEVATION  \n",
       "0            72000       FieldTurf        NaN  \n",
       "1              NaN             NaN        NaN  \n",
       "2              NaN           Grass        NaN  \n",
       "3              NaN             NaN        NaN  \n",
       "4           76,416           Grass      264.9  "
      ]
     },
     "execution_count": 682,
     "metadata": {},
     "output_type": "execute_result"
    }
   ],
   "source": [
    "stadiums = nfl_stadiums.drop(labels=['stadium_address','stadium_weather_station_code','stadium_open',\n",
    "                                     'stadium_close','STATION','NAME','LATITUDE','LONGITUDE'], axis=1)\n",
    "stadiums.head()"
   ]
  },
  {
   "cell_type": "markdown",
   "metadata": {},
   "source": [
    "#### NFL Scores Dataset"
   ]
  },
  {
   "cell_type": "markdown",
   "metadata": {},
   "source": [
    "First, we need to convert the original dataset containing all NFL games played since 1966 to only the regular season games played since 2010 for this analysis. "
   ]
  },
  {
   "cell_type": "code",
   "execution_count": 683,
   "metadata": {},
   "outputs": [
    {
     "data": {
      "text/html": [
       "<div>\n",
       "<style scoped>\n",
       "    .dataframe tbody tr th:only-of-type {\n",
       "        vertical-align: middle;\n",
       "    }\n",
       "\n",
       "    .dataframe tbody tr th {\n",
       "        vertical-align: top;\n",
       "    }\n",
       "\n",
       "    .dataframe thead th {\n",
       "        text-align: right;\n",
       "    }\n",
       "</style>\n",
       "<table border=\"1\" class=\"dataframe\">\n",
       "  <thead>\n",
       "    <tr style=\"text-align: right;\">\n",
       "      <th></th>\n",
       "      <th>schedule_date</th>\n",
       "      <th>schedule_season</th>\n",
       "      <th>schedule_week</th>\n",
       "      <th>team_home</th>\n",
       "      <th>score_home</th>\n",
       "      <th>score_away</th>\n",
       "      <th>team_away</th>\n",
       "      <th>team_favorite_id</th>\n",
       "      <th>spread_favorite</th>\n",
       "      <th>over_under_line</th>\n",
       "      <th>stadium</th>\n",
       "      <th>weather_temperature</th>\n",
       "      <th>weather_wind_mph</th>\n",
       "      <th>weather_humidity</th>\n",
       "      <th>weather_detail</th>\n",
       "    </tr>\n",
       "  </thead>\n",
       "  <tbody>\n",
       "    <tr>\n",
       "      <th>10008</th>\n",
       "      <td>09/09/2010</td>\n",
       "      <td>2010</td>\n",
       "      <td>1</td>\n",
       "      <td>New Orleans Saints</td>\n",
       "      <td>14</td>\n",
       "      <td>9</td>\n",
       "      <td>Minnesota Vikings</td>\n",
       "      <td>NO</td>\n",
       "      <td>-5.0</td>\n",
       "      <td>49.5</td>\n",
       "      <td>Louisiana Superdome</td>\n",
       "      <td>72.0</td>\n",
       "      <td>0.0</td>\n",
       "      <td>NaN</td>\n",
       "      <td>DOME</td>\n",
       "    </tr>\n",
       "    <tr>\n",
       "      <th>10009</th>\n",
       "      <td>09/12/2010</td>\n",
       "      <td>2010</td>\n",
       "      <td>1</td>\n",
       "      <td>Buffalo Bills</td>\n",
       "      <td>10</td>\n",
       "      <td>15</td>\n",
       "      <td>Miami Dolphins</td>\n",
       "      <td>MIA</td>\n",
       "      <td>-3.0</td>\n",
       "      <td>39</td>\n",
       "      <td>Ralph Wilson Stadium</td>\n",
       "      <td>64.0</td>\n",
       "      <td>7.0</td>\n",
       "      <td>81</td>\n",
       "      <td>NaN</td>\n",
       "    </tr>\n",
       "    <tr>\n",
       "      <th>10010</th>\n",
       "      <td>09/12/2010</td>\n",
       "      <td>2010</td>\n",
       "      <td>1</td>\n",
       "      <td>Chicago Bears</td>\n",
       "      <td>19</td>\n",
       "      <td>14</td>\n",
       "      <td>Detroit Lions</td>\n",
       "      <td>CHI</td>\n",
       "      <td>-6.5</td>\n",
       "      <td>45</td>\n",
       "      <td>Soldier Field</td>\n",
       "      <td>75.0</td>\n",
       "      <td>1.0</td>\n",
       "      <td>45</td>\n",
       "      <td>NaN</td>\n",
       "    </tr>\n",
       "    <tr>\n",
       "      <th>10011</th>\n",
       "      <td>09/12/2010</td>\n",
       "      <td>2010</td>\n",
       "      <td>1</td>\n",
       "      <td>Houston Texans</td>\n",
       "      <td>34</td>\n",
       "      <td>24</td>\n",
       "      <td>Indianapolis Colts</td>\n",
       "      <td>IND</td>\n",
       "      <td>-1.0</td>\n",
       "      <td>48</td>\n",
       "      <td>Reliant Stadium</td>\n",
       "      <td>89.0</td>\n",
       "      <td>5.0</td>\n",
       "      <td>NaN</td>\n",
       "      <td>DOME (Open Roof)</td>\n",
       "    </tr>\n",
       "    <tr>\n",
       "      <th>10012</th>\n",
       "      <td>09/12/2010</td>\n",
       "      <td>2010</td>\n",
       "      <td>1</td>\n",
       "      <td>Jacksonville Jaguars</td>\n",
       "      <td>24</td>\n",
       "      <td>17</td>\n",
       "      <td>Denver Broncos</td>\n",
       "      <td>JAX</td>\n",
       "      <td>-3.0</td>\n",
       "      <td>41.5</td>\n",
       "      <td>EverBank Field</td>\n",
       "      <td>91.0</td>\n",
       "      <td>1.0</td>\n",
       "      <td>67</td>\n",
       "      <td>NaN</td>\n",
       "    </tr>\n",
       "  </tbody>\n",
       "</table>\n",
       "</div>"
      ],
      "text/plain": [
       "      schedule_date  schedule_season schedule_week             team_home  \\\n",
       "10008    09/09/2010             2010             1    New Orleans Saints   \n",
       "10009    09/12/2010             2010             1         Buffalo Bills   \n",
       "10010    09/12/2010             2010             1         Chicago Bears   \n",
       "10011    09/12/2010             2010             1        Houston Texans   \n",
       "10012    09/12/2010             2010             1  Jacksonville Jaguars   \n",
       "\n",
       "       score_home  score_away           team_away team_favorite_id  \\\n",
       "10008          14           9   Minnesota Vikings               NO   \n",
       "10009          10          15      Miami Dolphins              MIA   \n",
       "10010          19          14       Detroit Lions              CHI   \n",
       "10011          34          24  Indianapolis Colts              IND   \n",
       "10012          24          17      Denver Broncos              JAX   \n",
       "\n",
       "       spread_favorite over_under_line               stadium  \\\n",
       "10008             -5.0            49.5   Louisiana Superdome   \n",
       "10009             -3.0              39  Ralph Wilson Stadium   \n",
       "10010             -6.5              45         Soldier Field   \n",
       "10011             -1.0              48       Reliant Stadium   \n",
       "10012             -3.0            41.5        EverBank Field   \n",
       "\n",
       "       weather_temperature  weather_wind_mph weather_humidity  \\\n",
       "10008                 72.0               0.0              NaN   \n",
       "10009                 64.0               7.0               81   \n",
       "10010                 75.0               1.0               45   \n",
       "10011                 89.0               5.0              NaN   \n",
       "10012                 91.0               1.0               67   \n",
       "\n",
       "         weather_detail  \n",
       "10008              DOME  \n",
       "10009               NaN  \n",
       "10010               NaN  \n",
       "10011  DOME (Open Roof)  \n",
       "10012               NaN  "
      ]
     },
     "execution_count": 683,
     "metadata": {},
     "output_type": "execute_result"
    }
   ],
   "source": [
    "recent_regscores = nfl_scores.loc[lambda nfl_scores: nfl_scores['schedule_season'] >= 2010]\\\n",
    "                             .loc[lambda nfl_scores: nfl_scores['schedule_playoff'] == False]\\\n",
    "                             .loc[lambda nfl_scores: nfl_scores['stadium_neutral'] == False]\n",
    "recent_regscores = recent_regscores.drop(labels=['schedule_playoff','stadium_neutral'], axis=1)\n",
    "recent_regscores.head()"
   ]
  },
  {
   "cell_type": "markdown",
   "metadata": {},
   "source": [
    "Now we'll observe how much data is missing."
   ]
  },
  {
   "cell_type": "code",
   "execution_count": 684,
   "metadata": {},
   "outputs": [
    {
     "name": "stdout",
     "output_type": "stream",
     "text": [
      "DOME                    538\n",
      "Rain                     98\n",
      "DOME (Open Roof)         56\n",
      "Fog                      25\n",
      "Rain | Fog               18\n",
      "Snow                     13\n",
      "Snow | Fog                5\n",
      "Snow | Freezing Rain      1\n",
      "Name: weather_detail, dtype: int64\n"
     ]
    },
    {
     "data": {
      "image/png": "[encoded data removed]",
      "text/plain": [
       "<Figure size 432x288 with 1 Axes>"
      ]
     },
     "metadata": {},
     "output_type": "display_data"
    }
   ],
   "source": [
    "missings = recent_regscores.isnull().sum()/len(recent_regscores)*100\n",
    "missings.plot.bar(title='Missing Data per Column (%)',ylim=[0,100])\n",
    "print(recent_regscores['weather_detail'].value_counts())"
   ]
  },
  {
   "cell_type": "markdown",
   "metadata": {},
   "source": [
    "More than 60% of the data for humidity and weather detail information is mission, so it will be omitted from this study. "
   ]
  },
  {
   "cell_type": "code",
   "execution_count": 685,
   "metadata": {},
   "outputs": [
    {
     "data": {
      "text/html": [
       "<div>\n",
       "<style scoped>\n",
       "    .dataframe tbody tr th:only-of-type {\n",
       "        vertical-align: middle;\n",
       "    }\n",
       "\n",
       "    .dataframe tbody tr th {\n",
       "        vertical-align: top;\n",
       "    }\n",
       "\n",
       "    .dataframe thead th {\n",
       "        text-align: right;\n",
       "    }\n",
       "</style>\n",
       "<table border=\"1\" class=\"dataframe\">\n",
       "  <thead>\n",
       "    <tr style=\"text-align: right;\">\n",
       "      <th></th>\n",
       "      <th>schedule_date</th>\n",
       "      <th>schedule_season</th>\n",
       "      <th>schedule_week</th>\n",
       "      <th>team_home</th>\n",
       "      <th>score_home</th>\n",
       "      <th>score_away</th>\n",
       "      <th>team_away</th>\n",
       "      <th>team_favorite_id</th>\n",
       "      <th>spread_favorite</th>\n",
       "      <th>over_under_line</th>\n",
       "      <th>stadium</th>\n",
       "      <th>weather_temperature</th>\n",
       "      <th>weather_wind_mph</th>\n",
       "    </tr>\n",
       "  </thead>\n",
       "  <tbody>\n",
       "    <tr>\n",
       "      <th>10008</th>\n",
       "      <td>09/09/2010</td>\n",
       "      <td>2010</td>\n",
       "      <td>1</td>\n",
       "      <td>New Orleans Saints</td>\n",
       "      <td>14</td>\n",
       "      <td>9</td>\n",
       "      <td>Minnesota Vikings</td>\n",
       "      <td>NO</td>\n",
       "      <td>-5.0</td>\n",
       "      <td>49.5</td>\n",
       "      <td>Louisiana Superdome</td>\n",
       "      <td>72.0</td>\n",
       "      <td>0.0</td>\n",
       "    </tr>\n",
       "    <tr>\n",
       "      <th>10009</th>\n",
       "      <td>09/12/2010</td>\n",
       "      <td>2010</td>\n",
       "      <td>1</td>\n",
       "      <td>Buffalo Bills</td>\n",
       "      <td>10</td>\n",
       "      <td>15</td>\n",
       "      <td>Miami Dolphins</td>\n",
       "      <td>MIA</td>\n",
       "      <td>-3.0</td>\n",
       "      <td>39</td>\n",
       "      <td>Ralph Wilson Stadium</td>\n",
       "      <td>64.0</td>\n",
       "      <td>7.0</td>\n",
       "    </tr>\n",
       "    <tr>\n",
       "      <th>10010</th>\n",
       "      <td>09/12/2010</td>\n",
       "      <td>2010</td>\n",
       "      <td>1</td>\n",
       "      <td>Chicago Bears</td>\n",
       "      <td>19</td>\n",
       "      <td>14</td>\n",
       "      <td>Detroit Lions</td>\n",
       "      <td>CHI</td>\n",
       "      <td>-6.5</td>\n",
       "      <td>45</td>\n",
       "      <td>Soldier Field</td>\n",
       "      <td>75.0</td>\n",
       "      <td>1.0</td>\n",
       "    </tr>\n",
       "    <tr>\n",
       "      <th>10011</th>\n",
       "      <td>09/12/2010</td>\n",
       "      <td>2010</td>\n",
       "      <td>1</td>\n",
       "      <td>Houston Texans</td>\n",
       "      <td>34</td>\n",
       "      <td>24</td>\n",
       "      <td>Indianapolis Colts</td>\n",
       "      <td>IND</td>\n",
       "      <td>-1.0</td>\n",
       "      <td>48</td>\n",
       "      <td>Reliant Stadium</td>\n",
       "      <td>89.0</td>\n",
       "      <td>5.0</td>\n",
       "    </tr>\n",
       "    <tr>\n",
       "      <th>10012</th>\n",
       "      <td>09/12/2010</td>\n",
       "      <td>2010</td>\n",
       "      <td>1</td>\n",
       "      <td>Jacksonville Jaguars</td>\n",
       "      <td>24</td>\n",
       "      <td>17</td>\n",
       "      <td>Denver Broncos</td>\n",
       "      <td>JAX</td>\n",
       "      <td>-3.0</td>\n",
       "      <td>41.5</td>\n",
       "      <td>EverBank Field</td>\n",
       "      <td>91.0</td>\n",
       "      <td>1.0</td>\n",
       "    </tr>\n",
       "  </tbody>\n",
       "</table>\n",
       "</div>"
      ],
      "text/plain": [
       "      schedule_date  schedule_season schedule_week             team_home  \\\n",
       "10008    09/09/2010             2010             1    New Orleans Saints   \n",
       "10009    09/12/2010             2010             1         Buffalo Bills   \n",
       "10010    09/12/2010             2010             1         Chicago Bears   \n",
       "10011    09/12/2010             2010             1        Houston Texans   \n",
       "10012    09/12/2010             2010             1  Jacksonville Jaguars   \n",
       "\n",
       "       score_home  score_away           team_away team_favorite_id  \\\n",
       "10008          14           9   Minnesota Vikings               NO   \n",
       "10009          10          15      Miami Dolphins              MIA   \n",
       "10010          19          14       Detroit Lions              CHI   \n",
       "10011          34          24  Indianapolis Colts              IND   \n",
       "10012          24          17      Denver Broncos              JAX   \n",
       "\n",
       "       spread_favorite over_under_line               stadium  \\\n",
       "10008             -5.0            49.5   Louisiana Superdome   \n",
       "10009             -3.0              39  Ralph Wilson Stadium   \n",
       "10010             -6.5              45         Soldier Field   \n",
       "10011             -1.0              48       Reliant Stadium   \n",
       "10012             -3.0            41.5        EverBank Field   \n",
       "\n",
       "       weather_temperature  weather_wind_mph  \n",
       "10008                 72.0               0.0  \n",
       "10009                 64.0               7.0  \n",
       "10010                 75.0               1.0  \n",
       "10011                 89.0               5.0  \n",
       "10012                 91.0               1.0  "
      ]
     },
     "execution_count": 685,
     "metadata": {},
     "output_type": "execute_result"
    }
   ],
   "source": [
    "recent_regscores = recent_regscores.drop(labels=['weather_humidity','weather_detail'], axis=1)\n",
    "recent_regscores.head()"
   ]
  },
  {
   "cell_type": "code",
   "execution_count": 686,
   "metadata": {},
   "outputs": [
    {
     "data": {
      "text/plain": [
       "New England Patriots    72\n",
       "Arizona Cardinals       72\n",
       "Seattle Seahawks        72\n",
       "Houston Texans          72\n",
       "Indianapolis Colts      72\n",
       "Denver Broncos          72\n",
       "Philadelphia Eagles     72\n",
       "Green Bay Packers       72\n",
       "Tennessee Titans        72\n",
       "New York Jets           72\n",
       "Dallas Cowboys          72\n",
       "Baltimore Ravens        72\n",
       "New York Giants         72\n",
       "Pittsburgh Steelers     72\n",
       "Carolina Panthers       72\n",
       "Detroit Lions           72\n",
       "Washington Redskins     72\n",
       "Chicago Bears           72\n",
       "New Orleans Saints      72\n",
       "Cleveland Browns        71\n",
       "Tampa Bay Buccaneers    71\n",
       "Cincinnati Bengals      71\n",
       "Atlanta Falcons         71\n",
       "Kansas City Chiefs      71\n",
       "San Francisco 49ers     71\n",
       "Minnesota Vikings       70\n",
       "Miami Dolphins          70\n",
       "Oakland Raiders         68\n",
       "Buffalo Bills           68\n",
       "Jacksonville Jaguars    66\n",
       "San Diego Chargers      56\n",
       "St. Louis Rams          47\n",
       "Los Angeles Rams        22\n",
       "Los Angeles Chargers    15\n",
       "Name: team_home, dtype: int64"
      ]
     },
     "execution_count": 686,
     "metadata": {},
     "output_type": "execute_result"
    }
   ],
   "source": [
    "recent_regscores['team_home'].value_counts()"
   ]
  },
  {
   "cell_type": "markdown",
   "metadata": {},
   "source": [
    "Here, we can see that the Chargers and Rams both changed, locations since 2010, so they will both be merged to their current franchise names for simplicity's sake."
   ]
  },
  {
   "cell_type": "code",
   "execution_count": 687,
   "metadata": {},
   "outputs": [],
   "source": [
    "scores = recent_regscores.replace(to_replace='San Diego Chargers',value='Los Angeles Chargers')\\\n",
    "                         .replace(to_replace='St. Louis Rams',value='Los Angeles Rams')"
   ]
  },
  {
   "cell_type": "markdown",
   "metadata": {},
   "source": [
    "## Time to Merge all 3 Datasets"
   ]
  },
  {
   "cell_type": "code",
   "execution_count": 688,
   "metadata": {},
   "outputs": [
    {
     "data": {
      "text/html": [
       "<div>\n",
       "<style scoped>\n",
       "    .dataframe tbody tr th:only-of-type {\n",
       "        vertical-align: middle;\n",
       "    }\n",
       "\n",
       "    .dataframe tbody tr th {\n",
       "        vertical-align: top;\n",
       "    }\n",
       "\n",
       "    .dataframe thead th {\n",
       "        text-align: right;\n",
       "    }\n",
       "</style>\n",
       "<table border=\"1\" class=\"dataframe\">\n",
       "  <thead>\n",
       "    <tr style=\"text-align: right;\">\n",
       "      <th></th>\n",
       "      <th>schedule_season</th>\n",
       "      <th>schedule_week</th>\n",
       "      <th>score_home</th>\n",
       "      <th>score_away</th>\n",
       "      <th>team_favorite_id</th>\n",
       "      <th>spread_favorite</th>\n",
       "      <th>over_under_line</th>\n",
       "      <th>stadium</th>\n",
       "      <th>weather_temperature</th>\n",
       "      <th>weather_wind_mph</th>\n",
       "      <th>...</th>\n",
       "      <th>Conference_Home</th>\n",
       "      <th>Division_Home</th>\n",
       "      <th>Team ID_Away</th>\n",
       "      <th>Conference_Away</th>\n",
       "      <th>Division_Away</th>\n",
       "      <th>stadium_location</th>\n",
       "      <th>stadium_type</th>\n",
       "      <th>stadium_capacity</th>\n",
       "      <th>stadium_surface</th>\n",
       "      <th>ELEVATION</th>\n",
       "    </tr>\n",
       "  </thead>\n",
       "  <tbody>\n",
       "    <tr>\n",
       "      <th>0</th>\n",
       "      <td>2010</td>\n",
       "      <td>1</td>\n",
       "      <td>14</td>\n",
       "      <td>9</td>\n",
       "      <td>NO</td>\n",
       "      <td>-5.0</td>\n",
       "      <td>49.5</td>\n",
       "      <td>Louisiana Superdome</td>\n",
       "      <td>72.0</td>\n",
       "      <td>0.0</td>\n",
       "      <td>...</td>\n",
       "      <td>NFC</td>\n",
       "      <td>NFC South</td>\n",
       "      <td>MIN</td>\n",
       "      <td>NFC</td>\n",
       "      <td>NFC North</td>\n",
       "      <td>New Orleans, LA</td>\n",
       "      <td>indoor</td>\n",
       "      <td>76,468</td>\n",
       "      <td>FieldTurf</td>\n",
       "      <td>NaN</td>\n",
       "    </tr>\n",
       "    <tr>\n",
       "      <th>1</th>\n",
       "      <td>2010</td>\n",
       "      <td>1</td>\n",
       "      <td>10</td>\n",
       "      <td>15</td>\n",
       "      <td>MIA</td>\n",
       "      <td>-3.0</td>\n",
       "      <td>39</td>\n",
       "      <td>Ralph Wilson Stadium</td>\n",
       "      <td>64.0</td>\n",
       "      <td>7.0</td>\n",
       "      <td>...</td>\n",
       "      <td>AFC</td>\n",
       "      <td>AFC East</td>\n",
       "      <td>MIA</td>\n",
       "      <td>AFC</td>\n",
       "      <td>AFC East</td>\n",
       "      <td>Orchard Park, NY</td>\n",
       "      <td>outdoor</td>\n",
       "      <td>73,967</td>\n",
       "      <td>FieldTurf</td>\n",
       "      <td>178.0</td>\n",
       "    </tr>\n",
       "    <tr>\n",
       "      <th>2</th>\n",
       "      <td>2010</td>\n",
       "      <td>1</td>\n",
       "      <td>19</td>\n",
       "      <td>14</td>\n",
       "      <td>CHI</td>\n",
       "      <td>-6.5</td>\n",
       "      <td>45</td>\n",
       "      <td>Soldier Field</td>\n",
       "      <td>75.0</td>\n",
       "      <td>1.0</td>\n",
       "      <td>...</td>\n",
       "      <td>NFC</td>\n",
       "      <td>NFC North</td>\n",
       "      <td>DET</td>\n",
       "      <td>NFC</td>\n",
       "      <td>NFC North</td>\n",
       "      <td>Chicago, IL</td>\n",
       "      <td>outdoor</td>\n",
       "      <td>61,500</td>\n",
       "      <td>Grass</td>\n",
       "      <td>177.7</td>\n",
       "    </tr>\n",
       "    <tr>\n",
       "      <th>3</th>\n",
       "      <td>2010</td>\n",
       "      <td>1</td>\n",
       "      <td>34</td>\n",
       "      <td>24</td>\n",
       "      <td>IND</td>\n",
       "      <td>-1.0</td>\n",
       "      <td>48</td>\n",
       "      <td>Reliant Stadium</td>\n",
       "      <td>89.0</td>\n",
       "      <td>5.0</td>\n",
       "      <td>...</td>\n",
       "      <td>AFC</td>\n",
       "      <td>AFC South</td>\n",
       "      <td>IND</td>\n",
       "      <td>AFC</td>\n",
       "      <td>AFC South</td>\n",
       "      <td>Houston, TX</td>\n",
       "      <td>retractable</td>\n",
       "      <td>71,500</td>\n",
       "      <td>Grass</td>\n",
       "      <td>13.4</td>\n",
       "    </tr>\n",
       "    <tr>\n",
       "      <th>4</th>\n",
       "      <td>2010</td>\n",
       "      <td>1</td>\n",
       "      <td>24</td>\n",
       "      <td>17</td>\n",
       "      <td>JAX</td>\n",
       "      <td>-3.0</td>\n",
       "      <td>41.5</td>\n",
       "      <td>EverBank Field</td>\n",
       "      <td>91.0</td>\n",
       "      <td>1.0</td>\n",
       "      <td>...</td>\n",
       "      <td>AFC</td>\n",
       "      <td>AFC South</td>\n",
       "      <td>DEN</td>\n",
       "      <td>AFC</td>\n",
       "      <td>AFC West</td>\n",
       "      <td>Jacksonville, FL</td>\n",
       "      <td>outdoor</td>\n",
       "      <td>67,264</td>\n",
       "      <td>Grass</td>\n",
       "      <td>6.1</td>\n",
       "    </tr>\n",
       "  </tbody>\n",
       "</table>\n",
       "<p>5 rows × 21 columns</p>\n",
       "</div>"
      ],
      "text/plain": [
       "   schedule_season schedule_week  score_home  score_away team_favorite_id  \\\n",
       "0             2010             1          14           9               NO   \n",
       "1             2010             1          10          15              MIA   \n",
       "2             2010             1          19          14              CHI   \n",
       "3             2010             1          34          24              IND   \n",
       "4             2010             1          24          17              JAX   \n",
       "\n",
       "   spread_favorite over_under_line               stadium  weather_temperature  \\\n",
       "0             -5.0            49.5   Louisiana Superdome                 72.0   \n",
       "1             -3.0              39  Ralph Wilson Stadium                 64.0   \n",
       "2             -6.5              45         Soldier Field                 75.0   \n",
       "3             -1.0              48       Reliant Stadium                 89.0   \n",
       "4             -3.0            41.5        EverBank Field                 91.0   \n",
       "\n",
       "   weather_wind_mph  ... Conference_Home Division_Home Team ID_Away  \\\n",
       "0               0.0  ...             NFC     NFC South          MIN   \n",
       "1               7.0  ...             AFC      AFC East          MIA   \n",
       "2               1.0  ...             NFC     NFC North          DET   \n",
       "3               5.0  ...             AFC     AFC South          IND   \n",
       "4               1.0  ...             AFC     AFC South          DEN   \n",
       "\n",
       "  Conference_Away Division_Away  stadium_location stadium_type  \\\n",
       "0             NFC     NFC North   New Orleans, LA       indoor   \n",
       "1             AFC      AFC East  Orchard Park, NY      outdoor   \n",
       "2             NFC     NFC North       Chicago, IL      outdoor   \n",
       "3             AFC     AFC South       Houston, TX  retractable   \n",
       "4             AFC      AFC West  Jacksonville, FL      outdoor   \n",
       "\n",
       "  stadium_capacity stadium_surface ELEVATION  \n",
       "0           76,468       FieldTurf       NaN  \n",
       "1           73,967       FieldTurf     178.0  \n",
       "2           61,500           Grass     177.7  \n",
       "3           71,500           Grass      13.4  \n",
       "4           67,264           Grass       6.1  \n",
       "\n",
       "[5 rows x 21 columns]"
      ]
     },
     "execution_count": 688,
     "metadata": {},
     "output_type": "execute_result"
    }
   ],
   "source": [
    "data = scores.merge(cleaned_teams, how='left', left_on='team_home', right_on='Team')\\\n",
    "             .merge(cleaned_teams, how='left',left_on='team_away',right_on='Team',suffixes=('_Home','_Away'))\\\n",
    "             .drop(labels=['Team_Home','Team_Away','team_home','team_away'],axis=1)\n",
    "data = data.merge(stadiums,how='left',left_on='stadium',right_on='stadium_name')\\\n",
    "           .drop(labels=['stadium_name','stadium_weather_type','schedule_date'],axis=1)\n",
    "data.head()"
   ]
  },
  {
   "cell_type": "markdown",
   "metadata": {},
   "source": [
    "Now to observe how much information is missing after the merge."
   ]
  },
  {
   "cell_type": "code",
   "execution_count": 689,
   "metadata": {},
   "outputs": [
    {
     "name": "stdout",
     "output_type": "stream",
     "text": [
      "schedule_season          0\n",
      "schedule_week            0\n",
      "score_home               0\n",
      "score_away               0\n",
      "team_favorite_id         0\n",
      "spread_favorite          0\n",
      "over_under_line          0\n",
      "stadium                  0\n",
      "weather_temperature      0\n",
      "weather_wind_mph         0\n",
      "Team ID_Home             0\n",
      "Conference_Home          0\n",
      "Division_Home            0\n",
      "Team ID_Away             0\n",
      "Conference_Away          0\n",
      "Division_Away            0\n",
      "stadium_location        86\n",
      "stadium_type            86\n",
      "stadium_capacity       265\n",
      "stadium_surface        265\n",
      "ELEVATION              394\n",
      "dtype: int64\n"
     ]
    },
    {
     "data": {
      "text/plain": [
       "<matplotlib.axes._subplots.AxesSubplot at 0x1a337b278>"
      ]
     },
     "execution_count": 689,
     "metadata": {},
     "output_type": "execute_result"
    },
    {
     "data": {
      "image/png": "[encoded data removed]",
      "text/plain": [
       "<Figure size 432x288 with 1 Axes>"
      ]
     },
     "metadata": {},
     "output_type": "display_data"
    }
   ],
   "source": [
    "missing_data = data.isnull().sum()\n",
    "print(missing_data)\n",
    "missing_data = data.isnull().sum()/len(missing_data)\n",
    "missing_data.plot.bar(title='Missing Data per Column (%)',ylim=[0,100])"
   ]
  },
  {
   "cell_type": "markdown",
   "metadata": {},
   "source": [
    "Since there is such a small % of missing data after merging, it is possible that the data is tied to specific stadiums, so that will be investigated below."
   ]
  },
  {
   "cell_type": "code",
   "execution_count": 690,
   "metadata": {},
   "outputs": [
    {
     "data": {
      "text/plain": [
       "FedEx Field              72\n",
       "Mercedes-Benz Stadium     8\n",
       "TIAA Bank Field           6\n",
       "Name: stadium, dtype: int64"
      ]
     },
     "execution_count": 690,
     "metadata": {},
     "output_type": "execute_result"
    }
   ],
   "source": [
    "bla = data.loc[lambda data:data['stadium_location'].isnull()==True]\n",
    "bla['stadium'].value_counts()"
   ]
  },
  {
   "cell_type": "code",
   "execution_count": 691,
   "metadata": {},
   "outputs": [
    {
     "data": {
      "text/plain": [
       "FedEx Field              72\n",
       "Sun Life Stadium         55\n",
       "Edward Jones Dome        47\n",
       "Candlestick Park         31\n",
       "Mall of America Field    29\n",
       "TCF Bank Stadium         17\n",
       "Mercedes-Benz Stadium     8\n",
       "TIAA Bank Field           6\n",
       "Name: stadium, dtype: int64"
      ]
     },
     "execution_count": 691,
     "metadata": {},
     "output_type": "execute_result"
    }
   ],
   "source": [
    "bla = data.loc[lambda data:data['stadium_capacity'].isnull()==True]\n",
    "bla['stadium'].value_counts()"
   ]
  },
  {
   "cell_type": "code",
   "execution_count": 692,
   "metadata": {},
   "outputs": [
    {
     "data": {
      "text/plain": [
       "Ford Field                 73\n",
       "FedEx Field                72\n",
       "Georgia Dome               63\n",
       "Louisiana Superdome        56\n",
       "Edward Jones Dome          47\n",
       "Mall of America Field      29\n",
       "U.S. Bank Stadium          24\n",
       "Mercedes-Benz Superdome    16\n",
       "Mercedes-Benz Stadium       8\n",
       "TIAA Bank Field             6\n",
       "Name: stadium, dtype: int64"
      ]
     },
     "execution_count": 692,
     "metadata": {},
     "output_type": "execute_result"
    }
   ],
   "source": [
    "bla = data.loc[lambda data:data['ELEVATION'].isnull()==True]\n",
    "bla['stadium'].value_counts()"
   ]
  },
  {
   "cell_type": "markdown",
   "metadata": {},
   "source": [
    "All of this information missing will now have to be manually inputted into the dataset. This is done below."
   ]
  },
  {
   "cell_type": "code",
   "execution_count": 693,
   "metadata": {},
   "outputs": [],
   "source": [
    "data.loc[data.stadium == 'FedEx Field',['stadium_location','stadium_type','stadium_capacity',\n",
    "                                        'stadium_surface','ELEVATION']] = 'Landover, MD','outdoor','82,000','Grass','60.0'\n",
    "data.loc[data.stadium == 'Mercedes-Benz Stadium',['stadium_location','stadium_type','stadium_capacity',\n",
    "                                                  'stadium_surface','ELEVATION']] = 'Atlanta, GA','retractable','71,000','FieldTurf','310.3'\n",
    "data.loc[data.stadium == 'TIAA Bank Field',['stadium_location','stadium_type','stadium_capacity',\n",
    "                                            'stadium_surface','ELEVATION']] = 'Jacksonville, FL','outdoor','67,164','Grass','2.0'\n",
    "data.loc[data.stadium == 'Edward Jones Dome',['stadium_capacity','stadium_surface',\n",
    "                                              'ELEVATION']] = '67,277','FieldTurf','142.0'\n",
    "data.loc[data.stadium == 'Mall of America Field',['stadium_capacity','stadium_surface',\n",
    "                                                  'ELEVATION']] = '64,121','FieldTurf','260.0'\n",
    "data.loc[data.stadium == 'Sun Life Stadium',['stadium_capacity','stadium_surface']] = '64,767','Grass'\n",
    "data.loc[data.stadium == 'Candlestick Park',['stadium_capacity','stadium_surface']] = '69,732','Grass'\n",
    "data.loc[data.stadium == 'TCF Bank Stadium',['stadium_capacity','stadium_surface']] = '50,805','FieldTurf'\n",
    "data.loc[data.stadium == 'Ford Field',['ELEVATION']] = '184.0'\n",
    "data.loc[data.stadium == 'Georgia Dome',['ELEVATION']] = '304.0'\n",
    "data.loc[data.stadium == 'Louisiana Superdome',['ELEVATION']] = '2.0'\n",
    "data.loc[data.stadium == 'U.S. Bank Stadium',['ELEVATION']] = '260.0'\n",
    "data.loc[data.stadium == 'Mercedes-Benz Superdome',['ELEVATION']] = '1.0'"
   ]
  },
  {
   "cell_type": "code",
   "execution_count": 694,
   "metadata": {},
   "outputs": [
    {
     "data": {
      "text/plain": [
       "schedule_season        0\n",
       "schedule_week          0\n",
       "score_home             0\n",
       "score_away             0\n",
       "team_favorite_id       0\n",
       "spread_favorite        0\n",
       "over_under_line        0\n",
       "stadium                0\n",
       "weather_temperature    0\n",
       "weather_wind_mph       0\n",
       "Team ID_Home           0\n",
       "Conference_Home        0\n",
       "Division_Home          0\n",
       "Team ID_Away           0\n",
       "Conference_Away        0\n",
       "Division_Away          0\n",
       "stadium_location       0\n",
       "stadium_type           0\n",
       "stadium_capacity       0\n",
       "stadium_surface        0\n",
       "ELEVATION              0\n",
       "dtype: int64"
      ]
     },
     "execution_count": 694,
     "metadata": {},
     "output_type": "execute_result"
    }
   ],
   "source": [
    "missing_data = data.isnull().sum()\n",
    "missing_data"
   ]
  },
  {
   "cell_type": "markdown",
   "metadata": {},
   "source": [
    "Now there's no missing data! "
   ]
  },
  {
   "cell_type": "code",
   "execution_count": 695,
   "metadata": {},
   "outputs": [
    {
     "data": {
      "text/plain": [
       "Index(['schedule_season', 'schedule_week', 'score_home', 'score_away',\n",
       "       'team_favorite_id', 'spread_favorite', 'over_under_line', 'stadium',\n",
       "       'weather_temperature', 'weather_wind_mph', 'Team ID_Home',\n",
       "       'Conference_Home', 'Division_Home', 'Team ID_Away', 'Conference_Away',\n",
       "       'Division_Away', 'stadium_location', 'stadium_type', 'stadium_capacity',\n",
       "       'stadium_surface', 'ELEVATION'],\n",
       "      dtype='object')"
      ]
     },
     "execution_count": 695,
     "metadata": {},
     "output_type": "execute_result"
    }
   ],
   "source": [
    "data.columns"
   ]
  },
  {
   "cell_type": "markdown",
   "metadata": {},
   "source": [
    "## Time to clean/simplify this final dataset"
   ]
  },
  {
   "cell_type": "markdown",
   "metadata": {},
   "source": [
    "First, the temperature column is simplified by converting ranges of temperatures to values of either freezing, cold, mild, warm, or hot."
   ]
  },
  {
   "cell_type": "code",
   "execution_count": 696,
   "metadata": {},
   "outputs": [
    {
     "data": {
      "text/plain": [
       "<matplotlib.axes._subplots.AxesSubplot at 0x1a5bc8518>"
      ]
     },
     "execution_count": 696,
     "metadata": {},
     "output_type": "execute_result"
    },
    {
     "data": {
      "image/png": "[encoded data removed]",
      "text/plain": [
       "<Figure size 432x288 with 1 Axes>"
      ]
     },
     "metadata": {},
     "output_type": "display_data"
    }
   ],
   "source": [
    "data['weather_temperature'].hist()"
   ]
  },
  {
   "cell_type": "code",
   "execution_count": 697,
   "metadata": {},
   "outputs": [],
   "source": [
    "temps_dict = {\n",
    "    'freezing': 32,\n",
    "    'cold': 45,\n",
    "    'mild': 60,\n",
    "    'warm': 75,\n",
    "    'hot': 200\n",
    "}"
   ]
  },
  {
   "cell_type": "code",
   "execution_count": 698,
   "metadata": {},
   "outputs": [
    {
     "data": {
      "text/html": [
       "<div>\n",
       "<style scoped>\n",
       "    .dataframe tbody tr th:only-of-type {\n",
       "        vertical-align: middle;\n",
       "    }\n",
       "\n",
       "    .dataframe tbody tr th {\n",
       "        vertical-align: top;\n",
       "    }\n",
       "\n",
       "    .dataframe thead th {\n",
       "        text-align: right;\n",
       "    }\n",
       "</style>\n",
       "<table border=\"1\" class=\"dataframe\">\n",
       "  <thead>\n",
       "    <tr style=\"text-align: right;\">\n",
       "      <th></th>\n",
       "      <th>index</th>\n",
       "      <th>STOP</th>\n",
       "      <th>START</th>\n",
       "    </tr>\n",
       "  </thead>\n",
       "  <tbody>\n",
       "    <tr>\n",
       "      <th>[-200.0, 32.0]</th>\n",
       "      <td>freezing</td>\n",
       "      <td>32</td>\n",
       "      <td>-200.0</td>\n",
       "    </tr>\n",
       "    <tr>\n",
       "      <th>[33.0, 45.0]</th>\n",
       "      <td>cold</td>\n",
       "      <td>45</td>\n",
       "      <td>33.0</td>\n",
       "    </tr>\n",
       "    <tr>\n",
       "      <th>[46.0, 60.0]</th>\n",
       "      <td>mild</td>\n",
       "      <td>60</td>\n",
       "      <td>46.0</td>\n",
       "    </tr>\n",
       "    <tr>\n",
       "      <th>[61.0, 75.0]</th>\n",
       "      <td>warm</td>\n",
       "      <td>75</td>\n",
       "      <td>61.0</td>\n",
       "    </tr>\n",
       "    <tr>\n",
       "      <th>[76.0, 200.0]</th>\n",
       "      <td>hot</td>\n",
       "      <td>200</td>\n",
       "      <td>76.0</td>\n",
       "    </tr>\n",
       "  </tbody>\n",
       "</table>\n",
       "</div>"
      ],
      "text/plain": [
       "                   index  STOP  START\n",
       "[-200.0, 32.0]  freezing    32 -200.0\n",
       "[33.0, 45.0]        cold    45   33.0\n",
       "[46.0, 60.0]        mild    60   46.0\n",
       "[61.0, 75.0]        warm    75   61.0\n",
       "[76.0, 200.0]        hot   200   76.0"
      ]
     },
     "execution_count": 698,
     "metadata": {},
     "output_type": "execute_result"
    }
   ],
   "source": [
    "temp_ranges = pd.DataFrame(temps_dict, index=['STOP']).T.reset_index()\n",
    "temp_ranges['START'] = (temp_ranges.STOP.shift(1)+1).fillna(-200)\n",
    "temp_ranges.index = pd.IntervalIndex.from_arrays(temp_ranges.START, temp_ranges.STOP, closed='both')\n",
    "temp_ranges"
   ]
  },
  {
   "cell_type": "code",
   "execution_count": 699,
   "metadata": {},
   "outputs": [
    {
     "data": {
      "text/plain": [
       "<matplotlib.axes._subplots.AxesSubplot at 0x1a5b37cf8>"
      ]
     },
     "execution_count": 699,
     "metadata": {},
     "output_type": "execute_result"
    },
    {
     "data": {
      "image/png": "[encoded data removed]",
      "text/plain": [
       "<Figure size 432x288 with 1 Axes>"
      ]
     },
     "metadata": {},
     "output_type": "display_data"
    }
   ],
   "source": [
    "data['weather_temperature'] = data.weather_temperature.map(temp_ranges['index'])\n",
    "data['weather_temperature'].value_counts().plot(kind='bar')"
   ]
  },
  {
   "cell_type": "markdown",
   "metadata": {},
   "source": [
    "Next, the wind speed will be classified as either calm, light, gentle, moderate, fresh, or strong based on the Beaufort scale for wind speeds."
   ]
  },
  {
   "cell_type": "code",
   "execution_count": 700,
   "metadata": {},
   "outputs": [
    {
     "data": {
      "text/plain": [
       "<matplotlib.axes._subplots.AxesSubplot at 0x1a5bdf668>"
      ]
     },
     "execution_count": 700,
     "metadata": {},
     "output_type": "execute_result"
    },
    {
     "data": {
      "image/png": "[encoded data removed]",
      "text/plain": [
       "<Figure size 432x288 with 1 Axes>"
      ]
     },
     "metadata": {},
     "output_type": "display_data"
    }
   ],
   "source": [
    "data['weather_wind_mph'].hist()"
   ]
  },
  {
   "cell_type": "code",
   "execution_count": 701,
   "metadata": {},
   "outputs": [],
   "source": [
    "wind_dict = {\n",
    "    'calm': 3,\n",
    "    'light': 7,\n",
    "    'gentle': 12,\n",
    "    'moderate': 18,\n",
    "    'fresh': 24,\n",
    "    'strong': 100\n",
    "}"
   ]
  },
  {
   "cell_type": "code",
   "execution_count": 702,
   "metadata": {},
   "outputs": [
    {
     "data": {
      "text/html": [
       "<div>\n",
       "<style scoped>\n",
       "    .dataframe tbody tr th:only-of-type {\n",
       "        vertical-align: middle;\n",
       "    }\n",
       "\n",
       "    .dataframe tbody tr th {\n",
       "        vertical-align: top;\n",
       "    }\n",
       "\n",
       "    .dataframe thead th {\n",
       "        text-align: right;\n",
       "    }\n",
       "</style>\n",
       "<table border=\"1\" class=\"dataframe\">\n",
       "  <thead>\n",
       "    <tr style=\"text-align: right;\">\n",
       "      <th></th>\n",
       "      <th>index</th>\n",
       "      <th>STOP</th>\n",
       "      <th>START</th>\n",
       "    </tr>\n",
       "  </thead>\n",
       "  <tbody>\n",
       "    <tr>\n",
       "      <th>[0.0, 3.0]</th>\n",
       "      <td>calm</td>\n",
       "      <td>3</td>\n",
       "      <td>0.0</td>\n",
       "    </tr>\n",
       "    <tr>\n",
       "      <th>[4.0, 7.0]</th>\n",
       "      <td>light</td>\n",
       "      <td>7</td>\n",
       "      <td>4.0</td>\n",
       "    </tr>\n",
       "    <tr>\n",
       "      <th>[8.0, 12.0]</th>\n",
       "      <td>gentle</td>\n",
       "      <td>12</td>\n",
       "      <td>8.0</td>\n",
       "    </tr>\n",
       "    <tr>\n",
       "      <th>[13.0, 18.0]</th>\n",
       "      <td>moderate</td>\n",
       "      <td>18</td>\n",
       "      <td>13.0</td>\n",
       "    </tr>\n",
       "    <tr>\n",
       "      <th>[19.0, 24.0]</th>\n",
       "      <td>fresh</td>\n",
       "      <td>24</td>\n",
       "      <td>19.0</td>\n",
       "    </tr>\n",
       "    <tr>\n",
       "      <th>[25.0, 100.0]</th>\n",
       "      <td>strong</td>\n",
       "      <td>100</td>\n",
       "      <td>25.0</td>\n",
       "    </tr>\n",
       "  </tbody>\n",
       "</table>\n",
       "</div>"
      ],
      "text/plain": [
       "                  index  STOP  START\n",
       "[0.0, 3.0]         calm     3    0.0\n",
       "[4.0, 7.0]        light     7    4.0\n",
       "[8.0, 12.0]      gentle    12    8.0\n",
       "[13.0, 18.0]   moderate    18   13.0\n",
       "[19.0, 24.0]      fresh    24   19.0\n",
       "[25.0, 100.0]    strong   100   25.0"
      ]
     },
     "execution_count": 702,
     "metadata": {},
     "output_type": "execute_result"
    }
   ],
   "source": [
    "wind_ranges = pd.DataFrame(wind_dict, index=['STOP']).T.reset_index()\n",
    "wind_ranges['START'] = (wind_ranges.STOP.shift(1)+1).fillna(0)\n",
    "wind_ranges.index = pd.IntervalIndex.from_arrays(wind_ranges.START, wind_ranges.STOP, closed='both')\n",
    "wind_ranges"
   ]
  },
  {
   "cell_type": "code",
   "execution_count": 703,
   "metadata": {},
   "outputs": [
    {
     "data": {
      "text/plain": [
       "<matplotlib.axes._subplots.AxesSubplot at 0x1a6157438>"
      ]
     },
     "execution_count": 703,
     "metadata": {},
     "output_type": "execute_result"
    },
    {
     "data": {
      "image/png": "[encoded data removed]",
      "text/plain": [
       "<Figure size 432x288 with 1 Axes>"
      ]
     },
     "metadata": {},
     "output_type": "display_data"
    }
   ],
   "source": [
    "data['weather_wind_mph'] = data.weather_wind_mph.map(wind_ranges['index'])\n",
    "data['weather_wind_mph'].value_counts().plot(kind='bar')"
   ]
  },
  {
   "cell_type": "markdown",
   "metadata": {},
   "source": [
    "Next, elevation must be simplified as either low, medium, or high elevation."
   ]
  },
  {
   "cell_type": "code",
   "execution_count": 704,
   "metadata": {},
   "outputs": [
    {
     "data": {
      "text/plain": [
       "<matplotlib.axes._subplots.AxesSubplot at 0x1a62344e0>"
      ]
     },
     "execution_count": 704,
     "metadata": {},
     "output_type": "execute_result"
    },
    {
     "data": {
      "image/png": "[encoded data removed]",
      "text/plain": [
       "<Figure size 432x288 with 1 Axes>"
      ]
     },
     "metadata": {},
     "output_type": "display_data"
    }
   ],
   "source": [
    "data['ELEVATION'] = data['ELEVATION'].convert_objects(convert_numeric=True)\n",
    "data['ELEVATION'].hist()"
   ]
  },
  {
   "cell_type": "code",
   "execution_count": 705,
   "metadata": {},
   "outputs": [],
   "source": [
    "elev_dict = {\n",
    "    'low': 200,\n",
    "    'medium': 400,\n",
    "    'high': 3000\n",
    "}"
   ]
  },
  {
   "cell_type": "code",
   "execution_count": 706,
   "metadata": {},
   "outputs": [
    {
     "data": {
      "text/html": [
       "<div>\n",
       "<style scoped>\n",
       "    .dataframe tbody tr th:only-of-type {\n",
       "        vertical-align: middle;\n",
       "    }\n",
       "\n",
       "    .dataframe tbody tr th {\n",
       "        vertical-align: top;\n",
       "    }\n",
       "\n",
       "    .dataframe thead th {\n",
       "        text-align: right;\n",
       "    }\n",
       "</style>\n",
       "<table border=\"1\" class=\"dataframe\">\n",
       "  <thead>\n",
       "    <tr style=\"text-align: right;\">\n",
       "      <th></th>\n",
       "      <th>index</th>\n",
       "      <th>STOP</th>\n",
       "      <th>START</th>\n",
       "    </tr>\n",
       "  </thead>\n",
       "  <tbody>\n",
       "    <tr>\n",
       "      <th>[0.0, 200.0]</th>\n",
       "      <td>low</td>\n",
       "      <td>200</td>\n",
       "      <td>0.0</td>\n",
       "    </tr>\n",
       "    <tr>\n",
       "      <th>[201.0, 400.0]</th>\n",
       "      <td>medium</td>\n",
       "      <td>400</td>\n",
       "      <td>201.0</td>\n",
       "    </tr>\n",
       "    <tr>\n",
       "      <th>[401.0, 3000.0]</th>\n",
       "      <td>high</td>\n",
       "      <td>3000</td>\n",
       "      <td>401.0</td>\n",
       "    </tr>\n",
       "  </tbody>\n",
       "</table>\n",
       "</div>"
      ],
      "text/plain": [
       "                  index  STOP  START\n",
       "[0.0, 200.0]        low   200    0.0\n",
       "[201.0, 400.0]   medium   400  201.0\n",
       "[401.0, 3000.0]    high  3000  401.0"
      ]
     },
     "execution_count": 706,
     "metadata": {},
     "output_type": "execute_result"
    }
   ],
   "source": [
    "elev_ranges = pd.DataFrame(elev_dict, index=['STOP']).T.reset_index()\n",
    "elev_ranges['START'] = (elev_ranges.STOP.shift(1)+1).fillna(0)\n",
    "elev_ranges.index = pd.IntervalIndex.from_arrays(elev_ranges.START, elev_ranges.STOP, closed='both')\n",
    "elev_ranges"
   ]
  },
  {
   "cell_type": "code",
   "execution_count": 707,
   "metadata": {},
   "outputs": [
    {
     "data": {
      "text/plain": [
       "<matplotlib.axes._subplots.AxesSubplot at 0x1a5cb9710>"
      ]
     },
     "execution_count": 707,
     "metadata": {},
     "output_type": "execute_result"
    },
    {
     "data": {
      "image/png": "[encoded data removed]",
      "text/plain": [
       "<Figure size 432x288 with 1 Axes>"
      ]
     },
     "metadata": {},
     "output_type": "display_data"
    }
   ],
   "source": [
    "data['ELEVATION'] = data.ELEVATION.map(elev_ranges['index'])\n",
    "data['ELEVATION'].value_counts().plot(kind='bar')"
   ]
  },
  {
   "cell_type": "markdown",
   "metadata": {},
   "source": [
    "The same thing must be done for stadium capacity as well: very low, low, medium, high, or very high."
   ]
  },
  {
   "cell_type": "code",
   "execution_count": 708,
   "metadata": {},
   "outputs": [],
   "source": [
    "data['stadium_capacity'] = data['stadium_capacity'].str.replace(',','')\n",
    "data['stadium_capacity'] = data['stadium_capacity'].convert_objects(convert_numeric=True)"
   ]
  },
  {
   "cell_type": "code",
   "execution_count": 709,
   "metadata": {},
   "outputs": [
    {
     "data": {
      "text/plain": [
       "<matplotlib.axes._subplots.AxesSubplot at 0x1a64440b8>"
      ]
     },
     "execution_count": 709,
     "metadata": {},
     "output_type": "execute_result"
    },
    {
     "data": {
      "image/png": "[encoded data removed]",
      "text/plain": [
       "<Figure size 432x288 with 1 Axes>"
      ]
     },
     "metadata": {},
     "output_type": "display_data"
    }
   ],
   "source": [
    "data['stadium_capacity'].hist()"
   ]
  },
  {
   "cell_type": "code",
   "execution_count": 710,
   "metadata": {},
   "outputs": [],
   "source": [
    "cap_dict = {\n",
    "    'very low': 40000,\n",
    "    'low': 60000,\n",
    "    'medium': 75000,\n",
    "    'high': 85000,\n",
    "    'very high': 150000\n",
    "}"
   ]
  },
  {
   "cell_type": "code",
   "execution_count": 711,
   "metadata": {},
   "outputs": [
    {
     "data": {
      "text/html": [
       "<div>\n",
       "<style scoped>\n",
       "    .dataframe tbody tr th:only-of-type {\n",
       "        vertical-align: middle;\n",
       "    }\n",
       "\n",
       "    .dataframe tbody tr th {\n",
       "        vertical-align: top;\n",
       "    }\n",
       "\n",
       "    .dataframe thead th {\n",
       "        text-align: right;\n",
       "    }\n",
       "</style>\n",
       "<table border=\"1\" class=\"dataframe\">\n",
       "  <thead>\n",
       "    <tr style=\"text-align: right;\">\n",
       "      <th></th>\n",
       "      <th>index</th>\n",
       "      <th>STOP</th>\n",
       "      <th>START</th>\n",
       "    </tr>\n",
       "  </thead>\n",
       "  <tbody>\n",
       "    <tr>\n",
       "      <th>[0.0, 40000.0]</th>\n",
       "      <td>very low</td>\n",
       "      <td>40000</td>\n",
       "      <td>0.0</td>\n",
       "    </tr>\n",
       "    <tr>\n",
       "      <th>[40001.0, 60000.0]</th>\n",
       "      <td>low</td>\n",
       "      <td>60000</td>\n",
       "      <td>40001.0</td>\n",
       "    </tr>\n",
       "    <tr>\n",
       "      <th>[60001.0, 75000.0]</th>\n",
       "      <td>medium</td>\n",
       "      <td>75000</td>\n",
       "      <td>60001.0</td>\n",
       "    </tr>\n",
       "    <tr>\n",
       "      <th>[75001.0, 85000.0]</th>\n",
       "      <td>high</td>\n",
       "      <td>85000</td>\n",
       "      <td>75001.0</td>\n",
       "    </tr>\n",
       "    <tr>\n",
       "      <th>[85001.0, 150000.0]</th>\n",
       "      <td>very high</td>\n",
       "      <td>150000</td>\n",
       "      <td>85001.0</td>\n",
       "    </tr>\n",
       "  </tbody>\n",
       "</table>\n",
       "</div>"
      ],
      "text/plain": [
       "                         index    STOP    START\n",
       "[0.0, 40000.0]        very low   40000      0.0\n",
       "[40001.0, 60000.0]         low   60000  40001.0\n",
       "[60001.0, 75000.0]      medium   75000  60001.0\n",
       "[75001.0, 85000.0]        high   85000  75001.0\n",
       "[85001.0, 150000.0]  very high  150000  85001.0"
      ]
     },
     "execution_count": 711,
     "metadata": {},
     "output_type": "execute_result"
    }
   ],
   "source": [
    "cap_ranges = pd.DataFrame(cap_dict, index=['STOP']).T.reset_index()\n",
    "cap_ranges['START'] = (cap_ranges.STOP.shift(1)+1).fillna(0)\n",
    "cap_ranges.index = pd.IntervalIndex.from_arrays(cap_ranges.START, cap_ranges.STOP, closed='both')\n",
    "cap_ranges"
   ]
  },
  {
   "cell_type": "code",
   "execution_count": 712,
   "metadata": {},
   "outputs": [
    {
     "data": {
      "text/plain": [
       "medium       1579\n",
       "high          575\n",
       "low            85\n",
       "very high      22\n",
       "very low       15\n",
       "Name: stadium_capacity, dtype: int64"
      ]
     },
     "execution_count": 712,
     "metadata": {},
     "output_type": "execute_result"
    }
   ],
   "source": [
    "data['stadium_capacity'] = data.stadium_capacity.map(cap_ranges['index'])\n",
    "data['stadium_capacity'].value_counts()"
   ]
  },
  {
   "cell_type": "markdown",
   "metadata": {},
   "source": [
    "Now to take a look at our cleaned dataset:"
   ]
  },
  {
   "cell_type": "code",
   "execution_count": 713,
   "metadata": {},
   "outputs": [
    {
     "data": {
      "text/html": [
       "<div>\n",
       "<style scoped>\n",
       "    .dataframe tbody tr th:only-of-type {\n",
       "        vertical-align: middle;\n",
       "    }\n",
       "\n",
       "    .dataframe tbody tr th {\n",
       "        vertical-align: top;\n",
       "    }\n",
       "\n",
       "    .dataframe thead th {\n",
       "        text-align: right;\n",
       "    }\n",
       "</style>\n",
       "<table border=\"1\" class=\"dataframe\">\n",
       "  <thead>\n",
       "    <tr style=\"text-align: right;\">\n",
       "      <th></th>\n",
       "      <th>schedule_season</th>\n",
       "      <th>schedule_week</th>\n",
       "      <th>score_home</th>\n",
       "      <th>score_away</th>\n",
       "      <th>team_favorite_id</th>\n",
       "      <th>spread_favorite</th>\n",
       "      <th>over_under_line</th>\n",
       "      <th>stadium</th>\n",
       "      <th>weather_temperature</th>\n",
       "      <th>weather_wind_mph</th>\n",
       "      <th>...</th>\n",
       "      <th>Conference_Home</th>\n",
       "      <th>Division_Home</th>\n",
       "      <th>Team ID_Away</th>\n",
       "      <th>Conference_Away</th>\n",
       "      <th>Division_Away</th>\n",
       "      <th>stadium_location</th>\n",
       "      <th>stadium_type</th>\n",
       "      <th>stadium_capacity</th>\n",
       "      <th>stadium_surface</th>\n",
       "      <th>ELEVATION</th>\n",
       "    </tr>\n",
       "  </thead>\n",
       "  <tbody>\n",
       "    <tr>\n",
       "      <th>0</th>\n",
       "      <td>2010</td>\n",
       "      <td>1</td>\n",
       "      <td>14</td>\n",
       "      <td>9</td>\n",
       "      <td>NO</td>\n",
       "      <td>-5.0</td>\n",
       "      <td>49.5</td>\n",
       "      <td>Louisiana Superdome</td>\n",
       "      <td>warm</td>\n",
       "      <td>calm</td>\n",
       "      <td>...</td>\n",
       "      <td>NFC</td>\n",
       "      <td>NFC South</td>\n",
       "      <td>MIN</td>\n",
       "      <td>NFC</td>\n",
       "      <td>NFC North</td>\n",
       "      <td>New Orleans, LA</td>\n",
       "      <td>indoor</td>\n",
       "      <td>high</td>\n",
       "      <td>FieldTurf</td>\n",
       "      <td>low</td>\n",
       "    </tr>\n",
       "    <tr>\n",
       "      <th>1</th>\n",
       "      <td>2010</td>\n",
       "      <td>1</td>\n",
       "      <td>10</td>\n",
       "      <td>15</td>\n",
       "      <td>MIA</td>\n",
       "      <td>-3.0</td>\n",
       "      <td>39</td>\n",
       "      <td>Ralph Wilson Stadium</td>\n",
       "      <td>warm</td>\n",
       "      <td>light</td>\n",
       "      <td>...</td>\n",
       "      <td>AFC</td>\n",
       "      <td>AFC East</td>\n",
       "      <td>MIA</td>\n",
       "      <td>AFC</td>\n",
       "      <td>AFC East</td>\n",
       "      <td>Orchard Park, NY</td>\n",
       "      <td>outdoor</td>\n",
       "      <td>medium</td>\n",
       "      <td>FieldTurf</td>\n",
       "      <td>low</td>\n",
       "    </tr>\n",
       "    <tr>\n",
       "      <th>2</th>\n",
       "      <td>2010</td>\n",
       "      <td>1</td>\n",
       "      <td>19</td>\n",
       "      <td>14</td>\n",
       "      <td>CHI</td>\n",
       "      <td>-6.5</td>\n",
       "      <td>45</td>\n",
       "      <td>Soldier Field</td>\n",
       "      <td>warm</td>\n",
       "      <td>calm</td>\n",
       "      <td>...</td>\n",
       "      <td>NFC</td>\n",
       "      <td>NFC North</td>\n",
       "      <td>DET</td>\n",
       "      <td>NFC</td>\n",
       "      <td>NFC North</td>\n",
       "      <td>Chicago, IL</td>\n",
       "      <td>outdoor</td>\n",
       "      <td>medium</td>\n",
       "      <td>Grass</td>\n",
       "      <td>low</td>\n",
       "    </tr>\n",
       "    <tr>\n",
       "      <th>3</th>\n",
       "      <td>2010</td>\n",
       "      <td>1</td>\n",
       "      <td>34</td>\n",
       "      <td>24</td>\n",
       "      <td>IND</td>\n",
       "      <td>-1.0</td>\n",
       "      <td>48</td>\n",
       "      <td>Reliant Stadium</td>\n",
       "      <td>hot</td>\n",
       "      <td>light</td>\n",
       "      <td>...</td>\n",
       "      <td>AFC</td>\n",
       "      <td>AFC South</td>\n",
       "      <td>IND</td>\n",
       "      <td>AFC</td>\n",
       "      <td>AFC South</td>\n",
       "      <td>Houston, TX</td>\n",
       "      <td>retractable</td>\n",
       "      <td>medium</td>\n",
       "      <td>Grass</td>\n",
       "      <td>low</td>\n",
       "    </tr>\n",
       "    <tr>\n",
       "      <th>4</th>\n",
       "      <td>2010</td>\n",
       "      <td>1</td>\n",
       "      <td>24</td>\n",
       "      <td>17</td>\n",
       "      <td>JAX</td>\n",
       "      <td>-3.0</td>\n",
       "      <td>41.5</td>\n",
       "      <td>EverBank Field</td>\n",
       "      <td>hot</td>\n",
       "      <td>calm</td>\n",
       "      <td>...</td>\n",
       "      <td>AFC</td>\n",
       "      <td>AFC South</td>\n",
       "      <td>DEN</td>\n",
       "      <td>AFC</td>\n",
       "      <td>AFC West</td>\n",
       "      <td>Jacksonville, FL</td>\n",
       "      <td>outdoor</td>\n",
       "      <td>medium</td>\n",
       "      <td>Grass</td>\n",
       "      <td>low</td>\n",
       "    </tr>\n",
       "  </tbody>\n",
       "</table>\n",
       "<p>5 rows × 21 columns</p>\n",
       "</div>"
      ],
      "text/plain": [
       "   schedule_season schedule_week  score_home  score_away team_favorite_id  \\\n",
       "0             2010             1          14           9               NO   \n",
       "1             2010             1          10          15              MIA   \n",
       "2             2010             1          19          14              CHI   \n",
       "3             2010             1          34          24              IND   \n",
       "4             2010             1          24          17              JAX   \n",
       "\n",
       "   spread_favorite over_under_line               stadium weather_temperature  \\\n",
       "0             -5.0            49.5   Louisiana Superdome                warm   \n",
       "1             -3.0              39  Ralph Wilson Stadium                warm   \n",
       "2             -6.5              45         Soldier Field                warm   \n",
       "3             -1.0              48       Reliant Stadium                 hot   \n",
       "4             -3.0            41.5        EverBank Field                 hot   \n",
       "\n",
       "  weather_wind_mph  ... Conference_Home Division_Home Team ID_Away  \\\n",
       "0             calm  ...             NFC     NFC South          MIN   \n",
       "1            light  ...             AFC      AFC East          MIA   \n",
       "2             calm  ...             NFC     NFC North          DET   \n",
       "3            light  ...             AFC     AFC South          IND   \n",
       "4             calm  ...             AFC     AFC South          DEN   \n",
       "\n",
       "  Conference_Away Division_Away  stadium_location stadium_type  \\\n",
       "0             NFC     NFC North   New Orleans, LA       indoor   \n",
       "1             AFC      AFC East  Orchard Park, NY      outdoor   \n",
       "2             NFC     NFC North       Chicago, IL      outdoor   \n",
       "3             AFC     AFC South       Houston, TX  retractable   \n",
       "4             AFC      AFC West  Jacksonville, FL      outdoor   \n",
       "\n",
       "  stadium_capacity stadium_surface ELEVATION  \n",
       "0             high       FieldTurf       low  \n",
       "1           medium       FieldTurf       low  \n",
       "2           medium           Grass       low  \n",
       "3           medium           Grass       low  \n",
       "4           medium           Grass       low  \n",
       "\n",
       "[5 rows x 21 columns]"
      ]
     },
     "execution_count": 713,
     "metadata": {},
     "output_type": "execute_result"
    }
   ],
   "source": [
    "data.head()"
   ]
  },
  {
   "cell_type": "markdown",
   "metadata": {},
   "source": [
    "## Adding Additional Features for Analysis"
   ]
  },
  {
   "cell_type": "markdown",
   "metadata": {},
   "source": [
    "First, we'll add the head-to-head, division-to-division, and conference-to-conference matchup combinations to the data."
   ]
  },
  {
   "cell_type": "code",
   "execution_count": 714,
   "metadata": {},
   "outputs": [],
   "source": [
    "data['H2H'] = data[['Team ID_Home', 'Team ID_Away']].apply(lambda x: 'vs'.join(x), axis=1)\n",
    "data['D2D'] = data[['Division_Home', 'Division_Away']].apply(lambda x: 'vs'.join(x), axis=1)\n",
    "data['C2C'] = data[['Conference_Home', 'Conference_Away']].apply(lambda x: 'vs'.join(x), axis=1)"
   ]
  },
  {
   "cell_type": "code",
   "execution_count": 715,
   "metadata": {},
   "outputs": [
    {
     "data": {
      "text/html": [
       "<div>\n",
       "<style scoped>\n",
       "    .dataframe tbody tr th:only-of-type {\n",
       "        vertical-align: middle;\n",
       "    }\n",
       "\n",
       "    .dataframe tbody tr th {\n",
       "        vertical-align: top;\n",
       "    }\n",
       "\n",
       "    .dataframe thead th {\n",
       "        text-align: right;\n",
       "    }\n",
       "</style>\n",
       "<table border=\"1\" class=\"dataframe\">\n",
       "  <thead>\n",
       "    <tr style=\"text-align: right;\">\n",
       "      <th></th>\n",
       "      <th>schedule_season</th>\n",
       "      <th>schedule_week</th>\n",
       "      <th>score_home</th>\n",
       "      <th>score_away</th>\n",
       "      <th>team_favorite_id</th>\n",
       "      <th>spread_favorite</th>\n",
       "      <th>over_under_line</th>\n",
       "      <th>stadium</th>\n",
       "      <th>weather_temperature</th>\n",
       "      <th>weather_wind_mph</th>\n",
       "      <th>Team ID_Home</th>\n",
       "      <th>Team ID_Away</th>\n",
       "      <th>stadium_location</th>\n",
       "      <th>stadium_type</th>\n",
       "      <th>stadium_capacity</th>\n",
       "      <th>stadium_surface</th>\n",
       "      <th>ELEVATION</th>\n",
       "      <th>H2H</th>\n",
       "      <th>D2D</th>\n",
       "      <th>C2C</th>\n",
       "    </tr>\n",
       "  </thead>\n",
       "  <tbody>\n",
       "    <tr>\n",
       "      <th>0</th>\n",
       "      <td>2010</td>\n",
       "      <td>1</td>\n",
       "      <td>14</td>\n",
       "      <td>9</td>\n",
       "      <td>NO</td>\n",
       "      <td>-5.0</td>\n",
       "      <td>49.5</td>\n",
       "      <td>Louisiana Superdome</td>\n",
       "      <td>warm</td>\n",
       "      <td>calm</td>\n",
       "      <td>NO</td>\n",
       "      <td>MIN</td>\n",
       "      <td>New Orleans, LA</td>\n",
       "      <td>indoor</td>\n",
       "      <td>high</td>\n",
       "      <td>FieldTurf</td>\n",
       "      <td>low</td>\n",
       "      <td>NOvsMIN</td>\n",
       "      <td>NFC SouthvsNFC North</td>\n",
       "      <td>NFCvsNFC</td>\n",
       "    </tr>\n",
       "    <tr>\n",
       "      <th>1</th>\n",
       "      <td>2010</td>\n",
       "      <td>1</td>\n",
       "      <td>10</td>\n",
       "      <td>15</td>\n",
       "      <td>MIA</td>\n",
       "      <td>-3.0</td>\n",
       "      <td>39</td>\n",
       "      <td>Ralph Wilson Stadium</td>\n",
       "      <td>warm</td>\n",
       "      <td>light</td>\n",
       "      <td>BUF</td>\n",
       "      <td>MIA</td>\n",
       "      <td>Orchard Park, NY</td>\n",
       "      <td>outdoor</td>\n",
       "      <td>medium</td>\n",
       "      <td>FieldTurf</td>\n",
       "      <td>low</td>\n",
       "      <td>BUFvsMIA</td>\n",
       "      <td>AFC EastvsAFC East</td>\n",
       "      <td>AFCvsAFC</td>\n",
       "    </tr>\n",
       "    <tr>\n",
       "      <th>2</th>\n",
       "      <td>2010</td>\n",
       "      <td>1</td>\n",
       "      <td>19</td>\n",
       "      <td>14</td>\n",
       "      <td>CHI</td>\n",
       "      <td>-6.5</td>\n",
       "      <td>45</td>\n",
       "      <td>Soldier Field</td>\n",
       "      <td>warm</td>\n",
       "      <td>calm</td>\n",
       "      <td>CHI</td>\n",
       "      <td>DET</td>\n",
       "      <td>Chicago, IL</td>\n",
       "      <td>outdoor</td>\n",
       "      <td>medium</td>\n",
       "      <td>Grass</td>\n",
       "      <td>low</td>\n",
       "      <td>CHIvsDET</td>\n",
       "      <td>NFC NorthvsNFC North</td>\n",
       "      <td>NFCvsNFC</td>\n",
       "    </tr>\n",
       "    <tr>\n",
       "      <th>3</th>\n",
       "      <td>2010</td>\n",
       "      <td>1</td>\n",
       "      <td>34</td>\n",
       "      <td>24</td>\n",
       "      <td>IND</td>\n",
       "      <td>-1.0</td>\n",
       "      <td>48</td>\n",
       "      <td>Reliant Stadium</td>\n",
       "      <td>hot</td>\n",
       "      <td>light</td>\n",
       "      <td>HOU</td>\n",
       "      <td>IND</td>\n",
       "      <td>Houston, TX</td>\n",
       "      <td>retractable</td>\n",
       "      <td>medium</td>\n",
       "      <td>Grass</td>\n",
       "      <td>low</td>\n",
       "      <td>HOUvsIND</td>\n",
       "      <td>AFC SouthvsAFC South</td>\n",
       "      <td>AFCvsAFC</td>\n",
       "    </tr>\n",
       "    <tr>\n",
       "      <th>4</th>\n",
       "      <td>2010</td>\n",
       "      <td>1</td>\n",
       "      <td>24</td>\n",
       "      <td>17</td>\n",
       "      <td>JAX</td>\n",
       "      <td>-3.0</td>\n",
       "      <td>41.5</td>\n",
       "      <td>EverBank Field</td>\n",
       "      <td>hot</td>\n",
       "      <td>calm</td>\n",
       "      <td>JAX</td>\n",
       "      <td>DEN</td>\n",
       "      <td>Jacksonville, FL</td>\n",
       "      <td>outdoor</td>\n",
       "      <td>medium</td>\n",
       "      <td>Grass</td>\n",
       "      <td>low</td>\n",
       "      <td>JAXvsDEN</td>\n",
       "      <td>AFC SouthvsAFC West</td>\n",
       "      <td>AFCvsAFC</td>\n",
       "    </tr>\n",
       "  </tbody>\n",
       "</table>\n",
       "</div>"
      ],
      "text/plain": [
       "   schedule_season schedule_week  score_home  score_away team_favorite_id  \\\n",
       "0             2010             1          14           9               NO   \n",
       "1             2010             1          10          15              MIA   \n",
       "2             2010             1          19          14              CHI   \n",
       "3             2010             1          34          24              IND   \n",
       "4             2010             1          24          17              JAX   \n",
       "\n",
       "   spread_favorite over_under_line               stadium weather_temperature  \\\n",
       "0             -5.0            49.5   Louisiana Superdome                warm   \n",
       "1             -3.0              39  Ralph Wilson Stadium                warm   \n",
       "2             -6.5              45         Soldier Field                warm   \n",
       "3             -1.0              48       Reliant Stadium                 hot   \n",
       "4             -3.0            41.5        EverBank Field                 hot   \n",
       "\n",
       "  weather_wind_mph Team ID_Home Team ID_Away  stadium_location stadium_type  \\\n",
       "0             calm           NO          MIN   New Orleans, LA       indoor   \n",
       "1            light          BUF          MIA  Orchard Park, NY      outdoor   \n",
       "2             calm          CHI          DET       Chicago, IL      outdoor   \n",
       "3            light          HOU          IND       Houston, TX  retractable   \n",
       "4             calm          JAX          DEN  Jacksonville, FL      outdoor   \n",
       "\n",
       "  stadium_capacity stadium_surface ELEVATION       H2H                   D2D  \\\n",
       "0             high       FieldTurf       low   NOvsMIN  NFC SouthvsNFC North   \n",
       "1           medium       FieldTurf       low  BUFvsMIA    AFC EastvsAFC East   \n",
       "2           medium           Grass       low  CHIvsDET  NFC NorthvsNFC North   \n",
       "3           medium           Grass       low  HOUvsIND  AFC SouthvsAFC South   \n",
       "4           medium           Grass       low  JAXvsDEN   AFC SouthvsAFC West   \n",
       "\n",
       "        C2C  \n",
       "0  NFCvsNFC  \n",
       "1  AFCvsAFC  \n",
       "2  NFCvsNFC  \n",
       "3  AFCvsAFC  \n",
       "4  AFCvsAFC  "
      ]
     },
     "execution_count": 715,
     "metadata": {},
     "output_type": "execute_result"
    }
   ],
   "source": [
    "data = data.drop(labels = ['Conference_Home','Conference_Away',\n",
    "                           'Division_Home','Division_Away'], axis=1)\n",
    "data.head()"
   ]
  },
  {
   "cell_type": "markdown",
   "metadata": {},
   "source": [
    "Next, we'll add the actual over/under line from the final game scores."
   ]
  },
  {
   "cell_type": "code",
   "execution_count": 716,
   "metadata": {},
   "outputs": [
    {
     "data": {
      "text/html": [
       "<div>\n",
       "<style scoped>\n",
       "    .dataframe tbody tr th:only-of-type {\n",
       "        vertical-align: middle;\n",
       "    }\n",
       "\n",
       "    .dataframe tbody tr th {\n",
       "        vertical-align: top;\n",
       "    }\n",
       "\n",
       "    .dataframe thead th {\n",
       "        text-align: right;\n",
       "    }\n",
       "</style>\n",
       "<table border=\"1\" class=\"dataframe\">\n",
       "  <thead>\n",
       "    <tr style=\"text-align: right;\">\n",
       "      <th></th>\n",
       "      <th>schedule_season</th>\n",
       "      <th>schedule_week</th>\n",
       "      <th>score_home</th>\n",
       "      <th>score_away</th>\n",
       "      <th>team_favorite_id</th>\n",
       "      <th>spread_favorite</th>\n",
       "      <th>over_under_line</th>\n",
       "      <th>stadium</th>\n",
       "      <th>weather_temperature</th>\n",
       "      <th>weather_wind_mph</th>\n",
       "      <th>...</th>\n",
       "      <th>Team ID_Away</th>\n",
       "      <th>stadium_location</th>\n",
       "      <th>stadium_type</th>\n",
       "      <th>stadium_capacity</th>\n",
       "      <th>stadium_surface</th>\n",
       "      <th>ELEVATION</th>\n",
       "      <th>H2H</th>\n",
       "      <th>D2D</th>\n",
       "      <th>C2C</th>\n",
       "      <th>actual_o_u</th>\n",
       "    </tr>\n",
       "  </thead>\n",
       "  <tbody>\n",
       "    <tr>\n",
       "      <th>0</th>\n",
       "      <td>2010</td>\n",
       "      <td>1</td>\n",
       "      <td>14</td>\n",
       "      <td>9</td>\n",
       "      <td>NO</td>\n",
       "      <td>-5.0</td>\n",
       "      <td>49.5</td>\n",
       "      <td>Louisiana Superdome</td>\n",
       "      <td>warm</td>\n",
       "      <td>calm</td>\n",
       "      <td>...</td>\n",
       "      <td>MIN</td>\n",
       "      <td>New Orleans, LA</td>\n",
       "      <td>indoor</td>\n",
       "      <td>high</td>\n",
       "      <td>FieldTurf</td>\n",
       "      <td>low</td>\n",
       "      <td>NOvsMIN</td>\n",
       "      <td>NFC SouthvsNFC North</td>\n",
       "      <td>NFCvsNFC</td>\n",
       "      <td>23</td>\n",
       "    </tr>\n",
       "    <tr>\n",
       "      <th>1</th>\n",
       "      <td>2010</td>\n",
       "      <td>1</td>\n",
       "      <td>10</td>\n",
       "      <td>15</td>\n",
       "      <td>MIA</td>\n",
       "      <td>-3.0</td>\n",
       "      <td>39</td>\n",
       "      <td>Ralph Wilson Stadium</td>\n",
       "      <td>warm</td>\n",
       "      <td>light</td>\n",
       "      <td>...</td>\n",
       "      <td>MIA</td>\n",
       "      <td>Orchard Park, NY</td>\n",
       "      <td>outdoor</td>\n",
       "      <td>medium</td>\n",
       "      <td>FieldTurf</td>\n",
       "      <td>low</td>\n",
       "      <td>BUFvsMIA</td>\n",
       "      <td>AFC EastvsAFC East</td>\n",
       "      <td>AFCvsAFC</td>\n",
       "      <td>25</td>\n",
       "    </tr>\n",
       "    <tr>\n",
       "      <th>2</th>\n",
       "      <td>2010</td>\n",
       "      <td>1</td>\n",
       "      <td>19</td>\n",
       "      <td>14</td>\n",
       "      <td>CHI</td>\n",
       "      <td>-6.5</td>\n",
       "      <td>45</td>\n",
       "      <td>Soldier Field</td>\n",
       "      <td>warm</td>\n",
       "      <td>calm</td>\n",
       "      <td>...</td>\n",
       "      <td>DET</td>\n",
       "      <td>Chicago, IL</td>\n",
       "      <td>outdoor</td>\n",
       "      <td>medium</td>\n",
       "      <td>Grass</td>\n",
       "      <td>low</td>\n",
       "      <td>CHIvsDET</td>\n",
       "      <td>NFC NorthvsNFC North</td>\n",
       "      <td>NFCvsNFC</td>\n",
       "      <td>33</td>\n",
       "    </tr>\n",
       "    <tr>\n",
       "      <th>3</th>\n",
       "      <td>2010</td>\n",
       "      <td>1</td>\n",
       "      <td>34</td>\n",
       "      <td>24</td>\n",
       "      <td>IND</td>\n",
       "      <td>-1.0</td>\n",
       "      <td>48</td>\n",
       "      <td>Reliant Stadium</td>\n",
       "      <td>hot</td>\n",
       "      <td>light</td>\n",
       "      <td>...</td>\n",
       "      <td>IND</td>\n",
       "      <td>Houston, TX</td>\n",
       "      <td>retractable</td>\n",
       "      <td>medium</td>\n",
       "      <td>Grass</td>\n",
       "      <td>low</td>\n",
       "      <td>HOUvsIND</td>\n",
       "      <td>AFC SouthvsAFC South</td>\n",
       "      <td>AFCvsAFC</td>\n",
       "      <td>58</td>\n",
       "    </tr>\n",
       "    <tr>\n",
       "      <th>4</th>\n",
       "      <td>2010</td>\n",
       "      <td>1</td>\n",
       "      <td>24</td>\n",
       "      <td>17</td>\n",
       "      <td>JAX</td>\n",
       "      <td>-3.0</td>\n",
       "      <td>41.5</td>\n",
       "      <td>EverBank Field</td>\n",
       "      <td>hot</td>\n",
       "      <td>calm</td>\n",
       "      <td>...</td>\n",
       "      <td>DEN</td>\n",
       "      <td>Jacksonville, FL</td>\n",
       "      <td>outdoor</td>\n",
       "      <td>medium</td>\n",
       "      <td>Grass</td>\n",
       "      <td>low</td>\n",
       "      <td>JAXvsDEN</td>\n",
       "      <td>AFC SouthvsAFC West</td>\n",
       "      <td>AFCvsAFC</td>\n",
       "      <td>41</td>\n",
       "    </tr>\n",
       "  </tbody>\n",
       "</table>\n",
       "<p>5 rows × 21 columns</p>\n",
       "</div>"
      ],
      "text/plain": [
       "   schedule_season schedule_week  score_home  score_away team_favorite_id  \\\n",
       "0             2010             1          14           9               NO   \n",
       "1             2010             1          10          15              MIA   \n",
       "2             2010             1          19          14              CHI   \n",
       "3             2010             1          34          24              IND   \n",
       "4             2010             1          24          17              JAX   \n",
       "\n",
       "   spread_favorite over_under_line               stadium weather_temperature  \\\n",
       "0             -5.0            49.5   Louisiana Superdome                warm   \n",
       "1             -3.0              39  Ralph Wilson Stadium                warm   \n",
       "2             -6.5              45         Soldier Field                warm   \n",
       "3             -1.0              48       Reliant Stadium                 hot   \n",
       "4             -3.0            41.5        EverBank Field                 hot   \n",
       "\n",
       "  weather_wind_mph  ... Team ID_Away  stadium_location stadium_type  \\\n",
       "0             calm  ...          MIN   New Orleans, LA       indoor   \n",
       "1            light  ...          MIA  Orchard Park, NY      outdoor   \n",
       "2             calm  ...          DET       Chicago, IL      outdoor   \n",
       "3            light  ...          IND       Houston, TX  retractable   \n",
       "4             calm  ...          DEN  Jacksonville, FL      outdoor   \n",
       "\n",
       "  stadium_capacity stadium_surface ELEVATION       H2H                   D2D  \\\n",
       "0             high       FieldTurf       low   NOvsMIN  NFC SouthvsNFC North   \n",
       "1           medium       FieldTurf       low  BUFvsMIA    AFC EastvsAFC East   \n",
       "2           medium           Grass       low  CHIvsDET  NFC NorthvsNFC North   \n",
       "3           medium           Grass       low  HOUvsIND  AFC SouthvsAFC South   \n",
       "4           medium           Grass       low  JAXvsDEN   AFC SouthvsAFC West   \n",
       "\n",
       "        C2C actual_o_u  \n",
       "0  NFCvsNFC         23  \n",
       "1  AFCvsAFC         25  \n",
       "2  NFCvsNFC         33  \n",
       "3  AFCvsAFC         58  \n",
       "4  AFCvsAFC         41  \n",
       "\n",
       "[5 rows x 21 columns]"
      ]
     },
     "execution_count": 716,
     "metadata": {},
     "output_type": "execute_result"
    }
   ],
   "source": [
    "data['actual_o_u'] = data['score_home']+data['score_away']\n",
    "data.head()"
   ]
  },
  {
   "cell_type": "markdown",
   "metadata": {},
   "source": [
    "Next, we'll add a feature (boolean value) for whether or not the actual over/under line was below the projected line."
   ]
  },
  {
   "cell_type": "code",
   "execution_count": 717,
   "metadata": {},
   "outputs": [],
   "source": [
    "#If the actual over/under of the game is <= the predicted outcome, then the result will be True, meaning\n",
    "#the 'under' or 'push' occured\n",
    "data['over_under_line'] = data['over_under_line'].astype(float)\n",
    "data.loc[(data.actual_o_u <= data.over_under_line), 'Actual_OverUnder'] = True\n",
    "#If the actual is > the predicted, then the result will be False, meaning the 'over' occured\n",
    "data.loc[(data.actual_o_u > data.over_under_line), 'Actual_OverUnder'] = False"
   ]
  },
  {
   "cell_type": "markdown",
   "metadata": {},
   "source": [
    "Next, a feature for whether or not the favorited team actaully won the game (boolean value)."
   ]
  },
  {
   "cell_type": "code",
   "execution_count": 718,
   "metadata": {},
   "outputs": [],
   "source": [
    "data['actual_spread'] = data['score_home'] - data['score_away']\n",
    "data.loc[data.actual_spread < 0, 'actual_winner'] = data['Team ID_Away'].loc[data.actual_spread < 0]\n",
    "data.loc[data.actual_spread == 0, 'actual_winner'] = 'tie'\n",
    "data.loc[data.actual_spread > 0, 'actual_winner'] = data['Team ID_Home'].loc[data.actual_spread > 0]"
   ]
  },
  {
   "cell_type": "code",
   "execution_count": 719,
   "metadata": {},
   "outputs": [],
   "source": [
    "data.loc[data.actual_winner == data.team_favorite_id, 'FavoriteWon'] = True\n",
    "data.loc[data.actual_winner != data.team_favorite_id, 'FavoriteWon'] = False\n",
    "# ties are converted to False because the favorited team didn't win"
   ]
  },
  {
   "cell_type": "markdown",
   "metadata": {},
   "source": [
    "When betting on the winner of a game, the winner must win by the projected spread for you to win the bet. Thus, adding an 'Actual_Outcome' column is necessary for determining whether or not the bettor should make the bet."
   ]
  },
  {
   "cell_type": "code",
   "execution_count": 720,
   "metadata": {},
   "outputs": [
    {
     "data": {
      "text/html": [
       "<div>\n",
       "<style scoped>\n",
       "    .dataframe tbody tr th:only-of-type {\n",
       "        vertical-align: middle;\n",
       "    }\n",
       "\n",
       "    .dataframe tbody tr th {\n",
       "        vertical-align: top;\n",
       "    }\n",
       "\n",
       "    .dataframe thead th {\n",
       "        text-align: right;\n",
       "    }\n",
       "</style>\n",
       "<table border=\"1\" class=\"dataframe\">\n",
       "  <thead>\n",
       "    <tr style=\"text-align: right;\">\n",
       "      <th></th>\n",
       "      <th>schedule_season</th>\n",
       "      <th>schedule_week</th>\n",
       "      <th>score_home</th>\n",
       "      <th>score_away</th>\n",
       "      <th>team_favorite_id</th>\n",
       "      <th>spread_favorite</th>\n",
       "      <th>over_under_line</th>\n",
       "      <th>stadium</th>\n",
       "      <th>weather_temperature</th>\n",
       "      <th>weather_wind_mph</th>\n",
       "      <th>...</th>\n",
       "      <th>ELEVATION</th>\n",
       "      <th>H2H</th>\n",
       "      <th>D2D</th>\n",
       "      <th>C2C</th>\n",
       "      <th>actual_o_u</th>\n",
       "      <th>Actual_OverUnder</th>\n",
       "      <th>actual_spread</th>\n",
       "      <th>actual_winner</th>\n",
       "      <th>FavoriteWon</th>\n",
       "      <th>Actual_Outcome</th>\n",
       "    </tr>\n",
       "  </thead>\n",
       "  <tbody>\n",
       "    <tr>\n",
       "      <th>0</th>\n",
       "      <td>2010</td>\n",
       "      <td>1</td>\n",
       "      <td>14</td>\n",
       "      <td>9</td>\n",
       "      <td>NO</td>\n",
       "      <td>-5.0</td>\n",
       "      <td>49.5</td>\n",
       "      <td>Louisiana Superdome</td>\n",
       "      <td>warm</td>\n",
       "      <td>calm</td>\n",
       "      <td>...</td>\n",
       "      <td>low</td>\n",
       "      <td>NOvsMIN</td>\n",
       "      <td>NFC SouthvsNFC North</td>\n",
       "      <td>NFCvsNFC</td>\n",
       "      <td>23</td>\n",
       "      <td>True</td>\n",
       "      <td>5</td>\n",
       "      <td>NO</td>\n",
       "      <td>True</td>\n",
       "      <td>True</td>\n",
       "    </tr>\n",
       "    <tr>\n",
       "      <th>1</th>\n",
       "      <td>2010</td>\n",
       "      <td>1</td>\n",
       "      <td>10</td>\n",
       "      <td>15</td>\n",
       "      <td>MIA</td>\n",
       "      <td>-3.0</td>\n",
       "      <td>39.0</td>\n",
       "      <td>Ralph Wilson Stadium</td>\n",
       "      <td>warm</td>\n",
       "      <td>light</td>\n",
       "      <td>...</td>\n",
       "      <td>low</td>\n",
       "      <td>BUFvsMIA</td>\n",
       "      <td>AFC EastvsAFC East</td>\n",
       "      <td>AFCvsAFC</td>\n",
       "      <td>25</td>\n",
       "      <td>True</td>\n",
       "      <td>-5</td>\n",
       "      <td>MIA</td>\n",
       "      <td>True</td>\n",
       "      <td>False</td>\n",
       "    </tr>\n",
       "    <tr>\n",
       "      <th>2</th>\n",
       "      <td>2010</td>\n",
       "      <td>1</td>\n",
       "      <td>19</td>\n",
       "      <td>14</td>\n",
       "      <td>CHI</td>\n",
       "      <td>-6.5</td>\n",
       "      <td>45.0</td>\n",
       "      <td>Soldier Field</td>\n",
       "      <td>warm</td>\n",
       "      <td>calm</td>\n",
       "      <td>...</td>\n",
       "      <td>low</td>\n",
       "      <td>CHIvsDET</td>\n",
       "      <td>NFC NorthvsNFC North</td>\n",
       "      <td>NFCvsNFC</td>\n",
       "      <td>33</td>\n",
       "      <td>True</td>\n",
       "      <td>5</td>\n",
       "      <td>CHI</td>\n",
       "      <td>True</td>\n",
       "      <td>True</td>\n",
       "    </tr>\n",
       "    <tr>\n",
       "      <th>3</th>\n",
       "      <td>2010</td>\n",
       "      <td>1</td>\n",
       "      <td>34</td>\n",
       "      <td>24</td>\n",
       "      <td>IND</td>\n",
       "      <td>-1.0</td>\n",
       "      <td>48.0</td>\n",
       "      <td>Reliant Stadium</td>\n",
       "      <td>hot</td>\n",
       "      <td>light</td>\n",
       "      <td>...</td>\n",
       "      <td>low</td>\n",
       "      <td>HOUvsIND</td>\n",
       "      <td>AFC SouthvsAFC South</td>\n",
       "      <td>AFCvsAFC</td>\n",
       "      <td>58</td>\n",
       "      <td>False</td>\n",
       "      <td>10</td>\n",
       "      <td>HOU</td>\n",
       "      <td>False</td>\n",
       "      <td>False</td>\n",
       "    </tr>\n",
       "    <tr>\n",
       "      <th>4</th>\n",
       "      <td>2010</td>\n",
       "      <td>1</td>\n",
       "      <td>24</td>\n",
       "      <td>17</td>\n",
       "      <td>JAX</td>\n",
       "      <td>-3.0</td>\n",
       "      <td>41.5</td>\n",
       "      <td>EverBank Field</td>\n",
       "      <td>hot</td>\n",
       "      <td>calm</td>\n",
       "      <td>...</td>\n",
       "      <td>low</td>\n",
       "      <td>JAXvsDEN</td>\n",
       "      <td>AFC SouthvsAFC West</td>\n",
       "      <td>AFCvsAFC</td>\n",
       "      <td>41</td>\n",
       "      <td>True</td>\n",
       "      <td>7</td>\n",
       "      <td>JAX</td>\n",
       "      <td>True</td>\n",
       "      <td>False</td>\n",
       "    </tr>\n",
       "  </tbody>\n",
       "</table>\n",
       "<p>5 rows × 26 columns</p>\n",
       "</div>"
      ],
      "text/plain": [
       "   schedule_season schedule_week  score_home  score_away team_favorite_id  \\\n",
       "0             2010             1          14           9               NO   \n",
       "1             2010             1          10          15              MIA   \n",
       "2             2010             1          19          14              CHI   \n",
       "3             2010             1          34          24              IND   \n",
       "4             2010             1          24          17              JAX   \n",
       "\n",
       "   spread_favorite  over_under_line               stadium weather_temperature  \\\n",
       "0             -5.0             49.5   Louisiana Superdome                warm   \n",
       "1             -3.0             39.0  Ralph Wilson Stadium                warm   \n",
       "2             -6.5             45.0         Soldier Field                warm   \n",
       "3             -1.0             48.0       Reliant Stadium                 hot   \n",
       "4             -3.0             41.5        EverBank Field                 hot   \n",
       "\n",
       "  weather_wind_mph  ... ELEVATION       H2H                   D2D       C2C  \\\n",
       "0             calm  ...       low   NOvsMIN  NFC SouthvsNFC North  NFCvsNFC   \n",
       "1            light  ...       low  BUFvsMIA    AFC EastvsAFC East  AFCvsAFC   \n",
       "2             calm  ...       low  CHIvsDET  NFC NorthvsNFC North  NFCvsNFC   \n",
       "3            light  ...       low  HOUvsIND  AFC SouthvsAFC South  AFCvsAFC   \n",
       "4             calm  ...       low  JAXvsDEN   AFC SouthvsAFC West  AFCvsAFC   \n",
       "\n",
       "  actual_o_u Actual_OverUnder actual_spread actual_winner FavoriteWon  \\\n",
       "0         23             True             5            NO        True   \n",
       "1         25             True            -5           MIA        True   \n",
       "2         33             True             5           CHI        True   \n",
       "3         58            False            10           HOU       False   \n",
       "4         41             True             7           JAX        True   \n",
       "\n",
       "  Actual_Outcome  \n",
       "0           True  \n",
       "1          False  \n",
       "2           True  \n",
       "3          False  \n",
       "4          False  \n",
       "\n",
       "[5 rows x 26 columns]"
      ]
     },
     "execution_count": 720,
     "metadata": {},
     "output_type": "execute_result"
    }
   ],
   "source": [
    "data.loc[(data.FavoriteWon == True) & (abs(data.actual_spread) <= abs(data.spread_favorite)), 'Actual_Outcome'] = True\n",
    "data.loc[(data.FavoriteWon == True) & (abs(data.actual_spread) > abs(data.spread_favorite)), 'Actual_Outcome'] = False\n",
    "data.loc[data.FavoriteWon == False, 'Actual_Outcome'] = False #if the favorite team didn't win, then the outcome also is false\n",
    "data.head()\n",
    "#ties again are considered False because the betting outcome that equals the spread is a \"push\""
   ]
  },
  {
   "cell_type": "markdown",
   "metadata": {},
   "source": [
    "Since most of these columns have a specific number of different features, reducing the ones with the most variability will be necessary to build a successful machine learning model."
   ]
  },
  {
   "cell_type": "code",
   "execution_count": 721,
   "metadata": {},
   "outputs": [
    {
     "name": "stdout",
     "output_type": "stream",
     "text": [
      "44\n",
      "33\n",
      "980\n",
      "64\n",
      "4\n",
      "33\n"
     ]
    }
   ],
   "source": [
    "print(len(data.stadium.value_counts()))\n",
    "print(len(data.stadium_location.value_counts()))\n",
    "print(len(data.H2H.value_counts()))\n",
    "print(len(data.D2D.value_counts()))\n",
    "print(len(data.C2C.value_counts()))\n",
    "print(len(data.actual_winner.value_counts()))"
   ]
  },
  {
   "cell_type": "markdown",
   "metadata": {},
   "source": [
    "Need to remove several columns - too many categorical variables."
   ]
  },
  {
   "cell_type": "code",
   "execution_count": 722,
   "metadata": {},
   "outputs": [
    {
     "data": {
      "text/html": [
       "<div>\n",
       "<style scoped>\n",
       "    .dataframe tbody tr th:only-of-type {\n",
       "        vertical-align: middle;\n",
       "    }\n",
       "\n",
       "    .dataframe tbody tr th {\n",
       "        vertical-align: top;\n",
       "    }\n",
       "\n",
       "    .dataframe thead th {\n",
       "        text-align: right;\n",
       "    }\n",
       "</style>\n",
       "<table border=\"1\" class=\"dataframe\">\n",
       "  <thead>\n",
       "    <tr style=\"text-align: right;\">\n",
       "      <th></th>\n",
       "      <th>schedule_season</th>\n",
       "      <th>schedule_week</th>\n",
       "      <th>score_home</th>\n",
       "      <th>score_away</th>\n",
       "      <th>team_favorite_id</th>\n",
       "      <th>spread_favorite</th>\n",
       "      <th>over_under_line</th>\n",
       "      <th>weather_temperature</th>\n",
       "      <th>weather_wind_mph</th>\n",
       "      <th>Team ID_Home</th>\n",
       "      <th>...</th>\n",
       "      <th>stadium_type</th>\n",
       "      <th>stadium_capacity</th>\n",
       "      <th>stadium_surface</th>\n",
       "      <th>ELEVATION</th>\n",
       "      <th>C2C</th>\n",
       "      <th>actual_o_u</th>\n",
       "      <th>Actual_OverUnder</th>\n",
       "      <th>actual_spread</th>\n",
       "      <th>FavoriteWon</th>\n",
       "      <th>Actual_Outcome</th>\n",
       "    </tr>\n",
       "  </thead>\n",
       "  <tbody>\n",
       "    <tr>\n",
       "      <th>0</th>\n",
       "      <td>2010</td>\n",
       "      <td>1</td>\n",
       "      <td>14</td>\n",
       "      <td>9</td>\n",
       "      <td>NO</td>\n",
       "      <td>-5.0</td>\n",
       "      <td>49.5</td>\n",
       "      <td>warm</td>\n",
       "      <td>calm</td>\n",
       "      <td>NO</td>\n",
       "      <td>...</td>\n",
       "      <td>indoor</td>\n",
       "      <td>high</td>\n",
       "      <td>FieldTurf</td>\n",
       "      <td>low</td>\n",
       "      <td>NFCvsNFC</td>\n",
       "      <td>23</td>\n",
       "      <td>True</td>\n",
       "      <td>5</td>\n",
       "      <td>True</td>\n",
       "      <td>True</td>\n",
       "    </tr>\n",
       "    <tr>\n",
       "      <th>1</th>\n",
       "      <td>2010</td>\n",
       "      <td>1</td>\n",
       "      <td>10</td>\n",
       "      <td>15</td>\n",
       "      <td>MIA</td>\n",
       "      <td>-3.0</td>\n",
       "      <td>39.0</td>\n",
       "      <td>warm</td>\n",
       "      <td>light</td>\n",
       "      <td>BUF</td>\n",
       "      <td>...</td>\n",
       "      <td>outdoor</td>\n",
       "      <td>medium</td>\n",
       "      <td>FieldTurf</td>\n",
       "      <td>low</td>\n",
       "      <td>AFCvsAFC</td>\n",
       "      <td>25</td>\n",
       "      <td>True</td>\n",
       "      <td>-5</td>\n",
       "      <td>True</td>\n",
       "      <td>False</td>\n",
       "    </tr>\n",
       "    <tr>\n",
       "      <th>2</th>\n",
       "      <td>2010</td>\n",
       "      <td>1</td>\n",
       "      <td>19</td>\n",
       "      <td>14</td>\n",
       "      <td>CHI</td>\n",
       "      <td>-6.5</td>\n",
       "      <td>45.0</td>\n",
       "      <td>warm</td>\n",
       "      <td>calm</td>\n",
       "      <td>CHI</td>\n",
       "      <td>...</td>\n",
       "      <td>outdoor</td>\n",
       "      <td>medium</td>\n",
       "      <td>Grass</td>\n",
       "      <td>low</td>\n",
       "      <td>NFCvsNFC</td>\n",
       "      <td>33</td>\n",
       "      <td>True</td>\n",
       "      <td>5</td>\n",
       "      <td>True</td>\n",
       "      <td>True</td>\n",
       "    </tr>\n",
       "    <tr>\n",
       "      <th>3</th>\n",
       "      <td>2010</td>\n",
       "      <td>1</td>\n",
       "      <td>34</td>\n",
       "      <td>24</td>\n",
       "      <td>IND</td>\n",
       "      <td>-1.0</td>\n",
       "      <td>48.0</td>\n",
       "      <td>hot</td>\n",
       "      <td>light</td>\n",
       "      <td>HOU</td>\n",
       "      <td>...</td>\n",
       "      <td>retractable</td>\n",
       "      <td>medium</td>\n",
       "      <td>Grass</td>\n",
       "      <td>low</td>\n",
       "      <td>AFCvsAFC</td>\n",
       "      <td>58</td>\n",
       "      <td>False</td>\n",
       "      <td>10</td>\n",
       "      <td>False</td>\n",
       "      <td>False</td>\n",
       "    </tr>\n",
       "    <tr>\n",
       "      <th>4</th>\n",
       "      <td>2010</td>\n",
       "      <td>1</td>\n",
       "      <td>24</td>\n",
       "      <td>17</td>\n",
       "      <td>JAX</td>\n",
       "      <td>-3.0</td>\n",
       "      <td>41.5</td>\n",
       "      <td>hot</td>\n",
       "      <td>calm</td>\n",
       "      <td>JAX</td>\n",
       "      <td>...</td>\n",
       "      <td>outdoor</td>\n",
       "      <td>medium</td>\n",
       "      <td>Grass</td>\n",
       "      <td>low</td>\n",
       "      <td>AFCvsAFC</td>\n",
       "      <td>41</td>\n",
       "      <td>True</td>\n",
       "      <td>7</td>\n",
       "      <td>True</td>\n",
       "      <td>False</td>\n",
       "    </tr>\n",
       "  </tbody>\n",
       "</table>\n",
       "<p>5 rows × 22 columns</p>\n",
       "</div>"
      ],
      "text/plain": [
       "   schedule_season  schedule_week  score_home  score_away team_favorite_id  \\\n",
       "0             2010              1          14           9               NO   \n",
       "1             2010              1          10          15              MIA   \n",
       "2             2010              1          19          14              CHI   \n",
       "3             2010              1          34          24              IND   \n",
       "4             2010              1          24          17              JAX   \n",
       "\n",
       "   spread_favorite  over_under_line weather_temperature weather_wind_mph  \\\n",
       "0             -5.0             49.5                warm             calm   \n",
       "1             -3.0             39.0                warm            light   \n",
       "2             -6.5             45.0                warm             calm   \n",
       "3             -1.0             48.0                 hot            light   \n",
       "4             -3.0             41.5                 hot             calm   \n",
       "\n",
       "  Team ID_Home  ... stadium_type stadium_capacity stadium_surface ELEVATION  \\\n",
       "0           NO  ...       indoor             high       FieldTurf       low   \n",
       "1          BUF  ...      outdoor           medium       FieldTurf       low   \n",
       "2          CHI  ...      outdoor           medium           Grass       low   \n",
       "3          HOU  ...  retractable           medium           Grass       low   \n",
       "4          JAX  ...      outdoor           medium           Grass       low   \n",
       "\n",
       "        C2C actual_o_u Actual_OverUnder  actual_spread  FavoriteWon  \\\n",
       "0  NFCvsNFC         23             True              5         True   \n",
       "1  AFCvsAFC         25             True             -5         True   \n",
       "2  NFCvsNFC         33             True              5         True   \n",
       "3  AFCvsAFC         58            False             10        False   \n",
       "4  AFCvsAFC         41             True              7         True   \n",
       "\n",
       "   Actual_Outcome  \n",
       "0            True  \n",
       "1           False  \n",
       "2            True  \n",
       "3           False  \n",
       "4           False  \n",
       "\n",
       "[5 rows x 22 columns]"
      ]
     },
     "execution_count": 722,
     "metadata": {},
     "output_type": "execute_result"
    }
   ],
   "source": [
    "data_final = data.drop(labels=['stadium','H2H','D2D','actual_winner'], axis=1)\n",
    "data_final['schedule_week'] = data_final['schedule_week'].convert_objects(convert_numeric=True)\n",
    "data_final['over_under_line'] = data_final['over_under_line'].convert_objects(convert_numeric=True)\n",
    "data_final.head()"
   ]
  },
  {
   "cell_type": "markdown",
   "metadata": {},
   "source": [
    "Now, time to convert all of the categorical columns into \"dummies\" in order to build machine learning models using these data. "
   ]
  },
  {
   "cell_type": "code",
   "execution_count": 723,
   "metadata": {},
   "outputs": [
    {
     "data": {
      "text/html": [
       "<div>\n",
       "<style scoped>\n",
       "    .dataframe tbody tr th:only-of-type {\n",
       "        vertical-align: middle;\n",
       "    }\n",
       "\n",
       "    .dataframe tbody tr th {\n",
       "        vertical-align: top;\n",
       "    }\n",
       "\n",
       "    .dataframe thead th {\n",
       "        text-align: right;\n",
       "    }\n",
       "</style>\n",
       "<table border=\"1\" class=\"dataframe\">\n",
       "  <thead>\n",
       "    <tr style=\"text-align: right;\">\n",
       "      <th></th>\n",
       "      <th>schedule_season</th>\n",
       "      <th>schedule_week</th>\n",
       "      <th>score_home</th>\n",
       "      <th>score_away</th>\n",
       "      <th>spread_favorite</th>\n",
       "      <th>over_under_line</th>\n",
       "      <th>actual_o_u</th>\n",
       "      <th>Actual_OverUnder</th>\n",
       "      <th>actual_spread</th>\n",
       "      <th>FavoriteWon</th>\n",
       "      <th>...</th>\n",
       "      <th>stadium_capacity_very low</th>\n",
       "      <th>stadium_surface_FieldTurf</th>\n",
       "      <th>stadium_surface_Grass</th>\n",
       "      <th>ELEVATION_high</th>\n",
       "      <th>ELEVATION_low</th>\n",
       "      <th>ELEVATION_medium</th>\n",
       "      <th>C2C_AFCvsAFC</th>\n",
       "      <th>C2C_AFCvsNFC</th>\n",
       "      <th>C2C_NFCvsAFC</th>\n",
       "      <th>C2C_NFCvsNFC</th>\n",
       "    </tr>\n",
       "  </thead>\n",
       "  <tbody>\n",
       "    <tr>\n",
       "      <th>0</th>\n",
       "      <td>2010</td>\n",
       "      <td>1</td>\n",
       "      <td>14</td>\n",
       "      <td>9</td>\n",
       "      <td>-5.0</td>\n",
       "      <td>49.5</td>\n",
       "      <td>23</td>\n",
       "      <td>True</td>\n",
       "      <td>5</td>\n",
       "      <td>True</td>\n",
       "      <td>...</td>\n",
       "      <td>0</td>\n",
       "      <td>1</td>\n",
       "      <td>0</td>\n",
       "      <td>0</td>\n",
       "      <td>1</td>\n",
       "      <td>0</td>\n",
       "      <td>0</td>\n",
       "      <td>0</td>\n",
       "      <td>0</td>\n",
       "      <td>1</td>\n",
       "    </tr>\n",
       "    <tr>\n",
       "      <th>1</th>\n",
       "      <td>2010</td>\n",
       "      <td>1</td>\n",
       "      <td>10</td>\n",
       "      <td>15</td>\n",
       "      <td>-3.0</td>\n",
       "      <td>39.0</td>\n",
       "      <td>25</td>\n",
       "      <td>True</td>\n",
       "      <td>-5</td>\n",
       "      <td>True</td>\n",
       "      <td>...</td>\n",
       "      <td>0</td>\n",
       "      <td>1</td>\n",
       "      <td>0</td>\n",
       "      <td>0</td>\n",
       "      <td>1</td>\n",
       "      <td>0</td>\n",
       "      <td>1</td>\n",
       "      <td>0</td>\n",
       "      <td>0</td>\n",
       "      <td>0</td>\n",
       "    </tr>\n",
       "    <tr>\n",
       "      <th>2</th>\n",
       "      <td>2010</td>\n",
       "      <td>1</td>\n",
       "      <td>19</td>\n",
       "      <td>14</td>\n",
       "      <td>-6.5</td>\n",
       "      <td>45.0</td>\n",
       "      <td>33</td>\n",
       "      <td>True</td>\n",
       "      <td>5</td>\n",
       "      <td>True</td>\n",
       "      <td>...</td>\n",
       "      <td>0</td>\n",
       "      <td>0</td>\n",
       "      <td>1</td>\n",
       "      <td>0</td>\n",
       "      <td>1</td>\n",
       "      <td>0</td>\n",
       "      <td>0</td>\n",
       "      <td>0</td>\n",
       "      <td>0</td>\n",
       "      <td>1</td>\n",
       "    </tr>\n",
       "    <tr>\n",
       "      <th>3</th>\n",
       "      <td>2010</td>\n",
       "      <td>1</td>\n",
       "      <td>34</td>\n",
       "      <td>24</td>\n",
       "      <td>-1.0</td>\n",
       "      <td>48.0</td>\n",
       "      <td>58</td>\n",
       "      <td>False</td>\n",
       "      <td>10</td>\n",
       "      <td>False</td>\n",
       "      <td>...</td>\n",
       "      <td>0</td>\n",
       "      <td>0</td>\n",
       "      <td>1</td>\n",
       "      <td>0</td>\n",
       "      <td>1</td>\n",
       "      <td>0</td>\n",
       "      <td>1</td>\n",
       "      <td>0</td>\n",
       "      <td>0</td>\n",
       "      <td>0</td>\n",
       "    </tr>\n",
       "    <tr>\n",
       "      <th>4</th>\n",
       "      <td>2010</td>\n",
       "      <td>1</td>\n",
       "      <td>24</td>\n",
       "      <td>17</td>\n",
       "      <td>-3.0</td>\n",
       "      <td>41.5</td>\n",
       "      <td>41</td>\n",
       "      <td>True</td>\n",
       "      <td>7</td>\n",
       "      <td>True</td>\n",
       "      <td>...</td>\n",
       "      <td>0</td>\n",
       "      <td>0</td>\n",
       "      <td>1</td>\n",
       "      <td>0</td>\n",
       "      <td>1</td>\n",
       "      <td>0</td>\n",
       "      <td>1</td>\n",
       "      <td>0</td>\n",
       "      <td>0</td>\n",
       "      <td>0</td>\n",
       "    </tr>\n",
       "  </tbody>\n",
       "</table>\n",
       "<p>5 rows × 169 columns</p>\n",
       "</div>"
      ],
      "text/plain": [
       "   schedule_season  schedule_week  score_home  score_away  spread_favorite  \\\n",
       "0             2010              1          14           9             -5.0   \n",
       "1             2010              1          10          15             -3.0   \n",
       "2             2010              1          19          14             -6.5   \n",
       "3             2010              1          34          24             -1.0   \n",
       "4             2010              1          24          17             -3.0   \n",
       "\n",
       "   over_under_line  actual_o_u  Actual_OverUnder  actual_spread  FavoriteWon  \\\n",
       "0             49.5          23              True              5         True   \n",
       "1             39.0          25              True             -5         True   \n",
       "2             45.0          33              True              5         True   \n",
       "3             48.0          58             False             10        False   \n",
       "4             41.5          41              True              7         True   \n",
       "\n",
       "   ...  stadium_capacity_very low  stadium_surface_FieldTurf  \\\n",
       "0  ...                          0                          1   \n",
       "1  ...                          0                          1   \n",
       "2  ...                          0                          0   \n",
       "3  ...                          0                          0   \n",
       "4  ...                          0                          0   \n",
       "\n",
       "   stadium_surface_Grass  ELEVATION_high  ELEVATION_low  ELEVATION_medium  \\\n",
       "0                      0               0              1                 0   \n",
       "1                      0               0              1                 0   \n",
       "2                      1               0              1                 0   \n",
       "3                      1               0              1                 0   \n",
       "4                      1               0              1                 0   \n",
       "\n",
       "   C2C_AFCvsAFC  C2C_AFCvsNFC  C2C_NFCvsAFC  C2C_NFCvsNFC  \n",
       "0             0             0             0             1  \n",
       "1             1             0             0             0  \n",
       "2             0             0             0             1  \n",
       "3             1             0             0             0  \n",
       "4             1             0             0             0  \n",
       "\n",
       "[5 rows x 169 columns]"
      ]
     },
     "execution_count": 723,
     "metadata": {},
     "output_type": "execute_result"
    }
   ],
   "source": [
    "dummy_columns = ['team_favorite_id',\n",
    "       'weather_temperature', 'weather_wind_mph', 'Team ID_Home',\n",
    "       'Team ID_Away', 'stadium_location', 'stadium_type', 'stadium_capacity',\n",
    "       'stadium_surface', 'ELEVATION', 'C2C']\n",
    "Data_Final = pd.get_dummies(data=data_final, columns = dummy_columns)\n",
    "Data_Final.head()"
   ]
  },
  {
   "cell_type": "markdown",
   "metadata": {},
   "source": [
    "## Machine Learning Model"
   ]
  },
  {
   "cell_type": "markdown",
   "metadata": {},
   "source": [
    "First, we need to identify the training features and testing features for our various ML models."
   ]
  },
  {
   "cell_type": "code",
   "execution_count": 724,
   "metadata": {},
   "outputs": [],
   "source": [
    "from scipy import stats\n",
    "from sklearn.ensemble import RandomForestClassifier\n",
    "from sklearn.model_selection import train_test_split\n",
    "from sklearn.model_selection import RandomizedSearchCV\n",
    "from sklearn.model_selection import ParameterGrid\n",
    "from sklearn.ensemble import RandomForestClassifier\n",
    "from sklearn.linear_model import LogisticRegression\n",
    "from sklearn.svm import l1_min_c\n",
    "from sklearn.metrics import roc_curve, auc\n",
    "from sklearn.preprocessing import StandardScaler\n",
    "from sklearn.metrics import confusion_matrix, accuracy_score"
   ]
  },
  {
   "cell_type": "code",
   "execution_count": 725,
   "metadata": {},
   "outputs": [],
   "source": [
    "test_fs = ['actual_o_u','actual_spread','FavoriteWon','Actual_Outcome','Actual_OverUnder']\n",
    "drops = ['schedule_season', 'score_home', 'score_away']\n",
    "train_fs = [x for x in final_columns if x not in test_fs]\n",
    "train_fs = [x for x in train_fs if x not in drops]"
   ]
  },
  {
   "cell_type": "code",
   "execution_count": 726,
   "metadata": {},
   "outputs": [],
   "source": [
    "# Here I am separating the last year's games from the dataset so I can build the model with the \n",
    "# historical information and then attempt to predict the results of the 2018 season\n",
    "train_data = Data_Final.loc[lambda Data_Final: Data_Final['schedule_season'] < 2018]\n",
    "test_data = Data_Final.loc[lambda Data_Final: Data_Final['schedule_season'] >= 2018]"
   ]
  },
  {
   "cell_type": "code",
   "execution_count": 727,
   "metadata": {},
   "outputs": [],
   "source": [
    "# We no longer need the season year for this data after the split\n",
    "train_data = train_data.drop(labels = drops, axis=1)\n",
    "test_data = test_data.drop(labels = drops, axis=1)"
   ]
  },
  {
   "cell_type": "code",
   "execution_count": 728,
   "metadata": {},
   "outputs": [],
   "source": [
    "X_train = train_data[train_fs]\n",
    "y1_train = train_data['actual_o_u'].values\n",
    "y2_train = train_data['actual_spread'].values\n",
    "y3_train = train_data['FavoriteWon'].values\n",
    "y4_train = train_data['Actual_Outcome'].values\n",
    "y5_train = train_data['Actual_OverUnder'].values"
   ]
  },
  {
   "cell_type": "code",
   "execution_count": 729,
   "metadata": {},
   "outputs": [],
   "source": [
    "X_test = test_data[train_fs]\n",
    "y1_test = test_data['actual_o_u'].values\n",
    "y2_test = test_data['actual_spread'].values\n",
    "y3_test = test_data['FavoriteWon'].values\n",
    "y4_test = test_data['Actual_Outcome'].values\n",
    "y5_test = test_data['Actual_OverUnder'].values"
   ]
  },
  {
   "cell_type": "code",
   "execution_count": 730,
   "metadata": {},
   "outputs": [],
   "source": [
    "# scale data to be Gaussian-like\n",
    "#scaler = StandardScaler()\n",
    "#X = scaler.fit_transform(X)\n",
    "X_train['over_under_line'] = X_train['over_under_line'].round().astype(int)\n",
    "X_test['over_under_line'] = X_test['over_under_line'].round().astype(int)\n",
    "X_train = X_train.values\n",
    "X_test = X_test.values\n",
    "y1_train = y1_train.round().astype(int)\n",
    "y1_test = y1_test.round().astype(int)\n",
    "y2_train = y2_train.round().astype(int)\n",
    "y2_test = y2_test.round().astype(int)"
   ]
  },
  {
   "cell_type": "code",
   "execution_count": 731,
   "metadata": {},
   "outputs": [],
   "source": [
    "rf = RandomForestClassifier(n_estimators=100)\n",
    "param_dist = {\"n_estimators\": stats.randint(2, 300),\n",
    "              \"max_features\": ['sqrt',  'log2'],\n",
    "              \"min_samples_split\": stats.randint(5, 50),\n",
    "              \"bootstrap\": [True, False],\n",
    "              \"criterion\": [\"gini\", \"entropy\"]}\n",
    "random_rf = RandomizedSearchCV(rf, param_distributions=param_dist,\n",
    "                                   n_iter=20, cv=10, verbose=1, n_jobs=-1)"
   ]
  },
  {
   "cell_type": "markdown",
   "metadata": {},
   "source": [
    "#### Let's build our first classifier for predicting the actual over/under line"
   ]
  },
  {
   "cell_type": "code",
   "execution_count": 732,
   "metadata": {},
   "outputs": [
    {
     "name": "stdout",
     "output_type": "stream",
     "text": [
      "Fitting 10 folds for each of 20 candidates, totalling 200 fits\n"
     ]
    },
    {
     "name": "stderr",
     "output_type": "stream",
     "text": [
      "[Parallel(n_jobs=-1)]: Using backend LokyBackend with 4 concurrent workers.\n",
      "[Parallel(n_jobs=-1)]: Done  42 tasks      | elapsed:   16.6s\n",
      "[Parallel(n_jobs=-1)]: Done 192 tasks      | elapsed:  1.1min\n",
      "[Parallel(n_jobs=-1)]: Done 200 out of 200 | elapsed:  1.1min finished\n"
     ]
    },
    {
     "data": {
      "text/plain": [
       "RandomizedSearchCV(cv=10, error_score='raise-deprecating',\n",
       "          estimator=RandomForestClassifier(bootstrap=True, class_weight=None, criterion='gini',\n",
       "            max_depth=None, max_features='auto', max_leaf_nodes=None,\n",
       "            min_impurity_decrease=0.0, min_impurity_split=None,\n",
       "            min_samples_leaf=1, min_samples_split=2,\n",
       "            min_weight_fraction_leaf=0.0, n_estimators=100, n_jobs=None,\n",
       "            oob_score=False, random_state=None, verbose=0,\n",
       "            warm_start=False),\n",
       "          fit_params=None, iid='warn', n_iter=20, n_jobs=-1,\n",
       "          param_distributions={'n_estimators': <scipy.stats._distn_infrastructure.rv_frozen object at 0x1a675cba8>, 'max_features': ['sqrt', 'log2'], 'min_samples_split': <scipy.stats._distn_infrastructure.rv_frozen object at 0x1a675c668>, 'bootstrap': [True, False], 'criterion': ['gini', 'entropy']},\n",
       "          pre_dispatch='2*n_jobs', random_state=None, refit=True,\n",
       "          return_train_score='warn', scoring=None, verbose=1)"
      ]
     },
     "execution_count": 732,
     "metadata": {},
     "output_type": "execute_result"
    }
   ],
   "source": [
    "random_rf.fit(X_train, y1_train)"
   ]
  },
  {
   "cell_type": "code",
   "execution_count": 733,
   "metadata": {},
   "outputs": [
    {
     "data": {
      "text/plain": [
       "<matplotlib.axes._subplots.AxesSubplot at 0x1a5f7af28>"
      ]
     },
     "execution_count": 733,
     "metadata": {},
     "output_type": "execute_result"
    },
    {
     "data": {
      "image/png": "[encoded data removed]",
      "text/plain": [
       "<Figure size 432x288 with 1 Axes>"
      ]
     },
     "metadata": {},
     "output_type": "display_data"
    }
   ],
   "source": [
    "pd.DataFrame(random_rf.cv_results_['std_test_score'] * 100).plot(kind='bar')"
   ]
  },
  {
   "cell_type": "code",
   "execution_count": 734,
   "metadata": {},
   "outputs": [
    {
     "data": {
      "text/plain": [
       "RandomForestClassifier(bootstrap=True, class_weight=None, criterion='entropy',\n",
       "            max_depth=None, max_features='sqrt', max_leaf_nodes=None,\n",
       "            min_impurity_decrease=0.0, min_impurity_split=None,\n",
       "            min_samples_leaf=1, min_samples_split=39,\n",
       "            min_weight_fraction_leaf=0.0, n_estimators=107, n_jobs=None,\n",
       "            oob_score=False, random_state=None, verbose=0,\n",
       "            warm_start=False)"
      ]
     },
     "execution_count": 734,
     "metadata": {},
     "output_type": "execute_result"
    }
   ],
   "source": [
    "random_rf.best_estimator_"
   ]
  },
  {
   "cell_type": "markdown",
   "metadata": {},
   "source": [
    "#### Let's see how we performed..."
   ]
  },
  {
   "cell_type": "code",
   "execution_count": 735,
   "metadata": {},
   "outputs": [
    {
     "data": {
      "text/plain": [
       "0.03806228373702422"
      ]
     },
     "execution_count": 735,
     "metadata": {},
     "output_type": "execute_result"
    }
   ],
   "source": [
    "random_rf.best_score_ "
   ]
  },
  {
   "cell_type": "code",
   "execution_count": 736,
   "metadata": {},
   "outputs": [
    {
     "data": {
      "text/plain": [
       "0.015810276679841896"
      ]
     },
     "execution_count": 736,
     "metadata": {},
     "output_type": "execute_result"
    }
   ],
   "source": [
    "random_rf.score(X_test, y1_test)"
   ]
  },
  {
   "cell_type": "markdown",
   "metadata": {},
   "source": [
    "#### Let's build our next classifier for predicting the actual spread"
   ]
  },
  {
   "cell_type": "code",
   "execution_count": 737,
   "metadata": {},
   "outputs": [
    {
     "name": "stdout",
     "output_type": "stream",
     "text": [
      "Fitting 10 folds for each of 20 candidates, totalling 200 fits\n"
     ]
    },
    {
     "name": "stderr",
     "output_type": "stream",
     "text": [
      "[Parallel(n_jobs=-1)]: Using backend LokyBackend with 4 concurrent workers.\n",
      "[Parallel(n_jobs=-1)]: Done  42 tasks      | elapsed:   15.9s\n",
      "[Parallel(n_jobs=-1)]: Done 192 tasks      | elapsed:  1.2min\n",
      "[Parallel(n_jobs=-1)]: Done 200 out of 200 | elapsed:  1.3min finished\n"
     ]
    },
    {
     "data": {
      "text/plain": [
       "RandomizedSearchCV(cv=10, error_score='raise-deprecating',\n",
       "          estimator=RandomForestClassifier(bootstrap=True, class_weight=None, criterion='gini',\n",
       "            max_depth=None, max_features='auto', max_leaf_nodes=None,\n",
       "            min_impurity_decrease=0.0, min_impurity_split=None,\n",
       "            min_samples_leaf=1, min_samples_split=2,\n",
       "            min_weight_fraction_leaf=0.0, n_estimators=100, n_jobs=None,\n",
       "            oob_score=False, random_state=None, verbose=0,\n",
       "            warm_start=False),\n",
       "          fit_params=None, iid='warn', n_iter=20, n_jobs=-1,\n",
       "          param_distributions={'n_estimators': <scipy.stats._distn_infrastructure.rv_frozen object at 0x1a675cba8>, 'max_features': ['sqrt', 'log2'], 'min_samples_split': <scipy.stats._distn_infrastructure.rv_frozen object at 0x1a675c668>, 'bootstrap': [True, False], 'criterion': ['gini', 'entropy']},\n",
       "          pre_dispatch='2*n_jobs', random_state=None, refit=True,\n",
       "          return_train_score='warn', scoring=None, verbose=1)"
      ]
     },
     "execution_count": 737,
     "metadata": {},
     "output_type": "execute_result"
    }
   ],
   "source": [
    "random_rf.fit(X_train, y2_train)"
   ]
  },
  {
   "cell_type": "code",
   "execution_count": 738,
   "metadata": {},
   "outputs": [
    {
     "data": {
      "text/plain": [
       "<matplotlib.axes._subplots.AxesSubplot at 0x1a435d828>"
      ]
     },
     "execution_count": 738,
     "metadata": {},
     "output_type": "execute_result"
    },
    {
     "data": {
      "image/png": "[encoded data removed]",
      "text/plain": [
       "<Figure size 432x288 with 1 Axes>"
      ]
     },
     "metadata": {},
     "output_type": "display_data"
    }
   ],
   "source": [
    "pd.DataFrame(random_rf.cv_results_['std_test_score'] * 100).plot(kind='bar')"
   ]
  },
  {
   "cell_type": "code",
   "execution_count": 739,
   "metadata": {},
   "outputs": [
    {
     "data": {
      "text/plain": [
       "RandomForestClassifier(bootstrap=True, class_weight=None, criterion='entropy',\n",
       "            max_depth=None, max_features='log2', max_leaf_nodes=None,\n",
       "            min_impurity_decrease=0.0, min_impurity_split=None,\n",
       "            min_samples_leaf=1, min_samples_split=42,\n",
       "            min_weight_fraction_leaf=0.0, n_estimators=138, n_jobs=None,\n",
       "            oob_score=False, random_state=None, verbose=0,\n",
       "            warm_start=False)"
      ]
     },
     "execution_count": 739,
     "metadata": {},
     "output_type": "execute_result"
    }
   ],
   "source": [
    "random_rf.best_estimator_"
   ]
  },
  {
   "cell_type": "code",
   "execution_count": 740,
   "metadata": {},
   "outputs": [
    {
     "data": {
      "text/plain": [
       "0.0731586752347998"
      ]
     },
     "execution_count": 740,
     "metadata": {},
     "output_type": "execute_result"
    }
   ],
   "source": [
    "random_rf.best_score_ "
   ]
  },
  {
   "cell_type": "markdown",
   "metadata": {},
   "source": [
    "#### Let's see how we performed..."
   ]
  },
  {
   "cell_type": "code",
   "execution_count": 741,
   "metadata": {},
   "outputs": [
    {
     "data": {
      "text/plain": [
       "0.08695652173913043"
      ]
     },
     "execution_count": 741,
     "metadata": {},
     "output_type": "execute_result"
    }
   ],
   "source": [
    "random_rf.score(X_test, y2_test)"
   ]
  },
  {
   "cell_type": "markdown",
   "metadata": {},
   "source": [
    "#### Let's build our next classifier for predicting if the favored team will win"
   ]
  },
  {
   "cell_type": "code",
   "execution_count": 742,
   "metadata": {},
   "outputs": [
    {
     "name": "stdout",
     "output_type": "stream",
     "text": [
      "Fitting 10 folds for each of 20 candidates, totalling 200 fits\n"
     ]
    },
    {
     "name": "stderr",
     "output_type": "stream",
     "text": [
      "[Parallel(n_jobs=-1)]: Using backend LokyBackend with 4 concurrent workers.\n",
      "[Parallel(n_jobs=-1)]: Done  42 tasks      | elapsed:    9.0s\n",
      "[Parallel(n_jobs=-1)]: Done 192 tasks      | elapsed:   42.3s\n",
      "[Parallel(n_jobs=-1)]: Done 200 out of 200 | elapsed:   43.1s finished\n"
     ]
    },
    {
     "data": {
      "text/plain": [
       "RandomizedSearchCV(cv=10, error_score='raise-deprecating',\n",
       "          estimator=RandomForestClassifier(bootstrap=True, class_weight=None, criterion='gini',\n",
       "            max_depth=None, max_features='auto', max_leaf_nodes=None,\n",
       "            min_impurity_decrease=0.0, min_impurity_split=None,\n",
       "            min_samples_leaf=1, min_samples_split=2,\n",
       "            min_weight_fraction_leaf=0.0, n_estimators=100, n_jobs=None,\n",
       "            oob_score=False, random_state=None, verbose=0,\n",
       "            warm_start=False),\n",
       "          fit_params=None, iid='warn', n_iter=20, n_jobs=-1,\n",
       "          param_distributions={'n_estimators': <scipy.stats._distn_infrastructure.rv_frozen object at 0x1a675cba8>, 'max_features': ['sqrt', 'log2'], 'min_samples_split': <scipy.stats._distn_infrastructure.rv_frozen object at 0x1a675c668>, 'bootstrap': [True, False], 'criterion': ['gini', 'entropy']},\n",
       "          pre_dispatch='2*n_jobs', random_state=None, refit=True,\n",
       "          return_train_score='warn', scoring=None, verbose=1)"
      ]
     },
     "execution_count": 742,
     "metadata": {},
     "output_type": "execute_result"
    }
   ],
   "source": [
    "random_rf.fit(X_train, y3_train)"
   ]
  },
  {
   "cell_type": "code",
   "execution_count": 743,
   "metadata": {},
   "outputs": [
    {
     "data": {
      "text/plain": [
       "<matplotlib.axes._subplots.AxesSubplot at 0x1a5e099e8>"
      ]
     },
     "execution_count": 743,
     "metadata": {},
     "output_type": "execute_result"
    },
    {
     "data": {
      "image/png": "[encoded data removed]",
      "text/plain": [
       "<Figure size 432x288 with 1 Axes>"
      ]
     },
     "metadata": {},
     "output_type": "display_data"
    }
   ],
   "source": [
    "pd.DataFrame(random_rf.cv_results_['std_test_score'] * 100).plot(kind='bar')"
   ]
  },
  {
   "cell_type": "code",
   "execution_count": 744,
   "metadata": {},
   "outputs": [
    {
     "data": {
      "text/plain": [
       "RandomForestClassifier(bootstrap=True, class_weight=None, criterion='entropy',\n",
       "            max_depth=None, max_features='log2', max_leaf_nodes=None,\n",
       "            min_impurity_decrease=0.0, min_impurity_split=None,\n",
       "            min_samples_leaf=1, min_samples_split=43,\n",
       "            min_weight_fraction_leaf=0.0, n_estimators=39, n_jobs=None,\n",
       "            oob_score=False, random_state=None, verbose=0,\n",
       "            warm_start=False)"
      ]
     },
     "execution_count": 744,
     "metadata": {},
     "output_type": "execute_result"
    }
   ],
   "source": [
    "random_rf.best_estimator_"
   ]
  },
  {
   "cell_type": "code",
   "execution_count": 745,
   "metadata": {},
   "outputs": [
    {
     "data": {
      "text/plain": [
       "0.661888284725655"
      ]
     },
     "execution_count": 745,
     "metadata": {},
     "output_type": "execute_result"
    }
   ],
   "source": [
    "random_rf.best_score_ "
   ]
  },
  {
   "cell_type": "markdown",
   "metadata": {},
   "source": [
    "#### Let's see how we performed..."
   ]
  },
  {
   "cell_type": "code",
   "execution_count": 746,
   "metadata": {},
   "outputs": [
    {
     "data": {
      "text/plain": [
       "0.6561264822134387"
      ]
     },
     "execution_count": 746,
     "metadata": {},
     "output_type": "execute_result"
    }
   ],
   "source": [
    "random_rf.score(X_test, y3_test)"
   ]
  },
  {
   "cell_type": "markdown",
   "metadata": {},
   "source": [
    "#### Let's build our next classifier for predicting if the favored team will win within the predicted point spread"
   ]
  },
  {
   "cell_type": "code",
   "execution_count": 747,
   "metadata": {},
   "outputs": [
    {
     "name": "stdout",
     "output_type": "stream",
     "text": [
      "Fitting 10 folds for each of 20 candidates, totalling 200 fits\n"
     ]
    },
    {
     "name": "stderr",
     "output_type": "stream",
     "text": [
      "[Parallel(n_jobs=-1)]: Using backend LokyBackend with 4 concurrent workers.\n",
      "[Parallel(n_jobs=-1)]: Done  42 tasks      | elapsed:   11.3s\n",
      "[Parallel(n_jobs=-1)]: Done 192 tasks      | elapsed:   47.6s\n",
      "[Parallel(n_jobs=-1)]: Done 200 out of 200 | elapsed:   49.3s finished\n"
     ]
    },
    {
     "data": {
      "text/plain": [
       "RandomizedSearchCV(cv=10, error_score='raise-deprecating',\n",
       "          estimator=RandomForestClassifier(bootstrap=True, class_weight=None, criterion='gini',\n",
       "            max_depth=None, max_features='auto', max_leaf_nodes=None,\n",
       "            min_impurity_decrease=0.0, min_impurity_split=None,\n",
       "            min_samples_leaf=1, min_samples_split=2,\n",
       "            min_weight_fraction_leaf=0.0, n_estimators=100, n_jobs=None,\n",
       "            oob_score=False, random_state=None, verbose=0,\n",
       "            warm_start=False),\n",
       "          fit_params=None, iid='warn', n_iter=20, n_jobs=-1,\n",
       "          param_distributions={'n_estimators': <scipy.stats._distn_infrastructure.rv_frozen object at 0x1a675cba8>, 'max_features': ['sqrt', 'log2'], 'min_samples_split': <scipy.stats._distn_infrastructure.rv_frozen object at 0x1a675c668>, 'bootstrap': [True, False], 'criterion': ['gini', 'entropy']},\n",
       "          pre_dispatch='2*n_jobs', random_state=None, refit=True,\n",
       "          return_train_score='warn', scoring=None, verbose=1)"
      ]
     },
     "execution_count": 747,
     "metadata": {},
     "output_type": "execute_result"
    }
   ],
   "source": [
    "random_rf.fit(X_train, y4_train)"
   ]
  },
  {
   "cell_type": "code",
   "execution_count": 748,
   "metadata": {},
   "outputs": [
    {
     "data": {
      "text/plain": [
       "<matplotlib.axes._subplots.AxesSubplot at 0x1a8d69978>"
      ]
     },
     "execution_count": 748,
     "metadata": {},
     "output_type": "execute_result"
    },
    {
     "data": {
      "image/png": "[encoded data removed]",
      "text/plain": [
       "<Figure size 432x288 with 1 Axes>"
      ]
     },
     "metadata": {},
     "output_type": "display_data"
    }
   ],
   "source": [
    "pd.DataFrame(random_rf.cv_results_['std_test_score'] * 100).plot(kind='bar')"
   ]
  },
  {
   "cell_type": "code",
   "execution_count": 749,
   "metadata": {},
   "outputs": [
    {
     "data": {
      "text/plain": [
       "RandomForestClassifier(bootstrap=False, class_weight=None,\n",
       "            criterion='entropy', max_depth=None, max_features='sqrt',\n",
       "            max_leaf_nodes=None, min_impurity_decrease=0.0,\n",
       "            min_impurity_split=None, min_samples_leaf=1,\n",
       "            min_samples_split=43, min_weight_fraction_leaf=0.0,\n",
       "            n_estimators=152, n_jobs=None, oob_score=False,\n",
       "            random_state=None, verbose=0, warm_start=False)"
      ]
     },
     "execution_count": 749,
     "metadata": {},
     "output_type": "execute_result"
    }
   ],
   "source": [
    "random_rf.best_estimator_"
   ]
  },
  {
   "cell_type": "code",
   "execution_count": 750,
   "metadata": {},
   "outputs": [
    {
     "data": {
      "text/plain": [
       "0.8161146811665843"
      ]
     },
     "execution_count": 750,
     "metadata": {},
     "output_type": "execute_result"
    }
   ],
   "source": [
    "random_rf.best_score_ "
   ]
  },
  {
   "cell_type": "markdown",
   "metadata": {},
   "source": [
    "#### Let's see how we performed..."
   ]
  },
  {
   "cell_type": "code",
   "execution_count": 751,
   "metadata": {},
   "outputs": [
    {
     "data": {
      "text/plain": [
       "0.7944664031620553"
      ]
     },
     "execution_count": 751,
     "metadata": {},
     "output_type": "execute_result"
    }
   ],
   "source": [
    "random_rf.score(X_test, y4_test)"
   ]
  },
  {
   "cell_type": "markdown",
   "metadata": {},
   "source": [
    "#### Let's build our next classifier for predicting if actual over/under will be under the predicted over/under"
   ]
  },
  {
   "cell_type": "code",
   "execution_count": 752,
   "metadata": {},
   "outputs": [
    {
     "name": "stdout",
     "output_type": "stream",
     "text": [
      "Fitting 10 folds for each of 20 candidates, totalling 200 fits\n"
     ]
    },
    {
     "name": "stderr",
     "output_type": "stream",
     "text": [
      "[Parallel(n_jobs=-1)]: Using backend LokyBackend with 4 concurrent workers.\n",
      "[Parallel(n_jobs=-1)]: Done  42 tasks      | elapsed:    8.4s\n",
      "[Parallel(n_jobs=-1)]: Done 192 tasks      | elapsed:   48.2s\n",
      "[Parallel(n_jobs=-1)]: Done 200 out of 200 | elapsed:   50.7s finished\n"
     ]
    },
    {
     "data": {
      "text/plain": [
       "RandomizedSearchCV(cv=10, error_score='raise-deprecating',\n",
       "          estimator=RandomForestClassifier(bootstrap=True, class_weight=None, criterion='gini',\n",
       "            max_depth=None, max_features='auto', max_leaf_nodes=None,\n",
       "            min_impurity_decrease=0.0, min_impurity_split=None,\n",
       "            min_samples_leaf=1, min_samples_split=2,\n",
       "            min_weight_fraction_leaf=0.0, n_estimators=100, n_jobs=None,\n",
       "            oob_score=False, random_state=None, verbose=0,\n",
       "            warm_start=False),\n",
       "          fit_params=None, iid='warn', n_iter=20, n_jobs=-1,\n",
       "          param_distributions={'n_estimators': <scipy.stats._distn_infrastructure.rv_frozen object at 0x1a675cba8>, 'max_features': ['sqrt', 'log2'], 'min_samples_split': <scipy.stats._distn_infrastructure.rv_frozen object at 0x1a675c668>, 'bootstrap': [True, False], 'criterion': ['gini', 'entropy']},\n",
       "          pre_dispatch='2*n_jobs', random_state=None, refit=True,\n",
       "          return_train_score='warn', scoring=None, verbose=1)"
      ]
     },
     "execution_count": 752,
     "metadata": {},
     "output_type": "execute_result"
    }
   ],
   "source": [
    "random_rf.fit(X_train, y5_train)"
   ]
  },
  {
   "cell_type": "code",
   "execution_count": 753,
   "metadata": {},
   "outputs": [
    {
     "data": {
      "text/plain": [
       "<matplotlib.axes._subplots.AxesSubplot at 0x1a435d860>"
      ]
     },
     "execution_count": 753,
     "metadata": {},
     "output_type": "execute_result"
    },
    {
     "data": {
      "image/png": "[encoded data removed]",
      "text/plain": [
       "<Figure size 432x288 with 1 Axes>"
      ]
     },
     "metadata": {},
     "output_type": "display_data"
    }
   ],
   "source": [
    "pd.DataFrame(random_rf.cv_results_['std_test_score'] * 100).plot(kind='bar')"
   ]
  },
  {
   "cell_type": "code",
   "execution_count": 754,
   "metadata": {},
   "outputs": [
    {
     "data": {
      "text/plain": [
       "RandomForestClassifier(bootstrap=False, class_weight=None, criterion='gini',\n",
       "            max_depth=None, max_features='sqrt', max_leaf_nodes=None,\n",
       "            min_impurity_decrease=0.0, min_impurity_split=None,\n",
       "            min_samples_leaf=1, min_samples_split=44,\n",
       "            min_weight_fraction_leaf=0.0, n_estimators=156, n_jobs=None,\n",
       "            oob_score=False, random_state=None, verbose=0,\n",
       "            warm_start=False)"
      ]
     },
     "execution_count": 754,
     "metadata": {},
     "output_type": "execute_result"
    }
   ],
   "source": [
    "random_rf.best_estimator_"
   ]
  },
  {
   "cell_type": "code",
   "execution_count": 755,
   "metadata": {},
   "outputs": [
    {
     "data": {
      "text/plain": [
       "0.5101334651507662"
      ]
     },
     "execution_count": 755,
     "metadata": {},
     "output_type": "execute_result"
    }
   ],
   "source": [
    "random_rf.best_score_ "
   ]
  },
  {
   "cell_type": "markdown",
   "metadata": {},
   "source": [
    "#### Let's see how we performed..."
   ]
  },
  {
   "cell_type": "code",
   "execution_count": 756,
   "metadata": {},
   "outputs": [
    {
     "data": {
      "text/plain": [
       "0.525691699604743"
      ]
     },
     "execution_count": 756,
     "metadata": {},
     "output_type": "execute_result"
    }
   ],
   "source": [
    "random_rf.score(X_test, y5_test)"
   ]
  },
  {
   "cell_type": "markdown",
   "metadata": {},
   "source": [
    "## Results"
   ]
  },
  {
   "cell_type": "markdown",
   "metadata": {},
   "source": [
    "Accuracy of Prediction Models for Outcome of Betting Odds:\n",
    "- Actual Over Under Line = ~3%\n",
    "- Actual Point Spread = ~5%\n",
    "- Favorited Team Did/Didn't Win = ~63%\n",
    "- Favorited Team Did/Didn't Win within Projected Point Spread = ~79%\n",
    "- Actual Combined Score is Under or Equal to Projected Over/Under Line = ~50%"
   ]
  },
  {
   "cell_type": "markdown",
   "metadata": {},
   "source": [
    "Based on these results, it is clear that the prediction model can much more accurately whether or not an outcome will occur (True/False value) than it can the specific number outcomes for Over/Under and Spread. With a >75% prediction accuracy using this model, one can accurately predict whether or not the favored team will win within the projected point spread of and regular season game. This model is based on the week the game is played, the listed betting odds for the game (favored team, point spread, over/under line), the home team, the away team, stadium location (city), the stadium type (dome/open air), the stadium capacity, the field surface type, the game-time temperature, the game-time wind speed, the field elevation, and the conference matchup. There has been no analysis for which of these features are most valuable, but that is certainly a next step in improving the overall accuracy of the models. "
   ]
  },
  {
   "cell_type": "markdown",
   "metadata": {},
   "source": [
    "## Brining in External Data\n",
    "I am bringing in population data for the purpose of trying to improve the best prediction model from above using the population of the city in which the NFL games were played. "
   ]
  },
  {
   "cell_type": "code",
   "execution_count": 757,
   "metadata": {},
   "outputs": [
    {
     "data": {
      "text/html": [
       "<div>\n",
       "<style scoped>\n",
       "    .dataframe tbody tr th:only-of-type {\n",
       "        vertical-align: middle;\n",
       "    }\n",
       "\n",
       "    .dataframe tbody tr th {\n",
       "        vertical-align: top;\n",
       "    }\n",
       "\n",
       "    .dataframe thead th {\n",
       "        text-align: right;\n",
       "    }\n",
       "</style>\n",
       "<table border=\"1\" class=\"dataframe\">\n",
       "  <thead>\n",
       "    <tr style=\"text-align: right;\">\n",
       "      <th></th>\n",
       "      <th>StateAbbr</th>\n",
       "      <th>PlaceName</th>\n",
       "      <th>PlaceFIPS</th>\n",
       "      <th>Population2010</th>\n",
       "      <th>ACCESS2_CrudePrev</th>\n",
       "      <th>ACCESS2_Crude95CI</th>\n",
       "      <th>ACCESS2_AdjPrev</th>\n",
       "      <th>ACCESS2_Adj95CI</th>\n",
       "      <th>ARTHRITIS_CrudePrev</th>\n",
       "      <th>ARTHRITIS_Crude95CI</th>\n",
       "      <th>...</th>\n",
       "      <th>SLEEP_Adj95CI</th>\n",
       "      <th>STROKE_CrudePrev</th>\n",
       "      <th>STROKE_Crude95CI</th>\n",
       "      <th>STROKE_AdjPrev</th>\n",
       "      <th>STROKE_Adj95CI</th>\n",
       "      <th>TEETHLOST_CrudePrev</th>\n",
       "      <th>TEETHLOST_Crude95CI</th>\n",
       "      <th>TEETHLOST_AdjPrev</th>\n",
       "      <th>TEETHLOST_Adj95CI</th>\n",
       "      <th>Geolocation</th>\n",
       "    </tr>\n",
       "  </thead>\n",
       "  <tbody>\n",
       "    <tr>\n",
       "      <th>0</th>\n",
       "      <td>CA</td>\n",
       "      <td>Folsom</td>\n",
       "      <td>624638</td>\n",
       "      <td>72203</td>\n",
       "      <td>7.5</td>\n",
       "      <td>( 7.0,  8.0)</td>\n",
       "      <td>7.7</td>\n",
       "      <td>( 7.2,  8.2)</td>\n",
       "      <td>16.9</td>\n",
       "      <td>(16.6, 17.2)</td>\n",
       "      <td>...</td>\n",
       "      <td>(32.7, 33.5)</td>\n",
       "      <td>1.9</td>\n",
       "      <td>( 1.9,  2.0)</td>\n",
       "      <td>2.0</td>\n",
       "      <td>( 2.0,  2.1)</td>\n",
       "      <td>6.8</td>\n",
       "      <td>( 5.7,  8.0)</td>\n",
       "      <td>6.8</td>\n",
       "      <td>( 5.7,  7.9)</td>\n",
       "      <td>(38.67504943280, -121.147605753)</td>\n",
       "    </tr>\n",
       "    <tr>\n",
       "      <th>1</th>\n",
       "      <td>FL</td>\n",
       "      <td>Largo</td>\n",
       "      <td>1239425</td>\n",
       "      <td>77648</td>\n",
       "      <td>19.6</td>\n",
       "      <td>(19.1, 20.2)</td>\n",
       "      <td>20.9</td>\n",
       "      <td>(20.4, 21.5)</td>\n",
       "      <td>30.6</td>\n",
       "      <td>(30.3, 30.9)</td>\n",
       "      <td>...</td>\n",
       "      <td>(39.5, 40.1)</td>\n",
       "      <td>4.5</td>\n",
       "      <td>( 4.4,  4.7)</td>\n",
       "      <td>3.2</td>\n",
       "      <td>( 3.2,  3.3)</td>\n",
       "      <td>18.3</td>\n",
       "      <td>(16.9, 19.8)</td>\n",
       "      <td>18.0</td>\n",
       "      <td>(16.7, 19.4)</td>\n",
       "      <td>(27.90909077340, -82.7714203383)</td>\n",
       "    </tr>\n",
       "    <tr>\n",
       "      <th>2</th>\n",
       "      <td>CA</td>\n",
       "      <td>Berkeley</td>\n",
       "      <td>606000</td>\n",
       "      <td>112580</td>\n",
       "      <td>7.7</td>\n",
       "      <td>( 7.3,  8.1)</td>\n",
       "      <td>7.1</td>\n",
       "      <td>( 6.8,  7.3)</td>\n",
       "      <td>15.1</td>\n",
       "      <td>(15.0, 15.3)</td>\n",
       "      <td>...</td>\n",
       "      <td>(32.3, 32.7)</td>\n",
       "      <td>1.9</td>\n",
       "      <td>( 1.8,  1.9)</td>\n",
       "      <td>2.3</td>\n",
       "      <td>( 2.2,  2.3)</td>\n",
       "      <td>6.7</td>\n",
       "      <td>( 6.2,  7.2)</td>\n",
       "      <td>6.8</td>\n",
       "      <td>( 6.3,  7.4)</td>\n",
       "      <td>(37.87256787650, -122.274907975)</td>\n",
       "    </tr>\n",
       "    <tr>\n",
       "      <th>3</th>\n",
       "      <td>CA</td>\n",
       "      <td>Napa</td>\n",
       "      <td>650258</td>\n",
       "      <td>76915</td>\n",
       "      <td>12.3</td>\n",
       "      <td>(11.8, 12.8)</td>\n",
       "      <td>12.7</td>\n",
       "      <td>(12.1, 13.3)</td>\n",
       "      <td>20.7</td>\n",
       "      <td>(20.5, 21.0)</td>\n",
       "      <td>...</td>\n",
       "      <td>(32.7, 33.3)</td>\n",
       "      <td>2.8</td>\n",
       "      <td>( 2.7,  2.9)</td>\n",
       "      <td>2.6</td>\n",
       "      <td>( 2.5,  2.7)</td>\n",
       "      <td>11.2</td>\n",
       "      <td>(10.0, 12.5)</td>\n",
       "      <td>11.2</td>\n",
       "      <td>(10.0, 12.3)</td>\n",
       "      <td>(38.29804246490, -122.301093331)</td>\n",
       "    </tr>\n",
       "    <tr>\n",
       "      <th>4</th>\n",
       "      <td>FL</td>\n",
       "      <td>Sunrise</td>\n",
       "      <td>1269700</td>\n",
       "      <td>84439</td>\n",
       "      <td>22.8</td>\n",
       "      <td>(22.1, 23.5)</td>\n",
       "      <td>23.3</td>\n",
       "      <td>(22.6, 24.1)</td>\n",
       "      <td>22.8</td>\n",
       "      <td>(22.5, 23.1)</td>\n",
       "      <td>...</td>\n",
       "      <td>(38.3, 38.8)</td>\n",
       "      <td>3.7</td>\n",
       "      <td>( 3.5,  3.8)</td>\n",
       "      <td>3.3</td>\n",
       "      <td>( 3.2,  3.4)</td>\n",
       "      <td>16.2</td>\n",
       "      <td>(14.3, 18.5)</td>\n",
       "      <td>15.8</td>\n",
       "      <td>(14.2, 17.7)</td>\n",
       "      <td>(26.15468783030, -80.2998411020)</td>\n",
       "    </tr>\n",
       "  </tbody>\n",
       "</table>\n",
       "<p>5 rows × 117 columns</p>\n",
       "</div>"
      ],
      "text/plain": [
       "  StateAbbr PlaceName  PlaceFIPS  Population2010  ACCESS2_CrudePrev  \\\n",
       "0        CA    Folsom     624638           72203                7.5   \n",
       "1        FL     Largo    1239425           77648               19.6   \n",
       "2        CA  Berkeley     606000          112580                7.7   \n",
       "3        CA      Napa     650258           76915               12.3   \n",
       "4        FL   Sunrise    1269700           84439               22.8   \n",
       "\n",
       "  ACCESS2_Crude95CI  ACCESS2_AdjPrev ACCESS2_Adj95CI  ARTHRITIS_CrudePrev  \\\n",
       "0      ( 7.0,  8.0)              7.7    ( 7.2,  8.2)                 16.9   \n",
       "1      (19.1, 20.2)             20.9    (20.4, 21.5)                 30.6   \n",
       "2      ( 7.3,  8.1)              7.1    ( 6.8,  7.3)                 15.1   \n",
       "3      (11.8, 12.8)             12.7    (12.1, 13.3)                 20.7   \n",
       "4      (22.1, 23.5)             23.3    (22.6, 24.1)                 22.8   \n",
       "\n",
       "  ARTHRITIS_Crude95CI  ...  SLEEP_Adj95CI STROKE_CrudePrev  STROKE_Crude95CI  \\\n",
       "0        (16.6, 17.2)  ...   (32.7, 33.5)              1.9      ( 1.9,  2.0)   \n",
       "1        (30.3, 30.9)  ...   (39.5, 40.1)              4.5      ( 4.4,  4.7)   \n",
       "2        (15.0, 15.3)  ...   (32.3, 32.7)              1.9      ( 1.8,  1.9)   \n",
       "3        (20.5, 21.0)  ...   (32.7, 33.3)              2.8      ( 2.7,  2.9)   \n",
       "4        (22.5, 23.1)  ...   (38.3, 38.8)              3.7      ( 3.5,  3.8)   \n",
       "\n",
       "  STROKE_AdjPrev  STROKE_Adj95CI TEETHLOST_CrudePrev  TEETHLOST_Crude95CI  \\\n",
       "0            2.0    ( 2.0,  2.1)                 6.8         ( 5.7,  8.0)   \n",
       "1            3.2    ( 3.2,  3.3)                18.3         (16.9, 19.8)   \n",
       "2            2.3    ( 2.2,  2.3)                 6.7         ( 6.2,  7.2)   \n",
       "3            2.6    ( 2.5,  2.7)                11.2         (10.0, 12.5)   \n",
       "4            3.3    ( 3.2,  3.4)                16.2         (14.3, 18.5)   \n",
       "\n",
       "  TEETHLOST_AdjPrev  TEETHLOST_Adj95CI                       Geolocation  \n",
       "0               6.8       ( 5.7,  7.9)  (38.67504943280, -121.147605753)  \n",
       "1              18.0       (16.7, 19.4)  (27.90909077340, -82.7714203383)  \n",
       "2               6.8       ( 6.3,  7.4)  (37.87256787650, -122.274907975)  \n",
       "3              11.2       (10.0, 12.3)  (38.29804246490, -122.301093331)  \n",
       "4              15.8       (14.2, 17.7)  (26.15468783030, -80.2998411020)  \n",
       "\n",
       "[5 rows x 117 columns]"
      ]
     },
     "execution_count": 757,
     "metadata": {},
     "output_type": "execute_result"
    }
   ],
   "source": [
    "census = pd.read_csv(\"CensusData.csv\")\n",
    "census.head()"
   ]
  },
  {
   "cell_type": "markdown",
   "metadata": {},
   "source": [
    "Now to extract the information we need."
   ]
  },
  {
   "cell_type": "code",
   "execution_count": 758,
   "metadata": {},
   "outputs": [
    {
     "data": {
      "text/html": [
       "<div>\n",
       "<style scoped>\n",
       "    .dataframe tbody tr th:only-of-type {\n",
       "        vertical-align: middle;\n",
       "    }\n",
       "\n",
       "    .dataframe tbody tr th {\n",
       "        vertical-align: top;\n",
       "    }\n",
       "\n",
       "    .dataframe thead th {\n",
       "        text-align: right;\n",
       "    }\n",
       "</style>\n",
       "<table border=\"1\" class=\"dataframe\">\n",
       "  <thead>\n",
       "    <tr style=\"text-align: right;\">\n",
       "      <th></th>\n",
       "      <th>State</th>\n",
       "      <th>City</th>\n",
       "      <th>Population</th>\n",
       "    </tr>\n",
       "  </thead>\n",
       "  <tbody>\n",
       "    <tr>\n",
       "      <th>0</th>\n",
       "      <td>CA</td>\n",
       "      <td>Folsom</td>\n",
       "      <td>72203</td>\n",
       "    </tr>\n",
       "    <tr>\n",
       "      <th>1</th>\n",
       "      <td>FL</td>\n",
       "      <td>Largo</td>\n",
       "      <td>77648</td>\n",
       "    </tr>\n",
       "    <tr>\n",
       "      <th>2</th>\n",
       "      <td>CA</td>\n",
       "      <td>Berkeley</td>\n",
       "      <td>112580</td>\n",
       "    </tr>\n",
       "    <tr>\n",
       "      <th>3</th>\n",
       "      <td>CA</td>\n",
       "      <td>Napa</td>\n",
       "      <td>76915</td>\n",
       "    </tr>\n",
       "    <tr>\n",
       "      <th>4</th>\n",
       "      <td>FL</td>\n",
       "      <td>Sunrise</td>\n",
       "      <td>84439</td>\n",
       "    </tr>\n",
       "  </tbody>\n",
       "</table>\n",
       "</div>"
      ],
      "text/plain": [
       "  State      City  Population\n",
       "0    CA    Folsom       72203\n",
       "1    FL     Largo       77648\n",
       "2    CA  Berkeley      112580\n",
       "3    CA      Napa       76915\n",
       "4    FL   Sunrise       84439"
      ]
     },
     "execution_count": 758,
     "metadata": {},
     "output_type": "execute_result"
    }
   ],
   "source": [
    "pops = pd.DataFrame()\n",
    "pops['State'] = census['StateAbbr']\n",
    "pops['City'] = census['PlaceName']\n",
    "pops['Population'] = census['Population2010']\n",
    "pops.head()"
   ]
  },
  {
   "cell_type": "markdown",
   "metadata": {},
   "source": [
    "Need to add a column in the form of City, State to merge with original dataset."
   ]
  },
  {
   "cell_type": "code",
   "execution_count": 759,
   "metadata": {},
   "outputs": [
    {
     "data": {
      "text/html": [
       "<div>\n",
       "<style scoped>\n",
       "    .dataframe tbody tr th:only-of-type {\n",
       "        vertical-align: middle;\n",
       "    }\n",
       "\n",
       "    .dataframe tbody tr th {\n",
       "        vertical-align: top;\n",
       "    }\n",
       "\n",
       "    .dataframe thead th {\n",
       "        text-align: right;\n",
       "    }\n",
       "</style>\n",
       "<table border=\"1\" class=\"dataframe\">\n",
       "  <thead>\n",
       "    <tr style=\"text-align: right;\">\n",
       "      <th></th>\n",
       "      <th>State</th>\n",
       "      <th>City</th>\n",
       "      <th>Population</th>\n",
       "      <th>Location</th>\n",
       "    </tr>\n",
       "  </thead>\n",
       "  <tbody>\n",
       "    <tr>\n",
       "      <th>0</th>\n",
       "      <td>CA</td>\n",
       "      <td>Folsom</td>\n",
       "      <td>72203</td>\n",
       "      <td>Folsom, CA</td>\n",
       "    </tr>\n",
       "    <tr>\n",
       "      <th>1</th>\n",
       "      <td>FL</td>\n",
       "      <td>Largo</td>\n",
       "      <td>77648</td>\n",
       "      <td>Largo, FL</td>\n",
       "    </tr>\n",
       "    <tr>\n",
       "      <th>2</th>\n",
       "      <td>CA</td>\n",
       "      <td>Berkeley</td>\n",
       "      <td>112580</td>\n",
       "      <td>Berkeley, CA</td>\n",
       "    </tr>\n",
       "    <tr>\n",
       "      <th>3</th>\n",
       "      <td>CA</td>\n",
       "      <td>Napa</td>\n",
       "      <td>76915</td>\n",
       "      <td>Napa, CA</td>\n",
       "    </tr>\n",
       "    <tr>\n",
       "      <th>4</th>\n",
       "      <td>FL</td>\n",
       "      <td>Sunrise</td>\n",
       "      <td>84439</td>\n",
       "      <td>Sunrise, FL</td>\n",
       "    </tr>\n",
       "  </tbody>\n",
       "</table>\n",
       "</div>"
      ],
      "text/plain": [
       "  State      City  Population      Location\n",
       "0    CA    Folsom       72203    Folsom, CA\n",
       "1    FL     Largo       77648     Largo, FL\n",
       "2    CA  Berkeley      112580  Berkeley, CA\n",
       "3    CA      Napa       76915      Napa, CA\n",
       "4    FL   Sunrise       84439   Sunrise, FL"
      ]
     },
     "execution_count": 759,
     "metadata": {},
     "output_type": "execute_result"
    }
   ],
   "source": [
    "pops['Location'] = pops[['City', 'State']].apply(lambda x: ', '.join(x), axis=1)\n",
    "pops.head()"
   ]
  },
  {
   "cell_type": "markdown",
   "metadata": {},
   "source": [
    "Now to merge..."
   ]
  },
  {
   "cell_type": "code",
   "execution_count": 760,
   "metadata": {},
   "outputs": [],
   "source": [
    "external = data_final.merge(pops, how='left',left_on='stadium_location',right_on='Location')\\\n",
    "             .drop(labels=['State','City','Location'],axis=1)"
   ]
  },
  {
   "cell_type": "markdown",
   "metadata": {},
   "source": [
    "Checking for missing data..."
   ]
  },
  {
   "cell_type": "code",
   "execution_count": 761,
   "metadata": {},
   "outputs": [
    {
     "name": "stdout",
     "output_type": "stream",
     "text": [
      "schedule_season          0\n",
      "schedule_week            0\n",
      "score_home               0\n",
      "score_away               0\n",
      "team_favorite_id         0\n",
      "spread_favorite          0\n",
      "over_under_line          0\n",
      "weather_temperature      0\n",
      "weather_wind_mph         0\n",
      "Team ID_Home             0\n",
      "Team ID_Away             0\n",
      "stadium_location         0\n",
      "stadium_type             0\n",
      "stadium_capacity         0\n",
      "stadium_surface          0\n",
      "ELEVATION                0\n",
      "C2C                      0\n",
      "actual_o_u               0\n",
      "Actual_OverUnder         0\n",
      "actual_spread            0\n",
      "FavoriteWon              0\n",
      "Actual_Outcome           0\n",
      "Population             355\n",
      "dtype: int64\n"
     ]
    },
    {
     "data": {
      "text/plain": [
       "<matplotlib.axes._subplots.AxesSubplot at 0x1aa107a20>"
      ]
     },
     "execution_count": 761,
     "metadata": {},
     "output_type": "execute_result"
    },
    {
     "data": {
      "image/png": "[encoded data removed]",
      "text/plain": [
       "<Figure size 432x288 with 1 Axes>"
      ]
     },
     "metadata": {},
     "output_type": "display_data"
    }
   ],
   "source": [
    "missing = external.isnull().sum()\n",
    "print(missing)\n",
    "missing = external.isnull().sum()/len(missing)\n",
    "missing.plot.bar(title='Missing Data per Column (%)',ylim=[0,100])"
   ]
  },
  {
   "cell_type": "code",
   "execution_count": 762,
   "metadata": {},
   "outputs": [
    {
     "data": {
      "text/plain": [
       "East Rutherford, NJ    144\n",
       "Foxborough, MA          72\n",
       "Landover, MD            72\n",
       "Orchard Park, NY        67\n",
       "Name: stadium_location, dtype: int64"
      ]
     },
     "execution_count": 762,
     "metadata": {},
     "output_type": "execute_result"
    }
   ],
   "source": [
    "blah = external.loc[lambda external:external['Population'].isnull()==True]\n",
    "blah['stadium_location'].value_counts()"
   ]
  },
  {
   "cell_type": "code",
   "execution_count": 763,
   "metadata": {},
   "outputs": [],
   "source": [
    "external.loc[external.stadium_location == 'East Rutherford, NJ',['Population']] = 9928.0\n",
    "external.loc[external.stadium_location == 'Foxborough, MA',['Population']] = 16693.0\n",
    "external.loc[external.stadium_location == 'Landover, MD',['Population']] = 23078.0\n",
    "external.loc[external.stadium_location == 'Orchard Park, NY',['Population']] = 29672.0"
   ]
  },
  {
   "cell_type": "code",
   "execution_count": 764,
   "metadata": {},
   "outputs": [
    {
     "name": "stdout",
     "output_type": "stream",
     "text": [
      "schedule_season        0\n",
      "schedule_week          0\n",
      "score_home             0\n",
      "score_away             0\n",
      "team_favorite_id       0\n",
      "spread_favorite        0\n",
      "over_under_line        0\n",
      "weather_temperature    0\n",
      "weather_wind_mph       0\n",
      "Team ID_Home           0\n",
      "Team ID_Away           0\n",
      "stadium_location       0\n",
      "stadium_type           0\n",
      "stadium_capacity       0\n",
      "stadium_surface        0\n",
      "ELEVATION              0\n",
      "C2C                    0\n",
      "actual_o_u             0\n",
      "Actual_OverUnder       0\n",
      "actual_spread          0\n",
      "FavoriteWon            0\n",
      "Actual_Outcome         0\n",
      "Population             0\n",
      "dtype: int64\n"
     ]
    }
   ],
   "source": [
    "missing = external.isnull().sum()\n",
    "print(missing)"
   ]
  },
  {
   "cell_type": "markdown",
   "metadata": {},
   "source": [
    "Successful merge and fill!\n",
    "\n",
    "Now the population column needs to be simplified into categorical variables for different population ranges."
   ]
  },
  {
   "cell_type": "code",
   "execution_count": 765,
   "metadata": {},
   "outputs": [
    {
     "data": {
      "text/plain": [
       "<matplotlib.axes._subplots.AxesSubplot at 0x1a3536dd8>"
      ]
     },
     "execution_count": 765,
     "metadata": {},
     "output_type": "execute_result"
    },
    {
     "data": {
      "image/png": "[encoded data removed]",
      "text/plain": [
       "<Figure size 432x288 with 1 Axes>"
      ]
     },
     "metadata": {},
     "output_type": "display_data"
    }
   ],
   "source": [
    "external['Population'].hist()"
   ]
  },
  {
   "cell_type": "code",
   "execution_count": 766,
   "metadata": {},
   "outputs": [],
   "source": [
    "pop_dict = {\n",
    "    'town': 100000,\n",
    "    'city': 1000000,\n",
    "    'metropolis': 10000000,\n",
    "}"
   ]
  },
  {
   "cell_type": "code",
   "execution_count": 767,
   "metadata": {},
   "outputs": [
    {
     "data": {
      "text/html": [
       "<div>\n",
       "<style scoped>\n",
       "    .dataframe tbody tr th:only-of-type {\n",
       "        vertical-align: middle;\n",
       "    }\n",
       "\n",
       "    .dataframe tbody tr th {\n",
       "        vertical-align: top;\n",
       "    }\n",
       "\n",
       "    .dataframe thead th {\n",
       "        text-align: right;\n",
       "    }\n",
       "</style>\n",
       "<table border=\"1\" class=\"dataframe\">\n",
       "  <thead>\n",
       "    <tr style=\"text-align: right;\">\n",
       "      <th></th>\n",
       "      <th>index</th>\n",
       "      <th>STOP</th>\n",
       "      <th>START</th>\n",
       "    </tr>\n",
       "  </thead>\n",
       "  <tbody>\n",
       "    <tr>\n",
       "      <th>[0.0, 100000.0]</th>\n",
       "      <td>town</td>\n",
       "      <td>100000</td>\n",
       "      <td>0.0</td>\n",
       "    </tr>\n",
       "    <tr>\n",
       "      <th>[100001.0, 1000000.0]</th>\n",
       "      <td>city</td>\n",
       "      <td>1000000</td>\n",
       "      <td>100001.0</td>\n",
       "    </tr>\n",
       "    <tr>\n",
       "      <th>[1000001.0, 10000000.0]</th>\n",
       "      <td>metropolis</td>\n",
       "      <td>10000000</td>\n",
       "      <td>1000001.0</td>\n",
       "    </tr>\n",
       "  </tbody>\n",
       "</table>\n",
       "</div>"
      ],
      "text/plain": [
       "                              index      STOP      START\n",
       "[0.0, 100000.0]                town    100000        0.0\n",
       "[100001.0, 1000000.0]          city   1000000   100001.0\n",
       "[1000001.0, 10000000.0]  metropolis  10000000  1000001.0"
      ]
     },
     "execution_count": 767,
     "metadata": {},
     "output_type": "execute_result"
    }
   ],
   "source": [
    "pop_ranges = pd.DataFrame(pop_dict, index=['STOP']).T.reset_index()\n",
    "pop_ranges['START'] = (pop_ranges.STOP.shift(1)+1).fillna(0)\n",
    "pop_ranges.index = pd.IntervalIndex.from_arrays(pop_ranges.START, pop_ranges.STOP, closed='both')\n",
    "pop_ranges"
   ]
  },
  {
   "cell_type": "code",
   "execution_count": 768,
   "metadata": {},
   "outputs": [
    {
     "data": {
      "text/plain": [
       "city          1612\n",
       "town           355\n",
       "metropolis     309\n",
       "Name: Population, dtype: int64"
      ]
     },
     "execution_count": 768,
     "metadata": {},
     "output_type": "execute_result"
    }
   ],
   "source": [
    "external['Population'] = external['Population'].astype(int)\n",
    "external['Population'] = external.Population.map(pop_ranges['index'])\n",
    "external['Population'].value_counts()"
   ]
  },
  {
   "cell_type": "code",
   "execution_count": 769,
   "metadata": {},
   "outputs": [
    {
     "data": {
      "text/html": [
       "<div>\n",
       "<style scoped>\n",
       "    .dataframe tbody tr th:only-of-type {\n",
       "        vertical-align: middle;\n",
       "    }\n",
       "\n",
       "    .dataframe tbody tr th {\n",
       "        vertical-align: top;\n",
       "    }\n",
       "\n",
       "    .dataframe thead th {\n",
       "        text-align: right;\n",
       "    }\n",
       "</style>\n",
       "<table border=\"1\" class=\"dataframe\">\n",
       "  <thead>\n",
       "    <tr style=\"text-align: right;\">\n",
       "      <th></th>\n",
       "      <th>schedule_season</th>\n",
       "      <th>schedule_week</th>\n",
       "      <th>score_home</th>\n",
       "      <th>score_away</th>\n",
       "      <th>team_favorite_id</th>\n",
       "      <th>spread_favorite</th>\n",
       "      <th>over_under_line</th>\n",
       "      <th>weather_temperature</th>\n",
       "      <th>weather_wind_mph</th>\n",
       "      <th>Team ID_Home</th>\n",
       "      <th>...</th>\n",
       "      <th>stadium_capacity</th>\n",
       "      <th>stadium_surface</th>\n",
       "      <th>ELEVATION</th>\n",
       "      <th>C2C</th>\n",
       "      <th>actual_o_u</th>\n",
       "      <th>Actual_OverUnder</th>\n",
       "      <th>actual_spread</th>\n",
       "      <th>FavoriteWon</th>\n",
       "      <th>Actual_Outcome</th>\n",
       "      <th>Population</th>\n",
       "    </tr>\n",
       "  </thead>\n",
       "  <tbody>\n",
       "    <tr>\n",
       "      <th>0</th>\n",
       "      <td>2010</td>\n",
       "      <td>1</td>\n",
       "      <td>14</td>\n",
       "      <td>9</td>\n",
       "      <td>NO</td>\n",
       "      <td>-5.0</td>\n",
       "      <td>49.5</td>\n",
       "      <td>warm</td>\n",
       "      <td>calm</td>\n",
       "      <td>NO</td>\n",
       "      <td>...</td>\n",
       "      <td>high</td>\n",
       "      <td>FieldTurf</td>\n",
       "      <td>low</td>\n",
       "      <td>NFCvsNFC</td>\n",
       "      <td>23</td>\n",
       "      <td>True</td>\n",
       "      <td>5</td>\n",
       "      <td>True</td>\n",
       "      <td>True</td>\n",
       "      <td>city</td>\n",
       "    </tr>\n",
       "    <tr>\n",
       "      <th>1</th>\n",
       "      <td>2010</td>\n",
       "      <td>1</td>\n",
       "      <td>10</td>\n",
       "      <td>15</td>\n",
       "      <td>MIA</td>\n",
       "      <td>-3.0</td>\n",
       "      <td>39.0</td>\n",
       "      <td>warm</td>\n",
       "      <td>light</td>\n",
       "      <td>BUF</td>\n",
       "      <td>...</td>\n",
       "      <td>medium</td>\n",
       "      <td>FieldTurf</td>\n",
       "      <td>low</td>\n",
       "      <td>AFCvsAFC</td>\n",
       "      <td>25</td>\n",
       "      <td>True</td>\n",
       "      <td>-5</td>\n",
       "      <td>True</td>\n",
       "      <td>False</td>\n",
       "      <td>town</td>\n",
       "    </tr>\n",
       "    <tr>\n",
       "      <th>2</th>\n",
       "      <td>2010</td>\n",
       "      <td>1</td>\n",
       "      <td>19</td>\n",
       "      <td>14</td>\n",
       "      <td>CHI</td>\n",
       "      <td>-6.5</td>\n",
       "      <td>45.0</td>\n",
       "      <td>warm</td>\n",
       "      <td>calm</td>\n",
       "      <td>CHI</td>\n",
       "      <td>...</td>\n",
       "      <td>medium</td>\n",
       "      <td>Grass</td>\n",
       "      <td>low</td>\n",
       "      <td>NFCvsNFC</td>\n",
       "      <td>33</td>\n",
       "      <td>True</td>\n",
       "      <td>5</td>\n",
       "      <td>True</td>\n",
       "      <td>True</td>\n",
       "      <td>metropolis</td>\n",
       "    </tr>\n",
       "    <tr>\n",
       "      <th>3</th>\n",
       "      <td>2010</td>\n",
       "      <td>1</td>\n",
       "      <td>34</td>\n",
       "      <td>24</td>\n",
       "      <td>IND</td>\n",
       "      <td>-1.0</td>\n",
       "      <td>48.0</td>\n",
       "      <td>hot</td>\n",
       "      <td>light</td>\n",
       "      <td>HOU</td>\n",
       "      <td>...</td>\n",
       "      <td>medium</td>\n",
       "      <td>Grass</td>\n",
       "      <td>low</td>\n",
       "      <td>AFCvsAFC</td>\n",
       "      <td>58</td>\n",
       "      <td>False</td>\n",
       "      <td>10</td>\n",
       "      <td>False</td>\n",
       "      <td>False</td>\n",
       "      <td>metropolis</td>\n",
       "    </tr>\n",
       "    <tr>\n",
       "      <th>4</th>\n",
       "      <td>2010</td>\n",
       "      <td>1</td>\n",
       "      <td>24</td>\n",
       "      <td>17</td>\n",
       "      <td>JAX</td>\n",
       "      <td>-3.0</td>\n",
       "      <td>41.5</td>\n",
       "      <td>hot</td>\n",
       "      <td>calm</td>\n",
       "      <td>JAX</td>\n",
       "      <td>...</td>\n",
       "      <td>medium</td>\n",
       "      <td>Grass</td>\n",
       "      <td>low</td>\n",
       "      <td>AFCvsAFC</td>\n",
       "      <td>41</td>\n",
       "      <td>True</td>\n",
       "      <td>7</td>\n",
       "      <td>True</td>\n",
       "      <td>False</td>\n",
       "      <td>city</td>\n",
       "    </tr>\n",
       "  </tbody>\n",
       "</table>\n",
       "<p>5 rows × 23 columns</p>\n",
       "</div>"
      ],
      "text/plain": [
       "   schedule_season  schedule_week  score_home  score_away team_favorite_id  \\\n",
       "0             2010              1          14           9               NO   \n",
       "1             2010              1          10          15              MIA   \n",
       "2             2010              1          19          14              CHI   \n",
       "3             2010              1          34          24              IND   \n",
       "4             2010              1          24          17              JAX   \n",
       "\n",
       "   spread_favorite  over_under_line weather_temperature weather_wind_mph  \\\n",
       "0             -5.0             49.5                warm             calm   \n",
       "1             -3.0             39.0                warm            light   \n",
       "2             -6.5             45.0                warm             calm   \n",
       "3             -1.0             48.0                 hot            light   \n",
       "4             -3.0             41.5                 hot             calm   \n",
       "\n",
       "  Team ID_Home  ... stadium_capacity stadium_surface ELEVATION       C2C  \\\n",
       "0           NO  ...             high       FieldTurf       low  NFCvsNFC   \n",
       "1          BUF  ...           medium       FieldTurf       low  AFCvsAFC   \n",
       "2          CHI  ...           medium           Grass       low  NFCvsNFC   \n",
       "3          HOU  ...           medium           Grass       low  AFCvsAFC   \n",
       "4          JAX  ...           medium           Grass       low  AFCvsAFC   \n",
       "\n",
       "  actual_o_u Actual_OverUnder actual_spread  FavoriteWon  Actual_Outcome  \\\n",
       "0         23             True             5         True            True   \n",
       "1         25             True            -5         True           False   \n",
       "2         33             True             5         True            True   \n",
       "3         58            False            10        False           False   \n",
       "4         41             True             7         True           False   \n",
       "\n",
       "   Population  \n",
       "0        city  \n",
       "1        town  \n",
       "2  metropolis  \n",
       "3  metropolis  \n",
       "4        city  \n",
       "\n",
       "[5 rows x 23 columns]"
      ]
     },
     "execution_count": 769,
     "metadata": {},
     "output_type": "execute_result"
    }
   ],
   "source": [
    "external.head()"
   ]
  },
  {
   "cell_type": "markdown",
   "metadata": {},
   "source": [
    "Time to create more dummy variables for our new prediction model."
   ]
  },
  {
   "cell_type": "code",
   "execution_count": 770,
   "metadata": {},
   "outputs": [
    {
     "data": {
      "text/html": [
       "<div>\n",
       "<style scoped>\n",
       "    .dataframe tbody tr th:only-of-type {\n",
       "        vertical-align: middle;\n",
       "    }\n",
       "\n",
       "    .dataframe tbody tr th {\n",
       "        vertical-align: top;\n",
       "    }\n",
       "\n",
       "    .dataframe thead th {\n",
       "        text-align: right;\n",
       "    }\n",
       "</style>\n",
       "<table border=\"1\" class=\"dataframe\">\n",
       "  <thead>\n",
       "    <tr style=\"text-align: right;\">\n",
       "      <th></th>\n",
       "      <th>schedule_season</th>\n",
       "      <th>schedule_week</th>\n",
       "      <th>score_home</th>\n",
       "      <th>score_away</th>\n",
       "      <th>spread_favorite</th>\n",
       "      <th>over_under_line</th>\n",
       "      <th>actual_o_u</th>\n",
       "      <th>Actual_OverUnder</th>\n",
       "      <th>actual_spread</th>\n",
       "      <th>FavoriteWon</th>\n",
       "      <th>...</th>\n",
       "      <th>ELEVATION_high</th>\n",
       "      <th>ELEVATION_low</th>\n",
       "      <th>ELEVATION_medium</th>\n",
       "      <th>C2C_AFCvsAFC</th>\n",
       "      <th>C2C_AFCvsNFC</th>\n",
       "      <th>C2C_NFCvsAFC</th>\n",
       "      <th>C2C_NFCvsNFC</th>\n",
       "      <th>Population_city</th>\n",
       "      <th>Population_metropolis</th>\n",
       "      <th>Population_town</th>\n",
       "    </tr>\n",
       "  </thead>\n",
       "  <tbody>\n",
       "    <tr>\n",
       "      <th>0</th>\n",
       "      <td>2010</td>\n",
       "      <td>1</td>\n",
       "      <td>14</td>\n",
       "      <td>9</td>\n",
       "      <td>-5.0</td>\n",
       "      <td>49.5</td>\n",
       "      <td>23</td>\n",
       "      <td>True</td>\n",
       "      <td>5</td>\n",
       "      <td>True</td>\n",
       "      <td>...</td>\n",
       "      <td>0</td>\n",
       "      <td>1</td>\n",
       "      <td>0</td>\n",
       "      <td>0</td>\n",
       "      <td>0</td>\n",
       "      <td>0</td>\n",
       "      <td>1</td>\n",
       "      <td>1</td>\n",
       "      <td>0</td>\n",
       "      <td>0</td>\n",
       "    </tr>\n",
       "    <tr>\n",
       "      <th>1</th>\n",
       "      <td>2010</td>\n",
       "      <td>1</td>\n",
       "      <td>10</td>\n",
       "      <td>15</td>\n",
       "      <td>-3.0</td>\n",
       "      <td>39.0</td>\n",
       "      <td>25</td>\n",
       "      <td>True</td>\n",
       "      <td>-5</td>\n",
       "      <td>True</td>\n",
       "      <td>...</td>\n",
       "      <td>0</td>\n",
       "      <td>1</td>\n",
       "      <td>0</td>\n",
       "      <td>1</td>\n",
       "      <td>0</td>\n",
       "      <td>0</td>\n",
       "      <td>0</td>\n",
       "      <td>0</td>\n",
       "      <td>0</td>\n",
       "      <td>1</td>\n",
       "    </tr>\n",
       "    <tr>\n",
       "      <th>2</th>\n",
       "      <td>2010</td>\n",
       "      <td>1</td>\n",
       "      <td>19</td>\n",
       "      <td>14</td>\n",
       "      <td>-6.5</td>\n",
       "      <td>45.0</td>\n",
       "      <td>33</td>\n",
       "      <td>True</td>\n",
       "      <td>5</td>\n",
       "      <td>True</td>\n",
       "      <td>...</td>\n",
       "      <td>0</td>\n",
       "      <td>1</td>\n",
       "      <td>0</td>\n",
       "      <td>0</td>\n",
       "      <td>0</td>\n",
       "      <td>0</td>\n",
       "      <td>1</td>\n",
       "      <td>0</td>\n",
       "      <td>1</td>\n",
       "      <td>0</td>\n",
       "    </tr>\n",
       "    <tr>\n",
       "      <th>3</th>\n",
       "      <td>2010</td>\n",
       "      <td>1</td>\n",
       "      <td>34</td>\n",
       "      <td>24</td>\n",
       "      <td>-1.0</td>\n",
       "      <td>48.0</td>\n",
       "      <td>58</td>\n",
       "      <td>False</td>\n",
       "      <td>10</td>\n",
       "      <td>False</td>\n",
       "      <td>...</td>\n",
       "      <td>0</td>\n",
       "      <td>1</td>\n",
       "      <td>0</td>\n",
       "      <td>1</td>\n",
       "      <td>0</td>\n",
       "      <td>0</td>\n",
       "      <td>0</td>\n",
       "      <td>0</td>\n",
       "      <td>1</td>\n",
       "      <td>0</td>\n",
       "    </tr>\n",
       "    <tr>\n",
       "      <th>4</th>\n",
       "      <td>2010</td>\n",
       "      <td>1</td>\n",
       "      <td>24</td>\n",
       "      <td>17</td>\n",
       "      <td>-3.0</td>\n",
       "      <td>41.5</td>\n",
       "      <td>41</td>\n",
       "      <td>True</td>\n",
       "      <td>7</td>\n",
       "      <td>True</td>\n",
       "      <td>...</td>\n",
       "      <td>0</td>\n",
       "      <td>1</td>\n",
       "      <td>0</td>\n",
       "      <td>1</td>\n",
       "      <td>0</td>\n",
       "      <td>0</td>\n",
       "      <td>0</td>\n",
       "      <td>1</td>\n",
       "      <td>0</td>\n",
       "      <td>0</td>\n",
       "    </tr>\n",
       "  </tbody>\n",
       "</table>\n",
       "<p>5 rows × 172 columns</p>\n",
       "</div>"
      ],
      "text/plain": [
       "   schedule_season  schedule_week  score_home  score_away  spread_favorite  \\\n",
       "0             2010              1          14           9             -5.0   \n",
       "1             2010              1          10          15             -3.0   \n",
       "2             2010              1          19          14             -6.5   \n",
       "3             2010              1          34          24             -1.0   \n",
       "4             2010              1          24          17             -3.0   \n",
       "\n",
       "   over_under_line  actual_o_u  Actual_OverUnder  actual_spread  FavoriteWon  \\\n",
       "0             49.5          23              True              5         True   \n",
       "1             39.0          25              True             -5         True   \n",
       "2             45.0          33              True              5         True   \n",
       "3             48.0          58             False             10        False   \n",
       "4             41.5          41              True              7         True   \n",
       "\n",
       "   ...  ELEVATION_high  ELEVATION_low  ELEVATION_medium  C2C_AFCvsAFC  \\\n",
       "0  ...               0              1                 0             0   \n",
       "1  ...               0              1                 0             1   \n",
       "2  ...               0              1                 0             0   \n",
       "3  ...               0              1                 0             1   \n",
       "4  ...               0              1                 0             1   \n",
       "\n",
       "   C2C_AFCvsNFC  C2C_NFCvsAFC  C2C_NFCvsNFC  Population_city  \\\n",
       "0             0             0             1                1   \n",
       "1             0             0             0                0   \n",
       "2             0             0             1                0   \n",
       "3             0             0             0                0   \n",
       "4             0             0             0                1   \n",
       "\n",
       "   Population_metropolis  Population_town  \n",
       "0                      0                0  \n",
       "1                      0                1  \n",
       "2                      1                0  \n",
       "3                      1                0  \n",
       "4                      0                0  \n",
       "\n",
       "[5 rows x 172 columns]"
      ]
     },
     "execution_count": 770,
     "metadata": {},
     "output_type": "execute_result"
    }
   ],
   "source": [
    "Dummy_Columns = ['team_favorite_id',\n",
    "       'weather_temperature', 'weather_wind_mph', 'Team ID_Home',\n",
    "       'Team ID_Away', 'stadium_location', 'stadium_type', 'stadium_capacity',\n",
    "       'stadium_surface', 'ELEVATION', 'C2C', 'Population']\n",
    "External = pd.get_dummies(data=external, columns = Dummy_Columns)\n",
    "External.head()"
   ]
  },
  {
   "cell_type": "markdown",
   "metadata": {},
   "source": [
    "Now, let's see how our best prediction model's accuracy is affected by this new information!"
   ]
  },
  {
   "cell_type": "code",
   "execution_count": 771,
   "metadata": {},
   "outputs": [],
   "source": [
    "Final_columns = External.columns\n",
    "Test_fs = ['actual_o_u','actual_spread','FavoriteWon','Actual_Outcome','Actual_OverUnder']\n",
    "Drops = ['schedule_season', 'score_home', 'score_away']\n",
    "Train_fs = [x for x in Final_columns if x not in Test_fs]\n",
    "Train_fs = [x for x in Train_fs if x not in Drops]"
   ]
  },
  {
   "cell_type": "code",
   "execution_count": 772,
   "metadata": {},
   "outputs": [],
   "source": [
    "Train_Data = External.loc[lambda External: External['schedule_season'] < 2018]\n",
    "Test_Data = External.loc[lambda External: External['schedule_season'] >= 2018]\n",
    "Train_Data = Train_Data.drop(labels = drops, axis=1)\n",
    "Test_Data = Test_Data.drop(labels = drops, axis=1)"
   ]
  },
  {
   "cell_type": "code",
   "execution_count": 773,
   "metadata": {},
   "outputs": [],
   "source": [
    "X_Train = Train_Data[Train_fs]\n",
    "Y_Train = Train_Data['Actual_Outcome'].values\n",
    "X_Test = Test_Data[Train_fs]\n",
    "Y_Test = Test_Data['Actual_Outcome'].values\n",
    "X_Train['over_under_line'] = X_Train['over_under_line'].round().astype(int)\n",
    "X_Test['over_under_line'] = X_Test['over_under_line'].round().astype(int)\n",
    "X_Train = X_Train.values\n",
    "X_Test = X_Test.values"
   ]
  },
  {
   "cell_type": "code",
   "execution_count": 774,
   "metadata": {},
   "outputs": [
    {
     "name": "stdout",
     "output_type": "stream",
     "text": [
      "Fitting 10 folds for each of 20 candidates, totalling 200 fits\n"
     ]
    },
    {
     "name": "stderr",
     "output_type": "stream",
     "text": [
      "[Parallel(n_jobs=-1)]: Using backend LokyBackend with 4 concurrent workers.\n",
      "[Parallel(n_jobs=-1)]: Done  42 tasks      | elapsed:   14.7s\n",
      "[Parallel(n_jobs=-1)]: Done 192 tasks      | elapsed:  1.1min\n",
      "[Parallel(n_jobs=-1)]: Done 200 out of 200 | elapsed:  1.2min finished\n"
     ]
    },
    {
     "data": {
      "text/plain": [
       "RandomizedSearchCV(cv=10, error_score='raise-deprecating',\n",
       "          estimator=RandomForestClassifier(bootstrap=True, class_weight=None, criterion='gini',\n",
       "            max_depth=None, max_features='auto', max_leaf_nodes=None,\n",
       "            min_impurity_decrease=0.0, min_impurity_split=None,\n",
       "            min_samples_leaf=1, min_samples_split=2,\n",
       "            min_weight_fraction_leaf=0.0, n_estimators=100, n_jobs=None,\n",
       "            oob_score=False, random_state=None, verbose=0,\n",
       "            warm_start=False),\n",
       "          fit_params=None, iid='warn', n_iter=20, n_jobs=-1,\n",
       "          param_distributions={'n_estimators': <scipy.stats._distn_infrastructure.rv_frozen object at 0x1a675cba8>, 'max_features': ['sqrt', 'log2'], 'min_samples_split': <scipy.stats._distn_infrastructure.rv_frozen object at 0x1a675c668>, 'bootstrap': [True, False], 'criterion': ['gini', 'entropy']},\n",
       "          pre_dispatch='2*n_jobs', random_state=None, refit=True,\n",
       "          return_train_score='warn', scoring=None, verbose=1)"
      ]
     },
     "execution_count": 774,
     "metadata": {},
     "output_type": "execute_result"
    }
   ],
   "source": [
    "random_rf.fit(X_Train, Y_Train)"
   ]
  },
  {
   "cell_type": "code",
   "execution_count": 775,
   "metadata": {},
   "outputs": [
    {
     "data": {
      "text/plain": [
       "<matplotlib.axes._subplots.AxesSubplot at 0x1a5f734e0>"
      ]
     },
     "execution_count": 775,
     "metadata": {},
     "output_type": "execute_result"
    },
    {
     "data": {
      "image/png": "[encoded data removed]",
      "text/plain": [
       "<Figure size 432x288 with 1 Axes>"
      ]
     },
     "metadata": {},
     "output_type": "display_data"
    }
   ],
   "source": [
    "pd.DataFrame(random_rf.cv_results_['std_test_score'] * 100).plot(kind='bar')"
   ]
  },
  {
   "cell_type": "code",
   "execution_count": 776,
   "metadata": {},
   "outputs": [
    {
     "data": {
      "text/plain": [
       "RandomForestClassifier(bootstrap=True, class_weight=None, criterion='gini',\n",
       "            max_depth=None, max_features='log2', max_leaf_nodes=None,\n",
       "            min_impurity_decrease=0.0, min_impurity_split=None,\n",
       "            min_samples_leaf=1, min_samples_split=18,\n",
       "            min_weight_fraction_leaf=0.0, n_estimators=293, n_jobs=None,\n",
       "            oob_score=False, random_state=None, verbose=0,\n",
       "            warm_start=False)"
      ]
     },
     "execution_count": 776,
     "metadata": {},
     "output_type": "execute_result"
    }
   ],
   "source": [
    "random_rf.best_estimator_"
   ]
  },
  {
   "cell_type": "code",
   "execution_count": 777,
   "metadata": {},
   "outputs": [
    {
     "data": {
      "text/plain": [
       "0.8151260504201681"
      ]
     },
     "execution_count": 777,
     "metadata": {},
     "output_type": "execute_result"
    }
   ],
   "source": [
    "random_rf.best_score_ "
   ]
  },
  {
   "cell_type": "code",
   "execution_count": 778,
   "metadata": {},
   "outputs": [
    {
     "data": {
      "text/plain": [
       "0.7865612648221344"
      ]
     },
     "execution_count": 778,
     "metadata": {},
     "output_type": "execute_result"
    }
   ],
   "source": [
    "random_rf.score(X_Test, Y_Test)"
   ]
  },
  {
   "cell_type": "markdown",
   "metadata": {},
   "source": [
    "## Results\n",
    "- Accuracy of Model with Population Data = ~78%\n",
    "- Accuracy of Model without Population Data = ~79%\n",
    "\n",
    "After bringing in population data to this model, the resulting prodiction accuracy is just below the accuracy of the model without this new information. It is hard to say for certain whether or not this new feature was relevant information for this predictive model, but the next steps of this study would be to identify the most impactful features for this dataset and it's different outcomes. "
   ]
  },
  {
   "cell_type": "code",
   "execution_count": null,
   "metadata": {},
   "outputs": [],
   "source": []
  }
 ],
 "metadata": {
  "kernelspec": {
   "display_name": "Python 3",
   "language": "python",
   "name": "python3"
  },
  "language_info": {
   "codemirror_mode": {
    "name": "ipython",
    "version": 3
   },
   "file_extension": ".py",
   "mimetype": "text/x-python",
   "name": "python",
   "nbconvert_exporter": "python",
   "pygments_lexer": "ipython3",
   "version": "3.7.3"
  }
 },
 "nbformat": 4,
 "nbformat_minor": 2
}
