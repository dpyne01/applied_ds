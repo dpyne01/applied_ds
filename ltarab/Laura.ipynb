{
 "cells": [
  {
   "cell_type": "markdown",
   "metadata": {},
   "source": [
    "# Review of 2018 Vaccine Adverse Event Reporting System "
   ]
  },
  {
   "cell_type": "markdown",
   "metadata": {},
   "source": [
    "## Introduction\n",
    "\n",
    "##### The data set tracks VAERS, which is the Vaccine Adverse Event Reporting System for the year 2015. This information is obtained by the Centers for Disease Control and Prevention (CDC). \n",
    "\n",
    "##### The data set details include vaccine names, manufacturers, manufacturer’s lot numbers, vaccine doses, administration routes, and anatomical sites where the vaccine was administered. \n",
    "\n",
    "##### Additionally, the primary information data provides age, sex, symptoms reported, and the following adverse events outcomes: Died, Life Threatening, ER visit, Hospitalized, Days Hospitalized, Disabled, Recovered, Vaccination Data, Onset Date, Onset Interval, Other Medications, Current Illnesses, Prior Vaccination and Condition History. "
   ]
  },
  {
   "cell_type": "markdown",
   "metadata": {},
   "source": [
    "## Purpose\n",
    "\n",
    "##### Vaccination is facing increasing public health pressures and it is important to note if the drug formulations themselves are becoming more advanced through new administration techniques that could be more direct and less potentially prone to adverse events. Additionally, there is increased public debate regarding the appropriate age of vaccination and what combinations of vaccinations to be given at a time. \n",
    "\n",
    "##### The VAERS form strives to collect data across a broad spectrum of variables, however, it is biased in the sense that vaccines where no adverse events occurred are not recorded by the reporting system, or at least that data is not available in the 2018 sample set. \n",
    "\n",
    "##### With any incomplete date set, especially one that has the potential to influence public health policy and that has the power to sway decision making in the regulatory sphere it is important to have clear transparency in the data you are utilizing to guide your predictive models and to state its limitations within the analysis.\n",
    "\n",
    "##### It is further important to make an inference on how the outcomes can change with the introduction of missing variables and the impact that would have on the model. In this particular scenario, it would be necessary to understand why the surveys were not collected on no adverse events and address if it would play a significant role on the questions posed. Based on literature review on adverse event reporting within the clinical setting, the nature of the way the data is collected is misleading. The survey is only available when an event occurs that signals a negative adverse event. The system itself is not set up to collect all vaccination events and thus record all outcomes, both positive and negative. This will be critical to note in the analysis and in the recommendations made moving forward.\n"
   ]
  },
  {
   "cell_type": "code",
   "execution_count": 61,
   "metadata": {},
   "outputs": [],
   "source": [
    "import numpy as np\n",
    "import pandas as pd\n",
    "import seaborn as sns\n",
    "import pdb\n",
    "import warnings\n",
    "import statsmodels.formula.api as smf\n",
    "import sklearn\n",
    "from sklearn.linear_model import Lasso\n",
    "import sys\n",
    "from sklearn.model_selection import train_test_split\n",
    "from sklearn.model_selection import RandomizedSearchCV\n",
    "from sklearn.model_selection import ParameterGrid\n",
    "from sklearn.ensemble import RandomForestClassifier\n",
    "from sklearn.linear_model import LogisticRegression\n",
    "from sklearn.svm import l1_min_c\n",
    "from sklearn.metrics import roc_curve, auc\n",
    "sns.set_context('talk')\n",
    "sns.set_style('darkgrid')\n",
    "sns.set_palette('colorblind')\n",
    "from scipy import stats\n",
    "import matplotlib.pyplot as plt"
   ]
  },
  {
   "cell_type": "markdown",
   "metadata": {},
   "source": [
    "## Datasets\n",
    "\n",
    "##### df_vax denotes half of the vaccination data collected (which includes information about the vaccination themselves\n",
    "##### df_sym denotes the data surrounding the adverse events "
   ]
  },
  {
   "cell_type": "code",
   "execution_count": 62,
   "metadata": {},
   "outputs": [],
   "source": [
    "df_vax = pd.read_csv('./2019VAERSVAX.csv')"
   ]
  },
  {
   "cell_type": "code",
   "execution_count": 63,
   "metadata": {},
   "outputs": [],
   "source": [
    "df_sym = pd.read_csv('./2019VAERSDATA.csv', encoding='cp1252')"
   ]
  },
  {
   "cell_type": "code",
   "execution_count": 64,
   "metadata": {},
   "outputs": [
    {
     "data": {
      "text/html": [
       "<div>\n",
       "<style scoped>\n",
       "    .dataframe tbody tr th:only-of-type {\n",
       "        vertical-align: middle;\n",
       "    }\n",
       "\n",
       "    .dataframe tbody tr th {\n",
       "        vertical-align: top;\n",
       "    }\n",
       "\n",
       "    .dataframe thead th {\n",
       "        text-align: right;\n",
       "    }\n",
       "</style>\n",
       "<table border=\"1\" class=\"dataframe\">\n",
       "  <thead>\n",
       "    <tr style=\"text-align: right;\">\n",
       "      <th></th>\n",
       "      <th>VAERS_ID</th>\n",
       "      <th>RECVDATE</th>\n",
       "      <th>STATE</th>\n",
       "      <th>AGE_YRS</th>\n",
       "      <th>CAGE_YR</th>\n",
       "      <th>CAGE_MO</th>\n",
       "      <th>SEX</th>\n",
       "      <th>RPT_DATE</th>\n",
       "      <th>SYMPTOM_TEXT</th>\n",
       "      <th>DIED</th>\n",
       "      <th>...</th>\n",
       "      <th>CUR_ILL</th>\n",
       "      <th>HISTORY</th>\n",
       "      <th>PRIOR_VAX</th>\n",
       "      <th>SPLTTYPE</th>\n",
       "      <th>FORM_VERS</th>\n",
       "      <th>TODAYS_DATE</th>\n",
       "      <th>BIRTH_DEFECT</th>\n",
       "      <th>OFC_VISIT</th>\n",
       "      <th>ER_ED_VISIT</th>\n",
       "      <th>ALLERGIES</th>\n",
       "    </tr>\n",
       "  </thead>\n",
       "  <tbody>\n",
       "    <tr>\n",
       "      <th>0</th>\n",
       "      <td>794156</td>\n",
       "      <td>1/1/19</td>\n",
       "      <td>NaN</td>\n",
       "      <td>69.0</td>\n",
       "      <td>69.0</td>\n",
       "      <td>NaN</td>\n",
       "      <td>F</td>\n",
       "      <td>NaN</td>\n",
       "      <td>Severe pain Lt. shoulder area, very localized ...</td>\n",
       "      <td>NaN</td>\n",
       "      <td>...</td>\n",
       "      <td>none</td>\n",
       "      <td>none</td>\n",
       "      <td>NaN</td>\n",
       "      <td>NaN</td>\n",
       "      <td>2</td>\n",
       "      <td>1/1/19</td>\n",
       "      <td>NaN</td>\n",
       "      <td>Y</td>\n",
       "      <td>NaN</td>\n",
       "      <td>tetracycline</td>\n",
       "    </tr>\n",
       "    <tr>\n",
       "      <th>1</th>\n",
       "      <td>794157</td>\n",
       "      <td>1/1/19</td>\n",
       "      <td>IL</td>\n",
       "      <td>68.0</td>\n",
       "      <td>68.0</td>\n",
       "      <td>NaN</td>\n",
       "      <td>F</td>\n",
       "      <td>NaN</td>\n",
       "      <td>Much joint pain/aching, lack of energy, listle...</td>\n",
       "      <td>NaN</td>\n",
       "      <td>...</td>\n",
       "      <td>None</td>\n",
       "      <td>Hypothryoidism</td>\n",
       "      <td>Arm soreness at site of injection</td>\n",
       "      <td>NaN</td>\n",
       "      <td>2</td>\n",
       "      <td>1/1/19</td>\n",
       "      <td>NaN</td>\n",
       "      <td>NaN</td>\n",
       "      <td>NaN</td>\n",
       "      <td>None</td>\n",
       "    </tr>\n",
       "    <tr>\n",
       "      <th>2</th>\n",
       "      <td>794158</td>\n",
       "      <td>1/1/19</td>\n",
       "      <td>MA</td>\n",
       "      <td>62.0</td>\n",
       "      <td>62.0</td>\n",
       "      <td>NaN</td>\n",
       "      <td>F</td>\n",
       "      <td>NaN</td>\n",
       "      <td>Headache, Fever, Chills, Body Aches, Nausea la...</td>\n",
       "      <td>NaN</td>\n",
       "      <td>...</td>\n",
       "      <td>None</td>\n",
       "      <td>None</td>\n",
       "      <td>NaN</td>\n",
       "      <td>NaN</td>\n",
       "      <td>2</td>\n",
       "      <td>1/1/19</td>\n",
       "      <td>NaN</td>\n",
       "      <td>NaN</td>\n",
       "      <td>NaN</td>\n",
       "      <td>None</td>\n",
       "    </tr>\n",
       "    <tr>\n",
       "      <th>3</th>\n",
       "      <td>794159</td>\n",
       "      <td>1/1/19</td>\n",
       "      <td>UT</td>\n",
       "      <td>5.0</td>\n",
       "      <td>5.0</td>\n",
       "      <td>NaN</td>\n",
       "      <td>M</td>\n",
       "      <td>NaN</td>\n",
       "      <td>Site is swollen, red and warm to the touch. Pa...</td>\n",
       "      <td>NaN</td>\n",
       "      <td>...</td>\n",
       "      <td>Small red spot on his cheek at time of visit.</td>\n",
       "      <td>None</td>\n",
       "      <td>NaN</td>\n",
       "      <td>NaN</td>\n",
       "      <td>2</td>\n",
       "      <td>1/1/19</td>\n",
       "      <td>NaN</td>\n",
       "      <td>NaN</td>\n",
       "      <td>NaN</td>\n",
       "      <td>Amoxicillin</td>\n",
       "    </tr>\n",
       "    <tr>\n",
       "      <th>4</th>\n",
       "      <td>794160</td>\n",
       "      <td>1/1/19</td>\n",
       "      <td>TX</td>\n",
       "      <td>79.0</td>\n",
       "      <td>79.0</td>\n",
       "      <td>NaN</td>\n",
       "      <td>F</td>\n",
       "      <td>NaN</td>\n",
       "      <td>FLU LIKE: CHILLS ACHE ALL OVER; STRONG PAIN, W...</td>\n",
       "      <td>NaN</td>\n",
       "      <td>...</td>\n",
       "      <td>SINUSITIS; ATHROSCLEROSIS; DIABETES; HYPERCHOL...</td>\n",
       "      <td>SAME AS ITEM 11 ABOVE</td>\n",
       "      <td>NaN</td>\n",
       "      <td>NaN</td>\n",
       "      <td>2</td>\n",
       "      <td>1/1/19</td>\n",
       "      <td>NaN</td>\n",
       "      <td>Y</td>\n",
       "      <td>Y</td>\n",
       "      <td>ACE INHIBITORS</td>\n",
       "    </tr>\n",
       "  </tbody>\n",
       "</table>\n",
       "<p>5 rows × 35 columns</p>\n",
       "</div>"
      ],
      "text/plain": [
       "   VAERS_ID RECVDATE STATE  AGE_YRS  CAGE_YR  CAGE_MO SEX RPT_DATE  \\\n",
       "0    794156   1/1/19   NaN     69.0     69.0      NaN   F      NaN   \n",
       "1    794157   1/1/19    IL     68.0     68.0      NaN   F      NaN   \n",
       "2    794158   1/1/19    MA     62.0     62.0      NaN   F      NaN   \n",
       "3    794159   1/1/19    UT      5.0      5.0      NaN   M      NaN   \n",
       "4    794160   1/1/19    TX     79.0     79.0      NaN   F      NaN   \n",
       "\n",
       "                                        SYMPTOM_TEXT DIED  ...  \\\n",
       "0  Severe pain Lt. shoulder area, very localized ...  NaN  ...   \n",
       "1  Much joint pain/aching, lack of energy, listle...  NaN  ...   \n",
       "2  Headache, Fever, Chills, Body Aches, Nausea la...  NaN  ...   \n",
       "3  Site is swollen, red and warm to the touch. Pa...  NaN  ...   \n",
       "4  FLU LIKE: CHILLS ACHE ALL OVER; STRONG PAIN, W...  NaN  ...   \n",
       "\n",
       "                                             CUR_ILL                HISTORY  \\\n",
       "0                                               none                   none   \n",
       "1                                               None         Hypothryoidism   \n",
       "2                                               None                   None   \n",
       "3      Small red spot on his cheek at time of visit.                   None   \n",
       "4  SINUSITIS; ATHROSCLEROSIS; DIABETES; HYPERCHOL...  SAME AS ITEM 11 ABOVE   \n",
       "\n",
       "                           PRIOR_VAX SPLTTYPE  FORM_VERS TODAYS_DATE  \\\n",
       "0                                NaN      NaN          2      1/1/19   \n",
       "1  Arm soreness at site of injection      NaN          2      1/1/19   \n",
       "2                                NaN      NaN          2      1/1/19   \n",
       "3                                NaN      NaN          2      1/1/19   \n",
       "4                                NaN      NaN          2      1/1/19   \n",
       "\n",
       "  BIRTH_DEFECT OFC_VISIT ER_ED_VISIT       ALLERGIES  \n",
       "0          NaN         Y         NaN    tetracycline  \n",
       "1          NaN       NaN         NaN            None  \n",
       "2          NaN       NaN         NaN            None  \n",
       "3          NaN       NaN         NaN     Amoxicillin  \n",
       "4          NaN         Y           Y  ACE INHIBITORS  \n",
       "\n",
       "[5 rows x 35 columns]"
      ]
     },
     "execution_count": 64,
     "metadata": {},
     "output_type": "execute_result"
    }
   ],
   "source": [
    "df_sym.head()"
   ]
  },
  {
   "cell_type": "markdown",
   "metadata": {},
   "source": [
    "## Merged Datasets"
   ]
  },
  {
   "cell_type": "markdown",
   "metadata": {},
   "source": [
    "##### Since the information regarding both databases were seperated into two csv files, in order to be able to effectively analyse the datasets as one, I had to merge them based on one of the categorical identifier, VAERS_ID. "
   ]
  },
  {
   "cell_type": "code",
   "execution_count": 65,
   "metadata": {},
   "outputs": [
    {
     "data": {
      "text/html": [
       "<div>\n",
       "<style scoped>\n",
       "    .dataframe tbody tr th:only-of-type {\n",
       "        vertical-align: middle;\n",
       "    }\n",
       "\n",
       "    .dataframe tbody tr th {\n",
       "        vertical-align: top;\n",
       "    }\n",
       "\n",
       "    .dataframe thead th {\n",
       "        text-align: right;\n",
       "    }\n",
       "</style>\n",
       "<table border=\"1\" class=\"dataframe\">\n",
       "  <thead>\n",
       "    <tr style=\"text-align: right;\">\n",
       "      <th></th>\n",
       "      <th>VAERS_ID</th>\n",
       "      <th>VAX_TYPE</th>\n",
       "      <th>VAX_MANU</th>\n",
       "      <th>VAX_LOT</th>\n",
       "      <th>VAX_DOSE_SERIES</th>\n",
       "      <th>VAX_ROUTE</th>\n",
       "      <th>VAX_SITE</th>\n",
       "      <th>VAX_NAME</th>\n",
       "    </tr>\n",
       "  </thead>\n",
       "  <tbody>\n",
       "    <tr>\n",
       "      <th>0</th>\n",
       "      <td>794156</td>\n",
       "      <td>FLU4</td>\n",
       "      <td>GLAXOSMITHKLINE BIOLOGICALS</td>\n",
       "      <td>JZ3B7</td>\n",
       "      <td>UNK</td>\n",
       "      <td>IM</td>\n",
       "      <td>LA</td>\n",
       "      <td>INFLUENZA (SEASONAL) (FLUARIX QUADRIVALENT)</td>\n",
       "    </tr>\n",
       "    <tr>\n",
       "      <th>1</th>\n",
       "      <td>794157</td>\n",
       "      <td>VARZOS</td>\n",
       "      <td>GLAXOSMITHKLINE BIOLOGICALS</td>\n",
       "      <td>NaN</td>\n",
       "      <td>UNK</td>\n",
       "      <td>NaN</td>\n",
       "      <td>NaN</td>\n",
       "      <td>ZOSTER (SHINGRIX)</td>\n",
       "    </tr>\n",
       "    <tr>\n",
       "      <th>2</th>\n",
       "      <td>794158</td>\n",
       "      <td>VARZOS</td>\n",
       "      <td>GLAXOSMITHKLINE BIOLOGICALS</td>\n",
       "      <td>NaN</td>\n",
       "      <td>UNK</td>\n",
       "      <td>NaN</td>\n",
       "      <td>NaN</td>\n",
       "      <td>ZOSTER (SHINGRIX)</td>\n",
       "    </tr>\n",
       "    <tr>\n",
       "      <th>3</th>\n",
       "      <td>794159</td>\n",
       "      <td>DTAPIPV</td>\n",
       "      <td>GLAXOSMITHKLINE BIOLOGICALS</td>\n",
       "      <td>G9P35</td>\n",
       "      <td>1</td>\n",
       "      <td>IM</td>\n",
       "      <td>LL</td>\n",
       "      <td>DTAP + IPV (KINRIX)</td>\n",
       "    </tr>\n",
       "    <tr>\n",
       "      <th>4</th>\n",
       "      <td>794159</td>\n",
       "      <td>MMRV</td>\n",
       "      <td>MERCK &amp; CO. INC.</td>\n",
       "      <td>R015744</td>\n",
       "      <td>1</td>\n",
       "      <td>SC</td>\n",
       "      <td>LL</td>\n",
       "      <td>MEASLES + MUMPS + RUBELLA + VARICELLA (PROQUAD)</td>\n",
       "    </tr>\n",
       "  </tbody>\n",
       "</table>\n",
       "</div>"
      ],
      "text/plain": [
       "   VAERS_ID VAX_TYPE                     VAX_MANU  VAX_LOT VAX_DOSE_SERIES  \\\n",
       "0    794156     FLU4  GLAXOSMITHKLINE BIOLOGICALS    JZ3B7             UNK   \n",
       "1    794157   VARZOS  GLAXOSMITHKLINE BIOLOGICALS      NaN             UNK   \n",
       "2    794158   VARZOS  GLAXOSMITHKLINE BIOLOGICALS      NaN             UNK   \n",
       "3    794159  DTAPIPV  GLAXOSMITHKLINE BIOLOGICALS    G9P35               1   \n",
       "4    794159     MMRV             MERCK & CO. INC.  R015744               1   \n",
       "\n",
       "  VAX_ROUTE VAX_SITE                                         VAX_NAME  \n",
       "0        IM       LA      INFLUENZA (SEASONAL) (FLUARIX QUADRIVALENT)  \n",
       "1       NaN      NaN                                ZOSTER (SHINGRIX)  \n",
       "2       NaN      NaN                                ZOSTER (SHINGRIX)  \n",
       "3        IM       LL                              DTAP + IPV (KINRIX)  \n",
       "4        SC       LL  MEASLES + MUMPS + RUBELLA + VARICELLA (PROQUAD)  "
      ]
     },
     "execution_count": 65,
     "metadata": {},
     "output_type": "execute_result"
    }
   ],
   "source": [
    "df_vax.merge(df_sym, left_on='VAERS_ID' , right_on='VAERS_ID')\n",
    "df_vax.head()"
   ]
  },
  {
   "cell_type": "code",
   "execution_count": 66,
   "metadata": {},
   "outputs": [],
   "source": [
    "finaldata = df_vax.merge(df_sym, left_on='VAERS_ID' , right_on='VAERS_ID')"
   ]
  },
  {
   "cell_type": "markdown",
   "metadata": {},
   "source": [
    "## Name of Vaccine Providers (Pharmaceuticals)"
   ]
  },
  {
   "cell_type": "code",
   "execution_count": 67,
   "metadata": {},
   "outputs": [
    {
     "data": {
      "text/plain": [
       "GLAXOSMITHKLINE BIOLOGICALS          2596\n",
       "MERCK & CO. INC.                     1746\n",
       "SANOFI PASTEUR                        976\n",
       "SEQIRUS, INC.                         710\n",
       "PFIZER\\WYETH                          358\n",
       "UNKNOWN MANUFACTURER                  323\n",
       "NOVARTIS VACCINES AND DIAGNOSTICS     182\n",
       "PROTEIN SCIENCES CORPORATION           31\n",
       "CSL LIMITED                            21\n",
       "EMERGENT BIOSOLUTIONS                  20\n",
       "MEDIMMUNE VACCINES, INC.               14\n",
       "BERNA BIOTECH, LTD.                    10\n",
       "MASS. PUB HLTH BIOL LAB                 6\n",
       "INTERCELL AG                            6\n",
       "DYNAVAX TECHNOLOGIES CORPORATION        5\n",
       "PAXVAX                                  3\n",
       "TEVA PHARMACEUTICALS                    2\n",
       "MICHIGAN DEPT PUB HLTH                  1\n",
       "Name: VAX_MANU, dtype: int64"
      ]
     },
     "execution_count": 67,
     "metadata": {},
     "output_type": "execute_result"
    }
   ],
   "source": [
    "finaldata['VAX_MANU'].value_counts()"
   ]
  },
  {
   "cell_type": "markdown",
   "metadata": {},
   "source": [
    "##### Missing data is present in the type of manufacturers. This is a consequence on the collection survey method."
   ]
  },
  {
   "cell_type": "code",
   "execution_count": 68,
   "metadata": {},
   "outputs": [
    {
     "data": {
      "text/plain": [
       "ZOSTER (SHINGRIX)                                          1847\n",
       "INFLUENZA (SEASONAL) (FLUCELVAX QUADRIVALENT)               617\n",
       "ZOSTER (ZOSTAVAX)                                           319\n",
       "INFLUENZA (SEASONAL) (FLUZONE QUADRIVALENT)                 319\n",
       "PNEUMO (PREVNAR13)                                          299\n",
       "PNEUMO (PNEUMOVAX)                                          274\n",
       "HPV (GARDASIL 9)                                            248\n",
       "MEASLES + MUMPS + RUBELLA (MMR II)                          199\n",
       "VARICELLA (VARIVAX)                                         186\n",
       "INFLUENZA (SEASONAL) (FLUARIX QUADRIVALENT)                 165\n",
       "INFLUENZA (SEASONAL) (FLUZONE HIGH-DOSE)                    146\n",
       "ROTAVIRUS (ROTATEQ)                                         132\n",
       "INFLUENZA (SEASONAL) (NO BRAND NAME)                        129\n",
       "TDAP (BOOSTRIX)                                             123\n",
       "HEP A (VAQTA)                                               119\n",
       "MEASLES + MUMPS + RUBELLA + VARICELLA (PROQUAD)             114\n",
       "MENINGOCOCCAL CONJUGATE (MENACTRA)                          111\n",
       "INFLUENZA (SEASONAL) (FLULAVAL QUADRIVALENT)                103\n",
       "TDAP (ADACEL)                                                99\n",
       "HEP A (HAVRIX)                                               94\n",
       "INFLUENZA (SEASONAL) (AFLURIA QUADRIVALENT)                  93\n",
       "DTAP + IPV + HIB (PENTACEL)                                  75\n",
       "DTAP + HEPB + IPV (PEDIARIX)                                 71\n",
       "HEP B (RECOMBIVAX HB)                                        66\n",
       "MENINGOCOCCAL B (BEXSERO)                                    63\n",
       "HIB (PEDVAXHIB)                                              58\n",
       "HEP B (ENGERIX-B)                                            55\n",
       "MENINGOCOCCAL B (TRUMENBA)                                   51\n",
       "HIB (ACTHIB)                                                 51\n",
       "DTAP + IPV (KINRIX)                                          47\n",
       "                                                           ... \n",
       "INFLUENZA (SEASONAL) (FLUBLOK)                                4\n",
       "MEASLES + MUMPS + RUBELLA + VARICELLA (NO BRAND NAME)         4\n",
       "POLIO VIRUS, INACT. (NO BRAND NAME)                           4\n",
       "HIB (NO BRAND NAME)                                           3\n",
       "RABIES (RABAVERT)                                             3\n",
       "YELLOW FEVER (YF-VAX)                                         3\n",
       "RABIES (NO BRAND NAME)                                        3\n",
       "ZOSTER (NO BRAND NAME)                                        3\n",
       "INFLUENZA (SEASONAL) (FLUMIST)                                3\n",
       "CHOLERA (VAXCHORA)                                            3\n",
       "ADENOVIRUS TYPES 4 & 7, LIVE, ORAL (NO BRAND NAME)            2\n",
       "INFLUENZA (SEASONAL) (FLUZONE INTRADERMAL QUADRIVALENT)       2\n",
       "ANTHRAX (NO BRAND NAME)                                       2\n",
       "DTAP + IPV (UNKNOWN)                                          2\n",
       "DT ADSORBED (NO BRAND NAME)                                   2\n",
       "DTP + IPV (NO BRAND NAME)                                     1\n",
       "POLIO VIRUS, INACT. (POLIOVAX)                                1\n",
       "VACCINE NOT SPECIFIED (OTHER)                                 1\n",
       "BCG (NO BRAND NAME)                                           1\n",
       "TYPHOID VI POLYSACCHARIDE (NO BRAND NAME)                     1\n",
       "DTAP + HEPB + IPV (NO BRAND NAME)                             1\n",
       "HIB + HEP B (NO BRAND NAME)                                   1\n",
       "INFLUENZA (SEASONAL) (FLUCELVAX)                              1\n",
       "INFLUENZA (SEASONAL) (FLUZONE)                                1\n",
       "DTAP+IPV+HEPB+HIB (INFANRIX HEXA)                             1\n",
       "TDAP + IPV (DOMESTIC)                                         1\n",
       "DTP (NO BRAND NAME)                                           1\n",
       "INFLUENZA (H1N1) (H1N1 (MONOVALENT) (UNKNOWN))                1\n",
       "MENINGOCOCCAL CONJUGATE (NO BRAND NAME)                       1\n",
       "HIB (HIBTITER)                                                1\n",
       "Name: VAX_NAME, Length: 97, dtype: int64"
      ]
     },
     "execution_count": 68,
     "metadata": {},
     "output_type": "execute_result"
    }
   ],
   "source": [
    "finaldata['VAX_NAME'].value_counts()"
   ]
  },
  {
   "cell_type": "markdown",
   "metadata": {},
   "source": [
    "## Route of Administration \n",
    "\n",
    "##### __*IM*__: intramuscular injection (ex. tetnus, HepB, flu vaccine) --- delivered into muscle\n",
    "\n",
    "##### __*UN*__: unknown site injection\n",
    "\n",
    "##### __*SYR*__: syringe (undisclosed if intramuscular or subcutanous)\n",
    "\n",
    "##### __*SC*__: subcutanous injection (ex. MMR, Varicella) ---- in the fat layer underneath skin\n",
    "\n",
    "##### __*PO*__: per oral (medication) \n",
    "\n",
    "##### __*OT*__: other\n",
    "\n",
    "##### __*IN*__: intranasal (flu vaccine)\n",
    "\n",
    "##### __*ID*__: intradermal (ex. TB test) --- skin layer underneath epidermis, upper layer\n"
   ]
  },
  {
   "cell_type": "code",
   "execution_count": 69,
   "metadata": {},
   "outputs": [
    {
     "data": {
      "text/plain": [
       "IM     3584\n",
       "UN     1757\n",
       "SYR     679\n",
       "SC      323\n",
       "PO      106\n",
       "OT       37\n",
       "IN       15\n",
       "ID       14\n",
       "Name: VAX_ROUTE, dtype: int64"
      ]
     },
     "execution_count": 69,
     "metadata": {},
     "output_type": "execute_result"
    }
   ],
   "source": [
    "finaldata['VAX_ROUTE'].value_counts()"
   ]
  },
  {
   "cell_type": "code",
   "execution_count": 70,
   "metadata": {},
   "outputs": [
    {
     "data": {
      "text/plain": [
       "<matplotlib.axes._subplots.AxesSubplot at 0x121bf9390>"
      ]
     },
     "execution_count": 70,
     "metadata": {},
     "output_type": "execute_result"
    },
    {
     "data": {
      "image/png": "[encoded data removed]",
      "text/plain": [
       "<Figure size 432x288 with 1 Axes>"
      ]
     },
     "metadata": {},
     "output_type": "display_data"
    }
   ],
   "source": [
    "finaldata['VAX_ROUTE'].value_counts().plot('barh')"
   ]
  },
  {
   "cell_type": "code",
   "execution_count": 71,
   "metadata": {},
   "outputs": [
    {
     "name": "stdout",
     "output_type": "stream",
     "text": [
      "[55, 27, 10, 5, 2, 0, 0, 0]\n",
      "['IM', 'UN', 'SYR', 'SC', 'PO', 'OT', 'IN', 'ID']\n"
     ]
    },
    {
     "data": {
      "image/png": "[encoded data removed]",
      "text/plain": [
       "<Figure size 432x288 with 1 Axes>"
      ]
     },
     "metadata": {},
     "output_type": "display_data"
    }
   ],
   "source": [
    "topic = ['IM', 'UN', 'SYR', 'SC', 'PO', 'OT', 'IN', 'ID']\n",
    "Positive_percentage = [55, 27, 10, 5, 2, 0, 0, 0]\n",
    "\n",
    "sizes = Positive_percentage\n",
    "print(sizes)\n",
    "labels = list(topic)\n",
    "print(labels)\n",
    "colors = ['yellowgreen', 'lightgreen', 'darkgreen', 'gold', 'red', 'lightsalmon', 'darkred']\n",
    "plt.pie(sizes, explode=None, labels=labels, colors=colors, autopct='%1.1f%%', shadow=True, startangle=90)   #line 240\n",
    "\n",
    "plt.axis('equal')\n",
    "plt.legend()\n",
    "plt.show()"
   ]
  },
  {
   "cell_type": "markdown",
   "metadata": {},
   "source": [
    "##### To note, the IM method of delivery is still the most common used in many vaccine type. Intranasal (non-invasive) is the lowerst, but there is a lot of information missing from the data. In addition, many of the standard vaccinations do not yet come in that formulation."
   ]
  },
  {
   "cell_type": "markdown",
   "metadata": {},
   "source": [
    "## Visualization of Datasets"
   ]
  },
  {
   "cell_type": "code",
   "execution_count": 72,
   "metadata": {},
   "outputs": [
    {
     "data": {
      "text/plain": [
       "Text(0, 0.5, 'Count')"
      ]
     },
     "execution_count": 72,
     "metadata": {},
     "output_type": "execute_result"
    },
    {
     "data": {
      "image/png": "[encoded data removed]",
      "text/plain": [
       "<Figure size 432x288 with 1 Axes>"
      ]
     },
     "metadata": {},
     "output_type": "display_data"
    }
   ],
   "source": [
    "import matplotlib.pyplot as plt \n",
    "finaldata['AGE_YRS'].hist(bins=10)\n",
    "plt.xlabel('Age')\n",
    "plt.ylabel('Count')\n",
    "#newdf = finaldata['AGE_YRS'].value_counts()\n",
    "#range of age and histo"
   ]
  },
  {
   "cell_type": "markdown",
   "metadata": {},
   "source": [
    "##### As can be visuablised above, the number of vaccines administered are higher in specific subsectors of the population, particulary higher for childer and young adults under 20, and for adults between 60 and 70. "
   ]
  },
  {
   "cell_type": "code",
   "execution_count": 73,
   "metadata": {},
   "outputs": [
    {
     "data": {
      "text/html": [
       "<div>\n",
       "<style scoped>\n",
       "    .dataframe tbody tr th:only-of-type {\n",
       "        vertical-align: middle;\n",
       "    }\n",
       "\n",
       "    .dataframe tbody tr th {\n",
       "        vertical-align: top;\n",
       "    }\n",
       "\n",
       "    .dataframe thead th {\n",
       "        text-align: right;\n",
       "    }\n",
       "</style>\n",
       "<table border=\"1\" class=\"dataframe\">\n",
       "  <thead>\n",
       "    <tr style=\"text-align: right;\">\n",
       "      <th></th>\n",
       "      <th>VAX_TYPE</th>\n",
       "      <th>VAX_MANU</th>\n",
       "      <th>VAX_LOT</th>\n",
       "      <th>VAX_DOSE_SERIES</th>\n",
       "      <th>VAX_ROUTE</th>\n",
       "      <th>VAX_SITE</th>\n",
       "      <th>VAX_NAME</th>\n",
       "      <th>RECVDATE</th>\n",
       "      <th>STATE</th>\n",
       "      <th>AGE_YRS</th>\n",
       "      <th>...</th>\n",
       "      <th>CUR_ILL</th>\n",
       "      <th>HISTORY</th>\n",
       "      <th>PRIOR_VAX</th>\n",
       "      <th>SPLTTYPE</th>\n",
       "      <th>FORM_VERS</th>\n",
       "      <th>TODAYS_DATE</th>\n",
       "      <th>BIRTH_DEFECT</th>\n",
       "      <th>OFC_VISIT</th>\n",
       "      <th>ER_ED_VISIT</th>\n",
       "      <th>ALLERGIES</th>\n",
       "    </tr>\n",
       "    <tr>\n",
       "      <th>VAERS_ID</th>\n",
       "      <th></th>\n",
       "      <th></th>\n",
       "      <th></th>\n",
       "      <th></th>\n",
       "      <th></th>\n",
       "      <th></th>\n",
       "      <th></th>\n",
       "      <th></th>\n",
       "      <th></th>\n",
       "      <th></th>\n",
       "      <th></th>\n",
       "      <th></th>\n",
       "      <th></th>\n",
       "      <th></th>\n",
       "      <th></th>\n",
       "      <th></th>\n",
       "      <th></th>\n",
       "      <th></th>\n",
       "      <th></th>\n",
       "      <th></th>\n",
       "      <th></th>\n",
       "    </tr>\n",
       "  </thead>\n",
       "  <tbody>\n",
       "    <tr>\n",
       "      <th>794156</th>\n",
       "      <td>FLU4</td>\n",
       "      <td>GLAXOSMITHKLINE BIOLOGICALS</td>\n",
       "      <td>JZ3B7</td>\n",
       "      <td>UNK</td>\n",
       "      <td>IM</td>\n",
       "      <td>LA</td>\n",
       "      <td>INFLUENZA (SEASONAL) (FLUARIX QUADRIVALENT)</td>\n",
       "      <td>1/1/19</td>\n",
       "      <td>NaN</td>\n",
       "      <td>69.0</td>\n",
       "      <td>...</td>\n",
       "      <td>none</td>\n",
       "      <td>none</td>\n",
       "      <td>NaN</td>\n",
       "      <td>NaN</td>\n",
       "      <td>2</td>\n",
       "      <td>1/1/19</td>\n",
       "      <td>NaN</td>\n",
       "      <td>Y</td>\n",
       "      <td>NaN</td>\n",
       "      <td>tetracycline</td>\n",
       "    </tr>\n",
       "    <tr>\n",
       "      <th>794157</th>\n",
       "      <td>VARZOS</td>\n",
       "      <td>GLAXOSMITHKLINE BIOLOGICALS</td>\n",
       "      <td>NaN</td>\n",
       "      <td>UNK</td>\n",
       "      <td>NaN</td>\n",
       "      <td>NaN</td>\n",
       "      <td>ZOSTER (SHINGRIX)</td>\n",
       "      <td>1/1/19</td>\n",
       "      <td>IL</td>\n",
       "      <td>68.0</td>\n",
       "      <td>...</td>\n",
       "      <td>None</td>\n",
       "      <td>Hypothryoidism</td>\n",
       "      <td>Arm soreness at site of injection</td>\n",
       "      <td>NaN</td>\n",
       "      <td>2</td>\n",
       "      <td>1/1/19</td>\n",
       "      <td>NaN</td>\n",
       "      <td>NaN</td>\n",
       "      <td>NaN</td>\n",
       "      <td>None</td>\n",
       "    </tr>\n",
       "    <tr>\n",
       "      <th>794158</th>\n",
       "      <td>VARZOS</td>\n",
       "      <td>GLAXOSMITHKLINE BIOLOGICALS</td>\n",
       "      <td>NaN</td>\n",
       "      <td>UNK</td>\n",
       "      <td>NaN</td>\n",
       "      <td>NaN</td>\n",
       "      <td>ZOSTER (SHINGRIX)</td>\n",
       "      <td>1/1/19</td>\n",
       "      <td>MA</td>\n",
       "      <td>62.0</td>\n",
       "      <td>...</td>\n",
       "      <td>None</td>\n",
       "      <td>None</td>\n",
       "      <td>NaN</td>\n",
       "      <td>NaN</td>\n",
       "      <td>2</td>\n",
       "      <td>1/1/19</td>\n",
       "      <td>NaN</td>\n",
       "      <td>NaN</td>\n",
       "      <td>NaN</td>\n",
       "      <td>None</td>\n",
       "    </tr>\n",
       "    <tr>\n",
       "      <th>794159</th>\n",
       "      <td>DTAPIPV</td>\n",
       "      <td>GLAXOSMITHKLINE BIOLOGICALS</td>\n",
       "      <td>G9P35</td>\n",
       "      <td>1</td>\n",
       "      <td>IM</td>\n",
       "      <td>LL</td>\n",
       "      <td>DTAP + IPV (KINRIX)</td>\n",
       "      <td>1/1/19</td>\n",
       "      <td>UT</td>\n",
       "      <td>5.0</td>\n",
       "      <td>...</td>\n",
       "      <td>Small red spot on his cheek at time of visit.</td>\n",
       "      <td>None</td>\n",
       "      <td>NaN</td>\n",
       "      <td>NaN</td>\n",
       "      <td>2</td>\n",
       "      <td>1/1/19</td>\n",
       "      <td>NaN</td>\n",
       "      <td>NaN</td>\n",
       "      <td>NaN</td>\n",
       "      <td>Amoxicillin</td>\n",
       "    </tr>\n",
       "    <tr>\n",
       "      <th>794159</th>\n",
       "      <td>MMRV</td>\n",
       "      <td>MERCK &amp; CO. INC.</td>\n",
       "      <td>R015744</td>\n",
       "      <td>1</td>\n",
       "      <td>SC</td>\n",
       "      <td>LL</td>\n",
       "      <td>MEASLES + MUMPS + RUBELLA + VARICELLA (PROQUAD)</td>\n",
       "      <td>1/1/19</td>\n",
       "      <td>UT</td>\n",
       "      <td>5.0</td>\n",
       "      <td>...</td>\n",
       "      <td>Small red spot on his cheek at time of visit.</td>\n",
       "      <td>None</td>\n",
       "      <td>NaN</td>\n",
       "      <td>NaN</td>\n",
       "      <td>2</td>\n",
       "      <td>1/1/19</td>\n",
       "      <td>NaN</td>\n",
       "      <td>NaN</td>\n",
       "      <td>NaN</td>\n",
       "      <td>Amoxicillin</td>\n",
       "    </tr>\n",
       "  </tbody>\n",
       "</table>\n",
       "<p>5 rows × 41 columns</p>\n",
       "</div>"
      ],
      "text/plain": [
       "         VAX_TYPE                     VAX_MANU  VAX_LOT VAX_DOSE_SERIES  \\\n",
       "VAERS_ID                                                                  \n",
       "794156       FLU4  GLAXOSMITHKLINE BIOLOGICALS    JZ3B7             UNK   \n",
       "794157     VARZOS  GLAXOSMITHKLINE BIOLOGICALS      NaN             UNK   \n",
       "794158     VARZOS  GLAXOSMITHKLINE BIOLOGICALS      NaN             UNK   \n",
       "794159    DTAPIPV  GLAXOSMITHKLINE BIOLOGICALS    G9P35               1   \n",
       "794159       MMRV             MERCK & CO. INC.  R015744               1   \n",
       "\n",
       "         VAX_ROUTE VAX_SITE                                         VAX_NAME  \\\n",
       "VAERS_ID                                                                       \n",
       "794156          IM       LA      INFLUENZA (SEASONAL) (FLUARIX QUADRIVALENT)   \n",
       "794157         NaN      NaN                                ZOSTER (SHINGRIX)   \n",
       "794158         NaN      NaN                                ZOSTER (SHINGRIX)   \n",
       "794159          IM       LL                              DTAP + IPV (KINRIX)   \n",
       "794159          SC       LL  MEASLES + MUMPS + RUBELLA + VARICELLA (PROQUAD)   \n",
       "\n",
       "         RECVDATE STATE  AGE_YRS  ...  \\\n",
       "VAERS_ID                          ...   \n",
       "794156     1/1/19   NaN     69.0  ...   \n",
       "794157     1/1/19    IL     68.0  ...   \n",
       "794158     1/1/19    MA     62.0  ...   \n",
       "794159     1/1/19    UT      5.0  ...   \n",
       "794159     1/1/19    UT      5.0  ...   \n",
       "\n",
       "                                                CUR_ILL         HISTORY  \\\n",
       "VAERS_ID                                                                  \n",
       "794156                                             none            none   \n",
       "794157                                             None  Hypothryoidism   \n",
       "794158                                             None            None   \n",
       "794159    Small red spot on his cheek at time of visit.            None   \n",
       "794159    Small red spot on his cheek at time of visit.            None   \n",
       "\n",
       "                                  PRIOR_VAX SPLTTYPE FORM_VERS TODAYS_DATE  \\\n",
       "VAERS_ID                                                                     \n",
       "794156                                  NaN      NaN         2      1/1/19   \n",
       "794157    Arm soreness at site of injection      NaN         2      1/1/19   \n",
       "794158                                  NaN      NaN         2      1/1/19   \n",
       "794159                                  NaN      NaN         2      1/1/19   \n",
       "794159                                  NaN      NaN         2      1/1/19   \n",
       "\n",
       "         BIRTH_DEFECT OFC_VISIT ER_ED_VISIT     ALLERGIES  \n",
       "VAERS_ID                                                   \n",
       "794156            NaN         Y         NaN  tetracycline  \n",
       "794157            NaN       NaN         NaN          None  \n",
       "794158            NaN       NaN         NaN          None  \n",
       "794159            NaN       NaN         NaN   Amoxicillin  \n",
       "794159            NaN       NaN         NaN   Amoxicillin  \n",
       "\n",
       "[5 rows x 41 columns]"
      ]
     },
     "execution_count": 73,
     "metadata": {},
     "output_type": "execute_result"
    }
   ],
   "source": [
    "finaldata=finaldata.set_index('VAERS_ID')\n",
    "finaldata.head()"
   ]
  },
  {
   "cell_type": "markdown",
   "metadata": {},
   "source": [
    "## Selected categories of interest"
   ]
  },
  {
   "cell_type": "markdown",
   "metadata": {},
   "source": [
    "##### After looking at the merged dataset, I identified categories of interest that I wanted to analyze further for any correlation. "
   ]
  },
  {
   "cell_type": "code",
   "execution_count": 74,
   "metadata": {},
   "outputs": [
    {
     "data": {
      "text/html": [
       "<div>\n",
       "<style scoped>\n",
       "    .dataframe tbody tr th:only-of-type {\n",
       "        vertical-align: middle;\n",
       "    }\n",
       "\n",
       "    .dataframe tbody tr th {\n",
       "        vertical-align: top;\n",
       "    }\n",
       "\n",
       "    .dataframe thead th {\n",
       "        text-align: right;\n",
       "    }\n",
       "</style>\n",
       "<table border=\"1\" class=\"dataframe\">\n",
       "  <thead>\n",
       "    <tr style=\"text-align: right;\">\n",
       "      <th></th>\n",
       "      <th>VAX_MANU</th>\n",
       "      <th>VAX_ROUTE</th>\n",
       "      <th>VAX_SITE</th>\n",
       "      <th>VAX_NAME</th>\n",
       "      <th>AGE_YRS</th>\n",
       "      <th>ER_VISIT</th>\n",
       "    </tr>\n",
       "    <tr>\n",
       "      <th>VAERS_ID</th>\n",
       "      <th></th>\n",
       "      <th></th>\n",
       "      <th></th>\n",
       "      <th></th>\n",
       "      <th></th>\n",
       "      <th></th>\n",
       "    </tr>\n",
       "  </thead>\n",
       "  <tbody>\n",
       "    <tr>\n",
       "      <th>794156</th>\n",
       "      <td>GLAXOSMITHKLINE BIOLOGICALS</td>\n",
       "      <td>IM</td>\n",
       "      <td>LA</td>\n",
       "      <td>INFLUENZA (SEASONAL) (FLUARIX QUADRIVALENT)</td>\n",
       "      <td>69.0</td>\n",
       "      <td>NaN</td>\n",
       "    </tr>\n",
       "    <tr>\n",
       "      <th>794157</th>\n",
       "      <td>GLAXOSMITHKLINE BIOLOGICALS</td>\n",
       "      <td>NaN</td>\n",
       "      <td>NaN</td>\n",
       "      <td>ZOSTER (SHINGRIX)</td>\n",
       "      <td>68.0</td>\n",
       "      <td>NaN</td>\n",
       "    </tr>\n",
       "    <tr>\n",
       "      <th>794158</th>\n",
       "      <td>GLAXOSMITHKLINE BIOLOGICALS</td>\n",
       "      <td>NaN</td>\n",
       "      <td>NaN</td>\n",
       "      <td>ZOSTER (SHINGRIX)</td>\n",
       "      <td>62.0</td>\n",
       "      <td>NaN</td>\n",
       "    </tr>\n",
       "    <tr>\n",
       "      <th>794159</th>\n",
       "      <td>GLAXOSMITHKLINE BIOLOGICALS</td>\n",
       "      <td>IM</td>\n",
       "      <td>LL</td>\n",
       "      <td>DTAP + IPV (KINRIX)</td>\n",
       "      <td>5.0</td>\n",
       "      <td>NaN</td>\n",
       "    </tr>\n",
       "    <tr>\n",
       "      <th>794159</th>\n",
       "      <td>MERCK &amp; CO. INC.</td>\n",
       "      <td>SC</td>\n",
       "      <td>LL</td>\n",
       "      <td>MEASLES + MUMPS + RUBELLA + VARICELLA (PROQUAD)</td>\n",
       "      <td>5.0</td>\n",
       "      <td>NaN</td>\n",
       "    </tr>\n",
       "  </tbody>\n",
       "</table>\n",
       "</div>"
      ],
      "text/plain": [
       "                             VAX_MANU VAX_ROUTE VAX_SITE  \\\n",
       "VAERS_ID                                                   \n",
       "794156    GLAXOSMITHKLINE BIOLOGICALS        IM       LA   \n",
       "794157    GLAXOSMITHKLINE BIOLOGICALS       NaN      NaN   \n",
       "794158    GLAXOSMITHKLINE BIOLOGICALS       NaN      NaN   \n",
       "794159    GLAXOSMITHKLINE BIOLOGICALS        IM       LL   \n",
       "794159               MERCK & CO. INC.        SC       LL   \n",
       "\n",
       "                                                 VAX_NAME  AGE_YRS ER_VISIT  \n",
       "VAERS_ID                                                                     \n",
       "794156        INFLUENZA (SEASONAL) (FLUARIX QUADRIVALENT)     69.0      NaN  \n",
       "794157                                  ZOSTER (SHINGRIX)     68.0      NaN  \n",
       "794158                                  ZOSTER (SHINGRIX)     62.0      NaN  \n",
       "794159                                DTAP + IPV (KINRIX)      5.0      NaN  \n",
       "794159    MEASLES + MUMPS + RUBELLA + VARICELLA (PROQUAD)      5.0      NaN  "
      ]
     },
     "execution_count": 74,
     "metadata": {},
     "output_type": "execute_result"
    }
   ],
   "source": [
    "selection=['VAX_MANU','VAX_ROUTE','VAX_SITE','VAX_NAME','AGE_YRS','ER_VISIT']\n",
    "cutfinaldata=pd.DataFrame(finaldata,columns=selection)\n",
    "cutfinaldata.head()"
   ]
  },
  {
   "cell_type": "code",
   "execution_count": 75,
   "metadata": {},
   "outputs": [
    {
     "data": {
      "text/plain": [
       "VAX_MANU     7010\n",
       "VAX_ROUTE    6515\n",
       "VAX_SITE     6233\n",
       "VAX_NAME     7010\n",
       "AGE_YRS      5613\n",
       "ER_VISIT       70\n",
       "dtype: int64"
      ]
     },
     "execution_count": 75,
     "metadata": {},
     "output_type": "execute_result"
    }
   ],
   "source": [
    "cutfinaldata.count()"
   ]
  },
  {
   "cell_type": "markdown",
   "metadata": {},
   "source": [
    "ER visit (not collected or not needed) and no way it was reported "
   ]
  },
  {
   "cell_type": "code",
   "execution_count": 76,
   "metadata": {},
   "outputs": [
    {
     "data": {
      "text/plain": [
       "<matplotlib.axes._subplots.AxesSubplot at 0x1220352e8>"
      ]
     },
     "execution_count": 76,
     "metadata": {},
     "output_type": "execute_result"
    },
    {
     "data": {
      "image/png": "[encoded data removed]",
      "text/plain": [
       "<Figure size 432x288 with 1 Axes>"
      ]
     },
     "metadata": {},
     "output_type": "display_data"
    }
   ],
   "source": [
    "cutfinaldata['AGE_YRS'].hist(bins=10)"
   ]
  },
  {
   "cell_type": "code",
   "execution_count": 77,
   "metadata": {},
   "outputs": [
    {
     "data": {
      "text/plain": [
       "VAX_MANU      object\n",
       "VAX_ROUTE     object\n",
       "VAX_SITE      object\n",
       "VAX_NAME      object\n",
       "AGE_YRS      float64\n",
       "ER_VISIT      object\n",
       "dtype: object"
      ]
     },
     "execution_count": 77,
     "metadata": {},
     "output_type": "execute_result"
    }
   ],
   "source": [
    "cutfinaldata.dtypes"
   ]
  },
  {
   "cell_type": "code",
   "execution_count": 78,
   "metadata": {},
   "outputs": [],
   "source": [
    "cutfinaldata['VAX_MANU']=cutfinaldata['VAX_MANU'].astype('category').cat.codes\n",
    "cutfinaldata['VAX_ROUTE']=cutfinaldata['VAX_ROUTE'].astype('category').cat.codes\n",
    "cutfinaldata['VAX_SITE']=cutfinaldata['VAX_SITE'].astype('category').cat.codes\n",
    "cutfinaldata['VAX_NAME']=cutfinaldata['VAX_NAME'].astype('category').cat.codes\n",
    "cutfinaldata['ER_VISIT']=cutfinaldata['ER_VISIT'].astype('category').cat.codes"
   ]
  },
  {
   "cell_type": "code",
   "execution_count": 79,
   "metadata": {},
   "outputs": [
    {
     "data": {
      "text/plain": [
       "VAX_MANU        int8\n",
       "VAX_ROUTE       int8\n",
       "VAX_SITE        int8\n",
       "VAX_NAME        int8\n",
       "AGE_YRS      float64\n",
       "ER_VISIT        int8\n",
       "dtype: object"
      ]
     },
     "execution_count": 79,
     "metadata": {},
     "output_type": "execute_result"
    }
   ],
   "source": [
    "cutfinaldata.dtypes"
   ]
  },
  {
   "cell_type": "markdown",
   "metadata": {},
   "source": [
    "## Correlation Analysis"
   ]
  },
  {
   "cell_type": "code",
   "execution_count": 80,
   "metadata": {},
   "outputs": [
    {
     "data": {
      "text/html": [
       "<style  type=\"text/css\" >\n",
       "    #T_7236f77c_72a8_11e9_89d3_a0999b0adcd1row0_col0 {\n",
       "            background-color:  #67001f;\n",
       "            color:  #f1f1f1;\n",
       "        }    #T_7236f77c_72a8_11e9_89d3_a0999b0adcd1row0_col1 {\n",
       "            background-color:  #9dcbe1;\n",
       "            color:  #000000;\n",
       "        }    #T_7236f77c_72a8_11e9_89d3_a0999b0adcd1row0_col2 {\n",
       "            background-color:  #a5cee3;\n",
       "            color:  #000000;\n",
       "        }    #T_7236f77c_72a8_11e9_89d3_a0999b0adcd1row0_col3 {\n",
       "            background-color:  #053061;\n",
       "            color:  #f1f1f1;\n",
       "        }    #T_7236f77c_72a8_11e9_89d3_a0999b0adcd1row0_col4 {\n",
       "            background-color:  #1f63a8;\n",
       "            color:  #f1f1f1;\n",
       "        }    #T_7236f77c_72a8_11e9_89d3_a0999b0adcd1row0_col5 {\n",
       "            background-color:  #93c6de;\n",
       "            color:  #000000;\n",
       "        }    #T_7236f77c_72a8_11e9_89d3_a0999b0adcd1row1_col0 {\n",
       "            background-color:  #9dcbe1;\n",
       "            color:  #000000;\n",
       "        }    #T_7236f77c_72a8_11e9_89d3_a0999b0adcd1row1_col1 {\n",
       "            background-color:  #67001f;\n",
       "            color:  #f1f1f1;\n",
       "        }    #T_7236f77c_72a8_11e9_89d3_a0999b0adcd1row1_col2 {\n",
       "            background-color:  #fcd3bc;\n",
       "            color:  #000000;\n",
       "        }    #T_7236f77c_72a8_11e9_89d3_a0999b0adcd1row1_col3 {\n",
       "            background-color:  #a9d1e5;\n",
       "            color:  #000000;\n",
       "        }    #T_7236f77c_72a8_11e9_89d3_a0999b0adcd1row1_col4 {\n",
       "            background-color:  #4f9bc7;\n",
       "            color:  #000000;\n",
       "        }    #T_7236f77c_72a8_11e9_89d3_a0999b0adcd1row1_col5 {\n",
       "            background-color:  #96c7df;\n",
       "            color:  #000000;\n",
       "        }    #T_7236f77c_72a8_11e9_89d3_a0999b0adcd1row2_col0 {\n",
       "            background-color:  #a5cee3;\n",
       "            color:  #000000;\n",
       "        }    #T_7236f77c_72a8_11e9_89d3_a0999b0adcd1row2_col1 {\n",
       "            background-color:  #fcd3bc;\n",
       "            color:  #000000;\n",
       "        }    #T_7236f77c_72a8_11e9_89d3_a0999b0adcd1row2_col2 {\n",
       "            background-color:  #67001f;\n",
       "            color:  #f1f1f1;\n",
       "        }    #T_7236f77c_72a8_11e9_89d3_a0999b0adcd1row2_col3 {\n",
       "            background-color:  #68abd0;\n",
       "            color:  #000000;\n",
       "        }    #T_7236f77c_72a8_11e9_89d3_a0999b0adcd1row2_col4 {\n",
       "            background-color:  #3480b9;\n",
       "            color:  #000000;\n",
       "        }    #T_7236f77c_72a8_11e9_89d3_a0999b0adcd1row2_col5 {\n",
       "            background-color:  #8ac0db;\n",
       "            color:  #000000;\n",
       "        }    #T_7236f77c_72a8_11e9_89d3_a0999b0adcd1row3_col0 {\n",
       "            background-color:  #053061;\n",
       "            color:  #f1f1f1;\n",
       "        }    #T_7236f77c_72a8_11e9_89d3_a0999b0adcd1row3_col1 {\n",
       "            background-color:  #a9d1e5;\n",
       "            color:  #000000;\n",
       "        }    #T_7236f77c_72a8_11e9_89d3_a0999b0adcd1row3_col2 {\n",
       "            background-color:  #68abd0;\n",
       "            color:  #000000;\n",
       "        }    #T_7236f77c_72a8_11e9_89d3_a0999b0adcd1row3_col3 {\n",
       "            background-color:  #67001f;\n",
       "            color:  #f1f1f1;\n",
       "        }    #T_7236f77c_72a8_11e9_89d3_a0999b0adcd1row3_col4 {\n",
       "            background-color:  #f6b394;\n",
       "            color:  #000000;\n",
       "        }    #T_7236f77c_72a8_11e9_89d3_a0999b0adcd1row3_col5 {\n",
       "            background-color:  #75b2d4;\n",
       "            color:  #000000;\n",
       "        }    #T_7236f77c_72a8_11e9_89d3_a0999b0adcd1row4_col0 {\n",
       "            background-color:  #1f63a8;\n",
       "            color:  #f1f1f1;\n",
       "        }    #T_7236f77c_72a8_11e9_89d3_a0999b0adcd1row4_col1 {\n",
       "            background-color:  #4f9bc7;\n",
       "            color:  #000000;\n",
       "        }    #T_7236f77c_72a8_11e9_89d3_a0999b0adcd1row4_col2 {\n",
       "            background-color:  #3480b9;\n",
       "            color:  #000000;\n",
       "        }    #T_7236f77c_72a8_11e9_89d3_a0999b0adcd1row4_col3 {\n",
       "            background-color:  #f6b394;\n",
       "            color:  #000000;\n",
       "        }    #T_7236f77c_72a8_11e9_89d3_a0999b0adcd1row4_col4 {\n",
       "            background-color:  #67001f;\n",
       "            color:  #f1f1f1;\n",
       "        }    #T_7236f77c_72a8_11e9_89d3_a0999b0adcd1row4_col5 {\n",
       "            background-color:  #7eb8d7;\n",
       "            color:  #000000;\n",
       "        }    #T_7236f77c_72a8_11e9_89d3_a0999b0adcd1row5_col0 {\n",
       "            background-color:  #93c6de;\n",
       "            color:  #000000;\n",
       "        }    #T_7236f77c_72a8_11e9_89d3_a0999b0adcd1row5_col1 {\n",
       "            background-color:  #96c7df;\n",
       "            color:  #000000;\n",
       "        }    #T_7236f77c_72a8_11e9_89d3_a0999b0adcd1row5_col2 {\n",
       "            background-color:  #8ac0db;\n",
       "            color:  #000000;\n",
       "        }    #T_7236f77c_72a8_11e9_89d3_a0999b0adcd1row5_col3 {\n",
       "            background-color:  #75b2d4;\n",
       "            color:  #000000;\n",
       "        }    #T_7236f77c_72a8_11e9_89d3_a0999b0adcd1row5_col4 {\n",
       "            background-color:  #7eb8d7;\n",
       "            color:  #000000;\n",
       "        }    #T_7236f77c_72a8_11e9_89d3_a0999b0adcd1row5_col5 {\n",
       "            background-color:  #67001f;\n",
       "            color:  #f1f1f1;\n",
       "        }</style><table id=\"T_7236f77c_72a8_11e9_89d3_a0999b0adcd1\" ><thead>    <tr>        <th class=\"blank level0\" ></th>        <th class=\"col_heading level0 col0\" >VAX_MANU</th>        <th class=\"col_heading level0 col1\" >VAX_ROUTE</th>        <th class=\"col_heading level0 col2\" >VAX_SITE</th>        <th class=\"col_heading level0 col3\" >VAX_NAME</th>        <th class=\"col_heading level0 col4\" >AGE_YRS</th>        <th class=\"col_heading level0 col5\" >ER_VISIT</th>    </tr></thead><tbody>\n",
       "                <tr>\n",
       "                        <th id=\"T_7236f77c_72a8_11e9_89d3_a0999b0adcd1level0_row0\" class=\"row_heading level0 row0\" >VAX_MANU</th>\n",
       "                        <td id=\"T_7236f77c_72a8_11e9_89d3_a0999b0adcd1row0_col0\" class=\"data row0 col0\" >1</td>\n",
       "                        <td id=\"T_7236f77c_72a8_11e9_89d3_a0999b0adcd1row0_col1\" class=\"data row0 col1\" >0.0322</td>\n",
       "                        <td id=\"T_7236f77c_72a8_11e9_89d3_a0999b0adcd1row0_col2\" class=\"data row0 col2\" >0.0471</td>\n",
       "                        <td id=\"T_7236f77c_72a8_11e9_89d3_a0999b0adcd1row0_col3\" class=\"data row0 col3\" >-0.419</td>\n",
       "                        <td id=\"T_7236f77c_72a8_11e9_89d3_a0999b0adcd1row0_col4\" class=\"data row0 col4\" >-0.282</td>\n",
       "                        <td id=\"T_7236f77c_72a8_11e9_89d3_a0999b0adcd1row0_col5\" class=\"data row0 col5\" >0.00944</td>\n",
       "            </tr>\n",
       "            <tr>\n",
       "                        <th id=\"T_7236f77c_72a8_11e9_89d3_a0999b0adcd1level0_row1\" class=\"row_heading level0 row1\" >VAX_ROUTE</th>\n",
       "                        <td id=\"T_7236f77c_72a8_11e9_89d3_a0999b0adcd1row1_col0\" class=\"data row1 col0\" >0.0322</td>\n",
       "                        <td id=\"T_7236f77c_72a8_11e9_89d3_a0999b0adcd1row1_col1\" class=\"data row1 col1\" >1</td>\n",
       "                        <td id=\"T_7236f77c_72a8_11e9_89d3_a0999b0adcd1row1_col2\" class=\"data row1 col2\" >0.455</td>\n",
       "                        <td id=\"T_7236f77c_72a8_11e9_89d3_a0999b0adcd1row1_col3\" class=\"data row1 col3\" >0.0619</td>\n",
       "                        <td id=\"T_7236f77c_72a8_11e9_89d3_a0999b0adcd1row1_col4\" class=\"data row1 col4\" >-0.111</td>\n",
       "                        <td id=\"T_7236f77c_72a8_11e9_89d3_a0999b0adcd1row1_col5\" class=\"data row1 col5\" >0.0144</td>\n",
       "            </tr>\n",
       "            <tr>\n",
       "                        <th id=\"T_7236f77c_72a8_11e9_89d3_a0999b0adcd1level0_row2\" class=\"row_heading level0 row2\" >VAX_SITE</th>\n",
       "                        <td id=\"T_7236f77c_72a8_11e9_89d3_a0999b0adcd1row2_col0\" class=\"data row2 col0\" >0.0471</td>\n",
       "                        <td id=\"T_7236f77c_72a8_11e9_89d3_a0999b0adcd1row2_col1\" class=\"data row2 col1\" >0.455</td>\n",
       "                        <td id=\"T_7236f77c_72a8_11e9_89d3_a0999b0adcd1row2_col2\" class=\"data row2 col2\" >1</td>\n",
       "                        <td id=\"T_7236f77c_72a8_11e9_89d3_a0999b0adcd1row2_col3\" class=\"data row2 col3\" >-0.0653</td>\n",
       "                        <td id=\"T_7236f77c_72a8_11e9_89d3_a0999b0adcd1row2_col4\" class=\"data row2 col4\" >-0.192</td>\n",
       "                        <td id=\"T_7236f77c_72a8_11e9_89d3_a0999b0adcd1row2_col5\" class=\"data row2 col5\" >-0.00401</td>\n",
       "            </tr>\n",
       "            <tr>\n",
       "                        <th id=\"T_7236f77c_72a8_11e9_89d3_a0999b0adcd1level0_row3\" class=\"row_heading level0 row3\" >VAX_NAME</th>\n",
       "                        <td id=\"T_7236f77c_72a8_11e9_89d3_a0999b0adcd1row3_col0\" class=\"data row3 col0\" >-0.419</td>\n",
       "                        <td id=\"T_7236f77c_72a8_11e9_89d3_a0999b0adcd1row3_col1\" class=\"data row3 col1\" >0.0619</td>\n",
       "                        <td id=\"T_7236f77c_72a8_11e9_89d3_a0999b0adcd1row3_col2\" class=\"data row3 col2\" >-0.0653</td>\n",
       "                        <td id=\"T_7236f77c_72a8_11e9_89d3_a0999b0adcd1row3_col3\" class=\"data row3 col3\" >1</td>\n",
       "                        <td id=\"T_7236f77c_72a8_11e9_89d3_a0999b0adcd1row3_col4\" class=\"data row3 col4\" >0.535</td>\n",
       "                        <td id=\"T_7236f77c_72a8_11e9_89d3_a0999b0adcd1row3_col5\" class=\"data row3 col5\" >-0.0442</td>\n",
       "            </tr>\n",
       "            <tr>\n",
       "                        <th id=\"T_7236f77c_72a8_11e9_89d3_a0999b0adcd1level0_row4\" class=\"row_heading level0 row4\" >AGE_YRS</th>\n",
       "                        <td id=\"T_7236f77c_72a8_11e9_89d3_a0999b0adcd1row4_col0\" class=\"data row4 col0\" >-0.282</td>\n",
       "                        <td id=\"T_7236f77c_72a8_11e9_89d3_a0999b0adcd1row4_col1\" class=\"data row4 col1\" >-0.111</td>\n",
       "                        <td id=\"T_7236f77c_72a8_11e9_89d3_a0999b0adcd1row4_col2\" class=\"data row4 col2\" >-0.192</td>\n",
       "                        <td id=\"T_7236f77c_72a8_11e9_89d3_a0999b0adcd1row4_col3\" class=\"data row4 col3\" >0.535</td>\n",
       "                        <td id=\"T_7236f77c_72a8_11e9_89d3_a0999b0adcd1row4_col4\" class=\"data row4 col4\" >1</td>\n",
       "                        <td id=\"T_7236f77c_72a8_11e9_89d3_a0999b0adcd1row4_col5\" class=\"data row4 col5\" >-0.026</td>\n",
       "            </tr>\n",
       "            <tr>\n",
       "                        <th id=\"T_7236f77c_72a8_11e9_89d3_a0999b0adcd1level0_row5\" class=\"row_heading level0 row5\" >ER_VISIT</th>\n",
       "                        <td id=\"T_7236f77c_72a8_11e9_89d3_a0999b0adcd1row5_col0\" class=\"data row5 col0\" >0.00944</td>\n",
       "                        <td id=\"T_7236f77c_72a8_11e9_89d3_a0999b0adcd1row5_col1\" class=\"data row5 col1\" >0.0144</td>\n",
       "                        <td id=\"T_7236f77c_72a8_11e9_89d3_a0999b0adcd1row5_col2\" class=\"data row5 col2\" >-0.00401</td>\n",
       "                        <td id=\"T_7236f77c_72a8_11e9_89d3_a0999b0adcd1row5_col3\" class=\"data row5 col3\" >-0.0442</td>\n",
       "                        <td id=\"T_7236f77c_72a8_11e9_89d3_a0999b0adcd1row5_col4\" class=\"data row5 col4\" >-0.026</td>\n",
       "                        <td id=\"T_7236f77c_72a8_11e9_89d3_a0999b0adcd1row5_col5\" class=\"data row5 col5\" >1</td>\n",
       "            </tr>\n",
       "    </tbody></table>"
      ],
      "text/plain": [
       "<pandas.io.formats.style.Styler at 0x121a65c88>"
      ]
     },
     "execution_count": 80,
     "metadata": {},
     "output_type": "execute_result"
    }
   ],
   "source": [
    "corr2=cutfinaldata.corr()\n",
    "corr2.style.background_gradient(cmap='RdBu_r', axis=None).set_precision(3)\n",
    "# 'coolwarm', RdBu_r', & 'BrBG' good color maps\n",
    "#slight correlation between age and vax_name, which makes sense as many vaccines are given based on age type\n",
    "#could show a stronger correlation if data is cleaner "
   ]
  },
  {
   "cell_type": "markdown",
   "metadata": {},
   "source": [
    "##### As seen above, there is a slight correlation between age and vax_name, which makes sense as many vaccines are given based on age type. A stonger correlation could be shown if the data would be cleaner. "
   ]
  },
  {
   "cell_type": "markdown",
   "metadata": {},
   "source": [
    "## Limitations of VAERS datasets\n"
   ]
  },
  {
   "cell_type": "markdown",
   "metadata": {},
   "source": [
    "##### Given the limitations of the dataset, I wanted to expand on the bias issue and merge in a new dataset on childhood vaccination to show relative frequency of bias in the VAERS dataset. "
   ]
  },
  {
   "cell_type": "markdown",
   "metadata": {},
   "source": [
    "## Frequency of Childhood Vaccination Dataset"
   ]
  },
  {
   "cell_type": "code",
   "execution_count": 81,
   "metadata": {},
   "outputs": [],
   "source": [
    "df_dpvax = pd.read_csv('./DPdataset2.csv', encoding='cp1252')"
   ]
  },
  {
   "cell_type": "code",
   "execution_count": 82,
   "metadata": {},
   "outputs": [
    {
     "data": {
      "text/html": [
       "<div>\n",
       "<style scoped>\n",
       "    .dataframe tbody tr th:only-of-type {\n",
       "        vertical-align: middle;\n",
       "    }\n",
       "\n",
       "    .dataframe tbody tr th {\n",
       "        vertical-align: top;\n",
       "    }\n",
       "\n",
       "    .dataframe thead th {\n",
       "        text-align: right;\n",
       "    }\n",
       "</style>\n",
       "<table border=\"1\" class=\"dataframe\">\n",
       "  <thead>\n",
       "    <tr style=\"text-align: right;\">\n",
       "      <th></th>\n",
       "      <th>LOCATION</th>\n",
       "      <th>INDICATOR</th>\n",
       "      <th>SUBJECT</th>\n",
       "      <th>MEASURE</th>\n",
       "      <th>FREQUENCY</th>\n",
       "      <th>TIME</th>\n",
       "      <th>Value</th>\n",
       "      <th>Flag Codes</th>\n",
       "    </tr>\n",
       "  </thead>\n",
       "  <tbody>\n",
       "    <tr>\n",
       "      <th>0</th>\n",
       "      <td>AUS</td>\n",
       "      <td>CHILDVACCIN</td>\n",
       "      <td>DTP</td>\n",
       "      <td>PC_CHILD</td>\n",
       "      <td>A</td>\n",
       "      <td>1980</td>\n",
       "      <td>33</td>\n",
       "      <td>NaN</td>\n",
       "    </tr>\n",
       "    <tr>\n",
       "      <th>1</th>\n",
       "      <td>AUS</td>\n",
       "      <td>CHILDVACCIN</td>\n",
       "      <td>DTP</td>\n",
       "      <td>PC_CHILD</td>\n",
       "      <td>A</td>\n",
       "      <td>1981</td>\n",
       "      <td>40</td>\n",
       "      <td>E</td>\n",
       "    </tr>\n",
       "    <tr>\n",
       "      <th>2</th>\n",
       "      <td>AUS</td>\n",
       "      <td>CHILDVACCIN</td>\n",
       "      <td>DTP</td>\n",
       "      <td>PC_CHILD</td>\n",
       "      <td>A</td>\n",
       "      <td>1982</td>\n",
       "      <td>48</td>\n",
       "      <td>E</td>\n",
       "    </tr>\n",
       "    <tr>\n",
       "      <th>3</th>\n",
       "      <td>AUS</td>\n",
       "      <td>CHILDVACCIN</td>\n",
       "      <td>DTP</td>\n",
       "      <td>PC_CHILD</td>\n",
       "      <td>A</td>\n",
       "      <td>1983</td>\n",
       "      <td>55</td>\n",
       "      <td>NaN</td>\n",
       "    </tr>\n",
       "    <tr>\n",
       "      <th>4</th>\n",
       "      <td>AUS</td>\n",
       "      <td>CHILDVACCIN</td>\n",
       "      <td>DTP</td>\n",
       "      <td>PC_CHILD</td>\n",
       "      <td>A</td>\n",
       "      <td>1984</td>\n",
       "      <td>62</td>\n",
       "      <td>E</td>\n",
       "    </tr>\n",
       "  </tbody>\n",
       "</table>\n",
       "</div>"
      ],
      "text/plain": [
       "  LOCATION    INDICATOR SUBJECT   MEASURE FREQUENCY  TIME  Value Flag Codes\n",
       "0      AUS  CHILDVACCIN     DTP  PC_CHILD         A  1980     33        NaN\n",
       "1      AUS  CHILDVACCIN     DTP  PC_CHILD         A  1981     40          E\n",
       "2      AUS  CHILDVACCIN     DTP  PC_CHILD         A  1982     48          E\n",
       "3      AUS  CHILDVACCIN     DTP  PC_CHILD         A  1983     55        NaN\n",
       "4      AUS  CHILDVACCIN     DTP  PC_CHILD         A  1984     62          E"
      ]
     },
     "execution_count": 82,
     "metadata": {},
     "output_type": "execute_result"
    }
   ],
   "source": [
    "df_dpvax.head()"
   ]
  },
  {
   "cell_type": "code",
   "execution_count": 83,
   "metadata": {},
   "outputs": [
    {
     "data": {
      "image/png": "[encoded data removed]",
      "text/plain": [
       "<Figure size 432x288 with 1 Axes>"
      ]
     },
     "metadata": {},
     "output_type": "display_data"
    }
   ],
   "source": [
    "df_dpvax.plot(kind='scatter',x='Value',y='TIME',color='red')\n",
    "plt.show()"
   ]
  },
  {
   "cell_type": "markdown",
   "metadata": {},
   "source": [
    "##### This scatter plot shows that the frequency of childhood vaccinations has increased over time. No US federal regulation requires vaccination, however, state regulations are in place which require children to receive vaccination prior to being allowed to attend school.This increase in vaccination frequency coincides with the goal set by the CDC in 1978 to eliminate measles from the US."
   ]
  },
  {
   "cell_type": "code",
   "execution_count": 84,
   "metadata": {},
   "outputs": [
    {
     "data": {
      "text/plain": [
       "LOCATION      3121\n",
       "INDICATOR     3121\n",
       "SUBJECT       3121\n",
       "MEASURE       3121\n",
       "FREQUENCY     3121\n",
       "TIME          3121\n",
       "Value         3121\n",
       "Flag Codes     252\n",
       "dtype: int64"
      ]
     },
     "execution_count": 84,
     "metadata": {},
     "output_type": "execute_result"
    }
   ],
   "source": [
    "df_dpvax.count()"
   ]
  },
  {
   "cell_type": "code",
   "execution_count": 85,
   "metadata": {},
   "outputs": [
    {
     "data": {
      "text/plain": [
       "DTP        1572\n",
       "MEASLES    1549\n",
       "Name: SUBJECT, dtype: int64"
      ]
     },
     "execution_count": 85,
     "metadata": {},
     "output_type": "execute_result"
    }
   ],
   "source": [
    "df_dpvax['SUBJECT'].value_counts()\n"
   ]
  },
  {
   "cell_type": "code",
   "execution_count": 86,
   "metadata": {},
   "outputs": [
    {
     "data": {
      "text/html": [
       "<div>\n",
       "<style scoped>\n",
       "    .dataframe tbody tr th:only-of-type {\n",
       "        vertical-align: middle;\n",
       "    }\n",
       "\n",
       "    .dataframe tbody tr th {\n",
       "        vertical-align: top;\n",
       "    }\n",
       "\n",
       "    .dataframe thead th {\n",
       "        text-align: right;\n",
       "    }\n",
       "</style>\n",
       "<table border=\"1\" class=\"dataframe\">\n",
       "  <thead>\n",
       "    <tr style=\"text-align: right;\">\n",
       "      <th></th>\n",
       "      <th>LOCATION</th>\n",
       "      <th>SUBJECT</th>\n",
       "      <th>Value</th>\n",
       "    </tr>\n",
       "  </thead>\n",
       "  <tbody>\n",
       "    <tr>\n",
       "      <th>0</th>\n",
       "      <td>AUS</td>\n",
       "      <td>DTP</td>\n",
       "      <td>33</td>\n",
       "    </tr>\n",
       "    <tr>\n",
       "      <th>1</th>\n",
       "      <td>AUS</td>\n",
       "      <td>DTP</td>\n",
       "      <td>40</td>\n",
       "    </tr>\n",
       "    <tr>\n",
       "      <th>2</th>\n",
       "      <td>AUS</td>\n",
       "      <td>DTP</td>\n",
       "      <td>48</td>\n",
       "    </tr>\n",
       "    <tr>\n",
       "      <th>3</th>\n",
       "      <td>AUS</td>\n",
       "      <td>DTP</td>\n",
       "      <td>55</td>\n",
       "    </tr>\n",
       "    <tr>\n",
       "      <th>4</th>\n",
       "      <td>AUS</td>\n",
       "      <td>DTP</td>\n",
       "      <td>62</td>\n",
       "    </tr>\n",
       "  </tbody>\n",
       "</table>\n",
       "</div>"
      ],
      "text/plain": [
       "  LOCATION SUBJECT  Value\n",
       "0      AUS     DTP     33\n",
       "1      AUS     DTP     40\n",
       "2      AUS     DTP     48\n",
       "3      AUS     DTP     55\n",
       "4      AUS     DTP     62"
      ]
     },
     "execution_count": 86,
     "metadata": {},
     "output_type": "execute_result"
    }
   ],
   "source": [
    "selection2=['LOCATION','SUBJECT','Value']\n",
    "df_dpvax2=pd.DataFrame(df_dpvax,columns=selection2)\n",
    "df_dpvax2.head()"
   ]
  },
  {
   "cell_type": "code",
   "execution_count": 87,
   "metadata": {},
   "outputs": [
    {
     "data": {
      "text/html": [
       "<div>\n",
       "<style scoped>\n",
       "    .dataframe tbody tr th:only-of-type {\n",
       "        vertical-align: middle;\n",
       "    }\n",
       "\n",
       "    .dataframe tbody tr th {\n",
       "        vertical-align: top;\n",
       "    }\n",
       "\n",
       "    .dataframe thead th {\n",
       "        text-align: right;\n",
       "    }\n",
       "</style>\n",
       "<table border=\"1\" class=\"dataframe\">\n",
       "  <thead>\n",
       "    <tr style=\"text-align: right;\">\n",
       "      <th>SUBJECT</th>\n",
       "      <th>DTP</th>\n",
       "      <th>MEASLES</th>\n",
       "    </tr>\n",
       "  </thead>\n",
       "  <tbody>\n",
       "    <tr>\n",
       "      <th>0</th>\n",
       "      <td>33.0</td>\n",
       "      <td>NaN</td>\n",
       "    </tr>\n",
       "    <tr>\n",
       "      <th>1</th>\n",
       "      <td>40.0</td>\n",
       "      <td>NaN</td>\n",
       "    </tr>\n",
       "    <tr>\n",
       "      <th>2</th>\n",
       "      <td>48.0</td>\n",
       "      <td>NaN</td>\n",
       "    </tr>\n",
       "    <tr>\n",
       "      <th>3</th>\n",
       "      <td>55.0</td>\n",
       "      <td>NaN</td>\n",
       "    </tr>\n",
       "    <tr>\n",
       "      <th>4</th>\n",
       "      <td>62.0</td>\n",
       "      <td>NaN</td>\n",
       "    </tr>\n",
       "    <tr>\n",
       "      <th>5</th>\n",
       "      <td>68.0</td>\n",
       "      <td>NaN</td>\n",
       "    </tr>\n",
       "    <tr>\n",
       "      <th>6</th>\n",
       "      <td>75.0</td>\n",
       "      <td>NaN</td>\n",
       "    </tr>\n",
       "    <tr>\n",
       "      <th>7</th>\n",
       "      <td>81.0</td>\n",
       "      <td>NaN</td>\n",
       "    </tr>\n",
       "    <tr>\n",
       "      <th>8</th>\n",
       "      <td>88.0</td>\n",
       "      <td>NaN</td>\n",
       "    </tr>\n",
       "    <tr>\n",
       "      <th>9</th>\n",
       "      <td>93.0</td>\n",
       "      <td>NaN</td>\n",
       "    </tr>\n",
       "    <tr>\n",
       "      <th>10</th>\n",
       "      <td>95.0</td>\n",
       "      <td>NaN</td>\n",
       "    </tr>\n",
       "    <tr>\n",
       "      <th>11</th>\n",
       "      <td>93.0</td>\n",
       "      <td>NaN</td>\n",
       "    </tr>\n",
       "    <tr>\n",
       "      <th>12</th>\n",
       "      <td>91.0</td>\n",
       "      <td>NaN</td>\n",
       "    </tr>\n",
       "    <tr>\n",
       "      <th>13</th>\n",
       "      <td>90.0</td>\n",
       "      <td>NaN</td>\n",
       "    </tr>\n",
       "    <tr>\n",
       "      <th>14</th>\n",
       "      <td>88.0</td>\n",
       "      <td>NaN</td>\n",
       "    </tr>\n",
       "    <tr>\n",
       "      <th>15</th>\n",
       "      <td>86.0</td>\n",
       "      <td>NaN</td>\n",
       "    </tr>\n",
       "    <tr>\n",
       "      <th>16</th>\n",
       "      <td>86.0</td>\n",
       "      <td>NaN</td>\n",
       "    </tr>\n",
       "    <tr>\n",
       "      <th>17</th>\n",
       "      <td>77.0</td>\n",
       "      <td>NaN</td>\n",
       "    </tr>\n",
       "    <tr>\n",
       "      <th>18</th>\n",
       "      <td>82.0</td>\n",
       "      <td>NaN</td>\n",
       "    </tr>\n",
       "    <tr>\n",
       "      <th>19</th>\n",
       "      <td>88.0</td>\n",
       "      <td>NaN</td>\n",
       "    </tr>\n",
       "    <tr>\n",
       "      <th>20</th>\n",
       "      <td>90.0</td>\n",
       "      <td>NaN</td>\n",
       "    </tr>\n",
       "    <tr>\n",
       "      <th>21</th>\n",
       "      <td>92.0</td>\n",
       "      <td>NaN</td>\n",
       "    </tr>\n",
       "    <tr>\n",
       "      <th>22</th>\n",
       "      <td>92.0</td>\n",
       "      <td>NaN</td>\n",
       "    </tr>\n",
       "    <tr>\n",
       "      <th>23</th>\n",
       "      <td>93.0</td>\n",
       "      <td>NaN</td>\n",
       "    </tr>\n",
       "    <tr>\n",
       "      <th>24</th>\n",
       "      <td>92.0</td>\n",
       "      <td>NaN</td>\n",
       "    </tr>\n",
       "    <tr>\n",
       "      <th>25</th>\n",
       "      <td>92.0</td>\n",
       "      <td>NaN</td>\n",
       "    </tr>\n",
       "    <tr>\n",
       "      <th>26</th>\n",
       "      <td>92.0</td>\n",
       "      <td>NaN</td>\n",
       "    </tr>\n",
       "    <tr>\n",
       "      <th>27</th>\n",
       "      <td>92.0</td>\n",
       "      <td>NaN</td>\n",
       "    </tr>\n",
       "    <tr>\n",
       "      <th>28</th>\n",
       "      <td>92.0</td>\n",
       "      <td>NaN</td>\n",
       "    </tr>\n",
       "    <tr>\n",
       "      <th>29</th>\n",
       "      <td>92.0</td>\n",
       "      <td>NaN</td>\n",
       "    </tr>\n",
       "    <tr>\n",
       "      <th>...</th>\n",
       "      <td>...</td>\n",
       "      <td>...</td>\n",
       "    </tr>\n",
       "    <tr>\n",
       "      <th>3091</th>\n",
       "      <td>NaN</td>\n",
       "      <td>94.0</td>\n",
       "    </tr>\n",
       "    <tr>\n",
       "      <th>3092</th>\n",
       "      <td>NaN</td>\n",
       "      <td>92.0</td>\n",
       "    </tr>\n",
       "    <tr>\n",
       "      <th>3093</th>\n",
       "      <td>NaN</td>\n",
       "      <td>89.0</td>\n",
       "    </tr>\n",
       "    <tr>\n",
       "      <th>3094</th>\n",
       "      <td>NaN</td>\n",
       "      <td>86.0</td>\n",
       "    </tr>\n",
       "    <tr>\n",
       "      <th>3095</th>\n",
       "      <td>NaN</td>\n",
       "      <td>89.0</td>\n",
       "    </tr>\n",
       "    <tr>\n",
       "      <th>3096</th>\n",
       "      <td>NaN</td>\n",
       "      <td>92.0</td>\n",
       "    </tr>\n",
       "    <tr>\n",
       "      <th>3097</th>\n",
       "      <td>NaN</td>\n",
       "      <td>93.0</td>\n",
       "    </tr>\n",
       "    <tr>\n",
       "      <th>3098</th>\n",
       "      <td>NaN</td>\n",
       "      <td>94.0</td>\n",
       "    </tr>\n",
       "    <tr>\n",
       "      <th>3099</th>\n",
       "      <td>NaN</td>\n",
       "      <td>96.0</td>\n",
       "    </tr>\n",
       "    <tr>\n",
       "      <th>3100</th>\n",
       "      <td>NaN</td>\n",
       "      <td>96.0</td>\n",
       "    </tr>\n",
       "    <tr>\n",
       "      <th>3101</th>\n",
       "      <td>NaN</td>\n",
       "      <td>97.0</td>\n",
       "    </tr>\n",
       "    <tr>\n",
       "      <th>3102</th>\n",
       "      <td>NaN</td>\n",
       "      <td>97.0</td>\n",
       "    </tr>\n",
       "    <tr>\n",
       "      <th>3103</th>\n",
       "      <td>NaN</td>\n",
       "      <td>97.0</td>\n",
       "    </tr>\n",
       "    <tr>\n",
       "      <th>3104</th>\n",
       "      <td>NaN</td>\n",
       "      <td>97.0</td>\n",
       "    </tr>\n",
       "    <tr>\n",
       "      <th>3105</th>\n",
       "      <td>NaN</td>\n",
       "      <td>98.0</td>\n",
       "    </tr>\n",
       "    <tr>\n",
       "      <th>3106</th>\n",
       "      <td>NaN</td>\n",
       "      <td>98.0</td>\n",
       "    </tr>\n",
       "    <tr>\n",
       "      <th>3107</th>\n",
       "      <td>NaN</td>\n",
       "      <td>98.0</td>\n",
       "    </tr>\n",
       "    <tr>\n",
       "      <th>3108</th>\n",
       "      <td>NaN</td>\n",
       "      <td>97.0</td>\n",
       "    </tr>\n",
       "    <tr>\n",
       "      <th>3109</th>\n",
       "      <td>NaN</td>\n",
       "      <td>97.0</td>\n",
       "    </tr>\n",
       "    <tr>\n",
       "      <th>3110</th>\n",
       "      <td>NaN</td>\n",
       "      <td>97.0</td>\n",
       "    </tr>\n",
       "    <tr>\n",
       "      <th>3111</th>\n",
       "      <td>NaN</td>\n",
       "      <td>97.0</td>\n",
       "    </tr>\n",
       "    <tr>\n",
       "      <th>3112</th>\n",
       "      <td>NaN</td>\n",
       "      <td>96.0</td>\n",
       "    </tr>\n",
       "    <tr>\n",
       "      <th>3113</th>\n",
       "      <td>NaN</td>\n",
       "      <td>96.0</td>\n",
       "    </tr>\n",
       "    <tr>\n",
       "      <th>3114</th>\n",
       "      <td>NaN</td>\n",
       "      <td>94.0</td>\n",
       "    </tr>\n",
       "    <tr>\n",
       "      <th>3115</th>\n",
       "      <td>NaN</td>\n",
       "      <td>93.0</td>\n",
       "    </tr>\n",
       "    <tr>\n",
       "      <th>3116</th>\n",
       "      <td>NaN</td>\n",
       "      <td>93.0</td>\n",
       "    </tr>\n",
       "    <tr>\n",
       "      <th>3117</th>\n",
       "      <td>NaN</td>\n",
       "      <td>93.0</td>\n",
       "    </tr>\n",
       "    <tr>\n",
       "      <th>3118</th>\n",
       "      <td>NaN</td>\n",
       "      <td>94.0</td>\n",
       "    </tr>\n",
       "    <tr>\n",
       "      <th>3119</th>\n",
       "      <td>NaN</td>\n",
       "      <td>94.0</td>\n",
       "    </tr>\n",
       "    <tr>\n",
       "      <th>3120</th>\n",
       "      <td>NaN</td>\n",
       "      <td>94.0</td>\n",
       "    </tr>\n",
       "  </tbody>\n",
       "</table>\n",
       "<p>3121 rows × 2 columns</p>\n",
       "</div>"
      ],
      "text/plain": [
       "SUBJECT   DTP  MEASLES\n",
       "0        33.0      NaN\n",
       "1        40.0      NaN\n",
       "2        48.0      NaN\n",
       "3        55.0      NaN\n",
       "4        62.0      NaN\n",
       "5        68.0      NaN\n",
       "6        75.0      NaN\n",
       "7        81.0      NaN\n",
       "8        88.0      NaN\n",
       "9        93.0      NaN\n",
       "10       95.0      NaN\n",
       "11       93.0      NaN\n",
       "12       91.0      NaN\n",
       "13       90.0      NaN\n",
       "14       88.0      NaN\n",
       "15       86.0      NaN\n",
       "16       86.0      NaN\n",
       "17       77.0      NaN\n",
       "18       82.0      NaN\n",
       "19       88.0      NaN\n",
       "20       90.0      NaN\n",
       "21       92.0      NaN\n",
       "22       92.0      NaN\n",
       "23       93.0      NaN\n",
       "24       92.0      NaN\n",
       "25       92.0      NaN\n",
       "26       92.0      NaN\n",
       "27       92.0      NaN\n",
       "28       92.0      NaN\n",
       "29       92.0      NaN\n",
       "...       ...      ...\n",
       "3091      NaN     94.0\n",
       "3092      NaN     92.0\n",
       "3093      NaN     89.0\n",
       "3094      NaN     86.0\n",
       "3095      NaN     89.0\n",
       "3096      NaN     92.0\n",
       "3097      NaN     93.0\n",
       "3098      NaN     94.0\n",
       "3099      NaN     96.0\n",
       "3100      NaN     96.0\n",
       "3101      NaN     97.0\n",
       "3102      NaN     97.0\n",
       "3103      NaN     97.0\n",
       "3104      NaN     97.0\n",
       "3105      NaN     98.0\n",
       "3106      NaN     98.0\n",
       "3107      NaN     98.0\n",
       "3108      NaN     97.0\n",
       "3109      NaN     97.0\n",
       "3110      NaN     97.0\n",
       "3111      NaN     97.0\n",
       "3112      NaN     96.0\n",
       "3113      NaN     96.0\n",
       "3114      NaN     94.0\n",
       "3115      NaN     93.0\n",
       "3116      NaN     93.0\n",
       "3117      NaN     93.0\n",
       "3118      NaN     94.0\n",
       "3119      NaN     94.0\n",
       "3120      NaN     94.0\n",
       "\n",
       "[3121 rows x 2 columns]"
      ]
     },
     "execution_count": 87,
     "metadata": {},
     "output_type": "execute_result"
    }
   ],
   "source": [
    "table1=df_dpvax2.pivot(index = None, columns='SUBJECT', values = 'Value')\n",
    "table1"
   ]
  },
  {
   "cell_type": "code",
   "execution_count": 88,
   "metadata": {},
   "outputs": [
    {
     "data": {
      "image/png": "[encoded data removed]",
      "text/plain": [
       "<Figure size 432x288 with 1 Axes>"
      ]
     },
     "metadata": {},
     "output_type": "display_data"
    }
   ],
   "source": [
    "boxplot = df_dpvax2.boxplot(grid=False, rot=45, fontsize=15)"
   ]
  },
  {
   "cell_type": "markdown",
   "metadata": {},
   "source": [
    "##### The initial dataset needs more cleaning in order for interpretation. The dataset is biased and its difficult to compare it to the childhood vaccination rates. I would need to clean the "
   ]
  },
  {
   "cell_type": "markdown",
   "metadata": {},
   "source": [
    "## __*MACHINE LEARNING - (attempt: using original merged vaccine dataset)*__"
   ]
  },
  {
   "cell_type": "code",
   "execution_count": 89,
   "metadata": {},
   "outputs": [],
   "source": [
    "cutfinaldata['VAX_MANU']=cutfinaldata['VAX_MANU'].astype('category').cat.codes\n",
    "cutfinaldata['VAX_ROUTE']=cutfinaldata['VAX_ROUTE'].astype('category').cat.codes\n",
    "cutfinaldata['VAX_SITE']=cutfinaldata['VAX_SITE'].astype('category').cat.codes\n",
    "cutfinaldata['VAX_NAME']=cutfinaldata['VAX_NAME'].astype('category').cat.codes\n",
    "cutfinaldata['ER_VISIT']=cutfinaldata['ER_VISIT'].astype('category').cat.codes"
   ]
  },
  {
   "cell_type": "code",
   "execution_count": 90,
   "metadata": {},
   "outputs": [],
   "source": [
    "training_variables = ['VAX_MANU', 'VAX_ROUTE', 'VAX_SITE', 'VAX_NAME']\n",
    "\n",
    "X_train, X_test, y_train, y_test = train_test_split(cutfinaldata[training_variables],\n",
    "cutfinaldata['ER_VISIT'], test_size=0.2)\n"
   ]
  },
  {
   "cell_type": "code",
   "execution_count": 91,
   "metadata": {},
   "outputs": [
    {
     "name": "stdout",
     "output_type": "stream",
     "text": [
      "Fitting 10 folds for each of 20 candidates, totalling 200 fits\n"
     ]
    },
    {
     "name": "stderr",
     "output_type": "stream",
     "text": [
      "[Parallel(n_jobs=-1)]: Using backend LokyBackend with 8 concurrent workers.\n",
      "[Parallel(n_jobs=-1)]: Done  52 tasks      | elapsed:    5.9s\n",
      "[Parallel(n_jobs=-1)]: Done 200 out of 200 | elapsed:   23.2s finished\n"
     ]
    },
    {
     "data": {
      "text/plain": [
       "RandomizedSearchCV(cv=10, error_score='raise-deprecating',\n",
       "          estimator=RandomForestClassifier(bootstrap=True, class_weight=None, criterion='gini',\n",
       "            max_depth=None, max_features='auto', max_leaf_nodes=None,\n",
       "            min_impurity_decrease=0.0, min_impurity_split=None,\n",
       "            min_samples_leaf=1, min_samples_split=2,\n",
       "            min_weight_fraction_leaf=0.0, n_estimators='warn', n_jobs=None,\n",
       "            oob_score=False, random_state=None, verbose=0,\n",
       "            warm_start=False),\n",
       "          fit_params=None, iid='warn', n_iter=20, n_jobs=-1,\n",
       "          param_distributions={'n_estimators': <scipy.stats._distn_infrastructure.rv_frozen object at 0x11d58d940>, 'max_features': ['sqrt', 'log2'], 'min_samples_split': <scipy.stats._distn_infrastructure.rv_frozen object at 0x11d58db38>, 'bootstrap': [True, False], 'criterion': ['gini', 'entropy']},\n",
       "          pre_dispatch='2*n_jobs', random_state=None, refit=True,\n",
       "          return_train_score='warn', scoring=None, verbose=1)"
      ]
     },
     "execution_count": 91,
     "metadata": {},
     "output_type": "execute_result"
    }
   ],
   "source": [
    "rf = RandomForestClassifier()\n",
    "param_dist = {\"n_estimators\": stats.randint(2, 300),\n",
    "              \"max_features\": ['sqrt',  'log2'],\n",
    "              \"min_samples_split\": stats.randint(5, 50),\n",
    "              \"bootstrap\": [True, False],\n",
    "              \"criterion\": [\"gini\", \"entropy\"]}\n",
    "random_rf = RandomizedSearchCV(rf, param_distributions=param_dist,\n",
    "                                   n_iter=20, cv=10, verbose=1, n_jobs=-1)\n",
    "random_rf.fit(X_train, y_train)"
   ]
  },
  {
   "cell_type": "code",
   "execution_count": 92,
   "metadata": {},
   "outputs": [
    {
     "data": {
      "text/plain": [
       "<matplotlib.axes._subplots.AxesSubplot at 0x11d5bd908>"
      ]
     },
     "execution_count": 92,
     "metadata": {},
     "output_type": "execute_result"
    },
    {
     "data": {
      "image/png": "[encoded data removed]",
      "text/plain": [
       "<Figure size 432x288 with 1 Axes>"
      ]
     },
     "metadata": {},
     "output_type": "display_data"
    }
   ],
   "source": [
    "pd.DataFrame(random_rf.cv_results_['std_test_score'] * 100).plot(kind='bar') "
   ]
  },
  {
   "cell_type": "code",
   "execution_count": 93,
   "metadata": {},
   "outputs": [
    {
     "name": "stderr",
     "output_type": "stream",
     "text": [
      "/miniconda3/envs/em212/lib/python3.7/site-packages/sklearn/utils/deprecation.py:125: FutureWarning: You are accessing a training score ('mean_train_score'), which will not be available by default any more in 0.21. If you need training scores, please set return_train_score=True\n",
      "  warnings.warn(*warn_args, **warn_kwargs)\n"
     ]
    },
    {
     "data": {
      "text/plain": [
       "Text(0.5, 1.0, 'Average Accuracy for Train and Test Data')"
      ]
     },
     "execution_count": 93,
     "metadata": {},
     "output_type": "execute_result"
    },
    {
     "data": {
      "image/png": "[encoded data removed]",
      "text/plain": [
       "<Figure size 720x360 with 1 Axes>"
      ]
     },
     "metadata": {},
     "output_type": "display_data"
    }
   ],
   "source": [
    "train_test_results = pd.DataFrame([random_rf.cv_results_['mean_train_score'],\n",
    "                                   random_rf.cv_results_['mean_test_score']]).T * 100\n",
    "train_test_results.columns = ['mean_train_accuracy', 'mean_test_accuracy']\n",
    "f, ax = plt.subplots(figsize=(10,5))\n",
    "train_test_results.plot(kind='bar', ax=ax)\n",
    "plt.xticks(rotation=0, horizontalalignment='center')\n",
    "plt.legend(loc=0)\n",
    "plt.ylim(75, 95)\n",
    "plt.xlabel('model number')\n",
    "plt.ylabel('percent accuracy')\n",
    "plt.title('Average Accuracy for Train and Test Data')"
   ]
  },
  {
   "cell_type": "markdown",
   "metadata": {},
   "source": [
    "f, ax = plt.subplots(figsize=(10,5))\n",
    "pd.DataFrame(train_test_results['mean_test_accuracy'] - train_test_results['mean_train_accuracy'])\\.plot(kind='bar', ax=ax)\n",
    "plt.xticks(rotation=0, horizontalalignment='center')\n",
    "ax.get_legend().remove()\n",
    "plt.xlabel('model number')\n",
    "plt.ylabel('percent accuracy')\n",
    "plt.title('Difference in Test Accuracy Compared Train Accuracy')"
   ]
  },
  {
   "cell_type": "code",
   "execution_count": 94,
   "metadata": {},
   "outputs": [
    {
     "data": {
      "text/plain": [
       "RandomForestClassifier(bootstrap=True, class_weight=None, criterion='entropy',\n",
       "            max_depth=None, max_features='log2', max_leaf_nodes=None,\n",
       "            min_impurity_decrease=0.0, min_impurity_split=None,\n",
       "            min_samples_leaf=1, min_samples_split=27,\n",
       "            min_weight_fraction_leaf=0.0, n_estimators=39, n_jobs=None,\n",
       "            oob_score=False, random_state=None, verbose=0,\n",
       "            warm_start=False)"
      ]
     },
     "execution_count": 94,
     "metadata": {},
     "output_type": "execute_result"
    }
   ],
   "source": [
    "random_rf.best_estimator_"
   ]
  },
  {
   "cell_type": "code",
   "execution_count": 95,
   "metadata": {},
   "outputs": [
    {
     "data": {
      "text/plain": [
       "0.988944365192582"
      ]
     },
     "execution_count": 95,
     "metadata": {},
     "output_type": "execute_result"
    }
   ],
   "source": [
    "random_rf.best_score_ "
   ]
  },
  {
   "cell_type": "code",
   "execution_count": 96,
   "metadata": {},
   "outputs": [
    {
     "data": {
      "image/png": "[encoded data removed]",
      "text/plain": [
       "<Figure size 432x288 with 1 Axes>"
      ]
     },
     "metadata": {},
     "output_type": "display_data"
    }
   ],
   "source": [
    "ax = pd.DataFrame(random_rf.best_estimator_.feature_importances_).plot(kind='bar')\n",
    "ax.set_xticklabels(training_variables, rotation = 45, ha=\"right\")\n",
    "ax.get_legend().remove()"
   ]
  },
  {
   "cell_type": "code",
   "execution_count": 97,
   "metadata": {},
   "outputs": [
    {
     "data": {
      "text/plain": [
       "Text(0.5, 1.0, 'ROC Curve for Random Forest, AUC = 0.7830')"
      ]
     },
     "execution_count": 97,
     "metadata": {},
     "output_type": "execute_result"
    },
    {
     "data": {
      "image/png": "[encoded data removed]",
      "text/plain": [
       "<Figure size 432x288 with 1 Axes>"
      ]
     },
     "metadata": {},
     "output_type": "display_data"
    }
   ],
   "source": [
    "auc_data = pd.DataFrame(roc_curve(y_test, random_rf.best_estimator_.predict_proba(X_test)[:,1])).T\n",
    "auc_data.columns = ['False Positive Rate', 'True Positive Rate', 'Thresholds'] \n",
    "ax = auc_data.plot(x='False Positive Rate', y='True Positive Rate')\n",
    "ax.get_legend().remove()\n",
    "plt.xlabel('False Positive Rate')\n",
    "plt.ylabel('True Positive Rate')\n",
    "plt.title('ROC Curve for Random Forest, AUC = %0.4f' % auc(auc_data['False Positive Rate'], auc_data['True Positive Rate']))"
   ]
  },
  {
   "cell_type": "code",
   "execution_count": 98,
   "metadata": {},
   "outputs": [
    {
     "data": {
      "text/plain": [
       "5.741681738581231e-06"
      ]
     },
     "execution_count": 98,
     "metadata": {},
     "output_type": "execute_result"
    }
   ],
   "source": [
    "l1_min_c(X_train, y_train, loss='log', fit_intercept=True, intercept_scaling=1.0)"
   ]
  },
  {
   "cell_type": "code",
   "execution_count": 99,
   "metadata": {},
   "outputs": [],
   "source": [
    "c_values = np.geomspace(0.001, 100, num = 6)"
   ]
  },
  {
   "cell_type": "code",
   "execution_count": 100,
   "metadata": {},
   "outputs": [
    {
     "name": "stderr",
     "output_type": "stream",
     "text": [
      "/miniconda3/envs/em212/lib/python3.7/site-packages/sklearn/linear_model/logistic.py:1300: UserWarning: 'n_jobs' > 1 does not have any effect when 'solver' is set to 'liblinear'. Got 'n_jobs' = 8.\n",
      "  \" = {}.\".format(effective_n_jobs(self.n_jobs)))\n",
      "[Parallel(n_jobs=-1)]: Using backend ThreadingBackend with 8 concurrent workers.\n"
     ]
    },
    {
     "name": "stdout",
     "output_type": "stream",
     "text": [
      "[LibLinear]convergence after 885 epochs took 1 seconds\n",
      "[LibLinear]"
     ]
    },
    {
     "name": "stderr",
     "output_type": "stream",
     "text": [
      "[Parallel(n_jobs=-1)]: Done   1 out of   1 | elapsed:    1.1s finished\n",
      "/miniconda3/envs/em212/lib/python3.7/site-packages/sklearn/linear_model/logistic.py:1300: UserWarning: 'n_jobs' > 1 does not have any effect when 'solver' is set to 'liblinear'. Got 'n_jobs' = 8.\n",
      "  \" = {}.\".format(effective_n_jobs(self.n_jobs)))\n",
      "[Parallel(n_jobs=-1)]: Using backend ThreadingBackend with 8 concurrent workers.\n"
     ]
    },
    {
     "name": "stdout",
     "output_type": "stream",
     "text": [
      "convergence after 1721 epochs took 2 seconds\n",
      "[LibLinear]"
     ]
    },
    {
     "name": "stderr",
     "output_type": "stream",
     "text": [
      "[Parallel(n_jobs=-1)]: Done   1 out of   1 | elapsed:    2.1s finished\n",
      "/miniconda3/envs/em212/lib/python3.7/site-packages/sklearn/linear_model/logistic.py:1300: UserWarning: 'n_jobs' > 1 does not have any effect when 'solver' is set to 'liblinear'. Got 'n_jobs' = 8.\n",
      "  \" = {}.\".format(effective_n_jobs(self.n_jobs)))\n",
      "[Parallel(n_jobs=-1)]: Using backend ThreadingBackend with 8 concurrent workers.\n"
     ]
    },
    {
     "name": "stdout",
     "output_type": "stream",
     "text": [
      "convergence after 2915 epochs took 4 seconds\n",
      "[LibLinear]"
     ]
    },
    {
     "name": "stderr",
     "output_type": "stream",
     "text": [
      "[Parallel(n_jobs=-1)]: Done   1 out of   1 | elapsed:    3.5s finished\n",
      "/miniconda3/envs/em212/lib/python3.7/site-packages/sklearn/linear_model/logistic.py:1300: UserWarning: 'n_jobs' > 1 does not have any effect when 'solver' is set to 'liblinear'. Got 'n_jobs' = 8.\n",
      "  \" = {}.\".format(effective_n_jobs(self.n_jobs)))\n",
      "[Parallel(n_jobs=-1)]: Using backend ThreadingBackend with 8 concurrent workers.\n"
     ]
    },
    {
     "name": "stdout",
     "output_type": "stream",
     "text": [
      "convergence after 2504 epochs took 3 seconds\n",
      "[LibLinear]"
     ]
    },
    {
     "name": "stderr",
     "output_type": "stream",
     "text": [
      "[Parallel(n_jobs=-1)]: Done   1 out of   1 | elapsed:    3.0s finished\n",
      "/miniconda3/envs/em212/lib/python3.7/site-packages/sklearn/linear_model/logistic.py:1300: UserWarning: 'n_jobs' > 1 does not have any effect when 'solver' is set to 'liblinear'. Got 'n_jobs' = 8.\n",
      "  \" = {}.\".format(effective_n_jobs(self.n_jobs)))\n",
      "[Parallel(n_jobs=-1)]: Using backend ThreadingBackend with 8 concurrent workers.\n"
     ]
    },
    {
     "name": "stdout",
     "output_type": "stream",
     "text": [
      "convergence after 2461 epochs took 3 seconds\n",
      "[LibLinear]"
     ]
    },
    {
     "name": "stderr",
     "output_type": "stream",
     "text": [
      "[Parallel(n_jobs=-1)]: Done   1 out of   1 | elapsed:    3.1s finished\n",
      "/miniconda3/envs/em212/lib/python3.7/site-packages/sklearn/linear_model/logistic.py:1300: UserWarning: 'n_jobs' > 1 does not have any effect when 'solver' is set to 'liblinear'. Got 'n_jobs' = 8.\n",
      "  \" = {}.\".format(effective_n_jobs(self.n_jobs)))\n",
      "[Parallel(n_jobs=-1)]: Using backend ThreadingBackend with 8 concurrent workers.\n"
     ]
    },
    {
     "name": "stdout",
     "output_type": "stream",
     "text": [
      "convergence after 2448 epochs took 3 seconds\n"
     ]
    },
    {
     "name": "stderr",
     "output_type": "stream",
     "text": [
      "[Parallel(n_jobs=-1)]: Done   1 out of   1 | elapsed:    3.3s finished\n"
     ]
    }
   ],
   "source": [
    "parameters = ParameterGrid({'solver':['liblinear', 'saga'], 'C':c_values})\n",
    "lr = LogisticRegression(penalty='l1', random_state=0, max_iter=5000, verbose=1, n_jobs=-1)\n",
    "lr_models = pd.DataFrame(parameters)\n",
    "betas = []\n",
    "accuracy = []\n",
    "for p in parameters:\n",
    "    lr.set_params(**p)\n",
    "    lr.fit(X_train, y_train)\n",
    "    betas.append(lr.coef_.ravel())\n",
    "    accuracy.append(lr.score(X_train, y_train))"
   ]
  },
  {
   "cell_type": "code",
   "execution_count": 101,
   "metadata": {},
   "outputs": [
    {
     "data": {
      "text/plain": [
       "Text(0.5, 0, 'C')"
      ]
     },
     "execution_count": 101,
     "metadata": {},
     "output_type": "execute_result"
    },
    {
     "data": {
      "image/png": "[encoded data removed]",
      "text/plain": [
       "<Figure size 720x360 with 1 Axes>"
      ]
     },
     "metadata": {},
     "output_type": "display_data"
    }
   ],
   "source": [
    "f, ax = plt.subplots(figsize=(10,5))\n",
    "lr_data = pd.concat([lr_models, pd.DataFrame(betas, columns = training_variables)], axis=1)\n",
    "lr_data[lr_data['solver'] == 'saga'].set_index('C')[training_variables].plot(logx=True, ax=ax)\n",
    "plt.title('parameter weights using saga solver')\n",
    "plt.ylabel('Beta Value')\n",
    "plt.xlabel('C')"
   ]
  },
  {
   "cell_type": "code",
   "execution_count": 102,
   "metadata": {},
   "outputs": [
    {
     "data": {
      "text/plain": [
       "<matplotlib.axes._subplots.AxesSubplot at 0x121f8fc18>"
      ]
     },
     "execution_count": 102,
     "metadata": {},
     "output_type": "execute_result"
    },
    {
     "data": {
      "image/png": "[encoded data removed]",
      "text/plain": [
       "<Figure size 720x360 with 1 Axes>"
      ]
     },
     "metadata": {},
     "output_type": "display_data"
    }
   ],
   "source": [
    "f, ax = plt.subplots(figsize=(10,5))\n",
    "lr_data = pd.concat([lr_models, pd.DataFrame(betas, columns = training_variables)], axis=1)\n",
    "lr_data[lr_data['solver'] == 'liblinear'].set_index('C')[training_variables].plot(logx=True, ax=ax)"
   ]
  },
  {
   "cell_type": "code",
   "execution_count": 103,
   "metadata": {},
   "outputs": [
    {
     "name": "stderr",
     "output_type": "stream",
     "text": [
      "'c' argument looks like a single numeric RGB or RGBA sequence, which should be avoided as value-mapping will have precedence in case its length matches with 'x' & 'y'.  Please use a 2-D array with a single row if you really want to specify the same RGB or RGBA value for all points.\n"
     ]
    },
    {
     "data": {
      "text/plain": [
       "<matplotlib.axes._subplots.AxesSubplot at 0x1212fb518>"
      ]
     },
     "execution_count": 103,
     "metadata": {},
     "output_type": "execute_result"
    },
    {
     "data": {
      "image/png": "[encoded data removed]",
      "text/plain": [
       "<Figure size 432x288 with 1 Axes>"
      ]
     },
     "metadata": {},
     "output_type": "display_data"
    }
   ],
   "source": [
    "lr_data['accuracy'] = accuracy\n",
    "lr_data.plot.scatter(x='C', y='accuracy', logx=True, alpha=0.5)"
   ]
  },
  {
   "cell_type": "code",
   "execution_count": 104,
   "metadata": {},
   "outputs": [
    {
     "data": {
      "text/plain": [
       "0.9942938659058488"
      ]
     },
     "execution_count": 104,
     "metadata": {},
     "output_type": "execute_result"
    }
   ],
   "source": [
    "lr.score(X_test, y_test)"
   ]
  },
  {
   "cell_type": "code",
   "execution_count": 105,
   "metadata": {},
   "outputs": [
    {
     "data": {
      "text/plain": [
       "Text(0.5, 1.0, 'Logistic Regression Model Parameters')"
      ]
     },
     "execution_count": 105,
     "metadata": {},
     "output_type": "execute_result"
    },
    {
     "data": {
      "image/png": "[encoded data removed]",
      "text/plain": [
       "<Figure size 720x360 with 1 Axes>"
      ]
     },
     "metadata": {},
     "output_type": "display_data"
    }
   ],
   "source": [
    "f, ax = plt.subplots(figsize=(10,5))\n",
    "pd.DataFrame(lr.coef_, columns=training_variables).plot(kind='bar', ax=ax)\n",
    "plt.ylabel('odds ratio')\n",
    "plt.xlabel('')\n",
    "plt.title('Logistic Regression Model Parameters')"
   ]
  },
  {
   "cell_type": "code",
   "execution_count": 106,
   "metadata": {},
   "outputs": [
    {
     "data": {
      "text/plain": [
       "Text(0, 0.5, 'True Positive Rate')"
      ]
     },
     "execution_count": 106,
     "metadata": {},
     "output_type": "execute_result"
    },
    {
     "data": {
      "image/png": "[encoded data removed]",
      "text/plain": [
       "<Figure size 720x360 with 1 Axes>"
      ]
     },
     "metadata": {},
     "output_type": "display_data"
    }
   ],
   "source": [
    "auc_data_lr = pd.DataFrame(roc_curve(y_test, lr.predict_proba(X_test)[:,1])).T\n",
    "auc_data_lr.columns = ['False Positive Rate', 'True Positive Rate', 'Thresholds'] \n",
    "f, ax = plt.subplots(figsize=(10,5))\n",
    "auc_data_lr.plot(x='False Positive Rate', y='True Positive Rate', ax=ax,\n",
    "                 label='logisitic regression auc = %0.4f' % auc(auc_data_lr['False Positive Rate'], auc_data_lr['True Positive Rate']))\n",
    "auc_data.plot(x='False Positive Rate', y='True Positive Rate', ax=ax,\n",
    "              label='random forest, auc = %0.4f' % auc(auc_data['False Positive Rate'], auc_data['True Positive Rate']))\n",
    "ax.get_legend()\n",
    "plt.xlabel('False Positive Rate')\n",
    "plt.ylabel('True Positive Rate')"
   ]
  },
  {
   "cell_type": "markdown",
   "metadata": {},
   "source": [
    "## Conclusion"
   ]
  },
  {
   "cell_type": "markdown",
   "metadata": {},
   "source": [
    "##### I tried the machine learning exercise, but honestly, it has been difficult to understand how I can use this in my data give my lack of data science experience and I don't think I can apply it to my data further without going back and doing some drastic cleaning in my merged datasets. Especially, since my data is quite biased in the way it is collected, I don't believe this truly represents something meaningful for interpretation at the moment. I would like to take the time to go back now, given the tools I've learned accumulated over the past few weeks, and start from scratch with a different data set. Additionally, when I originally chose this data it was when we were still assuming that we would be using JMP, and if I would have realized the amount of coding needed to learn after, I would have started off with something more interpretative so that I could pick up on the skills to clean data better before getting into analysis and intepretation and finally, training data for machine learning."
   ]
  },
  {
   "cell_type": "code",
   "execution_count": null,
   "metadata": {},
   "outputs": [],
   "source": []
  }
 ],
 "metadata": {
  "kernelspec": {
   "display_name": "Python 3",
   "language": "python",
   "name": "python3"
  },
  "language_info": {
   "codemirror_mode": {
    "name": "ipython",
    "version": 3
   },
   "file_extension": ".py",
   "mimetype": "text/x-python",
   "name": "python",
   "nbconvert_exporter": "python",
   "pygments_lexer": "ipython3",
   "version": "3.7.1"
  }
 },
 "nbformat": 4,
 "nbformat_minor": 2
}
