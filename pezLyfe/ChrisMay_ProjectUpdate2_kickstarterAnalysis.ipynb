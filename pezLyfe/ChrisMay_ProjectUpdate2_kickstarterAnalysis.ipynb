{
 "cells": [
  {
   "cell_type": "markdown",
   "metadata": {},
   "source": [
    "# Analysis of Crowdfunding Projects\n",
    "\n",
    "### Data Description\n",
    "\n",
    "Kickstarter.com is a crowd funding website where creators post descriptions of projects they want to create, and individuals contribute some amount of personal money to finance the project. In return for funding, contributors typically get a wide range of “Backer Rewards”. The rewards differ depending on the type of project. For example, a book/video project will typically issue a digital copy of the final product to backers that donate above a given amount. The scope of projects can vary widely, from the initial factory runs of complex hardware products. One creator simply requested ten dollars so he could make some potato salad and instead raised $55,000 and threw a crazy party\n",
    "\n",
    "### Data Source\n",
    "\n",
    "Webrobots.io runs a monthly scrape of all Kickstarter projects available on the Kickstarter website. The resulting data are available as both csv and json files, and each package covers a number of projects on the website from the start date (April 21st 2009) until the scrape date. From April 2015, Kickstarter began limiting the number of search results for each category. As a result, the numbers of historical results displayed are limited. Webrobots started running scrapes in multiple sub-categories to capture more instances, and as a result, there are multiple entries for several projects.\n",
    "\n",
    "### Dates of Study\n",
    "\n",
    "The scrape data that I'm working with was taken from Kickstarter.com in March of 2019. The scrape data includes both historical and current projects, so there's a wide variety of dates captured here.\n",
    "\n",
    "# Data issues\n",
    "\n",
    "### Inconsistent Dates\n",
    "\n",
    "Kickstarter.com limits the number of search results shown for each category of project (ex. 'Film & Video', or 'Publishing'). Because of this limit and because the number of projects in each category varies based on their relative popularity, the active dates for projects across different categories are not all the same. As we'll see later, the popularity of the Kickstarter.com website fluctuates over time, so different launch dates can affect a project's chances of success\n",
    "\n",
    "### Missing, incorrect or duplicate data\n",
    "\n",
    "The overall quality of the dataset is very good, with very few pieces of missing data.\n",
    "\n",
    "# Scope and Goals\n",
    "\n",
    "### Audience and Business Need\n",
    "\n",
    "This project is aimed at creators that are interested launching projects on Kickstarter's platform. Kickstarter campaigns are \"all or nothing\", meaning if a campaign doesn't reach the funding goal, all of the funds are returned to backers. For this reason, it's important for campaigns to carefully consider how their project is presented\n",
    "\n",
    "### Previous Work \n",
    "\n",
    "There's been a lot of work published using Kickstarter datasets in the past. Most of the past work has focused on trying to predict whether a project will achieve their funding goal based on characteristics such as funding goal, project  category, and number of backers. While that's interesting from a technical/model optimization view, actionable information for creators is limited so far. \n",
    "\n",
    "Citations for previous work is given in Appendix B at the end of this notebook\n",
    "\n",
    "### Project Goal\n",
    "\n",
    "In light of the previous work done and the popularity of the dataset, this project attempts to approach this dataset from an original angle. The main question I'm trying to answer here is:\n",
    "\n",
    "* *Can we create a way for new creators to make their campaigns \"look\" like successful projects* \n",
    "\n",
    "This project aims to achieve that by running a segmentation analysis on attributes of successful and unsuccesful projects and try to uncover their differences\n",
    "\n"
   ]
  },
  {
   "cell_type": "markdown",
   "metadata": {},
   "source": [
    "# Data Cleaning and Manipulation\n",
    "\n",
    "### JSON Formatting\n",
    "\n",
    "Many of columns in the original dataset were returned as JSON objects during the webrobots scrape. When exporting to a .csv file, and then importing into Pandas, the JSON formatting was lost. The cleaning script made for this project re-applied the JSON formatting, and then pulled the relevant information back out\n",
    "\n",
    "### Interpreted Data\n",
    "Some columns were made with interpreted data. Time deltas were calculated between:\n",
    "* Campaign launch date and campaign creation date\n",
    "* Campaign launch date and campaign deadline\n",
    "* Campaign launch date and date funding goal was reached\n",
    "\n",
    "Natural Language Processing was run on project titles and descriptions to better define project differences. The data from the NLP analysis was used to score project descriptions on their active phrasing and whatever other criteria I make up \n",
    "\n",
    "### Pruning and other cleaning\n",
    "The remaining cleaning work has been selecting the data relevant to the project. The original dataset contained contained image url's, and duplicates of data available in other columns. These items were removed from the dataset used for analysis\n",
    "\n",
    "### Date formats \n",
    "\n",
    "All of the columns that are time/date related are in epoch time, and I've left it that way to make things easier to do math\n",
    "\n",
    "### External Data\n",
    "\n",
    "Data pulled from IndieGoGo has been merged in with the Kickstarter dataset for comparison"
   ]
  },
  {
   "cell_type": "code",
   "execution_count": 1,
   "metadata": {},
   "outputs": [
    {
     "data": {
      "text/plain": [
       "181302"
      ]
     },
     "execution_count": 1,
     "metadata": {},
     "output_type": "execute_result"
    }
   ],
   "source": [
    "#Import libraries needed for analysis\n",
    "import pandas as pd\n",
    "import seaborn as sb\n",
    "import matplotlib.pyplot as plt\n",
    "import numpy as np\n",
    "import datetime\n",
    "import pdb\n",
    "import time\n",
    "import re\n",
    "import os\n",
    "import math as mt\n",
    "\n",
    "url = 'https://tufts.box.com/shared/static/939cuad4z6ieo8njf3ya58a603q4enyh.csv'\n",
    "if not os.path.exists('2019KickDataCleaned.csv'):\n",
    "    df = pd.read_csv(url)\n",
    "else:\n",
    "    df = pd.read_csv('2019KickDataCleaned.csv', index_col = 0)\n",
    "\n",
    "df.drop(columns = ['subcats'], inplace = True)\n",
    "df = df.drop_duplicates(subset = ['id'])\n",
    "len(df)"
   ]
  },
  {
   "cell_type": "markdown",
   "metadata": {},
   "source": [
    "### Project states\n",
    "\n",
    "There are four different states listed for each project in the dataset:\n",
    "\n",
    "| State | Description|\n",
    "|:---:|:---:|\n",
    "|Live | Project is currently actively fundraising|\n",
    "|Cancelled | Project was cancelled by the creators before the deadline | \n",
    "|Suspended | The project was suspended by Kickstarter for not meeting some criteria|\n",
    "|Succesful| The project has met or exceeded the funding goal |\n",
    "|Failed| The project failed to meet their funding goal| \n",
    "\n",
    "Since this project aims to analyze factors that make projects successful, I've filtered the dataset to include only projects that are either successful or failed"
   ]
  },
  {
   "cell_type": "markdown",
   "metadata": {},
   "source": [
    "# Merge in External Data\n",
    "\n",
    "### Alexa Site Traffic Ranking data\n",
    "\n",
    "I snagged the Alexa global traffic ranking for Kickstarter.com for the last three years. Let's take a look and see if there's any correlation between the site's traffic ranking and the success rate of projects. I only had access to the last three years worth of ranking data, so some projects will be missing information\n",
    "\n",
    "I'm using the launch date as a foreign key to match with Kickstarter's Alexa ranking, so I have to convert the timestamp to M/D/YYYY format\n",
    "\n",
    "Once the timestamps are converted, merge the Alexa ranking data in with the Kickstarter data"
   ]
  },
  {
   "cell_type": "code",
   "execution_count": 2,
   "metadata": {},
   "outputs": [],
   "source": [
    "url = 'https://tufts.box.com/shared/static/tyrjjx8afos74m7ejwia7vwt6uiyr996.csv' #Read the Alexa data\n",
    "alexa = pd.read_csv(url, skiprows = 6) \n",
    "kickRank = pd.DataFrame()\n",
    "kickRank['Date'] = alexa['Date']\n",
    "kickRank['Rank'] = alexa['kickstarter.com']\n",
    "\n",
    "#Convert the launch date timestamp (in epoch time) to M/D/YYYY format\n",
    "df['launch_date'] = df.apply(lambda x: time.strftime('%-m/%-d/%Y', time.localtime(x['launched_at'])), axis = 1)\n",
    "\n",
    "#Merge the two dataframes together on the launch date column with a left join\n",
    "df = df.merge(kickRank, how = 'left', left_on = 'launch_date', right_on = 'Date')"
   ]
  },
  {
   "cell_type": "code",
   "execution_count": 3,
   "metadata": {},
   "outputs": [
    {
     "data": {
      "text/html": [
       "<div>\n",
       "<style scoped>\n",
       "    .dataframe tbody tr th:only-of-type {\n",
       "        vertical-align: middle;\n",
       "    }\n",
       "\n",
       "    .dataframe tbody tr th {\n",
       "        vertical-align: top;\n",
       "    }\n",
       "\n",
       "    .dataframe thead th {\n",
       "        text-align: right;\n",
       "    }\n",
       "</style>\n",
       "<table border=\"1\" class=\"dataframe\">\n",
       "  <thead>\n",
       "    <tr style=\"text-align: right;\">\n",
       "      <th></th>\n",
       "      <th>Unnamed: 0</th>\n",
       "      <th>backers_count</th>\n",
       "      <th>blurb</th>\n",
       "      <th>country</th>\n",
       "      <th>created_at</th>\n",
       "      <th>creator</th>\n",
       "      <th>currency</th>\n",
       "      <th>deadline</th>\n",
       "      <th>fx_rate</th>\n",
       "      <th>goal</th>\n",
       "      <th>...</th>\n",
       "      <th>fullcats</th>\n",
       "      <th>city</th>\n",
       "      <th>creLauDelta</th>\n",
       "      <th>lauDeadDelta</th>\n",
       "      <th>staLauDelta</th>\n",
       "      <th>source</th>\n",
       "      <th>funds_raised_percent</th>\n",
       "      <th>launch_date</th>\n",
       "      <th>Date</th>\n",
       "      <th>Rank</th>\n",
       "    </tr>\n",
       "  </thead>\n",
       "  <tbody>\n",
       "    <tr>\n",
       "      <th>0</th>\n",
       "      <td>0</td>\n",
       "      <td>9</td>\n",
       "      <td>A comedy web series about the inherently funny...</td>\n",
       "      <td>US</td>\n",
       "      <td>1489891481</td>\n",
       "      <td>915430313</td>\n",
       "      <td>USD</td>\n",
       "      <td>1494132705</td>\n",
       "      <td>1.000000</td>\n",
       "      <td>5000.0</td>\n",
       "      <td>...</td>\n",
       "      <td>film &amp; video</td>\n",
       "      <td>Austin, TX</td>\n",
       "      <td>19</td>\n",
       "      <td>30</td>\n",
       "      <td>30</td>\n",
       "      <td>Kickstarter</td>\n",
       "      <td>10.160000</td>\n",
       "      <td>4/7/2017</td>\n",
       "      <td>4/7/2017</td>\n",
       "      <td>548.0</td>\n",
       "    </tr>\n",
       "    <tr>\n",
       "      <th>1</th>\n",
       "      <td>1</td>\n",
       "      <td>36</td>\n",
       "      <td>Cabo y un Capitán, dos soldados villistas, tra...</td>\n",
       "      <td>MX</td>\n",
       "      <td>1508479978</td>\n",
       "      <td>1011928721</td>\n",
       "      <td>MXN</td>\n",
       "      <td>1512917074</td>\n",
       "      <td>0.052034</td>\n",
       "      <td>65000.0</td>\n",
       "      <td>...</td>\n",
       "      <td>film &amp; video</td>\n",
       "      <td>Mexico City, Mexico</td>\n",
       "      <td>16</td>\n",
       "      <td>35</td>\n",
       "      <td>35</td>\n",
       "      <td>Kickstarter</td>\n",
       "      <td>5.226900</td>\n",
       "      <td>11/5/2017</td>\n",
       "      <td>11/5/2017</td>\n",
       "      <td>528.0</td>\n",
       "    </tr>\n",
       "    <tr>\n",
       "      <th>2</th>\n",
       "      <td>2</td>\n",
       "      <td>61</td>\n",
       "      <td>We're building the new home of Māori Theatre a...</td>\n",
       "      <td>NZ</td>\n",
       "      <td>1426499822</td>\n",
       "      <td>1902194044</td>\n",
       "      <td>NZD</td>\n",
       "      <td>1429596000</td>\n",
       "      <td>0.685030</td>\n",
       "      <td>10000.0</td>\n",
       "      <td>...</td>\n",
       "      <td>theater</td>\n",
       "      <td>Auckland, NZ</td>\n",
       "      <td>7</td>\n",
       "      <td>28</td>\n",
       "      <td>28</td>\n",
       "      <td>Kickstarter</td>\n",
       "      <td>78.343402</td>\n",
       "      <td>3/23/2015</td>\n",
       "      <td>NaN</td>\n",
       "      <td>NaN</td>\n",
       "    </tr>\n",
       "    <tr>\n",
       "      <th>3</th>\n",
       "      <td>3</td>\n",
       "      <td>1730</td>\n",
       "      <td>Comic-book stories celebrate women who crack c...</td>\n",
       "      <td>US</td>\n",
       "      <td>1482813229</td>\n",
       "      <td>121124061</td>\n",
       "      <td>USD</td>\n",
       "      <td>1489666144</td>\n",
       "      <td>1.000000</td>\n",
       "      <td>40000.0</td>\n",
       "      <td>...</td>\n",
       "      <td>comics</td>\n",
       "      <td>Scottsdale, AZ</td>\n",
       "      <td>49</td>\n",
       "      <td>29</td>\n",
       "      <td>29</td>\n",
       "      <td>Kickstarter</td>\n",
       "      <td>243.617500</td>\n",
       "      <td>2/14/2017</td>\n",
       "      <td>2/14/2017</td>\n",
       "      <td>589.0</td>\n",
       "    </tr>\n",
       "    <tr>\n",
       "      <th>4</th>\n",
       "      <td>4</td>\n",
       "      <td>183</td>\n",
       "      <td>A Victorian “gaslamp” lesbian romance, set in ...</td>\n",
       "      <td>US</td>\n",
       "      <td>1506228739</td>\n",
       "      <td>484654302</td>\n",
       "      <td>USD</td>\n",
       "      <td>1510473540</td>\n",
       "      <td>1.000000</td>\n",
       "      <td>2000.0</td>\n",
       "      <td>...</td>\n",
       "      <td>games</td>\n",
       "      <td>San Francisco, CA</td>\n",
       "      <td>16</td>\n",
       "      <td>32</td>\n",
       "      <td>32</td>\n",
       "      <td>Kickstarter</td>\n",
       "      <td>195.550000</td>\n",
       "      <td>10/10/2017</td>\n",
       "      <td>10/10/2017</td>\n",
       "      <td>503.0</td>\n",
       "    </tr>\n",
       "  </tbody>\n",
       "</table>\n",
       "<p>5 rows × 30 columns</p>\n",
       "</div>"
      ],
      "text/plain": [
       "   Unnamed: 0  backers_count  \\\n",
       "0           0              9   \n",
       "1           1             36   \n",
       "2           2             61   \n",
       "3           3           1730   \n",
       "4           4            183   \n",
       "\n",
       "                                               blurb country  created_at  \\\n",
       "0  A comedy web series about the inherently funny...      US  1489891481   \n",
       "1  Cabo y un Capitán, dos soldados villistas, tra...      MX  1508479978   \n",
       "2  We're building the new home of Māori Theatre a...      NZ  1426499822   \n",
       "3  Comic-book stories celebrate women who crack c...      US  1482813229   \n",
       "4  A Victorian “gaslamp” lesbian romance, set in ...      US  1506228739   \n",
       "\n",
       "      creator currency    deadline   fx_rate     goal  ...      fullcats  \\\n",
       "0   915430313      USD  1494132705  1.000000   5000.0  ...  film & video   \n",
       "1  1011928721      MXN  1512917074  0.052034  65000.0  ...  film & video   \n",
       "2  1902194044      NZD  1429596000  0.685030  10000.0  ...       theater   \n",
       "3   121124061      USD  1489666144  1.000000  40000.0  ...        comics   \n",
       "4   484654302      USD  1510473540  1.000000   2000.0  ...         games   \n",
       "\n",
       "                  city creLauDelta lauDeadDelta  staLauDelta       source  \\\n",
       "0           Austin, TX          19           30           30  Kickstarter   \n",
       "1  Mexico City, Mexico          16           35           35  Kickstarter   \n",
       "2         Auckland, NZ           7           28           28  Kickstarter   \n",
       "3       Scottsdale, AZ          49           29           29  Kickstarter   \n",
       "4    San Francisco, CA          16           32           32  Kickstarter   \n",
       "\n",
       "  funds_raised_percent  launch_date        Date   Rank  \n",
       "0            10.160000     4/7/2017    4/7/2017  548.0  \n",
       "1             5.226900    11/5/2017   11/5/2017  528.0  \n",
       "2            78.343402    3/23/2015         NaN    NaN  \n",
       "3           243.617500    2/14/2017   2/14/2017  589.0  \n",
       "4           195.550000   10/10/2017  10/10/2017  503.0  \n",
       "\n",
       "[5 rows x 30 columns]"
      ]
     },
     "execution_count": 3,
     "metadata": {},
     "output_type": "execute_result"
    }
   ],
   "source": [
    "df.head()"
   ]
  },
  {
   "cell_type": "markdown",
   "metadata": {},
   "source": [
    "### Convert Foreign Currencies to USD terms\n",
    "\n",
    "There's a number of projects that originated outside of the US. For these projects, the funding goals are in a different currency. In order to clean up the dataframe for analysis, convert these into USD terms.\n",
    "\n",
    "Kickstarter.com was kind enough to include the prevailing currency exchange rate at the time of the project, so I'll use that for the conversion"
   ]
  },
  {
   "cell_type": "code",
   "execution_count": 4,
   "metadata": {},
   "outputs": [],
   "source": [
    "# Multiply the goal by the fx rate\n",
    "df['goal'] = df.apply(lambda x: (x['goal'] * x['fx_rate']), axis = 1) "
   ]
  },
  {
   "cell_type": "code",
   "execution_count": 5,
   "metadata": {},
   "outputs": [
    {
     "data": {
      "text/html": [
       "<div>\n",
       "<style scoped>\n",
       "    .dataframe tbody tr th:only-of-type {\n",
       "        vertical-align: middle;\n",
       "    }\n",
       "\n",
       "    .dataframe tbody tr th {\n",
       "        vertical-align: top;\n",
       "    }\n",
       "\n",
       "    .dataframe thead th {\n",
       "        text-align: right;\n",
       "    }\n",
       "</style>\n",
       "<table border=\"1\" class=\"dataframe\">\n",
       "  <thead>\n",
       "    <tr style=\"text-align: right;\">\n",
       "      <th></th>\n",
       "      <th>Unnamed: 0</th>\n",
       "      <th>backers_count</th>\n",
       "      <th>blurb</th>\n",
       "      <th>country</th>\n",
       "      <th>created_at</th>\n",
       "      <th>creator</th>\n",
       "      <th>currency</th>\n",
       "      <th>deadline</th>\n",
       "      <th>fx_rate</th>\n",
       "      <th>goal</th>\n",
       "      <th>...</th>\n",
       "      <th>fullcats</th>\n",
       "      <th>city</th>\n",
       "      <th>creLauDelta</th>\n",
       "      <th>lauDeadDelta</th>\n",
       "      <th>staLauDelta</th>\n",
       "      <th>source</th>\n",
       "      <th>funds_raised_percent</th>\n",
       "      <th>launch_date</th>\n",
       "      <th>Date</th>\n",
       "      <th>Rank</th>\n",
       "    </tr>\n",
       "  </thead>\n",
       "  <tbody>\n",
       "    <tr>\n",
       "      <th>0</th>\n",
       "      <td>0</td>\n",
       "      <td>9</td>\n",
       "      <td>A comedy web series about the inherently funny...</td>\n",
       "      <td>US</td>\n",
       "      <td>1489891481</td>\n",
       "      <td>915430313</td>\n",
       "      <td>USD</td>\n",
       "      <td>1494132705</td>\n",
       "      <td>1.000000</td>\n",
       "      <td>5000.0000</td>\n",
       "      <td>...</td>\n",
       "      <td>film &amp; video</td>\n",
       "      <td>Austin, TX</td>\n",
       "      <td>19</td>\n",
       "      <td>30</td>\n",
       "      <td>30</td>\n",
       "      <td>Kickstarter</td>\n",
       "      <td>10.160000</td>\n",
       "      <td>4/7/2017</td>\n",
       "      <td>4/7/2017</td>\n",
       "      <td>548.0</td>\n",
       "    </tr>\n",
       "    <tr>\n",
       "      <th>1</th>\n",
       "      <td>1</td>\n",
       "      <td>36</td>\n",
       "      <td>Cabo y un Capitán, dos soldados villistas, tra...</td>\n",
       "      <td>MX</td>\n",
       "      <td>1508479978</td>\n",
       "      <td>1011928721</td>\n",
       "      <td>MXN</td>\n",
       "      <td>1512917074</td>\n",
       "      <td>0.052034</td>\n",
       "      <td>3382.2282</td>\n",
       "      <td>...</td>\n",
       "      <td>film &amp; video</td>\n",
       "      <td>Mexico City, Mexico</td>\n",
       "      <td>16</td>\n",
       "      <td>35</td>\n",
       "      <td>35</td>\n",
       "      <td>Kickstarter</td>\n",
       "      <td>5.226900</td>\n",
       "      <td>11/5/2017</td>\n",
       "      <td>11/5/2017</td>\n",
       "      <td>528.0</td>\n",
       "    </tr>\n",
       "    <tr>\n",
       "      <th>2</th>\n",
       "      <td>2</td>\n",
       "      <td>61</td>\n",
       "      <td>We're building the new home of Māori Theatre a...</td>\n",
       "      <td>NZ</td>\n",
       "      <td>1426499822</td>\n",
       "      <td>1902194044</td>\n",
       "      <td>NZD</td>\n",
       "      <td>1429596000</td>\n",
       "      <td>0.685030</td>\n",
       "      <td>6850.2957</td>\n",
       "      <td>...</td>\n",
       "      <td>theater</td>\n",
       "      <td>Auckland, NZ</td>\n",
       "      <td>7</td>\n",
       "      <td>28</td>\n",
       "      <td>28</td>\n",
       "      <td>Kickstarter</td>\n",
       "      <td>78.343402</td>\n",
       "      <td>3/23/2015</td>\n",
       "      <td>NaN</td>\n",
       "      <td>NaN</td>\n",
       "    </tr>\n",
       "    <tr>\n",
       "      <th>3</th>\n",
       "      <td>3</td>\n",
       "      <td>1730</td>\n",
       "      <td>Comic-book stories celebrate women who crack c...</td>\n",
       "      <td>US</td>\n",
       "      <td>1482813229</td>\n",
       "      <td>121124061</td>\n",
       "      <td>USD</td>\n",
       "      <td>1489666144</td>\n",
       "      <td>1.000000</td>\n",
       "      <td>40000.0000</td>\n",
       "      <td>...</td>\n",
       "      <td>comics</td>\n",
       "      <td>Scottsdale, AZ</td>\n",
       "      <td>49</td>\n",
       "      <td>29</td>\n",
       "      <td>29</td>\n",
       "      <td>Kickstarter</td>\n",
       "      <td>243.617500</td>\n",
       "      <td>2/14/2017</td>\n",
       "      <td>2/14/2017</td>\n",
       "      <td>589.0</td>\n",
       "    </tr>\n",
       "    <tr>\n",
       "      <th>4</th>\n",
       "      <td>4</td>\n",
       "      <td>183</td>\n",
       "      <td>A Victorian “gaslamp” lesbian romance, set in ...</td>\n",
       "      <td>US</td>\n",
       "      <td>1506228739</td>\n",
       "      <td>484654302</td>\n",
       "      <td>USD</td>\n",
       "      <td>1510473540</td>\n",
       "      <td>1.000000</td>\n",
       "      <td>2000.0000</td>\n",
       "      <td>...</td>\n",
       "      <td>games</td>\n",
       "      <td>San Francisco, CA</td>\n",
       "      <td>16</td>\n",
       "      <td>32</td>\n",
       "      <td>32</td>\n",
       "      <td>Kickstarter</td>\n",
       "      <td>195.550000</td>\n",
       "      <td>10/10/2017</td>\n",
       "      <td>10/10/2017</td>\n",
       "      <td>503.0</td>\n",
       "    </tr>\n",
       "  </tbody>\n",
       "</table>\n",
       "<p>5 rows × 30 columns</p>\n",
       "</div>"
      ],
      "text/plain": [
       "   Unnamed: 0  backers_count  \\\n",
       "0           0              9   \n",
       "1           1             36   \n",
       "2           2             61   \n",
       "3           3           1730   \n",
       "4           4            183   \n",
       "\n",
       "                                               blurb country  created_at  \\\n",
       "0  A comedy web series about the inherently funny...      US  1489891481   \n",
       "1  Cabo y un Capitán, dos soldados villistas, tra...      MX  1508479978   \n",
       "2  We're building the new home of Māori Theatre a...      NZ  1426499822   \n",
       "3  Comic-book stories celebrate women who crack c...      US  1482813229   \n",
       "4  A Victorian “gaslamp” lesbian romance, set in ...      US  1506228739   \n",
       "\n",
       "      creator currency    deadline   fx_rate        goal  ...      fullcats  \\\n",
       "0   915430313      USD  1494132705  1.000000   5000.0000  ...  film & video   \n",
       "1  1011928721      MXN  1512917074  0.052034   3382.2282  ...  film & video   \n",
       "2  1902194044      NZD  1429596000  0.685030   6850.2957  ...       theater   \n",
       "3   121124061      USD  1489666144  1.000000  40000.0000  ...        comics   \n",
       "4   484654302      USD  1510473540  1.000000   2000.0000  ...         games   \n",
       "\n",
       "                  city creLauDelta lauDeadDelta  staLauDelta       source  \\\n",
       "0           Austin, TX          19           30           30  Kickstarter   \n",
       "1  Mexico City, Mexico          16           35           35  Kickstarter   \n",
       "2         Auckland, NZ           7           28           28  Kickstarter   \n",
       "3       Scottsdale, AZ          49           29           29  Kickstarter   \n",
       "4    San Francisco, CA          16           32           32  Kickstarter   \n",
       "\n",
       "  funds_raised_percent  launch_date        Date   Rank  \n",
       "0            10.160000     4/7/2017    4/7/2017  548.0  \n",
       "1             5.226900    11/5/2017   11/5/2017  528.0  \n",
       "2            78.343402    3/23/2015         NaN    NaN  \n",
       "3           243.617500    2/14/2017   2/14/2017  589.0  \n",
       "4           195.550000   10/10/2017  10/10/2017  503.0  \n",
       "\n",
       "[5 rows x 30 columns]"
      ]
     },
     "execution_count": 5,
     "metadata": {},
     "output_type": "execute_result"
    }
   ],
   "source": [
    "# Check that the merge was successful and did what I wanted\n",
    "df.head()"
   ]
  },
  {
   "cell_type": "markdown",
   "metadata": {},
   "source": [
    "### IndieGoGo Data\n",
    "\n",
    "Webrobots.io also runs a monthly scrape of the indiegogo website. Since there's already been a large amount of work done on Kickstarter data in the past, I want to try and make some unique analyses using a new dataset.\n",
    "\n",
    "I grabbed the most recent version of the indiegogo dataset, and now I'm going to merge it with my Kickstarter dataset"
   ]
  },
  {
   "cell_type": "code",
   "execution_count": 6,
   "metadata": {},
   "outputs": [],
   "source": [
    "#Start by taking a look at the indiegogo dataset\n",
    "url = 'https://tufts.box.com/shared/static/on2cmdxc4vqpm2dutaaf7l8764ktq0u5.csv'\n",
    "indie = pd.read_csv('https://tufts.box.com/shared/static/on2cmdxc4vqpm2dutaaf7l8764ktq0u5.csv')\n",
    "#Drop columns that are unrelatd to the original kickstarter dataset\n",
    "indie.drop(labels = ['bullet_point', 'category_url', 'clickthrough_url', 'image_url', 'is_pre_launch', 'offered_by', \n",
    "                     'price_offered', 'product_id', 'product_stage', 'project_type', 'price_retail', \n",
    "                     'perk_goal_percentage', 'tags'], axis = 1, inplace = True)"
   ]
  },
  {
   "cell_type": "code",
   "execution_count": 7,
   "metadata": {},
   "outputs": [
    {
     "data": {
      "text/html": [
       "<div>\n",
       "<style scoped>\n",
       "    .dataframe tbody tr th:only-of-type {\n",
       "        vertical-align: middle;\n",
       "    }\n",
       "\n",
       "    .dataframe tbody tr th {\n",
       "        vertical-align: top;\n",
       "    }\n",
       "\n",
       "    .dataframe thead th {\n",
       "        text-align: right;\n",
       "    }\n",
       "</style>\n",
       "<table border=\"1\" class=\"dataframe\">\n",
       "  <thead>\n",
       "    <tr style=\"text-align: right;\">\n",
       "      <th></th>\n",
       "      <th>category</th>\n",
       "      <th>close_date</th>\n",
       "      <th>currency</th>\n",
       "      <th>funds_raised_amount</th>\n",
       "      <th>funds_raised_percent</th>\n",
       "      <th>is_indemand</th>\n",
       "      <th>open_date</th>\n",
       "      <th>perks_claimed</th>\n",
       "      <th>project_id</th>\n",
       "      <th>source_url</th>\n",
       "      <th>tagline</th>\n",
       "      <th>title</th>\n",
       "    </tr>\n",
       "  </thead>\n",
       "  <tbody>\n",
       "    <tr>\n",
       "      <th>0</th>\n",
       "      <td>Home</td>\n",
       "      <td>2018-07-16T23:59:59-07:00</td>\n",
       "      <td>GBP</td>\n",
       "      <td>10694.0</td>\n",
       "      <td>1.065059</td>\n",
       "      <td>True</td>\n",
       "      <td>2018-07-15T23:59:59-07:00</td>\n",
       "      <td>58.0</td>\n",
       "      <td>2397370</td>\n",
       "      <td>https://www.indiegogo.com/explore/all?project_...</td>\n",
       "      <td>Make a brew for two with one press using the A...</td>\n",
       "      <td>2POUR An Accessory For Aeropress Coffee Maker</td>\n",
       "    </tr>\n",
       "    <tr>\n",
       "      <th>1</th>\n",
       "      <td>Web Series &amp; TV Shows</td>\n",
       "      <td>2017-09-12T23:59:59-07:00</td>\n",
       "      <td>AUD</td>\n",
       "      <td>30.0</td>\n",
       "      <td>0.003000</td>\n",
       "      <td>False</td>\n",
       "      <td>2017-07-14T06:19:44-07:00</td>\n",
       "      <td>0.0</td>\n",
       "      <td>2152925</td>\n",
       "      <td>https://www.indiegogo.com/explore/all?project_...</td>\n",
       "      <td>This street is the stage where the theatre mee...</td>\n",
       "      <td>Hustle Street - A musical</td>\n",
       "    </tr>\n",
       "    <tr>\n",
       "      <th>2</th>\n",
       "      <td>Photography</td>\n",
       "      <td>2013-02-13T23:59:59-08:00</td>\n",
       "      <td>USD</td>\n",
       "      <td>7060.0</td>\n",
       "      <td>0.415294</td>\n",
       "      <td>False</td>\n",
       "      <td>2012-12-10T09:05:14-08:00</td>\n",
       "      <td>65.0</td>\n",
       "      <td>291347</td>\n",
       "      <td>https://www.indiegogo.com/explore/all?project_...</td>\n",
       "      <td>Creating a photo-narrative book that captures ...</td>\n",
       "      <td>The Thru-Project</td>\n",
       "    </tr>\n",
       "    <tr>\n",
       "      <th>3</th>\n",
       "      <td>Home</td>\n",
       "      <td>2017-01-07T23:59:59-08:00</td>\n",
       "      <td>EUR</td>\n",
       "      <td>20.0</td>\n",
       "      <td>0.000020</td>\n",
       "      <td>False</td>\n",
       "      <td>2016-11-24T01:51:38-08:00</td>\n",
       "      <td>2.0</td>\n",
       "      <td>1951140</td>\n",
       "      <td>https://www.indiegogo.com/explore/all?project_...</td>\n",
       "      <td>World 1st Charity Contest of religious communi...</td>\n",
       "      <td>Way2goodness</td>\n",
       "    </tr>\n",
       "    <tr>\n",
       "      <th>4</th>\n",
       "      <td>Health &amp; Fitness</td>\n",
       "      <td>2018-07-11T23:59:59-07:00</td>\n",
       "      <td>USD</td>\n",
       "      <td>250036.0</td>\n",
       "      <td>6.750033</td>\n",
       "      <td>True</td>\n",
       "      <td>2018-07-10T23:59:59-07:00</td>\n",
       "      <td>532.0</td>\n",
       "      <td>2393782</td>\n",
       "      <td>https://www.indiegogo.com/explore/all?project_...</td>\n",
       "      <td>Wake up gently every morning by stimulating th...</td>\n",
       "      <td>Sensorwake Trio: The scent-based alarm clock</td>\n",
       "    </tr>\n",
       "  </tbody>\n",
       "</table>\n",
       "</div>"
      ],
      "text/plain": [
       "                category                 close_date currency  \\\n",
       "0                   Home  2018-07-16T23:59:59-07:00      GBP   \n",
       "1  Web Series & TV Shows  2017-09-12T23:59:59-07:00      AUD   \n",
       "2            Photography  2013-02-13T23:59:59-08:00      USD   \n",
       "3                   Home  2017-01-07T23:59:59-08:00      EUR   \n",
       "4       Health & Fitness  2018-07-11T23:59:59-07:00      USD   \n",
       "\n",
       "   funds_raised_amount  funds_raised_percent  is_indemand  \\\n",
       "0              10694.0              1.065059         True   \n",
       "1                 30.0              0.003000        False   \n",
       "2               7060.0              0.415294        False   \n",
       "3                 20.0              0.000020        False   \n",
       "4             250036.0              6.750033         True   \n",
       "\n",
       "                   open_date  perks_claimed  project_id  \\\n",
       "0  2018-07-15T23:59:59-07:00           58.0     2397370   \n",
       "1  2017-07-14T06:19:44-07:00            0.0     2152925   \n",
       "2  2012-12-10T09:05:14-08:00           65.0      291347   \n",
       "3  2016-11-24T01:51:38-08:00            2.0     1951140   \n",
       "4  2018-07-10T23:59:59-07:00          532.0     2393782   \n",
       "\n",
       "                                          source_url  \\\n",
       "0  https://www.indiegogo.com/explore/all?project_...   \n",
       "1  https://www.indiegogo.com/explore/all?project_...   \n",
       "2  https://www.indiegogo.com/explore/all?project_...   \n",
       "3  https://www.indiegogo.com/explore/all?project_...   \n",
       "4  https://www.indiegogo.com/explore/all?project_...   \n",
       "\n",
       "                                             tagline  \\\n",
       "0  Make a brew for two with one press using the A...   \n",
       "1  This street is the stage where the theatre mee...   \n",
       "2  Creating a photo-narrative book that captures ...   \n",
       "3  World 1st Charity Contest of religious communi...   \n",
       "4  Wake up gently every morning by stimulating th...   \n",
       "\n",
       "                                           title  \n",
       "0  2POUR An Accessory For Aeropress Coffee Maker  \n",
       "1                      Hustle Street - A musical  \n",
       "2                               The Thru-Project  \n",
       "3                                   Way2goodness  \n",
       "4   Sensorwake Trio: The scent-based alarm clock  "
      ]
     },
     "execution_count": 7,
     "metadata": {},
     "output_type": "execute_result"
    }
   ],
   "source": [
    "indie.head()"
   ]
  },
  {
   "cell_type": "markdown",
   "metadata": {},
   "source": [
    "# Making the Indiegogo data look like the Kickstarter data\n",
    "\n",
    "Since the two websites are unique, there's a lot of differences in how the datasets are structured\n",
    "\n",
    "The following few steps are manipulating the indiegogo data to look like the Kickstarter data\n",
    "\n",
    "### Date Conversion\n",
    "\n",
    "First up, change the dates that are in a YY/MM/DD format and convert that into epoch time (the standard for the Kickstarter dataset)"
   ]
  },
  {
   "cell_type": "code",
   "execution_count": 8,
   "metadata": {},
   "outputs": [],
   "source": [
    "import datetime # Library for working with datetime information\n",
    "indie.dropna(inplace = True) # Drop rows that are missing important information\n",
    "\n",
    "# Define a function to strip out the extra information on the indiegogo timestamps, and then convert to epoch time\n",
    "def epoch(target): \n",
    "    '''\n",
    "    This function takes a date from the indiegogo dataset (read originally as a string), converts to a datetime object\n",
    "    and then converts that date to epoch time\n",
    "    '''\n",
    "    target = target.split('T')\n",
    "    target = datetime.datetime.strptime(target[0], '%Y-%m-%d')\n",
    "    target = target.strftime('%s')\n",
    "    return(target)\n",
    "\n",
    "#Run the epoch function on the project close date and project open date columns\n",
    "indie.close_date = indie.close_date.apply(epoch) \n",
    "indie.open_date = indie.open_date.apply(epoch)"
   ]
  },
  {
   "cell_type": "markdown",
   "metadata": {},
   "source": [
    "### Renaming Categories\n",
    "\n",
    "The category labels for indiegogo don't quite match up to Kickstarter categories. I've made a dictionary to convert the indiegogo categories to match Kickstarter categories\n",
    "\n",
    "Some of the categories in the indiegogo dataset didn't have an obvious counterpart in the kickstarter data, so I've left those in their original categories"
   ]
  },
  {
   "cell_type": "code",
   "execution_count": 9,
   "metadata": {},
   "outputs": [],
   "source": [
    "indieDictionary = { 'Home' : 'crafts',\n",
    "                   'Web Series & TV Shows' : 'film & video',\n",
    "                   'Photography' : 'photography',\n",
    "                   'Health & Fitness' : 'health&fitness',\n",
    "                   'Comics' : 'comics',\n",
    "                   'Food & Beverages' : 'food',\n",
    "                   'Music' : 'music',\n",
    "                   'Dance & Theater' : 'dance',\n",
    "                   'Podcasts, Blogs & Vlogs' : 'journalism' ,\n",
    "                   'Video Games' : 'games',\n",
    "                   'Art' : 'art',\n",
    "                   'Fashion & Wearables' : 'fashion',\n",
    "                   'Phones & Accessories' : 'technology',\n",
    "                   'Wellness' : 'health&fitness',\n",
    "                   'Camera Gear': 'cameragear',\n",
    "                   'Travel & Outdoors': 'travel&outdoors',\n",
    "                   'Film' : 'film & video',\n",
    "                   'Productivity': 'productivity',\n",
    "                   'Tabletop Games':  'games',\n",
    "                   'Audio' : 'music',\n",
    "                   'Culture' : 'culture',\n",
    "                   'Human Rights' : 'human_rights',\n",
    "                   'Environment' : 'environment',\n",
    "                   'Writing & Publishing' :  'publishing',\n",
    "                   'Transportation' : 'technology',\n",
    "                   'Local Businesses' : 'local_businesses',\n",
    "                   'Energy & Green Tech' : 'energy&green tech'}"
   ]
  },
  {
   "cell_type": "markdown",
   "metadata": {},
   "source": [
    "### Column Names, Epoch Time Conversion, and some Math\n",
    "\n",
    "Rename the columns of the indiegogo data to match the kickstarter column names. When the dates were converted to epoch time in the step above, the data was read as a string type. Convert those to ints\n",
    "\n",
    "Finally, calculate how long the fundraising campaigns were for each project"
   ]
  },
  {
   "cell_type": "code",
   "execution_count": 10,
   "metadata": {},
   "outputs": [],
   "source": [
    "# Use the dictionary to re-categorize the indiegogo projects\n",
    "indie.category = indie.category.map(indieDictionary) \n",
    "\n",
    "# Add an indiegogo tag column to separate kickstarter and indiegogo data\n",
    "indie['source'] = 'indiegogo' \n",
    "\n",
    "# Rename each column header to match kickstarter\n",
    "indie = indie.rename(index=str, columns={\"close_date\": \"deadline\", \n",
    "                              \"funds_raised_amount\": \"usd_pledged\", \n",
    "                              \"open_date\" : \"launched_at\",\n",
    "                              \"is_indemand\":\"staff_pick\", \n",
    "                              \"tagline\" : \"blurb\", \n",
    "                              \"title\":\"name\", \n",
    "                              \"perks_claimed\" : \"backers_count\",\n",
    "                              \"project_id\": \"id\", \n",
    "                              \"category\" : \"fullcats\",\n",
    "                              \"source_url\" : \"urls\"})\n",
    "\n",
    "# Cast the epoch timestamps as ints instead of strings\n",
    "indie.deadline = indie.deadline.astype(int) \n",
    "indie.launched_at = indie.launched_at.astype(int)\n",
    "\n",
    "#Calculate how long each fundraising campaign was run for\n",
    "indie['lauDeadDelta'] = indie.apply(lambda x: (x[\"deadline\"] - x[\"launched_at\"])/60/60/24, axis = 1)\n",
    "indie['goal'] = indie.apply(lambda x: (mt.ceil(x['usd_pledged'] / (x['funds_raised_percent'] + 0.00000000001))), \n",
    "                            axis = 1)\n",
    "indie['funds_raised_percent'] = indie.apply(lambda x: (x['funds_raised_percent'] * 100), axis = 1)"
   ]
  },
  {
   "cell_type": "markdown",
   "metadata": {},
   "source": [
    "### Tagging IndieGoGo campaigns as successful or failed\n",
    "\n",
    "Since indiegogo creatores receive their funds regardless of how much the projects raise, the indiegogo dataset doesn't have a tag for the status of a project\n",
    "\n",
    "To fix that, I'll tag any project that reaches it's fundraising goal as successful and any that don't as failed"
   ]
  },
  {
   "cell_type": "code",
   "execution_count": 11,
   "metadata": {},
   "outputs": [
    {
     "name": "stderr",
     "output_type": "stream",
     "text": [
      "/Users/chrismay/anaconda3/lib/python3.7/site-packages/ipykernel_launcher.py:7: SettingWithCopyWarning: \n",
      "A value is trying to be set on a copy of a slice from a DataFrame.\n",
      "Try using .loc[row_indexer,col_indexer] = value instead\n",
      "\n",
      "See the caveats in the documentation: http://pandas.pydata.org/pandas-docs/stable/indexing.html#indexing-view-versus-copy\n",
      "  import sys\n",
      "/Users/chrismay/anaconda3/lib/python3.7/site-packages/ipykernel_launcher.py:11: SettingWithCopyWarning: \n",
      "A value is trying to be set on a copy of a slice from a DataFrame.\n",
      "Try using .loc[row_indexer,col_indexer] = value instead\n",
      "\n",
      "See the caveats in the documentation: http://pandas.pydata.org/pandas-docs/stable/indexing.html#indexing-view-versus-copy\n",
      "  # This is added back by InteractiveShellApp.init_path()\n"
     ]
    }
   ],
   "source": [
    "inSuccess = pd.DataFrame()\n",
    "inFailed = pd.DataFrame()\n",
    "\n",
    "# First filter out all projects that raised 100% of their goal or more, then add a 'state' column and set that to\n",
    "# successful\n",
    "inSuccess = indie[indie['funds_raised_percent'] >= 100]\n",
    "inSuccess['state'] = 'successful'\n",
    "\n",
    "# Now do the same for projects that didn't raise 100% of their funding goals, and tag them as failed\n",
    "inFailed = indie[indie['funds_raised_percent'] < 100]\n",
    "inFailed['state'] = 'failed'\n",
    "\n",
    "# Merge the two dataframes back together \n",
    "indie = inSuccess.merge(inFailed, how = 'outer', on = None)\n",
    "del inSuccess\n",
    "del inFailed"
   ]
  },
  {
   "cell_type": "code",
   "execution_count": 12,
   "metadata": {},
   "outputs": [],
   "source": [
    "indieRank = pd.DataFrame()\n",
    "indieRank['Date'] = alexa['Date']\n",
    "indieRank['Rank'] = alexa['indiegogo.com']\n",
    "\n",
    "#Convert the launch date timestamp (in epoch time) to M/D/YYYY format\n",
    "indie['launch_date'] = indie.apply(lambda x: time.strftime('%-m/%-d/%Y', time.localtime(x['launched_at'])), axis = 1)\n",
    "\n",
    "#Merge the two dataframes together on the launch date column with a left join\n",
    "indie = indie.merge(indieRank, how = 'left', left_on = 'launch_date', right_on = 'Date')"
   ]
  },
  {
   "cell_type": "code",
   "execution_count": 13,
   "metadata": {},
   "outputs": [
    {
     "data": {
      "text/html": [
       "<div>\n",
       "<style scoped>\n",
       "    .dataframe tbody tr th:only-of-type {\n",
       "        vertical-align: middle;\n",
       "    }\n",
       "\n",
       "    .dataframe tbody tr th {\n",
       "        vertical-align: top;\n",
       "    }\n",
       "\n",
       "    .dataframe thead th {\n",
       "        text-align: right;\n",
       "    }\n",
       "</style>\n",
       "<table border=\"1\" class=\"dataframe\">\n",
       "  <thead>\n",
       "    <tr style=\"text-align: right;\">\n",
       "      <th></th>\n",
       "      <th>fullcats</th>\n",
       "      <th>deadline</th>\n",
       "      <th>currency</th>\n",
       "      <th>usd_pledged</th>\n",
       "      <th>funds_raised_percent</th>\n",
       "      <th>staff_pick</th>\n",
       "      <th>launched_at</th>\n",
       "      <th>backers_count</th>\n",
       "      <th>id</th>\n",
       "      <th>urls</th>\n",
       "      <th>blurb</th>\n",
       "      <th>name</th>\n",
       "      <th>source</th>\n",
       "      <th>lauDeadDelta</th>\n",
       "      <th>goal</th>\n",
       "      <th>state</th>\n",
       "      <th>launch_date</th>\n",
       "      <th>Date</th>\n",
       "      <th>Rank</th>\n",
       "    </tr>\n",
       "  </thead>\n",
       "  <tbody>\n",
       "    <tr>\n",
       "      <th>0</th>\n",
       "      <td>crafts</td>\n",
       "      <td>1531713600</td>\n",
       "      <td>GBP</td>\n",
       "      <td>10694.0</td>\n",
       "      <td>106.505882</td>\n",
       "      <td>True</td>\n",
       "      <td>1531627200</td>\n",
       "      <td>58.0</td>\n",
       "      <td>2397370</td>\n",
       "      <td>https://www.indiegogo.com/explore/all?project_...</td>\n",
       "      <td>Make a brew for two with one press using the A...</td>\n",
       "      <td>2POUR An Accessory For Aeropress Coffee Maker</td>\n",
       "      <td>indiegogo</td>\n",
       "      <td>1.0</td>\n",
       "      <td>10041</td>\n",
       "      <td>successful</td>\n",
       "      <td>7/15/2018</td>\n",
       "      <td>7/15/2018</td>\n",
       "      <td>2078.0</td>\n",
       "    </tr>\n",
       "    <tr>\n",
       "      <th>1</th>\n",
       "      <td>health&amp;fitness</td>\n",
       "      <td>1531281600</td>\n",
       "      <td>USD</td>\n",
       "      <td>250036.0</td>\n",
       "      <td>675.003333</td>\n",
       "      <td>True</td>\n",
       "      <td>1531195200</td>\n",
       "      <td>532.0</td>\n",
       "      <td>2393782</td>\n",
       "      <td>https://www.indiegogo.com/explore/all?project_...</td>\n",
       "      <td>Wake up gently every morning by stimulating th...</td>\n",
       "      <td>Sensorwake Trio: The scent-based alarm clock</td>\n",
       "      <td>indiegogo</td>\n",
       "      <td>1.0</td>\n",
       "      <td>37043</td>\n",
       "      <td>successful</td>\n",
       "      <td>7/10/2018</td>\n",
       "      <td>7/10/2018</td>\n",
       "      <td>2104.0</td>\n",
       "    </tr>\n",
       "    <tr>\n",
       "      <th>2</th>\n",
       "      <td>comics</td>\n",
       "      <td>1373860800</td>\n",
       "      <td>USD</td>\n",
       "      <td>12904.0</td>\n",
       "      <td>430.133333</td>\n",
       "      <td>False</td>\n",
       "      <td>1369800000</td>\n",
       "      <td>151.0</td>\n",
       "      <td>413752</td>\n",
       "      <td>https://www.indiegogo.com/explore/all?project_...</td>\n",
       "      <td>Support independent comics by helping Antarcti...</td>\n",
       "      <td>Antarctic Press...Keeping it Cold in the Antar...</td>\n",
       "      <td>indiegogo</td>\n",
       "      <td>47.0</td>\n",
       "      <td>3000</td>\n",
       "      <td>successful</td>\n",
       "      <td>5/29/2013</td>\n",
       "      <td>NaN</td>\n",
       "      <td>NaN</td>\n",
       "    </tr>\n",
       "    <tr>\n",
       "      <th>3</th>\n",
       "      <td>crafts</td>\n",
       "      <td>1513227600</td>\n",
       "      <td>USD</td>\n",
       "      <td>78718.0</td>\n",
       "      <td>272.035000</td>\n",
       "      <td>False</td>\n",
       "      <td>1513141200</td>\n",
       "      <td>179.0</td>\n",
       "      <td>2276585</td>\n",
       "      <td>https://www.indiegogo.com/explore/all?project_...</td>\n",
       "      <td>The first smart padlock designed to protect yo...</td>\n",
       "      <td>BoxLock Home - Smart Padlock to Protect Delive...</td>\n",
       "      <td>indiegogo</td>\n",
       "      <td>1.0</td>\n",
       "      <td>28937</td>\n",
       "      <td>successful</td>\n",
       "      <td>12/13/2017</td>\n",
       "      <td>12/13/2017</td>\n",
       "      <td>1872.0</td>\n",
       "    </tr>\n",
       "    <tr>\n",
       "      <th>4</th>\n",
       "      <td>crafts</td>\n",
       "      <td>1524456000</td>\n",
       "      <td>USD</td>\n",
       "      <td>6135.0</td>\n",
       "      <td>232.300000</td>\n",
       "      <td>True</td>\n",
       "      <td>1521086400</td>\n",
       "      <td>44.0</td>\n",
       "      <td>2352230</td>\n",
       "      <td>https://www.indiegogo.com/explore/all?project_...</td>\n",
       "      <td>Get 5 star results with our solid Titanium rol...</td>\n",
       "      <td>SolidTi: World's first solid titanium rolling pin</td>\n",
       "      <td>indiegogo</td>\n",
       "      <td>39.0</td>\n",
       "      <td>2641</td>\n",
       "      <td>successful</td>\n",
       "      <td>3/15/2018</td>\n",
       "      <td>3/15/2018</td>\n",
       "      <td>2179.0</td>\n",
       "    </tr>\n",
       "  </tbody>\n",
       "</table>\n",
       "</div>"
      ],
      "text/plain": [
       "         fullcats    deadline currency  usd_pledged  funds_raised_percent  \\\n",
       "0          crafts  1531713600      GBP      10694.0            106.505882   \n",
       "1  health&fitness  1531281600      USD     250036.0            675.003333   \n",
       "2          comics  1373860800      USD      12904.0            430.133333   \n",
       "3          crafts  1513227600      USD      78718.0            272.035000   \n",
       "4          crafts  1524456000      USD       6135.0            232.300000   \n",
       "\n",
       "  staff_pick  launched_at  backers_count       id  \\\n",
       "0       True   1531627200           58.0  2397370   \n",
       "1       True   1531195200          532.0  2393782   \n",
       "2      False   1369800000          151.0   413752   \n",
       "3      False   1513141200          179.0  2276585   \n",
       "4       True   1521086400           44.0  2352230   \n",
       "\n",
       "                                                urls  \\\n",
       "0  https://www.indiegogo.com/explore/all?project_...   \n",
       "1  https://www.indiegogo.com/explore/all?project_...   \n",
       "2  https://www.indiegogo.com/explore/all?project_...   \n",
       "3  https://www.indiegogo.com/explore/all?project_...   \n",
       "4  https://www.indiegogo.com/explore/all?project_...   \n",
       "\n",
       "                                               blurb  \\\n",
       "0  Make a brew for two with one press using the A...   \n",
       "1  Wake up gently every morning by stimulating th...   \n",
       "2  Support independent comics by helping Antarcti...   \n",
       "3  The first smart padlock designed to protect yo...   \n",
       "4  Get 5 star results with our solid Titanium rol...   \n",
       "\n",
       "                                                name     source  lauDeadDelta  \\\n",
       "0      2POUR An Accessory For Aeropress Coffee Maker  indiegogo           1.0   \n",
       "1       Sensorwake Trio: The scent-based alarm clock  indiegogo           1.0   \n",
       "2  Antarctic Press...Keeping it Cold in the Antar...  indiegogo          47.0   \n",
       "3  BoxLock Home - Smart Padlock to Protect Delive...  indiegogo           1.0   \n",
       "4  SolidTi: World's first solid titanium rolling pin  indiegogo          39.0   \n",
       "\n",
       "    goal       state launch_date        Date    Rank  \n",
       "0  10041  successful   7/15/2018   7/15/2018  2078.0  \n",
       "1  37043  successful   7/10/2018   7/10/2018  2104.0  \n",
       "2   3000  successful   5/29/2013         NaN     NaN  \n",
       "3  28937  successful  12/13/2017  12/13/2017  1872.0  \n",
       "4   2641  successful   3/15/2018   3/15/2018  2179.0  "
      ]
     },
     "execution_count": 13,
     "metadata": {},
     "output_type": "execute_result"
    }
   ],
   "source": [
    "# Check that the above operations were successful\n",
    "indie.head()"
   ]
  },
  {
   "cell_type": "markdown",
   "metadata": {},
   "source": [
    "### Merge the two DataFrames together and deduplicate\n",
    "\n",
    "Now that the two datasets look alike, merge them together with an outer join (include only entries that in either dataset, but not both)\n",
    "\n",
    "Since the webscrape by webrobots searched by subcategory, projects can be listed multiple times if they had multiple subcategry tags. Use the drop_duplicates method from pandas to get rid of the extras"
   ]
  },
  {
   "cell_type": "code",
   "execution_count": 14,
   "metadata": {},
   "outputs": [
    {
     "name": "stderr",
     "output_type": "stream",
     "text": [
      "/Users/chrismay/anaconda3/lib/python3.7/site-packages/pandas/core/reshape/merge.py:938: UserWarning: You are merging on int and float columns where the float values are not equal to their int representation\n",
      "  'representation', UserWarning)\n",
      "/Users/chrismay/anaconda3/lib/python3.7/site-packages/pandas/core/reshape/merge.py:946: UserWarning: You are merging on int and float columns where the float values are not equal to their int representation\n",
      "  'representation', UserWarning)\n"
     ]
    },
    {
     "data": {
      "text/html": [
       "<div>\n",
       "<style scoped>\n",
       "    .dataframe tbody tr th:only-of-type {\n",
       "        vertical-align: middle;\n",
       "    }\n",
       "\n",
       "    .dataframe tbody tr th {\n",
       "        vertical-align: top;\n",
       "    }\n",
       "\n",
       "    .dataframe thead th {\n",
       "        text-align: right;\n",
       "    }\n",
       "</style>\n",
       "<table border=\"1\" class=\"dataframe\">\n",
       "  <thead>\n",
       "    <tr style=\"text-align: right;\">\n",
       "      <th></th>\n",
       "      <th>backers_count</th>\n",
       "      <th>blurb</th>\n",
       "      <th>country</th>\n",
       "      <th>created_at</th>\n",
       "      <th>creator</th>\n",
       "      <th>currency</th>\n",
       "      <th>deadline</th>\n",
       "      <th>fx_rate</th>\n",
       "      <th>goal</th>\n",
       "      <th>id</th>\n",
       "      <th>...</th>\n",
       "      <th>fullcats</th>\n",
       "      <th>city</th>\n",
       "      <th>creLauDelta</th>\n",
       "      <th>lauDeadDelta</th>\n",
       "      <th>staLauDelta</th>\n",
       "      <th>source</th>\n",
       "      <th>funds_raised_percent</th>\n",
       "      <th>launch_date</th>\n",
       "      <th>Date</th>\n",
       "      <th>Rank</th>\n",
       "    </tr>\n",
       "  </thead>\n",
       "  <tbody>\n",
       "    <tr>\n",
       "      <th>0</th>\n",
       "      <td>9</td>\n",
       "      <td>A comedy web series about the inherently funny...</td>\n",
       "      <td>US</td>\n",
       "      <td>1.489891e+09</td>\n",
       "      <td>9.154303e+08</td>\n",
       "      <td>USD</td>\n",
       "      <td>1494132705</td>\n",
       "      <td>1.000000</td>\n",
       "      <td>5000.0000</td>\n",
       "      <td>1203770415</td>\n",
       "      <td>...</td>\n",
       "      <td>film &amp; video</td>\n",
       "      <td>Austin, TX</td>\n",
       "      <td>19.0</td>\n",
       "      <td>30.0</td>\n",
       "      <td>30.0</td>\n",
       "      <td>Kickstarter</td>\n",
       "      <td>10.160000</td>\n",
       "      <td>4/7/2017</td>\n",
       "      <td>4/7/2017</td>\n",
       "      <td>548.0</td>\n",
       "    </tr>\n",
       "    <tr>\n",
       "      <th>1</th>\n",
       "      <td>36</td>\n",
       "      <td>Cabo y un Capitán, dos soldados villistas, tra...</td>\n",
       "      <td>MX</td>\n",
       "      <td>1.508480e+09</td>\n",
       "      <td>1.011929e+09</td>\n",
       "      <td>MXN</td>\n",
       "      <td>1512917074</td>\n",
       "      <td>0.052034</td>\n",
       "      <td>3382.2282</td>\n",
       "      <td>878861613</td>\n",
       "      <td>...</td>\n",
       "      <td>film &amp; video</td>\n",
       "      <td>Mexico City, Mexico</td>\n",
       "      <td>16.0</td>\n",
       "      <td>35.0</td>\n",
       "      <td>35.0</td>\n",
       "      <td>Kickstarter</td>\n",
       "      <td>5.226900</td>\n",
       "      <td>11/5/2017</td>\n",
       "      <td>11/5/2017</td>\n",
       "      <td>528.0</td>\n",
       "    </tr>\n",
       "    <tr>\n",
       "      <th>2</th>\n",
       "      <td>61</td>\n",
       "      <td>We're building the new home of Māori Theatre a...</td>\n",
       "      <td>NZ</td>\n",
       "      <td>1.426500e+09</td>\n",
       "      <td>1.902194e+09</td>\n",
       "      <td>NZD</td>\n",
       "      <td>1429596000</td>\n",
       "      <td>0.685030</td>\n",
       "      <td>6850.2957</td>\n",
       "      <td>917345297</td>\n",
       "      <td>...</td>\n",
       "      <td>theater</td>\n",
       "      <td>Auckland, NZ</td>\n",
       "      <td>7.0</td>\n",
       "      <td>28.0</td>\n",
       "      <td>28.0</td>\n",
       "      <td>Kickstarter</td>\n",
       "      <td>78.343402</td>\n",
       "      <td>3/23/2015</td>\n",
       "      <td>NaN</td>\n",
       "      <td>NaN</td>\n",
       "    </tr>\n",
       "    <tr>\n",
       "      <th>3</th>\n",
       "      <td>1730</td>\n",
       "      <td>Comic-book stories celebrate women who crack c...</td>\n",
       "      <td>US</td>\n",
       "      <td>1.482813e+09</td>\n",
       "      <td>1.211241e+08</td>\n",
       "      <td>USD</td>\n",
       "      <td>1489666144</td>\n",
       "      <td>1.000000</td>\n",
       "      <td>40000.0000</td>\n",
       "      <td>1702164653</td>\n",
       "      <td>...</td>\n",
       "      <td>comics</td>\n",
       "      <td>Scottsdale, AZ</td>\n",
       "      <td>49.0</td>\n",
       "      <td>29.0</td>\n",
       "      <td>29.0</td>\n",
       "      <td>Kickstarter</td>\n",
       "      <td>243.617500</td>\n",
       "      <td>2/14/2017</td>\n",
       "      <td>2/14/2017</td>\n",
       "      <td>589.0</td>\n",
       "    </tr>\n",
       "    <tr>\n",
       "      <th>4</th>\n",
       "      <td>183</td>\n",
       "      <td>A Victorian “gaslamp” lesbian romance, set in ...</td>\n",
       "      <td>US</td>\n",
       "      <td>1.506229e+09</td>\n",
       "      <td>4.846543e+08</td>\n",
       "      <td>USD</td>\n",
       "      <td>1510473540</td>\n",
       "      <td>1.000000</td>\n",
       "      <td>2000.0000</td>\n",
       "      <td>1042930184</td>\n",
       "      <td>...</td>\n",
       "      <td>games</td>\n",
       "      <td>San Francisco, CA</td>\n",
       "      <td>16.0</td>\n",
       "      <td>32.0</td>\n",
       "      <td>32.0</td>\n",
       "      <td>Kickstarter</td>\n",
       "      <td>195.550000</td>\n",
       "      <td>10/10/2017</td>\n",
       "      <td>10/10/2017</td>\n",
       "      <td>503.0</td>\n",
       "    </tr>\n",
       "  </tbody>\n",
       "</table>\n",
       "<p>5 rows × 29 columns</p>\n",
       "</div>"
      ],
      "text/plain": [
       "   backers_count                                              blurb country  \\\n",
       "0              9  A comedy web series about the inherently funny...      US   \n",
       "1             36  Cabo y un Capitán, dos soldados villistas, tra...      MX   \n",
       "2             61  We're building the new home of Māori Theatre a...      NZ   \n",
       "3           1730  Comic-book stories celebrate women who crack c...      US   \n",
       "4            183  A Victorian “gaslamp” lesbian romance, set in ...      US   \n",
       "\n",
       "     created_at       creator currency    deadline   fx_rate        goal  \\\n",
       "0  1.489891e+09  9.154303e+08      USD  1494132705  1.000000   5000.0000   \n",
       "1  1.508480e+09  1.011929e+09      MXN  1512917074  0.052034   3382.2282   \n",
       "2  1.426500e+09  1.902194e+09      NZD  1429596000  0.685030   6850.2957   \n",
       "3  1.482813e+09  1.211241e+08      USD  1489666144  1.000000  40000.0000   \n",
       "4  1.506229e+09  4.846543e+08      USD  1510473540  1.000000   2000.0000   \n",
       "\n",
       "           id  ...      fullcats                 city creLauDelta  \\\n",
       "0  1203770415  ...  film & video           Austin, TX        19.0   \n",
       "1   878861613  ...  film & video  Mexico City, Mexico        16.0   \n",
       "2   917345297  ...       theater         Auckland, NZ         7.0   \n",
       "3  1702164653  ...        comics       Scottsdale, AZ        49.0   \n",
       "4  1042930184  ...         games    San Francisco, CA        16.0   \n",
       "\n",
       "  lauDeadDelta staLauDelta       source  funds_raised_percent launch_date  \\\n",
       "0         30.0        30.0  Kickstarter             10.160000    4/7/2017   \n",
       "1         35.0        35.0  Kickstarter              5.226900   11/5/2017   \n",
       "2         28.0        28.0  Kickstarter             78.343402   3/23/2015   \n",
       "3         29.0        29.0  Kickstarter            243.617500   2/14/2017   \n",
       "4         32.0        32.0  Kickstarter            195.550000  10/10/2017   \n",
       "\n",
       "         Date   Rank  \n",
       "0    4/7/2017  548.0  \n",
       "1   11/5/2017  528.0  \n",
       "2         NaN    NaN  \n",
       "3   2/14/2017  589.0  \n",
       "4  10/10/2017  503.0  \n",
       "\n",
       "[5 rows x 29 columns]"
      ]
     },
     "execution_count": 14,
     "metadata": {},
     "output_type": "execute_result"
    }
   ],
   "source": [
    "merged = df.merge(indie, how = 'outer', on = None)\n",
    "merged.reset_index(inplace = True)\n",
    "merged.drop(labels = ['index', 'Unnamed: 0'], axis = 1, inplace = True)\n",
    "\n",
    "del indie \n",
    "del df\n",
    "# Drop duplicates from the dataset, use the 'id' column since its known to be unique only to each project\n",
    "merged.drop_duplicates(subset = 'id', inplace = True)\n",
    "merged.head()"
   ]
  },
  {
   "cell_type": "markdown",
   "metadata": {},
   "source": [
    "### Calculate the Funds Raised over Goal Percent\n",
    "\n",
    "Kickstarter and Indiegogo give a different gauge of percent of funds raised. Standardize on giving the percent of goal for each project"
   ]
  },
  {
   "cell_type": "code",
   "execution_count": 15,
   "metadata": {},
   "outputs": [],
   "source": [
    "merged['funds_raised_percent'] = merged.apply(lambda x: (((x['usd_pledged']/ (x['goal'] + 0.0000001))*100)), axis = 1)"
   ]
  },
  {
   "cell_type": "code",
   "execution_count": 16,
   "metadata": {},
   "outputs": [
    {
     "data": {
      "text/html": [
       "<div>\n",
       "<style scoped>\n",
       "    .dataframe tbody tr th:only-of-type {\n",
       "        vertical-align: middle;\n",
       "    }\n",
       "\n",
       "    .dataframe tbody tr th {\n",
       "        vertical-align: top;\n",
       "    }\n",
       "\n",
       "    .dataframe thead th {\n",
       "        text-align: right;\n",
       "    }\n",
       "</style>\n",
       "<table border=\"1\" class=\"dataframe\">\n",
       "  <thead>\n",
       "    <tr style=\"text-align: right;\">\n",
       "      <th></th>\n",
       "      <th>backers_count</th>\n",
       "      <th>blurb</th>\n",
       "      <th>country</th>\n",
       "      <th>created_at</th>\n",
       "      <th>creator</th>\n",
       "      <th>currency</th>\n",
       "      <th>deadline</th>\n",
       "      <th>fx_rate</th>\n",
       "      <th>goal</th>\n",
       "      <th>id</th>\n",
       "      <th>...</th>\n",
       "      <th>fullcats</th>\n",
       "      <th>city</th>\n",
       "      <th>creLauDelta</th>\n",
       "      <th>lauDeadDelta</th>\n",
       "      <th>staLauDelta</th>\n",
       "      <th>source</th>\n",
       "      <th>funds_raised_percent</th>\n",
       "      <th>launch_date</th>\n",
       "      <th>Date</th>\n",
       "      <th>Rank</th>\n",
       "    </tr>\n",
       "  </thead>\n",
       "  <tbody>\n",
       "    <tr>\n",
       "      <th>201554</th>\n",
       "      <td>6</td>\n",
       "      <td>The Manipulation :: of Light  \\r\\nan Exhibitio...</td>\n",
       "      <td>NaN</td>\n",
       "      <td>NaN</td>\n",
       "      <td>NaN</td>\n",
       "      <td>CAD</td>\n",
       "      <td>1374292800</td>\n",
       "      <td>NaN</td>\n",
       "      <td>7095.0</td>\n",
       "      <td>334244</td>\n",
       "      <td>...</td>\n",
       "      <td>cameragear</td>\n",
       "      <td>NaN</td>\n",
       "      <td>NaN</td>\n",
       "      <td>30.000000</td>\n",
       "      <td>NaN</td>\n",
       "      <td>indiegogo</td>\n",
       "      <td>4.510218</td>\n",
       "      <td>6/20/2013</td>\n",
       "      <td>NaN</td>\n",
       "      <td>NaN</td>\n",
       "    </tr>\n",
       "    <tr>\n",
       "      <th>201555</th>\n",
       "      <td>2</td>\n",
       "      <td>Wine tasting set shipped to your home. Amazon ...</td>\n",
       "      <td>NaN</td>\n",
       "      <td>NaN</td>\n",
       "      <td>NaN</td>\n",
       "      <td>EUR</td>\n",
       "      <td>1546405200</td>\n",
       "      <td>NaN</td>\n",
       "      <td>35000.0</td>\n",
       "      <td>2441088</td>\n",
       "      <td>...</td>\n",
       "      <td>music</td>\n",
       "      <td>NaN</td>\n",
       "      <td>NaN</td>\n",
       "      <td>45.000000</td>\n",
       "      <td>NaN</td>\n",
       "      <td>indiegogo</td>\n",
       "      <td>0.280000</td>\n",
       "      <td>11/18/2018</td>\n",
       "      <td>11/18/2018</td>\n",
       "      <td>1962.0</td>\n",
       "    </tr>\n",
       "    <tr>\n",
       "      <th>201556</th>\n",
       "      <td>0</td>\n",
       "      <td>The chain pod for slow shutter speed, low ligh...</td>\n",
       "      <td>NaN</td>\n",
       "      <td>NaN</td>\n",
       "      <td>NaN</td>\n",
       "      <td>USD</td>\n",
       "      <td>1396584000</td>\n",
       "      <td>NaN</td>\n",
       "      <td>5000.0</td>\n",
       "      <td>683726</td>\n",
       "      <td>...</td>\n",
       "      <td>cameragear</td>\n",
       "      <td>NaN</td>\n",
       "      <td>NaN</td>\n",
       "      <td>44.958333</td>\n",
       "      <td>NaN</td>\n",
       "      <td>indiegogo</td>\n",
       "      <td>1.200000</td>\n",
       "      <td>2/18/2014</td>\n",
       "      <td>NaN</td>\n",
       "      <td>NaN</td>\n",
       "    </tr>\n",
       "    <tr>\n",
       "      <th>201557</th>\n",
       "      <td>7</td>\n",
       "      <td>Help us showcase our incredible community incl...</td>\n",
       "      <td>NaN</td>\n",
       "      <td>NaN</td>\n",
       "      <td>NaN</td>\n",
       "      <td>CAD</td>\n",
       "      <td>1514523600</td>\n",
       "      <td>NaN</td>\n",
       "      <td>25000.0</td>\n",
       "      <td>2218847</td>\n",
       "      <td>...</td>\n",
       "      <td>film &amp; video</td>\n",
       "      <td>NaN</td>\n",
       "      <td>NaN</td>\n",
       "      <td>60.041667</td>\n",
       "      <td>NaN</td>\n",
       "      <td>indiegogo</td>\n",
       "      <td>3.280000</td>\n",
       "      <td>10/30/2017</td>\n",
       "      <td>10/30/2017</td>\n",
       "      <td>1797.0</td>\n",
       "    </tr>\n",
       "    <tr>\n",
       "      <th>201558</th>\n",
       "      <td>21</td>\n",
       "      <td>Help Creep Cuts LEVEL UP!</td>\n",
       "      <td>NaN</td>\n",
       "      <td>NaN</td>\n",
       "      <td>NaN</td>\n",
       "      <td>USD</td>\n",
       "      <td>1551502800</td>\n",
       "      <td>NaN</td>\n",
       "      <td>6000.0</td>\n",
       "      <td>2454347</td>\n",
       "      <td>...</td>\n",
       "      <td>dance</td>\n",
       "      <td>NaN</td>\n",
       "      <td>NaN</td>\n",
       "      <td>60.000000</td>\n",
       "      <td>NaN</td>\n",
       "      <td>indiegogo</td>\n",
       "      <td>35.433333</td>\n",
       "      <td>1/1/2019</td>\n",
       "      <td>1/1/2019</td>\n",
       "      <td>2048.0</td>\n",
       "    </tr>\n",
       "  </tbody>\n",
       "</table>\n",
       "<p>5 rows × 29 columns</p>\n",
       "</div>"
      ],
      "text/plain": [
       "        backers_count                                              blurb  \\\n",
       "201554              6  The Manipulation :: of Light  \\r\\nan Exhibitio...   \n",
       "201555              2  Wine tasting set shipped to your home. Amazon ...   \n",
       "201556              0  The chain pod for slow shutter speed, low ligh...   \n",
       "201557              7  Help us showcase our incredible community incl...   \n",
       "201558             21                          Help Creep Cuts LEVEL UP!   \n",
       "\n",
       "       country  created_at  creator currency    deadline  fx_rate     goal  \\\n",
       "201554     NaN         NaN      NaN      CAD  1374292800      NaN   7095.0   \n",
       "201555     NaN         NaN      NaN      EUR  1546405200      NaN  35000.0   \n",
       "201556     NaN         NaN      NaN      USD  1396584000      NaN   5000.0   \n",
       "201557     NaN         NaN      NaN      CAD  1514523600      NaN  25000.0   \n",
       "201558     NaN         NaN      NaN      USD  1551502800      NaN   6000.0   \n",
       "\n",
       "             id  ...      fullcats city creLauDelta lauDeadDelta staLauDelta  \\\n",
       "201554   334244  ...    cameragear  NaN         NaN    30.000000         NaN   \n",
       "201555  2441088  ...         music  NaN         NaN    45.000000         NaN   \n",
       "201556   683726  ...    cameragear  NaN         NaN    44.958333         NaN   \n",
       "201557  2218847  ...  film & video  NaN         NaN    60.041667         NaN   \n",
       "201558  2454347  ...         dance  NaN         NaN    60.000000         NaN   \n",
       "\n",
       "           source  funds_raised_percent launch_date        Date    Rank  \n",
       "201554  indiegogo              4.510218   6/20/2013         NaN     NaN  \n",
       "201555  indiegogo              0.280000  11/18/2018  11/18/2018  1962.0  \n",
       "201556  indiegogo              1.200000   2/18/2014         NaN     NaN  \n",
       "201557  indiegogo              3.280000  10/30/2017  10/30/2017  1797.0  \n",
       "201558  indiegogo             35.433333    1/1/2019    1/1/2019  2048.0  \n",
       "\n",
       "[5 rows x 29 columns]"
      ]
     },
     "execution_count": 16,
     "metadata": {},
     "output_type": "execute_result"
    }
   ],
   "source": [
    "# Check the indiegogo data at the end of the dataset to make sure it was done right\n",
    "merged.tail()"
   ]
  },
  {
   "cell_type": "markdown",
   "metadata": {},
   "source": [
    "## Reducing Memory Usage of the DataFrame\n",
    "\n",
    "I've occassionally run into kernel issues with this notebook, which is most likely due to running out of memory. Optimize some of the datatypes to reduce working \n",
    "\n",
    "### Re-casting integer variables\n",
    "Ints have been automatically given a float or int64 datatype, downcast these to smaller variables to use less memory"
   ]
  },
  {
   "cell_type": "code",
   "execution_count": 17,
   "metadata": {},
   "outputs": [
    {
     "data": {
      "text/plain": [
       "backers_count             uint8\n",
       "blurb                    object\n",
       "country                  object\n",
       "created_at              float64\n",
       "creator                 float64\n",
       "currency                 object\n",
       "deadline                 uint32\n",
       "fx_rate                 float64\n",
       "goal                     uint32\n",
       "id                       uint32\n",
       "launched_at              uint32\n",
       "name                     object\n",
       "slug                     object\n",
       "spotlight                object\n",
       "staff_pick               object\n",
       "state                    object\n",
       "state_changed_at        float64\n",
       "urls                     object\n",
       "usd_pledged              uint32\n",
       "fullcats                 object\n",
       "city                     object\n",
       "creLauDelta             float64\n",
       "lauDeadDelta              uint8\n",
       "staLauDelta             float64\n",
       "source                   object\n",
       "funds_raised_percent    float16\n",
       "launch_date              object\n",
       "Date                     object\n",
       "Rank                    float64\n",
       "dtype: object"
      ]
     },
     "execution_count": 17,
     "metadata": {},
     "output_type": "execute_result"
    }
   ],
   "source": [
    "merged['backers_count'] = merged['backers_count'].astype(np.uint8)\n",
    "merged['deadline'] = merged['deadline'].astype(np.uint32)\n",
    "merged['goal'] = merged['goal'].astype(np.uint32)\n",
    "merged['id'] = merged['id'].astype(np.uint32)\n",
    "merged['launched_at'] = merged['launched_at'].astype(np.uint32)\n",
    "merged['usd_pledged'] = merged['usd_pledged'].astype(np.uint32)\n",
    "merged['lauDeadDelta'] = merged['lauDeadDelta'].astype(np.uint8)\n",
    "merged['funds_raised_percent'] = merged['funds_raised_percent'].astype(np.float16)\n",
    "\n",
    "merged.dtypes"
   ]
  },
  {
   "cell_type": "markdown",
   "metadata": {},
   "source": [
    "### Changing object types to categories\n",
    "\n",
    "A few of the columns listed as object types are actually categorical variables. Columns that have a low number of unique values can be changed to categorical variables, where each category will be given an 8 bit integer value and then mapped to a much shorter array."
   ]
  },
  {
   "cell_type": "code",
   "execution_count": 18,
   "metadata": {},
   "outputs": [
    {
     "data": {
      "text/plain": [
       "backers_count              uint8\n",
       "blurb                     object\n",
       "country                   object\n",
       "created_at               float64\n",
       "creator                  float64\n",
       "currency                category\n",
       "deadline                  uint32\n",
       "fx_rate                  float64\n",
       "goal                      uint32\n",
       "id                        uint32\n",
       "launched_at               uint32\n",
       "name                      object\n",
       "slug                      object\n",
       "spotlight               category\n",
       "staff_pick              category\n",
       "state                     object\n",
       "state_changed_at         float64\n",
       "urls                      object\n",
       "usd_pledged               uint32\n",
       "fullcats                category\n",
       "city                      object\n",
       "creLauDelta              float64\n",
       "lauDeadDelta               uint8\n",
       "staLauDelta              float64\n",
       "source                  category\n",
       "funds_raised_percent     float16\n",
       "launch_date               object\n",
       "Date                      object\n",
       "Rank                     float64\n",
       "dtype: object"
      ]
     },
     "execution_count": 18,
     "metadata": {},
     "output_type": "execute_result"
    }
   ],
   "source": [
    "merged['fullcats'] = merged['fullcats'].astype('category')\n",
    "merged['staff_pick'] = merged['staff_pick'].astype('category')\n",
    "merged['spotlight'] = merged['spotlight'].astype('category')\n",
    "merged['source'] = merged['source'].astype('category')\n",
    "merged['currency'] = merged['currency'].astype('category')\n",
    "try:\n",
    "    merged.drop(labels = ['Metric'], axis = 1, inplace = True)\n",
    "except:\n",
    "    pass\n",
    "merged.dtypes"
   ]
  },
  {
   "cell_type": "markdown",
   "metadata": {},
   "source": [
    "# Exploratory Data Analysis"
   ]
  },
  {
   "cell_type": "code",
   "execution_count": 19,
   "metadata": {},
   "outputs": [
    {
     "data": {
      "text/html": [
       "<div>\n",
       "<style scoped>\n",
       "    .dataframe tbody tr th:only-of-type {\n",
       "        vertical-align: middle;\n",
       "    }\n",
       "\n",
       "    .dataframe tbody tr th {\n",
       "        vertical-align: top;\n",
       "    }\n",
       "\n",
       "    .dataframe thead th {\n",
       "        text-align: right;\n",
       "    }\n",
       "</style>\n",
       "<table border=\"1\" class=\"dataframe\">\n",
       "  <thead>\n",
       "    <tr style=\"text-align: right;\">\n",
       "      <th></th>\n",
       "      <th>backers_count</th>\n",
       "      <th>created_at</th>\n",
       "      <th>creator</th>\n",
       "      <th>deadline</th>\n",
       "      <th>fx_rate</th>\n",
       "      <th>goal</th>\n",
       "      <th>id</th>\n",
       "      <th>launched_at</th>\n",
       "      <th>state_changed_at</th>\n",
       "      <th>usd_pledged</th>\n",
       "      <th>creLauDelta</th>\n",
       "      <th>lauDeadDelta</th>\n",
       "      <th>staLauDelta</th>\n",
       "      <th>funds_raised_percent</th>\n",
       "      <th>Rank</th>\n",
       "    </tr>\n",
       "  </thead>\n",
       "  <tbody>\n",
       "    <tr>\n",
       "      <th>count</th>\n",
       "      <td>199618.000000</td>\n",
       "      <td>1.813020e+05</td>\n",
       "      <td>1.813020e+05</td>\n",
       "      <td>1.996180e+05</td>\n",
       "      <td>181302.000000</td>\n",
       "      <td>1.996180e+05</td>\n",
       "      <td>1.996180e+05</td>\n",
       "      <td>1.996180e+05</td>\n",
       "      <td>1.813020e+05</td>\n",
       "      <td>1.996180e+05</td>\n",
       "      <td>181302.000000</td>\n",
       "      <td>199618.000000</td>\n",
       "      <td>181302.000000</td>\n",
       "      <td>199618.000</td>\n",
       "      <td>90334.000000</td>\n",
       "    </tr>\n",
       "    <tr>\n",
       "      <th>mean</th>\n",
       "      <td>45.285666</td>\n",
       "      <td>1.446903e+09</td>\n",
       "      <td>1.074589e+09</td>\n",
       "      <td>1.455799e+09</td>\n",
       "      <td>0.999337</td>\n",
       "      <td>8.219191e+04</td>\n",
       "      <td>9.750394e+08</td>\n",
       "      <td>1.452897e+09</td>\n",
       "      <td>1.453600e+09</td>\n",
       "      <td>1.485695e+04</td>\n",
       "      <td>45.970756</td>\n",
       "      <td>33.381253</td>\n",
       "      <td>30.847713</td>\n",
       "      <td>NaN</td>\n",
       "      <td>706.506764</td>\n",
       "    </tr>\n",
       "    <tr>\n",
       "      <th>std</th>\n",
       "      <td>58.656426</td>\n",
       "      <td>6.137708e+07</td>\n",
       "      <td>6.201507e+08</td>\n",
       "      <td>6.182117e+07</td>\n",
       "      <td>0.286660</td>\n",
       "      <td>8.025752e+06</td>\n",
       "      <td>6.664825e+08</td>\n",
       "      <td>6.184694e+07</td>\n",
       "      <td>6.091841e+07</td>\n",
       "      <td>1.170977e+05</td>\n",
       "      <td>127.614911</td>\n",
       "      <td>13.008452</td>\n",
       "      <td>13.090062</td>\n",
       "      <td>NaN</td>\n",
       "      <td>440.970356</td>\n",
       "    </tr>\n",
       "    <tr>\n",
       "      <th>min</th>\n",
       "      <td>0.000000</td>\n",
       "      <td>1.240366e+09</td>\n",
       "      <td>3.000000e+00</td>\n",
       "      <td>1.242468e+09</td>\n",
       "      <td>0.009007</td>\n",
       "      <td>0.000000e+00</td>\n",
       "      <td>3.271000e+03</td>\n",
       "      <td>1.240920e+09</td>\n",
       "      <td>1.242468e+09</td>\n",
       "      <td>0.000000e+00</td>\n",
       "      <td>0.000000</td>\n",
       "      <td>0.000000</td>\n",
       "      <td>0.000000</td>\n",
       "      <td>0.000</td>\n",
       "      <td>428.000000</td>\n",
       "    </tr>\n",
       "    <tr>\n",
       "      <th>25%</th>\n",
       "      <td>3.000000</td>\n",
       "      <td>1.407594e+09</td>\n",
       "      <td>5.377061e+08</td>\n",
       "      <td>1.415194e+09</td>\n",
       "      <td>1.000000</td>\n",
       "      <td>1.514000e+03</td>\n",
       "      <td>3.718836e+08</td>\n",
       "      <td>1.412280e+09</td>\n",
       "      <td>1.414758e+09</td>\n",
       "      <td>8.700000e+01</td>\n",
       "      <td>2.000000</td>\n",
       "      <td>29.000000</td>\n",
       "      <td>28.000000</td>\n",
       "      <td>1.500</td>\n",
       "      <td>482.000000</td>\n",
       "    </tr>\n",
       "    <tr>\n",
       "      <th>50%</th>\n",
       "      <td>20.000000</td>\n",
       "      <td>1.446477e+09</td>\n",
       "      <td>1.073699e+09</td>\n",
       "      <td>1.456439e+09</td>\n",
       "      <td>1.000000</td>\n",
       "      <td>5.000000e+03</td>\n",
       "      <td>9.693086e+08</td>\n",
       "      <td>1.453501e+09</td>\n",
       "      <td>1.453254e+09</td>\n",
       "      <td>1.248000e+03</td>\n",
       "      <td>10.000000</td>\n",
       "      <td>30.000000</td>\n",
       "      <td>30.000000</td>\n",
       "      <td>100.000</td>\n",
       "      <td>577.000000</td>\n",
       "    </tr>\n",
       "    <tr>\n",
       "      <th>75%</th>\n",
       "      <td>66.000000</td>\n",
       "      <td>1.497145e+09</td>\n",
       "      <td>1.612593e+09</td>\n",
       "      <td>1.507996e+09</td>\n",
       "      <td>1.000000</td>\n",
       "      <td>1.500000e+04</td>\n",
       "      <td>1.554152e+09</td>\n",
       "      <td>1.505141e+09</td>\n",
       "      <td>1.504017e+09</td>\n",
       "      <td>5.940000e+03</td>\n",
       "      <td>35.000000</td>\n",
       "      <td>36.000000</td>\n",
       "      <td>33.000000</td>\n",
       "      <td>122.125</td>\n",
       "      <td>627.000000</td>\n",
       "    </tr>\n",
       "    <tr>\n",
       "      <th>max</th>\n",
       "      <td>255.000000</td>\n",
       "      <td>1.550094e+09</td>\n",
       "      <td>2.147483e+09</td>\n",
       "      <td>1.555301e+09</td>\n",
       "      <td>10.126885</td>\n",
       "      <td>1.999812e+09</td>\n",
       "      <td>2.147476e+09</td>\n",
       "      <td>1.550207e+09</td>\n",
       "      <td>1.550119e+09</td>\n",
       "      <td>1.571227e+07</td>\n",
       "      <td>3303.000000</td>\n",
       "      <td>255.000000</td>\n",
       "      <td>93.000000</td>\n",
       "      <td>inf</td>\n",
       "      <td>2190.000000</td>\n",
       "    </tr>\n",
       "  </tbody>\n",
       "</table>\n",
       "</div>"
      ],
      "text/plain": [
       "       backers_count    created_at       creator      deadline        fx_rate  \\\n",
       "count  199618.000000  1.813020e+05  1.813020e+05  1.996180e+05  181302.000000   \n",
       "mean       45.285666  1.446903e+09  1.074589e+09  1.455799e+09       0.999337   \n",
       "std        58.656426  6.137708e+07  6.201507e+08  6.182117e+07       0.286660   \n",
       "min         0.000000  1.240366e+09  3.000000e+00  1.242468e+09       0.009007   \n",
       "25%         3.000000  1.407594e+09  5.377061e+08  1.415194e+09       1.000000   \n",
       "50%        20.000000  1.446477e+09  1.073699e+09  1.456439e+09       1.000000   \n",
       "75%        66.000000  1.497145e+09  1.612593e+09  1.507996e+09       1.000000   \n",
       "max       255.000000  1.550094e+09  2.147483e+09  1.555301e+09      10.126885   \n",
       "\n",
       "               goal            id   launched_at  state_changed_at  \\\n",
       "count  1.996180e+05  1.996180e+05  1.996180e+05      1.813020e+05   \n",
       "mean   8.219191e+04  9.750394e+08  1.452897e+09      1.453600e+09   \n",
       "std    8.025752e+06  6.664825e+08  6.184694e+07      6.091841e+07   \n",
       "min    0.000000e+00  3.271000e+03  1.240920e+09      1.242468e+09   \n",
       "25%    1.514000e+03  3.718836e+08  1.412280e+09      1.414758e+09   \n",
       "50%    5.000000e+03  9.693086e+08  1.453501e+09      1.453254e+09   \n",
       "75%    1.500000e+04  1.554152e+09  1.505141e+09      1.504017e+09   \n",
       "max    1.999812e+09  2.147476e+09  1.550207e+09      1.550119e+09   \n",
       "\n",
       "        usd_pledged    creLauDelta   lauDeadDelta    staLauDelta  \\\n",
       "count  1.996180e+05  181302.000000  199618.000000  181302.000000   \n",
       "mean   1.485695e+04      45.970756      33.381253      30.847713   \n",
       "std    1.170977e+05     127.614911      13.008452      13.090062   \n",
       "min    0.000000e+00       0.000000       0.000000       0.000000   \n",
       "25%    8.700000e+01       2.000000      29.000000      28.000000   \n",
       "50%    1.248000e+03      10.000000      30.000000      30.000000   \n",
       "75%    5.940000e+03      35.000000      36.000000      33.000000   \n",
       "max    1.571227e+07    3303.000000     255.000000      93.000000   \n",
       "\n",
       "       funds_raised_percent          Rank  \n",
       "count            199618.000  90334.000000  \n",
       "mean                    NaN    706.506764  \n",
       "std                     NaN    440.970356  \n",
       "min                   0.000    428.000000  \n",
       "25%                   1.500    482.000000  \n",
       "50%                 100.000    577.000000  \n",
       "75%                 122.125    627.000000  \n",
       "max                     inf   2190.000000  "
      ]
     },
     "execution_count": 19,
     "metadata": {},
     "output_type": "execute_result"
    }
   ],
   "source": [
    "merged.describe()"
   ]
  },
  {
   "cell_type": "markdown",
   "metadata": {},
   "source": [
    "### Data Skew\n",
    "\n",
    "From a first look at the descriptive statistics on the dataset, the data seems to be heavily skewed.\n",
    "\n",
    "The means and medians (50%) for \"goal\", and \"usd_pledged\", are off by an order of magnitude.\n",
    "\n",
    "I know there's a lot of different categories of projects, and some of the skew is probably due to different funding goals for different categories of projects (ex. A video publishing project needs a lot less money than the first run of a new hardware device)\n",
    "\n",
    "Knowing some of the skew comes from differences in project categories, let's take a closer look grouping by project category"
   ]
  },
  {
   "cell_type": "markdown",
   "metadata": {},
   "source": [
    "### Drop projects that raised no money at all\n",
    "\n",
    "Let's consider only projects that had at least one backer in the analysis\n",
    "\n",
    "The indiegogo dataset has a few projects with fundraising goals over several million that didn't raise any money at all. Filter out those projects to make the remaining data easier to read"
   ]
  },
  {
   "cell_type": "code",
   "execution_count": 20,
   "metadata": {},
   "outputs": [],
   "source": [
    "merged = merged[(merged['backers_count'] > 0) & (merged['goal'] < 2000000)]"
   ]
  },
  {
   "cell_type": "markdown",
   "metadata": {},
   "source": [
    "### Frequency of Success\n",
    "\n",
    "Start analyzing the data from the two datasets by taking a look at how success rates and funding goals differ across each category"
   ]
  },
  {
   "cell_type": "code",
   "execution_count": 21,
   "metadata": {},
   "outputs": [
    {
     "name": "stdout",
     "output_type": "stream",
     "text": [
      "The relative frequency of projects meeting their funding goal is 0.5887230220078954 or about 58 %\n"
     ]
    }
   ],
   "source": [
    "#Filter out projects that are live, canceled, or suspended\n",
    "merged = merged[(merged['state'] == 'successful')|(merged['state'] =='failed')] \n",
    "suc = merged[(merged['state'] == 'successful')]\n",
    "fSuc = len(suc)/len(merged)\n",
    "\n",
    "original = merged.copy()\n",
    "print('The relative frequency of projects meeting their funding goal is', fSuc, 'or about', mt.floor(fSuc * 100), '%')\n"
   ]
  },
  {
   "cell_type": "markdown",
   "metadata": {},
   "source": [
    "# Comparing the Money Raised\n",
    "The chart below compares average money pledged to projects in different categories against average raised in succesfully funded projects. It also gives a comparison of the medians for each category\n",
    "\n",
    "As was seen in the descriptive statistics, there's a heavy skew here. Based on the median pledge totals, it seems like a lot of projects must raise almost no money at all\n",
    "\n",
    "There's also a strange phenomenom with Indiegogo projects. A few categories (camera gear, environment and green tech, travel and outdoor, health and fitness in particular) are unique to indiegogo. It looks like there's some projects that raised incredible amounts of money that are skewing the averages"
   ]
  },
  {
   "cell_type": "code",
   "execution_count": 22,
   "metadata": {},
   "outputs": [
    {
     "data": {
      "text/plain": [
       "<Figure size 43200x21600 with 0 Axes>"
      ]
     },
     "execution_count": 22,
     "metadata": {},
     "output_type": "execute_result"
    },
    {
     "data": {
      "image/png": "[encoded data removed]",
      "text/plain": [
       "<Figure size 432x288 with 1 Axes>"
      ]
     },
     "metadata": {
      "needs_background": "light"
     },
     "output_type": "display_data"
    },
    {
     "data": {
      "text/plain": [
       "<Figure size 43200x21600 with 0 Axes>"
      ]
     },
     "metadata": {},
     "output_type": "display_data"
    }
   ],
   "source": [
    "# Compare the money raised by succesfull projects against all projects in a certain category\n",
    "money = pd.DataFrame()\n",
    "grp = merged.groupby(['fullcats'])\n",
    "sucGrp = suc.groupby(['fullcats'])\n",
    "money['AvgRaised'] = grp.usd_pledged.agg(np.mean)\n",
    "money['SuccessAvgRaised'] = sucGrp.usd_pledged.agg(np.mean)\n",
    "money['MedianRaised'] = grp.usd_pledged.agg(np.median)\n",
    "money['MedianSuccess'] = sucGrp.usd_pledged.agg(np.median)\n",
    "#money.reset_index(inplace = True)\n",
    "\n",
    "ax = money.plot(kind = 'bar', title='Crowdfunding Funds Raised by Project Category')\n",
    "ax.set_xlabel(\"Category\")\n",
    "ax.set_ylabel(\"Funds Raised\")\n",
    "plt.figure(figsize=(600,300))"
   ]
  },
  {
   "cell_type": "markdown",
   "metadata": {},
   "source": [
    "\n",
    "# Comparing pledge goals\n",
    "\n",
    "The same skew shows up in the fundraising goals for each project, there seems to be a few projects that have very high funding goals.\n",
    "\n",
    "What's interesting here is that most projects have significantly lower funding goals than the top projects. It's difficult to see, but it also seems there's a relatively small difference in the median funding goals between successful projects and all projects"
   ]
  },
  {
   "cell_type": "code",
   "execution_count": 23,
   "metadata": {},
   "outputs": [
    {
     "data": {
      "text/plain": [
       "<Figure size 43200x21600 with 0 Axes>"
      ]
     },
     "execution_count": 23,
     "metadata": {},
     "output_type": "execute_result"
    },
    {
     "data": {
      "image/png": "[encoded data removed]",
      "text/plain": [
       "<Figure size 432x288 with 1 Axes>"
      ]
     },
     "metadata": {
      "needs_background": "light"
     },
     "output_type": "display_data"
    },
    {
     "data": {
      "text/plain": [
       "<Figure size 43200x21600 with 0 Axes>"
      ]
     },
     "metadata": {},
     "output_type": "display_data"
    }
   ],
   "source": [
    "# Delete old dataframes to reduce working memory\n",
    "del money\n",
    "\n",
    "# Compare the funding goals for successful projects in each category vs. the funding goals of all projects\n",
    "goal = pd.DataFrame()\n",
    "goal['avgGoal'] = grp.goal.agg(np.mean)\n",
    "goal['sucAvgGoal'] = sucGrp.goal.agg(np.mean)\n",
    "goal['medGoal'] = grp.goal.agg(np.median)\n",
    "goal['sucMedGoal'] = sucGrp.goal.agg(np.median)\n",
    "\n",
    "plt.close()\n",
    "ax = goal.plot(kind = 'bar', title='Fundraising Goals by Category')\n",
    "ax.set_xlabel(\"Category\")\n",
    "ax.set_ylabel(\"Fundraising Goal\")\n",
    "plt.figure(figsize=(600,300))"
   ]
  },
  {
   "cell_type": "markdown",
   "metadata": {},
   "source": [
    "# Rates of Success across Categories\n",
    "\n",
    "Certain categories have much higher rates of success than others.\n",
    "\n",
    "Comics, publishing, dance, music, and theater all have success rates of 70% or more\n",
    "\n",
    "An interesting point is that these categories are tied to an individual creator, that have a dedicated fanbase they can draw from\n",
    "\n",
    "Additionally, projects that require a good to be produced (ie technology products, health and fitness equipment, productivity tools) generally score lower\n",
    "\n",
    "There's no binding rule for Kickstarter or indiegogo projects to produce the final product, all they require is that creators make a best faith effort. Since there's some inherent risks to these products being produced, it seems like consumers may be weighing that in their backing decisions"
   ]
  },
  {
   "cell_type": "code",
   "execution_count": 24,
   "metadata": {},
   "outputs": [
    {
     "data": {
      "text/plain": [
       "<Figure size 43200x21600 with 0 Axes>"
      ]
     },
     "execution_count": 24,
     "metadata": {},
     "output_type": "execute_result"
    },
    {
     "data": {
      "image/png": "[encoded data removed]",
      "text/plain": [
       "<Figure size 432x288 with 1 Axes>"
      ]
     },
     "metadata": {
      "needs_background": "light"
     },
     "output_type": "display_data"
    },
    {
     "data": {
      "text/plain": [
       "<Figure size 43200x21600 with 0 Axes>"
      ]
     },
     "metadata": {},
     "output_type": "display_data"
    }
   ],
   "source": [
    "del goal\n",
    "\n",
    "plt.close()\n",
    "catCounts = pd.DataFrame()\n",
    "catCountAll = merged.groupby('fullcats').count()\n",
    "catCountSuc = suc.groupby('fullcats').count()\n",
    "catCounts['total_counts'] = catCountAll['source']\n",
    "catCounts['success_counts'] = catCountSuc['source']\n",
    "catCounts['successRate'] =  catCounts['success_counts']/catCounts['total_counts']\n",
    "catCounts = catCounts.sort_values(by = ['successRate'], axis = 0, ascending = False)\n",
    "\n",
    "ax = catCounts.successRate.plot(kind = 'bar', title='Rates of Success vs. Project Category')\n",
    "ax.set_xlabel(\"Category\")\n",
    "ax.set_ylabel(\"Success Rate\")\n",
    "plt.figure(figsize=(600,300))"
   ]
  },
  {
   "cell_type": "markdown",
   "metadata": {},
   "source": [
    "## Funding success across categories\n",
    "\n",
    "The most popular categories generally have the lowest success rates, while things like comics, design photography, and games seem to perform better than average.\n",
    "\n",
    "These categories would likely typically have fanbases that closely follow the creators. Due to this, they have a reliable audience to draw from when try to source funds for their campaigns"
   ]
  },
  {
   "cell_type": "code",
   "execution_count": 25,
   "metadata": {},
   "outputs": [
    {
     "data": {
      "text/plain": [
       "<Figure size 43200x21600 with 0 Axes>"
      ]
     },
     "execution_count": 25,
     "metadata": {},
     "output_type": "execute_result"
    },
    {
     "data": {
      "image/png": "[encoded data removed]",
      "text/plain": [
       "<Figure size 432x288 with 1 Axes>"
      ]
     },
     "metadata": {
      "needs_background": "light"
     },
     "output_type": "display_data"
    },
    {
     "data": {
      "text/plain": [
       "<Figure size 43200x21600 with 0 Axes>"
      ]
     },
     "metadata": {},
     "output_type": "display_data"
    }
   ],
   "source": [
    "# Look at the number of successfully funded projects in each category vs. the total number of projects\n",
    "del catCounts\n",
    "\n",
    "counts = pd.DataFrame()\n",
    "counts['Total'] = grp.size()\n",
    "counts['Successful'] = sucGrp.size()\n",
    "\n",
    "plt.close()\n",
    "ax = counts.plot(kind = 'bar', title='Comparison of Total # of Project and # of Successful Projects by Category')\n",
    "ax.set_xlabel(\"Category\")\n",
    "ax.set_ylabel(\"Number of Projects\")\n",
    "plt.figure(figsize=(600,300))"
   ]
  },
  {
   "cell_type": "markdown",
   "metadata": {},
   "source": [
    "## Success rate of projects above a certain amount raised\n",
    "\n",
    "Because of the large differences between the average funds raised and the median funds raised, it seems like there would be a large number of projects that raise hardly any money at all. \n",
    "\n",
    "Let's take a closer look project success rate versus the amount of money raised"
   ]
  },
  {
   "cell_type": "code",
   "execution_count": 26,
   "metadata": {},
   "outputs": [
    {
     "data": {
      "text/plain": [
       "Text(0.5, 1.0, 'Funding Goals and Success Rates')"
      ]
     },
     "execution_count": 26,
     "metadata": {},
     "output_type": "execute_result"
    },
    {
     "data": {
      "image/png": "[encoded data removed]",
      "text/plain": [
       "<Figure size 432x288 with 1 Axes>"
      ]
     },
     "metadata": {
      "needs_background": "light"
     },
     "output_type": "display_data"
    }
   ],
   "source": [
    "del counts\n",
    "\n",
    "minRaised = [1, 25, 50, 100, 200, 300, 400, 500, 750, 1000, 2000, 5000]\n",
    "lowGoals = [1, 25, 50, 100, 200, 300, 400, 500, 750, 1000, 2000, 5000]\n",
    "succRate = []\n",
    "goalRate = []\n",
    "lowGoalSuccess = []\n",
    "for raised in range(len(minRaised)):\n",
    "    gotMoney = merged[(merged['usd_pledged'] >= minRaised[raised - 1]) & (merged['usd_pledged'] <= minRaised[raised])]\n",
    "    gotMoneySuccess = gotMoney[(gotMoney['state'] == 'successful') | (gotMoney['state'] == 'finished')]\n",
    "    if len(gotMoney) == 0:\n",
    "        tempRate = 0\n",
    "    else:\n",
    "        tempRate = len(gotMoneySuccess) / len(gotMoney)\n",
    "    succRate.append(tempRate)\n",
    "\n",
    "for goals in range(len(lowGoals)):\n",
    "    goalFilter = merged[(merged['goal'] <= lowGoals[goals]) & (merged['goal'] >= lowGoals[goals - 1])]\n",
    "    lowSuccess = goalFilter[(goalFilter['state'] == 'successful') | (goalFilter['state'] == 'finished')]\n",
    "    if len(lowSuccess) == 0:\n",
    "        tempLowSuccess = 0\n",
    "    else:\n",
    "        tempLowSuccess = len(lowSuccess) / len(goalFilter)\n",
    "    tempGoals = len(goalFilter) / len(merged)\n",
    "    goalRate.append(tempGoals)\n",
    "    lowGoalSuccess.append(tempLowSuccess)\n",
    "    \n",
    "graph = pd.DataFrame({'Dollars' : minRaised,\n",
    "                     'Minimum_Raised' : succRate,\n",
    "                     '%_of_Projects' : goalRate,\n",
    "                     'Success_by_Goal' : lowGoalSuccess})\n",
    "x = graph['Dollars']\n",
    "y1 = graph['Minimum_Raised']\n",
    "y2 = graph['%_of_Projects']\n",
    "y3 = graph['Success_by_Goal']\n",
    "\n",
    "plt.close()\n",
    "plt.plot(x, y1, x, y2, x, y3)\n",
    "plt.legend(('By Minimum Raised', 'Cumulative % of Project Goals < X', 'By Funding Goal'),\n",
    "           loc='lower right')\n",
    "plt.xlabel('Dollars')\n",
    "plt.ylabel('Relative Frequency')\n",
    "plt.title('Funding Goals and Success Rates')\n"
   ]
  },
  {
   "cell_type": "markdown",
   "metadata": {},
   "source": [
    "## Funding Goals, Minimum Amount Raised, and Success Rates\n",
    "\n",
    "In the plot above:\n",
    "'By Minimum Raised' Shows relative frequency of success in projects that raised at least the amounts on the x axis\n",
    "\n",
    "'Cumulative % of Project Goals' shows the % of projects that have funding goals less than the amounts on the x axis\n",
    "\n",
    "'By Funding Goal' shows relative frequency of successful projects that have goals lower than amounts on the x axis\n",
    "\n",
    "While a small % of projects have funding goals less than $1,000, projects that raised up to that amount have an outsized chance of meeting their funding goal. \n",
    "\n",
    "This idea seems to stress the importance of finding ambitious \"first movers\" from the general public to pledge support to projects and share with their friends. This supports the idea that project categories which have fanbases that closely follow project creators have a much better chance at reaching their funding goals. \n",
    "\n",
    "Let's take a closer look at the number of backers"
   ]
  },
  {
   "cell_type": "markdown",
   "metadata": {},
   "source": [
    "### Time between Project Creation and Project Launch\n",
    "\n",
    "Kickstarter allows creators to create a landing page for their projects before the project is officially launched. This time is for creators to raise awareness about the funding campaign, field questions from potential donors and tweak the campaign before making it live\n",
    "\n",
    "There's a clear relationship showing that a delay of between 20 and 30 days gives the most benefit "
   ]
  },
  {
   "cell_type": "code",
   "execution_count": 27,
   "metadata": {},
   "outputs": [
    {
     "data": {
      "text/plain": [
       "Text(0.5, 1.0, 'Success Rates vs. Number of Days between Launch and Creation')"
      ]
     },
     "execution_count": 27,
     "metadata": {},
     "output_type": "execute_result"
    },
    {
     "data": {
      "image/png": "[encoded data removed]",
      "text/plain": [
       "<Figure size 432x288 with 1 Axes>"
      ]
     },
     "metadata": {
      "needs_background": "light"
     },
     "output_type": "display_data"
    }
   ],
   "source": [
    "del gotMoney\n",
    "del gotMoneySuccess\n",
    "del goalFilter\n",
    "del lowSuccess\n",
    "del graph\n",
    "\n",
    "# Plot the delta between launch and creation date vs. success rate\n",
    "# Plot the campaign length against success rate\n",
    "launchCreate = [1, 5, 10, 15, 20, 25, 30, 40, 45, 50, 60]\n",
    "launchSuccess = []\n",
    "for i in range(len(launchCreate)):\n",
    "    longTemp = merged[(merged['creLauDelta'] <= launchCreate[i]) & (merged['creLauDelta'] >= launchCreate[i - 1])]\n",
    "    longTempSuccess = longTemp[(longTemp['state'] == 'successful') | (longTemp['state'] == 'finished')]\n",
    "    if len(longTemp) == 0:\n",
    "        tempRate = 0\n",
    "    else:\n",
    "        tempRate = len(longTempSuccess) / len(longTemp)\n",
    "    launchSuccess.append(tempRate)\n",
    "\n",
    "graph = pd.DataFrame({'creLauDelta' : launchCreate,\n",
    "                     'Success_by_Delta' : launchSuccess})\n",
    "x = graph['creLauDelta']\n",
    "y1 = graph['Success_by_Delta']\n",
    "\n",
    "plt.close()\n",
    "plt.plot(x, y1)\n",
    "plt.ylim(bottom=0)\n",
    "plt.xlabel('Number of Days')\n",
    "plt.ylabel('Relative Frequency of Success')\n",
    "plt.title('Success Rates vs. Number of Days between Launch and Creation')"
   ]
  },
  {
   "cell_type": "markdown",
   "metadata": {},
   "source": [
    "### Project Launch Date and Success Rate \n",
    "\n",
    "Along with that, projects being successfully funded seems to have dropped off slightly in the last few years"
   ]
  },
  {
   "cell_type": "code",
   "execution_count": 28,
   "metadata": {},
   "outputs": [
    {
     "data": {
      "text/plain": [
       "Text(0.5, 1.0, 'Launch Date vs. Funds Raised Percent')"
      ]
     },
     "execution_count": 28,
     "metadata": {},
     "output_type": "execute_result"
    },
    {
     "data": {
      "image/png": "[encoded data removed]",
      "text/plain": [
       "<Figure size 432x288 with 1 Axes>"
      ]
     },
     "metadata": {
      "needs_background": "light"
     },
     "output_type": "display_data"
    }
   ],
   "source": [
    "del longTemp\n",
    "del longTempSuccess\n",
    "\n",
    "noOutliers = merged[merged['funds_raised_percent'] < 200]\n",
    "x = noOutliers['launched_at']\n",
    "y = noOutliers['funds_raised_percent']\n",
    "\n",
    "plt.close()\n",
    "plt.hexbin(x, y, gridsize=10)\n",
    "plt.xlabel('Launch Date (in Epoch time)')\n",
    "plt.ylabel('Percent Raised of Goal')\n",
    "plt.title('Launch Date vs. Funds Raised Percent')"
   ]
  },
  {
   "cell_type": "markdown",
   "metadata": {},
   "source": [
    "### Alexa Site Rank and Success Rate\n",
    "\n",
    "Look at the success rate of campaign funding and the Alexa site ranking\n",
    "\n",
    "There seems to be a slight increase in projects reaching their funding goals when Kickstarter is more popular than other websites in general"
   ]
  },
  {
   "cell_type": "code",
   "execution_count": 30,
   "metadata": {},
   "outputs": [
    {
     "name": "stderr",
     "output_type": "stream",
     "text": [
      "/Users/chrismay/anaconda3/lib/python3.7/site-packages/ipykernel_launcher.py:2: SettingWithCopyWarning: \n",
      "A value is trying to be set on a copy of a slice from a DataFrame\n",
      "\n",
      "See the caveats in the documentation: http://pandas.pydata.org/pandas-docs/stable/indexing.html#indexing-view-versus-copy\n",
      "  \n"
     ]
    },
    {
     "data": {
      "text/plain": [
       "Text(0.5, 1.0, 'Alexa Site Ranking vs. Funds Raised Percent')"
      ]
     },
     "execution_count": 30,
     "metadata": {},
     "output_type": "execute_result"
    },
    {
     "data": {
      "image/png": "[encoded data removed]",
      "text/plain": [
       "<Figure size 432x288 with 1 Axes>"
      ]
     },
     "metadata": {
      "needs_background": "light"
     },
     "output_type": "display_data"
    }
   ],
   "source": [
    "noOutliers = merged[(merged['funds_raised_percent'] < 200)]\n",
    "noOutliers.dropna(axis = 0, inplace = True)\n",
    "\n",
    "x = noOutliers['Rank']\n",
    "y = noOutliers['funds_raised_percent']\n",
    "\n",
    "plt.close()\n",
    "plt.figure()\n",
    "\n",
    "plt.hexbin(x, y, gridsize=10)\n",
    "plt.xlabel('Alexa Site Traffic Ranking')\n",
    "plt.ylabel('Percent Raised of Goal')\n",
    "plt.title('Alexa Site Ranking vs. Funds Raised Percent')"
   ]
  },
  {
   "cell_type": "markdown",
   "metadata": {},
   "source": [
    "## The Importance of Creators in Project Funding Success\n",
    "\n",
    "In the previous section, there seemed to be a relationship between categories that have dedicated fanbases and an increaesd success rate in reaching funding goals.\n",
    "\n",
    "To further explore that relationship, make some comparisons grouping projects by the number of other projects a certain creator has launched\n",
    "\n",
    "Count the number of projects that a certain creator ID has launched, and then add that as a column to the dataframe"
   ]
  },
  {
   "cell_type": "code",
   "execution_count": 31,
   "metadata": {},
   "outputs": [],
   "source": [
    "creaGroup = pd.DataFrame()\n",
    "creators = pd.DataFrame()\n",
    "\n",
    "plt.close()\n",
    "# Group all projects by creator id and then merge that into the dataframe\n",
    "creaGroup = merged.groupby('creator').count()\n",
    "grouped = creaGroup.sort_values(by = ['backers_count'])\n",
    "grouped = grouped.reset_index()\n",
    "creators['creator'] = grouped['creator']\n",
    "creators['no_projects'] = grouped['backers_count']\n",
    "creators.head()\n",
    "merged = merged.merge(creators, how = 'left', on = 'creator')"
   ]
  },
  {
   "cell_type": "markdown",
   "metadata": {},
   "source": [
    "### Relationship between number of projects launched and success rate\n",
    "\n",
    "There's a small subset of creators that have launched multiple projects. From the chart below, there's an increased rate of success as the number of projects launched by a particular creator increases. Note that this plot is shown by total number of projects, and does not consider the order in which projects were launched by a particular creator"
   ]
  },
  {
   "cell_type": "code",
   "execution_count": 32,
   "metadata": {},
   "outputs": [
    {
     "data": {
      "text/plain": [
       "Text(0.5, 1.0, 'Number of Creator Projects and Success Rate')"
      ]
     },
     "execution_count": 32,
     "metadata": {},
     "output_type": "execute_result"
    },
    {
     "data": {
      "image/png": "[encoded data removed]",
      "text/plain": [
       "<Figure size 432x288 with 1 Axes>"
      ]
     },
     "metadata": {
      "needs_background": "light"
     },
     "output_type": "display_data"
    }
   ],
   "source": [
    "noProjects = [1, 2, 4, 8, 16, 32, 60, 72]\n",
    "suc = merged[(merged['state'] == ('successful')) | (merged['state'] == ('finished'))]\n",
    "multi = []\n",
    "for i in noProjects:\n",
    "    tempProj = merged[(merged['no_projects'] <= (i)) & (merged['no_projects'] >= (i - 1))]\n",
    "    tempSucProj = suc[(suc['no_projects'] <= (i)) & (suc['no_projects'] >= (i - 1))]\n",
    "    if len(tempProj) != 0:\n",
    "        sucRate = len(tempSucProj) / len(tempProj)\n",
    "    else:\n",
    "        sucRate = 0\n",
    "    multi.append(sucRate)\n",
    "\n",
    "multiGraph = pd.DataFrame()\n",
    "multiGraph['no_projects'] = noProjects\n",
    "multiGraph['success_rate'] = multi\n",
    "               \n",
    "x = multiGraph['no_projects']\n",
    "y1 = multiGraph['success_rate']\n",
    "\n",
    "plt.close()\n",
    "plt.plot(x, y1)\n",
    "plt.ylim(bottom=0)\n",
    "plt.xlabel('Number of Projects')\n",
    "plt.ylabel('Relative Frequency')\n",
    "plt.title('Number of Creator Projects and Success Rate')\n"
   ]
  },
  {
   "cell_type": "markdown",
   "metadata": {},
   "source": [
    "# This is where I left off with the memory reduction\n",
    "\n",
    "### Number of projects launched and percent of goal raised\n",
    "\n",
    "There also seems to be an increase in average % of goal raised as the number of projects increases. Above 15, the sample size for each category drastically decreases (ie the number of creators that launched more than 15 projects is very small. "
   ]
  },
  {
   "cell_type": "code",
   "execution_count": 33,
   "metadata": {},
   "outputs": [
    {
     "data": {
      "text/plain": [
       "<Figure size 43200x21600 with 0 Axes>"
      ]
     },
     "execution_count": 33,
     "metadata": {},
     "output_type": "execute_result"
    },
    {
     "data": {
      "image/png": "[encoded data removed]",
      "text/plain": [
       "<Figure size 432x288 with 1 Axes>"
      ]
     },
     "metadata": {
      "needs_background": "light"
     },
     "output_type": "display_data"
    },
    {
     "data": {
      "text/plain": [
       "<Figure size 43200x21600 with 0 Axes>"
      ]
     },
     "metadata": {},
     "output_type": "display_data"
    }
   ],
   "source": [
    "# Compare the money raised by succesfull projects against all projects in a certain category\n",
    "projects= pd.DataFrame()\n",
    "proGroup = merged.groupby(['no_projects'])\n",
    "sucProGrp = suc.groupby(['no_projects'])\n",
    "#projects['Avg%'] = proGroup.funds_raised_percent.agg(np.mean)\n",
    "#projects['SucAvg%'] = sucProGrp.funds_raised_percent.agg(np.mean)\n",
    "projects['Median%'] = proGroup.funds_raised_percent.agg(np.median)\n",
    "projects['SucMed%'] = sucProGrp.funds_raised_percent.agg(np.median)\n",
    "#money.reset_index(inplace = True)\n",
    "\n",
    "plt.close()\n",
    "ax = projects.plot(kind = 'bar', title='Percent of Funds Raised by Number of Creator Projects')\n",
    "ax.set_xlabel(\"Total Number of Projects by Creator\")\n",
    "ax.set_ylabel(\"Percent of Funds Raised\")\n",
    "plt.figure(figsize=(600,300))"
   ]
  },
  {
   "cell_type": "markdown",
   "metadata": {},
   "source": [
    "### Number of Projects launched by each creator by category\n",
    "\n",
    "Visual and performing arts projects are most frequently have creators with a high number of projects. The median number of projects for each creator in each category is 1, so creators with multiple project history is a minority segment of the overall sample population"
   ]
  },
  {
   "cell_type": "code",
   "execution_count": 34,
   "metadata": {},
   "outputs": [
    {
     "data": {
      "text/plain": [
       "<Figure size 43200x21600 with 0 Axes>"
      ]
     },
     "execution_count": 34,
     "metadata": {},
     "output_type": "execute_result"
    },
    {
     "data": {
      "image/png": "[encoded data removed]",
      "text/plain": [
       "<Figure size 432x288 with 1 Axes>"
      ]
     },
     "metadata": {
      "needs_background": "light"
     },
     "output_type": "display_data"
    },
    {
     "data": {
      "text/plain": [
       "<Figure size 43200x21600 with 0 Axes>"
      ]
     },
     "metadata": {},
     "output_type": "display_data"
    }
   ],
   "source": [
    "create = pd.DataFrame()\n",
    "createGrp = merged.groupby(['fullcats'])\n",
    "create['no_projects'] = createGrp.no_projects.agg(np.mean)\n",
    "create['no_projects_median'] = createGrp.no_projects.agg(np.median)\n",
    "create.dropna(axis = 0, inplace = True)\n",
    "\n",
    "plt.close()\n",
    "ax = create.plot(kind = 'bar', title='Number of Projects per Creator by Category')\n",
    "ax.set_xlabel(\"Category\")\n",
    "ax.set_ylabel(\"Avg. Number of Projects per Creator\")\n",
    "plt.figure(figsize=(600,300))"
   ]
  },
  {
   "cell_type": "markdown",
   "metadata": {},
   "source": [
    "### The total number of projects vs. creators with multiple projects\n",
    "\n",
    "The next plot shows the number of projects in each category and compares that with the number of projects with creators who have launhed multiple proejcts.\n",
    "\n",
    "It's easy to see in this plot that most creators in this dataset have only launched one project"
   ]
  },
  {
   "cell_type": "code",
   "execution_count": 35,
   "metadata": {},
   "outputs": [
    {
     "data": {
      "text/plain": [
       "<Figure size 43200x21600 with 0 Axes>"
      ]
     },
     "execution_count": 35,
     "metadata": {},
     "output_type": "execute_result"
    },
    {
     "data": {
      "image/png": "[encoded data removed]",
      "text/plain": [
       "<Figure size 432x288 with 1 Axes>"
      ]
     },
     "metadata": {
      "needs_background": "light"
     },
     "output_type": "display_data"
    },
    {
     "data": {
      "text/plain": [
       "<Figure size 43200x21600 with 0 Axes>"
      ]
     },
     "metadata": {},
     "output_type": "display_data"
    }
   ],
   "source": [
    "createNumber = pd.DataFrame()\n",
    "multi = merged[merged['no_projects'] > 1]\n",
    "createGrp = merged.groupby(['fullcats'])\n",
    "multiGrp = multi.groupby(['fullcats'])\n",
    "createNumber['all_projects'] = createGrp.no_projects.size()\n",
    "createNumber['multi_projects'] = multiGrp.no_projects.size()\n",
    "createNumber.dropna(axis = 0, inplace = True)\n",
    "\n",
    "plt.close()\n",
    "ax = createNumber.plot(kind = 'bar', title='Number of Projects per Creator by Category')\n",
    "ax.set_xlabel(\"Category\")\n",
    "ax.set_ylabel(\"Avg. Number of Projects per Creator\")\n",
    "plt.figure(figsize=(600,300))"
   ]
  },
  {
   "cell_type": "code",
   "execution_count": 36,
   "metadata": {},
   "outputs": [
    {
     "data": {
      "text/plain": [
       "Text(0.5, 1.0, '% of Goal Raised and Number of Projects by Creator')"
      ]
     },
     "execution_count": 36,
     "metadata": {},
     "output_type": "execute_result"
    },
    {
     "data": {
      "image/png": "[encoded data removed]",
      "text/plain": [
       "<Figure size 432x288 with 1 Axes>"
      ]
     },
     "metadata": {
      "needs_background": "light"
     },
     "output_type": "display_data"
    }
   ],
   "source": [
    "createNoProjects = pd.DataFrame()\n",
    "noProjects = merged.groupby(['no_projects'])\n",
    "createNoProjects['funding_percent_avg'] = noProjects.funds_raised_percent.agg(np.mean)\n",
    "createNoProjects['funding_percent_med'] = noProjects.funds_raised_percent.agg(np.median)\n",
    "createNoProjects['staLauDelta_avg'] = noProjects.staLauDelta.agg(np.mean)\n",
    "createNoProjects['staLauDelta_med'] = noProjects.staLauDelta.agg(np.median)\n",
    "createNoProjects.reset_index(inplace = True)\n",
    "\n",
    "x = createNoProjects['no_projects']\n",
    "y1 = createNoProjects['funding_percent_avg'] = noProjects.funds_raised_percent.agg(np.mean)\n",
    "y2 = createNoProjects['funding_percent_med'] = noProjects.funds_raised_percent.agg(np.median)\n",
    "\n",
    "plt.close()\n",
    "plt.plot(x,y2)\n",
    "plt.legend(('Median Funding Percent', 'Median Funding Percent'), loc='upper right')\n",
    "plt.xlabel('Number of Projects by Creator')\n",
    "plt.ylabel('% of Goal Raised')\n",
    "plt.ylim(bottom=0)\n",
    "plt.ylim(top = 400)\n",
    "plt.xlim(right=15)\n",
    "plt.xlim(left=1)\n",
    "plt.title('% of Goal Raised and Number of Projects by Creator')"
   ]
  },
  {
   "cell_type": "code",
   "execution_count": 37,
   "metadata": {},
   "outputs": [
    {
     "data": {
      "text/plain": [
       "Text(0.5, 1.0, 'Dollars Raised and Number of Projects by Creator')"
      ]
     },
     "execution_count": 37,
     "metadata": {},
     "output_type": "execute_result"
    },
    {
     "data": {
      "image/png": "[encoded data removed]",
      "text/plain": [
       "<Figure size 432x288 with 1 Axes>"
      ]
     },
     "metadata": {
      "needs_background": "light"
     },
     "output_type": "display_data"
    }
   ],
   "source": [
    "createNoProjects['usd_pledged_avg'] = noProjects.usd_pledged.agg(np.mean)\n",
    "createNoProjects['usd_pledged_med'] = noProjects.usd_pledged.agg(np.median)\n",
    "\n",
    "x = createNoProjects['no_projects']\n",
    "y1 = createNoProjects['usd_pledged_avg']\n",
    "y2 = createNoProjects['usd_pledged_med'] \n",
    "\n",
    "plt.close()\n",
    "plt.plot(x,y1,x,y2)\n",
    "plt.legend(('Average Dollars Raised', 'Median Dollars Raised'), loc='upper right')\n",
    "plt.xlabel('Number of Projects by Creator')\n",
    "plt.ylabel('Dollars Raised')\n",
    "plt.ylim(bottom=0)\n",
    "plt.xlim(right=15)\n",
    "plt.xlim(left=1)\n",
    "plt.title('Dollars Raised and Number of Projects by Creator')"
   ]
  },
  {
   "cell_type": "code",
   "execution_count": 38,
   "metadata": {},
   "outputs": [
    {
     "data": {
      "text/plain": [
       "Text(0.5, 1.0, 'Days to Goal and Number of Projects by Creator')"
      ]
     },
     "execution_count": 38,
     "metadata": {},
     "output_type": "execute_result"
    },
    {
     "data": {
      "image/png": "[encoded data removed]",
      "text/plain": [
       "<Figure size 432x288 with 1 Axes>"
      ]
     },
     "metadata": {
      "needs_background": "light"
     },
     "output_type": "display_data"
    }
   ],
   "source": [
    "createNoProjects['staLauDelta_avg'] = noProjects.staLauDelta.agg(np.mean)\n",
    "createNoProjects['staLauDelta_med'] = noProjects.staLauDelta.agg(np.median)\n",
    "\n",
    "x = createNoProjects['no_projects']\n",
    "y1 = createNoProjects['staLauDelta_avg']\n",
    "y2 = createNoProjects['staLauDelta_med']\n",
    "\n",
    "plt.close()\n",
    "plt.plot(x,y1,x,y2)\n",
    "plt.legend(('Average Days to Goal', 'Median Days to Goal'), loc='upper right')\n",
    "plt.xlabel('Number of Projects by Creator')\n",
    "plt.ylabel('Days to Goal')\n",
    "plt.ylim(bottom=0)\n",
    "plt.xlim(left=2)\n",
    "plt.xlim(right=15)\n",
    "#plt.ylim(ymax = 2000)\n",
    "plt.title('Days to Goal and Number of Projects by Creator')"
   ]
  },
  {
   "cell_type": "markdown",
   "metadata": {},
   "source": []
  },
  {
   "cell_type": "markdown",
   "metadata": {},
   "source": [
    "### Limiting the Results shown for Number of Projects by Creator\n",
    "\n",
    "Above 14 projects per creator, the number of unique sample points drops off sharply to just a few creators. Rather than view results for sample sizes of 1 or 2, the above graphics were limited to creators that made 15 projects or fewer to show a better representation of the population"
   ]
  },
  {
   "cell_type": "code",
   "execution_count": 39,
   "metadata": {},
   "outputs": [
    {
     "data": {
      "text/plain": [
       "1.0     120551\n",
       "2.0      17190\n",
       "3.0       5724\n",
       "4.0       2744\n",
       "5.0       1730\n",
       "6.0       1200\n",
       "7.0        700\n",
       "8.0        448\n",
       "11.0       374\n",
       "10.0       370\n",
       "9.0        360\n",
       "12.0       264\n",
       "13.0       182\n",
       "17.0       153\n",
       "14.0       140\n",
       "16.0       112\n",
       "18.0       108\n",
       "15.0       105\n",
       "26.0       104\n",
       "19.0        95\n",
       "20.0        80\n",
       "25.0        75\n",
       "70.0        70\n",
       "32.0        64\n",
       "59.0        59\n",
       "52.0        52\n",
       "23.0        46\n",
       "35.0        35\n",
       "34.0        34\n",
       "33.0        33\n",
       "30.0        30\n",
       "29.0        29\n",
       "27.0        27\n",
       "24.0        24\n",
       "21.0        21\n",
       "Name: no_projects, dtype: int64"
      ]
     },
     "execution_count": 39,
     "metadata": {},
     "output_type": "execute_result"
    }
   ],
   "source": [
    "merged['no_projects'].value_counts()"
   ]
  },
  {
   "cell_type": "code",
   "execution_count": 40,
   "metadata": {},
   "outputs": [
    {
     "data": {
      "text/plain": [
       "Text(0.5, 1.0, '% of Goal Raised and Days to Reach Goal')"
      ]
     },
     "execution_count": 40,
     "metadata": {},
     "output_type": "execute_result"
    },
    {
     "data": {
      "image/png": "[encoded data removed]",
      "text/plain": [
       "<Figure size 432x288 with 1 Axes>"
      ]
     },
     "metadata": {
      "needs_background": "light"
     },
     "output_type": "display_data"
    }
   ],
   "source": [
    "fundRate = pd.DataFrame()\n",
    "rateProjects = merged.groupby(['staLauDelta'])\n",
    "fundRate['funding_percent_avg'] = rateProjects.funds_raised_percent.agg(np.mean)\n",
    "fundRate['funding_percent_med'] = rateProjects.funds_raised_percent.agg(np.median)\n",
    "\n",
    "fundRate.reset_index(inplace = True)\n",
    "\n",
    "x = fundRate['staLauDelta']\n",
    "y2 = fundRate['funding_percent_med']\n",
    "\n",
    "plt.close()\n",
    "plt.plot(x,y2)\n",
    "plt.legend(('Median Funding Percent', 'Median Funding Percent'), loc='upper right')\n",
    "plt.xlabel('Days to Reach Goal')\n",
    "plt.ylabel('% of Goal Raised')\n",
    "plt.ylim(bottom=0)\n",
    "\n",
    "plt.xlim(right=40)\n",
    "plt.xlim(left=1)\n",
    "plt.title('% of Goal Raised and Days to Reach Goal')"
   ]
  },
  {
   "cell_type": "code",
   "execution_count": 41,
   "metadata": {},
   "outputs": [
    {
     "data": {
      "text/plain": [
       "Text(0.5, 1.0, 'USD Pledged and Days to Reach Goal')"
      ]
     },
     "execution_count": 41,
     "metadata": {},
     "output_type": "execute_result"
    },
    {
     "data": {
      "image/png": "[encoded data removed]",
      "text/plain": [
       "<Figure size 432x288 with 1 Axes>"
      ]
     },
     "metadata": {
      "needs_background": "light"
     },
     "output_type": "display_data"
    }
   ],
   "source": [
    "fundRate['usd_pledged_avg'] = rateProjects.usd_pledged.agg(np.mean)\n",
    "fundRate['usd_pledged_med'] = rateProjects.usd_pledged.agg(np.median)\n",
    "\n",
    "x = fundRate['staLauDelta']\n",
    "y1 = fundRate['usd_pledged_avg']\n",
    "y2 = fundRate['usd_pledged_med']\n",
    "\n",
    "plt.close()\n",
    "plt.plot(x,y1,x,y2)\n",
    "plt.legend(('Average USD Pledged', 'Median USD Pledged'), loc='upper right')\n",
    "plt.xlabel('Days to Reach Goal')\n",
    "plt.ylabel('USD Pledged')\n",
    "plt.ylim(bottom=0)\n",
    "plt.xlim(left=0)\n",
    "plt.xlim(right=40)\n",
    "plt.title('USD Pledged and Days to Reach Goal')"
   ]
  },
  {
   "cell_type": "markdown",
   "metadata": {},
   "source": [
    "### What's Happening here?\n",
    "\n",
    "There's an odd abundance of projects that reach their funding goal either very close to, or on the deadline date.\n",
    "\n",
    "Kickstarter.com has a section of their homepage dedicated to projects whose deadlines are within a certain time limit\n",
    "\n",
    "We don't have data for funds raised per day, but it seems plausible that the presence on the homepage plus the urgency of a project being close to its goal and end date motivates backers on the fence to contribute\n",
    "\n",
    "It's also plausible that towards the end of a fundraising campaing, projects push more incentive messages to their target audience\n",
    "\n",
    "![Kickstarter's \"Home Stretch\"](https://i.imgur.com/rCG7hj0.png)"
   ]
  },
  {
   "cell_type": "markdown",
   "metadata": {},
   "source": [
    "### Effects of Staff Picks and Project Spotlights on Campaign Success\n",
    "\n",
    "As mentioned above, Kickstarter highlights certain projects on their homepage\n",
    "\n",
    "The dataset that I have includes \"Staff Pick\" tags, for projects that Kickstarter staff favors\n",
    "\n",
    "The spotlight tag is a little more ambiguous, but based on the success rate of spotlight projects, it seems like all successfully funded projects are spotlighted at some point\n",
    "\n",
    "The success rate for staff pick projects is almost 90%, and the rate for spotlighted projects is 100%"
   ]
  },
  {
   "cell_type": "code",
   "execution_count": 42,
   "metadata": {},
   "outputs": [],
   "source": [
    "staff = merged[(merged['staff_pick'] == True) & (merged['source'] == 'Kickstarter')]\n",
    "staffSucc = staff[(staff['state'] == 'successful')]\n",
    "spot = merged[(merged['spotlight'] == True) & (merged['source'] == 'Kickstarter')]\n",
    "spotSucc = spot[(spot['state'] == 'successful')]\n",
    "unstaff = merged[(merged['staff_pick'] == False) & (merged['source'] == 'Kickstarter')]\n",
    "unstaffSucc = unstaff[unstaff['state'] == 'successful']\n",
    "mergeKick = merged[merged['source'] == 'Kickstarter']"
   ]
  },
  {
   "cell_type": "code",
   "execution_count": 43,
   "metadata": {},
   "outputs": [
    {
     "name": "stdout",
     "output_type": "stream",
     "text": [
      "0.8954918032786885 1.0\n"
     ]
    }
   ],
   "source": [
    "staffRate = len(staffSucc)/ len(staff)\n",
    "spotRate = len(spotSucc)/len(spot)\n",
    "\n",
    "print(staffRate, spotRate)"
   ]
  },
  {
   "cell_type": "code",
   "execution_count": 44,
   "metadata": {},
   "outputs": [
    {
     "data": {
      "text/plain": [
       "<Figure size 43200x21600 with 0 Axes>"
      ]
     },
     "execution_count": 44,
     "metadata": {},
     "output_type": "execute_result"
    },
    {
     "data": {
      "image/png": "[encoded data removed]",
      "text/plain": [
       "<Figure size 432x288 with 1 Axes>"
      ]
     },
     "metadata": {
      "needs_background": "light"
     },
     "output_type": "display_data"
    },
    {
     "data": {
      "text/plain": [
       "<Figure size 43200x21600 with 0 Axes>"
      ]
     },
     "metadata": {},
     "output_type": "display_data"
    }
   ],
   "source": [
    "staffMoney = pd.DataFrame()\n",
    "staffGrp = staff.groupby(['fullcats'])\n",
    "noStaff = unstaff.groupby(['fullcats'])\n",
    "staffMoney['avg_raised_staff_picks'] = staffGrp.usd_pledged.agg(np.mean)\n",
    "staffMoney['no_staff_avg'] = noStaff.usd_pledged.agg(np.mean)\n",
    "staffMoney['med_staff_picks'] = staffGrp.usd_pledged.agg(np.median)\n",
    "staffMoney['no_staff_med'] = noStaff.usd_pledged.agg(np.median)\n",
    "\n",
    "plt.close()\n",
    "ax = staffMoney.plot(kind = 'bar', title='Crowdfunding Funds Raised by Project Category')\n",
    "ax.set_xlabel(\"Category\")\n",
    "ax.set_ylabel(\"Funds Raised\")\n",
    "plt.figure(figsize=(600,300))"
   ]
  },
  {
   "cell_type": "code",
   "execution_count": 45,
   "metadata": {},
   "outputs": [
    {
     "name": "stdout",
     "output_type": "stream",
     "text": [
      "the number of successful projects that were not staff picks is  78948\n",
      "the number of successful projects that are staff picks is  19228\n",
      "the total number of projects is  153333\n"
     ]
    }
   ],
   "source": [
    "unstaff = merged[merged['staff_pick'] == False]\n",
    "unstaffSucc = unstaff[unstaff['state'] == 'successful']\n",
    "print('the number of successful projects that were not staff picks is ', len(unstaffSucc))\n",
    "print('the number of successful projects that are staff picks is ', len(staffSucc))\n",
    "kickOnly = merged[merged['source'] == 'Kickstarter']\n",
    "print('the total number of projects is ', len(kickOnly))"
   ]
  },
  {
   "cell_type": "code",
   "execution_count": 46,
   "metadata": {},
   "outputs": [
    {
     "data": {
      "text/plain": [
       "<Figure size 43200x21600 with 0 Axes>"
      ]
     },
     "execution_count": 46,
     "metadata": {},
     "output_type": "execute_result"
    },
    {
     "data": {
      "image/png": "[encoded data removed]",
      "text/plain": [
       "<Figure size 432x288 with 1 Axes>"
      ]
     },
     "metadata": {
      "needs_background": "light"
     },
     "output_type": "display_data"
    },
    {
     "data": {
      "text/plain": [
       "<Figure size 43200x21600 with 0 Axes>"
      ]
     },
     "metadata": {},
     "output_type": "display_data"
    }
   ],
   "source": [
    "staffMoney = pd.DataFrame()\n",
    "staffMoney['StaffCounts'] = staffGrp.size()\n",
    "staffMoney['NoStaffCount'] = noStaff.size()\n",
    "\n",
    "plt.close()\n",
    "ax = staffMoney.plot(kind = 'bar', title='# of Projects that are Staff Picks by Category')\n",
    "ax.set_xlabel(\"Category\")\n",
    "ax.set_ylabel(\"Number of Projects\")\n",
    "plt.figure(figsize=(600,300))"
   ]
  },
  {
   "cell_type": "code",
   "execution_count": 47,
   "metadata": {},
   "outputs": [
    {
     "data": {
      "text/plain": [
       "<Figure size 43200x21600 with 0 Axes>"
      ]
     },
     "execution_count": 47,
     "metadata": {},
     "output_type": "execute_result"
    },
    {
     "data": {
      "image/png": "[encoded data removed]",
      "text/plain": [
       "<Figure size 432x288 with 1 Axes>"
      ]
     },
     "metadata": {
      "needs_background": "light"
     },
     "output_type": "display_data"
    },
    {
     "data": {
      "text/plain": [
       "<Figure size 43200x21600 with 0 Axes>"
      ]
     },
     "metadata": {},
     "output_type": "display_data"
    }
   ],
   "source": [
    "allKick = mergeKick.groupby(['fullcats'])\n",
    "noStaffCont = allKick.usd_pledged.agg(np.sum)\n",
    "staffCont = staffGrp.usd_pledged.agg(np.sum)\n",
    "contributions = pd.DataFrame()\n",
    "contributions['staff_picks'] = staffCont / noStaffCont\n",
    "\n",
    "plt.close()\n",
    "ax = contributions.plot(kind = 'bar', title='Contributions of Staff Picks to Total Funds Raised (By Category)')\n",
    "ax.get_legend().remove()\n",
    "ax.set_xlabel(\"Category\")\n",
    "ax.set_ylabel(\"% of Total Funds Raised\")\n",
    "plt.figure(figsize=(600,300))"
   ]
  },
  {
   "cell_type": "code",
   "execution_count": 48,
   "metadata": {},
   "outputs": [
    {
     "name": "stdout",
     "output_type": "stream",
     "text": [
      "Kickstarter staff picks accounts for  staff_picks    0.451525\n",
      "dtype: float64 % of all funds raised on average\n"
     ]
    }
   ],
   "source": [
    "plt.close()\n",
    "total = contributions.mean(axis = 0)\n",
    "print('Kickstarter staff picks accounts for ', total, '% of all funds raised on average')"
   ]
  },
  {
   "cell_type": "markdown",
   "metadata": {},
   "source": [
    "### Repeat the staff_picks analysis for Indiegogo projects only"
   ]
  },
  {
   "cell_type": "code",
   "execution_count": 49,
   "metadata": {},
   "outputs": [],
   "source": [
    "indie = original[(original['source'] == 'indiegogo') & (original['fullcats'] != 'theater') & (original['fullcats'] != 'design')]\n",
    "staff = indie[(indie['staff_pick'] == True)]\n",
    "staffSucc = staff[(staff['state'] == 'successful')]\n",
    "unstaff = indie[(indie['staff_pick'] == False)]\n",
    "unstaffSucc = unstaff[unstaff['state'] == 'successful']"
   ]
  },
  {
   "cell_type": "code",
   "execution_count": 50,
   "metadata": {},
   "outputs": [
    {
     "name": "stdout",
     "output_type": "stream",
     "text": [
      "0.9910714285714286 1.0\n"
     ]
    }
   ],
   "source": [
    "staffRate = len(staffSucc)/ len(staff)\n",
    "\n",
    "print(staffRate, spotRate)"
   ]
  },
  {
   "cell_type": "code",
   "execution_count": 51,
   "metadata": {},
   "outputs": [
    {
     "data": {
      "text/plain": [
       "<Figure size 43200x21600 with 0 Axes>"
      ]
     },
     "execution_count": 51,
     "metadata": {},
     "output_type": "execute_result"
    },
    {
     "data": {
      "image/png": "[encoded data removed]",
      "text/plain": [
       "<Figure size 432x288 with 1 Axes>"
      ]
     },
     "metadata": {
      "needs_background": "light"
     },
     "output_type": "display_data"
    },
    {
     "data": {
      "text/plain": [
       "<Figure size 43200x21600 with 0 Axes>"
      ]
     },
     "metadata": {},
     "output_type": "display_data"
    }
   ],
   "source": [
    "staffMoney = pd.DataFrame()\n",
    "staffGrp = staff.groupby(['fullcats'])\n",
    "noStaff = unstaff.groupby(['fullcats'])\n",
    "staffMoney['avg_raised_staff_picks'] = staffGrp.usd_pledged.agg(np.mean)\n",
    "staffMoney['no_staff_avg'] = noStaff.usd_pledged.agg(np.mean)\n",
    "staffMoney['med_staff_picks'] = staffGrp.usd_pledged.agg(np.median)\n",
    "staffMoney['no_staff_med'] = noStaff.usd_pledged.agg(np.median)\n",
    "\n",
    "plt.close()\n",
    "ax = staffMoney.plot(kind = 'bar', title='Crowdfunding Funds Raised by Project Category')\n",
    "ax.set_xlabel(\"Category\")\n",
    "ax.set_ylabel(\"Funds Raised\")\n",
    "plt.figure(figsize=(600,300))"
   ]
  },
  {
   "cell_type": "code",
   "execution_count": 52,
   "metadata": {},
   "outputs": [
    {
     "name": "stdout",
     "output_type": "stream",
     "text": [
      "the number of successful projects that were not staff picks is  4005\n",
      "the number of successful projects that are staff picks is  1443\n",
      "the total number of projects is  15879\n"
     ]
    }
   ],
   "source": [
    "unstaff = indie[indie['staff_pick'] == False]\n",
    "unstaffSucc = unstaff[unstaff['state'] == 'successful']\n",
    "print('the number of successful projects that were not staff picks is ', len(unstaffSucc))\n",
    "print('the number of successful projects that are staff picks is ', len(staffSucc))\n",
    "print('the total number of projects is ', len(indie))"
   ]
  },
  {
   "cell_type": "code",
   "execution_count": 53,
   "metadata": {},
   "outputs": [
    {
     "data": {
      "text/plain": [
       "<Figure size 43200x21600 with 0 Axes>"
      ]
     },
     "execution_count": 53,
     "metadata": {},
     "output_type": "execute_result"
    },
    {
     "data": {
      "image/png": "[encoded data removed]",
      "text/plain": [
       "<Figure size 432x288 with 1 Axes>"
      ]
     },
     "metadata": {
      "needs_background": "light"
     },
     "output_type": "display_data"
    },
    {
     "data": {
      "text/plain": [
       "<Figure size 43200x21600 with 0 Axes>"
      ]
     },
     "metadata": {},
     "output_type": "display_data"
    }
   ],
   "source": [
    "staffMoney = pd.DataFrame()\n",
    "\n",
    "staffMoney['StaffCounts'] = staffGrp.size()\n",
    "staffMoney['NoStaffCount'] = noStaff.size()\n",
    "\n",
    "plt.close()\n",
    "ax = staffMoney.plot(kind = 'bar', title='# of Projects that are Staff Picks by Category')\n",
    "ax.set_xlabel(\"Category\")\n",
    "ax.set_ylabel(\"Number of Projects\")\n",
    "plt.figure(figsize=(600,300))"
   ]
  },
  {
   "cell_type": "code",
   "execution_count": 54,
   "metadata": {},
   "outputs": [
    {
     "data": {
      "text/plain": [
       "<Figure size 43200x21600 with 0 Axes>"
      ]
     },
     "execution_count": 54,
     "metadata": {},
     "output_type": "execute_result"
    },
    {
     "data": {
      "image/png": "[encoded data removed]",
      "text/plain": [
       "<Figure size 432x288 with 1 Axes>"
      ]
     },
     "metadata": {
      "needs_background": "light"
     },
     "output_type": "display_data"
    },
    {
     "data": {
      "text/plain": [
       "<Figure size 43200x21600 with 0 Axes>"
      ]
     },
     "metadata": {},
     "output_type": "display_data"
    }
   ],
   "source": [
    "allKick = indie.groupby(['fullcats'])\n",
    "noStaffCont = allKick.usd_pledged.agg(np.sum)\n",
    "staffCont = staffGrp.usd_pledged.agg(np.sum)\n",
    "contributions = pd.DataFrame()\n",
    "contributions['staff_picks'] = staffCont / noStaffCont\n",
    "\n",
    "plt.close()\n",
    "ax = contributions.plot(kind = 'bar', title='Contributions of Staff Picks to Total Funds Raised (By Category)')\n",
    "ax.get_legend().remove()\n",
    "ax.set_xlabel(\"Category\")\n",
    "ax.set_ylabel(\"% of Total Funds Raised\")\n",
    "plt.figure(figsize=(600,300))"
   ]
  },
  {
   "cell_type": "code",
   "execution_count": 55,
   "metadata": {},
   "outputs": [
    {
     "name": "stdout",
     "output_type": "stream",
     "text": [
      "Indiegogo staff picks accounts for  staff_picks    0.253684\n",
      "dtype: float64 % of all funds raised on average\n"
     ]
    }
   ],
   "source": [
    "plt.close()\n",
    "total = contributions.mean(axis = 0)\n",
    "print('Indiegogo staff picks accounts for ', total, '% of all funds raised on average')"
   ]
  },
  {
   "cell_type": "markdown",
   "metadata": {},
   "source": [
    "# Appendix A: Data Descriptions\n",
    "\n",
    "| Columns | Data Type | Description | \n",
    "|---|---|---|\n",
    "|Backers Count| int64 | Total number of individual backers of a project\n",
    "|Blurb|object| The short description of the project\n",
    "|Category| list | A list of categories that the project has been tagged under\n",
    "|Country| string| Two character country code of the campaign’s headquarters\n",
    "|Created_at|int64| The creation date of the campaign in epoch time\n",
    "|Creator| string |A list of the creator’s name and their creator ID on Kickstarter.com\n",
    "|Currency| string| A two character string of the domestic currency of the project\n",
    "|Deadline| int64|The end date/time of the campaign in epoch time\n",
    "|Goal| int64|The funding goal of the project in native currency\n",
    "|Id| int64|The unique project ID\n",
    "|Launched_at| int64|Launch date of the campaign in epoch time\n",
    "|Location| string|The main location of the project\n",
    "|Name| object|The name of the project\n",
    "|Pledged| int64|Total amount pledged (in the project’s home currency)\n",
    "|Slug| string|An abbreviated description of the project\n",
    "|Spotlight|string|True/False categorical variable of whether the project was featured by Kickstarter\n",
    "|Staff_pick|string|True/False categorical variable of whether the project was a staff pick or not\n",
    "|State|string|Successful/Failed/Canceled/Active  categorical variable of the projects current status\n",
    "|State_changed_at| int64|Time/date that the project changed states, in epoch time\n",
    "|Static_usd_rate| int64|Static conversion rate between home currency and USD\n",
    "|Urls| string|Various URL’s associated with the project\n",
    "|Usd_pledged| int64|Total amount pledged, converted to USD\n"
   ]
  },
  {
   "cell_type": "markdown",
   "metadata": {},
   "source": [
    "# Appendix B: Previous Work and Citations\n",
    "\n",
    "[Good Audience](https://blog.goodaudience.com/kickstarter-projects-prediction-of-state-steps-for-a-beginner-analysis-f4630a50b7fe)<br>\n",
    "•\tRuns logistic regression, XGBoost, Random forests, LightGBM and an Ensemble method to try and predict whether a project will be successfully funded or not. Based on the Kaggle dataset (limited to 49k entries). Mainly focused on feature selection\n",
    "\n",
    "[Towards Data Science](https://towardsdatascience.com/predicting-the-success-of-kickstarter-campaigns-3f4a976419b9)<br>\n",
    "•\tAgain predictions on successful funding, based on funding goals, category, rewards levels, and location data. Uses random forests, logistic regression, and kNearest Neighbors\n",
    "\n",
    "[Bentley University](https://www.bentley.edu/prepared/what-secret-perfect-kickstarter-campaign)<br>\n",
    "•\tFinds length of description and title are important\n",
    "•\tAlso the date of the launch important (winter is the best month)\n",
    "•\tHigher average donations, shorter campaign durations\n"
   ]
  },
  {
   "cell_type": "code",
   "execution_count": 57,
   "metadata": {},
   "outputs": [
    {
     "data": {
      "text/plain": [
       "Text(0.5, 1.0, 'Kickstarter.com Alexa Ranking over Time')"
      ]
     },
     "execution_count": 57,
     "metadata": {},
     "output_type": "execute_result"
    },
    {
     "data": {
      "image/png": "[encoded data removed]",
      "text/plain": [
       "<Figure size 432x288 with 1 Axes>"
      ]
     },
     "metadata": {
      "needs_background": "light"
     },
     "output_type": "display_data"
    }
   ],
   "source": [
    "merged.head()\n",
    "alexa = merged.copy()\n",
    "alexa.dropna(axis = 0, inplace = True)\n",
    "\n",
    "x = alexa['launched_at']\n",
    "y = alexa['Rank']\n",
    "\n",
    "plt.close()\n",
    "plt.scatter(x, y)\n",
    "plt.legend(('Alexa Ranking', 'Alexa ranking'), loc='lower right')\n",
    "plt.xlabel('Date (Epoch time)')\n",
    "plt.ylabel('Alexa Ranking')\n",
    "plt.ylim(bottom=1)\n",
    "plt.title('Kickstarter.com Alexa Ranking over Time')"
   ]
  },
  {
   "cell_type": "code",
   "execution_count": 58,
   "metadata": {},
   "outputs": [
    {
     "data": {
      "text/plain": [
       "Index(['backers_count', 'blurb', 'country', 'created_at', 'creator',\n",
       "       'currency', 'deadline', 'fx_rate', 'goal', 'id', 'launched_at', 'name',\n",
       "       'slug', 'spotlight', 'staff_pick', 'state', 'state_changed_at', 'urls',\n",
       "       'usd_pledged', 'fullcats', 'city', 'creLauDelta', 'lauDeadDelta',\n",
       "       'staLauDelta', 'source', 'funds_raised_percent', 'launch_date', 'Date',\n",
       "       'Rank', 'no_projects'],\n",
       "      dtype='object')"
      ]
     },
     "execution_count": 58,
     "metadata": {},
     "output_type": "execute_result"
    }
   ],
   "source": [
    "plt.close()\n",
    "merged.columns"
   ]
  },
  {
   "cell_type": "code",
   "execution_count": 59,
   "metadata": {},
   "outputs": [
    {
     "data": {
      "text/plain": [
       "Text(0.5, 1.0, 'Distribution of % of Goal Raised')"
      ]
     },
     "execution_count": 59,
     "metadata": {},
     "output_type": "execute_result"
    },
    {
     "data": {
      "image/png": "[encoded data removed]",
      "text/plain": [
       "<Figure size 432x288 with 1 Axes>"
      ]
     },
     "metadata": {
      "needs_background": "light"
     },
     "output_type": "display_data"
    }
   ],
   "source": [
    "x = merged[(merged['funds_raised_percent'] < 200)]\n",
    "y = x['funds_raised_percent']\n",
    "\n",
    "plt.close()\n",
    "plt.hist(y, bins = 100)\n",
    "plt.xlabel('Percent of Goal Raised')\n",
    "plt.ylabel('Number of Occurrences')\n",
    "plt.title('Distribution of % of Goal Raised')"
   ]
  },
  {
   "cell_type": "code",
   "execution_count": 60,
   "metadata": {},
   "outputs": [
    {
     "name": "stderr",
     "output_type": "stream",
     "text": [
      "/Users/chrismay/anaconda3/lib/python3.7/site-packages/numpy/lib/histograms.py:824: RuntimeWarning: invalid value encountered in greater_equal\n",
      "  keep = (tmp_a >= first_edge)\n",
      "/Users/chrismay/anaconda3/lib/python3.7/site-packages/numpy/lib/histograms.py:825: RuntimeWarning: invalid value encountered in less_equal\n",
      "  keep &= (tmp_a <= last_edge)\n"
     ]
    },
    {
     "data": {
      "text/plain": [
       "Text(0.5, 1.0, 'Distribution of # of Days to Reach Goal')"
      ]
     },
     "execution_count": 60,
     "metadata": {},
     "output_type": "execute_result"
    },
    {
     "data": {
      "image/png": "[encoded data removed]",
      "text/plain": [
       "<Figure size 432x288 with 1 Axes>"
      ]
     },
     "metadata": {
      "needs_background": "light"
     },
     "output_type": "display_data"
    }
   ],
   "source": [
    "x = merged[merged['state'] == 'successful']\n",
    "y = x['staLauDelta']\n",
    "\n",
    "plt.close()\n",
    "plt.hist(y, bins = 100)\n",
    "plt.xlabel('Days to Reach Goal')\n",
    "plt.ylabel('Number of Occurrences')\n",
    "plt.xlim(left=0)\n",
    "plt.xlim(right=60)\n",
    "plt.title('Distribution of # of Days to Reach Goal')"
   ]
  },
  {
   "cell_type": "code",
   "execution_count": 61,
   "metadata": {},
   "outputs": [],
   "source": [
    "from sklearn import preprocessing as pre\n",
    "from sklearn.linear_model import LogisticRegression\n",
    "from sklearn.model_selection import train_test_split\n",
    "from sklearn.linear_model import LogisticRegression\n",
    "from sklearn import metrics\n",
    "from sklearn.linear_model import LogisticRegression\n",
    "from sklearn.metrics import confusion_matrix\n",
    "from sklearn.preprocessing import MinMaxScaler\n",
    "from sklearn.metrics import roc_auc_score\n",
    "from sklearn.metrics import roc_curve\n",
    "from sklearn.model_selection import GridSearchCV"
   ]
  },
  {
   "cell_type": "code",
   "execution_count": 62,
   "metadata": {},
   "outputs": [
    {
     "data": {
      "text/plain": [
       "Index(['backers_count', 'blurb', 'country', 'created_at', 'creator',\n",
       "       'currency', 'deadline', 'fx_rate', 'goal', 'id', 'launched_at', 'name',\n",
       "       'slug', 'spotlight', 'staff_pick', 'state', 'state_changed_at', 'urls',\n",
       "       'usd_pledged', 'fullcats', 'city', 'creLauDelta', 'lauDeadDelta',\n",
       "       'staLauDelta', 'source', 'funds_raised_percent', 'launch_date', 'Date',\n",
       "       'Rank', 'no_projects'],\n",
       "      dtype='object')"
      ]
     },
     "execution_count": 62,
     "metadata": {},
     "output_type": "execute_result"
    }
   ],
   "source": [
    "mergeKick.columns"
   ]
  },
  {
   "cell_type": "code",
   "execution_count": 89,
   "metadata": {},
   "outputs": [
    {
     "data": {
      "text/html": [
       "<div>\n",
       "<style scoped>\n",
       "    .dataframe tbody tr th:only-of-type {\n",
       "        vertical-align: middle;\n",
       "    }\n",
       "\n",
       "    .dataframe tbody tr th {\n",
       "        vertical-align: top;\n",
       "    }\n",
       "\n",
       "    .dataframe thead th {\n",
       "        text-align: right;\n",
       "    }\n",
       "</style>\n",
       "<table border=\"1\" class=\"dataframe\">\n",
       "  <thead>\n",
       "    <tr style=\"text-align: right;\">\n",
       "      <th></th>\n",
       "      <th>country</th>\n",
       "      <th>goal</th>\n",
       "      <th>id</th>\n",
       "      <th>launched_at</th>\n",
       "      <th>staff_pick</th>\n",
       "      <th>alexa_rank</th>\n",
       "      <th>creator_projects</th>\n",
       "      <th>state</th>\n",
       "      <th>creLauDelta</th>\n",
       "      <th>category</th>\n",
       "    </tr>\n",
       "  </thead>\n",
       "  <tbody>\n",
       "    <tr>\n",
       "      <th>0</th>\n",
       "      <td>US</td>\n",
       "      <td>5000</td>\n",
       "      <td>1203770415</td>\n",
       "      <td>1491540705</td>\n",
       "      <td>0</td>\n",
       "      <td>548.0</td>\n",
       "      <td>1.0</td>\n",
       "      <td>0</td>\n",
       "      <td>19.0</td>\n",
       "      <td>film &amp; video</td>\n",
       "    </tr>\n",
       "    <tr>\n",
       "      <th>1</th>\n",
       "      <td>MX</td>\n",
       "      <td>3382</td>\n",
       "      <td>878861613</td>\n",
       "      <td>1509893074</td>\n",
       "      <td>0</td>\n",
       "      <td>528.0</td>\n",
       "      <td>1.0</td>\n",
       "      <td>1</td>\n",
       "      <td>16.0</td>\n",
       "      <td>film &amp; video</td>\n",
       "    </tr>\n",
       "    <tr>\n",
       "      <th>2</th>\n",
       "      <td>NZ</td>\n",
       "      <td>6850</td>\n",
       "      <td>917345297</td>\n",
       "      <td>1427147079</td>\n",
       "      <td>0</td>\n",
       "      <td>NaN</td>\n",
       "      <td>1.0</td>\n",
       "      <td>1</td>\n",
       "      <td>7.0</td>\n",
       "      <td>theater</td>\n",
       "    </tr>\n",
       "    <tr>\n",
       "      <th>3</th>\n",
       "      <td>US</td>\n",
       "      <td>40000</td>\n",
       "      <td>1702164653</td>\n",
       "      <td>1487077744</td>\n",
       "      <td>1</td>\n",
       "      <td>589.0</td>\n",
       "      <td>1.0</td>\n",
       "      <td>1</td>\n",
       "      <td>49.0</td>\n",
       "      <td>comics</td>\n",
       "    </tr>\n",
       "    <tr>\n",
       "      <th>4</th>\n",
       "      <td>US</td>\n",
       "      <td>2000</td>\n",
       "      <td>1042930184</td>\n",
       "      <td>1507662001</td>\n",
       "      <td>0</td>\n",
       "      <td>503.0</td>\n",
       "      <td>1.0</td>\n",
       "      <td>1</td>\n",
       "      <td>16.0</td>\n",
       "      <td>games</td>\n",
       "    </tr>\n",
       "  </tbody>\n",
       "</table>\n",
       "</div>"
      ],
      "text/plain": [
       "  country   goal          id  launched_at  staff_pick  alexa_rank  \\\n",
       "0      US   5000  1203770415   1491540705           0       548.0   \n",
       "1      MX   3382   878861613   1509893074           0       528.0   \n",
       "2      NZ   6850   917345297   1427147079           0         NaN   \n",
       "3      US  40000  1702164653   1487077744           1       589.0   \n",
       "4      US   2000  1042930184   1507662001           0       503.0   \n",
       "\n",
       "   creator_projects  state  creLauDelta      category  \n",
       "0               1.0      0         19.0  film & video  \n",
       "1               1.0      1         16.0  film & video  \n",
       "2               1.0      1          7.0       theater  \n",
       "3               1.0      1         49.0        comics  \n",
       "4               1.0      1         16.0         games  "
      ]
     },
     "execution_count": 89,
     "metadata": {},
     "output_type": "execute_result"
    }
   ],
   "source": [
    "# Make a new dataframe with only the columns that we'll use for modeling\n",
    "kickModel = pd.DataFrame()\n",
    "kickModel['country'] = mergeKick['country']\n",
    "kickModel['goal'] = mergeKick['goal']\n",
    "kickModel['id'] = mergeKick['id']\n",
    "kickModel['launched_at'] = mergeKick['launched_at']\n",
    "kickModel['staff_pick'] = mergeKick['staff_pick']\n",
    "kickModel['alexa_rank'] = mergeKick['Rank']\n",
    "kickModel['creator_projects'] = mergeKick['no_projects']\n",
    "kickModel['state'] = mergeKick['state']\n",
    "kickModel['creLauDelta'] = mergeKick['creLauDelta']\n",
    "kickModel['category'] = mergeKick['fullcats']\n",
    "\n",
    "kickModel['staff_pick'] = kickModel.apply(lambda x: int(x['staff_pick'] == True), axis = 1)\n",
    "kickModel['state'] = kickModel.apply(lambda x: int(x['state'] == 'successful'), axis = 1)\n",
    "kickModel.head()"
   ]
  },
  {
   "cell_type": "code",
   "execution_count": 90,
   "metadata": {},
   "outputs": [
    {
     "data": {
      "text/html": [
       "<div>\n",
       "<style scoped>\n",
       "    .dataframe tbody tr th:only-of-type {\n",
       "        vertical-align: middle;\n",
       "    }\n",
       "\n",
       "    .dataframe tbody tr th {\n",
       "        vertical-align: top;\n",
       "    }\n",
       "\n",
       "    .dataframe thead th {\n",
       "        text-align: right;\n",
       "    }\n",
       "</style>\n",
       "<table border=\"1\" class=\"dataframe\">\n",
       "  <thead>\n",
       "    <tr style=\"text-align: right;\">\n",
       "      <th></th>\n",
       "      <th>goal</th>\n",
       "      <th>id</th>\n",
       "      <th>launched_at</th>\n",
       "      <th>staff_pick</th>\n",
       "      <th>alexa_rank</th>\n",
       "      <th>creator_projects</th>\n",
       "      <th>state</th>\n",
       "      <th>creLauDelta</th>\n",
       "      <th>art</th>\n",
       "      <th>cameragear</th>\n",
       "      <th>...</th>\n",
       "      <th>VE</th>\n",
       "      <th>VI</th>\n",
       "      <th>VN</th>\n",
       "      <th>VU</th>\n",
       "      <th>WS</th>\n",
       "      <th>XK</th>\n",
       "      <th>YE</th>\n",
       "      <th>ZA</th>\n",
       "      <th>ZM</th>\n",
       "      <th>ZW</th>\n",
       "    </tr>\n",
       "  </thead>\n",
       "  <tbody>\n",
       "    <tr>\n",
       "      <th>0</th>\n",
       "      <td>5000</td>\n",
       "      <td>1203770415</td>\n",
       "      <td>1491540705</td>\n",
       "      <td>0</td>\n",
       "      <td>548.0</td>\n",
       "      <td>1.0</td>\n",
       "      <td>0</td>\n",
       "      <td>19.0</td>\n",
       "      <td>0</td>\n",
       "      <td>0</td>\n",
       "      <td>...</td>\n",
       "      <td>0</td>\n",
       "      <td>0</td>\n",
       "      <td>0</td>\n",
       "      <td>0</td>\n",
       "      <td>0</td>\n",
       "      <td>0</td>\n",
       "      <td>0</td>\n",
       "      <td>0</td>\n",
       "      <td>0</td>\n",
       "      <td>0</td>\n",
       "    </tr>\n",
       "    <tr>\n",
       "      <th>1</th>\n",
       "      <td>3382</td>\n",
       "      <td>878861613</td>\n",
       "      <td>1509893074</td>\n",
       "      <td>0</td>\n",
       "      <td>528.0</td>\n",
       "      <td>1.0</td>\n",
       "      <td>1</td>\n",
       "      <td>16.0</td>\n",
       "      <td>0</td>\n",
       "      <td>0</td>\n",
       "      <td>...</td>\n",
       "      <td>0</td>\n",
       "      <td>0</td>\n",
       "      <td>0</td>\n",
       "      <td>0</td>\n",
       "      <td>0</td>\n",
       "      <td>0</td>\n",
       "      <td>0</td>\n",
       "      <td>0</td>\n",
       "      <td>0</td>\n",
       "      <td>0</td>\n",
       "    </tr>\n",
       "    <tr>\n",
       "      <th>2</th>\n",
       "      <td>6850</td>\n",
       "      <td>917345297</td>\n",
       "      <td>1427147079</td>\n",
       "      <td>0</td>\n",
       "      <td>NaN</td>\n",
       "      <td>1.0</td>\n",
       "      <td>1</td>\n",
       "      <td>7.0</td>\n",
       "      <td>0</td>\n",
       "      <td>0</td>\n",
       "      <td>...</td>\n",
       "      <td>0</td>\n",
       "      <td>0</td>\n",
       "      <td>0</td>\n",
       "      <td>0</td>\n",
       "      <td>0</td>\n",
       "      <td>0</td>\n",
       "      <td>0</td>\n",
       "      <td>0</td>\n",
       "      <td>0</td>\n",
       "      <td>0</td>\n",
       "    </tr>\n",
       "    <tr>\n",
       "      <th>3</th>\n",
       "      <td>40000</td>\n",
       "      <td>1702164653</td>\n",
       "      <td>1487077744</td>\n",
       "      <td>1</td>\n",
       "      <td>589.0</td>\n",
       "      <td>1.0</td>\n",
       "      <td>1</td>\n",
       "      <td>49.0</td>\n",
       "      <td>0</td>\n",
       "      <td>0</td>\n",
       "      <td>...</td>\n",
       "      <td>0</td>\n",
       "      <td>0</td>\n",
       "      <td>0</td>\n",
       "      <td>0</td>\n",
       "      <td>0</td>\n",
       "      <td>0</td>\n",
       "      <td>0</td>\n",
       "      <td>0</td>\n",
       "      <td>0</td>\n",
       "      <td>0</td>\n",
       "    </tr>\n",
       "    <tr>\n",
       "      <th>4</th>\n",
       "      <td>2000</td>\n",
       "      <td>1042930184</td>\n",
       "      <td>1507662001</td>\n",
       "      <td>0</td>\n",
       "      <td>503.0</td>\n",
       "      <td>1.0</td>\n",
       "      <td>1</td>\n",
       "      <td>16.0</td>\n",
       "      <td>0</td>\n",
       "      <td>0</td>\n",
       "      <td>...</td>\n",
       "      <td>0</td>\n",
       "      <td>0</td>\n",
       "      <td>0</td>\n",
       "      <td>0</td>\n",
       "      <td>0</td>\n",
       "      <td>0</td>\n",
       "      <td>0</td>\n",
       "      <td>0</td>\n",
       "      <td>0</td>\n",
       "      <td>0</td>\n",
       "    </tr>\n",
       "  </tbody>\n",
       "</table>\n",
       "<p>5 rows × 223 columns</p>\n",
       "</div>"
      ],
      "text/plain": [
       "    goal          id  launched_at  staff_pick  alexa_rank  creator_projects  \\\n",
       "0   5000  1203770415   1491540705           0       548.0               1.0   \n",
       "1   3382   878861613   1509893074           0       528.0               1.0   \n",
       "2   6850   917345297   1427147079           0         NaN               1.0   \n",
       "3  40000  1702164653   1487077744           1       589.0               1.0   \n",
       "4   2000  1042930184   1507662001           0       503.0               1.0   \n",
       "\n",
       "   state  creLauDelta  art  cameragear  ...  VE  VI  VN  VU  WS  XK  YE  ZA  \\\n",
       "0      0         19.0    0           0  ...   0   0   0   0   0   0   0   0   \n",
       "1      1         16.0    0           0  ...   0   0   0   0   0   0   0   0   \n",
       "2      1          7.0    0           0  ...   0   0   0   0   0   0   0   0   \n",
       "3      1         49.0    0           0  ...   0   0   0   0   0   0   0   0   \n",
       "4      1         16.0    0           0  ...   0   0   0   0   0   0   0   0   \n",
       "\n",
       "   ZM  ZW  \n",
       "0   0   0  \n",
       "1   0   0  \n",
       "2   0   0  \n",
       "3   0   0  \n",
       "4   0   0  \n",
       "\n",
       "[5 rows x 223 columns]"
      ]
     },
     "execution_count": 90,
     "metadata": {},
     "output_type": "execute_result"
    }
   ],
   "source": [
    "dummies1 = pd.get_dummies(kickModel['category'], columns = 'category')\n",
    "dummies2 = pd.get_dummies(kickModel['country'], columns = 'country')\n",
    "kickModel = pd.concat([kickModel, dummies1], axis = 1)\n",
    "kickModel = pd.concat([kickModel, dummies2], axis = 1)\n",
    "kickModel.drop(labels = ['category', 'country'], axis = 1, inplace = True)\n",
    "kickModel.head()"
   ]
  },
  {
   "cell_type": "code",
   "execution_count": 109,
   "metadata": {},
   "outputs": [
    {
     "data": {
      "text/plain": [
       "543.9685947211547"
      ]
     },
     "execution_count": 109,
     "metadata": {},
     "output_type": "execute_result"
    }
   ],
   "source": [
    "np.mean(kickModel['alexa_rank'])"
   ]
  },
  {
   "cell_type": "code",
   "execution_count": 91,
   "metadata": {},
   "outputs": [],
   "source": [
    "kickModel = kickModel.fillna(value = np.mean(kickModel['alexa_rank']), axis = 0)"
   ]
  },
  {
   "cell_type": "code",
   "execution_count": 92,
   "metadata": {},
   "outputs": [
    {
     "name": "stderr",
     "output_type": "stream",
     "text": [
      "/Users/chrismay/anaconda3/lib/python3.7/site-packages/sklearn/preprocessing/data.py:334: DataConversionWarning: Data with input dtype uint8, uint32, int64, float64 were all converted to float64 by MinMaxScaler.\n",
      "  return self.partial_fit(X, y)\n",
      "/Users/chrismay/anaconda3/lib/python3.7/site-packages/sklearn/linear_model/logistic.py:433: FutureWarning: Default solver will be changed to 'lbfgs' in 0.22. Specify a solver to silence this warning.\n",
      "  FutureWarning)\n",
      "/Users/chrismay/anaconda3/lib/python3.7/site-packages/sklearn/utils/validation.py:761: DataConversionWarning: A column-vector y was passed when a 1d array was expected. Please change the shape of y to (n_samples, ), for example using ravel().\n",
      "  y = column_or_1d(y, warn=True)\n"
     ]
    },
    {
     "data": {
      "text/plain": [
       "LogisticRegression(C=1.0, class_weight=None, dual=False, fit_intercept=True,\n",
       "          intercept_scaling=1, max_iter=100, multi_class='warn',\n",
       "          n_jobs=None, penalty='l2', random_state=None, solver='warn',\n",
       "          tol=0.0001, verbose=0, warm_start=False)"
      ]
     },
     "execution_count": 92,
     "metadata": {},
     "output_type": "execute_result"
    }
   ],
   "source": [
    "X = kickModel.loc[:, kickModel.columns != 'state']\n",
    "y = kickModel.loc[:, kickModel.columns == 'state']\n",
    "\n",
    "#Use a MinMax scaler to standardize features\n",
    "scaler = MinMaxScaler(feature_range = (0,1))\n",
    "\n",
    "X_train, X_test, y_train, y_test = train_test_split(X, y, test_size=0.3, random_state=0)\n",
    "logreg = LogisticRegression()\n",
    "\n",
    "scaler.fit(X_train)\n",
    "\n",
    "X_train = scaler.transform(X_train)\n",
    "X_test = scaler.transform(X_test)\n",
    "\n",
    "logreg.fit(X_train, y_train)"
   ]
  },
  {
   "cell_type": "code",
   "execution_count": 93,
   "metadata": {},
   "outputs": [
    {
     "name": "stdout",
     "output_type": "stream",
     "text": [
      "Accuracy of logistic regression classifier on test set: 0.71\n"
     ]
    }
   ],
   "source": [
    "y_pred = logreg.predict(X_test)\n",
    "print('Accuracy of logistic regression classifier on test set: {:.2f}'.format(logreg.score(X_test, y_test)))"
   ]
  },
  {
   "cell_type": "code",
   "execution_count": 94,
   "metadata": {},
   "outputs": [
    {
     "data": {
      "text/plain": [
       "array([[ 8577,  9326],\n",
       "       [ 3819, 24278]])"
      ]
     },
     "execution_count": 94,
     "metadata": {},
     "output_type": "execute_result"
    }
   ],
   "source": [
    "cm = confusion_matrix(y_test, y_pred)\n",
    "cm"
   ]
  },
  {
   "cell_type": "code",
   "execution_count": 95,
   "metadata": {},
   "outputs": [
    {
     "data": {
      "image/png": "[encoded data removed]",
      "text/plain": [
       "<Figure size 432x288 with 1 Axes>"
      ]
     },
     "metadata": {
      "needs_background": "light"
     },
     "output_type": "display_data"
    }
   ],
   "source": [
    "logit_roc_auc = roc_auc_score(y_test, logreg.predict(X_test))\n",
    "fpr, tpr, thresholds = roc_curve(y_test, logreg.predict_proba(X_test)[:,1])\n",
    "plt.figure()\n",
    "plt.plot(fpr, tpr, label='Logistic Regression (area = %0.2f)' % logit_roc_auc)\n",
    "plt.plot([0, 1], [0, 1],'r--')\n",
    "plt.xlim([0.0, 1.0])\n",
    "plt.ylim([0.0, 1.05])\n",
    "plt.xlabel('False Positive Rate')\n",
    "plt.ylabel('True Positive Rate')\n",
    "plt.title('Receiver operating characteristic')\n",
    "plt.legend(loc=\"lower right\")\n",
    "plt.savefig('Log_ROC')\n",
    "plt.show()"
   ]
  },
  {
   "cell_type": "code",
   "execution_count": 102,
   "metadata": {},
   "outputs": [
    {
     "data": {
      "text/plain": [
       "array([[-2.41863507e+01, -3.33639026e-03, -7.31764195e-01,\n",
       "         2.12879652e+00,  9.34113672e-01,  1.62700111e+01,\n",
       "         1.04298550e+00,  2.00661793e-02,  0.00000000e+00,\n",
       "         5.96053907e-01, -5.40723508e-01,  0.00000000e+00,\n",
       "         9.88950522e-01,  2.73933684e-01,  0.00000000e+00,\n",
       "         0.00000000e+00,  9.91223796e-02,  2.96035627e-01,\n",
       "        -9.56077477e-01,  2.00395567e-01,  0.00000000e+00,\n",
       "         0.00000000e+00, -9.50371469e-01,  0.00000000e+00,\n",
       "         6.02360203e-01, -6.46494938e-01,  0.00000000e+00,\n",
       "         5.57588003e-01, -5.72547721e-01,  4.01932735e-01,\n",
       "         0.00000000e+00, -1.39145271e+00,  6.64741084e-01,\n",
       "         2.21386428e-01,  7.75564304e-02, -1.26657481e-01,\n",
       "         1.32255006e+00,  4.05222180e-02, -2.18981491e-01,\n",
       "        -2.19080262e-01,  7.02399611e-01,  0.00000000e+00,\n",
       "        -1.42608264e-01,  2.68204630e-01,  2.48707908e-01,\n",
       "        -3.76440230e-01, -3.05515406e-01, -1.65229507e-01,\n",
       "        -3.34587314e-01, -2.29756697e-01, -3.86435402e-01,\n",
       "        -9.95767588e-01,  7.14604381e-01, -9.60295606e-01,\n",
       "        -1.19613686e+00, -5.49985278e-01, -7.60099330e-02,\n",
       "         5.91018598e-01, -5.67549628e-02,  2.42297219e-02,\n",
       "         1.40389225e-01, -4.37726330e-01, -2.39577584e-01,\n",
       "        -6.15647502e-01,  5.69036113e-01, -7.51351880e-01,\n",
       "         3.02255634e-01,  1.00775940e-01,  0.00000000e+00,\n",
       "        -9.07457415e-02, -7.92248591e-01,  4.23280872e-01,\n",
       "        -3.63855222e-01,  0.00000000e+00,  1.40653160e-01,\n",
       "         1.25828801e-02, -6.84559239e-01, -6.62544391e-01,\n",
       "        -6.61429682e-02,  1.93373705e-01, -4.96791453e-02,\n",
       "        -2.78660543e-01, -2.02788284e-02,  7.81292321e-01,\n",
       "        -3.80281092e-02, -1.85559633e-01,  3.83467639e-01,\n",
       "         3.18491105e-03,  6.97030918e-02, -1.77274795e-01,\n",
       "         6.50273199e-01, -3.68168726e-01,  5.29910287e-01,\n",
       "         4.14102777e-01, -1.09330854e-02, -1.99253023e-01,\n",
       "         5.10876457e-02,  3.72917368e-01,  4.57854943e-01,\n",
       "        -8.04449588e-02,  3.69816165e-01,  8.35530987e-01,\n",
       "         1.07983675e+00,  1.89221903e-02, -1.16725976e-01,\n",
       "         3.39500882e-02,  8.91172271e-01, -2.30134899e-01,\n",
       "         4.72341414e-01,  1.92550305e-01,  2.30164836e-01,\n",
       "        -3.39869238e-01,  1.37978643e+00, -8.27737073e-01,\n",
       "        -9.87311088e-01,  8.51389748e-01,  2.16094479e-01,\n",
       "         8.38572490e-01, -3.23639229e-01,  1.30919610e+00,\n",
       "         3.14500883e-01, -2.81212004e-01, -6.73282879e-01,\n",
       "         1.07048341e-01, -6.90003709e-01,  8.60722987e-02,\n",
       "        -5.36024736e-02,  1.19169975e-01,  2.90285640e-01,\n",
       "        -2.76872021e-01,  2.33067786e-01, -5.44225231e-01,\n",
       "         3.31509463e-01, -5.98001258e-01,  6.68869086e-01,\n",
       "        -9.56310533e-01, -2.31209561e-01, -1.77336412e-01,\n",
       "        -8.47540010e-01,  4.45374742e-01, -4.32462616e-02,\n",
       "         7.76479655e-01,  3.22215518e-01,  7.11999744e-01,\n",
       "         4.64500862e-01, -2.79990035e-01,  2.98041296e-01,\n",
       "        -9.09256749e-02,  5.29118523e-01,  0.00000000e+00,\n",
       "         2.41723374e-01, -5.72000809e-01,  6.14068863e-03,\n",
       "        -5.12118342e-01, -2.69595401e-01, -3.88214935e-01,\n",
       "        -5.78518701e-01,  1.00173425e+00, -3.87311137e-01,\n",
       "        -4.23283701e-01,  4.95285385e-01, -9.38112345e-02,\n",
       "         3.87426928e-01,  1.87311510e-01, -9.21059410e-01,\n",
       "        -1.58729427e-01, -3.68934534e-01, -4.30826469e-01,\n",
       "        -1.45729459e-01,  1.28871580e-01, -9.88983493e-01,\n",
       "        -7.19731217e-02, -1.90963023e-01, -2.13752865e-01,\n",
       "         4.82040575e-01, -3.76593445e-01,  2.55332811e-01,\n",
       "        -6.11324694e-02,  4.77961543e-01,  0.00000000e+00,\n",
       "         5.16033455e-01,  1.20317643e-02,  3.46396704e-01,\n",
       "         3.35583065e-01,  7.61385656e-01, -7.62933606e-01,\n",
       "         7.41639408e-01, -8.45924059e-02, -2.26858462e-01,\n",
       "         2.56231201e-02,  4.73505425e-01, -8.96223949e-01,\n",
       "         0.00000000e+00,  4.54907862e-01,  2.90739438e-01,\n",
       "        -5.05049846e-01,  3.30866465e-02, -2.86567085e-01,\n",
       "         1.98167326e-01,  2.26805203e-01,  5.57431478e-01,\n",
       "        -8.93010234e-02, -3.99996508e-01, -7.60261493e-01,\n",
       "         8.57914849e-01,  5.24595188e-02, -2.11757829e-01,\n",
       "         2.75206788e-01, -1.84785694e-02,  8.84093736e-02,\n",
       "        -4.39367915e-01, -2.80269779e-02, -8.90454304e-01,\n",
       "         3.38637510e-01, -2.75015356e-01,  6.47116938e-01,\n",
       "         0.00000000e+00,  4.99524980e-01,  5.60015810e-01,\n",
       "        -3.57834001e-01,  6.55642204e-01, -7.80082474e-01]])"
      ]
     },
     "execution_count": 102,
     "metadata": {},
     "output_type": "execute_result"
    }
   ],
   "source": [
    "logreg.coef_"
   ]
  },
  {
   "cell_type": "code",
   "execution_count": 118,
   "metadata": {},
   "outputs": [
    {
     "data": {
      "text/html": [
       "<div>\n",
       "<style scoped>\n",
       "    .dataframe tbody tr th:only-of-type {\n",
       "        vertical-align: middle;\n",
       "    }\n",
       "\n",
       "    .dataframe tbody tr th {\n",
       "        vertical-align: top;\n",
       "    }\n",
       "\n",
       "    .dataframe thead th {\n",
       "        text-align: right;\n",
       "    }\n",
       "</style>\n",
       "<table border=\"1\" class=\"dataframe\">\n",
       "  <thead>\n",
       "    <tr style=\"text-align: right;\">\n",
       "      <th></th>\n",
       "      <th>goal</th>\n",
       "      <th>id</th>\n",
       "      <th>launched_at</th>\n",
       "      <th>rank</th>\n",
       "      <th>staff_pick</th>\n",
       "      <th>state</th>\n",
       "      <th>category</th>\n",
       "    </tr>\n",
       "  </thead>\n",
       "  <tbody>\n",
       "    <tr>\n",
       "      <th>181302</th>\n",
       "      <td>10041</td>\n",
       "      <td>2397370</td>\n",
       "      <td>1531627200</td>\n",
       "      <td>2078.000000</td>\n",
       "      <td>1</td>\n",
       "      <td>1</td>\n",
       "      <td>crafts</td>\n",
       "    </tr>\n",
       "    <tr>\n",
       "      <th>181303</th>\n",
       "      <td>37043</td>\n",
       "      <td>2393782</td>\n",
       "      <td>1531195200</td>\n",
       "      <td>2104.000000</td>\n",
       "      <td>1</td>\n",
       "      <td>1</td>\n",
       "      <td>health&amp;fitness</td>\n",
       "    </tr>\n",
       "    <tr>\n",
       "      <th>181304</th>\n",
       "      <td>3000</td>\n",
       "      <td>413752</td>\n",
       "      <td>1369800000</td>\n",
       "      <td>1826.354635</td>\n",
       "      <td>0</td>\n",
       "      <td>1</td>\n",
       "      <td>comics</td>\n",
       "    </tr>\n",
       "    <tr>\n",
       "      <th>181305</th>\n",
       "      <td>28937</td>\n",
       "      <td>2276585</td>\n",
       "      <td>1513141200</td>\n",
       "      <td>1872.000000</td>\n",
       "      <td>0</td>\n",
       "      <td>1</td>\n",
       "      <td>crafts</td>\n",
       "    </tr>\n",
       "    <tr>\n",
       "      <th>181306</th>\n",
       "      <td>2641</td>\n",
       "      <td>2352230</td>\n",
       "      <td>1521086400</td>\n",
       "      <td>2179.000000</td>\n",
       "      <td>1</td>\n",
       "      <td>1</td>\n",
       "      <td>crafts</td>\n",
       "    </tr>\n",
       "  </tbody>\n",
       "</table>\n",
       "</div>"
      ],
      "text/plain": [
       "         goal       id  launched_at         rank  staff_pick  state  \\\n",
       "181302  10041  2397370   1531627200  2078.000000           1      1   \n",
       "181303  37043  2393782   1531195200  2104.000000           1      1   \n",
       "181304   3000   413752   1369800000  1826.354635           0      1   \n",
       "181305  28937  2276585   1513141200  1872.000000           0      1   \n",
       "181306   2641  2352230   1521086400  2179.000000           1      1   \n",
       "\n",
       "              category  \n",
       "181302          crafts  \n",
       "181303  health&fitness  \n",
       "181304          comics  \n",
       "181305          crafts  \n",
       "181306          crafts  "
      ]
     },
     "execution_count": 118,
     "metadata": {},
     "output_type": "execute_result"
    }
   ],
   "source": [
    "# Make a new dataframe with only the columns that we'll use for modeling\n",
    "indieModel = pd.DataFrame()\n",
    "indieModel['goal'] = indie['goal']\n",
    "indieModel['id'] = indie['id']\n",
    "indieModel['launched_at'] = indie['launched_at']\n",
    "indieModel['rank'] = indie['Rank']\n",
    "indieModel['staff_pick'] = indie['staff_pick']\n",
    "indieModel['state'] = indie['state']\n",
    "indieModel['category'] = indie['fullcats']\n",
    "\n",
    "indieModel['rank'].fillna(value = np.mean(indieModel['rank']), axis = 0, inplace = True)\n",
    "indieModel['staff_pick'] = indieModel.apply(lambda x: int(x['staff_pick'] == True), axis = 1)\n",
    "indieModel['state'] = indieModel.apply(lambda x: int(x['state'] == 'successful'), axis = 1)\n",
    "indieModel.head()"
   ]
  },
  {
   "cell_type": "code",
   "execution_count": null,
   "metadata": {},
   "outputs": [],
   "source": []
  },
  {
   "cell_type": "code",
   "execution_count": null,
   "metadata": {},
   "outputs": [],
   "source": []
  },
  {
   "cell_type": "markdown",
   "metadata": {},
   "source": [
    "### Run the Staff_Picks Analysis on the IndieGoGo data to compare with Kickstarter"
   ]
  },
  {
   "cell_type": "code",
   "execution_count": 119,
   "metadata": {},
   "outputs": [
    {
     "data": {
      "text/html": [
       "<div>\n",
       "<style scoped>\n",
       "    .dataframe tbody tr th:only-of-type {\n",
       "        vertical-align: middle;\n",
       "    }\n",
       "\n",
       "    .dataframe tbody tr th {\n",
       "        vertical-align: top;\n",
       "    }\n",
       "\n",
       "    .dataframe thead th {\n",
       "        text-align: right;\n",
       "    }\n",
       "</style>\n",
       "<table border=\"1\" class=\"dataframe\">\n",
       "  <thead>\n",
       "    <tr style=\"text-align: right;\">\n",
       "      <th></th>\n",
       "      <th>goal</th>\n",
       "      <th>id</th>\n",
       "      <th>launched_at</th>\n",
       "      <th>rank</th>\n",
       "      <th>staff_pick</th>\n",
       "      <th>state</th>\n",
       "      <th>art</th>\n",
       "      <th>cameragear</th>\n",
       "      <th>comics</th>\n",
       "      <th>crafts</th>\n",
       "      <th>...</th>\n",
       "      <th>human_rights</th>\n",
       "      <th>journalism</th>\n",
       "      <th>local_businesses</th>\n",
       "      <th>music</th>\n",
       "      <th>photography</th>\n",
       "      <th>productivity</th>\n",
       "      <th>publishing</th>\n",
       "      <th>technology</th>\n",
       "      <th>theater</th>\n",
       "      <th>travel&amp;outdoors</th>\n",
       "    </tr>\n",
       "  </thead>\n",
       "  <tbody>\n",
       "    <tr>\n",
       "      <th>181302</th>\n",
       "      <td>10041</td>\n",
       "      <td>2397370</td>\n",
       "      <td>1531627200</td>\n",
       "      <td>2078.000000</td>\n",
       "      <td>1</td>\n",
       "      <td>1</td>\n",
       "      <td>0</td>\n",
       "      <td>0</td>\n",
       "      <td>0</td>\n",
       "      <td>1</td>\n",
       "      <td>...</td>\n",
       "      <td>0</td>\n",
       "      <td>0</td>\n",
       "      <td>0</td>\n",
       "      <td>0</td>\n",
       "      <td>0</td>\n",
       "      <td>0</td>\n",
       "      <td>0</td>\n",
       "      <td>0</td>\n",
       "      <td>0</td>\n",
       "      <td>0</td>\n",
       "    </tr>\n",
       "    <tr>\n",
       "      <th>181303</th>\n",
       "      <td>37043</td>\n",
       "      <td>2393782</td>\n",
       "      <td>1531195200</td>\n",
       "      <td>2104.000000</td>\n",
       "      <td>1</td>\n",
       "      <td>1</td>\n",
       "      <td>0</td>\n",
       "      <td>0</td>\n",
       "      <td>0</td>\n",
       "      <td>0</td>\n",
       "      <td>...</td>\n",
       "      <td>0</td>\n",
       "      <td>0</td>\n",
       "      <td>0</td>\n",
       "      <td>0</td>\n",
       "      <td>0</td>\n",
       "      <td>0</td>\n",
       "      <td>0</td>\n",
       "      <td>0</td>\n",
       "      <td>0</td>\n",
       "      <td>0</td>\n",
       "    </tr>\n",
       "    <tr>\n",
       "      <th>181304</th>\n",
       "      <td>3000</td>\n",
       "      <td>413752</td>\n",
       "      <td>1369800000</td>\n",
       "      <td>1826.354635</td>\n",
       "      <td>0</td>\n",
       "      <td>1</td>\n",
       "      <td>0</td>\n",
       "      <td>0</td>\n",
       "      <td>1</td>\n",
       "      <td>0</td>\n",
       "      <td>...</td>\n",
       "      <td>0</td>\n",
       "      <td>0</td>\n",
       "      <td>0</td>\n",
       "      <td>0</td>\n",
       "      <td>0</td>\n",
       "      <td>0</td>\n",
       "      <td>0</td>\n",
       "      <td>0</td>\n",
       "      <td>0</td>\n",
       "      <td>0</td>\n",
       "    </tr>\n",
       "    <tr>\n",
       "      <th>181305</th>\n",
       "      <td>28937</td>\n",
       "      <td>2276585</td>\n",
       "      <td>1513141200</td>\n",
       "      <td>1872.000000</td>\n",
       "      <td>0</td>\n",
       "      <td>1</td>\n",
       "      <td>0</td>\n",
       "      <td>0</td>\n",
       "      <td>0</td>\n",
       "      <td>1</td>\n",
       "      <td>...</td>\n",
       "      <td>0</td>\n",
       "      <td>0</td>\n",
       "      <td>0</td>\n",
       "      <td>0</td>\n",
       "      <td>0</td>\n",
       "      <td>0</td>\n",
       "      <td>0</td>\n",
       "      <td>0</td>\n",
       "      <td>0</td>\n",
       "      <td>0</td>\n",
       "    </tr>\n",
       "    <tr>\n",
       "      <th>181306</th>\n",
       "      <td>2641</td>\n",
       "      <td>2352230</td>\n",
       "      <td>1521086400</td>\n",
       "      <td>2179.000000</td>\n",
       "      <td>1</td>\n",
       "      <td>1</td>\n",
       "      <td>0</td>\n",
       "      <td>0</td>\n",
       "      <td>0</td>\n",
       "      <td>1</td>\n",
       "      <td>...</td>\n",
       "      <td>0</td>\n",
       "      <td>0</td>\n",
       "      <td>0</td>\n",
       "      <td>0</td>\n",
       "      <td>0</td>\n",
       "      <td>0</td>\n",
       "      <td>0</td>\n",
       "      <td>0</td>\n",
       "      <td>0</td>\n",
       "      <td>0</td>\n",
       "    </tr>\n",
       "  </tbody>\n",
       "</table>\n",
       "<p>5 rows × 30 columns</p>\n",
       "</div>"
      ],
      "text/plain": [
       "         goal       id  launched_at         rank  staff_pick  state  art  \\\n",
       "181302  10041  2397370   1531627200  2078.000000           1      1    0   \n",
       "181303  37043  2393782   1531195200  2104.000000           1      1    0   \n",
       "181304   3000   413752   1369800000  1826.354635           0      1    0   \n",
       "181305  28937  2276585   1513141200  1872.000000           0      1    0   \n",
       "181306   2641  2352230   1521086400  2179.000000           1      1    0   \n",
       "\n",
       "        cameragear  comics  crafts  ...  human_rights  journalism  \\\n",
       "181302           0       0       1  ...             0           0   \n",
       "181303           0       0       0  ...             0           0   \n",
       "181304           0       1       0  ...             0           0   \n",
       "181305           0       0       1  ...             0           0   \n",
       "181306           0       0       1  ...             0           0   \n",
       "\n",
       "        local_businesses  music  photography  productivity  publishing  \\\n",
       "181302                 0      0            0             0           0   \n",
       "181303                 0      0            0             0           0   \n",
       "181304                 0      0            0             0           0   \n",
       "181305                 0      0            0             0           0   \n",
       "181306                 0      0            0             0           0   \n",
       "\n",
       "        technology  theater  travel&outdoors  \n",
       "181302           0        0                0  \n",
       "181303           0        0                0  \n",
       "181304           0        0                0  \n",
       "181305           0        0                0  \n",
       "181306           0        0                0  \n",
       "\n",
       "[5 rows x 30 columns]"
      ]
     },
     "execution_count": 119,
     "metadata": {},
     "output_type": "execute_result"
    }
   ],
   "source": [
    "dummies1 = pd.get_dummies(indieModel['category'], columns = 'category')\n",
    "indieModel = pd.concat([indieModel, dummies1], axis = 1)\n",
    "indieModel.drop(labels = ['category'], axis = 1, inplace = True)\n",
    "indieModel.head()"
   ]
  },
  {
   "cell_type": "code",
   "execution_count": 120,
   "metadata": {},
   "outputs": [
    {
     "name": "stderr",
     "output_type": "stream",
     "text": [
      "/Users/chrismay/anaconda3/lib/python3.7/site-packages/sklearn/preprocessing/data.py:334: DataConversionWarning: Data with input dtype uint8, uint32, int64, float64 were all converted to float64 by MinMaxScaler.\n",
      "  return self.partial_fit(X, y)\n",
      "/Users/chrismay/anaconda3/lib/python3.7/site-packages/sklearn/linear_model/logistic.py:433: FutureWarning: Default solver will be changed to 'lbfgs' in 0.22. Specify a solver to silence this warning.\n",
      "  FutureWarning)\n",
      "/Users/chrismay/anaconda3/lib/python3.7/site-packages/sklearn/utils/validation.py:761: DataConversionWarning: A column-vector y was passed when a 1d array was expected. Please change the shape of y to (n_samples, ), for example using ravel().\n",
      "  y = column_or_1d(y, warn=True)\n"
     ]
    },
    {
     "data": {
      "text/plain": [
       "LogisticRegression(C=1.0, class_weight=None, dual=False, fit_intercept=True,\n",
       "          intercept_scaling=1, max_iter=100, multi_class='warn',\n",
       "          n_jobs=None, penalty='l2', random_state=None, solver='warn',\n",
       "          tol=0.0001, verbose=0, warm_start=False)"
      ]
     },
     "execution_count": 120,
     "metadata": {},
     "output_type": "execute_result"
    }
   ],
   "source": [
    "X = indieModel.loc[:, indieModel.columns != 'state']\n",
    "y = indieModel.loc[:, indieModel.columns == 'state']\n",
    "\n",
    "#Use a MinMax scaler to standardize features\n",
    "scaler = MinMaxScaler(feature_range = (0,1))\n",
    "\n",
    "X_train, X_test, y_train, y_test = train_test_split(X, y, test_size=0.3, random_state=0)\n",
    "logreg = LogisticRegression()\n",
    "\n",
    "scaler.fit(X_train)\n",
    "\n",
    "X_train = scaler.transform(X_train)\n",
    "X_test = scaler.transform(X_test)\n",
    "\n",
    "logreg.fit(X_train, y_train)"
   ]
  },
  {
   "cell_type": "code",
   "execution_count": 121,
   "metadata": {},
   "outputs": [
    {
     "name": "stdout",
     "output_type": "stream",
     "text": [
      "Accuracy of logistic regression classifier on test set: 0.76\n"
     ]
    }
   ],
   "source": [
    "y_pred = logreg.predict(X_test)\n",
    "print('Accuracy of logistic regression classifier on test set: {:.2f}'.format(logreg.score(X_test, y_test)))"
   ]
  },
  {
   "cell_type": "code",
   "execution_count": 122,
   "metadata": {},
   "outputs": [
    {
     "data": {
      "text/plain": [
       "array([[3105,   65],\n",
       "       [1097,  497]])"
      ]
     },
     "execution_count": 122,
     "metadata": {},
     "output_type": "execute_result"
    }
   ],
   "source": [
    "cm = confusion_matrix(y_test, y_pred)\n",
    "cm"
   ]
  },
  {
   "cell_type": "code",
   "execution_count": 123,
   "metadata": {},
   "outputs": [
    {
     "data": {
      "image/png": "[encoded data removed]",
      "text/plain": [
       "<Figure size 432x288 with 1 Axes>"
      ]
     },
     "metadata": {
      "needs_background": "light"
     },
     "output_type": "display_data"
    }
   ],
   "source": [
    "logit_roc_auc = roc_auc_score(y_test, logreg.predict(X_test))\n",
    "fpr, tpr, thresholds = roc_curve(y_test, logreg.predict_proba(X_test)[:,1])\n",
    "plt.figure()\n",
    "plt.plot(fpr, tpr, label='Logistic Regression (area = %0.2f)' % logit_roc_auc)\n",
    "plt.plot([0, 1], [0, 1],'r--')\n",
    "plt.xlim([0.0, 1.0])\n",
    "plt.ylim([0.0, 1.05])\n",
    "plt.xlabel('False Positive Rate')\n",
    "plt.ylabel('True Positive Rate')\n",
    "plt.title('Receiver operating characteristic')\n",
    "plt.legend(loc=\"lower right\")\n",
    "plt.savefig('Log_ROC')\n",
    "plt.show()"
   ]
  },
  {
   "cell_type": "code",
   "execution_count": 124,
   "metadata": {},
   "outputs": [
    {
     "data": {
      "text/plain": [
       "array([[-2.40707704,  2.63348129, -2.81277475, -0.80094056,  5.05053048,\n",
       "         0.11633502,  0.49217604,  0.19881188,  0.78070086, -0.63025705,\n",
       "         0.02987283,  0.        , -0.54652577, -0.26643328,  0.53496728,\n",
       "        -0.68283542, -0.38730655, -0.01199892, -0.03134224, -0.50150005,\n",
       "        -0.37002587, -0.29915689,  0.1431534 , -0.25012839, -0.06030602,\n",
       "         0.33465684,  0.30173582,  0.        ,  0.89041986]])"
      ]
     },
     "execution_count": 124,
     "metadata": {},
     "output_type": "execute_result"
    }
   ],
   "source": [
    "logreg.coef_"
   ]
  },
  {
   "cell_type": "code",
   "execution_count": null,
   "metadata": {},
   "outputs": [],
   "source": []
  }
 ],
 "metadata": {
  "kernelspec": {
   "display_name": "Python 3",
   "language": "python",
   "name": "python3"
  },
  "language_info": {
   "codemirror_mode": {
    "name": "ipython",
    "version": 3
   },
   "file_extension": ".py",
   "mimetype": "text/x-python",
   "name": "python",
   "nbconvert_exporter": "python",
   "pygments_lexer": "ipython3",
   "version": "3.7.3"
  }
 },
 "nbformat": 4,
 "nbformat_minor": 2
}
