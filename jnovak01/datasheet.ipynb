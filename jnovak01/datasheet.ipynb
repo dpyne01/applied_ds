{
 "cells": [
  {
   "cell_type": "markdown",
   "metadata": {},
   "source": [
    "# Datasheet for Bigfoot Sightings Dataset\n",
    "Julia Novakoff\n",
    "\n",
    "Applied Data Science"
   ]
  },
  {
   "cell_type": "markdown",
   "metadata": {},
   "source": [
    "## Motivation for Dataset Creation\n",
    "\n",
    "### Why was the dataset created?\n",
    "The compiled dataset of Bigfoot sighting reports concatenated with location and weather data was created to analyze and map geographical trends in Bigfoot sightings.\n",
    "### What (other) tasks could the dataset be used for?\n",
    "While the dataset was not created by individuals searching for Bigfoot, one obvious implication could be to track down Bigfoot based on past sightings.  \n",
    "The dataset should not be used to track down individuals making reports of Bigfoot sightings, and there are no names associated with the individual reports.\n",
    "### Has the dataset been used for any tasks already?\n",
    "This dataset has been used to derive geographical trends and insights in Bigfoot sightings. The creator of the dataset published a blog post detailing his work with the dataset: https://timothyrenner.github.io/datascience/2017/06/30/finding-bigfoot.html\n",
    "\n",
    "### Who funded the creation of the dataset?\n",
    "No direct funding for the creation of this dataset. \n",
    "\n"
   ]
  },
  {
   "cell_type": "markdown",
   "metadata": {},
   "source": [
    "## Dataset Composition\n",
    "### What are the instances?\n",
    "Each instance is a Bigfoot sighting report scraped from the BFRO website.  It contains the full-text report along with other associated data, including location and weather.  \n",
    "\n",
    "### Are relationships between instances made explicit in the data?\n",
    "Because each report is treated as a discrete instance, there are no explicit relationships between them in the dataset.  While relationships may exist between the individual reports, they are not made clear in the data.\n",
    "\n",
    "### How many instances of each type are there?\n",
    "There are 4,586 Bigfoot sighting reports.\n",
    "\n",
    "### What data does each instance consist of?\n",
    "Each instance consists of full text of the report, description of location details, county, state, title of report, latitude, longitude, date, report number, report classification and geohash.  Each report is concatenated with weather data that includes for each instance: high, middle, and low temperature, dew point, humidity, cloud cover, moon phase, precipitation intensity, precipitation probability, precipitation type, pressure, UV index, visibility, wind bearing, wind speed, and summary of weather.   \n",
    "\n",
    "### Is everything included or does the data rely on external resources?\n",
    "Everything is included.\n",
    "\n",
    "### Are there recommended data splits or evaluation measures?\n",
    "Unknown.\n",
    "\n",
    "### What experiments were initially run on this dataset?\n",
    "The creator of the dataset published a blog post detailing his work with the dataset: https://timothyrenner.github.io/datascience/2017/06/30/finding-bigfoot.html\n"
   ]
  },
  {
   "cell_type": "markdown",
   "metadata": {},
   "source": [
    "## Data Collection Process\n",
    "### How was the data collected?\n",
    "The reports were scraped from the BFRO website www.bfro.net.  The weather conditions were powered by Dark Sky API.\n",
    "Code for pulling the data can be found here: https://github.com/timothyrenner/bfro_sightings_data\n",
    "\n",
    "### Who was involved in the data collection process?\n",
    "Timothy Renner is the sole contributor to the collection of this dataset.\n",
    "\n",
    "### Over what time-frame was the data collected?\n",
    "The BFRO database has been in existence since 1995, but the reports date back to the 1920’s.  \n",
    "\n",
    "### How was the data associated with each instance acquired?\n",
    "The reports were submitted as form responses by individuals.  The weather data was acquired via Dark Sky API. \n",
    "\n",
    "### Does the dataset contain all possible instances?\n",
    "Yes. It is not a sample of a larger set of reports.  However, it only contains instances of reports entered in this particular database. \n",
    "\n",
    "### Is there information missing from the dataset and why?\n",
    "Yes. Some reports exclude information for privacy reasons. \n",
    "\n",
    "### Are there any known errors, sources of noise, or redundancies in the data?\n",
    "None are known."
   ]
  },
  {
   "cell_type": "markdown",
   "metadata": {},
   "source": [
    "## Data Processing\n",
    "### What processing/cleaning was done?\n",
    "Minimal cleaning was done to remove invalid time and date entries.\n",
    "Each report instance was concatenated with associated weather conditions via the Dark Sky API.\n",
    "\n",
    "### Was the “raw” data saved in addition to the preprocessed/cleaned data?\n",
    "Yes. Original scrape can be found here: https://github.com/timothyrenner/bfro_sightings_data\n",
    "\n",
    "### Is the preprocessing software available?\n",
    "All of the code used in scraping and preprocessing is available here: https://github.com/timothyrenner/bfro_sightings_data\n",
    "\n",
    "### Does this dataset collection/processing procedure achieve the motivation for creating the dataset stated in the first section of this datasheet?\n",
    "Yes."
   ]
  },
  {
   "cell_type": "markdown",
   "metadata": {},
   "source": [
    "## Data Distribution\n",
    "### How is the dataset distributed?\n",
    "It is distributed via data.world at the following link: https://data.world/timothyrenner/bfro-sightings-data/workspace/file?filename=bfro_reports_geocoded.csv\n",
    "\n",
    "### When will the dataset be released/first distributed?\n",
    "The dataset has been released and distributed.\n",
    "\n",
    "### What license (if any) is it distributed under?\n",
    "MIT License - A short and simple permissive license with conditions only requiring preservation of copyright and license notices. Licensed works, modifications, and larger works may be distributed under different terms and without source code.\n",
    "\n",
    "### Are there any fees or access/export restrictions?\n",
    "None."
   ]
  },
  {
   "cell_type": "markdown",
   "metadata": {},
   "source": [
    "## Data Maintenance\n",
    "### Who is supporting/hosting/maintaining the dataset?\n",
    "The original creator of the dataset, Timothy Renner. \n",
    "\n",
    "### Will the dataset be updated?\n",
    "The dataset was last updated 12/2/17 and will be updated at the will of the original creator.\n",
    "\n",
    "### If the dataset becomes obsolete how will this be communicated?\n",
    "This is unclear.  It may either be communicated by the creator of the dataset, or by the BFRO.\n",
    "\n",
    "### Is there a repository link to any/all papers/systems that use this dataset?\n",
    "https://github.com/timothyrenner/bfro_sightings_data\n",
    "\n",
    "### If others want to extend/augment/build on this dataset, is there a mechanism for them to do so?\n",
    "Because the code for pulling the data was made available on github, others may use it to replicate/extend or build on the dataset.\n",
    "\n",
    "## Legal & Ethical Considerations\n",
    "\n",
    "### If the dataset relates to people or was generated by people, were they informed about the data collection?\n",
    "The dataset was created by people who were voluntarily submitting their data to be collected into a common database.\n",
    "\n",
    "### If it relates to other ethically protected subjects, have appropriate obligations been met?\n",
    "It is unclear if Bigfoot himself is aware that this data is being collected about him ;)\n",
    "\n",
    "### If it relates to people, were there any ethical review applications/reviews/approvals?\n",
    "None.\n",
    "\n",
    "### If it relates to people, were they told what the dataset would be used for and did they consent? What community norms exist for data collected from human communications?\n",
    "Because the data in the BFRO database is publicly available, people who contributed to it may not be aware of all uses of the dataset.  However, it is implied that they consent to uses of the data because they volunteered the information in pursuit of data collection and analysis being done regarding Bigfoot.\n",
    "\n",
    "### If it relates to people, could this dataset expose people to harm or legal action?\n",
    "No personal information is collected (i.e. name, address etc.) aside from what is volunteered in the text report.  Therefore, it is very unlikely that the data set could expose people to harm.\n",
    "\n",
    "### If it relates to people, dies it unfairly advantage or disadvantage a particular social group?\n",
    "No.  \n",
    "\n",
    "### If it relates to people, were they provided with privacy guarantees? \n",
    "No privacy guarantees were made, but people were not required to submit any personal information.\n",
    "\n",
    "### Does the dataset comply with the EU General Data Protection Regulation (GDPR)? \n",
    "The data only comes from North America, so GDPR does not apply.\n",
    "Does the dataset contain information that might be considered sensitive or confidential? \n",
    "The dataset does not contain any personally identifying information. \n",
    "\n",
    "### Does the dataset contain information that might be considered inappropriate or offensive? \n",
    "Information contained within the full-text reports of Bigfoot sightings may contain profanity or be considered inappropriate/offensive because it was submitted by individuals and not censored."
   ]
  },
  {
   "cell_type": "code",
   "execution_count": null,
   "metadata": {},
   "outputs": [],
   "source": []
  }
 ],
 "metadata": {
  "kernelspec": {
   "display_name": "Python 3",
   "language": "python",
   "name": "python3"
  },
  "language_info": {
   "codemirror_mode": {
    "name": "ipython",
    "version": 3
   },
   "file_extension": ".py",
   "mimetype": "text/x-python",
   "name": "python",
   "nbconvert_exporter": "python",
   "pygments_lexer": "ipython3",
   "version": "3.7.1"
  }
 },
 "nbformat": 4,
 "nbformat_minor": 2
}
