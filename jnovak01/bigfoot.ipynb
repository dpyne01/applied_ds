{
 "cells": [
  {
   "cell_type": "markdown",
   "metadata": {},
   "source": [
    "# Bigfoot, Big Data\n",
    "### Understanding Patterns in Bigfoot Sightings Using Data Analysis\n",
    "Julia Novakoff\n",
    "\n",
    "EM212: Applied Data Science\n",
    "\n",
    "## Introduction\n",
    "Bigfoot, the hairy, large-footed figure that lurks in the wilderness has fascinated people in North America for centuries.  Sightings of this legendary creature have been reported thousands upon thousands of times, and those who claim to have seen him have meticulously reported each instance.  Whether you are a believer or not, the wealth of data on Bigfoot sightings is fascinating.  This project will use data analysis to uncover patterns in Bigfoot sightings in an effort to provide data-driven insight into this cultural phenomenon.  \n",
    "\n",
    "Bigfoot Field Researchers Organization (BFRO) has collected a mass of Bigfoot sighting reports from North America dating back to 1921.1  Past analysis of this data has allowed us to see patterns in Bigfoot sightings geographically.  There are significant concentrations of Bigfoot sightings in the Pacific Northwest as well as Florida.2  Additionally, weather conditions, alcohol consumption, and the media have been investigated as potential drivers of Bigfoot sightings.3  This project aims to replicate some of the existing analysis on the data of Bigfoot sightings with some additional insights.  \n",
    "\n",
    "### The Data Set\n",
    "The Bigfoot Field Researchers Organization (BFRO) has accumulated the most extensive set of Bigfoot sighting reports.  It is the most trusted organization in research related to the Bigfoot mystery.  The dataset that will be used for this project was obtained from the following link: https://data.world/timothyrenner/bfro-sightings-data\n",
    "\n",
    "The dataset contains all full text reports scraped from the BFRO website joined with the location of each report and the weather conditions for each location at that particular time.  The dataset has been cleaned for invalid time values and latitude/longitude values.  The dataset contains many variables of interest, including full text of the report, date, latitude, longitude, temperature, cloud coverage, wind speed, precipitation, and moon phase.  \n"
   ]
  },
  {
   "cell_type": "code",
   "execution_count": 35,
   "metadata": {},
   "outputs": [],
   "source": [
    "import pandas as pd\n",
    "import seaborn as sns\n",
    "import matplotlib.pyplot as plt\n",
    "import matplotlib.mlab as mlab\n",
    "from scipy import stats\n",
    "from datetime import datetime\n",
    "import numpy as np\n",
    "\n",
    "bigfoot = pd.read_csv('./bfro_reports.csv')"
   ]
  },
  {
   "cell_type": "markdown",
   "metadata": {},
   "source": [
    "## Frequency of reports by state:\n",
    "plots number of reports by state for the top 10 most reported states"
   ]
  },
  {
   "cell_type": "code",
   "execution_count": 36,
   "metadata": {},
   "outputs": [
    {
     "data": {
      "text/plain": [
       "(array([0, 1, 2, 3, 4, 5, 6, 7, 8, 9]), <a list of 10 Text xticklabel objects>)"
      ]
     },
     "execution_count": 36,
     "metadata": {},
     "output_type": "execute_result"
    },
    {
     "data": {
      "image/png": "[encoded data removed]",
      "text/plain": [
       "<Figure size 432x288 with 1 Axes>"
      ]
     },
     "metadata": {
      "needs_background": "light"
     },
     "output_type": "display_data"
    }
   ],
   "source": [
    "bigfoot.state.value_counts().head(10).plot(kind='bar')\n",
    "plt.xticks(rotation=90, horizontalalignment='center')"
   ]
  },
  {
   "cell_type": "markdown",
   "metadata": {},
   "source": [
    "## Cleaning data - removing rows with no date value:\n",
    "Creates a new dataframe, df, that has removed all rows with null date values"
   ]
  },
  {
   "cell_type": "code",
   "execution_count": 37,
   "metadata": {},
   "outputs": [],
   "source": [
    "df = pd.DataFrame(bigfoot)\n",
    "df['date'].replace('', np.nan, inplace=True)\n",
    "df.dropna(subset=['date'], inplace=True)"
   ]
  },
  {
   "cell_type": "markdown",
   "metadata": {},
   "source": [
    "Creates a new column in the dataframe with the date values converted to datetime"
   ]
  },
  {
   "cell_type": "code",
   "execution_count": 38,
   "metadata": {},
   "outputs": [],
   "source": [
    "df['date_parsed'] = pd.to_datetime(df['date'], format = \"%Y/%m/%d\")"
   ]
  },
  {
   "cell_type": "code",
   "execution_count": 39,
   "metadata": {},
   "outputs": [],
   "source": [
    "counts_by_year = df['date_parsed'].dt.year.value_counts()\n",
    "counts_by_month = df['date_parsed'].dt.month.value_counts()"
   ]
  },
  {
   "cell_type": "markdown",
   "metadata": {},
   "source": [
    "# Frequency of reports by year\n",
    "Takes the number of reports for each year and plots frequency on a graph"
   ]
  },
  {
   "cell_type": "code",
   "execution_count": 40,
   "metadata": {},
   "outputs": [
    {
     "data": {
      "text/plain": [
       "[<matplotlib.lines.Line2D at 0x124c93e80>]"
      ]
     },
     "execution_count": 40,
     "metadata": {},
     "output_type": "execute_result"
    },
    {
     "data": {
      "image/png": "[encoded data removed]",
      "text/plain": [
       "<Figure size 432x288 with 1 Axes>"
      ]
     },
     "metadata": {
      "needs_background": "light"
     },
     "output_type": "display_data"
    }
   ],
   "source": [
    "plt.plot(counts_by_year, \"k+\")"
   ]
  },
  {
   "cell_type": "markdown",
   "metadata": {},
   "source": [
    "For the life of me I could not figure out how to make this show up properly as a line graph.  The lines connected horizontally instead of vertically, no clue why. But you can still see an interesting spike in bigfoot sightings after Y2K. The years with the most reports are 2004, 2005 and 2006."
   ]
  },
  {
   "cell_type": "markdown",
   "metadata": {},
   "source": [
    "## Analysis of Full-text reports\n",
    "\n",
    "removing data with null 'observed' values"
   ]
  },
  {
   "cell_type": "code",
   "execution_count": 41,
   "metadata": {},
   "outputs": [],
   "source": [
    "df2 = pd.DataFrame(df)\n",
    "df2['observed'].replace('', np.nan, inplace=True)\n",
    "df2.dropna(subset=['observed'], inplace=True)"
   ]
  },
  {
   "cell_type": "markdown",
   "metadata": {},
   "source": [
    "parsing each individual word and summing individual the word counts"
   ]
  },
  {
   "cell_type": "code",
   "execution_count": null,
   "metadata": {},
   "outputs": [],
   "source": [
    "reports = df2['observed'].str.lower()\n",
    "word_counts = reports.str.split(expand=True).stack().value_counts()\n",
    "word_counts.head(10)"
   ]
  },
  {
   "cell_type": "markdown",
   "metadata": {},
   "source": [
    "# Discussion\n",
    "\n",
    "## What this report includes\n",
    "### Data Cleaning\n",
    "I am proud of what I accomplished in under a week in terms of cleaning my data to make it more useful for analysis.  I learned how to parse the dates and words from full-text reports.  Considering what we have learned, it would have been impossible for me to get to all of the analysis in my project proposal, but I have learned a few useful skills that I can use to continue this work in the future.\n",
    "### Data Visualization\n",
    "While there was much more I wanted to do in terms of data visualization, I did manage to figure out how to create some basic plots that showed some interesting trends.\n",
    "\n",
    "## What this report does not include\n",
    "I did not end up getting to merge in an additional dataset. This dataset is already merged with weather data, so I did not have time to think through what dataset would be good to merge, and I did not find a suitable dataset online.  I also did not run a machine learning model because I never learned how."
   ]
  },
  {
   "cell_type": "code",
   "execution_count": null,
   "metadata": {},
   "outputs": [],
   "source": []
  }
 ],
 "metadata": {
  "kernelspec": {
   "display_name": "Python 3",
   "language": "python",
   "name": "python3"
  },
  "language_info": {
   "codemirror_mode": {
    "name": "ipython",
    "version": 3
   },
   "file_extension": ".py",
   "mimetype": "text/x-python",
   "name": "python",
   "nbconvert_exporter": "python",
   "pygments_lexer": "ipython3",
   "version": "3.7.1"
  }
 },
 "nbformat": 4,
 "nbformat_minor": 2
}
