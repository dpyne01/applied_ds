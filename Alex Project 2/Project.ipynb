{
 "cells": [
  {
   "cell_type": "markdown",
   "metadata": {},
   "source": [
    "# Project Report 2\n",
    "## EM 212: Applied Data Science\n",
    "## Alexander Christenson\n",
    "\n",
    "The goal of this assignment is to some exploratory data analysis, data cleaning, and merging a dataset.\n",
    "\n",
    "First I'm going to import the libraries we will use in our analysis and store our dataset as a pandas dataframe.\n",
    "\n",
    "The datasets I will be using are:\n",
    "\n",
    "A repository of all exchanges on bitcoin - including p2p trading volume - [DataHub.io](https://datahub.io/cryptocurrency/bitcoin).\n",
    "\n",
    "[Gemini.com](https://gemini.com/), a bitcoin exchange listing the price of bitcoin in one minute increments from October 2015 through April 2019.\n",
    "\n",
    "My goal for this early data analysis is to better understand the Gemini dataset, and I will combine it with the DataHub data of all the bitcoin transactions."
   ]
  },
  {
   "cell_type": "code",
   "execution_count": 1,
   "metadata": {},
   "outputs": [],
   "source": [
    "# Importing libraries from the EDA example\n",
    "import pandas as pd\n",
    "import numpy as np\n",
    "import seaborn as sns\n",
    "import warnings\n",
    "import statsmodels.formula.api as smf\n",
    "import scipy.stats as stats\n",
    "from sklearn.linear_model import Lasso\n",
    "import matplotlib.pyplot as plt\n",
    "warnings.filterwarnings('ignore')\n",
    "sns.set_context('talk')\n",
    "sns.set_style('darkgrid')\n",
    "sns.set_palette('colorblind')"
   ]
  },
  {
   "cell_type": "code",
   "execution_count": 2,
   "metadata": {},
   "outputs": [],
   "source": [
    "# Pulling the dataset for bitcoin prices\n",
    "BTC_trans = pd.read_csv(\"https://datahub.io/cryptocurrency/bitcoin/r/bitcoin.csv\")"
   ]
  },
  {
   "cell_type": "code",
   "execution_count": 3,
   "metadata": {},
   "outputs": [],
   "source": [
    "# Importing the data from exchange\n",
    "import Project_Data\n",
    "bitcoin_price_2015 = pd.read_csv(\"Project_Data/gemini_BTCUSD_2015_1min.csv\",skiprows=1)\n",
    "bitcoin_price_2016 = pd.read_csv(\"Project_Data/gemini_BTCUSD_2016_1min.csv\",skiprows=1)\n",
    "bitcoin_price_2017 = pd.read_csv(\"Project_Data/gemini_BTCUSD_2017_1min.csv\",skiprows=1)\n",
    "bitcoin_price_2018 = pd.read_csv(\"Project_Data/gemini_BTCUSD_2018_1min.csv\",skiprows=1)\n",
    "bitcoin_price_2019 = pd.read_csv(\"Project_Data/gemini_BTCUSD_2019_1min.csv\",skiprows=1)"
   ]
  },
  {
   "cell_type": "code",
   "execution_count": 4,
   "metadata": {},
   "outputs": [],
   "source": [
    "# Concatonate the yearly data together\n",
    "BTC_price = [bitcoin_price_2019,bitcoin_price_2018,bitcoin_price_2017,bitcoin_price_2016,bitcoin_price_2015]\n",
    "BTC_price = pd.concat(BTC_price).reset_index(drop=True)"
   ]
  },
  {
   "cell_type": "markdown",
   "metadata": {},
   "source": [
    "Let's examine the dataframe a little."
   ]
  },
  {
   "cell_type": "code",
   "execution_count": 5,
   "metadata": {},
   "outputs": [
    {
     "data": {
      "text/html": [
       "<div>\n",
       "<style scoped>\n",
       "    .dataframe tbody tr th:only-of-type {\n",
       "        vertical-align: middle;\n",
       "    }\n",
       "\n",
       "    .dataframe tbody tr th {\n",
       "        vertical-align: top;\n",
       "    }\n",
       "\n",
       "    .dataframe thead th {\n",
       "        text-align: right;\n",
       "    }\n",
       "</style>\n",
       "<table border=\"1\" class=\"dataframe\">\n",
       "  <thead>\n",
       "    <tr style=\"text-align: right;\">\n",
       "      <th></th>\n",
       "      <th>Unix Timestamp</th>\n",
       "      <th>Date</th>\n",
       "      <th>Symbol</th>\n",
       "      <th>Open</th>\n",
       "      <th>High</th>\n",
       "      <th>Low</th>\n",
       "      <th>Close</th>\n",
       "      <th>Volume</th>\n",
       "    </tr>\n",
       "  </thead>\n",
       "  <tbody>\n",
       "    <tr>\n",
       "      <th>0</th>\n",
       "      <td>1555545780000</td>\n",
       "      <td>2019-04-18 00:03:00</td>\n",
       "      <td>BTCUSD</td>\n",
       "      <td>5229.40</td>\n",
       "      <td>5229.40</td>\n",
       "      <td>5229.40</td>\n",
       "      <td>5229.40</td>\n",
       "      <td>0.000000</td>\n",
       "    </tr>\n",
       "    <tr>\n",
       "      <th>1</th>\n",
       "      <td>1555545720000</td>\n",
       "      <td>2019-04-18 00:02:00</td>\n",
       "      <td>BTCUSD</td>\n",
       "      <td>5230.47</td>\n",
       "      <td>5230.47</td>\n",
       "      <td>5229.40</td>\n",
       "      <td>5229.40</td>\n",
       "      <td>2.202891</td>\n",
       "    </tr>\n",
       "    <tr>\n",
       "      <th>2</th>\n",
       "      <td>1555545660000</td>\n",
       "      <td>2019-04-18 00:01:00</td>\n",
       "      <td>BTCUSD</td>\n",
       "      <td>5245.00</td>\n",
       "      <td>5245.00</td>\n",
       "      <td>5230.47</td>\n",
       "      <td>5230.47</td>\n",
       "      <td>0.232941</td>\n",
       "    </tr>\n",
       "    <tr>\n",
       "      <th>3</th>\n",
       "      <td>1555545600000</td>\n",
       "      <td>2019-04-18 00:00:00</td>\n",
       "      <td>BTCUSD</td>\n",
       "      <td>5246.10</td>\n",
       "      <td>5246.10</td>\n",
       "      <td>5229.74</td>\n",
       "      <td>5245.00</td>\n",
       "      <td>50.168412</td>\n",
       "    </tr>\n",
       "    <tr>\n",
       "      <th>4</th>\n",
       "      <td>1555545540000</td>\n",
       "      <td>2019-04-17 23:59:00</td>\n",
       "      <td>BTCUSD</td>\n",
       "      <td>5231.69</td>\n",
       "      <td>5246.10</td>\n",
       "      <td>5231.69</td>\n",
       "      <td>5246.10</td>\n",
       "      <td>20.000000</td>\n",
       "    </tr>\n",
       "  </tbody>\n",
       "</table>\n",
       "</div>"
      ],
      "text/plain": [
       "   Unix Timestamp                 Date  Symbol     Open     High      Low  \\\n",
       "0   1555545780000  2019-04-18 00:03:00  BTCUSD  5229.40  5229.40  5229.40   \n",
       "1   1555545720000  2019-04-18 00:02:00  BTCUSD  5230.47  5230.47  5229.40   \n",
       "2   1555545660000  2019-04-18 00:01:00  BTCUSD  5245.00  5245.00  5230.47   \n",
       "3   1555545600000  2019-04-18 00:00:00  BTCUSD  5246.10  5246.10  5229.74   \n",
       "4   1555545540000  2019-04-17 23:59:00  BTCUSD  5231.69  5246.10  5231.69   \n",
       "\n",
       "     Close     Volume  \n",
       "0  5229.40   0.000000  \n",
       "1  5229.40   2.202891  \n",
       "2  5230.47   0.232941  \n",
       "3  5245.00  50.168412  \n",
       "4  5246.10  20.000000  "
      ]
     },
     "execution_count": 5,
     "metadata": {},
     "output_type": "execute_result"
    }
   ],
   "source": [
    "BTC_price.head()"
   ]
  },
  {
   "cell_type": "markdown",
   "metadata": {},
   "source": [
    "Get some more info on the dataframe."
   ]
  },
  {
   "cell_type": "code",
   "execution_count": 6,
   "metadata": {},
   "outputs": [
    {
     "data": {
      "text/html": [
       "<div>\n",
       "<style scoped>\n",
       "    .dataframe tbody tr th:only-of-type {\n",
       "        vertical-align: middle;\n",
       "    }\n",
       "\n",
       "    .dataframe tbody tr th {\n",
       "        vertical-align: top;\n",
       "    }\n",
       "\n",
       "    .dataframe thead th {\n",
       "        text-align: right;\n",
       "    }\n",
       "</style>\n",
       "<table border=\"1\" class=\"dataframe\">\n",
       "  <thead>\n",
       "    <tr style=\"text-align: right;\">\n",
       "      <th></th>\n",
       "      <th>Unix Timestamp</th>\n",
       "      <th>Open</th>\n",
       "      <th>High</th>\n",
       "      <th>Low</th>\n",
       "      <th>Close</th>\n",
       "      <th>Volume</th>\n",
       "    </tr>\n",
       "  </thead>\n",
       "  <tbody>\n",
       "    <tr>\n",
       "      <th>count</th>\n",
       "      <td>1.812109e+06</td>\n",
       "      <td>1.812109e+06</td>\n",
       "      <td>1.812109e+06</td>\n",
       "      <td>1.812109e+06</td>\n",
       "      <td>1.812109e+06</td>\n",
       "      <td>1.812109e+06</td>\n",
       "    </tr>\n",
       "    <tr>\n",
       "      <th>mean</th>\n",
       "      <td>2.577871e+11</td>\n",
       "      <td>3.753850e+03</td>\n",
       "      <td>3.755548e+03</td>\n",
       "      <td>3.752100e+03</td>\n",
       "      <td>3.753854e+03</td>\n",
       "      <td>2.950303e+00</td>\n",
       "    </tr>\n",
       "    <tr>\n",
       "      <th>std</th>\n",
       "      <td>5.744834e+11</td>\n",
       "      <td>3.759127e+03</td>\n",
       "      <td>3.762015e+03</td>\n",
       "      <td>3.756117e+03</td>\n",
       "      <td>3.759126e+03</td>\n",
       "      <td>2.347867e+01</td>\n",
       "    </tr>\n",
       "    <tr>\n",
       "      <th>min</th>\n",
       "      <td>1.444312e+09</td>\n",
       "      <td>0.000000e+00</td>\n",
       "      <td>2.425000e+02</td>\n",
       "      <td>0.000000e+00</td>\n",
       "      <td>2.360000e+02</td>\n",
       "      <td>0.000000e+00</td>\n",
       "    </tr>\n",
       "    <tr>\n",
       "      <th>25%</th>\n",
       "      <td>1.471493e+09</td>\n",
       "      <td>6.179800e+02</td>\n",
       "      <td>6.179800e+02</td>\n",
       "      <td>6.179800e+02</td>\n",
       "      <td>6.179800e+02</td>\n",
       "      <td>0.000000e+00</td>\n",
       "    </tr>\n",
       "    <tr>\n",
       "      <th>50%</th>\n",
       "      <td>1.498675e+09</td>\n",
       "      <td>2.550130e+03</td>\n",
       "      <td>2.550440e+03</td>\n",
       "      <td>2.550000e+03</td>\n",
       "      <td>2.550130e+03</td>\n",
       "      <td>1.203491e-02</td>\n",
       "    </tr>\n",
       "    <tr>\n",
       "      <th>75%</th>\n",
       "      <td>1.525856e+09</td>\n",
       "      <td>6.407780e+03</td>\n",
       "      <td>6.408540e+03</td>\n",
       "      <td>6.406760e+03</td>\n",
       "      <td>6.407780e+03</td>\n",
       "      <td>1.138193e+00</td>\n",
       "    </tr>\n",
       "    <tr>\n",
       "      <th>max</th>\n",
       "      <td>1.555546e+12</td>\n",
       "      <td>1.999900e+04</td>\n",
       "      <td>1.999900e+04</td>\n",
       "      <td>1.999070e+04</td>\n",
       "      <td>1.999900e+04</td>\n",
       "      <td>8.264463e+03</td>\n",
       "    </tr>\n",
       "  </tbody>\n",
       "</table>\n",
       "</div>"
      ],
      "text/plain": [
       "       Unix Timestamp          Open          High           Low         Close  \\\n",
       "count    1.812109e+06  1.812109e+06  1.812109e+06  1.812109e+06  1.812109e+06   \n",
       "mean     2.577871e+11  3.753850e+03  3.755548e+03  3.752100e+03  3.753854e+03   \n",
       "std      5.744834e+11  3.759127e+03  3.762015e+03  3.756117e+03  3.759126e+03   \n",
       "min      1.444312e+09  0.000000e+00  2.425000e+02  0.000000e+00  2.360000e+02   \n",
       "25%      1.471493e+09  6.179800e+02  6.179800e+02  6.179800e+02  6.179800e+02   \n",
       "50%      1.498675e+09  2.550130e+03  2.550440e+03  2.550000e+03  2.550130e+03   \n",
       "75%      1.525856e+09  6.407780e+03  6.408540e+03  6.406760e+03  6.407780e+03   \n",
       "max      1.555546e+12  1.999900e+04  1.999900e+04  1.999070e+04  1.999900e+04   \n",
       "\n",
       "             Volume  \n",
       "count  1.812109e+06  \n",
       "mean   2.950303e+00  \n",
       "std    2.347867e+01  \n",
       "min    0.000000e+00  \n",
       "25%    0.000000e+00  \n",
       "50%    1.203491e-02  \n",
       "75%    1.138193e+00  \n",
       "max    8.264463e+03  "
      ]
     },
     "execution_count": 6,
     "metadata": {},
     "output_type": "execute_result"
    }
   ],
   "source": [
    "BTC_price.describe()"
   ]
  },
  {
   "cell_type": "markdown",
   "metadata": {},
   "source": [
    "Lets check how much of each of the columns is NaN."
   ]
  },
  {
   "cell_type": "code",
   "execution_count": 7,
   "metadata": {},
   "outputs": [
    {
     "data": {
      "text/plain": [
       "Unix Timestamp    0.0\n",
       "Date              0.0\n",
       "Symbol            0.0\n",
       "Open              0.0\n",
       "High              0.0\n",
       "Low               0.0\n",
       "Close             0.0\n",
       "Volume            0.0\n",
       "dtype: float64"
      ]
     },
     "execution_count": 7,
     "metadata": {},
     "output_type": "execute_result"
    }
   ],
   "source": [
    "bitcoin_NaN_ratio = BTC_price.isnull().sum()/len(BTC_price)\n",
    "bitcoin_NaN_ratio"
   ]
  },
  {
   "cell_type": "markdown",
   "metadata": {},
   "source": [
    "Looks like we're not missing any values in our dataset.\n",
    "\n",
    "Lets see how much data we're working with."
   ]
  },
  {
   "cell_type": "code",
   "execution_count": 8,
   "metadata": {},
   "outputs": [
    {
     "name": "stdout",
     "output_type": "stream",
     "text": [
      "1812109\n"
     ]
    }
   ],
   "source": [
    "print(len(BTC_price))"
   ]
  },
  {
   "cell_type": "markdown",
   "metadata": {},
   "source": [
    "That's a lot of data."
   ]
  },
  {
   "cell_type": "code",
   "execution_count": 9,
   "metadata": {},
   "outputs": [
    {
     "data": {
      "text/plain": [
       "<seaborn.axisgrid.JointGrid at 0x1a205b4ef0>"
      ]
     },
     "execution_count": 9,
     "metadata": {},
     "output_type": "execute_result"
    },
    {
     "data": {
      "image/png": "[encoded data removed]",
      "text/plain": [
       "<Figure size 432x432 with 3 Axes>"
      ]
     },
     "metadata": {
      "needs_background": "light"
     },
     "output_type": "display_data"
    }
   ],
   "source": [
    "sns.jointplot(x=BTC_price['Unix Timestamp'],y=BTC_price['Open'])"
   ]
  },
  {
   "cell_type": "markdown",
   "metadata": {},
   "source": [
    "This doesn't look quite right. Lets take a look at the distribution of the timestamps and see if something is wrong with the data."
   ]
  },
  {
   "cell_type": "code",
   "execution_count": 10,
   "metadata": {},
   "outputs": [
    {
     "data": {
      "text/plain": [
       "<matplotlib.axes._subplots.AxesSubplot at 0x1a21750198>"
      ]
     },
     "execution_count": 10,
     "metadata": {},
     "output_type": "execute_result"
    },
    {
     "data": {
      "image/png": "[encoded data removed]",
      "text/plain": [
       "<Figure size 432x288 with 1 Axes>"
      ]
     },
     "metadata": {
      "needs_background": "light"
     },
     "output_type": "display_data"
    }
   ],
   "source": [
    "sns.distplot(BTC_price[\"Unix Timestamp\"])"
   ]
  },
  {
   "cell_type": "markdown",
   "metadata": {},
   "source": [
    "Hmmmmm this look like there is a massive skew in the data for the timestamps. Lets investigate this further."
   ]
  },
  {
   "cell_type": "code",
   "execution_count": 11,
   "metadata": {},
   "outputs": [
    {
     "name": "stdout",
     "output_type": "stream",
     "text": [
      "1511299\n"
     ]
    }
   ],
   "source": [
    "left_data = BTC_price[BTC_price[\"Unix Timestamp\"]<0.2e+12]\n",
    "print(len(left_data))"
   ]
  },
  {
   "cell_type": "code",
   "execution_count": 12,
   "metadata": {},
   "outputs": [
    {
     "name": "stdout",
     "output_type": "stream",
     "text": [
      "300810\n"
     ]
    }
   ],
   "source": [
    "right_data = BTC_price[BTC_price[\"Unix Timestamp\"]>1.2e+12]\n",
    "print(len(right_data))"
   ]
  },
  {
   "cell_type": "code",
   "execution_count": 13,
   "metadata": {},
   "outputs": [
    {
     "name": "stdout",
     "output_type": "stream",
     "text": [
      "0\n"
     ]
    }
   ],
   "source": [
    "print(len(BTC_price)-len(left_data)-len(right_data))"
   ]
  },
  {
   "cell_type": "markdown",
   "metadata": {},
   "source": [
    "Ok. It seems that literally all of the data for the timestamps is separated into two separate sections.\n",
    "\n",
    "Let's break this down a little further."
   ]
  },
  {
   "cell_type": "code",
   "execution_count": 14,
   "metadata": {},
   "outputs": [
    {
     "name": "stdout",
     "output_type": "stream",
     "text": [
      "2018-08-23 01:58:00\n"
     ]
    }
   ],
   "source": [
    "from datetime import datetime # Import the libraries to convert UNIX to readable time\n",
    "ts_left = int(left_data['Unix Timestamp'].iloc[0])\n",
    "print(datetime.utcfromtimestamp(ts_left).strftime('%Y-%m-%d %H:%M:%S'))"
   ]
  },
  {
   "cell_type": "code",
   "execution_count": 15,
   "metadata": {},
   "outputs": [],
   "source": [
    "#ts_right = int(right_data['Unix Timestamp'].iloc[0])\n",
    "#print(datetime.utcfromtimestamp(ts_right).strftime('%Y-%m-%d %H:%M:%S'))"
   ]
  },
  {
   "cell_type": "markdown",
   "metadata": {},
   "source": [
    "Ah hah! This data appears to be false. Lets see how much of the data has a timestamp in this range."
   ]
  },
  {
   "cell_type": "code",
   "execution_count": 16,
   "metadata": {},
   "outputs": [
    {
     "name": "stdout",
     "output_type": "stream",
     "text": [
      "1555545780000\n",
      "1534989480\n"
     ]
    }
   ],
   "source": [
    "print(right_data['Unix Timestamp'].iloc[0])\n",
    "print(left_data['Unix Timestamp'].iloc[0])"
   ]
  },
  {
   "cell_type": "markdown",
   "metadata": {},
   "source": [
    "It looks like the left side of the data is a factor of 1000 off from the data on the right. Since the data is so tightly clustered to these regions, lets try fixing the points that are so far off by scaling the greater ones since they translate to times that are in the future."
   ]
  },
  {
   "cell_type": "markdown",
   "metadata": {},
   "source": [
    "It looks like for the years 2018 and 2019 the unix timestamps are off by a factor of 1000 based off of the differences between the previous years. Lets fix this earlier in the code and see how it affects our results."
   ]
  },
  {
   "cell_type": "code",
   "execution_count": 17,
   "metadata": {},
   "outputs": [],
   "source": [
    "BTC_price['Unix Timestamp'][BTC_price['Unix Timestamp']>1e+12] = BTC_price['Unix Timestamp'][BTC_price['Unix Timestamp']>1e+12]/1000"
   ]
  },
  {
   "cell_type": "code",
   "execution_count": 22,
   "metadata": {},
   "outputs": [
    {
     "data": {
      "image/png": "[encoded data removed]",
      "text/plain": [
       "<Figure size 1800x720 with 1 Axes>"
      ]
     },
     "metadata": {},
     "output_type": "display_data"
    }
   ],
   "source": [
    "sns.lineplot(x=BTC_price['Unix Timestamp'],y=BTC_price['Open'])\n",
    "sns.set(rc={'figure.figsize':(30,10)})"
   ]
  },
  {
   "cell_type": "markdown",
   "metadata": {},
   "source": [
    "Now this data looks like it's following a more realistic trend. Lets compare this chart to existing charts, like this one from CoinMarketCap:\n",
    "![alt text](Project_Data/chart.png \"Logo Title Text 1\")\n",
    "\n",
    "The portion of the chart we need to pay attention to is the one highlighted with blue below.\n",
    "\n",
    "The CoinMarketCap graph is made from data taken every day, compared to our data which is collected every minute, and comes from its own exchange. This exchange could have been manipulated by large transaction volumes after it recently opened or have seen spikes in demand at a particular minute, or could have been errors in the data. Let's zoom in a little on this section."
   ]
  },
  {
   "cell_type": "code",
   "execution_count": 20,
   "metadata": {},
   "outputs": [],
   "source": [
    "# This process is very inefficient, taking a long time for my computer to process,\n",
    "# and is unecessary to building a model to give us insights about the data.\n",
    "# For these reasons I am commenting out this section.\n",
    "#def convertToHuman(a):\n",
    "#    return datetime.utcfromtimestamp(a).strftime('%Y-%m-%d %H:%M:%S')\n",
    "#\n",
    "#BTC_price['Human Timestamp'] = BTC_price['Unix Timestamp'].apply(convertToHuman)\n",
    "#sns.lineplot(x=BTC_price['Human Timestamp'],y=BTC_price['Open'])"
   ]
  },
  {
   "cell_type": "code",
   "execution_count": 30,
   "metadata": {},
   "outputs": [],
   "source": [
    "subset = BTC_price[(BTC_price['Unix Timestamp']<1.448e+9)&(BTC_price['Unix Timestamp']>1.447e+9)]"
   ]
  },
  {
   "cell_type": "code",
   "execution_count": 31,
   "metadata": {},
   "outputs": [
    {
     "data": {
      "text/plain": [
       "<matplotlib.axes._subplots.AxesSubplot at 0x1a2b2a0b70>"
      ]
     },
     "execution_count": 31,
     "metadata": {},
     "output_type": "execute_result"
    },
    {
     "data": {
      "image/png": "[encoded data removed]",
      "text/plain": [
       "<Figure size 2160x720 with 1 Axes>"
      ]
     },
     "metadata": {},
     "output_type": "display_data"
    }
   ],
   "source": [
    "sns.lineplot(x=subset['Unix Timestamp'],y=subset['Open'])"
   ]
  },
  {
   "cell_type": "markdown",
   "metadata": {},
   "source": [
    "There's definitely a spike in value here. Let's see how long it lasts."
   ]
  },
  {
   "cell_type": "code",
   "execution_count": 32,
   "metadata": {},
   "outputs": [],
   "source": [
    "spike = subset[subset['Open']>500]"
   ]
  },
  {
   "cell_type": "code",
   "execution_count": 34,
   "metadata": {},
   "outputs": [
    {
     "data": {
      "text/plain": [
       "10"
      ]
     },
     "execution_count": 34,
     "metadata": {},
     "output_type": "execute_result"
    }
   ],
   "source": [
    "len(spike)"
   ]
  },
  {
   "cell_type": "markdown",
   "metadata": {},
   "source": [
    "Since the data is in minutes, and the length is ten, this means the spike only lasted for 10 minutes. Let's wait until we do some more modeling to see if this anomaly affects the overall analysis."
   ]
  },
  {
   "cell_type": "code",
   "execution_count": null,
   "metadata": {},
   "outputs": [],
   "source": []
  }
 ],
 "metadata": {
  "kernelspec": {
   "display_name": "Python 3",
   "language": "python",
   "name": "python3"
  },
  "language_info": {
   "codemirror_mode": {
    "name": "ipython",
    "version": 3
   },
   "file_extension": ".py",
   "mimetype": "text/x-python",
   "name": "python",
   "nbconvert_exporter": "python",
   "pygments_lexer": "ipython3",
   "version": "3.7.1"
  }
 },
 "nbformat": 4,
 "nbformat_minor": 2
}
