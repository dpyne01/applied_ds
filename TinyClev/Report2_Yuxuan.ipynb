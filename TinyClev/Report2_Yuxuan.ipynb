{
 "cells": [
  {
   "cell_type": "markdown",
   "metadata": {},
   "source": [
    "# Report 2 -- NBA Role Player data analysis"
   ]
  },
  {
   "cell_type": "code",
   "execution_count": 220,
   "metadata": {},
   "outputs": [],
   "source": [
    "import numpy as np\n",
    "import pandas as pd\n",
    "import seaborn as sns\n",
    "import warnings\n",
    "import statsmodels.formula.api as smf\n",
    "import sklearn\n",
    "from sklearn.linear_model import Lasso\n",
    "import matplotlib.pyplot as plt\n",
    "import sys\n",
    "from pandas import Series, DataFrame"
   ]
  },
  {
   "cell_type": "markdown",
   "metadata": {},
   "source": [
    "# read salary data"
   ]
  },
  {
   "cell_type": "code",
   "execution_count": 221,
   "metadata": {},
   "outputs": [
    {
     "data": {
      "text/html": [
       "<div>\n",
       "<style scoped>\n",
       "    .dataframe tbody tr th:only-of-type {\n",
       "        vertical-align: middle;\n",
       "    }\n",
       "\n",
       "    .dataframe tbody tr th {\n",
       "        vertical-align: top;\n",
       "    }\n",
       "\n",
       "    .dataframe thead th {\n",
       "        text-align: right;\n",
       "    }\n",
       "</style>\n",
       "<table border=\"1\" class=\"dataframe\">\n",
       "  <thead>\n",
       "    <tr style=\"text-align: right;\">\n",
       "      <th></th>\n",
       "      <th>Unnamed: 0</th>\n",
       "      <th>Player</th>\n",
       "      <th>Tm</th>\n",
       "      <th>season17_18</th>\n",
       "    </tr>\n",
       "  </thead>\n",
       "  <tbody>\n",
       "    <tr>\n",
       "      <th>572</th>\n",
       "      <td>573</td>\n",
       "      <td>Jarell Eddie</td>\n",
       "      <td>CHI</td>\n",
       "      <td>17224.0</td>\n",
       "    </tr>\n",
       "    <tr>\n",
       "      <th>571</th>\n",
       "      <td>572</td>\n",
       "      <td>Joel Bolomboy</td>\n",
       "      <td>MIL</td>\n",
       "      <td>22248.0</td>\n",
       "    </tr>\n",
       "    <tr>\n",
       "      <th>569</th>\n",
       "      <td>570</td>\n",
       "      <td>Chris Johnson</td>\n",
       "      <td>HOU</td>\n",
       "      <td>25000.0</td>\n",
       "    </tr>\n",
       "    <tr>\n",
       "      <th>567</th>\n",
       "      <td>568</td>\n",
       "      <td>Axel Toupane</td>\n",
       "      <td>NOP</td>\n",
       "      <td>25000.0</td>\n",
       "    </tr>\n",
       "    <tr>\n",
       "      <th>570</th>\n",
       "      <td>571</td>\n",
       "      <td>Beno Udrih</td>\n",
       "      <td>DET</td>\n",
       "      <td>25000.0</td>\n",
       "    </tr>\n",
       "  </tbody>\n",
       "</table>\n",
       "</div>"
      ],
      "text/plain": [
       "     Unnamed: 0         Player   Tm  season17_18\n",
       "572         573   Jarell Eddie  CHI      17224.0\n",
       "571         572  Joel Bolomboy  MIL      22248.0\n",
       "569         570  Chris Johnson  HOU      25000.0\n",
       "567         568   Axel Toupane  NOP      25000.0\n",
       "570         571     Beno Udrih  DET      25000.0"
      ]
     },
     "execution_count": 221,
     "metadata": {},
     "output_type": "execute_result"
    }
   ],
   "source": [
    "salary = pd.read_csv(\"salary18.csv\")\n",
    "salary_a = salary.sort_values(by = \"season17_18\", ascending = True)\n",
    "salary_a.head()"
   ]
  },
  {
   "cell_type": "markdown",
   "metadata": {},
   "source": [
    "# find role player"
   ]
  },
  {
   "cell_type": "code",
   "execution_count": 222,
   "metadata": {},
   "outputs": [
    {
     "data": {
      "text/plain": [
       "<matplotlib.axes._subplots.AxesSubplot at 0x1ee8ccfe898>"
      ]
     },
     "execution_count": 222,
     "metadata": {},
     "output_type": "execute_result"
    },
    {
     "data": {
      "image/png": "[encoded data removed]",
      "text/plain": [
       "<Figure size 432x288 with 1 Axes>"
      ]
     },
     "metadata": {
      "needs_background": "light"
     },
     "output_type": "display_data"
    }
   ],
   "source": [
    "bins = [10000, 500000, 15000000, 50000000]\n",
    "a = pd.cut(salary_a[\"season17_18\"], bins = bins, labels = [\"bad\",\"role player\",\"all star\"])\n",
    "a.value_counts().plot(kind = \"bar\")\n"
   ]
  },
  {
   "cell_type": "markdown",
   "metadata": {},
   "source": [
    "# read NBA player stats "
   ]
  },
  {
   "cell_type": "code",
   "execution_count": 223,
   "metadata": {},
   "outputs": [],
   "source": [
    "stats = pd.read_csv(\"nbastat.csv\")\n"
   ]
  },
  {
   "cell_type": "code",
   "execution_count": 224,
   "metadata": {},
   "outputs": [],
   "source": [
    "l1 = list(stats[\"Player\"])\n",
    "statname = []\n"
   ]
  },
  {
   "cell_type": "markdown",
   "metadata": {},
   "source": [
    "# delete repeated names"
   ]
  },
  {
   "cell_type": "code",
   "execution_count": 225,
   "metadata": {},
   "outputs": [],
   "source": [
    "for each in l1:\n",
    "    statname.append(each.split(sep = \"\\\\\")[0])"
   ]
  },
  {
   "cell_type": "code",
   "execution_count": 226,
   "metadata": {},
   "outputs": [],
   "source": [
    "stats[\"Name\"] = statname"
   ]
  },
  {
   "cell_type": "code",
   "execution_count": 227,
   "metadata": {},
   "outputs": [],
   "source": [
    "repeats = []\n",
    "test = stats\n",
    "for i in range (1,664):\n",
    "    if test.iloc[i,0] == test.iloc[i-1,0]:\n",
    "        #print(i)\n",
    "        repeats.append(i)"
   ]
  },
  {
   "cell_type": "code",
   "execution_count": 228,
   "metadata": {},
   "outputs": [],
   "source": [
    "new = stats.drop(index = repeats)"
   ]
  },
  {
   "cell_type": "code",
   "execution_count": 229,
   "metadata": {},
   "outputs": [
    {
     "data": {
      "text/html": [
       "<div>\n",
       "<style scoped>\n",
       "    .dataframe tbody tr th:only-of-type {\n",
       "        vertical-align: middle;\n",
       "    }\n",
       "\n",
       "    .dataframe tbody tr th {\n",
       "        vertical-align: top;\n",
       "    }\n",
       "\n",
       "    .dataframe thead th {\n",
       "        text-align: right;\n",
       "    }\n",
       "</style>\n",
       "<table border=\"1\" class=\"dataframe\">\n",
       "  <thead>\n",
       "    <tr style=\"text-align: right;\">\n",
       "      <th></th>\n",
       "      <th>Unnamed: 0</th>\n",
       "      <th>Player</th>\n",
       "      <th>Tm</th>\n",
       "      <th>season17_18</th>\n",
       "    </tr>\n",
       "  </thead>\n",
       "  <tbody>\n",
       "    <tr>\n",
       "      <th>572</th>\n",
       "      <td>573</td>\n",
       "      <td>Jarell Eddie</td>\n",
       "      <td>CHI</td>\n",
       "      <td>17224.0</td>\n",
       "    </tr>\n",
       "    <tr>\n",
       "      <th>571</th>\n",
       "      <td>572</td>\n",
       "      <td>Joel Bolomboy</td>\n",
       "      <td>MIL</td>\n",
       "      <td>22248.0</td>\n",
       "    </tr>\n",
       "    <tr>\n",
       "      <th>569</th>\n",
       "      <td>570</td>\n",
       "      <td>Chris Johnson</td>\n",
       "      <td>HOU</td>\n",
       "      <td>25000.0</td>\n",
       "    </tr>\n",
       "    <tr>\n",
       "      <th>567</th>\n",
       "      <td>568</td>\n",
       "      <td>Axel Toupane</td>\n",
       "      <td>NOP</td>\n",
       "      <td>25000.0</td>\n",
       "    </tr>\n",
       "    <tr>\n",
       "      <th>570</th>\n",
       "      <td>571</td>\n",
       "      <td>Beno Udrih</td>\n",
       "      <td>DET</td>\n",
       "      <td>25000.0</td>\n",
       "    </tr>\n",
       "  </tbody>\n",
       "</table>\n",
       "</div>"
      ],
      "text/plain": [
       "     Unnamed: 0         Player   Tm  season17_18\n",
       "572         573   Jarell Eddie  CHI      17224.0\n",
       "571         572  Joel Bolomboy  MIL      22248.0\n",
       "569         570  Chris Johnson  HOU      25000.0\n",
       "567         568   Axel Toupane  NOP      25000.0\n",
       "570         571     Beno Udrih  DET      25000.0"
      ]
     },
     "execution_count": 229,
     "metadata": {},
     "output_type": "execute_result"
    }
   ],
   "source": [
    "salary_a.head()"
   ]
  },
  {
   "cell_type": "code",
   "execution_count": 230,
   "metadata": {},
   "outputs": [],
   "source": [
    "salary_a[\"Name\"] = salary_a[\"Player\"]"
   ]
  },
  {
   "cell_type": "code",
   "execution_count": 231,
   "metadata": {},
   "outputs": [
    {
     "data": {
      "text/html": [
       "<div>\n",
       "<style scoped>\n",
       "    .dataframe tbody tr th:only-of-type {\n",
       "        vertical-align: middle;\n",
       "    }\n",
       "\n",
       "    .dataframe tbody tr th {\n",
       "        vertical-align: top;\n",
       "    }\n",
       "\n",
       "    .dataframe thead th {\n",
       "        text-align: right;\n",
       "    }\n",
       "</style>\n",
       "<table border=\"1\" class=\"dataframe\">\n",
       "  <thead>\n",
       "    <tr style=\"text-align: right;\">\n",
       "      <th></th>\n",
       "      <th>Unnamed: 0</th>\n",
       "      <th>Player</th>\n",
       "      <th>Tm</th>\n",
       "      <th>season17_18</th>\n",
       "      <th>Name</th>\n",
       "    </tr>\n",
       "  </thead>\n",
       "  <tbody>\n",
       "    <tr>\n",
       "      <th>572</th>\n",
       "      <td>573</td>\n",
       "      <td>Jarell Eddie</td>\n",
       "      <td>CHI</td>\n",
       "      <td>17224.0</td>\n",
       "      <td>Jarell Eddie</td>\n",
       "    </tr>\n",
       "    <tr>\n",
       "      <th>571</th>\n",
       "      <td>572</td>\n",
       "      <td>Joel Bolomboy</td>\n",
       "      <td>MIL</td>\n",
       "      <td>22248.0</td>\n",
       "      <td>Joel Bolomboy</td>\n",
       "    </tr>\n",
       "    <tr>\n",
       "      <th>569</th>\n",
       "      <td>570</td>\n",
       "      <td>Chris Johnson</td>\n",
       "      <td>HOU</td>\n",
       "      <td>25000.0</td>\n",
       "      <td>Chris Johnson</td>\n",
       "    </tr>\n",
       "    <tr>\n",
       "      <th>567</th>\n",
       "      <td>568</td>\n",
       "      <td>Axel Toupane</td>\n",
       "      <td>NOP</td>\n",
       "      <td>25000.0</td>\n",
       "      <td>Axel Toupane</td>\n",
       "    </tr>\n",
       "    <tr>\n",
       "      <th>570</th>\n",
       "      <td>571</td>\n",
       "      <td>Beno Udrih</td>\n",
       "      <td>DET</td>\n",
       "      <td>25000.0</td>\n",
       "      <td>Beno Udrih</td>\n",
       "    </tr>\n",
       "  </tbody>\n",
       "</table>\n",
       "</div>"
      ],
      "text/plain": [
       "     Unnamed: 0         Player   Tm  season17_18           Name\n",
       "572         573   Jarell Eddie  CHI      17224.0   Jarell Eddie\n",
       "571         572  Joel Bolomboy  MIL      22248.0  Joel Bolomboy\n",
       "569         570  Chris Johnson  HOU      25000.0  Chris Johnson\n",
       "567         568   Axel Toupane  NOP      25000.0   Axel Toupane\n",
       "570         571     Beno Udrih  DET      25000.0     Beno Udrih"
      ]
     },
     "execution_count": 231,
     "metadata": {},
     "output_type": "execute_result"
    }
   ],
   "source": [
    "salary_a.head()"
   ]
  },
  {
   "cell_type": "code",
   "execution_count": 232,
   "metadata": {},
   "outputs": [],
   "source": [
    "salary_1 = salary_a.drop(['Player'],axis = 1)"
   ]
  },
  {
   "cell_type": "markdown",
   "metadata": {},
   "source": [
    "# merge salary and stats by player's name"
   ]
  },
  {
   "cell_type": "code",
   "execution_count": 233,
   "metadata": {},
   "outputs": [],
   "source": [
    "salary_2 = salary_1.rename(columns = {\"Tm\":\"team\"})\n"
   ]
  },
  {
   "cell_type": "code",
   "execution_count": 234,
   "metadata": {},
   "outputs": [],
   "source": [
    "result = pd.merge(salary_2, new, how='inner', on=['Name'])"
   ]
  },
  {
   "cell_type": "code",
   "execution_count": 235,
   "metadata": {},
   "outputs": [],
   "source": [
    "repeats2 = []\n",
    "\n",
    "for i in range (0,513):\n",
    "    if result.iloc[i,3] == result.iloc[i+1,3]:\n",
    "        #print(i,result.iloc[i,3])\n",
    "        repeats2.append(i)"
   ]
  },
  {
   "cell_type": "code",
   "execution_count": 236,
   "metadata": {},
   "outputs": [],
   "source": [
    "result_v = result.drop(index = repeats2)"
   ]
  },
  {
   "cell_type": "code",
   "execution_count": 237,
   "metadata": {},
   "outputs": [
    {
     "data": {
      "text/plain": [
       "<matplotlib.axes._subplots.AxesSubplot at 0x1ee8cd86c50>"
      ]
     },
     "execution_count": 237,
     "metadata": {},
     "output_type": "execute_result"
    },
    {
     "data": {
      "image/png": "[encoded data removed]",
      "text/plain": [
       "<Figure size 432x288 with 1 Axes>"
      ]
     },
     "metadata": {
      "needs_background": "light"
     },
     "output_type": "display_data"
    }
   ],
   "source": [
    "bins2 = [10000, 1000000, 15000000, 50000000]\n",
    "temp = pd.cut(result_v[\"season17_18\"], bins = bins, labels = [\"bad\",\"role player\",\"all star\"])\n",
    "temp.value_counts().plot(kind = \"bar\")"
   ]
  },
  {
   "cell_type": "markdown",
   "metadata": {},
   "source": [
    "# only keep role players"
   ]
  },
  {
   "cell_type": "code",
   "execution_count": 238,
   "metadata": {},
   "outputs": [],
   "source": [
    "df3 = result_v.sort_values(by =  \"season17_18\", ascending = True)"
   ]
  },
  {
   "cell_type": "code",
   "execution_count": 239,
   "metadata": {},
   "outputs": [],
   "source": [
    "df3 = df3.reset_index(drop=True)"
   ]
  },
  {
   "cell_type": "code",
   "execution_count": 240,
   "metadata": {},
   "outputs": [],
   "source": [
    "t = []\n",
    "for i in range (0,477):\n",
    "    if (df3.iloc[i,2] < 1000000) or (df3.iloc[i,2]> 15000000):\n",
    "        #print (i)\n",
    "        t.append(i)\n",
    "        "
   ]
  },
  {
   "cell_type": "code",
   "execution_count": 241,
   "metadata": {},
   "outputs": [],
   "source": [
    "df4 = df3.drop(index = t)"
   ]
  },
  {
   "cell_type": "code",
   "execution_count": 242,
   "metadata": {},
   "outputs": [],
   "source": [
    "df4 = df4.reset_index(drop = True)"
   ]
  },
  {
   "cell_type": "markdown",
   "metadata": {},
   "source": [
    "# efficiency = ((Points + Rebounds + Assists + Steals + Blocks) - ((Field Goals Att. - Field Goals Made) + (Free Throws Att. - Free Throws Made) + Turnovers))."
   ]
  },
  {
   "cell_type": "code",
   "execution_count": 243,
   "metadata": {},
   "outputs": [],
   "source": [
    "effi = df4[\"PS/G\"]+df4[\"TRB\"]+df4[\"AST\"]+df4[\"STL\"]+df4[\"BLK\"]-df4[\"FGA\"]+df4[\"FG\"]-df4[\"FTA\"]+df4[\"FT\"]-df4[\"TOV\"]"
   ]
  },
  {
   "cell_type": "code",
   "execution_count": 244,
   "metadata": {},
   "outputs": [],
   "source": [
    "df4[\"efficiency\"] = effi"
   ]
  },
  {
   "cell_type": "code",
   "execution_count": 245,
   "metadata": {},
   "outputs": [],
   "source": [
    "df5 = df4.rename(columns = {\"season17_18\":\"salary\"})"
   ]
  },
  {
   "cell_type": "markdown",
   "metadata": {},
   "source": [
    "# dataset after cleaning"
   ]
  },
  {
   "cell_type": "code",
   "execution_count": 246,
   "metadata": {},
   "outputs": [
    {
     "data": {
      "text/html": [
       "<div>\n",
       "<style scoped>\n",
       "    .dataframe tbody tr th:only-of-type {\n",
       "        vertical-align: middle;\n",
       "    }\n",
       "\n",
       "    .dataframe tbody tr th {\n",
       "        vertical-align: top;\n",
       "    }\n",
       "\n",
       "    .dataframe thead th {\n",
       "        text-align: right;\n",
       "    }\n",
       "</style>\n",
       "<table border=\"1\" class=\"dataframe\">\n",
       "  <thead>\n",
       "    <tr style=\"text-align: right;\">\n",
       "      <th></th>\n",
       "      <th>Unnamed: 0</th>\n",
       "      <th>team</th>\n",
       "      <th>salary</th>\n",
       "      <th>Name</th>\n",
       "      <th>Rk</th>\n",
       "      <th>Player</th>\n",
       "      <th>Pos</th>\n",
       "      <th>Age</th>\n",
       "      <th>Tm</th>\n",
       "      <th>G</th>\n",
       "      <th>...</th>\n",
       "      <th>ORB</th>\n",
       "      <th>DRB</th>\n",
       "      <th>TRB</th>\n",
       "      <th>AST</th>\n",
       "      <th>STL</th>\n",
       "      <th>BLK</th>\n",
       "      <th>TOV</th>\n",
       "      <th>PF</th>\n",
       "      <th>PS/G</th>\n",
       "      <th>efficiency</th>\n",
       "    </tr>\n",
       "  </thead>\n",
       "  <tbody>\n",
       "    <tr>\n",
       "      <th>0</th>\n",
       "      <td>450</td>\n",
       "      <td>ORL</td>\n",
       "      <td>1050000.0</td>\n",
       "      <td>Wesley Iwundu</td>\n",
       "      <td>241</td>\n",
       "      <td>Wesley Iwundu\\iwundwe01</td>\n",
       "      <td>SF</td>\n",
       "      <td>23</td>\n",
       "      <td>ORL</td>\n",
       "      <td>62</td>\n",
       "      <td>...</td>\n",
       "      <td>0.6</td>\n",
       "      <td>1.6</td>\n",
       "      <td>2.2</td>\n",
       "      <td>0.9</td>\n",
       "      <td>0.5</td>\n",
       "      <td>0.2</td>\n",
       "      <td>0.5</td>\n",
       "      <td>1.3</td>\n",
       "      <td>3.7</td>\n",
       "      <td>4.7</td>\n",
       "    </tr>\n",
       "    <tr>\n",
       "      <th>1</th>\n",
       "      <td>449</td>\n",
       "      <td>PHO</td>\n",
       "      <td>1069308.0</td>\n",
       "      <td>Isaiah Canaan</td>\n",
       "      <td>84</td>\n",
       "      <td>Isaiah Canaan\\canaais01</td>\n",
       "      <td>PG-SG</td>\n",
       "      <td>26</td>\n",
       "      <td>TOT</td>\n",
       "      <td>20</td>\n",
       "      <td>...</td>\n",
       "      <td>0.3</td>\n",
       "      <td>2.0</td>\n",
       "      <td>2.3</td>\n",
       "      <td>3.8</td>\n",
       "      <td>0.8</td>\n",
       "      <td>0.1</td>\n",
       "      <td>1.5</td>\n",
       "      <td>1.8</td>\n",
       "      <td>8.6</td>\n",
       "      <td>9.5</td>\n",
       "    </tr>\n",
       "    <tr>\n",
       "      <th>2</th>\n",
       "      <td>447</td>\n",
       "      <td>NYK</td>\n",
       "      <td>1100000.0</td>\n",
       "      <td>Damyean Dotson</td>\n",
       "      <td>135</td>\n",
       "      <td>Damyean Dotson\\dotsoda01</td>\n",
       "      <td>SG</td>\n",
       "      <td>23</td>\n",
       "      <td>NYK</td>\n",
       "      <td>44</td>\n",
       "      <td>...</td>\n",
       "      <td>0.2</td>\n",
       "      <td>1.7</td>\n",
       "      <td>1.9</td>\n",
       "      <td>0.7</td>\n",
       "      <td>0.3</td>\n",
       "      <td>0.0</td>\n",
       "      <td>0.4</td>\n",
       "      <td>0.8</td>\n",
       "      <td>4.1</td>\n",
       "      <td>4.4</td>\n",
       "    </tr>\n",
       "    <tr>\n",
       "      <th>3</th>\n",
       "      <td>446</td>\n",
       "      <td>BOS</td>\n",
       "      <td>1167333.0</td>\n",
       "      <td>Abdel Nader</td>\n",
       "      <td>363</td>\n",
       "      <td>Abdel Nader\\naderab01</td>\n",
       "      <td>SF</td>\n",
       "      <td>24</td>\n",
       "      <td>BOS</td>\n",
       "      <td>48</td>\n",
       "      <td>...</td>\n",
       "      <td>0.3</td>\n",
       "      <td>1.2</td>\n",
       "      <td>1.5</td>\n",
       "      <td>0.5</td>\n",
       "      <td>0.3</td>\n",
       "      <td>0.2</td>\n",
       "      <td>0.7</td>\n",
       "      <td>0.9</td>\n",
       "      <td>3.0</td>\n",
       "      <td>2.4</td>\n",
       "    </tr>\n",
       "    <tr>\n",
       "      <th>4</th>\n",
       "      <td>445</td>\n",
       "      <td>SAC</td>\n",
       "      <td>1184385.0</td>\n",
       "      <td>Frank Mason</td>\n",
       "      <td>316</td>\n",
       "      <td>Frank Mason\\masonfr01</td>\n",
       "      <td>PG</td>\n",
       "      <td>23</td>\n",
       "      <td>SAC</td>\n",
       "      <td>52</td>\n",
       "      <td>...</td>\n",
       "      <td>0.6</td>\n",
       "      <td>1.9</td>\n",
       "      <td>2.5</td>\n",
       "      <td>2.8</td>\n",
       "      <td>0.7</td>\n",
       "      <td>0.2</td>\n",
       "      <td>1.3</td>\n",
       "      <td>1.4</td>\n",
       "      <td>7.9</td>\n",
       "      <td>7.9</td>\n",
       "    </tr>\n",
       "  </tbody>\n",
       "</table>\n",
       "<p>5 rows × 35 columns</p>\n",
       "</div>"
      ],
      "text/plain": [
       "   Unnamed: 0 team     salary            Name   Rk                    Player  \\\n",
       "0         450  ORL  1050000.0   Wesley Iwundu  241   Wesley Iwundu\\iwundwe01   \n",
       "1         449  PHO  1069308.0   Isaiah Canaan   84   Isaiah Canaan\\canaais01   \n",
       "2         447  NYK  1100000.0  Damyean Dotson  135  Damyean Dotson\\dotsoda01   \n",
       "3         446  BOS  1167333.0     Abdel Nader  363     Abdel Nader\\naderab01   \n",
       "4         445  SAC  1184385.0     Frank Mason  316     Frank Mason\\masonfr01   \n",
       "\n",
       "     Pos  Age   Tm   G     ...      ORB  DRB  TRB  AST  STL  BLK  TOV   PF  \\\n",
       "0     SF   23  ORL  62     ...      0.6  1.6  2.2  0.9  0.5  0.2  0.5  1.3   \n",
       "1  PG-SG   26  TOT  20     ...      0.3  2.0  2.3  3.8  0.8  0.1  1.5  1.8   \n",
       "2     SG   23  NYK  44     ...      0.2  1.7  1.9  0.7  0.3  0.0  0.4  0.8   \n",
       "3     SF   24  BOS  48     ...      0.3  1.2  1.5  0.5  0.3  0.2  0.7  0.9   \n",
       "4     PG   23  SAC  52     ...      0.6  1.9  2.5  2.8  0.7  0.2  1.3  1.4   \n",
       "\n",
       "   PS/G  efficiency  \n",
       "0   3.7         4.7  \n",
       "1   8.6         9.5  \n",
       "2   4.1         4.4  \n",
       "3   3.0         2.4  \n",
       "4   7.9         7.9  \n",
       "\n",
       "[5 rows x 35 columns]"
      ]
     },
     "execution_count": 246,
     "metadata": {},
     "output_type": "execute_result"
    }
   ],
   "source": [
    "df5.head()"
   ]
  },
  {
   "cell_type": "markdown",
   "metadata": {},
   "source": [
    "# test if there is a linear relationship between effiency and salary"
   ]
  },
  {
   "cell_type": "code",
   "execution_count": 247,
   "metadata": {},
   "outputs": [
    {
     "data": {
      "text/plain": [
       "<matplotlib.axes._subplots.AxesSubplot at 0x1ee8cdf2be0>"
      ]
     },
     "execution_count": 247,
     "metadata": {},
     "output_type": "execute_result"
    },
    {
     "data": {
      "image/png": "[encoded data removed]",
      "text/plain": [
       "<Figure size 432x288 with 1 Axes>"
      ]
     },
     "metadata": {
      "needs_background": "light"
     },
     "output_type": "display_data"
    }
   ],
   "source": [
    "# a scatterplot \n",
    "\n",
    "df5.plot.scatter('efficiency', 'salary')"
   ]
  },
  {
   "cell_type": "code",
   "execution_count": 248,
   "metadata": {},
   "outputs": [
    {
     "name": "stderr",
     "output_type": "stream",
     "text": [
      "C:\\Users\\59381\\Anaconda3\\lib\\site-packages\\scipy\\stats\\stats.py:1713: FutureWarning: Using a non-tuple sequence for multidimensional indexing is deprecated; use `arr[tuple(seq)]` instead of `arr[seq]`. In the future this will be interpreted as an array index, `arr[np.array(seq)]`, which will result either in an error or a different result.\n",
      "  return np.add.reduce(sorted[indexer] * weights, axis=axis) / sumval\n"
     ]
    },
    {
     "data": {
      "text/plain": [
       "<matplotlib.axes._subplots.AxesSubplot at 0x1ee8ce4b438>"
      ]
     },
     "execution_count": 248,
     "metadata": {},
     "output_type": "execute_result"
    },
    {
     "data": {
      "image/png": "[encoded data removed]",
      "text/plain": [
       "<Figure size 468x468 with 1 Axes>"
      ]
     },
     "metadata": {
      "needs_background": "light"
     },
     "output_type": "display_data"
    }
   ],
   "source": [
    "plt.subplots(figsize=(6.5, 6.5))\n",
    "sns.regplot('efficiency', 'salary', data=df5, marker='.',\n",
    "            scatter_kws={'alpha':'0.2'}, line_kws={'color':'orange'}, truncate=True)"
   ]
  },
  {
   "cell_type": "markdown",
   "metadata": {},
   "source": [
    "# how to increase efficiency"
   ]
  },
  {
   "cell_type": "markdown",
   "metadata": {},
   "source": [
    "# linear relationship FGA vs efficiency"
   ]
  },
  {
   "cell_type": "code",
   "execution_count": 249,
   "metadata": {},
   "outputs": [
    {
     "data": {
      "text/plain": [
       "<matplotlib.axes._subplots.AxesSubplot at 0x1ee8ce966d8>"
      ]
     },
     "execution_count": 249,
     "metadata": {},
     "output_type": "execute_result"
    },
    {
     "data": {
      "image/png": "[encoded data removed]",
      "text/plain": [
       "<Figure size 468x468 with 1 Axes>"
      ]
     },
     "metadata": {
      "needs_background": "light"
     },
     "output_type": "display_data"
    }
   ],
   "source": [
    "plt.subplots(figsize=(6.5, 6.5))\n",
    "sns.regplot('FGA', 'efficiency', data=df5, marker='.',\n",
    "            scatter_kws={'alpha':'0.2'}, line_kws={'color':'orange'}, truncate=True)"
   ]
  },
  {
   "cell_type": "markdown",
   "metadata": {},
   "source": [
    "# Heatmap: FGA vs Mins and Games"
   ]
  },
  {
   "cell_type": "code",
   "execution_count": 250,
   "metadata": {},
   "outputs": [],
   "source": [
    "bin4 = [0,5,10,15,20,25,30,35,40]"
   ]
  },
  {
   "cell_type": "code",
   "execution_count": 251,
   "metadata": {},
   "outputs": [
    {
     "data": {
      "text/plain": [
       "<matplotlib.axes._subplots.AxesSubplot at 0x1ee8cf0afd0>"
      ]
     },
     "execution_count": 251,
     "metadata": {},
     "output_type": "execute_result"
    },
    {
     "data": {
      "image/png": "[encoded data removed]",
      "text/plain": [
       "<Figure size 432x288 with 1 Axes>"
      ]
     },
     "metadata": {
      "needs_background": "light"
     },
     "output_type": "display_data"
    }
   ],
   "source": [
    "b = pd.cut(df5[\"MP\"], bins = bin4)\n",
    "b.value_counts().plot(kind = \"bar\")"
   ]
  },
  {
   "cell_type": "code",
   "execution_count": 257,
   "metadata": {},
   "outputs": [
    {
     "data": {
      "text/html": [
       "<div>\n",
       "<style scoped>\n",
       "    .dataframe tbody tr th:only-of-type {\n",
       "        vertical-align: middle;\n",
       "    }\n",
       "\n",
       "    .dataframe tbody tr th {\n",
       "        vertical-align: top;\n",
       "    }\n",
       "\n",
       "    .dataframe thead th {\n",
       "        text-align: right;\n",
       "    }\n",
       "</style>\n",
       "<table border=\"1\" class=\"dataframe\">\n",
       "  <thead>\n",
       "    <tr style=\"text-align: right;\">\n",
       "      <th></th>\n",
       "      <th>Unnamed: 0</th>\n",
       "      <th>team</th>\n",
       "      <th>salary</th>\n",
       "      <th>Name</th>\n",
       "      <th>Rk</th>\n",
       "      <th>Player</th>\n",
       "      <th>Pos</th>\n",
       "      <th>Age</th>\n",
       "      <th>Tm</th>\n",
       "      <th>G</th>\n",
       "      <th>...</th>\n",
       "      <th>DRB</th>\n",
       "      <th>TRB</th>\n",
       "      <th>AST</th>\n",
       "      <th>STL</th>\n",
       "      <th>BLK</th>\n",
       "      <th>TOV</th>\n",
       "      <th>PF</th>\n",
       "      <th>PS/G</th>\n",
       "      <th>efficiency</th>\n",
       "      <th>mins</th>\n",
       "    </tr>\n",
       "  </thead>\n",
       "  <tbody>\n",
       "    <tr>\n",
       "      <th>0</th>\n",
       "      <td>450</td>\n",
       "      <td>ORL</td>\n",
       "      <td>1050000.0</td>\n",
       "      <td>Wesley Iwundu</td>\n",
       "      <td>241</td>\n",
       "      <td>Wesley Iwundu\\iwundwe01</td>\n",
       "      <td>SF</td>\n",
       "      <td>23</td>\n",
       "      <td>ORL</td>\n",
       "      <td>62</td>\n",
       "      <td>...</td>\n",
       "      <td>1.6</td>\n",
       "      <td>2.2</td>\n",
       "      <td>0.9</td>\n",
       "      <td>0.5</td>\n",
       "      <td>0.2</td>\n",
       "      <td>0.5</td>\n",
       "      <td>1.3</td>\n",
       "      <td>3.7</td>\n",
       "      <td>4.7</td>\n",
       "      <td>(15, 20]</td>\n",
       "    </tr>\n",
       "    <tr>\n",
       "      <th>1</th>\n",
       "      <td>449</td>\n",
       "      <td>PHO</td>\n",
       "      <td>1069308.0</td>\n",
       "      <td>Isaiah Canaan</td>\n",
       "      <td>84</td>\n",
       "      <td>Isaiah Canaan\\canaais01</td>\n",
       "      <td>PG-SG</td>\n",
       "      <td>26</td>\n",
       "      <td>TOT</td>\n",
       "      <td>20</td>\n",
       "      <td>...</td>\n",
       "      <td>2.0</td>\n",
       "      <td>2.3</td>\n",
       "      <td>3.8</td>\n",
       "      <td>0.8</td>\n",
       "      <td>0.1</td>\n",
       "      <td>1.5</td>\n",
       "      <td>1.8</td>\n",
       "      <td>8.6</td>\n",
       "      <td>9.5</td>\n",
       "      <td>(20, 25]</td>\n",
       "    </tr>\n",
       "    <tr>\n",
       "      <th>2</th>\n",
       "      <td>447</td>\n",
       "      <td>NYK</td>\n",
       "      <td>1100000.0</td>\n",
       "      <td>Damyean Dotson</td>\n",
       "      <td>135</td>\n",
       "      <td>Damyean Dotson\\dotsoda01</td>\n",
       "      <td>SG</td>\n",
       "      <td>23</td>\n",
       "      <td>NYK</td>\n",
       "      <td>44</td>\n",
       "      <td>...</td>\n",
       "      <td>1.7</td>\n",
       "      <td>1.9</td>\n",
       "      <td>0.7</td>\n",
       "      <td>0.3</td>\n",
       "      <td>0.0</td>\n",
       "      <td>0.4</td>\n",
       "      <td>0.8</td>\n",
       "      <td>4.1</td>\n",
       "      <td>4.4</td>\n",
       "      <td>(10, 15]</td>\n",
       "    </tr>\n",
       "    <tr>\n",
       "      <th>3</th>\n",
       "      <td>446</td>\n",
       "      <td>BOS</td>\n",
       "      <td>1167333.0</td>\n",
       "      <td>Abdel Nader</td>\n",
       "      <td>363</td>\n",
       "      <td>Abdel Nader\\naderab01</td>\n",
       "      <td>SF</td>\n",
       "      <td>24</td>\n",
       "      <td>BOS</td>\n",
       "      <td>48</td>\n",
       "      <td>...</td>\n",
       "      <td>1.2</td>\n",
       "      <td>1.5</td>\n",
       "      <td>0.5</td>\n",
       "      <td>0.3</td>\n",
       "      <td>0.2</td>\n",
       "      <td>0.7</td>\n",
       "      <td>0.9</td>\n",
       "      <td>3.0</td>\n",
       "      <td>2.4</td>\n",
       "      <td>(10, 15]</td>\n",
       "    </tr>\n",
       "    <tr>\n",
       "      <th>4</th>\n",
       "      <td>445</td>\n",
       "      <td>SAC</td>\n",
       "      <td>1184385.0</td>\n",
       "      <td>Frank Mason</td>\n",
       "      <td>316</td>\n",
       "      <td>Frank Mason\\masonfr01</td>\n",
       "      <td>PG</td>\n",
       "      <td>23</td>\n",
       "      <td>SAC</td>\n",
       "      <td>52</td>\n",
       "      <td>...</td>\n",
       "      <td>1.9</td>\n",
       "      <td>2.5</td>\n",
       "      <td>2.8</td>\n",
       "      <td>0.7</td>\n",
       "      <td>0.2</td>\n",
       "      <td>1.3</td>\n",
       "      <td>1.4</td>\n",
       "      <td>7.9</td>\n",
       "      <td>7.9</td>\n",
       "      <td>(15, 20]</td>\n",
       "    </tr>\n",
       "  </tbody>\n",
       "</table>\n",
       "<p>5 rows × 36 columns</p>\n",
       "</div>"
      ],
      "text/plain": [
       "   Unnamed: 0 team     salary            Name   Rk                    Player  \\\n",
       "0         450  ORL  1050000.0   Wesley Iwundu  241   Wesley Iwundu\\iwundwe01   \n",
       "1         449  PHO  1069308.0   Isaiah Canaan   84   Isaiah Canaan\\canaais01   \n",
       "2         447  NYK  1100000.0  Damyean Dotson  135  Damyean Dotson\\dotsoda01   \n",
       "3         446  BOS  1167333.0     Abdel Nader  363     Abdel Nader\\naderab01   \n",
       "4         445  SAC  1184385.0     Frank Mason  316     Frank Mason\\masonfr01   \n",
       "\n",
       "     Pos  Age   Tm   G    ...     DRB  TRB  AST  STL  BLK  TOV   PF  PS/G  \\\n",
       "0     SF   23  ORL  62    ...     1.6  2.2  0.9  0.5  0.2  0.5  1.3   3.7   \n",
       "1  PG-SG   26  TOT  20    ...     2.0  2.3  3.8  0.8  0.1  1.5  1.8   8.6   \n",
       "2     SG   23  NYK  44    ...     1.7  1.9  0.7  0.3  0.0  0.4  0.8   4.1   \n",
       "3     SF   24  BOS  48    ...     1.2  1.5  0.5  0.3  0.2  0.7  0.9   3.0   \n",
       "4     PG   23  SAC  52    ...     1.9  2.5  2.8  0.7  0.2  1.3  1.4   7.9   \n",
       "\n",
       "   efficiency      mins  \n",
       "0         4.7  (15, 20]  \n",
       "1         9.5  (20, 25]  \n",
       "2         4.4  (10, 15]  \n",
       "3         2.4  (10, 15]  \n",
       "4         7.9  (15, 20]  \n",
       "\n",
       "[5 rows x 36 columns]"
      ]
     },
     "execution_count": 257,
     "metadata": {},
     "output_type": "execute_result"
    }
   ],
   "source": [
    "df5[\"mins\"] = b\n",
    "df5.head()"
   ]
  },
  {
   "cell_type": "code",
   "execution_count": 259,
   "metadata": {},
   "outputs": [],
   "source": [
    "bin5 = [0,10,20,30,40,50,60,70,80]"
   ]
  },
  {
   "cell_type": "code",
   "execution_count": 260,
   "metadata": {},
   "outputs": [
    {
     "data": {
      "text/plain": [
       "<matplotlib.axes._subplots.AxesSubplot at 0x1ee8cf8ca20>"
      ]
     },
     "execution_count": 260,
     "metadata": {},
     "output_type": "execute_result"
    },
    {
     "data": {
      "image/png": "[encoded data removed]",
      "text/plain": [
       "<Figure size 432x288 with 1 Axes>"
      ]
     },
     "metadata": {
      "needs_background": "light"
     },
     "output_type": "display_data"
    }
   ],
   "source": [
    "c = pd.cut(df5[\"G\"], bins = bin5)\n",
    "c.value_counts().plot(kind = \"bar\")"
   ]
  },
  {
   "cell_type": "code",
   "execution_count": 262,
   "metadata": {},
   "outputs": [
    {
     "data": {
      "text/html": [
       "<div>\n",
       "<style scoped>\n",
       "    .dataframe tbody tr th:only-of-type {\n",
       "        vertical-align: middle;\n",
       "    }\n",
       "\n",
       "    .dataframe tbody tr th {\n",
       "        vertical-align: top;\n",
       "    }\n",
       "\n",
       "    .dataframe thead th {\n",
       "        text-align: right;\n",
       "    }\n",
       "</style>\n",
       "<table border=\"1\" class=\"dataframe\">\n",
       "  <thead>\n",
       "    <tr style=\"text-align: right;\">\n",
       "      <th></th>\n",
       "      <th>Unnamed: 0</th>\n",
       "      <th>team</th>\n",
       "      <th>salary</th>\n",
       "      <th>Name</th>\n",
       "      <th>Rk</th>\n",
       "      <th>Player</th>\n",
       "      <th>Pos</th>\n",
       "      <th>Age</th>\n",
       "      <th>Tm</th>\n",
       "      <th>G</th>\n",
       "      <th>...</th>\n",
       "      <th>TRB</th>\n",
       "      <th>AST</th>\n",
       "      <th>STL</th>\n",
       "      <th>BLK</th>\n",
       "      <th>TOV</th>\n",
       "      <th>PF</th>\n",
       "      <th>PS/G</th>\n",
       "      <th>efficiency</th>\n",
       "      <th>mins</th>\n",
       "      <th>games</th>\n",
       "    </tr>\n",
       "  </thead>\n",
       "  <tbody>\n",
       "    <tr>\n",
       "      <th>0</th>\n",
       "      <td>450</td>\n",
       "      <td>ORL</td>\n",
       "      <td>1050000.0</td>\n",
       "      <td>Wesley Iwundu</td>\n",
       "      <td>241</td>\n",
       "      <td>Wesley Iwundu\\iwundwe01</td>\n",
       "      <td>SF</td>\n",
       "      <td>23</td>\n",
       "      <td>ORL</td>\n",
       "      <td>62</td>\n",
       "      <td>...</td>\n",
       "      <td>2.2</td>\n",
       "      <td>0.9</td>\n",
       "      <td>0.5</td>\n",
       "      <td>0.2</td>\n",
       "      <td>0.5</td>\n",
       "      <td>1.3</td>\n",
       "      <td>3.7</td>\n",
       "      <td>4.7</td>\n",
       "      <td>(15, 20]</td>\n",
       "      <td>(60, 70]</td>\n",
       "    </tr>\n",
       "    <tr>\n",
       "      <th>1</th>\n",
       "      <td>449</td>\n",
       "      <td>PHO</td>\n",
       "      <td>1069308.0</td>\n",
       "      <td>Isaiah Canaan</td>\n",
       "      <td>84</td>\n",
       "      <td>Isaiah Canaan\\canaais01</td>\n",
       "      <td>PG-SG</td>\n",
       "      <td>26</td>\n",
       "      <td>TOT</td>\n",
       "      <td>20</td>\n",
       "      <td>...</td>\n",
       "      <td>2.3</td>\n",
       "      <td>3.8</td>\n",
       "      <td>0.8</td>\n",
       "      <td>0.1</td>\n",
       "      <td>1.5</td>\n",
       "      <td>1.8</td>\n",
       "      <td>8.6</td>\n",
       "      <td>9.5</td>\n",
       "      <td>(20, 25]</td>\n",
       "      <td>(10, 20]</td>\n",
       "    </tr>\n",
       "    <tr>\n",
       "      <th>2</th>\n",
       "      <td>447</td>\n",
       "      <td>NYK</td>\n",
       "      <td>1100000.0</td>\n",
       "      <td>Damyean Dotson</td>\n",
       "      <td>135</td>\n",
       "      <td>Damyean Dotson\\dotsoda01</td>\n",
       "      <td>SG</td>\n",
       "      <td>23</td>\n",
       "      <td>NYK</td>\n",
       "      <td>44</td>\n",
       "      <td>...</td>\n",
       "      <td>1.9</td>\n",
       "      <td>0.7</td>\n",
       "      <td>0.3</td>\n",
       "      <td>0.0</td>\n",
       "      <td>0.4</td>\n",
       "      <td>0.8</td>\n",
       "      <td>4.1</td>\n",
       "      <td>4.4</td>\n",
       "      <td>(10, 15]</td>\n",
       "      <td>(40, 50]</td>\n",
       "    </tr>\n",
       "    <tr>\n",
       "      <th>3</th>\n",
       "      <td>446</td>\n",
       "      <td>BOS</td>\n",
       "      <td>1167333.0</td>\n",
       "      <td>Abdel Nader</td>\n",
       "      <td>363</td>\n",
       "      <td>Abdel Nader\\naderab01</td>\n",
       "      <td>SF</td>\n",
       "      <td>24</td>\n",
       "      <td>BOS</td>\n",
       "      <td>48</td>\n",
       "      <td>...</td>\n",
       "      <td>1.5</td>\n",
       "      <td>0.5</td>\n",
       "      <td>0.3</td>\n",
       "      <td>0.2</td>\n",
       "      <td>0.7</td>\n",
       "      <td>0.9</td>\n",
       "      <td>3.0</td>\n",
       "      <td>2.4</td>\n",
       "      <td>(10, 15]</td>\n",
       "      <td>(40, 50]</td>\n",
       "    </tr>\n",
       "    <tr>\n",
       "      <th>4</th>\n",
       "      <td>445</td>\n",
       "      <td>SAC</td>\n",
       "      <td>1184385.0</td>\n",
       "      <td>Frank Mason</td>\n",
       "      <td>316</td>\n",
       "      <td>Frank Mason\\masonfr01</td>\n",
       "      <td>PG</td>\n",
       "      <td>23</td>\n",
       "      <td>SAC</td>\n",
       "      <td>52</td>\n",
       "      <td>...</td>\n",
       "      <td>2.5</td>\n",
       "      <td>2.8</td>\n",
       "      <td>0.7</td>\n",
       "      <td>0.2</td>\n",
       "      <td>1.3</td>\n",
       "      <td>1.4</td>\n",
       "      <td>7.9</td>\n",
       "      <td>7.9</td>\n",
       "      <td>(15, 20]</td>\n",
       "      <td>(50, 60]</td>\n",
       "    </tr>\n",
       "  </tbody>\n",
       "</table>\n",
       "<p>5 rows × 37 columns</p>\n",
       "</div>"
      ],
      "text/plain": [
       "   Unnamed: 0 team     salary            Name   Rk                    Player  \\\n",
       "0         450  ORL  1050000.0   Wesley Iwundu  241   Wesley Iwundu\\iwundwe01   \n",
       "1         449  PHO  1069308.0   Isaiah Canaan   84   Isaiah Canaan\\canaais01   \n",
       "2         447  NYK  1100000.0  Damyean Dotson  135  Damyean Dotson\\dotsoda01   \n",
       "3         446  BOS  1167333.0     Abdel Nader  363     Abdel Nader\\naderab01   \n",
       "4         445  SAC  1184385.0     Frank Mason  316     Frank Mason\\masonfr01   \n",
       "\n",
       "     Pos  Age   Tm   G    ...     TRB  AST  STL  BLK  TOV   PF  PS/G  \\\n",
       "0     SF   23  ORL  62    ...     2.2  0.9  0.5  0.2  0.5  1.3   3.7   \n",
       "1  PG-SG   26  TOT  20    ...     2.3  3.8  0.8  0.1  1.5  1.8   8.6   \n",
       "2     SG   23  NYK  44    ...     1.9  0.7  0.3  0.0  0.4  0.8   4.1   \n",
       "3     SF   24  BOS  48    ...     1.5  0.5  0.3  0.2  0.7  0.9   3.0   \n",
       "4     PG   23  SAC  52    ...     2.5  2.8  0.7  0.2  1.3  1.4   7.9   \n",
       "\n",
       "   efficiency      mins     games  \n",
       "0         4.7  (15, 20]  (60, 70]  \n",
       "1         9.5  (20, 25]  (10, 20]  \n",
       "2         4.4  (10, 15]  (40, 50]  \n",
       "3         2.4  (10, 15]  (40, 50]  \n",
       "4         7.9  (15, 20]  (50, 60]  \n",
       "\n",
       "[5 rows x 37 columns]"
      ]
     },
     "execution_count": 262,
     "metadata": {},
     "output_type": "execute_result"
    }
   ],
   "source": [
    "df5[\"games\"] = c\n",
    "df5.head()"
   ]
  },
  {
   "cell_type": "code",
   "execution_count": 264,
   "metadata": {},
   "outputs": [
    {
     "data": {
      "text/plain": [
       "<matplotlib.axes._subplots.AxesSubplot at 0x1ee8cfdf7f0>"
      ]
     },
     "execution_count": 264,
     "metadata": {},
     "output_type": "execute_result"
    },
    {
     "data": {
      "image/png": "[encoded data removed]",
      "text/plain": [
       "<Figure size 432x288 with 1 Axes>"
      ]
     },
     "metadata": {
      "needs_background": "light"
     },
     "output_type": "display_data"
    }
   ],
   "source": [
    "sns.heatmap(df5.groupby(['mins', 'games'])['FGA'].mean().unstack(),\n",
    "            annot=True, cbar=False, fmt='.0f', cmap='RdBu_r')"
   ]
  },
  {
   "cell_type": "markdown",
   "metadata": {},
   "source": [
    "The main idea of this analysis is through the stats data of NBA Role Players (Middle class) to see if there is a way to help them or how they should play during the game to increase their salary.\n",
    "\n",
    "First I have to admit it is much harder than what I have imagined to analyze role player's data, I set player's salary range between 1000000 and 15000000 as role players. And there are many factors which might cause outliers. I would pay much more attention on Player's position, age, etc. in the next step.\n",
    "\n",
    "For the result, I found there's vague linear relationship between player's efficiency with the salary. The efficiency formula is simple one fetched from NBA reference.com. So my goal turns to how to increase the efficiency through the playing style. After many attempts, I found there's clear linear relationship between efficiency and field goal attempts(FGA). And through the heatmap (FGA vs # of Games and Mins per Game), players who have more Mins playing and play 40 to 50 out of whole 80 games will own the most Field Goal Attempts. The time and games are possibly related to the strength of team or other factors, which I would like to step further during the remaining time."
   ]
  }
 ],
 "metadata": {
  "kernelspec": {
   "display_name": "Python 3",
   "language": "python",
   "name": "python3"
  },
  "language_info": {
   "codemirror_mode": {
    "name": "ipython",
    "version": 3
   },
   "file_extension": ".py",
   "mimetype": "text/x-python",
   "name": "python",
   "nbconvert_exporter": "python",
   "pygments_lexer": "ipython3",
   "version": "3.7.1"
  }
 },
 "nbformat": 4,
 "nbformat_minor": 2
}
