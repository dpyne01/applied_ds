{
 "cells": [
  {
   "cell_type": "markdown",
   "metadata": {
    "slideshow": {
     "slide_type": "slide"
    }
   },
   "source": [
    "# Exploratory Data Analysis\n",
    "## Lecture 9, EM212: Applied Data Science"
   ]
  },
  {
   "cell_type": "markdown",
   "metadata": {
    "slideshow": {
     "slide_type": "slide"
    }
   },
   "source": [
    "# This lecture will include:\n",
    "\n",
    "1. A revisit to git\n",
    "2. A revisit to our dataset from lecture \n",
    "3. A more in-depth discussion of exploratory data analysis"
   ]
  },
  {
   "cell_type": "markdown",
   "metadata": {
    "slideshow": {
     "slide_type": "slide"
    }
   },
   "source": [
    "# To obtain these slides\n",
    "\n",
    "`cd your_path/applied_ds`\n",
    "\n",
    "\n",
    "`git fetch upstream`\n",
    "\n",
    "\n",
    "`git merge upstream/master`"
   ]
  },
  {
   "cell_type": "markdown",
   "metadata": {
    "slideshow": {
     "slide_type": "slide"
    }
   },
   "source": [
    "# To run this notebook\n",
    "\n",
    "`source activate em212`\n",
    "\n",
    "`jupyter notebook`"
   ]
  },
  {
   "cell_type": "markdown",
   "metadata": {
    "slideshow": {
     "slide_type": "slide"
    }
   },
   "source": [
    "# We will be revisiting\n",
    "\n",
    "### Diamonds Dataset (Wickham, 2009)\n"
   ]
  },
  {
   "cell_type": "markdown",
   "metadata": {
    "slideshow": {
     "slide_type": "fragment"
    }
   },
   "source": [
    "A data frame with 53940 rows and 10 variables:\n",
    "\n",
    " price: price in US dollars (326--18,823)\n",
    "\n",
    " carat: weight of the diamond (0.2--5.01)\n",
    "\n",
    "cut: quality of the cut (Fair, Good, Very Good, Premium, Ideal)\n",
    "\n",
    "color: diamond colour, from J (worst) to D (best)\n",
    "\n",
    "clarity: a measurement of how clear the diamond is (I1 (worst), SI2, SI1, VS2, VS1, VVS2, VVS1, IF (best))\n",
    "\n",
    "x: length in mm (0--10.74)\n",
    "\n",
    "y: width in mm (0--58.9)\n",
    "\n",
    "z: depth in mm (0--31.8)\n",
    "\n",
    "depth: total depth percentage = z / mean(x, y) = 2 * z / (x + y) (43--79)\n",
    "\n",
    "table: width of top of diamond relative to widest point (43--95)"
   ]
  },
  {
   "cell_type": "markdown",
   "metadata": {
    "slideshow": {
     "slide_type": "slide"
    }
   },
   "source": [
    "We'll also be using the same tools"
   ]
  },
  {
   "cell_type": "code",
   "execution_count": 29,
   "metadata": {
    "slideshow": {
     "slide_type": "fragment"
    }
   },
   "outputs": [],
   "source": [
    "import pandas as pd\n",
    "import numpy as np\n",
    "import seaborn as sns\n",
    "import warnings\n",
    "import statsmodels.formula.api as smf\n",
    "from sklearn.linear_model import Lasso\n",
    "import matplotlib.pyplot as plt\n",
    "warnings.filterwarnings('ignore')\n",
    "sns.set_context('talk')\n",
    "sns.set_style('whitegrid')\n",
    "sns.set_palette('Set3')"
   ]
  },
  {
   "cell_type": "code",
   "execution_count": 30,
   "metadata": {},
   "outputs": [],
   "source": [
    "import eda_hw\n",
    "import importlib"
   ]
  },
  {
   "cell_type": "code",
   "execution_count": 31,
   "metadata": {},
   "outputs": [
    {
     "data": {
      "text/plain": [
       "<module 'eda_hw' from '/Users/forde/Documents/tufts_class/eda_hw.py'>"
      ]
     },
     "execution_count": 31,
     "metadata": {},
     "output_type": "execute_result"
    }
   ],
   "source": [
    "importlib.reload(eda_hw)"
   ]
  },
  {
   "cell_type": "code",
   "execution_count": 32,
   "metadata": {},
   "outputs": [],
   "source": [
    "eda_hw.average([1,2,3])"
   ]
  },
  {
   "cell_type": "markdown",
   "metadata": {
    "slideshow": {
     "slide_type": "slide"
    }
   },
   "source": [
    "# Tabular Data in Pandas\n",
    "\n",
    "Tabular Data of rows and columns in pandas is called a DataFrame\n",
    "\n",
    "Pandas calls rows \"indices\"\n",
    "\n",
    "The dataframe is an object, which means it can call functions on itself.\n",
    "These functions are known as methods and are noted with the `oject_name.method_name()` notation\n",
    "\n",
    "`.head()` is a method that copies the first 5 rows out of the dataframe"
   ]
  },
  {
   "cell_type": "code",
   "execution_count": 33,
   "metadata": {
    "slideshow": {
     "slide_type": "fragment"
    }
   },
   "outputs": [],
   "source": [
    "diamonds = pd.read_csv('https://github.com/mwaskom/seaborn-data/blob/master/diamonds.csv?raw=true')"
   ]
  },
  {
   "cell_type": "markdown",
   "metadata": {
    "slideshow": {
     "slide_type": "slide"
    }
   },
   "source": [
    "# Exploratory Data Analysis"
   ]
  },
  {
   "cell_type": "markdown",
   "metadata": {
    "slideshow": {
     "slide_type": "fragment"
    }
   },
   "source": [
    "Allows us to both visualize and begin to understand our data.\n",
    "\n",
    "We can create basic measurements to understand what has been recorded"
   ]
  },
  {
   "cell_type": "markdown",
   "metadata": {
    "slideshow": {
     "slide_type": "slide"
    }
   },
   "source": [
    "# Counting Values\n",
    "\n",
    "For tabluar data, counting values can be useful.  The `.value_counts()` method will group partiuclar values and count them for us.  \n",
    "\n",
    "Single columns or rows of data in pandas are called Series.  We can index a particular column from the series by calling its name in brackets and quotes or calling it with as an attribute by writing `.column_name`"
   ]
  },
  {
   "cell_type": "code",
   "execution_count": 34,
   "metadata": {
    "slideshow": {
     "slide_type": "fragment"
    }
   },
   "outputs": [
    {
     "data": {
      "text/plain": [
       "<matplotlib.axes._subplots.AxesSubplot at 0x1a1ce4fba8>"
      ]
     },
     "execution_count": 34,
     "metadata": {},
     "output_type": "execute_result"
    },
    {
     "data": {
      "image/png": "[encoded data removed]",
      "text/plain": [
       "<Figure size 432x288 with 1 Axes>"
      ]
     },
     "metadata": {},
     "output_type": "display_data"
    }
   ],
   "source": [
    "diamonds['cut'].value_counts().plot(kind='bar')"
   ]
  },
  {
   "cell_type": "markdown",
   "metadata": {
    "slideshow": {
     "slide_type": "slide"
    }
   },
   "source": [
    "# To visualize these counts, we can make a bar plot\n",
    "\n",
    "Pandas allows us to join methods together"
   ]
  },
  {
   "cell_type": "code",
   "execution_count": 35,
   "metadata": {
    "slideshow": {
     "slide_type": "fragment"
    }
   },
   "outputs": [
    {
     "data": {
      "text/plain": [
       "Text(0, 0.5, 'Diamonds')"
      ]
     },
     "execution_count": 35,
     "metadata": {},
     "output_type": "execute_result"
    },
    {
     "data": {
      "image/png": "[encoded data removed]",
      "text/plain": [
       "<Figure size 432x288 with 1 Axes>"
      ]
     },
     "metadata": {},
     "output_type": "display_data"
    }
   ],
   "source": [
    "diamonds['cut'].value_counts().plot(kind='bar')\n",
    "plt.title('Diamond Cut')\n",
    "plt.ylabel('Diamonds')"
   ]
  },
  {
   "cell_type": "markdown",
   "metadata": {
    "slideshow": {
     "slide_type": "slide"
    }
   },
   "source": [
    "# Averages and Standard Deviation\n",
    "\n",
    "Recall that the average of our data is\n",
    "\n",
    "$$\\bar{x} = \\frac{\\Sigma_{i=0}^n x_i}{n}$$\n",
    "\n",
    "And our standard deviation is \n",
    "\n",
    "$$s = \\sqrt{\\frac{\\Sigma_{i=0}^n (x_i - \\mu)^2}{n-1}}$$"
   ]
  },
  {
   "cell_type": "code",
   "execution_count": 36,
   "metadata": {
    "slideshow": {
     "slide_type": "fragment"
    }
   },
   "outputs": [
    {
     "data": {
      "text/plain": [
       "True"
      ]
     },
     "execution_count": 36,
     "metadata": {},
     "output_type": "execute_result"
    }
   ],
   "source": [
    "diamonds['price'].sum()/len(diamonds.price) == diamonds.price.mean()"
   ]
  },
  {
   "cell_type": "code",
   "execution_count": 37,
   "metadata": {
    "slideshow": {
     "slide_type": "fragment"
    }
   },
   "outputs": [
    {
     "data": {
      "text/plain": [
       "3989.439738146379"
      ]
     },
     "execution_count": 37,
     "metadata": {},
     "output_type": "execute_result"
    }
   ],
   "source": [
    "diamonds.price.std()"
   ]
  },
  {
   "cell_type": "markdown",
   "metadata": {
    "slideshow": {
     "slide_type": "slide"
    }
   },
   "source": [
    "# Percentiles\n",
    "\n",
    "The $i$th percentile of a series of numbers $x$ is the number in that series that is larger than $i$% of the numbers in the series\n",
    "\n",
    "The 50th percentile is called the median"
   ]
  },
  {
   "cell_type": "code",
   "execution_count": 38,
   "metadata": {
    "slideshow": {
     "slide_type": "fragment"
    }
   },
   "outputs": [
    {
     "data": {
      "text/plain": [
       "2401.0"
      ]
     },
     "execution_count": 38,
     "metadata": {},
     "output_type": "execute_result"
    }
   ],
   "source": [
    "diamonds.price.median()"
   ]
  },
  {
   "cell_type": "code",
   "execution_count": 39,
   "metadata": {
    "slideshow": {
     "slide_type": "fragment"
    }
   },
   "outputs": [
    {
     "data": {
      "text/plain": [
       "646.0"
      ]
     },
     "execution_count": 39,
     "metadata": {},
     "output_type": "execute_result"
    }
   ],
   "source": [
    "np.percentile(diamonds.price, 10)"
   ]
  },
  {
   "cell_type": "markdown",
   "metadata": {
    "slideshow": {
     "slide_type": "slide"
    }
   },
   "source": [
    "`.describe()` provides many of these statistics in a single place"
   ]
  },
  {
   "cell_type": "code",
   "execution_count": 40,
   "metadata": {
    "slideshow": {
     "slide_type": "fragment"
    }
   },
   "outputs": [
    {
     "data": {
      "text/html": [
       "<div>\n",
       "<style scoped>\n",
       "    .dataframe tbody tr th:only-of-type {\n",
       "        vertical-align: middle;\n",
       "    }\n",
       "\n",
       "    .dataframe tbody tr th {\n",
       "        vertical-align: top;\n",
       "    }\n",
       "\n",
       "    .dataframe thead th {\n",
       "        text-align: right;\n",
       "    }\n",
       "</style>\n",
       "<table border=\"1\" class=\"dataframe\">\n",
       "  <thead>\n",
       "    <tr style=\"text-align: right;\">\n",
       "      <th></th>\n",
       "      <th>price</th>\n",
       "    </tr>\n",
       "  </thead>\n",
       "  <tbody>\n",
       "    <tr>\n",
       "      <th>count</th>\n",
       "      <td>53940.000000</td>\n",
       "    </tr>\n",
       "    <tr>\n",
       "      <th>mean</th>\n",
       "      <td>3932.799722</td>\n",
       "    </tr>\n",
       "    <tr>\n",
       "      <th>std</th>\n",
       "      <td>3989.439738</td>\n",
       "    </tr>\n",
       "    <tr>\n",
       "      <th>min</th>\n",
       "      <td>326.000000</td>\n",
       "    </tr>\n",
       "    <tr>\n",
       "      <th>25%</th>\n",
       "      <td>950.000000</td>\n",
       "    </tr>\n",
       "    <tr>\n",
       "      <th>50%</th>\n",
       "      <td>2401.000000</td>\n",
       "    </tr>\n",
       "    <tr>\n",
       "      <th>75%</th>\n",
       "      <td>5324.250000</td>\n",
       "    </tr>\n",
       "    <tr>\n",
       "      <th>max</th>\n",
       "      <td>18823.000000</td>\n",
       "    </tr>\n",
       "  </tbody>\n",
       "</table>\n",
       "</div>"
      ],
      "text/plain": [
       "              price\n",
       "count  53940.000000\n",
       "mean    3932.799722\n",
       "std     3989.439738\n",
       "min      326.000000\n",
       "25%      950.000000\n",
       "50%     2401.000000\n",
       "75%     5324.250000\n",
       "max    18823.000000"
      ]
     },
     "execution_count": 40,
     "metadata": {},
     "output_type": "execute_result"
    }
   ],
   "source": [
    "# basic statistics in pandas\n",
    "\n",
    "pd.DataFrame(diamonds.price.describe())"
   ]
  },
  {
   "cell_type": "markdown",
   "metadata": {
    "slideshow": {
     "slide_type": "slide"
    }
   },
   "source": [
    "# Pivot Tables\n",
    "\n",
    "Pivot table caluclate a basic statistic like counts, means, or percentiles across multiple characteristics, such as \n",
    "\n",
    "The average price for a specific cut and color"
   ]
  },
  {
   "cell_type": "code",
   "execution_count": 41,
   "metadata": {
    "slideshow": {
     "slide_type": "fragment"
    }
   },
   "outputs": [
    {
     "data": {
      "text/html": [
       "<div>\n",
       "<style scoped>\n",
       "    .dataframe tbody tr th:only-of-type {\n",
       "        vertical-align: middle;\n",
       "    }\n",
       "\n",
       "    .dataframe tbody tr th {\n",
       "        vertical-align: top;\n",
       "    }\n",
       "\n",
       "    .dataframe thead th {\n",
       "        text-align: right;\n",
       "    }\n",
       "</style>\n",
       "<table border=\"1\" class=\"dataframe\">\n",
       "  <thead>\n",
       "    <tr style=\"text-align: right;\">\n",
       "      <th>color</th>\n",
       "      <th>D</th>\n",
       "      <th>E</th>\n",
       "      <th>F</th>\n",
       "      <th>G</th>\n",
       "      <th>H</th>\n",
       "      <th>I</th>\n",
       "      <th>J</th>\n",
       "    </tr>\n",
       "    <tr>\n",
       "      <th>cut</th>\n",
       "      <th></th>\n",
       "      <th></th>\n",
       "      <th></th>\n",
       "      <th></th>\n",
       "      <th></th>\n",
       "      <th></th>\n",
       "      <th></th>\n",
       "    </tr>\n",
       "  </thead>\n",
       "  <tbody>\n",
       "    <tr>\n",
       "      <th>Fair</th>\n",
       "      <td>3730.0</td>\n",
       "      <td>2956.0</td>\n",
       "      <td>3035.0</td>\n",
       "      <td>3057.0</td>\n",
       "      <td>3816.0</td>\n",
       "      <td>3246.0</td>\n",
       "      <td>3302.0</td>\n",
       "    </tr>\n",
       "    <tr>\n",
       "      <th>Good</th>\n",
       "      <td>2728.5</td>\n",
       "      <td>2420.0</td>\n",
       "      <td>2647.0</td>\n",
       "      <td>3340.0</td>\n",
       "      <td>3468.5</td>\n",
       "      <td>3639.5</td>\n",
       "      <td>3733.0</td>\n",
       "    </tr>\n",
       "    <tr>\n",
       "      <th>Ideal</th>\n",
       "      <td>1576.0</td>\n",
       "      <td>1437.0</td>\n",
       "      <td>1775.0</td>\n",
       "      <td>1857.5</td>\n",
       "      <td>2278.0</td>\n",
       "      <td>2659.0</td>\n",
       "      <td>4096.0</td>\n",
       "    </tr>\n",
       "    <tr>\n",
       "      <th>Premium</th>\n",
       "      <td>2009.0</td>\n",
       "      <td>1928.0</td>\n",
       "      <td>2841.0</td>\n",
       "      <td>2745.0</td>\n",
       "      <td>4511.0</td>\n",
       "      <td>4640.0</td>\n",
       "      <td>5063.0</td>\n",
       "    </tr>\n",
       "    <tr>\n",
       "      <th>Very Good</th>\n",
       "      <td>2310.0</td>\n",
       "      <td>1989.5</td>\n",
       "      <td>2471.0</td>\n",
       "      <td>2437.0</td>\n",
       "      <td>3734.0</td>\n",
       "      <td>3888.0</td>\n",
       "      <td>4113.0</td>\n",
       "    </tr>\n",
       "  </tbody>\n",
       "</table>\n",
       "</div>"
      ],
      "text/plain": [
       "color           D       E       F       G       H       I       J\n",
       "cut                                                              \n",
       "Fair       3730.0  2956.0  3035.0  3057.0  3816.0  3246.0  3302.0\n",
       "Good       2728.5  2420.0  2647.0  3340.0  3468.5  3639.5  3733.0\n",
       "Ideal      1576.0  1437.0  1775.0  1857.5  2278.0  2659.0  4096.0\n",
       "Premium    2009.0  1928.0  2841.0  2745.0  4511.0  4640.0  5063.0\n",
       "Very Good  2310.0  1989.5  2471.0  2437.0  3734.0  3888.0  4113.0"
      ]
     },
     "execution_count": 41,
     "metadata": {},
     "output_type": "execute_result"
    }
   ],
   "source": [
    "diamonds.groupby(['cut', 'color'])['price'].median().unstack()"
   ]
  },
  {
   "cell_type": "markdown",
   "metadata": {
    "slideshow": {
     "slide_type": "slide"
    }
   },
   "source": [
    "These visualizations are improved with a heatmap"
   ]
  },
  {
   "cell_type": "code",
   "execution_count": 42,
   "metadata": {
    "slideshow": {
     "slide_type": "fragment"
    }
   },
   "outputs": [
    {
     "data": {
      "text/plain": [
       "<matplotlib.axes._subplots.AxesSubplot at 0x1a1cf95d68>"
      ]
     },
     "execution_count": 42,
     "metadata": {},
     "output_type": "execute_result"
    },
    {
     "data": {
      "image/png": "[encoded data removed]",
      "text/plain": [
       "<Figure size 432x288 with 1 Axes>"
      ]
     },
     "metadata": {},
     "output_type": "display_data"
    }
   ],
   "source": [
    "sns.heatmap(diamonds.groupby(['cut', 'color'])['price'].mean().unstack(),\n",
    "annot=True, cbar=False, fmt='.0f', cmap='RdBu_r')"
   ]
  },
  {
   "cell_type": "markdown",
   "metadata": {
    "slideshow": {
     "slide_type": "slide"
    }
   },
   "source": [
    "# Histograms\n",
    "\n",
    "`np.arange` makes a linearly spaced array of numbers between the lowest and the highest with whatever spacing provided to cutomize the bins"
   ]
  },
  {
   "cell_type": "code",
   "execution_count": 43,
   "metadata": {
    "slideshow": {
     "slide_type": "fragment"
    }
   },
   "outputs": [
    {
     "data": {
      "text/plain": [
       "Text(0, 0.5, 'number of diamonds')"
      ]
     },
     "execution_count": 43,
     "metadata": {},
     "output_type": "execute_result"
    },
    {
     "data": {
      "image/png": "[encoded data removed]",
      "text/plain": [
       "<Figure size 432x288 with 1 Axes>"
      ]
     },
     "metadata": {},
     "output_type": "display_data"
    }
   ],
   "source": [
    "# a simple histogram in pandas\n",
    "\n",
    "diamonds['price'].hist(bins=np.arange(0,20000,2500))\n",
    "plt.xlabel('price')\n",
    "plt.ylabel('number of diamonds')"
   ]
  },
  {
   "cell_type": "markdown",
   "metadata": {
    "slideshow": {
     "slide_type": "slide"
    }
   },
   "source": [
    "# Categorical variables\n",
    "\n",
    "Most categorical variable can be created by declaring the variable as `.astype('category')`\n",
    "\n",
    "by delcaring `ordered=True` we can include a specific ordering"
   ]
  },
  {
   "cell_type": "markdown",
   "metadata": {
    "slideshow": {
     "slide_type": "slide"
    }
   },
   "source": [
    "cut: quality of the cut (Fair, Good, Very Good, Premium, Ideal)\n",
    "\n",
    "color: diamond colour, from J (worst) to D (best)\n",
    "\n",
    "clarity: a measurement of how clear the diamond is (I1 (worst), SI2, SI1, VS2, VS1, VVS2, VVS1, IF (best))"
   ]
  },
  {
   "cell_type": "code",
   "execution_count": 44,
   "metadata": {
    "slideshow": {
     "slide_type": "fragment"
    }
   },
   "outputs": [
    {
     "name": "stdout",
     "output_type": "stream",
     "text": [
      "['Fair', 'Good', 'Very Good', 'Premium', 'Ideal']\n",
      "['I1', 'SI2', 'SI1', 'VS2', 'VS1', 'VVS2', 'VVS1', 'IF']\n",
      "['J' 'I' 'H' 'G' 'F' 'E' 'D']\n"
     ]
    }
   ],
   "source": [
    "cut_ranking = ['Fair', 'Good', 'Very Good', 'Premium', 'Ideal']\n",
    "print(cut_ranking)\n",
    "clarity_ranking = 'I1, SI2, SI1, VS2, VS1, VVS2, VVS1, IF'.replace(' ', '').split(',')\n",
    "print(clarity_ranking)\n",
    "color_ranking = diamonds.loc[:,'color'].drop_duplicates().sort_values(ascending=False).values\n",
    "print(color_ranking)"
   ]
  },
  {
   "cell_type": "code",
   "execution_count": 45,
   "metadata": {
    "slideshow": {
     "slide_type": "slide"
    }
   },
   "outputs": [],
   "source": [
    "columns_n_orders = {'cut': cut_ranking, 'clarity': clarity_ranking, 'color': color_ranking}\n",
    "\n",
    "for column, ordering in columns_n_orders.items():\n",
    "    diamonds.loc[:,column] = diamonds.loc[:,column]\\\n",
    "    .astype('category', ordered=True, categories=ordering)"
   ]
  },
  {
   "cell_type": "markdown",
   "metadata": {
    "slideshow": {
     "slide_type": "fragment"
    }
   },
   "source": [
    "We just made a [dictionary](https://docs.python.org/3/tutorial/datastructures.html#dictionaries) to keep the column name and order we want together.  Then we [added the ordering the each column in pandas](https://pandas.pydata.org/pandas-docs/stable/user_guide/categorical.html)"
   ]
  },
  {
   "cell_type": "markdown",
   "metadata": {
    "slideshow": {
     "slide_type": "slide"
    }
   },
   "source": [
    "Scatterplots allow us to create simple plots of multiple variables in our dataset"
   ]
  },
  {
   "cell_type": "code",
   "execution_count": 46,
   "metadata": {
    "slideshow": {
     "slide_type": "fragment"
    }
   },
   "outputs": [
    {
     "name": "stderr",
     "output_type": "stream",
     "text": [
      "'c' argument looks like a single numeric RGB or RGBA sequence, which should be avoided as value-mapping will have precedence in case its length matches with 'x' & 'y'.  Please use a 2-D array with a single row if you really want to specify the same RGB or RGBA value for all points.\n"
     ]
    },
    {
     "data": {
      "text/plain": [
       "<matplotlib.axes._subplots.AxesSubplot at 0x1a1e1e8978>"
      ]
     },
     "execution_count": 46,
     "metadata": {},
     "output_type": "execute_result"
    },
    {
     "data": {
      "image/png": "[encoded data removed]",
      "text/plain": [
       "<Figure size 432x288 with 1 Axes>"
      ]
     },
     "metadata": {},
     "output_type": "display_data"
    }
   ],
   "source": [
    "# a simple scatterplot \n",
    "\n",
    "diamonds.plot.scatter('carat', 'price')"
   ]
  },
  {
   "cell_type": "code",
   "execution_count": 47,
   "metadata": {
    "slideshow": {
     "slide_type": "slide"
    }
   },
   "outputs": [
    {
     "name": "stderr",
     "output_type": "stream",
     "text": [
      "'c' argument looks like a single numeric RGB or RGBA sequence, which should be avoided as value-mapping will have precedence in case its length matches with 'x' & 'y'.  Please use a 2-D array with a single row if you really want to specify the same RGB or RGBA value for all points.\n"
     ]
    },
    {
     "data": {
      "text/plain": [
       "<matplotlib.axes._subplots.AxesSubplot at 0x1a1e1bd710>"
      ]
     },
     "execution_count": 47,
     "metadata": {},
     "output_type": "execute_result"
    },
    {
     "data": {
      "image/png": "[encoded data removed]",
      "text/plain": [
       "<Figure size 468x468 with 1 Axes>"
      ]
     },
     "metadata": {},
     "output_type": "display_data"
    }
   ],
   "source": [
    "# a more easy to read scatterplot \n",
    "f, ax = plt.subplots(figsize=(6.5, 6.5))\n",
    "diamonds.plot.scatter('carat', 'price', alpha=0.15,ax=ax)"
   ]
  },
  {
   "cell_type": "markdown",
   "metadata": {
    "slideshow": {
     "slide_type": "slide"
    }
   },
   "source": [
    "# Boxplots\n",
    "\n",
    "Boxplots are a simple way to display quantiles in our data. \n",
    "\n",
    "The box shows the 25th, 50th and 75th percentile\n",
    "\n",
    "The bars at the top and bottom of the boxes are 1.5 times the difference between the 75th and 25th percentile\n",
    "\n",
    "Little dots are outliers"
   ]
  },
  {
   "cell_type": "code",
   "execution_count": 48,
   "metadata": {
    "slideshow": {
     "slide_type": "slide"
    }
   },
   "outputs": [
    {
     "data": {
      "text/plain": [
       "<matplotlib.axes._subplots.AxesSubplot at 0x1a1ddfc9e8>"
      ]
     },
     "execution_count": 48,
     "metadata": {},
     "output_type": "execute_result"
    },
    {
     "data": {
      "image/png": "[encoded data removed]",
      "text/plain": [
       "<Figure size 468x468 with 1 Axes>"
      ]
     },
     "metadata": {},
     "output_type": "display_data"
    }
   ],
   "source": [
    "f, ax = plt.subplots(figsize=(6.5, 6.5))\n",
    "sns.boxplot(x=\"color\", y=\"price\", data=diamonds, fliersize=0.5, linewidth=0.75, ax=ax)"
   ]
  },
  {
   "cell_type": "markdown",
   "metadata": {
    "slideshow": {
     "slide_type": "slide"
    }
   },
   "source": [
    "# Appending Data\n",
    "\n",
    "Here is some data from [Chu, 2001](http://jse.amstat.org/v9n2/datasets.chu.html)\n",
    "\n",
    "carat: weight of diamond stones in carat units\n",
    "\n",
    "color: Colour - D, E, F, G, H or I\n",
    "\n",
    "clarity: IF, VVS1, VVS2, VS1 or VS2\n",
    "\n",
    "Certification Body: GIA, IGI or HRD\n",
    "\n",
    "price: Price (Singapore $)"
   ]
  },
  {
   "cell_type": "code",
   "execution_count": 49,
   "metadata": {
    "slideshow": {
     "slide_type": "slide"
    }
   },
   "outputs": [
    {
     "data": {
      "text/html": [
       "<div>\n",
       "<style scoped>\n",
       "    .dataframe tbody tr th:only-of-type {\n",
       "        vertical-align: middle;\n",
       "    }\n",
       "\n",
       "    .dataframe tbody tr th {\n",
       "        vertical-align: top;\n",
       "    }\n",
       "\n",
       "    .dataframe thead th {\n",
       "        text-align: right;\n",
       "    }\n",
       "</style>\n",
       "<table border=\"1\" class=\"dataframe\">\n",
       "  <thead>\n",
       "    <tr style=\"text-align: right;\">\n",
       "      <th></th>\n",
       "      <th>carat</th>\n",
       "      <th>color</th>\n",
       "      <th>clarity</th>\n",
       "      <th>certification</th>\n",
       "      <th>price_sg</th>\n",
       "    </tr>\n",
       "  </thead>\n",
       "  <tbody>\n",
       "    <tr>\n",
       "      <th>0</th>\n",
       "      <td>0.30</td>\n",
       "      <td>D</td>\n",
       "      <td>VS2</td>\n",
       "      <td>GIA</td>\n",
       "      <td>1302</td>\n",
       "    </tr>\n",
       "    <tr>\n",
       "      <th>1</th>\n",
       "      <td>0.30</td>\n",
       "      <td>E</td>\n",
       "      <td>VS1</td>\n",
       "      <td>GIA</td>\n",
       "      <td>1510</td>\n",
       "    </tr>\n",
       "    <tr>\n",
       "      <th>2</th>\n",
       "      <td>0.30</td>\n",
       "      <td>G</td>\n",
       "      <td>VVS1</td>\n",
       "      <td>GIA</td>\n",
       "      <td>1510</td>\n",
       "    </tr>\n",
       "    <tr>\n",
       "      <th>3</th>\n",
       "      <td>0.30</td>\n",
       "      <td>G</td>\n",
       "      <td>VS1</td>\n",
       "      <td>GIA</td>\n",
       "      <td>1260</td>\n",
       "    </tr>\n",
       "    <tr>\n",
       "      <th>4</th>\n",
       "      <td>0.31</td>\n",
       "      <td>D</td>\n",
       "      <td>VS1</td>\n",
       "      <td>GIA</td>\n",
       "      <td>1641</td>\n",
       "    </tr>\n",
       "  </tbody>\n",
       "</table>\n",
       "</div>"
      ],
      "text/plain": [
       "   carat color clarity certification  price_sg\n",
       "0   0.30     D     VS2           GIA      1302\n",
       "1   0.30     E     VS1           GIA      1510\n",
       "2   0.30     G    VVS1           GIA      1510\n",
       "3   0.30     G     VS1           GIA      1260\n",
       "4   0.31     D     VS1           GIA      1641"
      ]
     },
     "execution_count": 49,
     "metadata": {},
     "output_type": "execute_result"
    }
   ],
   "source": [
    "straits_data = pd.read_csv('http://jse.amstat.org/v9n2/4Cdata.txt', sep = '\\s+', names=['carat', 'color', 'clarity', 'certification', 'price_sg'])\n",
    "straits_data.head()"
   ]
  },
  {
   "cell_type": "code",
   "execution_count": 50,
   "metadata": {
    "slideshow": {
     "slide_type": "fragment"
    }
   },
   "outputs": [
    {
     "data": {
      "text/plain": [
       "308"
      ]
     },
     "execution_count": 50,
     "metadata": {},
     "output_type": "execute_result"
    }
   ],
   "source": [
    "len(straits_data)"
   ]
  },
  {
   "cell_type": "code",
   "execution_count": 51,
   "metadata": {
    "slideshow": {
     "slide_type": "slide"
    }
   },
   "outputs": [],
   "source": [
    "straits_data['price'] = 0.74 * straits_data.price_sg\n",
    "\n"
   ]
  },
  {
   "cell_type": "code",
   "execution_count": 52,
   "metadata": {
    "slideshow": {
     "slide_type": "fragment"
    }
   },
   "outputs": [
    {
     "data": {
      "text/html": [
       "<div>\n",
       "<style scoped>\n",
       "    .dataframe tbody tr th:only-of-type {\n",
       "        vertical-align: middle;\n",
       "    }\n",
       "\n",
       "    .dataframe tbody tr th {\n",
       "        vertical-align: top;\n",
       "    }\n",
       "\n",
       "    .dataframe thead th {\n",
       "        text-align: right;\n",
       "    }\n",
       "</style>\n",
       "<table border=\"1\" class=\"dataframe\">\n",
       "  <thead>\n",
       "    <tr style=\"text-align: right;\">\n",
       "      <th></th>\n",
       "      <th>carat</th>\n",
       "      <th>certification</th>\n",
       "      <th>clarity</th>\n",
       "      <th>color</th>\n",
       "      <th>cut</th>\n",
       "      <th>depth</th>\n",
       "      <th>price</th>\n",
       "      <th>price_sg</th>\n",
       "      <th>table</th>\n",
       "      <th>x</th>\n",
       "      <th>y</th>\n",
       "      <th>z</th>\n",
       "      <th>country</th>\n",
       "      <th>population</th>\n",
       "    </tr>\n",
       "  </thead>\n",
       "  <tbody>\n",
       "    <tr>\n",
       "      <th>0</th>\n",
       "      <td>0.23</td>\n",
       "      <td>NaN</td>\n",
       "      <td>SI2</td>\n",
       "      <td>E</td>\n",
       "      <td>Ideal</td>\n",
       "      <td>61.5</td>\n",
       "      <td>326.00</td>\n",
       "      <td>NaN</td>\n",
       "      <td>55.0</td>\n",
       "      <td>3.95</td>\n",
       "      <td>3.98</td>\n",
       "      <td>2.43</td>\n",
       "      <td>us</td>\n",
       "      <td>327.20</td>\n",
       "    </tr>\n",
       "    <tr>\n",
       "      <th>1</th>\n",
       "      <td>0.21</td>\n",
       "      <td>NaN</td>\n",
       "      <td>SI1</td>\n",
       "      <td>E</td>\n",
       "      <td>Premium</td>\n",
       "      <td>59.8</td>\n",
       "      <td>326.00</td>\n",
       "      <td>NaN</td>\n",
       "      <td>61.0</td>\n",
       "      <td>3.89</td>\n",
       "      <td>3.84</td>\n",
       "      <td>2.31</td>\n",
       "      <td>us</td>\n",
       "      <td>327.20</td>\n",
       "    </tr>\n",
       "    <tr>\n",
       "      <th>2</th>\n",
       "      <td>0.23</td>\n",
       "      <td>NaN</td>\n",
       "      <td>VS1</td>\n",
       "      <td>E</td>\n",
       "      <td>Good</td>\n",
       "      <td>56.9</td>\n",
       "      <td>327.00</td>\n",
       "      <td>NaN</td>\n",
       "      <td>65.0</td>\n",
       "      <td>4.05</td>\n",
       "      <td>4.07</td>\n",
       "      <td>2.31</td>\n",
       "      <td>us</td>\n",
       "      <td>327.20</td>\n",
       "    </tr>\n",
       "    <tr>\n",
       "      <th>3</th>\n",
       "      <td>0.29</td>\n",
       "      <td>NaN</td>\n",
       "      <td>VS2</td>\n",
       "      <td>I</td>\n",
       "      <td>Premium</td>\n",
       "      <td>62.4</td>\n",
       "      <td>334.00</td>\n",
       "      <td>NaN</td>\n",
       "      <td>58.0</td>\n",
       "      <td>4.20</td>\n",
       "      <td>4.23</td>\n",
       "      <td>2.63</td>\n",
       "      <td>us</td>\n",
       "      <td>327.20</td>\n",
       "    </tr>\n",
       "    <tr>\n",
       "      <th>4</th>\n",
       "      <td>0.31</td>\n",
       "      <td>NaN</td>\n",
       "      <td>SI2</td>\n",
       "      <td>J</td>\n",
       "      <td>Good</td>\n",
       "      <td>63.3</td>\n",
       "      <td>335.00</td>\n",
       "      <td>NaN</td>\n",
       "      <td>58.0</td>\n",
       "      <td>4.34</td>\n",
       "      <td>4.35</td>\n",
       "      <td>2.75</td>\n",
       "      <td>us</td>\n",
       "      <td>327.20</td>\n",
       "    </tr>\n",
       "    <tr>\n",
       "      <th>5</th>\n",
       "      <td>0.24</td>\n",
       "      <td>NaN</td>\n",
       "      <td>VVS2</td>\n",
       "      <td>J</td>\n",
       "      <td>Very Good</td>\n",
       "      <td>62.8</td>\n",
       "      <td>336.00</td>\n",
       "      <td>NaN</td>\n",
       "      <td>57.0</td>\n",
       "      <td>3.94</td>\n",
       "      <td>3.96</td>\n",
       "      <td>2.48</td>\n",
       "      <td>us</td>\n",
       "      <td>327.20</td>\n",
       "    </tr>\n",
       "    <tr>\n",
       "      <th>6</th>\n",
       "      <td>0.24</td>\n",
       "      <td>NaN</td>\n",
       "      <td>VVS1</td>\n",
       "      <td>I</td>\n",
       "      <td>Very Good</td>\n",
       "      <td>62.3</td>\n",
       "      <td>336.00</td>\n",
       "      <td>NaN</td>\n",
       "      <td>57.0</td>\n",
       "      <td>3.95</td>\n",
       "      <td>3.98</td>\n",
       "      <td>2.47</td>\n",
       "      <td>us</td>\n",
       "      <td>327.20</td>\n",
       "    </tr>\n",
       "    <tr>\n",
       "      <th>7</th>\n",
       "      <td>0.26</td>\n",
       "      <td>NaN</td>\n",
       "      <td>SI1</td>\n",
       "      <td>H</td>\n",
       "      <td>Very Good</td>\n",
       "      <td>61.9</td>\n",
       "      <td>337.00</td>\n",
       "      <td>NaN</td>\n",
       "      <td>55.0</td>\n",
       "      <td>4.07</td>\n",
       "      <td>4.11</td>\n",
       "      <td>2.53</td>\n",
       "      <td>us</td>\n",
       "      <td>327.20</td>\n",
       "    </tr>\n",
       "    <tr>\n",
       "      <th>8</th>\n",
       "      <td>0.22</td>\n",
       "      <td>NaN</td>\n",
       "      <td>VS2</td>\n",
       "      <td>E</td>\n",
       "      <td>Fair</td>\n",
       "      <td>65.1</td>\n",
       "      <td>337.00</td>\n",
       "      <td>NaN</td>\n",
       "      <td>61.0</td>\n",
       "      <td>3.87</td>\n",
       "      <td>3.78</td>\n",
       "      <td>2.49</td>\n",
       "      <td>us</td>\n",
       "      <td>327.20</td>\n",
       "    </tr>\n",
       "    <tr>\n",
       "      <th>9</th>\n",
       "      <td>0.23</td>\n",
       "      <td>NaN</td>\n",
       "      <td>VS1</td>\n",
       "      <td>H</td>\n",
       "      <td>Very Good</td>\n",
       "      <td>59.4</td>\n",
       "      <td>338.00</td>\n",
       "      <td>NaN</td>\n",
       "      <td>61.0</td>\n",
       "      <td>4.00</td>\n",
       "      <td>4.05</td>\n",
       "      <td>2.39</td>\n",
       "      <td>us</td>\n",
       "      <td>327.20</td>\n",
       "    </tr>\n",
       "    <tr>\n",
       "      <th>10</th>\n",
       "      <td>0.30</td>\n",
       "      <td>NaN</td>\n",
       "      <td>SI1</td>\n",
       "      <td>J</td>\n",
       "      <td>Good</td>\n",
       "      <td>64.0</td>\n",
       "      <td>339.00</td>\n",
       "      <td>NaN</td>\n",
       "      <td>55.0</td>\n",
       "      <td>4.25</td>\n",
       "      <td>4.28</td>\n",
       "      <td>2.73</td>\n",
       "      <td>us</td>\n",
       "      <td>327.20</td>\n",
       "    </tr>\n",
       "    <tr>\n",
       "      <th>11</th>\n",
       "      <td>0.23</td>\n",
       "      <td>NaN</td>\n",
       "      <td>VS1</td>\n",
       "      <td>J</td>\n",
       "      <td>Ideal</td>\n",
       "      <td>62.8</td>\n",
       "      <td>340.00</td>\n",
       "      <td>NaN</td>\n",
       "      <td>56.0</td>\n",
       "      <td>3.93</td>\n",
       "      <td>3.90</td>\n",
       "      <td>2.46</td>\n",
       "      <td>us</td>\n",
       "      <td>327.20</td>\n",
       "    </tr>\n",
       "    <tr>\n",
       "      <th>12</th>\n",
       "      <td>0.22</td>\n",
       "      <td>NaN</td>\n",
       "      <td>SI1</td>\n",
       "      <td>F</td>\n",
       "      <td>Premium</td>\n",
       "      <td>60.4</td>\n",
       "      <td>342.00</td>\n",
       "      <td>NaN</td>\n",
       "      <td>61.0</td>\n",
       "      <td>3.88</td>\n",
       "      <td>3.84</td>\n",
       "      <td>2.33</td>\n",
       "      <td>us</td>\n",
       "      <td>327.20</td>\n",
       "    </tr>\n",
       "    <tr>\n",
       "      <th>13</th>\n",
       "      <td>0.31</td>\n",
       "      <td>NaN</td>\n",
       "      <td>SI2</td>\n",
       "      <td>J</td>\n",
       "      <td>Ideal</td>\n",
       "      <td>62.2</td>\n",
       "      <td>344.00</td>\n",
       "      <td>NaN</td>\n",
       "      <td>54.0</td>\n",
       "      <td>4.35</td>\n",
       "      <td>4.37</td>\n",
       "      <td>2.71</td>\n",
       "      <td>us</td>\n",
       "      <td>327.20</td>\n",
       "    </tr>\n",
       "    <tr>\n",
       "      <th>14</th>\n",
       "      <td>0.20</td>\n",
       "      <td>NaN</td>\n",
       "      <td>SI2</td>\n",
       "      <td>E</td>\n",
       "      <td>Premium</td>\n",
       "      <td>60.2</td>\n",
       "      <td>345.00</td>\n",
       "      <td>NaN</td>\n",
       "      <td>62.0</td>\n",
       "      <td>3.79</td>\n",
       "      <td>3.75</td>\n",
       "      <td>2.27</td>\n",
       "      <td>us</td>\n",
       "      <td>327.20</td>\n",
       "    </tr>\n",
       "    <tr>\n",
       "      <th>15</th>\n",
       "      <td>0.32</td>\n",
       "      <td>NaN</td>\n",
       "      <td>I1</td>\n",
       "      <td>E</td>\n",
       "      <td>Premium</td>\n",
       "      <td>60.9</td>\n",
       "      <td>345.00</td>\n",
       "      <td>NaN</td>\n",
       "      <td>58.0</td>\n",
       "      <td>4.38</td>\n",
       "      <td>4.42</td>\n",
       "      <td>2.68</td>\n",
       "      <td>us</td>\n",
       "      <td>327.20</td>\n",
       "    </tr>\n",
       "    <tr>\n",
       "      <th>16</th>\n",
       "      <td>0.30</td>\n",
       "      <td>NaN</td>\n",
       "      <td>SI2</td>\n",
       "      <td>I</td>\n",
       "      <td>Ideal</td>\n",
       "      <td>62.0</td>\n",
       "      <td>348.00</td>\n",
       "      <td>NaN</td>\n",
       "      <td>54.0</td>\n",
       "      <td>4.31</td>\n",
       "      <td>4.34</td>\n",
       "      <td>2.68</td>\n",
       "      <td>us</td>\n",
       "      <td>327.20</td>\n",
       "    </tr>\n",
       "    <tr>\n",
       "      <th>17</th>\n",
       "      <td>0.30</td>\n",
       "      <td>NaN</td>\n",
       "      <td>SI1</td>\n",
       "      <td>J</td>\n",
       "      <td>Good</td>\n",
       "      <td>63.4</td>\n",
       "      <td>351.00</td>\n",
       "      <td>NaN</td>\n",
       "      <td>54.0</td>\n",
       "      <td>4.23</td>\n",
       "      <td>4.29</td>\n",
       "      <td>2.70</td>\n",
       "      <td>us</td>\n",
       "      <td>327.20</td>\n",
       "    </tr>\n",
       "    <tr>\n",
       "      <th>18</th>\n",
       "      <td>0.30</td>\n",
       "      <td>NaN</td>\n",
       "      <td>SI1</td>\n",
       "      <td>J</td>\n",
       "      <td>Good</td>\n",
       "      <td>63.8</td>\n",
       "      <td>351.00</td>\n",
       "      <td>NaN</td>\n",
       "      <td>56.0</td>\n",
       "      <td>4.23</td>\n",
       "      <td>4.26</td>\n",
       "      <td>2.71</td>\n",
       "      <td>us</td>\n",
       "      <td>327.20</td>\n",
       "    </tr>\n",
       "    <tr>\n",
       "      <th>19</th>\n",
       "      <td>0.30</td>\n",
       "      <td>NaN</td>\n",
       "      <td>SI1</td>\n",
       "      <td>J</td>\n",
       "      <td>Very Good</td>\n",
       "      <td>62.7</td>\n",
       "      <td>351.00</td>\n",
       "      <td>NaN</td>\n",
       "      <td>59.0</td>\n",
       "      <td>4.21</td>\n",
       "      <td>4.27</td>\n",
       "      <td>2.66</td>\n",
       "      <td>us</td>\n",
       "      <td>327.20</td>\n",
       "    </tr>\n",
       "    <tr>\n",
       "      <th>20</th>\n",
       "      <td>0.30</td>\n",
       "      <td>NaN</td>\n",
       "      <td>SI2</td>\n",
       "      <td>I</td>\n",
       "      <td>Good</td>\n",
       "      <td>63.3</td>\n",
       "      <td>351.00</td>\n",
       "      <td>NaN</td>\n",
       "      <td>56.0</td>\n",
       "      <td>4.26</td>\n",
       "      <td>4.30</td>\n",
       "      <td>2.71</td>\n",
       "      <td>us</td>\n",
       "      <td>327.20</td>\n",
       "    </tr>\n",
       "    <tr>\n",
       "      <th>21</th>\n",
       "      <td>0.23</td>\n",
       "      <td>NaN</td>\n",
       "      <td>VS2</td>\n",
       "      <td>E</td>\n",
       "      <td>Very Good</td>\n",
       "      <td>63.8</td>\n",
       "      <td>352.00</td>\n",
       "      <td>NaN</td>\n",
       "      <td>55.0</td>\n",
       "      <td>3.85</td>\n",
       "      <td>3.92</td>\n",
       "      <td>2.48</td>\n",
       "      <td>us</td>\n",
       "      <td>327.20</td>\n",
       "    </tr>\n",
       "    <tr>\n",
       "      <th>22</th>\n",
       "      <td>0.23</td>\n",
       "      <td>NaN</td>\n",
       "      <td>VS1</td>\n",
       "      <td>H</td>\n",
       "      <td>Very Good</td>\n",
       "      <td>61.0</td>\n",
       "      <td>353.00</td>\n",
       "      <td>NaN</td>\n",
       "      <td>57.0</td>\n",
       "      <td>3.94</td>\n",
       "      <td>3.96</td>\n",
       "      <td>2.41</td>\n",
       "      <td>us</td>\n",
       "      <td>327.20</td>\n",
       "    </tr>\n",
       "    <tr>\n",
       "      <th>23</th>\n",
       "      <td>0.31</td>\n",
       "      <td>NaN</td>\n",
       "      <td>SI1</td>\n",
       "      <td>J</td>\n",
       "      <td>Very Good</td>\n",
       "      <td>59.4</td>\n",
       "      <td>353.00</td>\n",
       "      <td>NaN</td>\n",
       "      <td>62.0</td>\n",
       "      <td>4.39</td>\n",
       "      <td>4.43</td>\n",
       "      <td>2.62</td>\n",
       "      <td>us</td>\n",
       "      <td>327.20</td>\n",
       "    </tr>\n",
       "    <tr>\n",
       "      <th>24</th>\n",
       "      <td>0.31</td>\n",
       "      <td>NaN</td>\n",
       "      <td>SI1</td>\n",
       "      <td>J</td>\n",
       "      <td>Very Good</td>\n",
       "      <td>58.1</td>\n",
       "      <td>353.00</td>\n",
       "      <td>NaN</td>\n",
       "      <td>62.0</td>\n",
       "      <td>4.44</td>\n",
       "      <td>4.47</td>\n",
       "      <td>2.59</td>\n",
       "      <td>us</td>\n",
       "      <td>327.20</td>\n",
       "    </tr>\n",
       "    <tr>\n",
       "      <th>25</th>\n",
       "      <td>0.23</td>\n",
       "      <td>NaN</td>\n",
       "      <td>VVS2</td>\n",
       "      <td>G</td>\n",
       "      <td>Very Good</td>\n",
       "      <td>60.4</td>\n",
       "      <td>354.00</td>\n",
       "      <td>NaN</td>\n",
       "      <td>58.0</td>\n",
       "      <td>3.97</td>\n",
       "      <td>4.01</td>\n",
       "      <td>2.41</td>\n",
       "      <td>us</td>\n",
       "      <td>327.20</td>\n",
       "    </tr>\n",
       "    <tr>\n",
       "      <th>26</th>\n",
       "      <td>0.24</td>\n",
       "      <td>NaN</td>\n",
       "      <td>VS1</td>\n",
       "      <td>I</td>\n",
       "      <td>Premium</td>\n",
       "      <td>62.5</td>\n",
       "      <td>355.00</td>\n",
       "      <td>NaN</td>\n",
       "      <td>57.0</td>\n",
       "      <td>3.97</td>\n",
       "      <td>3.94</td>\n",
       "      <td>2.47</td>\n",
       "      <td>us</td>\n",
       "      <td>327.20</td>\n",
       "    </tr>\n",
       "    <tr>\n",
       "      <th>27</th>\n",
       "      <td>0.30</td>\n",
       "      <td>NaN</td>\n",
       "      <td>VS2</td>\n",
       "      <td>J</td>\n",
       "      <td>Very Good</td>\n",
       "      <td>62.2</td>\n",
       "      <td>357.00</td>\n",
       "      <td>NaN</td>\n",
       "      <td>57.0</td>\n",
       "      <td>4.28</td>\n",
       "      <td>4.30</td>\n",
       "      <td>2.67</td>\n",
       "      <td>us</td>\n",
       "      <td>327.20</td>\n",
       "    </tr>\n",
       "    <tr>\n",
       "      <th>28</th>\n",
       "      <td>0.23</td>\n",
       "      <td>NaN</td>\n",
       "      <td>VS2</td>\n",
       "      <td>D</td>\n",
       "      <td>Very Good</td>\n",
       "      <td>60.5</td>\n",
       "      <td>357.00</td>\n",
       "      <td>NaN</td>\n",
       "      <td>61.0</td>\n",
       "      <td>3.96</td>\n",
       "      <td>3.97</td>\n",
       "      <td>2.40</td>\n",
       "      <td>us</td>\n",
       "      <td>327.20</td>\n",
       "    </tr>\n",
       "    <tr>\n",
       "      <th>29</th>\n",
       "      <td>0.23</td>\n",
       "      <td>NaN</td>\n",
       "      <td>VS1</td>\n",
       "      <td>F</td>\n",
       "      <td>Very Good</td>\n",
       "      <td>60.9</td>\n",
       "      <td>357.00</td>\n",
       "      <td>NaN</td>\n",
       "      <td>57.0</td>\n",
       "      <td>3.96</td>\n",
       "      <td>3.99</td>\n",
       "      <td>2.42</td>\n",
       "      <td>us</td>\n",
       "      <td>327.20</td>\n",
       "    </tr>\n",
       "    <tr>\n",
       "      <th>...</th>\n",
       "      <td>...</td>\n",
       "      <td>...</td>\n",
       "      <td>...</td>\n",
       "      <td>...</td>\n",
       "      <td>...</td>\n",
       "      <td>...</td>\n",
       "      <td>...</td>\n",
       "      <td>...</td>\n",
       "      <td>...</td>\n",
       "      <td>...</td>\n",
       "      <td>...</td>\n",
       "      <td>...</td>\n",
       "      <td>...</td>\n",
       "      <td>...</td>\n",
       "    </tr>\n",
       "    <tr>\n",
       "      <th>54218</th>\n",
       "      <td>1.00</td>\n",
       "      <td>HRD</td>\n",
       "      <td>VVS1</td>\n",
       "      <td>E</td>\n",
       "      <td>NaN</td>\n",
       "      <td>NaN</td>\n",
       "      <td>10397.74</td>\n",
       "      <td>14051.0</td>\n",
       "      <td>NaN</td>\n",
       "      <td>NaN</td>\n",
       "      <td>NaN</td>\n",
       "      <td>NaN</td>\n",
       "      <td>singapore</td>\n",
       "      <td>5.27</td>\n",
       "    </tr>\n",
       "    <tr>\n",
       "      <th>54219</th>\n",
       "      <td>1.00</td>\n",
       "      <td>HRD</td>\n",
       "      <td>VVS2</td>\n",
       "      <td>E</td>\n",
       "      <td>NaN</td>\n",
       "      <td>NaN</td>\n",
       "      <td>8450.06</td>\n",
       "      <td>11419.0</td>\n",
       "      <td>NaN</td>\n",
       "      <td>NaN</td>\n",
       "      <td>NaN</td>\n",
       "      <td>NaN</td>\n",
       "      <td>singapore</td>\n",
       "      <td>5.27</td>\n",
       "    </tr>\n",
       "    <tr>\n",
       "      <th>54220</th>\n",
       "      <td>1.00</td>\n",
       "      <td>HRD</td>\n",
       "      <td>VS1</td>\n",
       "      <td>E</td>\n",
       "      <td>NaN</td>\n",
       "      <td>NaN</td>\n",
       "      <td>7835.12</td>\n",
       "      <td>10588.0</td>\n",
       "      <td>NaN</td>\n",
       "      <td>NaN</td>\n",
       "      <td>NaN</td>\n",
       "      <td>NaN</td>\n",
       "      <td>singapore</td>\n",
       "      <td>5.27</td>\n",
       "    </tr>\n",
       "    <tr>\n",
       "      <th>54221</th>\n",
       "      <td>1.00</td>\n",
       "      <td>HRD</td>\n",
       "      <td>VVS1</td>\n",
       "      <td>F</td>\n",
       "      <td>NaN</td>\n",
       "      <td>NaN</td>\n",
       "      <td>8655.04</td>\n",
       "      <td>11696.0</td>\n",
       "      <td>NaN</td>\n",
       "      <td>NaN</td>\n",
       "      <td>NaN</td>\n",
       "      <td>NaN</td>\n",
       "      <td>singapore</td>\n",
       "      <td>5.27</td>\n",
       "    </tr>\n",
       "    <tr>\n",
       "      <th>54222</th>\n",
       "      <td>1.00</td>\n",
       "      <td>HRD</td>\n",
       "      <td>VVS2</td>\n",
       "      <td>F</td>\n",
       "      <td>NaN</td>\n",
       "      <td>NaN</td>\n",
       "      <td>7835.12</td>\n",
       "      <td>10588.0</td>\n",
       "      <td>NaN</td>\n",
       "      <td>NaN</td>\n",
       "      <td>NaN</td>\n",
       "      <td>NaN</td>\n",
       "      <td>singapore</td>\n",
       "      <td>5.27</td>\n",
       "    </tr>\n",
       "    <tr>\n",
       "      <th>54223</th>\n",
       "      <td>1.00</td>\n",
       "      <td>HRD</td>\n",
       "      <td>VVS1</td>\n",
       "      <td>G</td>\n",
       "      <td>NaN</td>\n",
       "      <td>NaN</td>\n",
       "      <td>7733.00</td>\n",
       "      <td>10450.0</td>\n",
       "      <td>NaN</td>\n",
       "      <td>NaN</td>\n",
       "      <td>NaN</td>\n",
       "      <td>NaN</td>\n",
       "      <td>singapore</td>\n",
       "      <td>5.27</td>\n",
       "    </tr>\n",
       "    <tr>\n",
       "      <th>54224</th>\n",
       "      <td>1.00</td>\n",
       "      <td>HRD</td>\n",
       "      <td>VVS2</td>\n",
       "      <td>G</td>\n",
       "      <td>NaN</td>\n",
       "      <td>NaN</td>\n",
       "      <td>7323.04</td>\n",
       "      <td>9896.0</td>\n",
       "      <td>NaN</td>\n",
       "      <td>NaN</td>\n",
       "      <td>NaN</td>\n",
       "      <td>NaN</td>\n",
       "      <td>singapore</td>\n",
       "      <td>5.27</td>\n",
       "    </tr>\n",
       "    <tr>\n",
       "      <th>54225</th>\n",
       "      <td>1.00</td>\n",
       "      <td>HRD</td>\n",
       "      <td>VS2</td>\n",
       "      <td>G</td>\n",
       "      <td>NaN</td>\n",
       "      <td>NaN</td>\n",
       "      <td>6810.22</td>\n",
       "      <td>9203.0</td>\n",
       "      <td>NaN</td>\n",
       "      <td>NaN</td>\n",
       "      <td>NaN</td>\n",
       "      <td>NaN</td>\n",
       "      <td>singapore</td>\n",
       "      <td>5.27</td>\n",
       "    </tr>\n",
       "    <tr>\n",
       "      <th>54226</th>\n",
       "      <td>1.00</td>\n",
       "      <td>HRD</td>\n",
       "      <td>VVS1</td>\n",
       "      <td>H</td>\n",
       "      <td>NaN</td>\n",
       "      <td>NaN</td>\n",
       "      <td>7015.20</td>\n",
       "      <td>9480.0</td>\n",
       "      <td>NaN</td>\n",
       "      <td>NaN</td>\n",
       "      <td>NaN</td>\n",
       "      <td>NaN</td>\n",
       "      <td>singapore</td>\n",
       "      <td>5.27</td>\n",
       "    </tr>\n",
       "    <tr>\n",
       "      <th>54227</th>\n",
       "      <td>1.00</td>\n",
       "      <td>HRD</td>\n",
       "      <td>VS1</td>\n",
       "      <td>H</td>\n",
       "      <td>NaN</td>\n",
       "      <td>NaN</td>\n",
       "      <td>6708.10</td>\n",
       "      <td>9065.0</td>\n",
       "      <td>NaN</td>\n",
       "      <td>NaN</td>\n",
       "      <td>NaN</td>\n",
       "      <td>NaN</td>\n",
       "      <td>singapore</td>\n",
       "      <td>5.27</td>\n",
       "    </tr>\n",
       "    <tr>\n",
       "      <th>54228</th>\n",
       "      <td>1.00</td>\n",
       "      <td>HRD</td>\n",
       "      <td>VS2</td>\n",
       "      <td>H</td>\n",
       "      <td>NaN</td>\n",
       "      <td>NaN</td>\n",
       "      <td>6503.12</td>\n",
       "      <td>8788.0</td>\n",
       "      <td>NaN</td>\n",
       "      <td>NaN</td>\n",
       "      <td>NaN</td>\n",
       "      <td>NaN</td>\n",
       "      <td>singapore</td>\n",
       "      <td>5.27</td>\n",
       "    </tr>\n",
       "    <tr>\n",
       "      <th>54229</th>\n",
       "      <td>1.00</td>\n",
       "      <td>HRD</td>\n",
       "      <td>VVS1</td>\n",
       "      <td>I</td>\n",
       "      <td>NaN</td>\n",
       "      <td>NaN</td>\n",
       "      <td>6503.12</td>\n",
       "      <td>8788.0</td>\n",
       "      <td>NaN</td>\n",
       "      <td>NaN</td>\n",
       "      <td>NaN</td>\n",
       "      <td>NaN</td>\n",
       "      <td>singapore</td>\n",
       "      <td>5.27</td>\n",
       "    </tr>\n",
       "    <tr>\n",
       "      <th>54230</th>\n",
       "      <td>1.00</td>\n",
       "      <td>HRD</td>\n",
       "      <td>VVS2</td>\n",
       "      <td>I</td>\n",
       "      <td>NaN</td>\n",
       "      <td>NaN</td>\n",
       "      <td>6195.28</td>\n",
       "      <td>8372.0</td>\n",
       "      <td>NaN</td>\n",
       "      <td>NaN</td>\n",
       "      <td>NaN</td>\n",
       "      <td>NaN</td>\n",
       "      <td>singapore</td>\n",
       "      <td>5.27</td>\n",
       "    </tr>\n",
       "    <tr>\n",
       "      <th>54231</th>\n",
       "      <td>1.00</td>\n",
       "      <td>HRD</td>\n",
       "      <td>VS1</td>\n",
       "      <td>I</td>\n",
       "      <td>NaN</td>\n",
       "      <td>NaN</td>\n",
       "      <td>5990.30</td>\n",
       "      <td>8095.0</td>\n",
       "      <td>NaN</td>\n",
       "      <td>NaN</td>\n",
       "      <td>NaN</td>\n",
       "      <td>NaN</td>\n",
       "      <td>singapore</td>\n",
       "      <td>5.27</td>\n",
       "    </tr>\n",
       "    <tr>\n",
       "      <th>54232</th>\n",
       "      <td>1.00</td>\n",
       "      <td>HRD</td>\n",
       "      <td>VS2</td>\n",
       "      <td>I</td>\n",
       "      <td>NaN</td>\n",
       "      <td>NaN</td>\n",
       "      <td>5785.32</td>\n",
       "      <td>7818.0</td>\n",
       "      <td>NaN</td>\n",
       "      <td>NaN</td>\n",
       "      <td>NaN</td>\n",
       "      <td>NaN</td>\n",
       "      <td>singapore</td>\n",
       "      <td>5.27</td>\n",
       "    </tr>\n",
       "    <tr>\n",
       "      <th>54233</th>\n",
       "      <td>1.01</td>\n",
       "      <td>HRD</td>\n",
       "      <td>VVS2</td>\n",
       "      <td>D</td>\n",
       "      <td>NaN</td>\n",
       "      <td>NaN</td>\n",
       "      <td>10292.66</td>\n",
       "      <td>13909.0</td>\n",
       "      <td>NaN</td>\n",
       "      <td>NaN</td>\n",
       "      <td>NaN</td>\n",
       "      <td>NaN</td>\n",
       "      <td>singapore</td>\n",
       "      <td>5.27</td>\n",
       "    </tr>\n",
       "    <tr>\n",
       "      <th>54234</th>\n",
       "      <td>1.01</td>\n",
       "      <td>HRD</td>\n",
       "      <td>VVS2</td>\n",
       "      <td>E</td>\n",
       "      <td>NaN</td>\n",
       "      <td>NaN</td>\n",
       "      <td>8532.94</td>\n",
       "      <td>11531.0</td>\n",
       "      <td>NaN</td>\n",
       "      <td>NaN</td>\n",
       "      <td>NaN</td>\n",
       "      <td>NaN</td>\n",
       "      <td>singapore</td>\n",
       "      <td>5.27</td>\n",
       "    </tr>\n",
       "    <tr>\n",
       "      <th>54235</th>\n",
       "      <td>1.01</td>\n",
       "      <td>HRD</td>\n",
       "      <td>VS1</td>\n",
       "      <td>E</td>\n",
       "      <td>NaN</td>\n",
       "      <td>NaN</td>\n",
       "      <td>7912.08</td>\n",
       "      <td>10692.0</td>\n",
       "      <td>NaN</td>\n",
       "      <td>NaN</td>\n",
       "      <td>NaN</td>\n",
       "      <td>NaN</td>\n",
       "      <td>singapore</td>\n",
       "      <td>5.27</td>\n",
       "    </tr>\n",
       "    <tr>\n",
       "      <th>54236</th>\n",
       "      <td>1.01</td>\n",
       "      <td>HRD</td>\n",
       "      <td>VVS1</td>\n",
       "      <td>F</td>\n",
       "      <td>NaN</td>\n",
       "      <td>NaN</td>\n",
       "      <td>8740.14</td>\n",
       "      <td>11811.0</td>\n",
       "      <td>NaN</td>\n",
       "      <td>NaN</td>\n",
       "      <td>NaN</td>\n",
       "      <td>NaN</td>\n",
       "      <td>singapore</td>\n",
       "      <td>5.27</td>\n",
       "    </tr>\n",
       "    <tr>\n",
       "      <th>54237</th>\n",
       "      <td>1.01</td>\n",
       "      <td>HRD</td>\n",
       "      <td>VS1</td>\n",
       "      <td>F</td>\n",
       "      <td>NaN</td>\n",
       "      <td>NaN</td>\n",
       "      <td>7601.28</td>\n",
       "      <td>10272.0</td>\n",
       "      <td>NaN</td>\n",
       "      <td>NaN</td>\n",
       "      <td>NaN</td>\n",
       "      <td>NaN</td>\n",
       "      <td>singapore</td>\n",
       "      <td>5.27</td>\n",
       "    </tr>\n",
       "    <tr>\n",
       "      <th>54238</th>\n",
       "      <td>1.01</td>\n",
       "      <td>HRD</td>\n",
       "      <td>VVS2</td>\n",
       "      <td>G</td>\n",
       "      <td>NaN</td>\n",
       "      <td>NaN</td>\n",
       "      <td>7394.82</td>\n",
       "      <td>9993.0</td>\n",
       "      <td>NaN</td>\n",
       "      <td>NaN</td>\n",
       "      <td>NaN</td>\n",
       "      <td>NaN</td>\n",
       "      <td>singapore</td>\n",
       "      <td>5.27</td>\n",
       "    </tr>\n",
       "    <tr>\n",
       "      <th>54239</th>\n",
       "      <td>1.01</td>\n",
       "      <td>HRD</td>\n",
       "      <td>VS2</td>\n",
       "      <td>G</td>\n",
       "      <td>NaN</td>\n",
       "      <td>NaN</td>\n",
       "      <td>6876.82</td>\n",
       "      <td>9293.0</td>\n",
       "      <td>NaN</td>\n",
       "      <td>NaN</td>\n",
       "      <td>NaN</td>\n",
       "      <td>NaN</td>\n",
       "      <td>singapore</td>\n",
       "      <td>5.27</td>\n",
       "    </tr>\n",
       "    <tr>\n",
       "      <th>54240</th>\n",
       "      <td>1.01</td>\n",
       "      <td>HRD</td>\n",
       "      <td>VVS2</td>\n",
       "      <td>H</td>\n",
       "      <td>NaN</td>\n",
       "      <td>NaN</td>\n",
       "      <td>6980.42</td>\n",
       "      <td>9433.0</td>\n",
       "      <td>NaN</td>\n",
       "      <td>NaN</td>\n",
       "      <td>NaN</td>\n",
       "      <td>NaN</td>\n",
       "      <td>singapore</td>\n",
       "      <td>5.27</td>\n",
       "    </tr>\n",
       "    <tr>\n",
       "      <th>54241</th>\n",
       "      <td>1.01</td>\n",
       "      <td>HRD</td>\n",
       "      <td>VS1</td>\n",
       "      <td>H</td>\n",
       "      <td>NaN</td>\n",
       "      <td>NaN</td>\n",
       "      <td>6773.22</td>\n",
       "      <td>9153.0</td>\n",
       "      <td>NaN</td>\n",
       "      <td>NaN</td>\n",
       "      <td>NaN</td>\n",
       "      <td>NaN</td>\n",
       "      <td>singapore</td>\n",
       "      <td>5.27</td>\n",
       "    </tr>\n",
       "    <tr>\n",
       "      <th>54242</th>\n",
       "      <td>1.01</td>\n",
       "      <td>HRD</td>\n",
       "      <td>VVS1</td>\n",
       "      <td>I</td>\n",
       "      <td>NaN</td>\n",
       "      <td>NaN</td>\n",
       "      <td>6566.02</td>\n",
       "      <td>8873.0</td>\n",
       "      <td>NaN</td>\n",
       "      <td>NaN</td>\n",
       "      <td>NaN</td>\n",
       "      <td>NaN</td>\n",
       "      <td>singapore</td>\n",
       "      <td>5.27</td>\n",
       "    </tr>\n",
       "    <tr>\n",
       "      <th>54243</th>\n",
       "      <td>1.01</td>\n",
       "      <td>HRD</td>\n",
       "      <td>VS1</td>\n",
       "      <td>I</td>\n",
       "      <td>NaN</td>\n",
       "      <td>NaN</td>\n",
       "      <td>6049.50</td>\n",
       "      <td>8175.0</td>\n",
       "      <td>NaN</td>\n",
       "      <td>NaN</td>\n",
       "      <td>NaN</td>\n",
       "      <td>NaN</td>\n",
       "      <td>singapore</td>\n",
       "      <td>5.27</td>\n",
       "    </tr>\n",
       "    <tr>\n",
       "      <th>54244</th>\n",
       "      <td>1.02</td>\n",
       "      <td>HRD</td>\n",
       "      <td>VVS2</td>\n",
       "      <td>F</td>\n",
       "      <td>NaN</td>\n",
       "      <td>NaN</td>\n",
       "      <td>7989.04</td>\n",
       "      <td>10796.0</td>\n",
       "      <td>NaN</td>\n",
       "      <td>NaN</td>\n",
       "      <td>NaN</td>\n",
       "      <td>NaN</td>\n",
       "      <td>singapore</td>\n",
       "      <td>5.27</td>\n",
       "    </tr>\n",
       "    <tr>\n",
       "      <th>54245</th>\n",
       "      <td>1.06</td>\n",
       "      <td>HRD</td>\n",
       "      <td>VVS2</td>\n",
       "      <td>H</td>\n",
       "      <td>NaN</td>\n",
       "      <td>NaN</td>\n",
       "      <td>7318.60</td>\n",
       "      <td>9890.0</td>\n",
       "      <td>NaN</td>\n",
       "      <td>NaN</td>\n",
       "      <td>NaN</td>\n",
       "      <td>NaN</td>\n",
       "      <td>singapore</td>\n",
       "      <td>5.27</td>\n",
       "    </tr>\n",
       "    <tr>\n",
       "      <th>54246</th>\n",
       "      <td>1.02</td>\n",
       "      <td>HRD</td>\n",
       "      <td>VS2</td>\n",
       "      <td>H</td>\n",
       "      <td>NaN</td>\n",
       "      <td>NaN</td>\n",
       "      <td>6629.66</td>\n",
       "      <td>8959.0</td>\n",
       "      <td>NaN</td>\n",
       "      <td>NaN</td>\n",
       "      <td>NaN</td>\n",
       "      <td>NaN</td>\n",
       "      <td>singapore</td>\n",
       "      <td>5.27</td>\n",
       "    </tr>\n",
       "    <tr>\n",
       "      <th>54247</th>\n",
       "      <td>1.09</td>\n",
       "      <td>HRD</td>\n",
       "      <td>VVS2</td>\n",
       "      <td>I</td>\n",
       "      <td>NaN</td>\n",
       "      <td>NaN</td>\n",
       "      <td>6739.18</td>\n",
       "      <td>9107.0</td>\n",
       "      <td>NaN</td>\n",
       "      <td>NaN</td>\n",
       "      <td>NaN</td>\n",
       "      <td>NaN</td>\n",
       "      <td>singapore</td>\n",
       "      <td>5.27</td>\n",
       "    </tr>\n",
       "  </tbody>\n",
       "</table>\n",
       "<p>54248 rows × 14 columns</p>\n",
       "</div>"
      ],
      "text/plain": [
       "       carat certification clarity color        cut  depth     price  \\\n",
       "0       0.23           NaN     SI2     E      Ideal   61.5    326.00   \n",
       "1       0.21           NaN     SI1     E    Premium   59.8    326.00   \n",
       "2       0.23           NaN     VS1     E       Good   56.9    327.00   \n",
       "3       0.29           NaN     VS2     I    Premium   62.4    334.00   \n",
       "4       0.31           NaN     SI2     J       Good   63.3    335.00   \n",
       "5       0.24           NaN    VVS2     J  Very Good   62.8    336.00   \n",
       "6       0.24           NaN    VVS1     I  Very Good   62.3    336.00   \n",
       "7       0.26           NaN     SI1     H  Very Good   61.9    337.00   \n",
       "8       0.22           NaN     VS2     E       Fair   65.1    337.00   \n",
       "9       0.23           NaN     VS1     H  Very Good   59.4    338.00   \n",
       "10      0.30           NaN     SI1     J       Good   64.0    339.00   \n",
       "11      0.23           NaN     VS1     J      Ideal   62.8    340.00   \n",
       "12      0.22           NaN     SI1     F    Premium   60.4    342.00   \n",
       "13      0.31           NaN     SI2     J      Ideal   62.2    344.00   \n",
       "14      0.20           NaN     SI2     E    Premium   60.2    345.00   \n",
       "15      0.32           NaN      I1     E    Premium   60.9    345.00   \n",
       "16      0.30           NaN     SI2     I      Ideal   62.0    348.00   \n",
       "17      0.30           NaN     SI1     J       Good   63.4    351.00   \n",
       "18      0.30           NaN     SI1     J       Good   63.8    351.00   \n",
       "19      0.30           NaN     SI1     J  Very Good   62.7    351.00   \n",
       "20      0.30           NaN     SI2     I       Good   63.3    351.00   \n",
       "21      0.23           NaN     VS2     E  Very Good   63.8    352.00   \n",
       "22      0.23           NaN     VS1     H  Very Good   61.0    353.00   \n",
       "23      0.31           NaN     SI1     J  Very Good   59.4    353.00   \n",
       "24      0.31           NaN     SI1     J  Very Good   58.1    353.00   \n",
       "25      0.23           NaN    VVS2     G  Very Good   60.4    354.00   \n",
       "26      0.24           NaN     VS1     I    Premium   62.5    355.00   \n",
       "27      0.30           NaN     VS2     J  Very Good   62.2    357.00   \n",
       "28      0.23           NaN     VS2     D  Very Good   60.5    357.00   \n",
       "29      0.23           NaN     VS1     F  Very Good   60.9    357.00   \n",
       "...      ...           ...     ...   ...        ...    ...       ...   \n",
       "54218   1.00           HRD    VVS1     E        NaN    NaN  10397.74   \n",
       "54219   1.00           HRD    VVS2     E        NaN    NaN   8450.06   \n",
       "54220   1.00           HRD     VS1     E        NaN    NaN   7835.12   \n",
       "54221   1.00           HRD    VVS1     F        NaN    NaN   8655.04   \n",
       "54222   1.00           HRD    VVS2     F        NaN    NaN   7835.12   \n",
       "54223   1.00           HRD    VVS1     G        NaN    NaN   7733.00   \n",
       "54224   1.00           HRD    VVS2     G        NaN    NaN   7323.04   \n",
       "54225   1.00           HRD     VS2     G        NaN    NaN   6810.22   \n",
       "54226   1.00           HRD    VVS1     H        NaN    NaN   7015.20   \n",
       "54227   1.00           HRD     VS1     H        NaN    NaN   6708.10   \n",
       "54228   1.00           HRD     VS2     H        NaN    NaN   6503.12   \n",
       "54229   1.00           HRD    VVS1     I        NaN    NaN   6503.12   \n",
       "54230   1.00           HRD    VVS2     I        NaN    NaN   6195.28   \n",
       "54231   1.00           HRD     VS1     I        NaN    NaN   5990.30   \n",
       "54232   1.00           HRD     VS2     I        NaN    NaN   5785.32   \n",
       "54233   1.01           HRD    VVS2     D        NaN    NaN  10292.66   \n",
       "54234   1.01           HRD    VVS2     E        NaN    NaN   8532.94   \n",
       "54235   1.01           HRD     VS1     E        NaN    NaN   7912.08   \n",
       "54236   1.01           HRD    VVS1     F        NaN    NaN   8740.14   \n",
       "54237   1.01           HRD     VS1     F        NaN    NaN   7601.28   \n",
       "54238   1.01           HRD    VVS2     G        NaN    NaN   7394.82   \n",
       "54239   1.01           HRD     VS2     G        NaN    NaN   6876.82   \n",
       "54240   1.01           HRD    VVS2     H        NaN    NaN   6980.42   \n",
       "54241   1.01           HRD     VS1     H        NaN    NaN   6773.22   \n",
       "54242   1.01           HRD    VVS1     I        NaN    NaN   6566.02   \n",
       "54243   1.01           HRD     VS1     I        NaN    NaN   6049.50   \n",
       "54244   1.02           HRD    VVS2     F        NaN    NaN   7989.04   \n",
       "54245   1.06           HRD    VVS2     H        NaN    NaN   7318.60   \n",
       "54246   1.02           HRD     VS2     H        NaN    NaN   6629.66   \n",
       "54247   1.09           HRD    VVS2     I        NaN    NaN   6739.18   \n",
       "\n",
       "       price_sg  table     x     y     z    country  population  \n",
       "0           NaN   55.0  3.95  3.98  2.43         us      327.20  \n",
       "1           NaN   61.0  3.89  3.84  2.31         us      327.20  \n",
       "2           NaN   65.0  4.05  4.07  2.31         us      327.20  \n",
       "3           NaN   58.0  4.20  4.23  2.63         us      327.20  \n",
       "4           NaN   58.0  4.34  4.35  2.75         us      327.20  \n",
       "5           NaN   57.0  3.94  3.96  2.48         us      327.20  \n",
       "6           NaN   57.0  3.95  3.98  2.47         us      327.20  \n",
       "7           NaN   55.0  4.07  4.11  2.53         us      327.20  \n",
       "8           NaN   61.0  3.87  3.78  2.49         us      327.20  \n",
       "9           NaN   61.0  4.00  4.05  2.39         us      327.20  \n",
       "10          NaN   55.0  4.25  4.28  2.73         us      327.20  \n",
       "11          NaN   56.0  3.93  3.90  2.46         us      327.20  \n",
       "12          NaN   61.0  3.88  3.84  2.33         us      327.20  \n",
       "13          NaN   54.0  4.35  4.37  2.71         us      327.20  \n",
       "14          NaN   62.0  3.79  3.75  2.27         us      327.20  \n",
       "15          NaN   58.0  4.38  4.42  2.68         us      327.20  \n",
       "16          NaN   54.0  4.31  4.34  2.68         us      327.20  \n",
       "17          NaN   54.0  4.23  4.29  2.70         us      327.20  \n",
       "18          NaN   56.0  4.23  4.26  2.71         us      327.20  \n",
       "19          NaN   59.0  4.21  4.27  2.66         us      327.20  \n",
       "20          NaN   56.0  4.26  4.30  2.71         us      327.20  \n",
       "21          NaN   55.0  3.85  3.92  2.48         us      327.20  \n",
       "22          NaN   57.0  3.94  3.96  2.41         us      327.20  \n",
       "23          NaN   62.0  4.39  4.43  2.62         us      327.20  \n",
       "24          NaN   62.0  4.44  4.47  2.59         us      327.20  \n",
       "25          NaN   58.0  3.97  4.01  2.41         us      327.20  \n",
       "26          NaN   57.0  3.97  3.94  2.47         us      327.20  \n",
       "27          NaN   57.0  4.28  4.30  2.67         us      327.20  \n",
       "28          NaN   61.0  3.96  3.97  2.40         us      327.20  \n",
       "29          NaN   57.0  3.96  3.99  2.42         us      327.20  \n",
       "...         ...    ...   ...   ...   ...        ...         ...  \n",
       "54218   14051.0    NaN   NaN   NaN   NaN  singapore        5.27  \n",
       "54219   11419.0    NaN   NaN   NaN   NaN  singapore        5.27  \n",
       "54220   10588.0    NaN   NaN   NaN   NaN  singapore        5.27  \n",
       "54221   11696.0    NaN   NaN   NaN   NaN  singapore        5.27  \n",
       "54222   10588.0    NaN   NaN   NaN   NaN  singapore        5.27  \n",
       "54223   10450.0    NaN   NaN   NaN   NaN  singapore        5.27  \n",
       "54224    9896.0    NaN   NaN   NaN   NaN  singapore        5.27  \n",
       "54225    9203.0    NaN   NaN   NaN   NaN  singapore        5.27  \n",
       "54226    9480.0    NaN   NaN   NaN   NaN  singapore        5.27  \n",
       "54227    9065.0    NaN   NaN   NaN   NaN  singapore        5.27  \n",
       "54228    8788.0    NaN   NaN   NaN   NaN  singapore        5.27  \n",
       "54229    8788.0    NaN   NaN   NaN   NaN  singapore        5.27  \n",
       "54230    8372.0    NaN   NaN   NaN   NaN  singapore        5.27  \n",
       "54231    8095.0    NaN   NaN   NaN   NaN  singapore        5.27  \n",
       "54232    7818.0    NaN   NaN   NaN   NaN  singapore        5.27  \n",
       "54233   13909.0    NaN   NaN   NaN   NaN  singapore        5.27  \n",
       "54234   11531.0    NaN   NaN   NaN   NaN  singapore        5.27  \n",
       "54235   10692.0    NaN   NaN   NaN   NaN  singapore        5.27  \n",
       "54236   11811.0    NaN   NaN   NaN   NaN  singapore        5.27  \n",
       "54237   10272.0    NaN   NaN   NaN   NaN  singapore        5.27  \n",
       "54238    9993.0    NaN   NaN   NaN   NaN  singapore        5.27  \n",
       "54239    9293.0    NaN   NaN   NaN   NaN  singapore        5.27  \n",
       "54240    9433.0    NaN   NaN   NaN   NaN  singapore        5.27  \n",
       "54241    9153.0    NaN   NaN   NaN   NaN  singapore        5.27  \n",
       "54242    8873.0    NaN   NaN   NaN   NaN  singapore        5.27  \n",
       "54243    8175.0    NaN   NaN   NaN   NaN  singapore        5.27  \n",
       "54244   10796.0    NaN   NaN   NaN   NaN  singapore        5.27  \n",
       "54245    9890.0    NaN   NaN   NaN   NaN  singapore        5.27  \n",
       "54246    8959.0    NaN   NaN   NaN   NaN  singapore        5.27  \n",
       "54247    9107.0    NaN   NaN   NaN   NaN  singapore        5.27  \n",
       "\n",
       "[54248 rows x 14 columns]"
      ]
     },
     "execution_count": 52,
     "metadata": {},
     "output_type": "execute_result"
    }
   ],
   "source": [
    "population = pd.DataFrame(pd.Series({'singapore': 5.27, 'us': 327.2}))\n",
    "population.index.name = 'country'\n",
    "population.columns = ['population']\n",
    "#population\n",
    "appended = diamonds.append(straits_data)\n",
    "appended.tail(500)\n",
    "\n",
    "appended['country'] = ['us' if np.isnan(x) else 'singapore' for x in appended.price_sg]\n",
    "\n",
    "pd.merge(appended, population.reset_index())"
   ]
  }
 ],
 "metadata": {
  "celltoolbar": "Slideshow",
  "kernelspec": {
   "display_name": "Python 3",
   "language": "python",
   "name": "python3"
  },
  "language_info": {
   "codemirror_mode": {
    "name": "ipython",
    "version": 3
   },
   "file_extension": ".py",
   "mimetype": "text/x-python",
   "name": "python",
   "nbconvert_exporter": "python",
   "pygments_lexer": "ipython3",
   "version": "3.7.3"
  }
 },
 "nbformat": 4,
 "nbformat_minor": 2
}
