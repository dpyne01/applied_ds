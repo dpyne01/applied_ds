{
 "cells": [
  {
   "cell_type": "markdown",
   "metadata": {},
   "source": [
    "# Cellular Metabolism Research\n",
    "### Spring 2019                            Danhui Zhang"
   ]
  },
  {
   "cell_type": "markdown",
   "metadata": {},
   "source": [
    "This project is done partly to support the competitor & market research for REDOX. REDOX is a lab services company that uses novel imaging techniques to provide scientists in pharmaceutical companies with unprecedented subcellular-level metabolic information to help understand drug-cellular interactions and thereby aiding the drug discovery and development process and reducing wasted resources. Through analyzing three optical biomarkers - cellular redox state, bound NADH fraction, and mitochondrial clustering - we are able to provide information on the metabolic activity happening within the cells. Currently we are capable of providing insights into specific metabolic pathways, including glycolysis, glutaminolysis, mitochondrial uncoupling, fatty acid oxidation, and fatty acid synthesis, with single-cell resolution."
   ]
  },
  {
   "cell_type": "markdown",
   "metadata": {},
   "source": [
    "Though our previous understanding was that the pharmaceutical industry currently only measures the level of metabolites in cells or bulk metrics and does not measure cell-differentiated metabolic activity, our recent research and interviews reveal that some companies are looking into specific metabolic pathways which overlap with our service offerings. As the field of measuring metabolic activity in drug research is still in its nascent stage, specific disease models that work well with our product are not yet validated. Therefore, through looking into applications of our competitor’s products (published in scientific journals), our team may find drug research of specific disease types/cell lines that may serve our beachhead market. The dataset used in this project is found on Agilent Cell Reference Database:\n",
    "https://www.agilent.com/cell-reference-database/"
   ]
  },
  {
   "cell_type": "markdown",
   "metadata": {},
   "source": [
    "### Why is looking into cellular metabolism-related research important?\n",
    "* Use case 1: The MYC oncogene is frequently mutated and overexpressed in human renal cell carcinoma (RCC). Research shows that MYC-induced RCC up-regulated the glutaminolytic pathway instead of the glycolytic pathway. The pharmacologic inhibition of glutamine metabolism with bis-2-(5-phenylacetamido-1,2,4-thiadiazol-2-yl) ethyl sulfide impeded MYC-mediated tumor progression. Thus, the inhibition of glutamine metabolism is a potential therapeutic approach for the treatment of this disease. (Shroff et al. PNAS 2015)\n",
    "* Use case 2: Insights into tumor cellular metabolism upon administration of therapeutics can serve as an early predictor of *in vivo* tumor drug response. In the current standard of care, patients with innate drug resistance are not identified *a priori* and drug effectiveness is determined after weeks of treatment from tumor size measurements using mammography, MRI, or ultrasound. Research showed that observations of cellular metabolic changes can predict tumor drug response much earlier than the traditional imaging methods, at about 72 hours after administration. (Walsh et al. 2014)\n",
    "\n",
    "Learning about more use cases like the aforementioned research areas can help REDOX better navigate the current research landscape and gain an in-depth understanding of current methods used to measure cellular metabolism. With this knowledge, REDOX can hope to best position itself in the market with its differentiating features.\n",
    "\n"
   ]
  },
  {
   "cell_type": "code",
   "execution_count": 1,
   "metadata": {},
   "outputs": [],
   "source": [
    "import pandas as pd\n",
    "import numpy as np\n",
    "\n",
    "# # Generate Word Cloud\n",
    "# from wordcloud import WordCloud, STOPWORDS\n",
    "import matplotlib.pyplot as plt\n",
    "\n",
    "# # Fuzzy matching\n",
    "# from fuzzywuzzy import fuzz, process"
   ]
  },
  {
   "cell_type": "code",
   "execution_count": 2,
   "metadata": {},
   "outputs": [
    {
     "data": {
      "text/html": [
       "<div>\n",
       "<style scoped>\n",
       "    .dataframe tbody tr th:only-of-type {\n",
       "        vertical-align: middle;\n",
       "    }\n",
       "\n",
       "    .dataframe tbody tr th {\n",
       "        vertical-align: top;\n",
       "    }\n",
       "\n",
       "    .dataframe thead th {\n",
       "        text-align: right;\n",
       "    }\n",
       "</style>\n",
       "<table border=\"1\" class=\"dataframe\">\n",
       "  <thead>\n",
       "    <tr style=\"text-align: right;\">\n",
       "      <th></th>\n",
       "      <th>Title</th>\n",
       "      <th>Authors</th>\n",
       "      <th>Journal</th>\n",
       "      <th>Publication date</th>\n",
       "      <th>Research area</th>\n",
       "      <th>Cell Line</th>\n",
       "      <th>Cell Type</th>\n",
       "      <th>Species</th>\n",
       "      <th>Analyzer</th>\n",
       "      <th>XF Assay</th>\n",
       "      <th>Plate Reader Assay</th>\n",
       "      <th>Seeding density</th>\n",
       "      <th>Plate coating</th>\n",
       "    </tr>\n",
       "  </thead>\n",
       "  <tbody>\n",
       "    <tr>\n",
       "      <th>0</th>\n",
       "      <td>_-1-Antitrypsin (AAT)-modified donor cells sup...</td>\n",
       "      <td>Marcondes AM, Karoopongse E, Lesnikova M, Marg...</td>\n",
       "      <td>Blood</td>\n",
       "      <td>Oct 1 2014 12:00 AM</td>\n",
       "      <td>Immunology Research</td>\n",
       "      <td>T-cells</td>\n",
       "      <td>T-cells</td>\n",
       "      <td>Mouse</td>\n",
       "      <td>24</td>\n",
       "      <td>Cell Mitochondrial Stress Test</td>\n",
       "      <td>NaN</td>\n",
       "      <td>8.0x10^5 cells/well</td>\n",
       "      <td>Not Specified</td>\n",
       "    </tr>\n",
       "    <tr>\n",
       "      <th>1</th>\n",
       "      <td>_-1-Antitrypsin (AAT)-modified donor cells sup...</td>\n",
       "      <td>Marcondes AM, Karoopongse E, Lesnikova M, Marg...</td>\n",
       "      <td>Blood</td>\n",
       "      <td>Oct 1 2014 12:00 AM</td>\n",
       "      <td>Immunology Research</td>\n",
       "      <td>Natural Killer (NK) cells</td>\n",
       "      <td>Immune Cells</td>\n",
       "      <td>Mouse</td>\n",
       "      <td>24</td>\n",
       "      <td>Cell Mitochondrial Stress Test</td>\n",
       "      <td>NaN</td>\n",
       "      <td>8.0x10^5 cells/well</td>\n",
       "      <td>Not Specified</td>\n",
       "    </tr>\n",
       "    <tr>\n",
       "      <th>2</th>\n",
       "      <td>_-enolase regulates the malignant phenotype of...</td>\n",
       "      <td>J. Dai, Q. Zhou, J. Chen, M. L. Rexius-Hall, J...</td>\n",
       "      <td>Nat Commun</td>\n",
       "      <td>Sep 21 2018 12:00 AM</td>\n",
       "      <td>Cell Physiology Research</td>\n",
       "      <td>Pulmonary Artery Smooth Muscle Cells (PASMC)</td>\n",
       "      <td>Pulmonary Artery Cells</td>\n",
       "      <td>Human</td>\n",
       "      <td>24</td>\n",
       "      <td>Cell Mitochondrial Stress Test</td>\n",
       "      <td>NaN</td>\n",
       "      <td>3.0 x10^4 cells/well</td>\n",
       "      <td>Not Specified</td>\n",
       "    </tr>\n",
       "    <tr>\n",
       "      <th>3</th>\n",
       "      <td>_-enolase regulates the malignant phenotype of...</td>\n",
       "      <td>J. Dai, Q. Zhou, J. Chen, M. L. Rexius-Hall, J...</td>\n",
       "      <td>Nat Commun</td>\n",
       "      <td>Sep 21 2018 12:00 AM</td>\n",
       "      <td>Cell Physiology Research</td>\n",
       "      <td>Pulmonary Artery Smooth Muscle Cells (PASMC)</td>\n",
       "      <td>Pulmonary Artery Cells</td>\n",
       "      <td>Human</td>\n",
       "      <td>24</td>\n",
       "      <td>Glycolysis Stress Test</td>\n",
       "      <td>NaN</td>\n",
       "      <td>3.0 x10^4 cells/well</td>\n",
       "      <td>Not Specified</td>\n",
       "    </tr>\n",
       "    <tr>\n",
       "      <th>4</th>\n",
       "      <td>_-ketoglutarate orchestrates macrophage activa...</td>\n",
       "      <td>P. S. Liu, H. Wang, X. Li, T. Chao, T. Teav, S...</td>\n",
       "      <td>Nat Immunol</td>\n",
       "      <td>Sep 1 2017 12:00 AM</td>\n",
       "      <td>Immunology Research</td>\n",
       "      <td>Bone Marrow-Derived Macrophages (BMDM)</td>\n",
       "      <td>Immune Cells</td>\n",
       "      <td>Mouse</td>\n",
       "      <td>96</td>\n",
       "      <td>Cell Mitochondrial Stress Test</td>\n",
       "      <td>NaN</td>\n",
       "      <td>1.0 x10^5 cells/well</td>\n",
       "      <td>Not Specified</td>\n",
       "    </tr>\n",
       "  </tbody>\n",
       "</table>\n",
       "</div>"
      ],
      "text/plain": [
       "                                               Title  \\\n",
       "0  _-1-Antitrypsin (AAT)-modified donor cells sup...   \n",
       "1  _-1-Antitrypsin (AAT)-modified donor cells sup...   \n",
       "2  _-enolase regulates the malignant phenotype of...   \n",
       "3  _-enolase regulates the malignant phenotype of...   \n",
       "4  _-ketoglutarate orchestrates macrophage activa...   \n",
       "\n",
       "                                             Authors      Journal  \\\n",
       "0  Marcondes AM, Karoopongse E, Lesnikova M, Marg...        Blood   \n",
       "1  Marcondes AM, Karoopongse E, Lesnikova M, Marg...        Blood   \n",
       "2  J. Dai, Q. Zhou, J. Chen, M. L. Rexius-Hall, J...   Nat Commun   \n",
       "3  J. Dai, Q. Zhou, J. Chen, M. L. Rexius-Hall, J...   Nat Commun   \n",
       "4  P. S. Liu, H. Wang, X. Li, T. Chao, T. Teav, S...  Nat Immunol   \n",
       "\n",
       "       Publication date             Research area  \\\n",
       "0   Oct 1 2014 12:00 AM       Immunology Research   \n",
       "1   Oct 1 2014 12:00 AM       Immunology Research   \n",
       "2  Sep 21 2018 12:00 AM  Cell Physiology Research   \n",
       "3  Sep 21 2018 12:00 AM  Cell Physiology Research   \n",
       "4   Sep 1 2017 12:00 AM       Immunology Research   \n",
       "\n",
       "                                      Cell Line               Cell Type  \\\n",
       "0                                       T-cells                 T-cells   \n",
       "1                     Natural Killer (NK) cells            Immune Cells   \n",
       "2  Pulmonary Artery Smooth Muscle Cells (PASMC)  Pulmonary Artery Cells   \n",
       "3  Pulmonary Artery Smooth Muscle Cells (PASMC)  Pulmonary Artery Cells   \n",
       "4        Bone Marrow-Derived Macrophages (BMDM)            Immune Cells   \n",
       "\n",
       "  Species Analyzer                        XF Assay Plate Reader Assay  \\\n",
       "0   Mouse       24  Cell Mitochondrial Stress Test                NaN   \n",
       "1   Mouse       24  Cell Mitochondrial Stress Test                NaN   \n",
       "2   Human       24  Cell Mitochondrial Stress Test                NaN   \n",
       "3   Human       24          Glycolysis Stress Test                NaN   \n",
       "4   Mouse       96  Cell Mitochondrial Stress Test                NaN   \n",
       "\n",
       "        Seeding density  Plate coating  \n",
       "0   8.0x10^5 cells/well  Not Specified  \n",
       "1   8.0x10^5 cells/well  Not Specified  \n",
       "2  3.0 x10^4 cells/well  Not Specified  \n",
       "3  3.0 x10^4 cells/well  Not Specified  \n",
       "4  1.0 x10^5 cells/well  Not Specified  "
      ]
     },
     "execution_count": 2,
     "metadata": {},
     "output_type": "execute_result"
    }
   ],
   "source": [
    "data = pd.read_csv('./CellLineInput_or.csv')\n",
    "data.head()"
   ]
  },
  {
   "cell_type": "code",
   "execution_count": 3,
   "metadata": {},
   "outputs": [
    {
     "name": "stdout",
     "output_type": "stream",
     "text": [
      "Number of rows in the table:  9634\n"
     ]
    }
   ],
   "source": [
    "rows = len(data.index)\n",
    "print ('Number of rows in the table: ', rows)"
   ]
  },
  {
   "cell_type": "markdown",
   "metadata": {},
   "source": [
    "### Issues identified:\n",
    "* Publication dates all ends with \"12:00 AM\", not particularly meaningful\n",
    "* Seeding density are in scientific notations + units, cannot be directly read"
   ]
  },
  {
   "cell_type": "code",
   "execution_count": 4,
   "metadata": {},
   "outputs": [
    {
     "name": "stdout",
     "output_type": "stream",
     "text": [
      "<class 'pandas.core.frame.DataFrame'>\n",
      "RangeIndex: 9634 entries, 0 to 9633\n",
      "Data columns (total 13 columns):\n",
      "Title                 9634 non-null object\n",
      "Authors               9632 non-null object\n",
      "Journal               9596 non-null object\n",
      "Publication date      9628 non-null object\n",
      "Research area         9634 non-null object\n",
      "Cell Line             9620 non-null object\n",
      "Cell Type             9626 non-null object\n",
      "Species               9562 non-null object\n",
      "Analyzer              9615 non-null object\n",
      "XF Assay              9232 non-null object\n",
      "Plate Reader Assay    345 non-null object\n",
      "Seeding density       9579 non-null object\n",
      "Plate coating         9581 non-null object\n",
      "dtypes: object(13)\n",
      "memory usage: 978.5+ KB\n"
     ]
    }
   ],
   "source": [
    "# dropping null value columns to avoid errors \n",
    "# data.dropna(inplace = True) \n",
    "# data = data.reset_index(drop=True)\n",
    "data.info()"
   ]
  },
  {
   "cell_type": "markdown",
   "metadata": {},
   "source": [
    "## Merge Datasets"
   ]
  },
  {
   "cell_type": "markdown",
   "metadata": {},
   "source": [
    "Original dataset and journal impact factor dataset are merged in this section"
   ]
  },
  {
   "cell_type": "code",
   "execution_count": 5,
   "metadata": {},
   "outputs": [
    {
     "data": {
      "text/plain": [
       "Index(['Title', 'Authors', 'Journal', 'Publication date', 'Research area',\n",
       "       'Cell Line', 'Cell Type', 'Species', 'Analyzer', 'XF Assay',\n",
       "       'Plate Reader Assay', 'Seeding density', 'Plate coating'],\n",
       "      dtype='object')"
      ]
     },
     "execution_count": 5,
     "metadata": {},
     "output_type": "execute_result"
    }
   ],
   "source": [
    "data.columns"
   ]
  },
  {
   "cell_type": "code",
   "execution_count": 6,
   "metadata": {},
   "outputs": [
    {
     "data": {
      "text/plain": [
       "[4306, 4303, 850, 659, 26, 1134, 220, 64, 9, 19, 4, 529, 69]"
      ]
     },
     "execution_count": 6,
     "metadata": {},
     "output_type": "execute_result"
    }
   ],
   "source": [
    "# find number unique instances in each column\n",
    "[len(data[c].value_counts()) for c in data.columns]"
   ]
  },
  {
   "cell_type": "code",
   "execution_count": 7,
   "metadata": {},
   "outputs": [
    {
     "data": {
      "text/html": [
       "<div>\n",
       "<style scoped>\n",
       "    .dataframe tbody tr th:only-of-type {\n",
       "        vertical-align: middle;\n",
       "    }\n",
       "\n",
       "    .dataframe tbody tr th {\n",
       "        vertical-align: top;\n",
       "    }\n",
       "\n",
       "    .dataframe thead th {\n",
       "        text-align: right;\n",
       "    }\n",
       "</style>\n",
       "<table border=\"1\" class=\"dataframe\">\n",
       "  <thead>\n",
       "    <tr style=\"text-align: right;\">\n",
       "      <th></th>\n",
       "      <th>Title</th>\n",
       "      <th>Authors</th>\n",
       "      <th>Journal</th>\n",
       "      <th>Publication date</th>\n",
       "      <th>Research area</th>\n",
       "      <th>Cell Line</th>\n",
       "      <th>Cell Type</th>\n",
       "      <th>Species</th>\n",
       "      <th>Analyzer</th>\n",
       "      <th>XF Assay</th>\n",
       "      <th>Plate Reader Assay</th>\n",
       "      <th>Seeding density</th>\n",
       "      <th>Plate coating</th>\n",
       "      <th>Epoch</th>\n",
       "    </tr>\n",
       "  </thead>\n",
       "  <tbody>\n",
       "    <tr>\n",
       "      <th>0</th>\n",
       "      <td>_-1-Antitrypsin (AAT)-modified donor cells sup...</td>\n",
       "      <td>Marcondes AM, Karoopongse E, Lesnikova M, Marg...</td>\n",
       "      <td>Blood</td>\n",
       "      <td>Oct 1 2014 12:00 AM</td>\n",
       "      <td>Immunology Research</td>\n",
       "      <td>T-cells</td>\n",
       "      <td>T-cells</td>\n",
       "      <td>Mouse</td>\n",
       "      <td>24</td>\n",
       "      <td>Cell Mitochondrial Stress Test</td>\n",
       "      <td>NaN</td>\n",
       "      <td>8.0x10^5 cells/well</td>\n",
       "      <td>Not Specified</td>\n",
       "      <td>1412121600000000000</td>\n",
       "    </tr>\n",
       "    <tr>\n",
       "      <th>1</th>\n",
       "      <td>_-1-Antitrypsin (AAT)-modified donor cells sup...</td>\n",
       "      <td>Marcondes AM, Karoopongse E, Lesnikova M, Marg...</td>\n",
       "      <td>Blood</td>\n",
       "      <td>Oct 1 2014 12:00 AM</td>\n",
       "      <td>Immunology Research</td>\n",
       "      <td>Natural Killer (NK) cells</td>\n",
       "      <td>Immune Cells</td>\n",
       "      <td>Mouse</td>\n",
       "      <td>24</td>\n",
       "      <td>Cell Mitochondrial Stress Test</td>\n",
       "      <td>NaN</td>\n",
       "      <td>8.0x10^5 cells/well</td>\n",
       "      <td>Not Specified</td>\n",
       "      <td>1412121600000000000</td>\n",
       "    </tr>\n",
       "    <tr>\n",
       "      <th>2</th>\n",
       "      <td>_-enolase regulates the malignant phenotype of...</td>\n",
       "      <td>J. Dai, Q. Zhou, J. Chen, M. L. Rexius-Hall, J...</td>\n",
       "      <td>Nat Commun</td>\n",
       "      <td>Sep 21 2018 12:00 AM</td>\n",
       "      <td>Cell Physiology Research</td>\n",
       "      <td>Pulmonary Artery Smooth Muscle Cells (PASMC)</td>\n",
       "      <td>Pulmonary Artery Cells</td>\n",
       "      <td>Human</td>\n",
       "      <td>24</td>\n",
       "      <td>Cell Mitochondrial Stress Test</td>\n",
       "      <td>NaN</td>\n",
       "      <td>3.0 x10^4 cells/well</td>\n",
       "      <td>Not Specified</td>\n",
       "      <td>1537488000000000000</td>\n",
       "    </tr>\n",
       "    <tr>\n",
       "      <th>3</th>\n",
       "      <td>_-enolase regulates the malignant phenotype of...</td>\n",
       "      <td>J. Dai, Q. Zhou, J. Chen, M. L. Rexius-Hall, J...</td>\n",
       "      <td>Nat Commun</td>\n",
       "      <td>Sep 21 2018 12:00 AM</td>\n",
       "      <td>Cell Physiology Research</td>\n",
       "      <td>Pulmonary Artery Smooth Muscle Cells (PASMC)</td>\n",
       "      <td>Pulmonary Artery Cells</td>\n",
       "      <td>Human</td>\n",
       "      <td>24</td>\n",
       "      <td>Glycolysis Stress Test</td>\n",
       "      <td>NaN</td>\n",
       "      <td>3.0 x10^4 cells/well</td>\n",
       "      <td>Not Specified</td>\n",
       "      <td>1537488000000000000</td>\n",
       "    </tr>\n",
       "    <tr>\n",
       "      <th>4</th>\n",
       "      <td>_-ketoglutarate orchestrates macrophage activa...</td>\n",
       "      <td>P. S. Liu, H. Wang, X. Li, T. Chao, T. Teav, S...</td>\n",
       "      <td>Nat Immunol</td>\n",
       "      <td>Sep 1 2017 12:00 AM</td>\n",
       "      <td>Immunology Research</td>\n",
       "      <td>Bone Marrow-Derived Macrophages (BMDM)</td>\n",
       "      <td>Immune Cells</td>\n",
       "      <td>Mouse</td>\n",
       "      <td>96</td>\n",
       "      <td>Cell Mitochondrial Stress Test</td>\n",
       "      <td>NaN</td>\n",
       "      <td>1.0 x10^5 cells/well</td>\n",
       "      <td>Not Specified</td>\n",
       "      <td>1504224000000000000</td>\n",
       "    </tr>\n",
       "  </tbody>\n",
       "</table>\n",
       "</div>"
      ],
      "text/plain": [
       "                                               Title  \\\n",
       "0  _-1-Antitrypsin (AAT)-modified donor cells sup...   \n",
       "1  _-1-Antitrypsin (AAT)-modified donor cells sup...   \n",
       "2  _-enolase regulates the malignant phenotype of...   \n",
       "3  _-enolase regulates the malignant phenotype of...   \n",
       "4  _-ketoglutarate orchestrates macrophage activa...   \n",
       "\n",
       "                                             Authors      Journal  \\\n",
       "0  Marcondes AM, Karoopongse E, Lesnikova M, Marg...        Blood   \n",
       "1  Marcondes AM, Karoopongse E, Lesnikova M, Marg...        Blood   \n",
       "2  J. Dai, Q. Zhou, J. Chen, M. L. Rexius-Hall, J...   Nat Commun   \n",
       "3  J. Dai, Q. Zhou, J. Chen, M. L. Rexius-Hall, J...   Nat Commun   \n",
       "4  P. S. Liu, H. Wang, X. Li, T. Chao, T. Teav, S...  Nat Immunol   \n",
       "\n",
       "       Publication date             Research area  \\\n",
       "0   Oct 1 2014 12:00 AM       Immunology Research   \n",
       "1   Oct 1 2014 12:00 AM       Immunology Research   \n",
       "2  Sep 21 2018 12:00 AM  Cell Physiology Research   \n",
       "3  Sep 21 2018 12:00 AM  Cell Physiology Research   \n",
       "4   Sep 1 2017 12:00 AM       Immunology Research   \n",
       "\n",
       "                                      Cell Line               Cell Type  \\\n",
       "0                                       T-cells                 T-cells   \n",
       "1                     Natural Killer (NK) cells            Immune Cells   \n",
       "2  Pulmonary Artery Smooth Muscle Cells (PASMC)  Pulmonary Artery Cells   \n",
       "3  Pulmonary Artery Smooth Muscle Cells (PASMC)  Pulmonary Artery Cells   \n",
       "4        Bone Marrow-Derived Macrophages (BMDM)            Immune Cells   \n",
       "\n",
       "  Species Analyzer                        XF Assay Plate Reader Assay  \\\n",
       "0   Mouse       24  Cell Mitochondrial Stress Test                NaN   \n",
       "1   Mouse       24  Cell Mitochondrial Stress Test                NaN   \n",
       "2   Human       24  Cell Mitochondrial Stress Test                NaN   \n",
       "3   Human       24          Glycolysis Stress Test                NaN   \n",
       "4   Mouse       96  Cell Mitochondrial Stress Test                NaN   \n",
       "\n",
       "        Seeding density  Plate coating                Epoch  \n",
       "0   8.0x10^5 cells/well  Not Specified  1412121600000000000  \n",
       "1   8.0x10^5 cells/well  Not Specified  1412121600000000000  \n",
       "2  3.0 x10^4 cells/well  Not Specified  1537488000000000000  \n",
       "3  3.0 x10^4 cells/well  Not Specified  1537488000000000000  \n",
       "4  1.0 x10^5 cells/well  Not Specified  1504224000000000000  "
      ]
     },
     "execution_count": 7,
     "metadata": {},
     "output_type": "execute_result"
    }
   ],
   "source": [
    "data['Epoch'] = pd.to_datetime(data['Publication date']).astype('int64')\n",
    "data.head()"
   ]
  },
  {
   "cell_type": "code",
   "execution_count": 8,
   "metadata": {},
   "outputs": [
    {
     "data": {
      "text/plain": [
       "True"
      ]
     },
     "execution_count": 8,
     "metadata": {},
     "output_type": "execute_result"
    }
   ],
   "source": [
    "data['Title'].iloc[1] == data['Title'].iloc[0]"
   ]
  },
  {
   "cell_type": "code",
   "execution_count": 9,
   "metadata": {},
   "outputs": [
    {
     "data": {
      "text/plain": [
       "9634"
      ]
     },
     "execution_count": 9,
     "metadata": {},
     "output_type": "execute_result"
    }
   ],
   "source": [
    "len(data)"
   ]
  },
  {
   "cell_type": "code",
   "execution_count": 10,
   "metadata": {},
   "outputs": [],
   "source": [
    "# # Make dictionary for matching rows\n",
    "# for i in len(data)\n",
    "    "
   ]
  },
  {
   "cell_type": "markdown",
   "metadata": {},
   "source": [
    "Read the dataset that contains impact factors of biochemistry, genetics and molecular biology journals."
   ]
  },
  {
   "cell_type": "code",
   "execution_count": 11,
   "metadata": {},
   "outputs": [
    {
     "data": {
      "text/html": [
       "<div>\n",
       "<style scoped>\n",
       "    .dataframe tbody tr th:only-of-type {\n",
       "        vertical-align: middle;\n",
       "    }\n",
       "\n",
       "    .dataframe tbody tr th {\n",
       "        vertical-align: top;\n",
       "    }\n",
       "\n",
       "    .dataframe thead th {\n",
       "        text-align: right;\n",
       "    }\n",
       "</style>\n",
       "<table border=\"1\" class=\"dataframe\">\n",
       "  <thead>\n",
       "    <tr style=\"text-align: right;\">\n",
       "      <th></th>\n",
       "      <th>Rank</th>\n",
       "      <th>Sourceid</th>\n",
       "      <th>Title</th>\n",
       "      <th>Type</th>\n",
       "      <th>Issn</th>\n",
       "      <th>SJR</th>\n",
       "      <th>SJR Best Quartile</th>\n",
       "      <th>H index</th>\n",
       "      <th>Total Docs. (2017)</th>\n",
       "      <th>Total Docs. (3years)</th>\n",
       "      <th>Total Refs.</th>\n",
       "      <th>Total Cites (3years)</th>\n",
       "      <th>Citable Docs. (3years)</th>\n",
       "      <th>Cites / Doc. (2years)</th>\n",
       "      <th>Ref. / Doc.</th>\n",
       "      <th>Country</th>\n",
       "      <th>Publisher</th>\n",
       "      <th>Categories</th>\n",
       "    </tr>\n",
       "  </thead>\n",
       "  <tbody>\n",
       "    <tr>\n",
       "      <th>0</th>\n",
       "      <td>1</td>\n",
       "      <td>18991</td>\n",
       "      <td>Nature Reviews Genetics</td>\n",
       "      <td>journal</td>\n",
       "      <td>14710056, 14710064</td>\n",
       "      <td>34,896</td>\n",
       "      <td>Q1</td>\n",
       "      <td>307</td>\n",
       "      <td>108</td>\n",
       "      <td>429</td>\n",
       "      <td>7108</td>\n",
       "      <td>7296</td>\n",
       "      <td>167</td>\n",
       "      <td>38,94</td>\n",
       "      <td>65,81</td>\n",
       "      <td>United Kingdom</td>\n",
       "      <td>Nature Publishing Group</td>\n",
       "      <td>Genetics (Q1); Genetics (clinical) (Q1); Molec...</td>\n",
       "    </tr>\n",
       "    <tr>\n",
       "      <th>1</th>\n",
       "      <td>2</td>\n",
       "      <td>20315</td>\n",
       "      <td>Nature Reviews Molecular Cell Biology</td>\n",
       "      <td>journal</td>\n",
       "      <td>14710072, 14710080</td>\n",
       "      <td>32,714</td>\n",
       "      <td>Q1</td>\n",
       "      <td>372</td>\n",
       "      <td>112</td>\n",
       "      <td>428</td>\n",
       "      <td>7278</td>\n",
       "      <td>8741</td>\n",
       "      <td>206</td>\n",
       "      <td>29,64</td>\n",
       "      <td>64,98</td>\n",
       "      <td>United Kingdom</td>\n",
       "      <td>Nature Publishing Group</td>\n",
       "      <td>Cell Biology (Q1); Molecular Biology (Q1)</td>\n",
       "    </tr>\n",
       "    <tr>\n",
       "      <th>2</th>\n",
       "      <td>3</td>\n",
       "      <td>18434</td>\n",
       "      <td>Cell</td>\n",
       "      <td>journal</td>\n",
       "      <td>00928674, 10974172</td>\n",
       "      <td>25,137</td>\n",
       "      <td>Q1</td>\n",
       "      <td>682</td>\n",
       "      <td>547</td>\n",
       "      <td>1978</td>\n",
       "      <td>27123</td>\n",
       "      <td>43114</td>\n",
       "      <td>1734</td>\n",
       "      <td>23,61</td>\n",
       "      <td>49,59</td>\n",
       "      <td>United States</td>\n",
       "      <td>Cell Press</td>\n",
       "      <td>Biochemistry, Genetics and Molecular Biology (...</td>\n",
       "    </tr>\n",
       "    <tr>\n",
       "      <th>3</th>\n",
       "      <td>4</td>\n",
       "      <td>12464</td>\n",
       "      <td>Nature Reviews Cancer</td>\n",
       "      <td>journal</td>\n",
       "      <td>1474175X</td>\n",
       "      <td>23,530</td>\n",
       "      <td>Q1</td>\n",
       "      <td>373</td>\n",
       "      <td>118</td>\n",
       "      <td>403</td>\n",
       "      <td>9157</td>\n",
       "      <td>7687</td>\n",
       "      <td>198</td>\n",
       "      <td>37,90</td>\n",
       "      <td>77,60</td>\n",
       "      <td>United Kingdom</td>\n",
       "      <td>Nature Publishing Group</td>\n",
       "      <td>Cancer Research (Q1); Oncology (Q1)</td>\n",
       "    </tr>\n",
       "    <tr>\n",
       "      <th>4</th>\n",
       "      <td>5</td>\n",
       "      <td>18990</td>\n",
       "      <td>Nature Genetics</td>\n",
       "      <td>journal</td>\n",
       "      <td>10614036</td>\n",
       "      <td>22,243</td>\n",
       "      <td>Q1</td>\n",
       "      <td>511</td>\n",
       "      <td>291</td>\n",
       "      <td>811</td>\n",
       "      <td>13028</td>\n",
       "      <td>16977</td>\n",
       "      <td>693</td>\n",
       "      <td>22,68</td>\n",
       "      <td>44,77</td>\n",
       "      <td>United Kingdom</td>\n",
       "      <td>Nature Publishing Group</td>\n",
       "      <td>Genetics (Q1)</td>\n",
       "    </tr>\n",
       "  </tbody>\n",
       "</table>\n",
       "</div>"
      ],
      "text/plain": [
       "   Rank  Sourceid                                  Title     Type  \\\n",
       "0     1     18991                Nature Reviews Genetics  journal   \n",
       "1     2     20315  Nature Reviews Molecular Cell Biology  journal   \n",
       "2     3     18434                                   Cell  journal   \n",
       "3     4     12464                  Nature Reviews Cancer  journal   \n",
       "4     5     18990                        Nature Genetics  journal   \n",
       "\n",
       "                 Issn     SJR SJR Best Quartile  H index  Total Docs. (2017)  \\\n",
       "0  14710056, 14710064  34,896                Q1      307                 108   \n",
       "1  14710072, 14710080  32,714                Q1      372                 112   \n",
       "2  00928674, 10974172  25,137                Q1      682                 547   \n",
       "3            1474175X  23,530                Q1      373                 118   \n",
       "4            10614036  22,243                Q1      511                 291   \n",
       "\n",
       "   Total Docs. (3years)  Total Refs.  Total Cites (3years)  \\\n",
       "0                   429         7108                  7296   \n",
       "1                   428         7278                  8741   \n",
       "2                  1978        27123                 43114   \n",
       "3                   403         9157                  7687   \n",
       "4                   811        13028                 16977   \n",
       "\n",
       "   Citable Docs. (3years) Cites / Doc. (2years) Ref. / Doc.         Country  \\\n",
       "0                     167                 38,94       65,81  United Kingdom   \n",
       "1                     206                 29,64       64,98  United Kingdom   \n",
       "2                    1734                 23,61       49,59   United States   \n",
       "3                     198                 37,90       77,60  United Kingdom   \n",
       "4                     693                 22,68       44,77  United Kingdom   \n",
       "\n",
       "                 Publisher                                         Categories  \n",
       "0  Nature Publishing Group  Genetics (Q1); Genetics (clinical) (Q1); Molec...  \n",
       "1  Nature Publishing Group          Cell Biology (Q1); Molecular Biology (Q1)  \n",
       "2               Cell Press  Biochemistry, Genetics and Molecular Biology (...  \n",
       "3  Nature Publishing Group                Cancer Research (Q1); Oncology (Q1)  \n",
       "4  Nature Publishing Group                                      Genetics (Q1)  "
      ]
     },
     "execution_count": 11,
     "metadata": {},
     "output_type": "execute_result"
    }
   ],
   "source": [
    "# journal_impact = pd.read_csv('https://www.scimagojr.com/journalrank.php?area=1300&out=xls', sep=';')\n",
    "journal_impact = pd.read_csv('./Impact_bio.csv', sep=';')\n",
    "journal_impact.head()"
   ]
  },
  {
   "cell_type": "code",
   "execution_count": 12,
   "metadata": {},
   "outputs": [
    {
     "data": {
      "text/html": [
       "<div>\n",
       "<style scoped>\n",
       "    .dataframe tbody tr th:only-of-type {\n",
       "        vertical-align: middle;\n",
       "    }\n",
       "\n",
       "    .dataframe tbody tr th {\n",
       "        vertical-align: top;\n",
       "    }\n",
       "\n",
       "    .dataframe thead th {\n",
       "        text-align: right;\n",
       "    }\n",
       "</style>\n",
       "<table border=\"1\" class=\"dataframe\">\n",
       "  <thead>\n",
       "    <tr style=\"text-align: right;\">\n",
       "      <th></th>\n",
       "      <th>Title</th>\n",
       "      <th>SJR</th>\n",
       "      <th>H index</th>\n",
       "    </tr>\n",
       "  </thead>\n",
       "  <tbody>\n",
       "    <tr>\n",
       "      <th>0</th>\n",
       "      <td>Nature Reviews Genetics</td>\n",
       "      <td>34,896</td>\n",
       "      <td>307</td>\n",
       "    </tr>\n",
       "    <tr>\n",
       "      <th>1</th>\n",
       "      <td>Nature Reviews Molecular Cell Biology</td>\n",
       "      <td>32,714</td>\n",
       "      <td>372</td>\n",
       "    </tr>\n",
       "    <tr>\n",
       "      <th>2</th>\n",
       "      <td>Cell</td>\n",
       "      <td>25,137</td>\n",
       "      <td>682</td>\n",
       "    </tr>\n",
       "    <tr>\n",
       "      <th>3</th>\n",
       "      <td>Nature Reviews Cancer</td>\n",
       "      <td>23,530</td>\n",
       "      <td>373</td>\n",
       "    </tr>\n",
       "    <tr>\n",
       "      <th>4</th>\n",
       "      <td>Nature Genetics</td>\n",
       "      <td>22,243</td>\n",
       "      <td>511</td>\n",
       "    </tr>\n",
       "  </tbody>\n",
       "</table>\n",
       "</div>"
      ],
      "text/plain": [
       "                                   Title     SJR  H index\n",
       "0                Nature Reviews Genetics  34,896      307\n",
       "1  Nature Reviews Molecular Cell Biology  32,714      372\n",
       "2                                   Cell  25,137      682\n",
       "3                  Nature Reviews Cancer  23,530      373\n",
       "4                        Nature Genetics  22,243      511"
      ]
     },
     "execution_count": 12,
     "metadata": {},
     "output_type": "execute_result"
    }
   ],
   "source": [
    "# Only keep columns we need\n",
    "journal_impact = journal_impact[['Title','SJR','H index']]\n",
    "journal_impact.head()"
   ]
  },
  {
   "cell_type": "markdown",
   "metadata": {},
   "source": [
    "Here both SJR and H index are kept for future references. These are both measures of the quality of a journal. H index does not take into account differing citation practices of fields (unlike the weighted SJR) and so is best used to compare journals within a field."
   ]
  },
  {
   "cell_type": "markdown",
   "metadata": {},
   "source": [
    "Now the merge begins!  \n",
    "  \n",
    "First we create a two-column dataset that contains identical journal names in both columns.  \n",
    "The first 850 rows come from the 850 unique journal values from the original dataset.  \n",
    "Then, the journal titles from the impact factor dataset are appended.  \n",
    "  \n",
    "The purpose of using both 'Original' and 'Fuzzy' columns is to use OpenRefine to cluster & merge 'Fuzzy' column values, while the 'Original' column keeps the reference to respective initial dataset."
   ]
  },
  {
   "cell_type": "code",
   "execution_count": 13,
   "metadata": {},
   "outputs": [
    {
     "data": {
      "text/html": [
       "<div>\n",
       "<style scoped>\n",
       "    .dataframe tbody tr th:only-of-type {\n",
       "        vertical-align: middle;\n",
       "    }\n",
       "\n",
       "    .dataframe tbody tr th {\n",
       "        vertical-align: top;\n",
       "    }\n",
       "\n",
       "    .dataframe thead th {\n",
       "        text-align: right;\n",
       "    }\n",
       "</style>\n",
       "<table border=\"1\" class=\"dataframe\">\n",
       "  <thead>\n",
       "    <tr style=\"text-align: right;\">\n",
       "      <th></th>\n",
       "      <th>Original</th>\n",
       "      <th>Fuzzy</th>\n",
       "    </tr>\n",
       "  </thead>\n",
       "  <tbody>\n",
       "    <tr>\n",
       "      <th>845</th>\n",
       "      <td>Benef Microbes</td>\n",
       "      <td>Benef Microbes</td>\n",
       "    </tr>\n",
       "    <tr>\n",
       "      <th>846</th>\n",
       "      <td>Hepatol Commun</td>\n",
       "      <td>Hepatol Commun</td>\n",
       "    </tr>\n",
       "    <tr>\n",
       "      <th>847</th>\n",
       "      <td>Chem Rev</td>\n",
       "      <td>Chem Rev</td>\n",
       "    </tr>\n",
       "    <tr>\n",
       "      <th>848</th>\n",
       "      <td>Life Science Alliance</td>\n",
       "      <td>Life Science Alliance</td>\n",
       "    </tr>\n",
       "    <tr>\n",
       "      <th>849</th>\n",
       "      <td>Blood Cancer J</td>\n",
       "      <td>Blood Cancer J</td>\n",
       "    </tr>\n",
       "    <tr>\n",
       "      <th>850</th>\n",
       "      <td>BIOspektrum</td>\n",
       "      <td>BIOspektrum</td>\n",
       "    </tr>\n",
       "    <tr>\n",
       "      <th>851</th>\n",
       "      <td>Nature Reviews Genetics</td>\n",
       "      <td>Nature Reviews Genetics</td>\n",
       "    </tr>\n",
       "    <tr>\n",
       "      <th>852</th>\n",
       "      <td>Nature Reviews Molecular Cell Biology</td>\n",
       "      <td>Nature Reviews Molecular Cell Biology</td>\n",
       "    </tr>\n",
       "    <tr>\n",
       "      <th>853</th>\n",
       "      <td>Cell</td>\n",
       "      <td>Cell</td>\n",
       "    </tr>\n",
       "    <tr>\n",
       "      <th>854</th>\n",
       "      <td>Nature Reviews Cancer</td>\n",
       "      <td>Nature Reviews Cancer</td>\n",
       "    </tr>\n",
       "  </tbody>\n",
       "</table>\n",
       "</div>"
      ],
      "text/plain": [
       "                                  Original  \\\n",
       "845                         Benef Microbes   \n",
       "846                         Hepatol Commun   \n",
       "847                               Chem Rev   \n",
       "848                  Life Science Alliance   \n",
       "849                         Blood Cancer J   \n",
       "850                            BIOspektrum   \n",
       "851                Nature Reviews Genetics   \n",
       "852  Nature Reviews Molecular Cell Biology   \n",
       "853                                   Cell   \n",
       "854                  Nature Reviews Cancer   \n",
       "\n",
       "                                     Fuzzy  \n",
       "845                         Benef Microbes  \n",
       "846                         Hepatol Commun  \n",
       "847                               Chem Rev  \n",
       "848                  Life Science Alliance  \n",
       "849                         Blood Cancer J  \n",
       "850                            BIOspektrum  \n",
       "851                Nature Reviews Genetics  \n",
       "852  Nature Reviews Molecular Cell Biology  \n",
       "853                                   Cell  \n",
       "854                  Nature Reviews Cancer  "
      ]
     },
     "execution_count": 13,
     "metadata": {},
     "output_type": "execute_result"
    }
   ],
   "source": [
    "# Create new empty dataframe\n",
    "fuzzy_match = pd.DataFrame(columns=['Original', 'Fuzzy'])\n",
    "\n",
    "# Populate df with unique original journal titles\n",
    "fuzzy_match.Original = data.Journal.unique()\n",
    "fuzzy_match.Fuzzy = data.Journal.unique()\n",
    "\n",
    "# Create new df to populate with journal_impact titles\n",
    "df2 = pd.DataFrame(columns=['Original', 'Fuzzy'])\n",
    "df2.Original = journal_impact.Title\n",
    "df2.Fuzzy = journal_impact.Title\n",
    "\n",
    "# Append the second df to the end of the one with original titles\n",
    "fuzzy_match = fuzzy_match.append(df2, ignore_index = True)\n",
    "\n",
    "# Show row 850 & 851 where both datasets are connected together\n",
    "fuzzy_match.iloc[845:855]"
   ]
  },
  {
   "cell_type": "code",
   "execution_count": 14,
   "metadata": {},
   "outputs": [],
   "source": [
    "fuzzy_match.to_csv(r'./Fuzzy_preOR.csv',index=False)"
   ]
  },
  {
   "cell_type": "markdown",
   "metadata": {},
   "source": [
    "After we check that the dataset is appended correctly, we export this dataset as 'Fuzzy_preOR.csv' for **clustering & merging in OpenRefine**.  \n",
    "\n",
    "OpenRefine does a great job at merging journal titles that look similar. The result is exported as 'Fuzzy_postOR.csv', **an intermediary dataset** used to merge our original datasets.  \n",
    "\n",
    "**How is the merging process carried out?**\n",
    "* The intermediary dataset is cut into two segments. Each segment contains \n",
    "    * column 0 - reference journal titles, same as those shown in its original dataset\n",
    "    * column 1 - OpenRefine-clustered & merged journal titles, used for the last merge\n",
    "* Each segment of the intermediary dataset is left-joined with its original dataset. Now, both datasets have an additional column, \"Fuzzy\", which serves as the connector for the last merge\n",
    "* **The Last Merge**: both original dataset & journal impact factor dataset are left-joined through the \"Fuzzy\" column"
   ]
  },
  {
   "cell_type": "markdown",
   "metadata": {},
   "source": [
    "<img src=\"./img/merge_graphic.png\" width=\"680\">"
   ]
  },
  {
   "cell_type": "code",
   "execution_count": 15,
   "metadata": {},
   "outputs": [
    {
     "name": "stdout",
     "output_type": "stream",
     "text": [
      "<class 'pandas.core.frame.DataFrame'>\n",
      "Int64Index: 9634 entries, 0 to 9633\n",
      "Data columns (total 15 columns):\n",
      "Title                 9634 non-null object\n",
      "Authors               9632 non-null object\n",
      "Journal               9596 non-null object\n",
      "Research area         9634 non-null object\n",
      "Cell Line             9620 non-null object\n",
      "Cell Type             9626 non-null object\n",
      "Species               9562 non-null object\n",
      "Analyzer              9615 non-null object\n",
      "XF Assay              9232 non-null object\n",
      "Plate Reader Assay    345 non-null object\n",
      "Seeding density       9579 non-null object\n",
      "Plate coating         9581 non-null object\n",
      "Epoch                 9634 non-null int64\n",
      "SJR                   1697 non-null object\n",
      "H index               1701 non-null float64\n",
      "dtypes: float64(1), int64(1), object(13)\n",
      "memory usage: 1.2+ MB\n"
     ]
    },
    {
     "data": {
      "text/html": [
       "<div>\n",
       "<style scoped>\n",
       "    .dataframe tbody tr th:only-of-type {\n",
       "        vertical-align: middle;\n",
       "    }\n",
       "\n",
       "    .dataframe tbody tr th {\n",
       "        vertical-align: top;\n",
       "    }\n",
       "\n",
       "    .dataframe thead th {\n",
       "        text-align: right;\n",
       "    }\n",
       "</style>\n",
       "<table border=\"1\" class=\"dataframe\">\n",
       "  <thead>\n",
       "    <tr style=\"text-align: right;\">\n",
       "      <th></th>\n",
       "      <th>Title</th>\n",
       "      <th>Authors</th>\n",
       "      <th>Journal</th>\n",
       "      <th>Research area</th>\n",
       "      <th>Cell Line</th>\n",
       "      <th>Cell Type</th>\n",
       "      <th>Species</th>\n",
       "      <th>Analyzer</th>\n",
       "      <th>XF Assay</th>\n",
       "      <th>Plate Reader Assay</th>\n",
       "      <th>Seeding density</th>\n",
       "      <th>Plate coating</th>\n",
       "      <th>Epoch</th>\n",
       "      <th>SJR</th>\n",
       "      <th>H index</th>\n",
       "    </tr>\n",
       "  </thead>\n",
       "  <tbody>\n",
       "    <tr>\n",
       "      <th>0</th>\n",
       "      <td>_-1-Antitrypsin (AAT)-modified donor cells sup...</td>\n",
       "      <td>Marcondes AM, Karoopongse E, Lesnikova M, Marg...</td>\n",
       "      <td>Blood</td>\n",
       "      <td>Immunology Research</td>\n",
       "      <td>T-cells</td>\n",
       "      <td>T-cells</td>\n",
       "      <td>Mouse</td>\n",
       "      <td>24</td>\n",
       "      <td>Cell Mitochondrial Stress Test</td>\n",
       "      <td>NaN</td>\n",
       "      <td>8.0x10^5 cells/well</td>\n",
       "      <td>Not Specified</td>\n",
       "      <td>1412121600000000000</td>\n",
       "      <td>6,434</td>\n",
       "      <td>410.0</td>\n",
       "    </tr>\n",
       "    <tr>\n",
       "      <th>1</th>\n",
       "      <td>_-1-Antitrypsin (AAT)-modified donor cells sup...</td>\n",
       "      <td>Marcondes AM, Karoopongse E, Lesnikova M, Marg...</td>\n",
       "      <td>Blood</td>\n",
       "      <td>Immunology Research</td>\n",
       "      <td>Natural Killer (NK) cells</td>\n",
       "      <td>Immune Cells</td>\n",
       "      <td>Mouse</td>\n",
       "      <td>24</td>\n",
       "      <td>Cell Mitochondrial Stress Test</td>\n",
       "      <td>NaN</td>\n",
       "      <td>8.0x10^5 cells/well</td>\n",
       "      <td>Not Specified</td>\n",
       "      <td>1412121600000000000</td>\n",
       "      <td>6,434</td>\n",
       "      <td>410.0</td>\n",
       "    </tr>\n",
       "    <tr>\n",
       "      <th>2</th>\n",
       "      <td>_-enolase regulates the malignant phenotype of...</td>\n",
       "      <td>J. Dai, Q. Zhou, J. Chen, M. L. Rexius-Hall, J...</td>\n",
       "      <td>Nat Commun</td>\n",
       "      <td>Cell Physiology Research</td>\n",
       "      <td>Pulmonary Artery Smooth Muscle Cells (PASMC)</td>\n",
       "      <td>Pulmonary Artery Cells</td>\n",
       "      <td>Human</td>\n",
       "      <td>24</td>\n",
       "      <td>Cell Mitochondrial Stress Test</td>\n",
       "      <td>NaN</td>\n",
       "      <td>3.0 x10^4 cells/well</td>\n",
       "      <td>Not Specified</td>\n",
       "      <td>1537488000000000000</td>\n",
       "      <td>NaN</td>\n",
       "      <td>NaN</td>\n",
       "    </tr>\n",
       "    <tr>\n",
       "      <th>3</th>\n",
       "      <td>_-enolase regulates the malignant phenotype of...</td>\n",
       "      <td>J. Dai, Q. Zhou, J. Chen, M. L. Rexius-Hall, J...</td>\n",
       "      <td>Nat Commun</td>\n",
       "      <td>Cell Physiology Research</td>\n",
       "      <td>Pulmonary Artery Smooth Muscle Cells (PASMC)</td>\n",
       "      <td>Pulmonary Artery Cells</td>\n",
       "      <td>Human</td>\n",
       "      <td>24</td>\n",
       "      <td>Glycolysis Stress Test</td>\n",
       "      <td>NaN</td>\n",
       "      <td>3.0 x10^4 cells/well</td>\n",
       "      <td>Not Specified</td>\n",
       "      <td>1537488000000000000</td>\n",
       "      <td>NaN</td>\n",
       "      <td>NaN</td>\n",
       "    </tr>\n",
       "    <tr>\n",
       "      <th>4</th>\n",
       "      <td>_-ketoglutarate orchestrates macrophage activa...</td>\n",
       "      <td>P. S. Liu, H. Wang, X. Li, T. Chao, T. Teav, S...</td>\n",
       "      <td>Nat Immunol</td>\n",
       "      <td>Immunology Research</td>\n",
       "      <td>Bone Marrow-Derived Macrophages (BMDM)</td>\n",
       "      <td>Immune Cells</td>\n",
       "      <td>Mouse</td>\n",
       "      <td>96</td>\n",
       "      <td>Cell Mitochondrial Stress Test</td>\n",
       "      <td>NaN</td>\n",
       "      <td>1.0 x10^5 cells/well</td>\n",
       "      <td>Not Specified</td>\n",
       "      <td>1504224000000000000</td>\n",
       "      <td>NaN</td>\n",
       "      <td>NaN</td>\n",
       "    </tr>\n",
       "  </tbody>\n",
       "</table>\n",
       "</div>"
      ],
      "text/plain": [
       "                                               Title  \\\n",
       "0  _-1-Antitrypsin (AAT)-modified donor cells sup...   \n",
       "1  _-1-Antitrypsin (AAT)-modified donor cells sup...   \n",
       "2  _-enolase regulates the malignant phenotype of...   \n",
       "3  _-enolase regulates the malignant phenotype of...   \n",
       "4  _-ketoglutarate orchestrates macrophage activa...   \n",
       "\n",
       "                                             Authors      Journal  \\\n",
       "0  Marcondes AM, Karoopongse E, Lesnikova M, Marg...        Blood   \n",
       "1  Marcondes AM, Karoopongse E, Lesnikova M, Marg...        Blood   \n",
       "2  J. Dai, Q. Zhou, J. Chen, M. L. Rexius-Hall, J...   Nat Commun   \n",
       "3  J. Dai, Q. Zhou, J. Chen, M. L. Rexius-Hall, J...   Nat Commun   \n",
       "4  P. S. Liu, H. Wang, X. Li, T. Chao, T. Teav, S...  Nat Immunol   \n",
       "\n",
       "              Research area                                     Cell Line  \\\n",
       "0       Immunology Research                                       T-cells   \n",
       "1       Immunology Research                     Natural Killer (NK) cells   \n",
       "2  Cell Physiology Research  Pulmonary Artery Smooth Muscle Cells (PASMC)   \n",
       "3  Cell Physiology Research  Pulmonary Artery Smooth Muscle Cells (PASMC)   \n",
       "4       Immunology Research        Bone Marrow-Derived Macrophages (BMDM)   \n",
       "\n",
       "                Cell Type Species Analyzer                        XF Assay  \\\n",
       "0                 T-cells   Mouse       24  Cell Mitochondrial Stress Test   \n",
       "1            Immune Cells   Mouse       24  Cell Mitochondrial Stress Test   \n",
       "2  Pulmonary Artery Cells   Human       24  Cell Mitochondrial Stress Test   \n",
       "3  Pulmonary Artery Cells   Human       24          Glycolysis Stress Test   \n",
       "4            Immune Cells   Mouse       96  Cell Mitochondrial Stress Test   \n",
       "\n",
       "  Plate Reader Assay       Seeding density  Plate coating  \\\n",
       "0                NaN   8.0x10^5 cells/well  Not Specified   \n",
       "1                NaN   8.0x10^5 cells/well  Not Specified   \n",
       "2                NaN  3.0 x10^4 cells/well  Not Specified   \n",
       "3                NaN  3.0 x10^4 cells/well  Not Specified   \n",
       "4                NaN  1.0 x10^5 cells/well  Not Specified   \n",
       "\n",
       "                 Epoch    SJR  H index  \n",
       "0  1412121600000000000  6,434    410.0  \n",
       "1  1412121600000000000  6,434    410.0  \n",
       "2  1537488000000000000    NaN      NaN  \n",
       "3  1537488000000000000    NaN      NaN  \n",
       "4  1504224000000000000    NaN      NaN  "
      ]
     },
     "execution_count": 15,
     "metadata": {},
     "output_type": "execute_result"
    }
   ],
   "source": [
    "fuzzy_postOR = pd.read_csv('./Fuzzy_postOR.csv')\n",
    "fuzzy_postOR = fuzzy_postOR[['Original','Fuzzy']]\n",
    "\n",
    "fuzzy_postOR_Original = pd.DataFrame(columns=['Journal', 'Fuzzy'])\n",
    "fuzzy_postOR_Original.Journal = fuzzy_postOR.iloc[:850, 0]\n",
    "fuzzy_postOR_Original.Fuzzy = fuzzy_postOR.iloc[:850, 1]\n",
    "data_fuzzy = data.merge(fuzzy_postOR_Original, how='left', on='Journal', suffixes=('_x','_y'))\n",
    "# data_fuzzy\n",
    "\n",
    "fuzzy_postOR_Impact = pd.DataFrame(columns=['Title', 'Fuzzy'])\n",
    "fuzzy_postOR_Impact.Title = fuzzy_postOR.iloc[850:, 0]\n",
    "fuzzy_postOR_Impact.Fuzzy = fuzzy_postOR.iloc[850:, 1]\n",
    "impact_fuzzy = journal_impact.merge(fuzzy_postOR_Impact, how='left', on='Title', suffixes=('_x','_y'))\n",
    "impact_fuzzy = impact_fuzzy.drop(columns='Title')\n",
    "# impact_fuzzy\n",
    "\n",
    "df = data_fuzzy.merge(impact_fuzzy, how='left', on='Fuzzy', suffixes=('_x','_y'))\n",
    "df = df.drop(columns=['Publication date','Fuzzy'])\n",
    "df.info()\n",
    "df.head()"
   ]
  },
  {
   "cell_type": "code",
   "execution_count": 16,
   "metadata": {},
   "outputs": [
    {
     "data": {
      "text/plain": [
       "Text(0, 0.5, 'Percent Missing')"
      ]
     },
     "execution_count": 16,
     "metadata": {},
     "output_type": "execute_result"
    },
    {
     "data": {
      "image/png": "[encoded data removed]",
      "text/plain": [
       "<Figure size 432x288 with 1 Axes>"
      ]
     },
     "metadata": {
      "needs_background": "light"
     },
     "output_type": "display_data"
    }
   ],
   "source": [
    "((df.isnull().sum()/len(data)) * 100).plot(kind='bar')\n",
    "\n",
    "# Add title, x- and y- axes labels\n",
    "plt.title('Percent Missing by Variable')\n",
    "plt.xlabel(\"Variables\")\n",
    "plt.ylabel(\"Percent Missing\")"
   ]
  },
  {
   "cell_type": "markdown",
   "metadata": {},
   "source": [
    "## Data Cleaning"
   ]
  },
  {
   "cell_type": "code",
   "execution_count": 17,
   "metadata": {},
   "outputs": [
    {
     "data": {
      "text/plain": [
       "410           Not Specified\n",
       "411           Not Specified\n",
       "412           Not Specified\n",
       "413           Not Specified\n",
       "414           Not Specified\n",
       "415           Not Specified\n",
       "416    2.0 x10^4 cells/well\n",
       "417    0.15x10^6 cells/well\n",
       "418     1.0x10^4 cells/well\n",
       "419     1.0x10^4 cells/well\n",
       "420           Not Specified\n",
       "421           Not Specified\n",
       "422              50 ug/well\n",
       "423              50 ug/well\n",
       "424    8.0 x10^4 cells/well\n",
       "425    8.0 x10^4 cells/well\n",
       "426           Not Specified\n",
       "427     8.0x10^2 cells/well\n",
       "428    4.0 x10^4 cells/well\n",
       "Name: Seeding density, dtype: object"
      ]
     },
     "execution_count": 17,
     "metadata": {},
     "output_type": "execute_result"
    }
   ],
   "source": [
    "df['Seeding density'].iloc[410:429]"
   ]
  },
  {
   "cell_type": "code",
   "execution_count": 18,
   "metadata": {
    "scrolled": false
   },
   "outputs": [
    {
     "data": {
      "text/plain": [
       "cells/well      5215\n",
       "Specified       3774\n",
       "ug/well          177\n",
       "nan               55\n",
       "worms/well        50\n",
       "islets/well       40\n",
       "protein/well      32\n",
       "cells/mL          21\n",
       "well              19\n",
       "cell/well         16\n",
       "Name: Seeding density unit, dtype: int64"
      ]
     },
     "execution_count": 18,
     "metadata": {},
     "output_type": "execute_result"
    }
   ],
   "source": [
    "# split on the space\n",
    "# temp = df['Seeding density'][1].split(' ')[-1]\n",
    "df['Seeding density'] = df['Seeding density'].astype(str)\n",
    "df['Seeding density unit'] = df['Seeding density'].apply(lambda x: x.split(' ')[-1])\n",
    "df['Seeding density unit'].value_counts()[:10]\n",
    "# len(df['Seeding density unit'].unique())\n",
    "# take the last one\n",
    "# see how many unique\n",
    "# extract the numbers by spliting on x and ^"
   ]
  },
  {
   "cell_type": "code",
   "execution_count": 19,
   "metadata": {},
   "outputs": [],
   "source": [
    "# fuzz.partial_ratio('cells/well', 'cells/welll')"
   ]
  },
  {
   "cell_type": "code",
   "execution_count": 20,
   "metadata": {},
   "outputs": [],
   "source": [
    "# fuzz.token_set_ratio('cells/well', 'cell/swell')"
   ]
  },
  {
   "cell_type": "code",
   "execution_count": 21,
   "metadata": {},
   "outputs": [],
   "source": [
    "# # Replace units with correct spelling\n",
    "# df['Seeding density unit'].replace('cells/welll', 'cells/well', inplace=True)\n",
    "# df['Seeding density unit'].replace('cell/swell', 'cells/well', inplace=True)\n",
    "# df['Seeding density unit'].replace('cell/well', 'cells/well', inplace=True)\n",
    "# df['Seeding density unit'].replace('cells/wll', 'cells/well', inplace=True)\n",
    "# df['Seeding density unit'].value_counts()\n",
    "# len(df['Seeding density unit'].unique())\n",
    "# Let's see whether there is a faster way to do this"
   ]
  },
  {
   "cell_type": "code",
   "execution_count": 22,
   "metadata": {},
   "outputs": [],
   "source": [
    "# choices = df['Seeding density unit'].unique()\n",
    "# possibilities = process.extract('cells/well', choices, limit=10, scorer=fuzz.token_sort_ratio)\n",
    "# # Let's see everyting with a score above 88\n",
    "# # Reference: http://jonathansoma.com/lede/algorithms-2017/classes/fuzziness-matplotlib/fuzzing-matching-in-pandas-with-fuzzywuzzy/\n",
    "# [possible for possible in possibilities if possible[1] > 88]"
   ]
  },
  {
   "cell_type": "code",
   "execution_count": 23,
   "metadata": {},
   "outputs": [],
   "source": [
    "# choices = df['Seeding density unit'].unique()\n",
    "# possibilities = process.extract('Specified', choices, limit=10, scorer=fuzz.ratio)\n",
    "# [possible for possible in possibilities if possible[1] > 88]"
   ]
  },
  {
   "cell_type": "code",
   "execution_count": 24,
   "metadata": {},
   "outputs": [],
   "source": [
    "# # df.apply(lambda row: fuzz.token_sort_ratio(row['Seeding density unit'], 'cells/well'), axis=1) > 88\n",
    "# df.loc[df.apply(lambda row: fuzz.token_sort_ratio(row['Seeding density unit'], 'cells/well'), axis=1) > 88,\\\n",
    "#        'Seeding density unit'] = 'cells/well'\n",
    "\n",
    "# # Check that fuzzy match worked\n",
    "# len(df['Seeding density unit'].unique())"
   ]
  },
  {
   "cell_type": "code",
   "execution_count": 25,
   "metadata": {},
   "outputs": [],
   "source": [
    "# df.loc[df.apply(lambda row: fuzz.token_sort_ratio(row['Seeding density unit'], 'Specified'), axis=1) > 88,\\\n",
    "#        'Seeding density unit'] = 'Specified'\n",
    "\n",
    "# # Check that fuzzy match worked\n",
    "# len(df['Seeding density unit'].unique())"
   ]
  },
  {
   "cell_type": "code",
   "execution_count": 26,
   "metadata": {},
   "outputs": [],
   "source": [
    "# df.loc[df.apply(lambda row: fuzz.token_sort_ratio(row['Seeding density unit'], 'ug/well'), axis=1) > 88,\\\n",
    "#        'Seeding density unit'] = 'ug/well'\n",
    "\n",
    "# # Check that fuzzy match worked\n",
    "# len(df['Seeding density unit'].unique())"
   ]
  },
  {
   "cell_type": "code",
   "execution_count": 27,
   "metadata": {},
   "outputs": [],
   "source": [
    "# cells_well = df.apply(lambda row: fuzz.token_sort_ratio(row['Seeding density unit'], 'cells/well'), axis=1) > 88\n",
    "# cells_well_dict = cells_well.value_counts().to_dict()\n",
    "# print('\"cells/well\" counts: ', cells_well_dict.get(True))\n",
    "\n",
    "# not_specified = df.apply(lambda row: fuzz.token_sort_ratio(row['Seeding density unit'], 'Specified'), axis=1) > 88\n",
    "# not_specified_dict = not_specified.value_counts().to_dict()\n",
    "# print('\"Not Specified\" counts: ', not_specified_dict.get(True))\n",
    "\n",
    "# ug_well = df.apply(lambda row: fuzz.token_sort_ratio(row['Seeding density unit'], 'ug/well'), axis=1) > 88\n",
    "# ug_well_dict = ug_well.value_counts().to_dict()\n",
    "# print('\"ug/well\" counts: ', ug_well_dict.get(True))\n",
    "\n",
    "# x = (cells_well_dict.get(True)+not_specified_dict.get(True)+ug_well_dict.get(True))/len(df)\n",
    "# print('The top three categories of units, as shown above, comprises of ',\\\n",
    "#       \"{:.1%}\".format(x), ' of the data')"
   ]
  },
  {
   "cell_type": "code",
   "execution_count": 28,
   "metadata": {},
   "outputs": [],
   "source": [
    "# len(np.where(df['Seeding density unit']=='cells/well')[0])\n",
    "# # Reference: https://stackoverflow.com/questions/33747908/output-of-numpy-wherecondition-is-not-an-array-but-a-tuple-of-arrays-why"
   ]
  },
  {
   "cell_type": "code",
   "execution_count": 29,
   "metadata": {},
   "outputs": [],
   "source": [
    "# cells_well_indices = np.where(df['Seeding density unit']=='cells/well')[0].tolist()\n",
    "# not_specified_indices = np.where(df['Seeding density unit']=='Specified')[0].tolist()\n",
    "# ug_well_indices = np.where(df['Seeding density unit']=='ug/well')[0].tolist()\n",
    "\n",
    "# l = cells_well_indices + not_specified_indices + ug_well_indices \n",
    "\n",
    "# # Reference: https://stackoverflow.com/questions/28867156/how-do-i-find-the-complement-of-an-array\n",
    "# def complement(l, universe=None):\n",
    "#     \"\"\"\n",
    "#     Return the complement of a list of integers, as compared to\n",
    "#     a given \"universe\" set. If no universe is specified,\n",
    "#     consider the universe to be all integers between\n",
    "#     the minimum and maximum values of the given list.\n",
    "#     \"\"\"\n",
    "#     if universe is not None:\n",
    "#         universe = set(universe)\n",
    "#     else:\n",
    "#         universe = set(range(min(l), max(l)+1))\n",
    "#     return sorted(universe - set(l))\n",
    "\n",
    "# list_to_clean = complement(l)\n",
    "# len(list_to_clean)"
   ]
  },
  {
   "cell_type": "code",
   "execution_count": null,
   "metadata": {},
   "outputs": [],
   "source": []
  },
  {
   "cell_type": "markdown",
   "metadata": {},
   "source": [
    "## Data Reshaping - Long to Wide"
   ]
  },
  {
   "cell_type": "code",
   "execution_count": 30,
   "metadata": {},
   "outputs": [],
   "source": [
    "# trial1 = df.groupby('Title')['Authors']\n",
    "# trial1.first()"
   ]
  },
  {
   "cell_type": "code",
   "execution_count": 31,
   "metadata": {},
   "outputs": [],
   "source": [
    "# df.groupby('Authors')['Title'].count().max()"
   ]
  },
  {
   "cell_type": "markdown",
   "metadata": {},
   "source": [
    "## Data Visualization"
   ]
  },
  {
   "cell_type": "markdown",
   "metadata": {},
   "source": [
    "### 1. Which Research Areas Are Scientists Looking for Cellular Metabolism Insights?"
   ]
  },
  {
   "cell_type": "code",
   "execution_count": 32,
   "metadata": {
    "scrolled": false
   },
   "outputs": [
    {
     "data": {
      "image/png": "[encoded data removed]",
      "text/plain": [
       "<Figure size 720x576 with 1 Axes>"
      ]
     },
     "metadata": {
      "needs_background": "light"
     },
     "output_type": "display_data"
    }
   ],
   "source": [
    "# Remove research areas that have a low value count\n",
    "# Reference: https://stackoverflow.com/questions/32511061/remove-low-frequency-values-from-pandas-dataframe\n",
    "threshold = 60 # Anything that occurs less than this will be removed.\n",
    "value_counts = data['Research area'].value_counts() \n",
    "to_remove = value_counts[value_counts <= threshold].index\n",
    "data['Research area'].replace(to_remove, np.nan, inplace=True)\n",
    "\n",
    "# Remove research area that is not significant for our purposes\n",
    "data['Research area'].replace(\"Techniques & Methods\", np.nan, inplace=True)\n",
    "data['Research area'].replace(\"Modulation\", np.nan, inplace=True)\n",
    "data['Research area'].replace(\"Model Organisms\", np.nan, inplace=True)\n",
    "data['Research area'].replace(\"Cell Metabolism in Technology\", np.nan, inplace=True)\n",
    "data['Research area'].replace(\"Review Paper\", np.nan, inplace=True)\n",
    "\n",
    "# Plot horizontal bar graph in descending order of the object value counts\n",
    "plot1 = data['Research area'].value_counts().plot(kind='barh', figsize=(10,8), title='Number of Cellular Metabolism Studies Done by Research Area')\n",
    "plot1.invert_yaxis()\n",
    "\n",
    "# Add title, x- and y- axes labels\n",
    "plot1.set_xlabel(\"Number of research studies done\")\n",
    "# plot1.set_ylabel(\"Research area\")\n",
    "\n",
    "# Set individual bar labels\n",
    "for i in plot1.patches:\n",
    "    # get_width pulls left or right; get_y pushes up or down\n",
    "    plot1.text(i.get_width()+10.0, i.get_y()+.38, str(i.get_width()))"
   ]
  },
  {
   "cell_type": "code",
   "execution_count": 33,
   "metadata": {},
   "outputs": [
    {
     "data": {
      "image/png": "[encoded data removed]",
      "text/plain": [
       "<Figure size 720x720 with 1 Axes>"
      ]
     },
     "metadata": {},
     "output_type": "display_data"
    }
   ],
   "source": [
    "# Pie chart\n",
    "top_8 = data['Research area'].value_counts()[:8]\n",
    "Research = top_8.index.tolist()\n",
    "Occurrence = top_8.values.tolist()\n",
    "\n",
    "fig = plt.figure(figsize=[10, 10])\n",
    "ax = fig.add_subplot(111)\n",
    "\n",
    "colors = ['#5DA5DA','#FAA43A','#60BD68','#F17CB0','#B2912F','#B276B2','#DECF3F','#F15854']\n",
    "\n",
    "pie_wedge_collection = ax.pie(Occurrence, colors=colors, labels=Research, autopct='%.1f%%', labeldistance=1.05);\n",
    "\n",
    "for pie_wedge in pie_wedge_collection[0]:\n",
    "    pie_wedge.set_edgecolor('white')\n",
    "\n",
    "ax.set_title(\"Percentage of Cellular Metabolism Studies Done by Research Area\");\n",
    "\n",
    "# pie = data['Research area'].value_counts()[:8].plot(kind='pie', figsize=(8,8), title='Number of Cellular Metabolism Studies Done by Research Area')"
   ]
  },
  {
   "cell_type": "markdown",
   "metadata": {},
   "source": [
    "From the data shown, it seems that cellular metabolism has generated the most interest in recent years in the field of cancer research."
   ]
  },
  {
   "cell_type": "markdown",
   "metadata": {},
   "source": [
    "### 2. What is the Recent Trend for Cellular Metabolism Studies?"
   ]
  },
  {
   "cell_type": "markdown",
   "metadata": {},
   "source": [
    "Since the publication date column data, like the other columns, are objects, they need to be converted to datetime so that pandas can plot all data points in the chronological order."
   ]
  },
  {
   "cell_type": "code",
   "execution_count": 34,
   "metadata": {
    "scrolled": true
   },
   "outputs": [
    {
     "data": {
      "text/html": [
       "<div>\n",
       "<style scoped>\n",
       "    .dataframe tbody tr th:only-of-type {\n",
       "        vertical-align: middle;\n",
       "    }\n",
       "\n",
       "    .dataframe tbody tr th {\n",
       "        vertical-align: top;\n",
       "    }\n",
       "\n",
       "    .dataframe thead th {\n",
       "        text-align: right;\n",
       "    }\n",
       "</style>\n",
       "<table border=\"1\" class=\"dataframe\">\n",
       "  <thead>\n",
       "    <tr style=\"text-align: right;\">\n",
       "      <th></th>\n",
       "      <th>Title</th>\n",
       "      <th>Authors</th>\n",
       "      <th>Journal</th>\n",
       "      <th>Research area</th>\n",
       "      <th>Cell Line</th>\n",
       "      <th>Cell Type</th>\n",
       "      <th>Species</th>\n",
       "      <th>Analyzer</th>\n",
       "      <th>XF Assay</th>\n",
       "      <th>Plate Reader Assay</th>\n",
       "      <th>Seeding density</th>\n",
       "      <th>Plate coating</th>\n",
       "      <th>Epoch</th>\n",
       "      <th>Publication year</th>\n",
       "    </tr>\n",
       "  </thead>\n",
       "  <tbody>\n",
       "    <tr>\n",
       "      <th>0</th>\n",
       "      <td>_-1-Antitrypsin (AAT)-modified donor cells sup...</td>\n",
       "      <td>Marcondes AM, Karoopongse E, Lesnikova M, Marg...</td>\n",
       "      <td>Blood</td>\n",
       "      <td>Immunology Research</td>\n",
       "      <td>T-cells</td>\n",
       "      <td>T-cells</td>\n",
       "      <td>Mouse</td>\n",
       "      <td>24</td>\n",
       "      <td>Cell Mitochondrial Stress Test</td>\n",
       "      <td>NaN</td>\n",
       "      <td>8.0x10^5 cells/well</td>\n",
       "      <td>Not Specified</td>\n",
       "      <td>1412121600000000000</td>\n",
       "      <td>2014</td>\n",
       "    </tr>\n",
       "    <tr>\n",
       "      <th>1</th>\n",
       "      <td>_-1-Antitrypsin (AAT)-modified donor cells sup...</td>\n",
       "      <td>Marcondes AM, Karoopongse E, Lesnikova M, Marg...</td>\n",
       "      <td>Blood</td>\n",
       "      <td>Immunology Research</td>\n",
       "      <td>Natural Killer (NK) cells</td>\n",
       "      <td>Immune Cells</td>\n",
       "      <td>Mouse</td>\n",
       "      <td>24</td>\n",
       "      <td>Cell Mitochondrial Stress Test</td>\n",
       "      <td>NaN</td>\n",
       "      <td>8.0x10^5 cells/well</td>\n",
       "      <td>Not Specified</td>\n",
       "      <td>1412121600000000000</td>\n",
       "      <td>2014</td>\n",
       "    </tr>\n",
       "    <tr>\n",
       "      <th>2</th>\n",
       "      <td>_-enolase regulates the malignant phenotype of...</td>\n",
       "      <td>J. Dai, Q. Zhou, J. Chen, M. L. Rexius-Hall, J...</td>\n",
       "      <td>Nat Commun</td>\n",
       "      <td>Cell Physiology Research</td>\n",
       "      <td>Pulmonary Artery Smooth Muscle Cells (PASMC)</td>\n",
       "      <td>Pulmonary Artery Cells</td>\n",
       "      <td>Human</td>\n",
       "      <td>24</td>\n",
       "      <td>Cell Mitochondrial Stress Test</td>\n",
       "      <td>NaN</td>\n",
       "      <td>3.0 x10^4 cells/well</td>\n",
       "      <td>Not Specified</td>\n",
       "      <td>1537488000000000000</td>\n",
       "      <td>2018</td>\n",
       "    </tr>\n",
       "    <tr>\n",
       "      <th>3</th>\n",
       "      <td>_-enolase regulates the malignant phenotype of...</td>\n",
       "      <td>J. Dai, Q. Zhou, J. Chen, M. L. Rexius-Hall, J...</td>\n",
       "      <td>Nat Commun</td>\n",
       "      <td>Cell Physiology Research</td>\n",
       "      <td>Pulmonary Artery Smooth Muscle Cells (PASMC)</td>\n",
       "      <td>Pulmonary Artery Cells</td>\n",
       "      <td>Human</td>\n",
       "      <td>24</td>\n",
       "      <td>Glycolysis Stress Test</td>\n",
       "      <td>NaN</td>\n",
       "      <td>3.0 x10^4 cells/well</td>\n",
       "      <td>Not Specified</td>\n",
       "      <td>1537488000000000000</td>\n",
       "      <td>2018</td>\n",
       "    </tr>\n",
       "    <tr>\n",
       "      <th>4</th>\n",
       "      <td>_-ketoglutarate orchestrates macrophage activa...</td>\n",
       "      <td>P. S. Liu, H. Wang, X. Li, T. Chao, T. Teav, S...</td>\n",
       "      <td>Nat Immunol</td>\n",
       "      <td>Immunology Research</td>\n",
       "      <td>Bone Marrow-Derived Macrophages (BMDM)</td>\n",
       "      <td>Immune Cells</td>\n",
       "      <td>Mouse</td>\n",
       "      <td>96</td>\n",
       "      <td>Cell Mitochondrial Stress Test</td>\n",
       "      <td>NaN</td>\n",
       "      <td>1.0 x10^5 cells/well</td>\n",
       "      <td>Not Specified</td>\n",
       "      <td>1504224000000000000</td>\n",
       "      <td>2017</td>\n",
       "    </tr>\n",
       "  </tbody>\n",
       "</table>\n",
       "</div>"
      ],
      "text/plain": [
       "                                               Title  \\\n",
       "0  _-1-Antitrypsin (AAT)-modified donor cells sup...   \n",
       "1  _-1-Antitrypsin (AAT)-modified donor cells sup...   \n",
       "2  _-enolase regulates the malignant phenotype of...   \n",
       "3  _-enolase regulates the malignant phenotype of...   \n",
       "4  _-ketoglutarate orchestrates macrophage activa...   \n",
       "\n",
       "                                             Authors      Journal  \\\n",
       "0  Marcondes AM, Karoopongse E, Lesnikova M, Marg...        Blood   \n",
       "1  Marcondes AM, Karoopongse E, Lesnikova M, Marg...        Blood   \n",
       "2  J. Dai, Q. Zhou, J. Chen, M. L. Rexius-Hall, J...   Nat Commun   \n",
       "3  J. Dai, Q. Zhou, J. Chen, M. L. Rexius-Hall, J...   Nat Commun   \n",
       "4  P. S. Liu, H. Wang, X. Li, T. Chao, T. Teav, S...  Nat Immunol   \n",
       "\n",
       "              Research area                                     Cell Line  \\\n",
       "0       Immunology Research                                       T-cells   \n",
       "1       Immunology Research                     Natural Killer (NK) cells   \n",
       "2  Cell Physiology Research  Pulmonary Artery Smooth Muscle Cells (PASMC)   \n",
       "3  Cell Physiology Research  Pulmonary Artery Smooth Muscle Cells (PASMC)   \n",
       "4       Immunology Research        Bone Marrow-Derived Macrophages (BMDM)   \n",
       "\n",
       "                Cell Type Species Analyzer                        XF Assay  \\\n",
       "0                 T-cells   Mouse       24  Cell Mitochondrial Stress Test   \n",
       "1            Immune Cells   Mouse       24  Cell Mitochondrial Stress Test   \n",
       "2  Pulmonary Artery Cells   Human       24  Cell Mitochondrial Stress Test   \n",
       "3  Pulmonary Artery Cells   Human       24          Glycolysis Stress Test   \n",
       "4            Immune Cells   Mouse       96  Cell Mitochondrial Stress Test   \n",
       "\n",
       "  Plate Reader Assay       Seeding density  Plate coating  \\\n",
       "0                NaN   8.0x10^5 cells/well  Not Specified   \n",
       "1                NaN   8.0x10^5 cells/well  Not Specified   \n",
       "2                NaN  3.0 x10^4 cells/well  Not Specified   \n",
       "3                NaN  3.0 x10^4 cells/well  Not Specified   \n",
       "4                NaN  1.0 x10^5 cells/well  Not Specified   \n",
       "\n",
       "                 Epoch Publication year  \n",
       "0  1412121600000000000             2014  \n",
       "1  1412121600000000000             2014  \n",
       "2  1537488000000000000             2018  \n",
       "3  1537488000000000000             2018  \n",
       "4  1504224000000000000             2017  "
      ]
     },
     "execution_count": 34,
     "metadata": {},
     "output_type": "execute_result"
    }
   ],
   "source": [
    "# Format of the publication date data is 'Oct 1 2014 12:00 AM', slice based on space separation\n",
    "data['Publication date'] = data['Publication date'].astype(str)\n",
    "data['Publication year'] = data['Publication date'].str.split(' ', n=4, expand = True)[2]\n",
    "data = data.drop(columns='Publication date')\n",
    "data.head()"
   ]
  },
  {
   "cell_type": "code",
   "execution_count": 35,
   "metadata": {},
   "outputs": [
    {
     "data": {
      "text/plain": [
       "2009-01-01       2\n",
       "2010-01-01      12\n",
       "2011-01-01      36\n",
       "2012-01-01     101\n",
       "2013-01-01     465\n",
       "2014-01-01    1168\n",
       "2015-01-01    1478\n",
       "2016-01-01    1255\n",
       "2017-01-01    2721\n",
       "2018-01-01    2390\n",
       "Name: Publication year, dtype: int64"
      ]
     },
     "execution_count": 35,
     "metadata": {},
     "output_type": "execute_result"
    }
   ],
   "source": [
    "# convert the 'Publication date' column to datetime format \n",
    "data['Publication year'] = pd.to_datetime(data['Publication year'], format='%Y') \n",
    "\n",
    "# Check the format of 'Date' column \n",
    "# data.info() \n",
    "data['Publication year'].value_counts().sort_index()"
   ]
  },
  {
   "cell_type": "code",
   "execution_count": 36,
   "metadata": {},
   "outputs": [
    {
     "data": {
      "text/plain": [
       "Text(0, 0.5, 'Studies Published')"
      ]
     },
     "execution_count": 36,
     "metadata": {},
     "output_type": "execute_result"
    },
    {
     "data": {
      "image/png": "[encoded data removed]",
      "text/plain": [
       "<Figure size 720x576 with 1 Axes>"
      ]
     },
     "metadata": {
      "needs_background": "light"
     },
     "output_type": "display_data"
    }
   ],
   "source": [
    "# df_sorted_by_date = data.sort_values(by=['Publication year'])\n",
    "# plot2 = df_sorted_by_date['Publication year'].value_counts().sort_index().plot(figsize=(10,8), title='Cellular Metabolism Studies Published by Year')\n",
    "plot2 = data['Publication year'].value_counts().sort_index().plot(figsize=(10,8), title='Cellular Metabolism Studies Published by Year')\n",
    "\n",
    "# Add x- and y- axes labels\n",
    "plot2.set_xlabel(\"Year Published\")\n",
    "plot2.set_ylabel(\"Studies Published\")"
   ]
  },
  {
   "cell_type": "markdown",
   "metadata": {},
   "source": [
    "As shown in the line graph, there is a significant increase in cellular metabolism studies done since 2013, demonstrating a market need for more cellular metabolism insights."
   ]
  },
  {
   "cell_type": "markdown",
   "metadata": {},
   "source": [
    "### 3. What Are the Most Investigated Cell Types?"
   ]
  },
  {
   "cell_type": "code",
   "execution_count": 37,
   "metadata": {},
   "outputs": [
    {
     "data": {
      "image/png": "[encoded data removed]",
      "text/plain": [
       "<Figure size 720x576 with 1 Axes>"
      ]
     },
     "metadata": {
      "needs_background": "light"
     },
     "output_type": "display_data"
    }
   ],
   "source": [
    "# Look at top 20 most researched cell lines\n",
    "plot3 = data['Cell Type'].value_counts()[:20].plot(kind='barh', figsize=(10,8), title='Number of Cellular Metabolism Studies Done by Cell Type')\n",
    "plot3.invert_yaxis()\n",
    "\n",
    "# set individual bar labels using above list\n",
    "for i in plot3.patches:\n",
    "    # get_width pulls left or right; get_y pushes up or down\n",
    "    plot3.text(i.get_width()+5.0, i.get_y()+.38, str(i.get_width()))"
   ]
  },
  {
   "cell_type": "code",
   "execution_count": 38,
   "metadata": {},
   "outputs": [],
   "source": [
    "# # data['Cell Type'] = data['Cell Type'].astype(str)\n",
    "# # data['Cell Type'] = data['Cell Type'].str.split(' ')\n",
    "\n",
    "# # # Convert a column of lists to a column of strings\n",
    "# # # Reference: https://stackoverflow.com/questions/45306988/column-of-lists-convert-list-to-string-as-a-new-column\n",
    "# # data['Cell Type'] = data['Cell Type'].apply(lambda x: ' '.join(map(str, x)))\n",
    "# data['Cell Type'] = data['Cell Type'].str.lower()\n",
    "\n",
    "# # # Ignore ',cells' from wordcloud\n",
    "# data['Cell Type'] = data['Cell Type'].str.replace(' cells' , '')\n",
    "# text = data['Cell Type'].str.cat(sep=' ')\n",
    "\n",
    "# # Generate word cloud for most researched cell types\n",
    "# wordcloud = WordCloud(\n",
    "#     width = 3000,\n",
    "#     height = 2000,\n",
    "#     background_color = 'black',\n",
    "#     stopwords = STOPWORDS).generate(text)\n",
    "# fig = plt.figure(\n",
    "#     figsize = (30, 20),\n",
    "#     facecolor = 'k',\n",
    "#     edgecolor = 'k')\n",
    "# plt.imshow(wordcloud, interpolation = 'bilinear')\n",
    "# plt.axis('off')\n",
    "# plt.tight_layout(pad=0)\n",
    "# plt.show()"
   ]
  },
  {
   "cell_type": "markdown",
   "metadata": {},
   "source": [
    "Future effort should include looking at how to generate a phrases cloud rather than a word cloud since phrases cloud would be more meaningful."
   ]
  },
  {
   "cell_type": "markdown",
   "metadata": {},
   "source": [
    "### 4. Metabolic assays (Work in Progress)"
   ]
  },
  {
   "cell_type": "markdown",
   "metadata": {},
   "source": [
    "Here we look at which of our competitor's metabolic assays are the most popular"
   ]
  },
  {
   "cell_type": "code",
   "execution_count": 39,
   "metadata": {},
   "outputs": [
    {
     "data": {
      "image/png": "[encoded data removed]",
      "text/plain": [
       "<Figure size 720x576 with 1 Axes>"
      ]
     },
     "metadata": {
      "needs_background": "light"
     },
     "output_type": "display_data"
    }
   ],
   "source": [
    "plot4 = data['XF Assay'].value_counts().plot(kind='barh', figsize=(10,8), title='Number of Assays Used in Cellular Metabolism Studies')\n",
    "plot4.invert_yaxis()\n",
    "\n",
    "# # create a list to collect the plt.patches data\n",
    "# totals4 = []\n",
    "\n",
    "# # find the values and append to list\n",
    "# for i in plot1.patches:\n",
    "#     totals4.append(i.get_width())\n",
    "\n",
    "# # set individual bar lables using above list\n",
    "# total4 = sum(totals4)\n",
    "\n",
    "# set individual bar lables using above list\n",
    "for i in plot4.patches:\n",
    "    # get_width pulls left or right; get_y pushes up or down\n",
    "    plot4.text(i.get_width()+10.0, i.get_y()+.38, str(i.get_width()))"
   ]
  },
  {
   "cell_type": "markdown",
   "metadata": {},
   "source": [
    "**Cell Mitochondrial Stress Test**: measures basal respiration, ATP-linked respiration, H+ (Proton) leak, maximal respiration, spare respiratory capacity, and non-mitochondrial respiration using modulators of cellular respiration.\n",
    "\n",
    "**Glycolysis Stress Test**: measures basal glycolysis and glycolysis capacity upon blockage of mitochondrial ATP production using respiratory modulators. Non-glycolytic acidification is assessed through glucose starvation.\n",
    "\n",
    "**Substrate Utilization**\n",
    "\n",
    "**Basal Metabolic Assay**\n",
    "\n",
    "**Fatty Acid Oxidation**\n",
    "\n",
    "**Mitochondrial Respiratory Complex Assay**\n",
    "\n",
    "**Glucose Utilization**\n",
    "\n",
    "**Switch Assay**\n",
    "\n",
    "**Mito Fuel Flex Test**\n",
    "\n",
    "**Cell Energy Phenotype Test**\n",
    "\n",
    "**Real-Time Activation**\n",
    "\n",
    "**Glutaminolysis**\n",
    "\n",
    "**Glycolytic Rate Assay**\n",
    "\n",
    "**MitoXpress Xtra Oxygen Consumption Assay**"
   ]
  },
  {
   "cell_type": "markdown",
   "metadata": {},
   "source": [
    "### 5. Analyzer (Work in Progress)"
   ]
  },
  {
   "cell_type": "code",
   "execution_count": 40,
   "metadata": {},
   "outputs": [
    {
     "data": {
      "text/plain": [
       "24                        4774\n",
       "96                        3547\n",
       "Xfp                        389\n",
       "Plate Reader               319\n",
       "Not Specified              318\n",
       "24-Mar                     164\n",
       "N/A (Review)                80\n",
       "Plate Reader 384            21\n",
       "All Microplate Readers       3\n",
       "Name: Analyzer, dtype: int64"
      ]
     },
     "execution_count": 40,
     "metadata": {},
     "output_type": "execute_result"
    }
   ],
   "source": [
    "df.Analyzer.value_counts()"
   ]
  },
  {
   "cell_type": "code",
   "execution_count": 41,
   "metadata": {},
   "outputs": [
    {
     "data": {
      "image/png": "[encoded data removed]",
      "text/plain": [
       "<Figure size 576x576 with 1 Axes>"
      ]
     },
     "metadata": {},
     "output_type": "display_data"
    }
   ],
   "source": [
    "# Xfp assays are done on 8-well plate, replace to reflect the info\n",
    "df.Analyzer.replace('Xfp', '8-well', inplace=True)\n",
    "df.Analyzer.replace('24', '24-well', inplace=True)\n",
    "df.Analyzer.replace('96', '96-well', inplace=True)\n",
    "\n",
    "# Pie chart\n",
    "plates = df.Analyzer.value_counts()[:3]\n",
    "plate_type = plates.index.tolist()\n",
    "plate_utilization = plates.values.tolist()\n",
    "\n",
    "fig = plt.figure(figsize=[8, 8])\n",
    "ax = fig.add_subplot(111)\n",
    "\n",
    "colors = ['#5DA5DA','#FAA43A','#F15854']\n",
    "\n",
    "pie_wedge_collection = ax.pie(plate_utilization, colors=colors, labels=plate_type, autopct='%.1f%%', labeldistance=1.05);\n",
    "\n",
    "for pie_wedge in pie_wedge_collection[0]:\n",
    "    pie_wedge.set_edgecolor('white')\n",
    "\n",
    "ax.set_title(\"Percentage of Multiple-well Plate Used in Published Cellular Metabolism Studies\");"
   ]
  },
  {
   "cell_type": "code",
   "execution_count": null,
   "metadata": {},
   "outputs": [],
   "source": []
  }
 ],
 "metadata": {
  "kernelspec": {
   "display_name": "Python 3",
   "language": "python",
   "name": "python3"
  },
  "language_info": {
   "codemirror_mode": {
    "name": "ipython",
    "version": 3
   },
   "file_extension": ".py",
   "mimetype": "text/x-python",
   "name": "python",
   "nbconvert_exporter": "python",
   "pygments_lexer": "ipython3",
   "version": "3.7.3"
  }
 },
 "nbformat": 4,
 "nbformat_minor": 2
}
