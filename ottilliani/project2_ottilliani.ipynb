{
 "cells": [
  {
   "cell_type": "markdown",
   "metadata": {},
   "source": [
    "# The analysis of the equality of rights between gender using the Human Freedom Index"
   ]
  },
  {
   "cell_type": "markdown",
   "metadata": {},
   "source": [
    "### author: Ottillia Ni\n",
    "### Project Report 2 (EM212: Applied Data Science)"
   ]
  },
  {
   "cell_type": "markdown",
   "metadata": {},
   "source": [
    "#### Content:\n",
    "Introduction\n",
    "<br>\n",
    "Datasheet\n",
    "<br>\n",
    "Exploratory Data Anaylsis\n",
    "<br>"
   ]
  },
  {
   "cell_type": "markdown",
   "metadata": {},
   "source": [
    "## Introduction"
   ]
  },
  {
   "cell_type": "markdown",
   "metadata": {},
   "source": [
    "Throughout the world, people strive for freedom. Freedom is a means of human progression and growth within the self and amongst society.  But how can someone measure a person’s freedom? According to the Cato Institute, the Human Freedom Index is a global measurement of human freedom based on personal, economic, and civil freedom.  Since 2008, the Human Freedom Index has collected enough data to rank countries and their levels of freedom based upon various qualities on a scale of 0 to 10, with 10 being the greatest amount of freedom.  There are 79 distinct indicators of personal and economic freedom, which are found in the areas of the Rule of Law, Security and Safety, Movement, Religion, Association, Assembly, and Civil Society, Expression and Information, Identity and Relationships, Size and Government, Legal System and Property Rights, Access to Sound Money, Freedom to Trade Internationally, and Regulation of Credit Labor, and Business.\n",
    "\n",
    "The indicators within this dataset were evaluated by credible external sources, not by the creator of the index, to ensure objectivity.   The intended use of the index is to fill in the gaps in literature and to look at how a range of different freedoms can be interconnected, such as economic freedom and personal freedom.  When scoring the index, economic freedom takes up half the weight of the score while all other Personal freedoms complete the rest of the scored weight. Economic freedom takes half the weight because it has a central importance and affects all other freedoms.  This data set has been used by researchers for a variety of reasons.  Countries have developed news reports to discuss improvements in levels of freedom.  Within the Personal and Economic Freedom, the data provides subcategories to listed areas.  It has also been used to target and analyze more specific structures within the index such as women’s personal freedom. \n",
    "\n",
    "Given that this data set has a variety of subcomponents, for this project, I will focus on the data of identity and relationships, specifically same-sex relationships.  I will be observing the different levels of tolerance amongst the listed countries.  This would incorporate further research to observe and understand what social events might have caused a significant shift in the score of same-sex relationships.  Doing a quick skim through the data, I noticed that the scores are either 0 or 10, with a few 5 scattered in between.  My initial reaction to this is the indication of legality of same sex relations in these countries. Given that data has been collected over the past decade, I will be using this information to potentially determine how a specific country’s score has fluctuated or stayed the same over the years.  \n",
    "\n",
    "The questions I will be asking through the use of this dataset are: what common trends do the countries with accepting of same-sex relationship have in common? How do these top countries rank of same-sex relationships compare to the other subcategories of identity and relationships?  Are there any standout differences? An initial data issue I might uncover as I compare a country’s rank over the progression of the past decade is missing data.  This potential issue might arise as the Human Freedom Index incorporates new countries with each given year.  The analysis of this data can be utilized by companies advocating for global freedom such as Amnesty International, Human Rights Action Center, UNESCO (United Nations Educational, Scientific, and Cultural Organization), and other human rights organizations.   Ideally, this data analysis would be funded on a donation basis as many of the organizations that would best benefit from this information are non-profits.  \n",
    "\n",
    "---\n",
    "\n",
    "In this analysis, I am looking to compare gender equality between men and women around the world using the data from the Human Freedom Index.  Given that this index has a variety of variables, I will looking at personal freedom variables.  I will be using the variable topic of identity and relationships to better understand the level of female equality around the world as compared to males. \n",
    "\n"
   ]
  },
  {
   "cell_type": "markdown",
   "metadata": {},
   "source": [
    "## Datasheet"
   ]
  },
  {
   "cell_type": "markdown",
   "metadata": {},
   "source": [
    "#### Motivation for Dataset Creation \n",
    "Why was the dataset created? (e.g., were there specific tasks in mind, or a specific gap that needed to be filled?) \n",
    "The Human Freedom Index is a global measurement of human freedom based on personal, economic, and civil freedom that can more objectively regulate these freedom relationships.  Since 2008, the Human Freedom Index has collected enough data to rank countries and their levels of freedom based upon various qualities on a scale of 0 to 10, with 10 being the greatest amount of freedom. According to Fred McMahon of the Fraser Institute, the dataset “provides crucial and objective information on the state and evolution of freedom globally.” \n",
    "\n",
    "What (other) tasks could the dataset be used for? Are there obvious tasks for which it should not be used? \n",
    "As the years progress and with each report, analysts can also use this data to compare how global freedom has changed over the years.\n",
    "\n",
    "Has the dataset been used for any tasks already? If so, where are the results so others can compare (e.g., links to published papers)? \n",
    "Those who compiled the dataset writes a report each year to accompany their data and findings. The central purpose of the report is to show a broad, yet accurate freedom of the overall world and have the larger purpose be for defining what they mean by freedom and to understand the relationships between the different existing forms.  The link to the 2018 report can be found here: https://object.cato.org/sites/cato.org/files/human-freedom-index-files/human-freedom-index-2018-revised.pdf.\n",
    "\n",
    "Who funded the creation of the dataset? If there is an associated grant, provide the grant number.  \n",
    "This dataset was developed by the Cato Institute and was funded and sponsored by the Lotte & John Hecht Memorial Foundation, Liberty Fund, Liberales Institut, Fraser Institute, and Cato Institute. \n",
    "\n",
    "#### Dataset Composition \n",
    "What are the instances? (that is, examples; e.g., documents, images, people, countries) Are there multiple types of instances? (e.g., movies, users, ratings; people, interactions between them; nodes, edges) \n",
    "The instances are countries willing to report their level of freedom and contribute to the Human Freedom Index.\n",
    "  \n",
    "Are relationships between instances made explicit in the data (e.g., social network links, user/movie ratings, etc.)? \n",
    "I’m not certain, but I believe the instances are determined various forms of freedom this data is expressing.\n",
    "\n",
    "How many instances of each type are there? \n",
    "The instances consist of 162 countries with varying repetition as the data incorporates all its results starting 2008. \n",
    "\n",
    "What data does each instance consist of? “Raw” data (e.g., unprocessed text or images)? Features/attributes? Is there a label/target associated with instances? If the instances are related to people, are subpopulations identified (e.g., by age, gender, etc.) and what is their distribution? \n",
    "The data consists of 79 distinct indicators of personal and economic freedom, which are found in the areas of the Rule of Law, Security and Safety, Movement, Religion, Association, Assembly, and Civil Society, Expression and Information, Identity and Relationships, Size and Government, Legal System and Property Rights, Access to Sound Money, Freedom to Trade Internationally, and Regulation of Credit Labor, and Business.   \n",
    "\n",
    "Is everything included or does the data rely on external resources? (e.g., websites, tweets, datasets) If external resources, a) are there guarantees that they will exist, and remain constant, over time; b) is there an official archival version. Are there licenses, fees or rights associated with any of the data?\n",
    "Given that the scoring of the freedom is based on other global indices, such as the Rule of Law Index and Social Institutions and Gender index, it is likely that these external sources will remain constant over time as many are forms of public government-based data.\n",
    " \n",
    "Are there recommended data splits or evaluation measures? (e.g., training, development, testing; accuracy/AUC) \n",
    "To compare the specific instances, it is recommended to compare with at least one same variable, such as year or type of freedom.\n",
    "\n",
    "What experiments were initially run on this dataset? \n",
    "Have a summary of those results and, if available, provide the link to a paper with more information here. \n",
    "The report has developed country profiles given the findings of the different specific factors of freedom.\n",
    "\n",
    "#### Data Collection Process \n",
    "How was the data collected? (e.g., hardware apparatus/sensor, manual human curation, software program, software interface/API; how were these constructs/measures/methods validated?) \n",
    "The Human Freedom Index is based upon sub-indexes, compiled and determined by government reporting. \n",
    "\n",
    "Who was involved in the data collection process? (e.g., students, crowd workers) How were they compensated? (e.g., how much were crowd workers paid?) \n",
    "This data set is a collection of government and university-based indexes.\n",
    "\n",
    "Over what time-frame was the data collected? Does the collection time-frame match the creation time-frame? \n",
    "The data is collected on an annual basis. \n",
    "\n",
    "How was the data associated with each instance acquired? Was the data directly observable (e.g., raw text, movie ratings), reported by subjects (e.g., survey responses), or indirectly inferred/derived from other data (e.g., part of speech tags; model-based guesses for age or language)? If the latter two, were they validated/verified and if so how? \n",
    "The data is derived from other data, more specifically specific based on various subfactors from the collection of government and university-based indexes.\n",
    "\n",
    "Does the dataset contain all possible instances? Or is it, for instance, a sample (not necessarily random) from a larger set of instances? \n",
    "The dataset contains all possible instances.\n",
    "\n",
    "If the dataset is a sample, then what is the population? \n",
    "What was the sampling strategy (e.g., deterministic, probabilistic with specific sampling probabilities)? Is the sample representative of the larger set (e.g., geographic coverage)? If not, why not (e.g., to cover a more diverse range of in- stances)? How does this affect possible uses? \n",
    "The dataset I am using is not a sample.\n",
    "\n",
    "Is there information missing from the dataset and why? \n",
    "(this does not include intentionally dropped instances; it might include, e.g., redacted text, withheld documents) Is this data missing because it was unavailable? \n",
    "Yes, some countries have missing scores given that the Human Freedom Index incorporates new countries with each given year or that specific distinct indicators might not have data recorded for that year\n",
    "\n",
    "Are there any known errors, sources of noise, or redundancies in the data? \n",
    "UNKNOWN\n",
    "\n",
    "#### Data Preprocessing \n",
    "What preprocessing/cleaning was done? (e.g., discretization or bucketing, tokenization, part-of-speech tagging, SIFT feature extraction, removal of instances, processing of missing values, etc.) \n",
    "It appears likely.\n",
    "\n",
    "Was the “raw” data saved in addition to the preprocessed/cleaned data? (e.g., to support unanticipated future uses) \n",
    "UNKNOWN\n",
    "\n",
    "Is the preprocessing software available? \n",
    "UNKNOWN \n",
    "\n",
    "Does this dataset collection/processing procedure achieve the motivation for creating the dataset stated in the first section of this datasheet? \n",
    "UNKNOWN\n",
    "\n",
    "#### Dataset Distribution \n",
    "How is the dataset distributed? (e.g., website, API, etc.; does the data have a DOI; is it archived redundantly?) \n",
    "The data can be downloaded from https://www.kaggle.com/gsutters/the-human-freedom-index or https://object.cato.org/sites/cato.org/files/human-freedom-index-files/hfi2018web-revised3.xlsx.\n",
    "\n",
    "When will the dataset be released/first distributed? (Is there a canonical paper/reference for this dataset?) \n",
    "The dataset was first released in 2008.\n",
    "\n",
    "What license (if any) is it distributed under? Are there any copyrights on the data? \n",
    "The Human Freedom Index Report is copyrighted by the Cato Institute, Fraser Institute, and the Friedrich Naumann Foundation for Freedom.  There is no clear indication of copyright to the data as it a collection of information from other index as well.\n",
    "\n",
    "Are there any fees or access/export restrictions? \n",
    "No. \n",
    "\n",
    "#### Dataset Maintenance\n",
    "Who is supporting/hosting/maintaining the dataset? \n",
    "How does one contact the owner/curator/manager of the dataset (e.g. email address, or other contact info)? \n",
    "The data is maintained by Ian Vásquez and Tanja Porcnik, the Cato Institute, Fraser Institute, and the Friedrich Naumann Foundation for Freedom.\n",
    "\n",
    "Will the dataset be updated? How often and by whom? How will updates/revisions be documented and communicated (e.g., mailing list, GitHub)? Is there an erratum? \n",
    "This dataset is updated annual.\n",
    "\n",
    "If the dataset becomes obsolete how will this be communicated? \n",
    "The Cato Institute would probably report on their webpage the discontinuation of this dataset. \n",
    "\n",
    "Is there a repository to link to any/all papers/systems that use this dataset? \n",
    "If others want to extend/augment/build on this dataset, is there a mechanism for them to do so? If so, is there a process for tracking/assessing the quality of those contributions. What is the process for communicating/distributing these contributions to users? \n",
    "If others wanted to extend or build on this dataset, they should contact the Cato Institute, but more specifically the authors Ian Vásquez and Tanja Porcnik.\n",
    "\n",
    "\n",
    "#### Legal and Ethical Considerations\n",
    "If the dataset relates to people (e.g., their attributes) or was generated by people, were they informed about the data collection? (e.g., datasets that collect writing, photos, interactions, transactions, etc.) \n",
    "There is uncertainty given that dataset is based upon a collection of people not all might have known their data was being collected\n",
    "\n",
    "If it relates to other ethically protected subjects, have appropriate obligations been met? (e.g., medical data might include information collected from animals) \n",
    "UNKNOWN\n",
    "\n",
    "If it relates to people, were there any ethical review applications/reviews/approvals? (e.g. Institutional Review Board applications) \n",
    "UNKNOWN\n",
    "\n",
    "If it relates to people, were they told what the dataset would be used for and did they consent? What community norms exist for data collected from human communications? If consent was obtained, how? Were the people provided with any mechanism to revoke their consent in the future or for certain uses? \n",
    "UNKNOWN\n",
    "\n",
    "If it relates to people, could this dataset expose people to harm or legal action? (e.g., financial social or otherwise) What was done to mitigate or reduce the potential for harm? \n",
    "Unlikely, since this data was a government-based collection.\n",
    "\n",
    "If it relates to people, does it unfairly advantage or disadvantage a particular social group? In what ways? How was this mitigated? \n",
    "No.\n",
    "\n",
    "If it relates to people, were they provided with privacy guarantees? If so, what guarantees and how are these ensured? \n",
    "Since this was based on reports, it is highly likely they were provided with privacy guarantees.\n",
    "\n",
    "Does the dataset comply with the EU General Data Protection Regulation (GDPR)? Does it comply with any other standards, such as the US Equal Employment Opportunity Act? \n",
    "Yes.\n",
    "\n",
    "Does the dataset contain information that might be considered sensitive or confidential? (e.g., personally identifying information) \n",
    "No, since the data is a collection of already published data and a study of a collective group of people.\n",
    "\n",
    "Does the dataset contain information that might be considered inappropriate or offensive? \n",
    "If used or interpreted incorrectly, analyst could potentially make inappropriate or offensive accusations of freedom within a specific country.\n"
   ]
  },
  {
   "cell_type": "markdown",
   "metadata": {},
   "source": [
    "## Exploratory Data Anaylsis\n"
   ]
  },
  {
   "cell_type": "code",
   "execution_count": 103,
   "metadata": {},
   "outputs": [],
   "source": [
    "import matplotlib.pyplot as plt\n",
    "import pandas as pd\n",
    "import numpy as np\n",
    "import seaborn as sns\n",
    "import pdb\n",
    "import matplotlib.pyplot as plt"
   ]
  },
  {
   "cell_type": "markdown",
   "metadata": {},
   "source": [
    "### Importing Dataset\n",
    "\n",
    "To begin, I will be using python to analyize my data. (This data of the Human Freedom Index is downloaded off Kaggle.)"
   ]
  },
  {
   "cell_type": "code",
   "execution_count": 104,
   "metadata": {},
   "outputs": [
    {
     "data": {
      "text/html": [
       "<div>\n",
       "<style scoped>\n",
       "    .dataframe tbody tr th:only-of-type {\n",
       "        vertical-align: middle;\n",
       "    }\n",
       "\n",
       "    .dataframe tbody tr th {\n",
       "        vertical-align: top;\n",
       "    }\n",
       "\n",
       "    .dataframe thead th {\n",
       "        text-align: right;\n",
       "    }\n",
       "</style>\n",
       "<table border=\"1\" class=\"dataframe\">\n",
       "  <thead>\n",
       "    <tr style=\"text-align: right;\">\n",
       "      <th></th>\n",
       "      <th>year</th>\n",
       "      <th>ISO_code</th>\n",
       "      <th>countries</th>\n",
       "      <th>region</th>\n",
       "      <th>pf_rol_procedural</th>\n",
       "      <th>pf_rol_civil</th>\n",
       "      <th>pf_rol_criminal</th>\n",
       "      <th>pf_rol</th>\n",
       "      <th>pf_ss_homicide</th>\n",
       "      <th>pf_ss_disappearances_disap</th>\n",
       "      <th>...</th>\n",
       "      <th>ef_regulation_business_bribes</th>\n",
       "      <th>ef_regulation_business_licensing</th>\n",
       "      <th>ef_regulation_business_compliance</th>\n",
       "      <th>ef_regulation_business</th>\n",
       "      <th>ef_regulation</th>\n",
       "      <th>ef_score</th>\n",
       "      <th>ef_rank</th>\n",
       "      <th>hf_score</th>\n",
       "      <th>hf_rank</th>\n",
       "      <th>hf_quartile</th>\n",
       "    </tr>\n",
       "  </thead>\n",
       "  <tbody>\n",
       "    <tr>\n",
       "      <th>0</th>\n",
       "      <td>2016</td>\n",
       "      <td>ALB</td>\n",
       "      <td>Albania</td>\n",
       "      <td>Eastern Europe</td>\n",
       "      <td>6.661503</td>\n",
       "      <td>4.547244</td>\n",
       "      <td>4.666508</td>\n",
       "      <td>5.291752</td>\n",
       "      <td>8.920429</td>\n",
       "      <td>10.0</td>\n",
       "      <td>...</td>\n",
       "      <td>4.050196</td>\n",
       "      <td>7.324582</td>\n",
       "      <td>7.074366</td>\n",
       "      <td>6.705863</td>\n",
       "      <td>6.906901</td>\n",
       "      <td>7.54</td>\n",
       "      <td>34.0</td>\n",
       "      <td>7.568140</td>\n",
       "      <td>48.0</td>\n",
       "      <td>2.0</td>\n",
       "    </tr>\n",
       "    <tr>\n",
       "      <th>1</th>\n",
       "      <td>2016</td>\n",
       "      <td>DZA</td>\n",
       "      <td>Algeria</td>\n",
       "      <td>Middle East &amp; North Africa</td>\n",
       "      <td>NaN</td>\n",
       "      <td>NaN</td>\n",
       "      <td>NaN</td>\n",
       "      <td>3.819566</td>\n",
       "      <td>9.456254</td>\n",
       "      <td>10.0</td>\n",
       "      <td>...</td>\n",
       "      <td>3.765515</td>\n",
       "      <td>8.523503</td>\n",
       "      <td>7.029528</td>\n",
       "      <td>5.676956</td>\n",
       "      <td>5.268992</td>\n",
       "      <td>4.99</td>\n",
       "      <td>159.0</td>\n",
       "      <td>5.135886</td>\n",
       "      <td>155.0</td>\n",
       "      <td>4.0</td>\n",
       "    </tr>\n",
       "    <tr>\n",
       "      <th>2</th>\n",
       "      <td>2016</td>\n",
       "      <td>AGO</td>\n",
       "      <td>Angola</td>\n",
       "      <td>Sub-Saharan Africa</td>\n",
       "      <td>NaN</td>\n",
       "      <td>NaN</td>\n",
       "      <td>NaN</td>\n",
       "      <td>3.451814</td>\n",
       "      <td>8.060260</td>\n",
       "      <td>5.0</td>\n",
       "      <td>...</td>\n",
       "      <td>1.945540</td>\n",
       "      <td>8.096776</td>\n",
       "      <td>6.782923</td>\n",
       "      <td>4.930271</td>\n",
       "      <td>5.518500</td>\n",
       "      <td>5.17</td>\n",
       "      <td>155.0</td>\n",
       "      <td>5.640662</td>\n",
       "      <td>142.0</td>\n",
       "      <td>4.0</td>\n",
       "    </tr>\n",
       "    <tr>\n",
       "      <th>3</th>\n",
       "      <td>2016</td>\n",
       "      <td>ARG</td>\n",
       "      <td>Argentina</td>\n",
       "      <td>Latin America &amp; the Caribbean</td>\n",
       "      <td>7.098483</td>\n",
       "      <td>5.791960</td>\n",
       "      <td>4.343930</td>\n",
       "      <td>5.744791</td>\n",
       "      <td>7.622974</td>\n",
       "      <td>10.0</td>\n",
       "      <td>...</td>\n",
       "      <td>3.260044</td>\n",
       "      <td>5.253411</td>\n",
       "      <td>6.508295</td>\n",
       "      <td>5.535831</td>\n",
       "      <td>5.369019</td>\n",
       "      <td>4.84</td>\n",
       "      <td>160.0</td>\n",
       "      <td>6.469848</td>\n",
       "      <td>107.0</td>\n",
       "      <td>3.0</td>\n",
       "    </tr>\n",
       "    <tr>\n",
       "      <th>4</th>\n",
       "      <td>2016</td>\n",
       "      <td>ARM</td>\n",
       "      <td>Armenia</td>\n",
       "      <td>Caucasus &amp; Central Asia</td>\n",
       "      <td>NaN</td>\n",
       "      <td>NaN</td>\n",
       "      <td>NaN</td>\n",
       "      <td>5.003205</td>\n",
       "      <td>8.808750</td>\n",
       "      <td>10.0</td>\n",
       "      <td>...</td>\n",
       "      <td>4.575152</td>\n",
       "      <td>9.319612</td>\n",
       "      <td>6.491481</td>\n",
       "      <td>6.797530</td>\n",
       "      <td>7.378069</td>\n",
       "      <td>7.57</td>\n",
       "      <td>29.0</td>\n",
       "      <td>7.241402</td>\n",
       "      <td>57.0</td>\n",
       "      <td>2.0</td>\n",
       "    </tr>\n",
       "  </tbody>\n",
       "</table>\n",
       "<p>5 rows × 123 columns</p>\n",
       "</div>"
      ],
      "text/plain": [
       "   year ISO_code  countries                         region  pf_rol_procedural  \\\n",
       "0  2016      ALB    Albania                 Eastern Europe           6.661503   \n",
       "1  2016      DZA    Algeria     Middle East & North Africa                NaN   \n",
       "2  2016      AGO     Angola             Sub-Saharan Africa                NaN   \n",
       "3  2016      ARG  Argentina  Latin America & the Caribbean           7.098483   \n",
       "4  2016      ARM    Armenia        Caucasus & Central Asia                NaN   \n",
       "\n",
       "   pf_rol_civil  pf_rol_criminal    pf_rol  pf_ss_homicide  \\\n",
       "0      4.547244         4.666508  5.291752        8.920429   \n",
       "1           NaN              NaN  3.819566        9.456254   \n",
       "2           NaN              NaN  3.451814        8.060260   \n",
       "3      5.791960         4.343930  5.744791        7.622974   \n",
       "4           NaN              NaN  5.003205        8.808750   \n",
       "\n",
       "   pf_ss_disappearances_disap     ...       ef_regulation_business_bribes  \\\n",
       "0                        10.0     ...                            4.050196   \n",
       "1                        10.0     ...                            3.765515   \n",
       "2                         5.0     ...                            1.945540   \n",
       "3                        10.0     ...                            3.260044   \n",
       "4                        10.0     ...                            4.575152   \n",
       "\n",
       "   ef_regulation_business_licensing  ef_regulation_business_compliance  \\\n",
       "0                          7.324582                           7.074366   \n",
       "1                          8.523503                           7.029528   \n",
       "2                          8.096776                           6.782923   \n",
       "3                          5.253411                           6.508295   \n",
       "4                          9.319612                           6.491481   \n",
       "\n",
       "   ef_regulation_business  ef_regulation  ef_score  ef_rank  hf_score  \\\n",
       "0                6.705863       6.906901      7.54     34.0  7.568140   \n",
       "1                5.676956       5.268992      4.99    159.0  5.135886   \n",
       "2                4.930271       5.518500      5.17    155.0  5.640662   \n",
       "3                5.535831       5.369019      4.84    160.0  6.469848   \n",
       "4                6.797530       7.378069      7.57     29.0  7.241402   \n",
       "\n",
       "   hf_rank  hf_quartile  \n",
       "0     48.0          2.0  \n",
       "1    155.0          4.0  \n",
       "2    142.0          4.0  \n",
       "3    107.0          3.0  \n",
       "4     57.0          2.0  \n",
       "\n",
       "[5 rows x 123 columns]"
      ]
     },
     "execution_count": 104,
     "metadata": {},
     "output_type": "execute_result"
    }
   ],
   "source": [
    "# read Human Freedom Index data\n",
    "hfi = pd.read_csv('https://tufts.box.com/shared/static/7iwsgxhffhfs87v209scqihq57pnmev0.csv')\n",
    "hfi.head()"
   ]
  },
  {
   "cell_type": "markdown",
   "metadata": {},
   "source": [
    "###  Cleaning Data"
   ]
  },
  {
   "cell_type": "markdown",
   "metadata": {},
   "source": [
    "Given that I am focusing specifically on the equality between female and male, I want to clean my data so that the variables printed give me the information relavent to my work. In addition, to make understanding the data easier, I will also rename various columns to be more comprehensive of what each variable actually means."
   ]
  },
  {
   "cell_type": "code",
   "execution_count": 105,
   "metadata": {},
   "outputs": [],
   "source": [
    "select_cols = [\"year\",\"countries\",\"region\",\"pf_ss_women\",\"pf_ss_women_fgm\", \"pf_ss_women_missing\",\"pf_ss_women_inheritance\",\"pf_ss_women_inheritance_widows\",\"pf_ss_women_inheritance_daughters\",\"pf_movement_women\",\"pf_identity_legal\",\"pf_identity_parental\",\"pf_identity_parental_marriage\",\"pf_identity_parental_divorce\",\"pf_identity_sex\",\"pf_identity_sex_male\",\"pf_identity_sex_female\",\"pf_identity_divorce\"]\n",
    "hfi_select = hfi[select_cols]\n",
    "#hfi_select.head()"
   ]
  },
  {
   "cell_type": "code",
   "execution_count": 106,
   "metadata": {},
   "outputs": [
    {
     "data": {
      "text/html": [
       "<div>\n",
       "<style scoped>\n",
       "    .dataframe tbody tr th:only-of-type {\n",
       "        vertical-align: middle;\n",
       "    }\n",
       "\n",
       "    .dataframe tbody tr th {\n",
       "        vertical-align: top;\n",
       "    }\n",
       "\n",
       "    .dataframe thead th {\n",
       "        text-align: right;\n",
       "    }\n",
       "</style>\n",
       "<table border=\"1\" class=\"dataframe\">\n",
       "  <thead>\n",
       "    <tr style=\"text-align: right;\">\n",
       "      <th></th>\n",
       "      <th>year</th>\n",
       "      <th>countries</th>\n",
       "      <th>region</th>\n",
       "      <th>Women_Safety_Security</th>\n",
       "      <th>Female_Genital_Mutilation</th>\n",
       "      <th>Missing_Women</th>\n",
       "      <th>Inheritance_Rights</th>\n",
       "      <th>Inheritance_Rights_Widows</th>\n",
       "      <th>Inheritance_Rights_Daughters</th>\n",
       "      <th>Womens_Movement</th>\n",
       "      <th>Legal_Gender</th>\n",
       "      <th>Parental_rights</th>\n",
       "      <th>Parental_rights_marriage</th>\n",
       "      <th>Parental_rights_after_divorce</th>\n",
       "      <th>Same_sex-relationship</th>\n",
       "      <th>Same_sex_males</th>\n",
       "      <th>Same_sex_female</th>\n",
       "      <th>Divorce</th>\n",
       "    </tr>\n",
       "  </thead>\n",
       "  <tbody>\n",
       "    <tr>\n",
       "      <th>0</th>\n",
       "      <td>2016</td>\n",
       "      <td>Albania</td>\n",
       "      <td>Eastern Europe</td>\n",
       "      <td>7.500000</td>\n",
       "      <td>10.0</td>\n",
       "      <td>7.5</td>\n",
       "      <td>5.0</td>\n",
       "      <td>5.0</td>\n",
       "      <td>5.0</td>\n",
       "      <td>5.0</td>\n",
       "      <td>0.0</td>\n",
       "      <td>10.0</td>\n",
       "      <td>10.0</td>\n",
       "      <td>10.0</td>\n",
       "      <td>10.0</td>\n",
       "      <td>10.0</td>\n",
       "      <td>10.0</td>\n",
       "      <td>5.0</td>\n",
       "    </tr>\n",
       "    <tr>\n",
       "      <th>1</th>\n",
       "      <td>2016</td>\n",
       "      <td>Algeria</td>\n",
       "      <td>Middle East &amp; North Africa</td>\n",
       "      <td>5.833333</td>\n",
       "      <td>10.0</td>\n",
       "      <td>7.5</td>\n",
       "      <td>0.0</td>\n",
       "      <td>0.0</td>\n",
       "      <td>0.0</td>\n",
       "      <td>5.0</td>\n",
       "      <td>NaN</td>\n",
       "      <td>2.5</td>\n",
       "      <td>0.0</td>\n",
       "      <td>5.0</td>\n",
       "      <td>0.0</td>\n",
       "      <td>0.0</td>\n",
       "      <td>0.0</td>\n",
       "      <td>0.0</td>\n",
       "    </tr>\n",
       "    <tr>\n",
       "      <th>2</th>\n",
       "      <td>2016</td>\n",
       "      <td>Angola</td>\n",
       "      <td>Sub-Saharan Africa</td>\n",
       "      <td>8.333333</td>\n",
       "      <td>10.0</td>\n",
       "      <td>10.0</td>\n",
       "      <td>5.0</td>\n",
       "      <td>5.0</td>\n",
       "      <td>5.0</td>\n",
       "      <td>10.0</td>\n",
       "      <td>10.0</td>\n",
       "      <td>10.0</td>\n",
       "      <td>10.0</td>\n",
       "      <td>10.0</td>\n",
       "      <td>0.0</td>\n",
       "      <td>0.0</td>\n",
       "      <td>0.0</td>\n",
       "      <td>10.0</td>\n",
       "    </tr>\n",
       "    <tr>\n",
       "      <th>3</th>\n",
       "      <td>2016</td>\n",
       "      <td>Argentina</td>\n",
       "      <td>Latin America &amp; the Caribbean</td>\n",
       "      <td>10.000000</td>\n",
       "      <td>10.0</td>\n",
       "      <td>10.0</td>\n",
       "      <td>10.0</td>\n",
       "      <td>10.0</td>\n",
       "      <td>10.0</td>\n",
       "      <td>10.0</td>\n",
       "      <td>10.0</td>\n",
       "      <td>10.0</td>\n",
       "      <td>10.0</td>\n",
       "      <td>10.0</td>\n",
       "      <td>10.0</td>\n",
       "      <td>10.0</td>\n",
       "      <td>10.0</td>\n",
       "      <td>10.0</td>\n",
       "    </tr>\n",
       "    <tr>\n",
       "      <th>4</th>\n",
       "      <td>2016</td>\n",
       "      <td>Armenia</td>\n",
       "      <td>Caucasus &amp; Central Asia</td>\n",
       "      <td>8.333333</td>\n",
       "      <td>10.0</td>\n",
       "      <td>5.0</td>\n",
       "      <td>10.0</td>\n",
       "      <td>10.0</td>\n",
       "      <td>10.0</td>\n",
       "      <td>10.0</td>\n",
       "      <td>7.0</td>\n",
       "      <td>10.0</td>\n",
       "      <td>10.0</td>\n",
       "      <td>10.0</td>\n",
       "      <td>10.0</td>\n",
       "      <td>10.0</td>\n",
       "      <td>10.0</td>\n",
       "      <td>5.0</td>\n",
       "    </tr>\n",
       "  </tbody>\n",
       "</table>\n",
       "</div>"
      ],
      "text/plain": [
       "   year  countries                         region  Women_Safety_Security  \\\n",
       "0  2016    Albania                 Eastern Europe               7.500000   \n",
       "1  2016    Algeria     Middle East & North Africa               5.833333   \n",
       "2  2016     Angola             Sub-Saharan Africa               8.333333   \n",
       "3  2016  Argentina  Latin America & the Caribbean              10.000000   \n",
       "4  2016    Armenia        Caucasus & Central Asia               8.333333   \n",
       "\n",
       "   Female_Genital_Mutilation  Missing_Women  Inheritance_Rights  \\\n",
       "0                       10.0            7.5                 5.0   \n",
       "1                       10.0            7.5                 0.0   \n",
       "2                       10.0           10.0                 5.0   \n",
       "3                       10.0           10.0                10.0   \n",
       "4                       10.0            5.0                10.0   \n",
       "\n",
       "   Inheritance_Rights_Widows  Inheritance_Rights_Daughters  Womens_Movement  \\\n",
       "0                        5.0                           5.0              5.0   \n",
       "1                        0.0                           0.0              5.0   \n",
       "2                        5.0                           5.0             10.0   \n",
       "3                       10.0                          10.0             10.0   \n",
       "4                       10.0                          10.0             10.0   \n",
       "\n",
       "   Legal_Gender  Parental_rights  Parental_rights_marriage  \\\n",
       "0           0.0             10.0                      10.0   \n",
       "1           NaN              2.5                       0.0   \n",
       "2          10.0             10.0                      10.0   \n",
       "3          10.0             10.0                      10.0   \n",
       "4           7.0             10.0                      10.0   \n",
       "\n",
       "   Parental_rights_after_divorce  Same_sex-relationship  Same_sex_males  \\\n",
       "0                           10.0                   10.0            10.0   \n",
       "1                            5.0                    0.0             0.0   \n",
       "2                           10.0                    0.0             0.0   \n",
       "3                           10.0                   10.0            10.0   \n",
       "4                           10.0                   10.0            10.0   \n",
       "\n",
       "   Same_sex_female  Divorce  \n",
       "0             10.0      5.0  \n",
       "1              0.0      0.0  \n",
       "2              0.0     10.0  \n",
       "3             10.0     10.0  \n",
       "4             10.0      5.0  "
      ]
     },
     "execution_count": 106,
     "metadata": {},
     "output_type": "execute_result"
    }
   ],
   "source": [
    "hfi_select1 = hfi_select.rename(columns={'pf_ss_women': 'Women_Safety_Security', 'pf_ss_women_fgm': 'Female_Genital_Mutilation', 'pf_ss_women_missing': 'Missing_Women','pf_ss_women_inheritance':'Inheritance_Rights','pf_ss_women_inheritance_widows': 'Inheritance_Rights_Widows','pf_ss_women_inheritance_daughters':'Inheritance_Rights_Daughters','pf_movement_women':'Womens_Movement','pf_identity_legal':'Legal_Gender','pf_identity_parental':'Parental_rights','pf_identity_parental_marriage': 'Parental_rights_marriage','pf_identity_parental_divorce':'Parental_rights_after_divorce','pf_identity_sex':'Same_sex-relationship','pf_identity_sex_male':'Same_sex_males','pf_identity_sex_female':'Same_sex_female','pf_identity_divorce':'Divorce'})\n",
    "hfi_select1.head()"
   ]
  },
  {
   "cell_type": "code",
   "execution_count": 107,
   "metadata": {},
   "outputs": [
    {
     "data": {
      "text/plain": [
       "year                               int64\n",
       "countries                         object\n",
       "region                            object\n",
       "Women_Safety_Security            float64\n",
       "Female_Genital_Mutilation        float64\n",
       "Missing_Women                    float64\n",
       "Inheritance_Rights               float64\n",
       "Inheritance_Rights_Widows        float64\n",
       "Inheritance_Rights_Daughters     float64\n",
       "Womens_Movement                  float64\n",
       "Legal_Gender                     float64\n",
       "Parental_rights                  float64\n",
       "Parental_rights_marriage         float64\n",
       "Parental_rights_after_divorce    float64\n",
       "Same_sex-relationship            float64\n",
       "Same_sex_males                   float64\n",
       "Same_sex_female                  float64\n",
       "Divorce                          float64\n",
       "dtype: object"
      ]
     },
     "execution_count": 107,
     "metadata": {},
     "output_type": "execute_result"
    }
   ],
   "source": [
    "hfi_select1.dtypes"
   ]
  },
  {
   "cell_type": "markdown",
   "metadata": {},
   "source": [
    "Printing the data types objects makes it immediately evident that the data is mostly in forms of numbers, thus indicating much of the data has already been cleaned.  "
   ]
  },
  {
   "cell_type": "code",
   "execution_count": 108,
   "metadata": {},
   "outputs": [],
   "source": [
    "#Let us determine the percent of data missing per variable."
   ]
  },
  {
   "cell_type": "code",
   "execution_count": 109,
   "metadata": {},
   "outputs": [],
   "source": [
    "#f, ax = plt.subplots(figsize=(50,20))\n",
    "#((hfi.isnull().sum()/len(hfi)) * 100).plot(kind='bar')\n",
    "#plt.xticks(rotation=45, horizontalalignment='right')\n",
    "#plt.title('Percent Missing by Variable')"
   ]
  },
  {
   "cell_type": "code",
   "execution_count": 110,
   "metadata": {},
   "outputs": [],
   "source": [
    "# a simple scatterplot \n",
    "\n",
    "#hfi.plot.scatter('pf_score', 'ef_score')"
   ]
  },
  {
   "cell_type": "code",
   "execution_count": 111,
   "metadata": {},
   "outputs": [],
   "source": [
    "#hfi.plot.scatter('pf_identity_sex_male', 'pf_identity_sex')"
   ]
  },
  {
   "cell_type": "markdown",
   "metadata": {},
   "source": [
    "To start off we can first lay out the number of countries represented by region through this bar plot from 2008-2016."
   ]
  },
  {
   "cell_type": "code",
   "execution_count": 112,
   "metadata": {},
   "outputs": [],
   "source": [
    "#hfi.region.value_counts().plot(kind='bar') \n",
    "#plt.xticks()"
   ]
  },
  {
   "cell_type": "code",
   "execution_count": 113,
   "metadata": {},
   "outputs": [],
   "source": [
    "#hfi[''].value_counts().plot(kind='bar')"
   ]
  },
  {
   "cell_type": "code",
   "execution_count": 114,
   "metadata": {},
   "outputs": [
    {
     "data": {
      "text/html": [
       "<div>\n",
       "<style scoped>\n",
       "    .dataframe tbody tr th:only-of-type {\n",
       "        vertical-align: middle;\n",
       "    }\n",
       "\n",
       "    .dataframe tbody tr th {\n",
       "        vertical-align: top;\n",
       "    }\n",
       "\n",
       "    .dataframe thead th {\n",
       "        text-align: right;\n",
       "    }\n",
       "</style>\n",
       "<table border=\"1\" class=\"dataframe\">\n",
       "  <thead>\n",
       "    <tr style=\"text-align: right;\">\n",
       "      <th></th>\n",
       "      <th>year</th>\n",
       "      <th>countries</th>\n",
       "      <th>region</th>\n",
       "      <th>Women_Safety_Security</th>\n",
       "      <th>Female_Genital_Mutilation</th>\n",
       "      <th>Missing_Women</th>\n",
       "      <th>Inheritance_Rights</th>\n",
       "      <th>Inheritance_Rights_Widows</th>\n",
       "      <th>Inheritance_Rights_Daughters</th>\n",
       "      <th>Womens_Movement</th>\n",
       "      <th>Legal_Gender</th>\n",
       "      <th>Parental_rights</th>\n",
       "      <th>Parental_rights_marriage</th>\n",
       "      <th>Parental_rights_after_divorce</th>\n",
       "      <th>Same_sex-relationship</th>\n",
       "      <th>Same_sex_males</th>\n",
       "      <th>Same_sex_female</th>\n",
       "      <th>Divorce</th>\n",
       "    </tr>\n",
       "  </thead>\n",
       "  <tbody>\n",
       "    <tr>\n",
       "      <th>65</th>\n",
       "      <td>2016</td>\n",
       "      <td>Iceland</td>\n",
       "      <td>Western Europe</td>\n",
       "      <td>10.000000</td>\n",
       "      <td>10.0</td>\n",
       "      <td>10.0</td>\n",
       "      <td>10.0</td>\n",
       "      <td>10.0</td>\n",
       "      <td>10.0</td>\n",
       "      <td>10.0</td>\n",
       "      <td>7.0</td>\n",
       "      <td>10.0</td>\n",
       "      <td>10.0</td>\n",
       "      <td>10.0</td>\n",
       "      <td>10.0</td>\n",
       "      <td>10.0</td>\n",
       "      <td>10.0</td>\n",
       "      <td>10.0</td>\n",
       "    </tr>\n",
       "    <tr>\n",
       "      <th>148</th>\n",
       "      <td>2016</td>\n",
       "      <td>Trinidad and Tobago</td>\n",
       "      <td>Latin America &amp; the Caribbean</td>\n",
       "      <td>8.333333</td>\n",
       "      <td>10.0</td>\n",
       "      <td>10.0</td>\n",
       "      <td>5.0</td>\n",
       "      <td>5.0</td>\n",
       "      <td>5.0</td>\n",
       "      <td>10.0</td>\n",
       "      <td>NaN</td>\n",
       "      <td>10.0</td>\n",
       "      <td>10.0</td>\n",
       "      <td>10.0</td>\n",
       "      <td>0.0</td>\n",
       "      <td>0.0</td>\n",
       "      <td>0.0</td>\n",
       "      <td>10.0</td>\n",
       "    </tr>\n",
       "    <tr>\n",
       "      <th>100</th>\n",
       "      <td>2016</td>\n",
       "      <td>Montenegro</td>\n",
       "      <td>Eastern Europe</td>\n",
       "      <td>NaN</td>\n",
       "      <td>NaN</td>\n",
       "      <td>NaN</td>\n",
       "      <td>NaN</td>\n",
       "      <td>NaN</td>\n",
       "      <td>NaN</td>\n",
       "      <td>NaN</td>\n",
       "      <td>7.0</td>\n",
       "      <td>10.0</td>\n",
       "      <td>10.0</td>\n",
       "      <td>10.0</td>\n",
       "      <td>10.0</td>\n",
       "      <td>10.0</td>\n",
       "      <td>10.0</td>\n",
       "      <td>NaN</td>\n",
       "    </tr>\n",
       "    <tr>\n",
       "      <th>77</th>\n",
       "      <td>2016</td>\n",
       "      <td>Kenya</td>\n",
       "      <td>Sub-Saharan Africa</td>\n",
       "      <td>6.600000</td>\n",
       "      <td>7.3</td>\n",
       "      <td>7.5</td>\n",
       "      <td>5.0</td>\n",
       "      <td>5.0</td>\n",
       "      <td>5.0</td>\n",
       "      <td>10.0</td>\n",
       "      <td>10.0</td>\n",
       "      <td>5.0</td>\n",
       "      <td>5.0</td>\n",
       "      <td>5.0</td>\n",
       "      <td>5.0</td>\n",
       "      <td>0.0</td>\n",
       "      <td>10.0</td>\n",
       "      <td>10.0</td>\n",
       "    </tr>\n",
       "    <tr>\n",
       "      <th>66</th>\n",
       "      <td>2016</td>\n",
       "      <td>India</td>\n",
       "      <td>South Asia</td>\n",
       "      <td>6.666667</td>\n",
       "      <td>10.0</td>\n",
       "      <td>5.0</td>\n",
       "      <td>5.0</td>\n",
       "      <td>5.0</td>\n",
       "      <td>5.0</td>\n",
       "      <td>10.0</td>\n",
       "      <td>7.0</td>\n",
       "      <td>5.0</td>\n",
       "      <td>5.0</td>\n",
       "      <td>5.0</td>\n",
       "      <td>5.0</td>\n",
       "      <td>0.0</td>\n",
       "      <td>10.0</td>\n",
       "      <td>5.0</td>\n",
       "    </tr>\n",
       "  </tbody>\n",
       "</table>\n",
       "</div>"
      ],
      "text/plain": [
       "     year            countries                         region  \\\n",
       "65   2016              Iceland                 Western Europe   \n",
       "148  2016  Trinidad and Tobago  Latin America & the Caribbean   \n",
       "100  2016           Montenegro                 Eastern Europe   \n",
       "77   2016                Kenya             Sub-Saharan Africa   \n",
       "66   2016                India                     South Asia   \n",
       "\n",
       "     Women_Safety_Security  Female_Genital_Mutilation  Missing_Women  \\\n",
       "65               10.000000                       10.0           10.0   \n",
       "148               8.333333                       10.0           10.0   \n",
       "100                    NaN                        NaN            NaN   \n",
       "77                6.600000                        7.3            7.5   \n",
       "66                6.666667                       10.0            5.0   \n",
       "\n",
       "     Inheritance_Rights  Inheritance_Rights_Widows  \\\n",
       "65                 10.0                       10.0   \n",
       "148                 5.0                        5.0   \n",
       "100                 NaN                        NaN   \n",
       "77                  5.0                        5.0   \n",
       "66                  5.0                        5.0   \n",
       "\n",
       "     Inheritance_Rights_Daughters  Womens_Movement  Legal_Gender  \\\n",
       "65                           10.0             10.0           7.0   \n",
       "148                           5.0             10.0           NaN   \n",
       "100                           NaN              NaN           7.0   \n",
       "77                            5.0             10.0          10.0   \n",
       "66                            5.0             10.0           7.0   \n",
       "\n",
       "     Parental_rights  Parental_rights_marriage  Parental_rights_after_divorce  \\\n",
       "65              10.0                      10.0                           10.0   \n",
       "148             10.0                      10.0                           10.0   \n",
       "100             10.0                      10.0                           10.0   \n",
       "77               5.0                       5.0                            5.0   \n",
       "66               5.0                       5.0                            5.0   \n",
       "\n",
       "     Same_sex-relationship  Same_sex_males  Same_sex_female  Divorce  \n",
       "65                    10.0            10.0             10.0     10.0  \n",
       "148                    0.0             0.0              0.0     10.0  \n",
       "100                   10.0            10.0             10.0      NaN  \n",
       "77                     5.0             0.0             10.0     10.0  \n",
       "66                     5.0             0.0             10.0      5.0  "
      ]
     },
     "execution_count": 114,
     "metadata": {},
     "output_type": "execute_result"
    }
   ],
   "source": [
    "#filter to only focus on 2016 data\n",
    "filter1 = hfi_select1.year == 2016\n",
    "hfi2016 = hfi_select1[filter1]\n",
    "hfi2016.sample(5)"
   ]
  },
  {
   "cell_type": "code",
   "execution_count": 115,
   "metadata": {},
   "outputs": [
    {
     "data": {
      "text/html": [
       "<div>\n",
       "<style scoped>\n",
       "    .dataframe tbody tr th:only-of-type {\n",
       "        vertical-align: middle;\n",
       "    }\n",
       "\n",
       "    .dataframe tbody tr th {\n",
       "        vertical-align: top;\n",
       "    }\n",
       "\n",
       "    .dataframe thead th {\n",
       "        text-align: right;\n",
       "    }\n",
       "</style>\n",
       "<table border=\"1\" class=\"dataframe\">\n",
       "  <thead>\n",
       "    <tr style=\"text-align: right;\">\n",
       "      <th></th>\n",
       "      <th>year</th>\n",
       "      <th>countries</th>\n",
       "      <th>region</th>\n",
       "      <th>Women_Safety_Security</th>\n",
       "      <th>Female_Genital_Mutilation</th>\n",
       "      <th>Missing_Women</th>\n",
       "      <th>Inheritance_Rights</th>\n",
       "      <th>Inheritance_Rights_Widows</th>\n",
       "      <th>Inheritance_Rights_Daughters</th>\n",
       "      <th>Womens_Movement</th>\n",
       "      <th>Legal_Gender</th>\n",
       "      <th>Parental_rights</th>\n",
       "      <th>Parental_rights_marriage</th>\n",
       "      <th>Parental_rights_after_divorce</th>\n",
       "      <th>Same_sex-relationship</th>\n",
       "      <th>Same_sex_males</th>\n",
       "      <th>Same_sex_female</th>\n",
       "      <th>Divorce</th>\n",
       "    </tr>\n",
       "  </thead>\n",
       "  <tbody>\n",
       "    <tr>\n",
       "      <th>84</th>\n",
       "      <td>2016</td>\n",
       "      <td>Lesotho</td>\n",
       "      <td>Sub-Saharan Africa</td>\n",
       "      <td>7.500000</td>\n",
       "      <td>10.0</td>\n",
       "      <td>7.5</td>\n",
       "      <td>5.0</td>\n",
       "      <td>5.0</td>\n",
       "      <td>5.0</td>\n",
       "      <td>10.0</td>\n",
       "      <td>0.0</td>\n",
       "      <td>7.5</td>\n",
       "      <td>5.0</td>\n",
       "      <td>10.0</td>\n",
       "      <td>10.0</td>\n",
       "      <td>10.0</td>\n",
       "      <td>10.0</td>\n",
       "      <td>5.0</td>\n",
       "    </tr>\n",
       "    <tr>\n",
       "      <th>93</th>\n",
       "      <td>2016</td>\n",
       "      <td>Mali</td>\n",
       "      <td>Sub-Saharan Africa</td>\n",
       "      <td>4.533333</td>\n",
       "      <td>1.1</td>\n",
       "      <td>7.5</td>\n",
       "      <td>5.0</td>\n",
       "      <td>5.0</td>\n",
       "      <td>5.0</td>\n",
       "      <td>5.0</td>\n",
       "      <td>NaN</td>\n",
       "      <td>0.0</td>\n",
       "      <td>0.0</td>\n",
       "      <td>0.0</td>\n",
       "      <td>10.0</td>\n",
       "      <td>10.0</td>\n",
       "      <td>10.0</td>\n",
       "      <td>5.0</td>\n",
       "    </tr>\n",
       "    <tr>\n",
       "      <th>51</th>\n",
       "      <td>2016</td>\n",
       "      <td>Gabon</td>\n",
       "      <td>Sub-Saharan Africa</td>\n",
       "      <td>8.333333</td>\n",
       "      <td>10.0</td>\n",
       "      <td>7.5</td>\n",
       "      <td>7.5</td>\n",
       "      <td>10.0</td>\n",
       "      <td>5.0</td>\n",
       "      <td>0.0</td>\n",
       "      <td>NaN</td>\n",
       "      <td>0.0</td>\n",
       "      <td>0.0</td>\n",
       "      <td>0.0</td>\n",
       "      <td>10.0</td>\n",
       "      <td>10.0</td>\n",
       "      <td>10.0</td>\n",
       "      <td>0.0</td>\n",
       "    </tr>\n",
       "    <tr>\n",
       "      <th>77</th>\n",
       "      <td>2016</td>\n",
       "      <td>Kenya</td>\n",
       "      <td>Sub-Saharan Africa</td>\n",
       "      <td>6.600000</td>\n",
       "      <td>7.3</td>\n",
       "      <td>7.5</td>\n",
       "      <td>5.0</td>\n",
       "      <td>5.0</td>\n",
       "      <td>5.0</td>\n",
       "      <td>10.0</td>\n",
       "      <td>10.0</td>\n",
       "      <td>5.0</td>\n",
       "      <td>5.0</td>\n",
       "      <td>5.0</td>\n",
       "      <td>5.0</td>\n",
       "      <td>0.0</td>\n",
       "      <td>10.0</td>\n",
       "      <td>10.0</td>\n",
       "    </tr>\n",
       "    <tr>\n",
       "      <th>136</th>\n",
       "      <td>2016</td>\n",
       "      <td>Sudan</td>\n",
       "      <td>Sub-Saharan Africa</td>\n",
       "      <td>3.733333</td>\n",
       "      <td>1.2</td>\n",
       "      <td>10.0</td>\n",
       "      <td>0.0</td>\n",
       "      <td>0.0</td>\n",
       "      <td>0.0</td>\n",
       "      <td>0.0</td>\n",
       "      <td>NaN</td>\n",
       "      <td>0.0</td>\n",
       "      <td>0.0</td>\n",
       "      <td>0.0</td>\n",
       "      <td>0.0</td>\n",
       "      <td>0.0</td>\n",
       "      <td>0.0</td>\n",
       "      <td>0.0</td>\n",
       "    </tr>\n",
       "  </tbody>\n",
       "</table>\n",
       "</div>"
      ],
      "text/plain": [
       "     year countries              region  Women_Safety_Security  \\\n",
       "84   2016   Lesotho  Sub-Saharan Africa               7.500000   \n",
       "93   2016      Mali  Sub-Saharan Africa               4.533333   \n",
       "51   2016     Gabon  Sub-Saharan Africa               8.333333   \n",
       "77   2016     Kenya  Sub-Saharan Africa               6.600000   \n",
       "136  2016     Sudan  Sub-Saharan Africa               3.733333   \n",
       "\n",
       "     Female_Genital_Mutilation  Missing_Women  Inheritance_Rights  \\\n",
       "84                        10.0            7.5                 5.0   \n",
       "93                         1.1            7.5                 5.0   \n",
       "51                        10.0            7.5                 7.5   \n",
       "77                         7.3            7.5                 5.0   \n",
       "136                        1.2           10.0                 0.0   \n",
       "\n",
       "     Inheritance_Rights_Widows  Inheritance_Rights_Daughters  Womens_Movement  \\\n",
       "84                         5.0                           5.0             10.0   \n",
       "93                         5.0                           5.0              5.0   \n",
       "51                        10.0                           5.0              0.0   \n",
       "77                         5.0                           5.0             10.0   \n",
       "136                        0.0                           0.0              0.0   \n",
       "\n",
       "     Legal_Gender  Parental_rights  Parental_rights_marriage  \\\n",
       "84            0.0              7.5                       5.0   \n",
       "93            NaN              0.0                       0.0   \n",
       "51            NaN              0.0                       0.0   \n",
       "77           10.0              5.0                       5.0   \n",
       "136           NaN              0.0                       0.0   \n",
       "\n",
       "     Parental_rights_after_divorce  Same_sex-relationship  Same_sex_males  \\\n",
       "84                            10.0                   10.0            10.0   \n",
       "93                             0.0                   10.0            10.0   \n",
       "51                             0.0                   10.0            10.0   \n",
       "77                             5.0                    5.0             0.0   \n",
       "136                            0.0                    0.0             0.0   \n",
       "\n",
       "     Same_sex_female  Divorce  \n",
       "84              10.0      5.0  \n",
       "93              10.0      5.0  \n",
       "51              10.0      0.0  \n",
       "77              10.0     10.0  \n",
       "136              0.0      0.0  "
      ]
     },
     "execution_count": 115,
     "metadata": {},
     "output_type": "execute_result"
    }
   ],
   "source": [
    "#filter to only focuus on 2016 data\n",
    "filter1 = hfi_select1.year == 2016\n",
    "filter2 = hfi_select1.region == 'Sub-Saharan Africa'\n",
    "hfi2016Af = hfi_select1[filter1 & filter2]\n",
    "hfi2016Af.sample(5)"
   ]
  },
  {
   "cell_type": "markdown",
   "metadata": {},
   "source": [
    "Diving into gender equality, let us understand observe the equality of parental rights between males and females in various regions around the world.  "
   ]
  },
  {
   "cell_type": "code",
   "execution_count": 116,
   "metadata": {},
   "outputs": [],
   "source": [
    "#hfi2016Af.plot.scatter('pf_ss_women', 'pf_movement_women')"
   ]
  },
  {
   "cell_type": "code",
   "execution_count": 117,
   "metadata": {},
   "outputs": [],
   "source": [
    "#sub['mean'] = sub['density'].mean()\n",
    "#plt.plot(sub['name'], sub['density'], 'ro')\n",
    "#plt.plot(sub['name'], sub['mean'], linestyle = '--')\n",
    "#plt.xticks(fontsize = 8, rotation = 'vertical')"
   ]
  },
  {
   "cell_type": "code",
   "execution_count": 118,
   "metadata": {},
   "outputs": [
    {
     "data": {
      "text/plain": [
       "(array([0, 1, 2, 3, 4, 5, 6, 7, 8, 9]), <a list of 10 Text xticklabel objects>)"
      ]
     },
     "execution_count": 118,
     "metadata": {},
     "output_type": "execute_result"
    },
    {
     "data": {
      "image/png": "[encoded data removed]",
      "text/plain": [
       "<Figure size 432x288 with 1 Axes>"
      ]
     },
     "metadata": {
      "needs_background": "light"
     },
     "output_type": "display_data"
    }
   ],
   "source": [
    "hfi2016.region.value_counts().plot(kind='bar') \n",
    "plt.xticks()"
   ]
  },
  {
   "cell_type": "code",
   "execution_count": 119,
   "metadata": {},
   "outputs": [
    {
     "data": {
      "text/plain": [
       "<matplotlib.axes._subplots.AxesSubplot at 0x1a1958df28>"
      ]
     },
     "execution_count": 119,
     "metadata": {},
     "output_type": "execute_result"
    },
    {
     "data": {
      "image/png": "[encoded data removed]",
      "text/plain": [
       "<Figure size 432x288 with 1 Axes>"
      ]
     },
     "metadata": {
      "needs_background": "light"
     },
     "output_type": "display_data"
    }
   ],
   "source": [
    "sns.heatmap(hfi_select1.groupby(['year', 'region'])['Parental_rights'].mean().unstack(),\n",
    "annot=True, cbar=False, fmt='.0f', cmap='RdBu_r')"
   ]
  },
  {
   "cell_type": "markdown",
   "metadata": {},
   "source": [
    "According to the Human Freedom Report, \"Parental rights refers to the extent to which women have equal rights based in law and custom regarding “legal guardianship of a child during a marriage and custody rights over a child after divorce.”\""
   ]
  },
  {
   "cell_type": "markdown",
   "metadata": {},
   "source": [
    "That being said, we can divide the rights parental rights in regards to legal guardianship of a child during a marriiage as compared to after a divorce.  This heat map below shows that in most regions, females equal rights to guardianship of their children during marriage.  However, in regions such as the Middle East & North Africa, South Asia, and Sub Saharuan Africa, there represents more of an imbalance."
   ]
  },
  {
   "cell_type": "code",
   "execution_count": 120,
   "metadata": {},
   "outputs": [
    {
     "data": {
      "text/plain": [
       "<matplotlib.axes._subplots.AxesSubplot at 0x1a1965bef0>"
      ]
     },
     "execution_count": 120,
     "metadata": {},
     "output_type": "execute_result"
    },
    {
     "data": {
      "image/png": "[encoded data removed]",
      "text/plain": [
       "<Figure size 432x288 with 1 Axes>"
      ]
     },
     "metadata": {
      "needs_background": "light"
     },
     "output_type": "display_data"
    }
   ],
   "source": [
    "sns.heatmap(hfi_select1.groupby(['year', 'region'])['Parental_rights_marriage'].mean().unstack(),\n",
    "annot=True, cbar=False, fmt='.0f', cmap='RdBu_r')"
   ]
  },
  {
   "cell_type": "markdown",
   "metadata": {},
   "source": [
    "The same analysis can also be done with parental rights after divorces.  The trend appears to be similar to that of parental rights during marriages, but what is most surprising is found in the Middle East & North Africa catagory.  The ranking drops from a 5 to a 2 between 2012 and 2013 indicating a setback with progression toward equality in this region."
   ]
  },
  {
   "cell_type": "code",
   "execution_count": 121,
   "metadata": {},
   "outputs": [
    {
     "data": {
      "text/plain": [
       "<matplotlib.axes._subplots.AxesSubplot at 0x1a1e25d978>"
      ]
     },
     "execution_count": 121,
     "metadata": {},
     "output_type": "execute_result"
    },
    {
     "data": {
      "image/png": "[encoded data removed]",
      "text/plain": [
       "<Figure size 432x288 with 1 Axes>"
      ]
     },
     "metadata": {
      "needs_background": "light"
     },
     "output_type": "display_data"
    }
   ],
   "source": [
    "sns.heatmap(hfi_select1.groupby(['year', 'region'])['Parental_rights_after_divorce'].mean().unstack(),\n",
    "annot=True, cbar=False, fmt='.0f', cmap='RdBu_r')"
   ]
  },
  {
   "cell_type": "markdown",
   "metadata": {},
   "source": [
    "Question: Which regions have the greatest amount of freedom in regards to same sex marriage?"
   ]
  },
  {
   "cell_type": "code",
   "execution_count": 122,
   "metadata": {},
   "outputs": [
    {
     "data": {
      "text/plain": [
       "<matplotlib.axes._subplots.AxesSubplot at 0x1a1e2b7208>"
      ]
     },
     "execution_count": 122,
     "metadata": {},
     "output_type": "execute_result"
    },
    {
     "data": {
      "image/png": "[encoded data removed]",
      "text/plain": [
       "<Figure size 432x288 with 1 Axes>"
      ]
     },
     "metadata": {
      "needs_background": "light"
     },
     "output_type": "display_data"
    }
   ],
   "source": [
    "sns.heatmap( hfi_select1.groupby(['year', 'region'])['Same_sex-relationship'].mean().unstack(),\n",
    "annot=True, cbar=False, fmt='.0f', cmap='RdBu_r')"
   ]
  },
  {
   "cell_type": "markdown",
   "metadata": {},
   "source": [
    "From this heat map, we can see that the regions struggle with equality "
   ]
  },
  {
   "cell_type": "code",
   "execution_count": 123,
   "metadata": {},
   "outputs": [
    {
     "data": {
      "text/plain": [
       "<matplotlib.axes._subplots.AxesSubplot at 0x1a1e305eb8>"
      ]
     },
     "execution_count": 123,
     "metadata": {},
     "output_type": "execute_result"
    },
    {
     "data": {
      "image/png": "[encoded data removed]",
      "text/plain": [
       "<Figure size 432x288 with 1 Axes>"
      ]
     },
     "metadata": {
      "needs_background": "light"
     },
     "output_type": "display_data"
    }
   ],
   "source": [
    "sns.heatmap(hfi_select1.groupby(['year', 'region'])['Same_sex_males'].mean().unstack(),\n",
    "annot=True, cbar=False, fmt='.0f', cmap='RdBu_r')"
   ]
  },
  {
   "cell_type": "code",
   "execution_count": 124,
   "metadata": {},
   "outputs": [
    {
     "data": {
      "text/plain": [
       "<matplotlib.axes._subplots.AxesSubplot at 0x1a1e5f59b0>"
      ]
     },
     "execution_count": 124,
     "metadata": {},
     "output_type": "execute_result"
    },
    {
     "data": {
      "image/png": "[encoded data removed]",
      "text/plain": [
       "<Figure size 432x288 with 1 Axes>"
      ]
     },
     "metadata": {
      "needs_background": "light"
     },
     "output_type": "display_data"
    }
   ],
   "source": [
    "sns.heatmap(hfi_select1.groupby(['year', 'region'])['Same_sex_female'].mean().unstack(),\n",
    "annot=True, cbar=False, fmt='.0f', cmap='RdBu_r')"
   ]
  },
  {
   "cell_type": "markdown",
   "metadata": {},
   "source": [
    "#### Merging Data"
   ]
  },
  {
   "cell_type": "code",
   "execution_count": 125,
   "metadata": {},
   "outputs": [
    {
     "data": {
      "text/html": [
       "<div>\n",
       "<style scoped>\n",
       "    .dataframe tbody tr th:only-of-type {\n",
       "        vertical-align: middle;\n",
       "    }\n",
       "\n",
       "    .dataframe tbody tr th {\n",
       "        vertical-align: top;\n",
       "    }\n",
       "\n",
       "    .dataframe thead th {\n",
       "        text-align: right;\n",
       "    }\n",
       "</style>\n",
       "<table border=\"1\" class=\"dataframe\">\n",
       "  <thead>\n",
       "    <tr style=\"text-align: right;\">\n",
       "      <th></th>\n",
       "      <th>Entity</th>\n",
       "      <th>Code</th>\n",
       "      <th>Year</th>\n",
       "      <th>Women participating in major purchase decisions (% of women 15-49) (% of women age 15-49)</th>\n",
       "      <th>GDP per capita, PPP, int. $ (current international $)</th>\n",
       "      <th>Total population (Gapminder)</th>\n",
       "    </tr>\n",
       "  </thead>\n",
       "  <tbody>\n",
       "    <tr>\n",
       "      <th>0</th>\n",
       "      <td>Afghanistan</td>\n",
       "      <td>AFG</td>\n",
       "      <td>1800</td>\n",
       "      <td>NaN</td>\n",
       "      <td>NaN</td>\n",
       "      <td>3280000.0</td>\n",
       "    </tr>\n",
       "    <tr>\n",
       "      <th>1</th>\n",
       "      <td>Afghanistan</td>\n",
       "      <td>AFG</td>\n",
       "      <td>1820</td>\n",
       "      <td>NaN</td>\n",
       "      <td>NaN</td>\n",
       "      <td>3280000.0</td>\n",
       "    </tr>\n",
       "    <tr>\n",
       "      <th>2</th>\n",
       "      <td>Afghanistan</td>\n",
       "      <td>AFG</td>\n",
       "      <td>1870</td>\n",
       "      <td>NaN</td>\n",
       "      <td>NaN</td>\n",
       "      <td>4207000.0</td>\n",
       "    </tr>\n",
       "    <tr>\n",
       "      <th>3</th>\n",
       "      <td>Afghanistan</td>\n",
       "      <td>AFG</td>\n",
       "      <td>1913</td>\n",
       "      <td>NaN</td>\n",
       "      <td>NaN</td>\n",
       "      <td>5730000.0</td>\n",
       "    </tr>\n",
       "    <tr>\n",
       "      <th>4</th>\n",
       "      <td>Afghanistan</td>\n",
       "      <td>AFG</td>\n",
       "      <td>1950</td>\n",
       "      <td>NaN</td>\n",
       "      <td>NaN</td>\n",
       "      <td>8151455.0</td>\n",
       "    </tr>\n",
       "  </tbody>\n",
       "</table>\n",
       "</div>"
      ],
      "text/plain": [
       "        Entity Code  Year  \\\n",
       "0  Afghanistan  AFG  1800   \n",
       "1  Afghanistan  AFG  1820   \n",
       "2  Afghanistan  AFG  1870   \n",
       "3  Afghanistan  AFG  1913   \n",
       "4  Afghanistan  AFG  1950   \n",
       "\n",
       "   Women participating in major purchase decisions (% of women 15-49) (% of women age 15-49)  \\\n",
       "0                                                NaN                                           \n",
       "1                                                NaN                                           \n",
       "2                                                NaN                                           \n",
       "3                                                NaN                                           \n",
       "4                                                NaN                                           \n",
       "\n",
       "   GDP per capita, PPP, int. $ (current international $)  \\\n",
       "0                                                NaN       \n",
       "1                                                NaN       \n",
       "2                                                NaN       \n",
       "3                                                NaN       \n",
       "4                                                NaN       \n",
       "\n",
       "   Total population (Gapminder)  \n",
       "0                     3280000.0  \n",
       "1                     3280000.0  \n",
       "2                     4207000.0  \n",
       "3                     5730000.0  \n",
       "4                     8151455.0  "
      ]
     },
     "execution_count": 125,
     "metadata": {},
     "output_type": "execute_result"
    }
   ],
   "source": [
    "# read women purchasing power from https://ourworldindata.org/economic-inequality-by-gender\n",
    "ge = pd.read_csv('https://tufts.box.com/shared/static/ikc9nsb0red47dv5ldc0rcsv5rml681l.csv')\n",
    "ge.head()"
   ]
  },
  {
   "cell_type": "code",
   "execution_count": 126,
   "metadata": {},
   "outputs": [],
   "source": [
    "#ge.dtypes"
   ]
  },
  {
   "cell_type": "code",
   "execution_count": 127,
   "metadata": {},
   "outputs": [
    {
     "data": {
      "text/html": [
       "<div>\n",
       "<style scoped>\n",
       "    .dataframe tbody tr th:only-of-type {\n",
       "        vertical-align: middle;\n",
       "    }\n",
       "\n",
       "    .dataframe tbody tr th {\n",
       "        vertical-align: top;\n",
       "    }\n",
       "\n",
       "    .dataframe thead th {\n",
       "        text-align: right;\n",
       "    }\n",
       "</style>\n",
       "<table border=\"1\" class=\"dataframe\">\n",
       "  <thead>\n",
       "    <tr style=\"text-align: right;\">\n",
       "      <th></th>\n",
       "      <th>year</th>\n",
       "      <th>countries</th>\n",
       "      <th>region</th>\n",
       "      <th>Women_Safety_Security</th>\n",
       "      <th>Female_Genital_Mutilation</th>\n",
       "      <th>Missing_Women</th>\n",
       "      <th>Inheritance_Rights</th>\n",
       "      <th>Inheritance_Rights_Widows</th>\n",
       "      <th>Inheritance_Rights_Daughters</th>\n",
       "      <th>Womens_Movement</th>\n",
       "      <th>...</th>\n",
       "      <th>Same_sex-relationship</th>\n",
       "      <th>Same_sex_males</th>\n",
       "      <th>Same_sex_female</th>\n",
       "      <th>Divorce</th>\n",
       "      <th>Entity</th>\n",
       "      <th>Code</th>\n",
       "      <th>Year</th>\n",
       "      <th>Women participating in major purchase decisions (% of women 15-49) (% of women age 15-49)</th>\n",
       "      <th>GDP per capita, PPP, int. $ (current international $)</th>\n",
       "      <th>Total population (Gapminder)</th>\n",
       "    </tr>\n",
       "  </thead>\n",
       "  <tbody>\n",
       "    <tr>\n",
       "      <th>0</th>\n",
       "      <td>2016</td>\n",
       "      <td>Albania</td>\n",
       "      <td>Eastern Europe</td>\n",
       "      <td>7.500000</td>\n",
       "      <td>10.0</td>\n",
       "      <td>7.5</td>\n",
       "      <td>5.0</td>\n",
       "      <td>5.0</td>\n",
       "      <td>5.0</td>\n",
       "      <td>5.0</td>\n",
       "      <td>...</td>\n",
       "      <td>10.0</td>\n",
       "      <td>10.0</td>\n",
       "      <td>10.0</td>\n",
       "      <td>5.0</td>\n",
       "      <td>Albania</td>\n",
       "      <td>ALB</td>\n",
       "      <td>2016</td>\n",
       "      <td>NaN</td>\n",
       "      <td>11559.300844</td>\n",
       "      <td>NaN</td>\n",
       "    </tr>\n",
       "    <tr>\n",
       "      <th>1</th>\n",
       "      <td>2016</td>\n",
       "      <td>Algeria</td>\n",
       "      <td>Middle East &amp; North Africa</td>\n",
       "      <td>5.833333</td>\n",
       "      <td>10.0</td>\n",
       "      <td>7.5</td>\n",
       "      <td>0.0</td>\n",
       "      <td>0.0</td>\n",
       "      <td>0.0</td>\n",
       "      <td>5.0</td>\n",
       "      <td>...</td>\n",
       "      <td>0.0</td>\n",
       "      <td>0.0</td>\n",
       "      <td>0.0</td>\n",
       "      <td>0.0</td>\n",
       "      <td>Algeria</td>\n",
       "      <td>DZA</td>\n",
       "      <td>2016</td>\n",
       "      <td>NaN</td>\n",
       "      <td>15013.296380</td>\n",
       "      <td>NaN</td>\n",
       "    </tr>\n",
       "    <tr>\n",
       "      <th>2</th>\n",
       "      <td>2016</td>\n",
       "      <td>Angola</td>\n",
       "      <td>Sub-Saharan Africa</td>\n",
       "      <td>8.333333</td>\n",
       "      <td>10.0</td>\n",
       "      <td>10.0</td>\n",
       "      <td>5.0</td>\n",
       "      <td>5.0</td>\n",
       "      <td>5.0</td>\n",
       "      <td>10.0</td>\n",
       "      <td>...</td>\n",
       "      <td>0.0</td>\n",
       "      <td>0.0</td>\n",
       "      <td>0.0</td>\n",
       "      <td>10.0</td>\n",
       "      <td>Angola</td>\n",
       "      <td>AGO</td>\n",
       "      <td>2016</td>\n",
       "      <td>80.9</td>\n",
       "      <td>6440.990242</td>\n",
       "      <td>NaN</td>\n",
       "    </tr>\n",
       "    <tr>\n",
       "      <th>3</th>\n",
       "      <td>2016</td>\n",
       "      <td>Argentina</td>\n",
       "      <td>Latin America &amp; the Caribbean</td>\n",
       "      <td>10.000000</td>\n",
       "      <td>10.0</td>\n",
       "      <td>10.0</td>\n",
       "      <td>10.0</td>\n",
       "      <td>10.0</td>\n",
       "      <td>10.0</td>\n",
       "      <td>10.0</td>\n",
       "      <td>...</td>\n",
       "      <td>10.0</td>\n",
       "      <td>10.0</td>\n",
       "      <td>10.0</td>\n",
       "      <td>10.0</td>\n",
       "      <td>Argentina</td>\n",
       "      <td>ARG</td>\n",
       "      <td>2016</td>\n",
       "      <td>NaN</td>\n",
       "      <td>20042.540020</td>\n",
       "      <td>NaN</td>\n",
       "    </tr>\n",
       "    <tr>\n",
       "      <th>4</th>\n",
       "      <td>2016</td>\n",
       "      <td>Armenia</td>\n",
       "      <td>Caucasus &amp; Central Asia</td>\n",
       "      <td>8.333333</td>\n",
       "      <td>10.0</td>\n",
       "      <td>5.0</td>\n",
       "      <td>10.0</td>\n",
       "      <td>10.0</td>\n",
       "      <td>10.0</td>\n",
       "      <td>10.0</td>\n",
       "      <td>...</td>\n",
       "      <td>10.0</td>\n",
       "      <td>10.0</td>\n",
       "      <td>10.0</td>\n",
       "      <td>5.0</td>\n",
       "      <td>Armenia</td>\n",
       "      <td>ARM</td>\n",
       "      <td>2016</td>\n",
       "      <td>NaN</td>\n",
       "      <td>8832.763435</td>\n",
       "      <td>NaN</td>\n",
       "    </tr>\n",
       "  </tbody>\n",
       "</table>\n",
       "<p>5 rows × 24 columns</p>\n",
       "</div>"
      ],
      "text/plain": [
       "   year  countries                         region  Women_Safety_Security  \\\n",
       "0  2016    Albania                 Eastern Europe               7.500000   \n",
       "1  2016    Algeria     Middle East & North Africa               5.833333   \n",
       "2  2016     Angola             Sub-Saharan Africa               8.333333   \n",
       "3  2016  Argentina  Latin America & the Caribbean              10.000000   \n",
       "4  2016    Armenia        Caucasus & Central Asia               8.333333   \n",
       "\n",
       "   Female_Genital_Mutilation  Missing_Women  Inheritance_Rights  \\\n",
       "0                       10.0            7.5                 5.0   \n",
       "1                       10.0            7.5                 0.0   \n",
       "2                       10.0           10.0                 5.0   \n",
       "3                       10.0           10.0                10.0   \n",
       "4                       10.0            5.0                10.0   \n",
       "\n",
       "   Inheritance_Rights_Widows  Inheritance_Rights_Daughters  Womens_Movement  \\\n",
       "0                        5.0                           5.0              5.0   \n",
       "1                        0.0                           0.0              5.0   \n",
       "2                        5.0                           5.0             10.0   \n",
       "3                       10.0                          10.0             10.0   \n",
       "4                       10.0                          10.0             10.0   \n",
       "\n",
       "              ...               Same_sex-relationship  Same_sex_males  \\\n",
       "0             ...                                10.0            10.0   \n",
       "1             ...                                 0.0             0.0   \n",
       "2             ...                                 0.0             0.0   \n",
       "3             ...                                10.0            10.0   \n",
       "4             ...                                10.0            10.0   \n",
       "\n",
       "   Same_sex_female  Divorce     Entity  Code  Year  \\\n",
       "0             10.0      5.0    Albania   ALB  2016   \n",
       "1              0.0      0.0    Algeria   DZA  2016   \n",
       "2              0.0     10.0     Angola   AGO  2016   \n",
       "3             10.0     10.0  Argentina   ARG  2016   \n",
       "4             10.0      5.0    Armenia   ARM  2016   \n",
       "\n",
       "   Women participating in major purchase decisions (% of women 15-49) (% of women age 15-49)  \\\n",
       "0                                                NaN                                           \n",
       "1                                                NaN                                           \n",
       "2                                               80.9                                           \n",
       "3                                                NaN                                           \n",
       "4                                                NaN                                           \n",
       "\n",
       "  GDP per capita, PPP, int. $ (current international $)  \\\n",
       "0                                       11559.300844      \n",
       "1                                       15013.296380      \n",
       "2                                        6440.990242      \n",
       "3                                       20042.540020      \n",
       "4                                        8832.763435      \n",
       "\n",
       "  Total population (Gapminder)  \n",
       "0                          NaN  \n",
       "1                          NaN  \n",
       "2                          NaN  \n",
       "3                          NaN  \n",
       "4                          NaN  \n",
       "\n",
       "[5 rows x 24 columns]"
      ]
     },
     "execution_count": 127,
     "metadata": {},
     "output_type": "execute_result"
    }
   ],
   "source": [
    "mergedata = hfi_select1.merge(ge, left_on=[\"year\", \"countries\"], right_on=[\"Year\", \"Entity\"], suffixes=(False, False))\n",
    "mergedata.head()"
   ]
  },
  {
   "cell_type": "markdown",
   "metadata": {},
   "source": [
    "By merging these two datasets, we can also compare how women in various countries are given the opportunity to participate in purchase descision within their marriages."
   ]
  },
  {
   "cell_type": "code",
   "execution_count": 128,
   "metadata": {},
   "outputs": [],
   "source": [
    "#mergedata.dtypes"
   ]
  },
  {
   "cell_type": "markdown",
   "metadata": {},
   "source": [
    "supervised learning - Scikit.learn \n"
   ]
  },
  {
   "cell_type": "code",
   "execution_count": 129,
   "metadata": {},
   "outputs": [],
   "source": [
    "#hfi2016.plot.scatter('Inheritance_Rights', 'Parental_rights')"
   ]
  },
  {
   "cell_type": "code",
   "execution_count": 130,
   "metadata": {},
   "outputs": [
    {
     "data": {
      "text/plain": [
       "Text(0, 0.5, 'Parental Rights')"
      ]
     },
     "execution_count": 130,
     "metadata": {},
     "output_type": "execute_result"
    },
    {
     "data": {
      "image/png": "[encoded data removed]",
      "text/plain": [
       "<Figure size 468x468 with 1 Axes>"
      ]
     },
     "metadata": {
      "needs_background": "light"
     },
     "output_type": "display_data"
    }
   ],
   "source": [
    "f, ax = plt.subplots(figsize=(6.5,6.5))\n",
    "sns.boxplot(x=\"Inheritance_Rights\", y=\"Parental_rights\", data=hfi2016, fliersize=0.5, linewidth=0.75, ax=ax)\n",
    "\n",
    "#ax.set_title('axes title')\n",
    "ax.set_xlabel('Women Inheritance')\n",
    "ax.set_ylabel('Parental Rights')"
   ]
  },
  {
   "cell_type": "code",
   "execution_count": 131,
   "metadata": {},
   "outputs": [],
   "source": [
    "#filter to only focuus on 2016 data in merged\n",
    "#filtermerge1 = mergedata.year == 2016\n",
    "#merge2016 = mergedata[filter1]\n",
    "#mergedata.sample(5)"
   ]
  },
  {
   "cell_type": "code",
   "execution_count": 132,
   "metadata": {},
   "outputs": [
    {
     "data": {
      "text/plain": [
       "<matplotlib.axes._subplots.AxesSubplot at 0x1a1efc64e0>"
      ]
     },
     "execution_count": 132,
     "metadata": {},
     "output_type": "execute_result"
    },
    {
     "data": {
      "image/png": "[encoded data removed]",
      "text/plain": [
       "<Figure size 432x288 with 1 Axes>"
      ]
     },
     "metadata": {
      "needs_background": "light"
     },
     "output_type": "display_data"
    }
   ],
   "source": [
    "sns.heatmap(hfi_select1.groupby(['year', 'region'])['Inheritance_Rights'].mean().unstack(),\n",
    "annot=True, cbar=False, fmt='.0f', cmap='RdBu_r')"
   ]
  },
  {
   "cell_type": "code",
   "execution_count": null,
   "metadata": {},
   "outputs": [],
   "source": []
  }
 ],
 "metadata": {
  "kernelspec": {
   "display_name": "Python 3",
   "language": "python",
   "name": "python3"
  },
  "language_info": {
   "codemirror_mode": {
    "name": "ipython",
    "version": 3
   },
   "file_extension": ".py",
   "mimetype": "text/x-python",
   "name": "python",
   "nbconvert_exporter": "python",
   "pygments_lexer": "ipython3",
   "version": "3.7.1"
  }
 },
 "nbformat": 4,
 "nbformat_minor": 2
}
