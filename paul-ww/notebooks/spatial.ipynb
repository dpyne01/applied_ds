{
  "cells": [
    {
      "cell_type": "markdown",
      "source": [
        "### Spatial Visualization\n",
        " Since I am dealing with geographic instances (districts of Hamburg),\n",
        " it would be neat to be able to visualize my findings on a map of the city.\n",
        " In order to do this, I need to import Geopandas, which is meant to extend\n",
        " pandas' capabilities to geo-data. The shapefiles that I'm using can be\n",
        " downloaded from [here](https://opendata.arcgis.com/datasets/8437e52c5e2d4963b6098accf571a891_0.zip)\n",
        " and the data is described [here](https://opendata-esri-de.opendata.arcgis.com/datasets/8437e52c5e2d4963b6098accf571a891_0)"
      ],
      "metadata": {}
    },
    {
      "cell_type": "code",
      "source": [
        "import geopandas as gpd\n",
        "import pandas as pd\n",
        "import pickle\n",
        "import matplotlib.pyplot as plt\n"
      ],
      "outputs": [],
      "execution_count": null,
      "metadata": {
        "collapsed": false,
        "outputHidden": false,
        "inputHidden": false
      }
    },
    {
      "cell_type": "markdown",
      "source": [
        "I first have to import the cleaned final dataset:"
      ],
      "metadata": {}
    },
    {
      "cell_type": "code",
      "source": [
        "dd = pd.read_pickle(\"../data/final_dataset.pkl\")\n"
      ],
      "outputs": [],
      "execution_count": null,
      "metadata": {
        "collapsed": false,
        "outputHidden": false,
        "inputHidden": false
      }
    },
    {
      "cell_type": "markdown",
      "source": [
        "Next, I also need to import the shapefiles into a Geopandas DataFrame. This\n",
        "is the map of Hamburg that I would like to use for my project:"
      ],
      "metadata": {}
    },
    {
      "cell_type": "code",
      "source": [
        "gdf = gpd.read_file(\"../data/shapefiles/Stadtteile__Hamburg.shp\") # import shapefiles\n",
        "gdf.columns = [\"OBJECTID\", \"district\", \"ward\", \"Shape__Are\", \"Shape__Len\", \"Shape__A_1\", \"Shape__L_1\", \"geometry\"]\n",
        "gdf.crs # extracts the projection used\n",
        "gdf.loc[gdf.district != \"Neuwerk\"].plot(figsize=(15, 15)) # plot excludes exclave Neuwerk to show maps as large as possible\n",
        "\n"
      ],
      "outputs": [],
      "execution_count": null,
      "metadata": {
        "collapsed": false,
        "outputHidden": false,
        "inputHidden": false
      }
    },
    {
      "cell_type": "markdown",
      "source": [
        "There seem to be some wrongly encoded Umlauts in the shapefile, I will manually fix the\n",
        "encoding:"
      ],
      "metadata": {}
    },
    {
      "cell_type": "code",
      "source": [
        "changes = { \"Allermà§¼he\":\"Allermöhe\",\n",
        "            \"Eimsbbttel\":\"Eimsbüttel\",\n",
        "            \"Eimendorf\":\"Eißendorf\",\n",
        "            \"Barmbek-Sod\":\"Barmbek-Süd\",\n",
        "            \"Fuhlsbgttel\":\"Fuhlsbüttel\",\n",
        "            \"Grob Borstel\":\"Groß Borstel\",\n",
        "            \"Grob Flottbek\":\"Groß Flottbek\",\n",
        "            \"HummelsbMttel\":\"Hummelsbüttel\",\n",
        "            \"Neuallerm\":\"Neuallermöhe\",\n",
        "            \"Lohbrbgge\":\"Lohbrügge\",\n",
        "            \"Poppenbnttel\":\"Poppenbüttel\",\n",
        "            \"Rlnneburg\":\"Rönneburg\",\n",
        "            \"Sllldorf\":\"Sülldorf\",\n",
        "            \"St.Pauli\":\"St. Pauli\",\n",
        "            \"St.Georg\":\"St. Georg\",\n",
        "            \"Wellingsbittel\":\"Wellingsbüttel\",\n",
        "            }\n",
        "\n",
        "\n",
        "for key in changes:\n",
        "    gdf[\"district\"].replace(key, changes[key], inplace=True)\n",
        "\n"
      ],
      "outputs": [],
      "execution_count": null,
      "metadata": {
        "collapsed": false,
        "outputHidden": false,
        "inputHidden": false
      }
    },
    {
      "cell_type": "markdown",
      "source": [
        "Merge individual districts present in the shapefile so that aggregates from\n",
        "the profiles can be represented. The pairs of aggregated districts have\n",
        "can be extracted by comparing the district names in the final dataset and\n",
        "those found in the shapefile:"
      ],
      "metadata": {}
    },
    {
      "cell_type": "code",
      "source": [
        "check_districts = gdf.merge(        dd,\n",
        "                                    on=\"district\",\n",
        "                                    indicator=True,\n",
        "                                    how=\"outer\")\n",
        "unmatched = check_districts[check_districts[\"district\"].str.contains(\"und\")]\n",
        "means_needed = {item.split(\" und \")[0]:item.split(\" und \")[1] for item in unmatched[\"district\"][:-1]}\n",
        "means_needed\n"
      ],
      "outputs": [],
      "execution_count": null,
      "metadata": {
        "collapsed": false,
        "outputHidden": false,
        "inputHidden": false
      }
    },
    {
      "cell_type": "markdown",
      "source": [
        "I will [dissolve](http://geopandas.org/aggregation_with_dissolve.html) the corresponding districts. In order to do this, I need to create a new\n",
        "column holding the name of the new aggregated districts. Geopandas will then merge the\n",
        "polygons included in these merge names into a new, aggregated polygon encompassing both\n",
        "districts:"
      ],
      "metadata": {}
    },
    {
      "cell_type": "code",
      "source": [
        "gdf[\"merge_name\"] = \"\"\n",
        "for key in means_needed:\n",
        "    district_1 = key\n",
        "    district_2 = means_needed[key]\n",
        "    new_name = district_1 + \" und \" + district_2\n",
        "    gdf[\"merge_name\"].where(gdf.district != district_1, new_name, inplace=True)\n",
        "    gdf[\"merge_name\"].where(gdf.district != district_2, new_name, inplace=True)\n",
        "\n",
        "dissolved = gdf.dissolve(by=\"merge_name\")\n",
        "dissolved.drop(index=\"\", inplace=True)\n",
        "dissolved = dissolved.reset_index()[[\"merge_name\", \"geometry\", \"OBJECTID\"]]\n",
        "dissolved.columns = [\"district\", \"geometry\", \"OBJECTID\"]\n",
        "gdf = gdf.append(dissolved, sort=False)\n",
        "gdf.OBJECTID = range(1, len(gdf) + 1)\n",
        "gdf = gdf[[\"district\", \"geometry\", \"OBJECTID\"]]\n",
        "gdf.reset_index(drop=True, inplace=True)\n",
        "gdf[gdf[\"district\"].str.contains(\"und\")].head()\n",
        "\n"
      ],
      "outputs": [],
      "execution_count": null,
      "metadata": {
        "collapsed": false,
        "outputHidden": false,
        "inputHidden": false
      }
    },
    {
      "cell_type": "markdown",
      "source": [
        "The geodataframe now includes the aggregated districts found in the district profiles.\n",
        "Because of this, the generated map has slightly changed:"
      ],
      "metadata": {}
    },
    {
      "cell_type": "code",
      "source": [
        "gdf.loc[gdf.district != \"Neuwerk\"].plot(figsize=(15, 15)) # plot excludes exclave Neuwerk to show maps as large as possible\n",
        "\n"
      ],
      "outputs": [],
      "execution_count": null,
      "metadata": {
        "collapsed": false,
        "outputHidden": false,
        "inputHidden": false
      }
    },
    {
      "cell_type": "markdown",
      "source": [
        "I will save the cleaned dataset for now:"
      ],
      "metadata": {}
    },
    {
      "cell_type": "code",
      "source": [
        "gdf.to_pickle(\"../data/geodata.pkl\")\n",
        "\n"
      ],
      "outputs": [],
      "execution_count": null,
      "metadata": {
        "collapsed": false,
        "outputHidden": false,
        "inputHidden": false
      }
    },
    {
      "cell_type": "markdown",
      "source": [
        "In order to be able to plot any feature of my main dataset, I need to merge it\n",
        "into the GeoDataFrame:"
      ],
      "metadata": {}
    },
    {
      "cell_type": "code",
      "source": [
        "dd_geo = gdf.merge(     dd.reset_index(),\n",
        "                        on=\"district\",\n",
        "                        how=\"right\") # keep only those tiles that are contained in the district profiles\n",
        "dd_geo.set_index([\"district\", \"year\"])\n",
        "\n"
      ],
      "outputs": [],
      "execution_count": null,
      "metadata": {
        "collapsed": false,
        "outputHidden": false,
        "inputHidden": false
      }
    },
    {
      "cell_type": "markdown",
      "source": [
        "In order to make mapping a specific variable easier, I have created function that\n",
        "has many options already preset. It allows me to map a column simply by calling its\n",
        "name and the corresponding year, if applicable"
      ],
      "metadata": {}
    },
    {
      "cell_type": "code",
      "source": [
        "def map_data(col, year, suffix=\"\", colmap=\"Dark2\", year_col=\"year\", df=dd_geo, size=(16, 8)):\n",
        "    '''Plots a column for a specified year (if applicable)'''\n",
        "    # figure settings\n",
        "    fig, ax = plt.subplots(1, figsize=size)\n",
        "    ax.axis(\"off\") # disable axes\n",
        "    ax.set_title(   col, # set title\n",
        "                    fontdict={\"fontsize\":\"25\", \"fontweight\":\"3\"})\n",
        "\n",
        "    # function logic\n",
        "    cols = [col]\n",
        "    cols.append(\"geometry\")\n",
        "    params = {  \"column\":col, # column(s) to use\n",
        "                \"legend\":True, # print legend\n",
        "                \"linewidth\":0.8, # thickness of the boundaries\n",
        "                \"edgecolor\":\"0.8\", # color of the edges\n",
        "                \"ax\":ax, # define axes\n",
        "                \"vmin\":0,\n",
        "                \"vmax\":15,\n",
        "                #\"cmap\":\"Blues\", # colormap\n",
        "                }\n",
        "    if not bool(year): # if year is not required (e.g. historical data, use year=False)\n",
        "        df[cols].dropna().plot(**params)\n",
        "    else:\n",
        "        df[cols].loc[df[year_col] == year].dropna().plot(**params)\n",
        "\n",
        "    if suffix != \"\":\n",
        "        ax.annotate(suffix,\n",
        "            xy=(0.1, .15), xycoords=\"figure fraction\",\n",
        "            horizontalalignment=\"left\", verticalalignment=\"top\",\n",
        "            fontsize=20)\n",
        "        fig.savefig(\"map_\" + col + \"_\" + str(suffix) + \".png\", dpi=300) # export figure to file\n",
        "\n"
      ],
      "outputs": [],
      "execution_count": null,
      "metadata": {
        "collapsed": false,
        "outputHidden": false,
        "inputHidden": false
      }
    },
    {
      "cell_type": "markdown",
      "source": [
        "Here is some example usage:"
      ],
      "metadata": {}
    },
    {
      "cell_type": "code",
      "source": [
        "map_data(\"unemp_rel\", 2016)\n",
        "map_data(\"GV_median\", 2017)\n",
        "\n"
      ],
      "outputs": [],
      "execution_count": null,
      "metadata": {
        "collapsed": false,
        "outputHidden": false,
        "inputHidden": false
      }
    },
    {
      "cell_type": "markdown",
      "source": [
        "This cell will save multiple figures which can easily be turned into GIF:"
      ],
      "metadata": {}
    },
    {
      "cell_type": "code",
      "source": [
        "for year in range(2010, 2018):\n",
        "    map_data(\"BRW_median\", year, suffix=year)\n"
      ],
      "outputs": [],
      "execution_count": null,
      "metadata": {
        "collapsed": false,
        "outputHidden": false,
        "inputHidden": false
      }
    },
    {
      "cell_type": "markdown",
      "source": [
        "With the exported images, I used [this tutorial](https://towardsdatascience.com/how-to-make-a-gif-map-using-python-geopandas-and-matplotlib-cd8827cefbc8) to merge them together into a GIF"
      ],
      "metadata": {}
    }
  ],
  "metadata": {
    "kernelspec": {
      "argv": [
        "/Users/Paul/anaconda3/bin/python",
        "-m",
        "ipykernel_launcher",
        "-f",
        "{connection_file}"
      ],
      "display_name": "Python 3",
      "language": "python",
      "name": "python3"
    }
  },
  "nbformat": 4,
  "nbformat_minor": 0
}