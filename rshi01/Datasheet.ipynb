{
 "cells": [
  {
   "cell_type": "markdown",
   "metadata": {},
   "source": [
    "# New York City Motor Vehicle Collisions"
   ]
  },
  {
   "cell_type": "markdown",
   "metadata": {},
   "source": [
    "Rui Shi"
   ]
  },
  {
   "cell_type": "markdown",
   "metadata": {},
   "source": [
    "## I. MOTIVATION FOR DATASET CREATION"
   ]
  },
  {
   "cell_type": "markdown",
   "metadata": {},
   "source": [
    "### A. Why was the dataset created?"
   ]
  },
  {
   "cell_type": "markdown",
   "metadata": {},
   "source": [
    "This data is collected because the NYC Council passed Local Law 11 in 2011. This data is manually run every month and reviewed by the TrafficStat Unit before being posted on the NYPD website."
   ]
  },
  {
   "cell_type": "markdown",
   "metadata": {},
   "source": [
    "### B. What (other) tasks could the dataset be used for?"
   ]
  },
  {
   "cell_type": "markdown",
   "metadata": {},
   "source": [
    "This data can be used by the public to see how dan- gerous/safe intersections are in NYC. The information is presented in pdf and excel format to allow the casual user to just view the information in the easy to read pdf format or use the excel files to do a more in-depth analysis."
   ]
  },
  {
   "cell_type": "markdown",
   "metadata": {},
   "source": [
    "### C. Has the dataset been used for any tasks already?"
   ]
  },
  {
   "cell_type": "markdown",
   "metadata": {},
   "source": [
    "Yes. This dataset has been used to analysis the influence of time factors, boroughs, and locations. Also, the dataset has been analysing along with weather data to identify the influence of weather condition."
   ]
  },
  {
   "cell_type": "markdown",
   "metadata": {},
   "source": [
    "### D. Who funded the creation of the dataset?"
   ]
  },
  {
   "cell_type": "markdown",
   "metadata": {},
   "source": [
    "This dataset is founded by NYC council."
   ]
  },
  {
   "cell_type": "markdown",
   "metadata": {},
   "source": [
    "## II. DATASET COMPOSITION"
   ]
  },
  {
   "cell_type": "markdown",
   "metadata": {},
   "source": [
    "### A. What are the instances?"
   ]
  },
  {
   "cell_type": "markdown",
   "metadata": {},
   "source": [
    "Each instance represents a collision in NYC by city, borough, precinct and cross street."
   ]
  },
  {
   "cell_type": "markdown",
   "metadata": {},
   "source": [
    "### B. Are relationships between instances made explicit in the data (e.g., social network links, user/movie ratings, etc.)?"
   ]
  },
  {
   "cell_type": "markdown",
   "metadata": {},
   "source": [
    "They are all collisions happened in NYC with close accident time."
   ]
  },
  {
   "cell_type": "markdown",
   "metadata": {},
   "source": [
    "### C. How many instances of each type are there?"
   ]
  },
  {
   "cell_type": "markdown",
   "metadata": {},
   "source": [
    "There are 1.46 million instances which are collisions happened in NYC from 2014 to 2019."
   ]
  },
  {
   "cell_type": "markdown",
   "metadata": {},
   "source": [
    "### D. What data does each instance consist of?"
   ]
  },
  {
   "cell_type": "markdown",
   "metadata": {},
   "source": [
    "Each instance consists of labels indicating the collision time, location, number of person injured or killed ,and vehicle types."
   ]
  },
  {
   "cell_type": "markdown",
   "metadata": {},
   "source": [
    "### E. Is everything included or does the data rely on external resources? (e.g., websites, tweets, datasets) If external resources, a) are there guarantees that they will exist, and remain constant, over time; b) is there an official archival version. Are there licenses, fees or rights associated with any of the data?"
   ]
  },
  {
   "cell_type": "markdown",
   "metadata": {},
   "source": [
    "Everything is included."
   ]
  },
  {
   "cell_type": "markdown",
   "metadata": {},
   "source": [
    "### F. Are there recommended data splits or evaluation mea- sures? (e.g., training, development, testing; accuracy/AUC)\n",
    "Unknown."
   ]
  },
  {
   "cell_type": "markdown",
   "metadata": {},
   "source": [
    "### G. What experiments were initially run on this dataset? Have a summary of those results and, if available, provide the link to a paper with more information here.\n",
    "The dataset was originally released without reported ex- perimental results. But after the data released, there were some experiments did for analysing the trend of collision accidents in NYC."
   ]
  },
  {
   "cell_type": "markdown",
   "metadata": {},
   "source": [
    "## III. DATA COLLECTION PROCESS\n",
    "### A. How was the data collected? (e.g., hardware ap- paratus/sensor, manual human curation, software pro- gram, software interface/API; how were these con- structs/measures/methods validated?)\n",
    "This data is collected by combining data from police and from the accident and emergency department.\n",
    "### B. Who was involved in the data collection process? (e.g., students, crowd workers) How were they compensated? (e.g., how much were crowd workers paid?)\n",
    "Unknown."
   ]
  },
  {
   "cell_type": "markdown",
   "metadata": {},
   "source": [
    "### C. Over what time-frame was the data collected? Does the collection time- frame match the creation time-frame?\n",
    "The data is updated every weekday.\n",
    "### D. How was the data associated with each instance ac- quired? Was the data directly observable (e.g., raw text, movie ratings), reported by subjects (e.g., survey responses), or indirectly inferred/derived from other data (e.g., part of speech tags; model-based guesses for age or language)? If the latter two, were they validated/verified and if so how?\n",
    "The instances are depended on collisions and related accident information.\n",
    "### E. Does the dataset contain all possible instances? Or is it, for instance, a sample (not necessarily random) from a larger set of instances?\n",
    "This dataset contains all accidents happened in NYC from 2014 to 2019, and updates every weekday.\n",
    "### F. If the dataset is a sample, then what is the population? What was the sampling strategy (e.g., deterministic, proba- bilistic with specific sampling probabilities)? Is the sample representative of the larger set (e.g., geo- graphic coverage)? If not, why not (e.g., to cover a more diverse range of instances)? How does this affect possible uses?\n",
    "This dataset is not a sample."
   ]
  },
  {
   "cell_type": "markdown",
   "metadata": {},
   "source": [
    "### G. Is there information missing from the dataset and why? (this does not include intentionally dropped instances; it might include, e.g., redacted text, withheld documents) Is this data missing because it was unavailable?\n",
    "There are lots of location information missing. Some instances have part of the location information for example the latitude and longitude but miss the zip code.\n",
    "### H. Is there information missing from the dataset and why? (this does not include intentionally dropped instances; it might include, e.g., redacted text, withheld documents) Is this data missing because it was unavailable?\n",
    "No data is missing.\n",
    "### I. Are there any known errors, sources of noise, or redundancies in the data?\n",
    "No. "
   ]
  },
  {
   "cell_type": "markdown",
   "metadata": {},
   "source": [
    "## IV. DATA PROCESSING\n",
    "### A. What preprocessing/cleaning was done? (e.g., discretiza- tion or bucketing, tokenization, part-of-speech tagging, SIFT feature extraction, removal of instances, processing of miss- ing values, etc.)\n",
    "### B. Was the raw data saved in addition to the prepro- cessed/cleaned data? (e.g., to support unanticipated future uses)\n",
    "Yes.\n",
    "### C. Is the preprocessing software available?\n",
    "No.\n",
    "### D. Does this dataset collection/processing procedure achieve the motivation for creating the dataset stated in the first section of this datasheet?\n",
    "## V. DATA DISTRIBUTION\n",
    "### A. How is the dataset distributed? (e.g., website, API, etc.; does the data have a DOI; is it archived redundantly?)\n",
    "The dataset can be downloaded from new-york-city-motor- vehicle-collisions\n",
    "### B. When will the dataset be released/first distributed? (Is there a canonical paper/reference for this dataset?)\n",
    "The dataset was first released in 2014.\n",
    "### C. What license (if any) is it distributed under? Are there any copyrights on the data?\n",
    "Unknown.\n",
    "### D. Are there any fees or access/export restrictions?\n",
    "No."
   ]
  },
  {
   "cell_type": "markdown",
   "metadata": {},
   "source": [
    "## VI. DATA MAINTENANCE\n",
    "### A. Who is supporting/hosting/maintaining the dataset? How does one contact the owner/curator/manager of the dataset (e.g. email address, or other contact info)?\n",
    "TrafficStat Unit is maintaining the dataset.\n",
    "### B. Will the dataset be updated? How often and by whom? How will up- dates/revisions be documented (e.g., mailing list, GitHub)? Is there an erratum?\n",
    "This dataset is updated every weekday by TrafficStat Unit. TrafficStat Unit is maintaining the dataset.\n",
    "### C. If the dataset becomes obsolete how will this be commu- nicated?\n",
    "This will be posted on the dataset webpage.\n",
    "### D. Is there a repository to link to any/all papers/systems that use this dataset?\n",
    "Yes. The link is: https://data.cityofnewyork.us/Public-Safety/NYPD-Motor-Vehicle-Collisions/h9gi-nx95\n",
    "### E. If others want to extend/augment/build on this dataset, is there a mechanism for them to do so? If so, is there a process for tracking/assessing the quality of those contributions. What is the process for communicating/distributing these contributions to users?\n",
    "Unknown."
   ]
  },
  {
   "cell_type": "markdown",
   "metadata": {},
   "source": [
    "## VII. LEGAL & ETHICAL CONSIDERATIONS\n",
    "### A. If the dataset relates to people (e.g., their attributes) or was generated by people, were they informed about the data collection? (e.g., datasets that collect writing, photos, interactions, transactions, etc.)\n",
    "People who is involved in any accident where there is damage to the property of one individual that is more than $1,000 are required by the NY State Vehicle and Traffic Law to file an accident report. In 2012, the New York City approved Local Law 11, requiring all public data need to be made freely available on a single web portal.\n",
    "### B. If it relates to other ethically protected subjects, have appropriate obligations been met? (e.g., medical data might include information collected from animals)\n",
    "Not applicable.\n",
    "### C. If it relates to people, were there any ethical review appli- cations/reviews/approvals? (e.g. Institutional Review Board applications)\n",
    "Personal information is not included in the data. If dis- closed would result in an unwarranted invasion of personal policy, the records are deniable.\n",
    "### D. If it relates to people, were they told what the dataset would be used for and did they consent? What community norms exist for data collected from human communications? If consent was obtained, how? Were the people provided with any mechanism to revoke their consent in the future or for certain uses?\n",
    "Personal information is not included in the data. If dis- closed would result in an unwarranted invasion of personal policy, the records are deniable.\n",
    "### E. If it relates to people, could this dataset expose people to harm or legal action? (e.g., financial social or otherwise) What was done to mitigate or reduce the potential for harm?\n",
    "No. Personal information is not included in the data. If disclosed would result in an unwarranted invasion of personal policy, the records are deniable.\n",
    "### F. If it relates to people, were they provided with privacy guarantees? If so, what guarantees and how are these ensured?\n",
    "This dataset only show collision information related loca- tion and time. No information related to people is showed. Personal information is not included in the data. If disclosed would result in an unwarranted invasion of personal policy, the records are deniable.\n",
    "### G. Does the dataset comply with the EU General Data Pro- tection Regulation (GDPR)? Does it comply with any other standards, such as the US Equal Employment Opportunity Act?\n",
    "This data complies with mandares wstablished in the Open Data Law.\n",
    "### H. Does the dataset contain information that might be con- sidered sensitive or confidential? (e.g., personally identifying information)\n",
    "No.\n",
    "### I. Does the dataset contain information that might be con- sidered inappropriate or offensive?\n",
    "No."
   ]
  }
 ],
 "metadata": {
  "kernelspec": {
   "display_name": "Python 3",
   "language": "python",
   "name": "python3"
  },
  "language_info": {
   "codemirror_mode": {
    "name": "ipython",
    "version": 3
   },
   "file_extension": ".py",
   "mimetype": "text/x-python",
   "name": "python",
   "nbconvert_exporter": "python",
   "pygments_lexer": "ipython3",
   "version": "3.7.0"
  }
 },
 "nbformat": 4,
 "nbformat_minor": 2
}
